{
 "cells": [
  {
   "cell_type": "markdown",
   "metadata": {},
   "source": [
    "# Data Preparation"
   ]
  },
  {
   "cell_type": "markdown",
   "metadata": {},
   "source": [
    "### Task\n",
    "Parse the json **nyc_geo.json** into the dataframe with the following columns:\n",
    "- Borough\n",
    "- Neighborhood\n",
    "- Latitude\n",
    "- Longitude"
   ]
  },
  {
   "cell_type": "code",
   "execution_count": 311,
   "metadata": {},
   "outputs": [],
   "source": [
    "from IPython.display import JSON\n",
    "import pandas as pd\n",
    "import numpy as np\n",
    "import json\n",
    "import geopy.distance\n",
    "import requests as re\n",
    "import os\n",
    "import warnings\n",
    "warnings.filterwarnings('ignore')"
   ]
  },
  {
   "cell_type": "code",
   "execution_count": null,
   "metadata": {},
   "outputs": [],
   "source": [
    "#KEYS!\n",
    "fs_api_key = os.environ[\"FS_API_KEY\"]\n",
    "google_api = os.environ[\"GOOGLE_API\"]"
   ]
  },
  {
   "cell_type": "code",
   "execution_count": 14,
   "metadata": {},
   "outputs": [],
   "source": [
    "#process neighborhoods data into dataframe\n",
    "file = open('nyc_geo.json')\n",
    "jsondata = json.load(file)"
   ]
  },
  {
   "cell_type": "code",
   "execution_count": 15,
   "metadata": {},
   "outputs": [
    {
     "data": {
      "application/json": {
       "bbox": [
        -74.2492599487305,
        40.5033187866211,
        -73.7061614990234,
        40.9105606079102
       ],
       "crs": {
        "properties": {
         "name": "urn:ogc:def:crs:EPSG::4326"
        },
        "type": "name"
       },
       "features": [
        {
         "geometry": {
          "coordinates": [
           -73.84720052054902,
           40.89470517661
          ],
          "type": "Point"
         },
         "geometry_name": "geom",
         "id": "nyu_2451_34572.1",
         "properties": {
          "annoangle": 0,
          "annoline1": "Wakefield",
          "annoline2": null,
          "annoline3": null,
          "bbox": [
           -73.84720052054902,
           40.89470517661,
           -73.84720052054902,
           40.89470517661
          ],
          "borough": "Bronx",
          "name": "Wakefield",
          "stacked": 1
         },
         "type": "Feature"
        },
        {
         "geometry": {
          "coordinates": [
           -73.82993910812398,
           40.87429419303012
          ],
          "type": "Point"
         },
         "geometry_name": "geom",
         "id": "nyu_2451_34572.2",
         "properties": {
          "annoangle": 0,
          "annoline1": "Co-op",
          "annoline2": "City",
          "annoline3": null,
          "bbox": [
           -73.82993910812398,
           40.87429419303012,
           -73.82993910812398,
           40.87429419303012
          ],
          "borough": "Bronx",
          "name": "Co-op City",
          "stacked": 2
         },
         "type": "Feature"
        },
        {
         "geometry": {
          "coordinates": [
           -73.82780644716412,
           40.887555677350775
          ],
          "type": "Point"
         },
         "geometry_name": "geom",
         "id": "nyu_2451_34572.3",
         "properties": {
          "annoangle": 0,
          "annoline1": "Eastchester",
          "annoline2": null,
          "annoline3": null,
          "bbox": [
           -73.82780644716412,
           40.887555677350775,
           -73.82780644716412,
           40.887555677350775
          ],
          "borough": "Bronx",
          "name": "Eastchester",
          "stacked": 1
         },
         "type": "Feature"
        },
        {
         "geometry": {
          "coordinates": [
           -73.90564259591682,
           40.89543742690383
          ],
          "type": "Point"
         },
         "geometry_name": "geom",
         "id": "nyu_2451_34572.4",
         "properties": {
          "annoangle": 0,
          "annoline1": "Fieldston",
          "annoline2": null,
          "annoline3": null,
          "bbox": [
           -73.90564259591682,
           40.89543742690383,
           -73.90564259591682,
           40.89543742690383
          ],
          "borough": "Bronx",
          "name": "Fieldston",
          "stacked": 1
         },
         "type": "Feature"
        },
        {
         "geometry": {
          "coordinates": [
           -73.9125854610857,
           40.890834493891305
          ],
          "type": "Point"
         },
         "geometry_name": "geom",
         "id": "nyu_2451_34572.5",
         "properties": {
          "annoangle": 0,
          "annoline1": "Riverdale",
          "annoline2": null,
          "annoline3": null,
          "bbox": [
           -73.9125854610857,
           40.890834493891305,
           -73.9125854610857,
           40.890834493891305
          ],
          "borough": "Bronx",
          "name": "Riverdale",
          "stacked": 1
         },
         "type": "Feature"
        },
        {
         "geometry": {
          "coordinates": [
           -73.90281798724604,
           40.88168737120521
          ],
          "type": "Point"
         },
         "geometry_name": "geom",
         "id": "nyu_2451_34572.6",
         "properties": {
          "annoangle": 0,
          "annoline1": "Kingsbridge",
          "annoline2": null,
          "annoline3": null,
          "bbox": [
           -73.90281798724604,
           40.88168737120521,
           -73.90281798724604,
           40.88168737120521
          ],
          "borough": "Bronx",
          "name": "Kingsbridge",
          "stacked": 1
         },
         "type": "Feature"
        },
        {
         "geometry": {
          "coordinates": [
           -73.91065965862981,
           40.87655077879964
          ],
          "type": "Point"
         },
         "geometry_name": "geom",
         "id": "nyu_2451_34572.7",
         "properties": {
          "annoangle": 0,
          "annoline1": "Marble",
          "annoline2": "Hill",
          "annoline3": null,
          "bbox": [
           -73.91065965862981,
           40.87655077879964,
           -73.91065965862981,
           40.87655077879964
          ],
          "borough": "Manhattan",
          "name": "Marble Hill",
          "stacked": 2
         },
         "type": "Feature"
        },
        {
         "geometry": {
          "coordinates": [
           -73.86731496814176,
           40.89827261213805
          ],
          "type": "Point"
         },
         "geometry_name": "geom",
         "id": "nyu_2451_34572.8",
         "properties": {
          "annoangle": 0,
          "annoline1": "Woodlawn",
          "annoline2": null,
          "annoline3": null,
          "bbox": [
           -73.86731496814176,
           40.89827261213805,
           -73.86731496814176,
           40.89827261213805
          ],
          "borough": "Bronx",
          "name": "Woodlawn",
          "stacked": 1
         },
         "type": "Feature"
        },
        {
         "geometry": {
          "coordinates": [
           -73.8793907395681,
           40.87722415599446
          ],
          "type": "Point"
         },
         "geometry_name": "geom",
         "id": "nyu_2451_34572.9",
         "properties": {
          "annoangle": 0,
          "annoline1": "Norwood",
          "annoline2": null,
          "annoline3": null,
          "bbox": [
           -73.8793907395681,
           40.87722415599446,
           -73.8793907395681,
           40.87722415599446
          ],
          "borough": "Bronx",
          "name": "Norwood",
          "stacked": 1
         },
         "type": "Feature"
        },
        {
         "geometry": {
          "coordinates": [
           -73.85744642974207,
           40.88103887819211
          ],
          "type": "Point"
         },
         "geometry_name": "geom",
         "id": "nyu_2451_34572.10",
         "properties": {
          "annoangle": 0,
          "annoline1": "Williamsbridge",
          "annoline2": null,
          "annoline3": null,
          "bbox": [
           -73.85744642974207,
           40.88103887819211,
           -73.85744642974207,
           40.88103887819211
          ],
          "borough": "Bronx",
          "name": "Williamsbridge",
          "stacked": 1
         },
         "type": "Feature"
        },
        {
         "geometry": {
          "coordinates": [
           -73.83579759808117,
           40.866858107252696
          ],
          "type": "Point"
         },
         "geometry_name": "geom",
         "id": "nyu_2451_34572.11",
         "properties": {
          "annoangle": 0,
          "annoline1": "Baychester",
          "annoline2": null,
          "annoline3": null,
          "bbox": [
           -73.83579759808117,
           40.866858107252696,
           -73.83579759808117,
           40.866858107252696
          ],
          "borough": "Bronx",
          "name": "Baychester",
          "stacked": 1
         },
         "type": "Feature"
        },
        {
         "geometry": {
          "coordinates": [
           -73.85475564017999,
           40.85741349808865
          ],
          "type": "Point"
         },
         "geometry_name": "geom",
         "id": "nyu_2451_34572.12",
         "properties": {
          "annoangle": 0,
          "annoline1": "Pelham Parkway",
          "annoline2": null,
          "annoline3": null,
          "bbox": [
           -73.85475564017999,
           40.85741349808865,
           -73.85475564017999,
           40.85741349808865
          ],
          "borough": "Bronx",
          "name": "Pelham Parkway",
          "stacked": 1
         },
         "type": "Feature"
        },
        {
         "geometry": {
          "coordinates": [
           -73.78648845267413,
           40.84724670491813
          ],
          "type": "Point"
         },
         "geometry_name": "geom",
         "id": "nyu_2451_34572.13",
         "properties": {
          "annoangle": 0,
          "annoline1": "City",
          "annoline2": "Island",
          "annoline3": null,
          "bbox": [
           -73.78648845267413,
           40.84724670491813,
           -73.78648845267413,
           40.84724670491813
          ],
          "borough": "Bronx",
          "name": "City Island",
          "stacked": 2
         },
         "type": "Feature"
        },
        {
         "geometry": {
          "coordinates": [
           -73.8855121841913,
           40.870185164975325
          ],
          "type": "Point"
         },
         "geometry_name": "geom",
         "id": "nyu_2451_34572.14",
         "properties": {
          "annoangle": 0,
          "annoline1": "Bedford",
          "annoline2": "Park",
          "annoline3": null,
          "bbox": [
           -73.8855121841913,
           40.870185164975325,
           -73.8855121841913,
           40.870185164975325
          ],
          "borough": "Bronx",
          "name": "Bedford Park",
          "stacked": 2
         },
         "type": "Feature"
        },
        {
         "geometry": {
          "coordinates": [
           -73.9104159619131,
           40.85572707719664
          ],
          "type": "Point"
         },
         "geometry_name": "geom",
         "id": "nyu_2451_34572.15",
         "properties": {
          "annoangle": 0,
          "annoline1": "University",
          "annoline2": "Heights",
          "annoline3": null,
          "bbox": [
           -73.9104159619131,
           40.85572707719664,
           -73.9104159619131,
           40.85572707719664
          ],
          "borough": "Bronx",
          "name": "University Heights",
          "stacked": 2
         },
         "type": "Feature"
        },
        {
         "geometry": {
          "coordinates": [
           -73.91967159119565,
           40.84789792606271
          ],
          "type": "Point"
         },
         "geometry_name": "geom",
         "id": "nyu_2451_34572.16",
         "properties": {
          "annoangle": 0,
          "annoline1": "Morris",
          "annoline2": "Heights",
          "annoline3": null,
          "bbox": [
           -73.91967159119565,
           40.84789792606271,
           -73.91967159119565,
           40.84789792606271
          ],
          "borough": "Bronx",
          "name": "Morris Heights",
          "stacked": 2
         },
         "type": "Feature"
        },
        {
         "geometry": {
          "coordinates": [
           -73.89642655981623,
           40.86099679638654
          ],
          "type": "Point"
         },
         "geometry_name": "geom",
         "id": "nyu_2451_34572.17",
         "properties": {
          "annoangle": 0,
          "annoline1": "Fordham",
          "annoline2": null,
          "annoline3": null,
          "bbox": [
           -73.89642655981623,
           40.86099679638654,
           -73.89642655981623,
           40.86099679638654
          ],
          "borough": "Bronx",
          "name": "Fordham",
          "stacked": 1
         },
         "type": "Feature"
        },
        {
         "geometry": {
          "coordinates": [
           -73.88735617532338,
           40.84269615786053
          ],
          "type": "Point"
         },
         "geometry_name": "geom",
         "id": "nyu_2451_34572.18",
         "properties": {
          "annoangle": 0,
          "annoline1": "East",
          "annoline2": "Tremont",
          "annoline3": null,
          "bbox": [
           -73.88735617532338,
           40.84269615786053,
           -73.88735617532338,
           40.84269615786053
          ],
          "borough": "Bronx",
          "name": "East Tremont",
          "stacked": 2
         },
         "type": "Feature"
        },
        {
         "geometry": {
          "coordinates": [
           -73.87774474910545,
           40.83947505672653
          ],
          "type": "Point"
         },
         "geometry_name": "geom",
         "id": "nyu_2451_34572.19",
         "properties": {
          "annoangle": 0,
          "annoline1": "West",
          "annoline2": "Farms",
          "annoline3": null,
          "bbox": [
           -73.87774474910545,
           40.83947505672653,
           -73.87774474910545,
           40.83947505672653
          ],
          "borough": "Bronx",
          "name": "West Farms",
          "stacked": 2
         },
         "type": "Feature"
        },
        {
         "geometry": {
          "coordinates": [
           -73.9261020935813,
           40.836623010706056
          ],
          "type": "Point"
         },
         "geometry_name": "geom",
         "id": "nyu_2451_34572.20",
         "properties": {
          "annoangle": 0,
          "annoline1": "Highbridge",
          "annoline2": null,
          "annoline3": null,
          "bbox": [
           -73.9261020935813,
           40.836623010706056,
           -73.9261020935813,
           40.836623010706056
          ],
          "borough": "Bronx",
          "name": "High  Bridge",
          "stacked": 1
         },
         "type": "Feature"
        },
        {
         "geometry": {
          "coordinates": [
           -73.90942160757436,
           40.819754370594936
          ],
          "type": "Point"
         },
         "geometry_name": "geom",
         "id": "nyu_2451_34572.21",
         "properties": {
          "annoangle": 0,
          "annoline1": "Melrose",
          "annoline2": null,
          "annoline3": null,
          "bbox": [
           -73.90942160757436,
           40.819754370594936,
           -73.90942160757436,
           40.819754370594936
          ],
          "borough": "Bronx",
          "name": "Melrose",
          "stacked": 1
         },
         "type": "Feature"
        },
        {
         "geometry": {
          "coordinates": [
           -73.91609987487575,
           40.80623874935177
          ],
          "type": "Point"
         },
         "geometry_name": "geom",
         "id": "nyu_2451_34572.22",
         "properties": {
          "annoangle": 0,
          "annoline1": "Mott Haven",
          "annoline2": null,
          "annoline3": null,
          "bbox": [
           -73.91609987487575,
           40.80623874935177,
           -73.91609987487575,
           40.80623874935177
          ],
          "borough": "Bronx",
          "name": "Mott Haven",
          "stacked": 1
         },
         "type": "Feature"
        },
        {
         "geometry": {
          "coordinates": [
           -73.91322139386135,
           40.801663627756206
          ],
          "type": "Point"
         },
         "geometry_name": "geom",
         "id": "nyu_2451_34572.23",
         "properties": {
          "annoangle": 0,
          "annoline1": "Port",
          "annoline2": "Morris",
          "annoline3": null,
          "bbox": [
           -73.91322139386135,
           40.801663627756206,
           -73.91322139386135,
           40.801663627756206
          ],
          "borough": "Bronx",
          "name": "Port Morris",
          "stacked": 2
         },
         "type": "Feature"
        },
        {
         "geometry": {
          "coordinates": [
           -73.8957882009446,
           40.81509904545822
          ],
          "type": "Point"
         },
         "geometry_name": "geom",
         "id": "nyu_2451_34572.24",
         "properties": {
          "annoangle": 0,
          "annoline1": "Longwood",
          "annoline2": null,
          "annoline3": null,
          "bbox": [
           -73.8957882009446,
           40.81509904545822,
           -73.8957882009446,
           40.81509904545822
          ],
          "borough": "Bronx",
          "name": "Longwood",
          "stacked": 1
         },
         "type": "Feature"
        },
        {
         "geometry": {
          "coordinates": [
           -73.88331505955291,
           40.80972987938709
          ],
          "type": "Point"
         },
         "geometry_name": "geom",
         "id": "nyu_2451_34572.25",
         "properties": {
          "annoangle": 0,
          "annoline1": "Hunts",
          "annoline2": "Point",
          "annoline3": null,
          "bbox": [
           -73.88331505955291,
           40.80972987938709,
           -73.88331505955291,
           40.80972987938709
          ],
          "borough": "Bronx",
          "name": "Hunts Point",
          "stacked": 2
         },
         "type": "Feature"
        },
        {
         "geometry": {
          "coordinates": [
           -73.90150648943059,
           40.82359198585534
          ],
          "type": "Point"
         },
         "geometry_name": "geom",
         "id": "nyu_2451_34572.26",
         "properties": {
          "annoangle": 0,
          "annoline1": "Morrisania",
          "annoline2": null,
          "annoline3": null,
          "bbox": [
           -73.90150648943059,
           40.82359198585534,
           -73.90150648943059,
           40.82359198585534
          ],
          "borough": "Bronx",
          "name": "Morrisania",
          "stacked": 1
         },
         "type": "Feature"
        },
        {
         "geometry": {
          "coordinates": [
           -73.86574609554924,
           40.821012197914015
          ],
          "type": "Point"
         },
         "geometry_name": "geom",
         "id": "nyu_2451_34572.27",
         "properties": {
          "annoangle": 0,
          "annoline1": "Soundview",
          "annoline2": null,
          "annoline3": null,
          "bbox": [
           -73.86574609554924,
           40.821012197914015,
           -73.86574609554924,
           40.821012197914015
          ],
          "borough": "Bronx",
          "name": "Soundview",
          "stacked": 1
         },
         "type": "Feature"
        },
        {
         "geometry": {
          "coordinates": [
           -73.85414416189266,
           40.80655112003589
          ],
          "type": "Point"
         },
         "geometry_name": "geom",
         "id": "nyu_2451_34572.28",
         "properties": {
          "annoangle": 0,
          "annoline1": "Clason",
          "annoline2": "Point",
          "annoline3": null,
          "bbox": [
           -73.85414416189266,
           40.80655112003589,
           -73.85414416189266,
           40.80655112003589
          ],
          "borough": "Bronx",
          "name": "Clason Point",
          "stacked": 2
         },
         "type": "Feature"
        },
        {
         "geometry": {
          "coordinates": [
           -73.81635002158441,
           40.81510925804005
          ],
          "type": "Point"
         },
         "geometry_name": "geom",
         "id": "nyu_2451_34572.29",
         "properties": {
          "annoangle": 0,
          "annoline1": "Throgs Neck",
          "annoline2": null,
          "annoline3": null,
          "bbox": [
           -73.81635002158441,
           40.81510925804005,
           -73.81635002158441,
           40.81510925804005
          ],
          "borough": "Bronx",
          "name": "Throgs Neck",
          "stacked": 1
         },
         "type": "Feature"
        },
        {
         "geometry": {
          "coordinates": [
           -73.8240992675385,
           40.844245936947374
          ],
          "type": "Point"
         },
         "geometry_name": "geom",
         "id": "nyu_2451_34572.30",
         "properties": {
          "annoangle": 0,
          "annoline1": "Country",
          "annoline2": "Club",
          "annoline3": null,
          "bbox": [
           -73.8240992675385,
           40.844245936947374,
           -73.8240992675385,
           40.844245936947374
          ],
          "borough": "Bronx",
          "name": "Country Club",
          "stacked": 2
         },
         "type": "Feature"
        },
        {
         "geometry": {
          "coordinates": [
           -73.85600310535783,
           40.837937822267286
          ],
          "type": "Point"
         },
         "geometry_name": "geom",
         "id": "nyu_2451_34572.31",
         "properties": {
          "annoangle": 0,
          "annoline1": "Parkchester",
          "annoline2": null,
          "annoline3": null,
          "bbox": [
           -73.85600310535783,
           40.837937822267286,
           -73.85600310535783,
           40.837937822267286
          ],
          "borough": "Bronx",
          "name": "Parkchester",
          "stacked": 1
         },
         "type": "Feature"
        },
        {
         "geometry": {
          "coordinates": [
           -73.84219407604444,
           40.8406194964327
          ],
          "type": "Point"
         },
         "geometry_name": "geom",
         "id": "nyu_2451_34572.32",
         "properties": {
          "annoangle": 0,
          "annoline1": "Westchester",
          "annoline2": "Square",
          "annoline3": null,
          "bbox": [
           -73.84219407604444,
           40.8406194964327,
           -73.84219407604444,
           40.8406194964327
          ],
          "borough": "Bronx",
          "name": "Westchester Square",
          "stacked": 2
         },
         "type": "Feature"
        },
        {
         "geometry": {
          "coordinates": [
           -73.8662991807561,
           40.84360847124718
          ],
          "type": "Point"
         },
         "geometry_name": "geom",
         "id": "nyu_2451_34572.33",
         "properties": {
          "annoangle": 0,
          "annoline1": "Van",
          "annoline2": "Nest",
          "annoline3": null,
          "bbox": [
           -73.8662991807561,
           40.84360847124718,
           -73.8662991807561,
           40.84360847124718
          ],
          "borough": "Bronx",
          "name": "Van Nest",
          "stacked": 2
         },
         "type": "Feature"
        },
        {
         "geometry": {
          "coordinates": [
           -73.85040178030421,
           40.847549063536334
          ],
          "type": "Point"
         },
         "geometry_name": "geom",
         "id": "nyu_2451_34572.34",
         "properties": {
          "annoangle": 0,
          "annoline1": "Morris Park",
          "annoline2": null,
          "annoline3": null,
          "bbox": [
           -73.85040178030421,
           40.847549063536334,
           -73.85040178030421,
           40.847549063536334
          ],
          "borough": "Bronx",
          "name": "Morris Park",
          "stacked": 1
         },
         "type": "Feature"
        },
        {
         "geometry": {
          "coordinates": [
           -73.88845196134804,
           40.85727710073895
          ],
          "type": "Point"
         },
         "geometry_name": "geom",
         "id": "nyu_2451_34572.35",
         "properties": {
          "annoangle": 0,
          "annoline1": "Belmont",
          "annoline2": null,
          "annoline3": null,
          "bbox": [
           -73.88845196134804,
           40.85727710073895,
           -73.88845196134804,
           40.85727710073895
          ],
          "borough": "Bronx",
          "name": "Belmont",
          "stacked": 1
         },
         "type": "Feature"
        },
        {
         "geometry": {
          "coordinates": [
           -73.91719048210393,
           40.88139497727086
          ],
          "type": "Point"
         },
         "geometry_name": "geom",
         "id": "nyu_2451_34572.36",
         "properties": {
          "annoangle": 0,
          "annoline1": "Spuyten",
          "annoline2": "Duyvil",
          "annoline3": null,
          "bbox": [
           -73.91719048210393,
           40.88139497727086,
           -73.91719048210393,
           40.88139497727086
          ],
          "borough": "Bronx",
          "name": "Spuyten Duyvil",
          "stacked": 2
         },
         "type": "Feature"
        },
        {
         "geometry": {
          "coordinates": [
           -73.90453054908927,
           40.90854282950666
          ],
          "type": "Point"
         },
         "geometry_name": "geom",
         "id": "nyu_2451_34572.37",
         "properties": {
          "annoangle": 0,
          "annoline1": "North",
          "annoline2": "Riverdale",
          "annoline3": null,
          "bbox": [
           -73.90453054908927,
           40.90854282950666,
           -73.90453054908927,
           40.90854282950666
          ],
          "borough": "Bronx",
          "name": "North Riverdale",
          "stacked": 2
         },
         "type": "Feature"
        },
        {
         "geometry": {
          "coordinates": [
           -73.8320737824047,
           40.85064140940335
          ],
          "type": "Point"
         },
         "geometry_name": "geom",
         "id": "nyu_2451_34572.38",
         "properties": {
          "annoangle": 0,
          "annoline1": "Pelham",
          "annoline2": "Bay",
          "annoline3": null,
          "bbox": [
           -73.8320737824047,
           40.85064140940335,
           -73.8320737824047,
           40.85064140940335
          ],
          "borough": "Bronx",
          "name": "Pelham Bay",
          "stacked": 2
         },
         "type": "Feature"
        },
        {
         "geometry": {
          "coordinates": [
           -73.82620275994073,
           40.82657951686922
          ],
          "type": "Point"
         },
         "geometry_name": "geom",
         "id": "nyu_2451_34572.39",
         "properties": {
          "annoangle": 0,
          "annoline1": "Schuylerville",
          "annoline2": null,
          "annoline3": null,
          "bbox": [
           -73.82620275994073,
           40.82657951686922,
           -73.82620275994073,
           40.82657951686922
          ],
          "borough": "Bronx",
          "name": "Schuylerville",
          "stacked": 1
         },
         "type": "Feature"
        },
        {
         "geometry": {
          "coordinates": [
           -73.81388514428619,
           40.821986118163494
          ],
          "type": "Point"
         },
         "geometry_name": "geom",
         "id": "nyu_2451_34572.40",
         "properties": {
          "annoangle": 0,
          "annoline1": "Edgewater",
          "annoline2": "Park",
          "annoline3": null,
          "bbox": [
           -73.81388514428619,
           40.821986118163494,
           -73.81388514428619,
           40.821986118163494
          ],
          "borough": "Bronx",
          "name": "Edgewater Park",
          "stacked": 2
         },
         "type": "Feature"
        },
        {
         "geometry": {
          "coordinates": [
           -73.84802729582735,
           40.819014376988314
          ],
          "type": "Point"
         },
         "geometry_name": "geom",
         "id": "nyu_2451_34572.41",
         "properties": {
          "annoangle": 0,
          "annoline1": "Castle",
          "annoline2": "Hill",
          "annoline3": null,
          "bbox": [
           -73.84802729582735,
           40.819014376988314,
           -73.84802729582735,
           40.819014376988314
          ],
          "borough": "Bronx",
          "name": "Castle Hill",
          "stacked": 2
         },
         "type": "Feature"
        },
        {
         "geometry": {
          "coordinates": [
           -73.86332361652777,
           40.87137078192371
          ],
          "type": "Point"
         },
         "geometry_name": "geom",
         "id": "nyu_2451_34572.42",
         "properties": {
          "annoangle": 0,
          "annoline1": "Olinville",
          "annoline2": null,
          "annoline3": null,
          "bbox": [
           -73.86332361652777,
           40.87137078192371,
           -73.86332361652777,
           40.87137078192371
          ],
          "borough": "Bronx",
          "name": "Olinville",
          "stacked": 1
         },
         "type": "Feature"
        },
        {
         "geometry": {
          "coordinates": [
           -73.84161194831223,
           40.86296562477998
          ],
          "type": "Point"
         },
         "geometry_name": "geom",
         "id": "nyu_2451_34572.43",
         "properties": {
          "annoangle": 0,
          "annoline1": "Pelham",
          "annoline2": "Gardens",
          "annoline3": null,
          "bbox": [
           -73.84161194831223,
           40.86296562477998,
           -73.84161194831223,
           40.86296562477998
          ],
          "borough": "Bronx",
          "name": "Pelham Gardens",
          "stacked": 2
         },
         "type": "Feature"
        },
        {
         "geometry": {
          "coordinates": [
           -73.91558941773444,
           40.83428380733851
          ],
          "type": "Point"
         },
         "geometry_name": "geom",
         "id": "nyu_2451_34572.44",
         "properties": {
          "annoangle": 0,
          "annoline1": "Concourse",
          "annoline2": null,
          "annoline3": null,
          "bbox": [
           -73.91558941773444,
           40.83428380733851,
           -73.91558941773444,
           40.83428380733851
          ],
          "borough": "Bronx",
          "name": "Concourse",
          "stacked": 1
         },
         "type": "Feature"
        },
        {
         "geometry": {
          "coordinates": [
           -73.85053524451935,
           40.82977429787161
          ],
          "type": "Point"
         },
         "geometry_name": "geom",
         "id": "nyu_2451_34572.45",
         "properties": {
          "annoangle": 0,
          "annoline1": "Unionport",
          "annoline2": null,
          "annoline3": null,
          "bbox": [
           -73.85053524451935,
           40.82977429787161,
           -73.85053524451935,
           40.82977429787161
          ],
          "borough": "Bronx",
          "name": "Unionport",
          "stacked": 1
         },
         "type": "Feature"
        },
        {
         "geometry": {
          "coordinates": [
           -73.84808271877168,
           40.88456130303732
          ],
          "type": "Point"
         },
         "geometry_name": "geom",
         "id": "nyu_2451_34572.46",
         "properties": {
          "annoangle": 0,
          "annoline1": "Edenwald",
          "annoline2": null,
          "annoline3": null,
          "bbox": [
           -73.84808271877168,
           40.88456130303732,
           -73.84808271877168,
           40.88456130303732
          ],
          "borough": "Bronx",
          "name": "Edenwald",
          "stacked": 1
         },
         "type": "Feature"
        },
        {
         "geometry": {
          "coordinates": [
           -74.03062069353813,
           40.625801065010656
          ],
          "type": "Point"
         },
         "geometry_name": "geom",
         "id": "nyu_2451_34572.47",
         "properties": {
          "annoangle": 0,
          "annoline1": "Bay Ridge",
          "annoline2": null,
          "annoline3": null,
          "bbox": [
           -74.03062069353813,
           40.625801065010656,
           -74.03062069353813,
           40.625801065010656
          ],
          "borough": "Brooklyn",
          "name": "Bay Ridge",
          "stacked": 1
         },
         "type": "Feature"
        },
        {
         "geometry": {
          "coordinates": [
           -73.99517998380729,
           40.61100890202044
          ],
          "type": "Point"
         },
         "geometry_name": "geom",
         "id": "nyu_2451_34572.48",
         "properties": {
          "annoangle": 0,
          "annoline1": "Bensonhurst",
          "annoline2": null,
          "annoline3": null,
          "bbox": [
           -73.99517998380729,
           40.61100890202044,
           -73.99517998380729,
           40.61100890202044
          ],
          "borough": "Brooklyn",
          "name": "Bensonhurst",
          "stacked": 1
         },
         "type": "Feature"
        },
        {
         "geometry": {
          "coordinates": [
           -74.01031618527784,
           40.64510294925429
          ],
          "type": "Point"
         },
         "geometry_name": "geom",
         "id": "nyu_2451_34572.49",
         "properties": {
          "annoangle": 0,
          "annoline1": "Sunset",
          "annoline2": "Park",
          "annoline3": null,
          "bbox": [
           -74.01031618527784,
           40.64510294925429,
           -74.01031618527784,
           40.64510294925429
          ],
          "borough": "Brooklyn",
          "name": "Sunset Park",
          "stacked": 2
         },
         "type": "Feature"
        },
        {
         "geometry": {
          "coordinates": [
           -73.95424093127393,
           40.7302009848647
          ],
          "type": "Point"
         },
         "geometry_name": "geom",
         "id": "nyu_2451_34572.50",
         "properties": {
          "annoangle": 0,
          "annoline1": "Greenpoint",
          "annoline2": null,
          "annoline3": null,
          "bbox": [
           -73.95424093127393,
           40.7302009848647,
           -73.95424093127393,
           40.7302009848647
          ],
          "borough": "Brooklyn",
          "name": "Greenpoint",
          "stacked": 1
         },
         "type": "Feature"
        },
        {
         "geometry": {
          "coordinates": [
           -73.97347087708445,
           40.59526001306593
          ],
          "type": "Point"
         },
         "geometry_name": "geom",
         "id": "nyu_2451_34572.51",
         "properties": {
          "annoangle": 0,
          "annoline1": "Gravesend",
          "annoline2": null,
          "annoline3": null,
          "bbox": [
           -73.97347087708445,
           40.59526001306593,
           -73.97347087708445,
           40.59526001306593
          ],
          "borough": "Brooklyn",
          "name": "Gravesend",
          "stacked": 1
         },
         "type": "Feature"
        },
        {
         "geometry": {
          "coordinates": [
           -73.96509448785336,
           40.57682506566604
          ],
          "type": "Point"
         },
         "geometry_name": "geom",
         "id": "nyu_2451_34572.52",
         "properties": {
          "annoangle": 0,
          "annoline1": "Brighton",
          "annoline2": "Beach",
          "annoline3": null,
          "bbox": [
           -73.96509448785336,
           40.57682506566604,
           -73.96509448785336,
           40.57682506566604
          ],
          "borough": "Brooklyn",
          "name": "Brighton Beach",
          "stacked": 2
         },
         "type": "Feature"
        },
        {
         "geometry": {
          "coordinates": [
           -73.94318640482979,
           40.58689012678384
          ],
          "type": "Point"
         },
         "geometry_name": "geom",
         "id": "nyu_2451_34572.53",
         "properties": {
          "annoangle": 0,
          "annoline1": "Sheepshead",
          "annoline2": "Bay",
          "annoline3": null,
          "bbox": [
           -73.94318640482979,
           40.58689012678384,
           -73.94318640482979,
           40.58689012678384
          ],
          "borough": "Brooklyn",
          "name": "Sheepshead Bay",
          "stacked": 2
         },
         "type": "Feature"
        },
        {
         "geometry": {
          "coordinates": [
           -73.95743840559939,
           40.61443251335098
          ],
          "type": "Point"
         },
         "geometry_name": "geom",
         "id": "nyu_2451_34572.54",
         "properties": {
          "annoangle": 0,
          "annoline1": "Manhattan",
          "annoline2": "Terrace",
          "annoline3": null,
          "bbox": [
           -73.95743840559939,
           40.61443251335098,
           -73.95743840559939,
           40.61443251335098
          ],
          "borough": "Brooklyn",
          "name": "Manhattan Terrace",
          "stacked": 2
         },
         "type": "Feature"
        },
        {
         "geometry": {
          "coordinates": [
           -73.95840106533903,
           40.63632589026677
          ],
          "type": "Point"
         },
         "geometry_name": "geom",
         "id": "nyu_2451_34572.55",
         "properties": {
          "annoangle": 0,
          "annoline1": "Flatbush",
          "annoline2": null,
          "annoline3": null,
          "bbox": [
           -73.95840106533903,
           40.63632589026677,
           -73.95840106533903,
           40.63632589026677
          ],
          "borough": "Brooklyn",
          "name": "Flatbush",
          "stacked": 1
         },
         "type": "Feature"
        },
        {
         "geometry": {
          "coordinates": [
           -73.94329119073582,
           40.67082917695294
          ],
          "type": "Point"
         },
         "geometry_name": "geom",
         "id": "nyu_2451_34572.56",
         "properties": {
          "annoangle": 0,
          "annoline1": "Crown",
          "annoline2": "Heights",
          "annoline3": null,
          "bbox": [
           -73.94329119073582,
           40.67082917695294,
           -73.94329119073582,
           40.67082917695294
          ],
          "borough": "Brooklyn",
          "name": "Crown Heights",
          "stacked": 2
         },
         "type": "Feature"
        },
        {
         "geometry": {
          "coordinates": [
           -73.93610256185836,
           40.64171776668961
          ],
          "type": "Point"
         },
         "geometry_name": "geom",
         "id": "nyu_2451_34572.57",
         "properties": {
          "annoangle": 0,
          "annoline1": "East Flatbush",
          "annoline2": null,
          "annoline3": null,
          "bbox": [
           -73.93610256185836,
           40.64171776668961,
           -73.93610256185836,
           40.64171776668961
          ],
          "borough": "Brooklyn",
          "name": "East Flatbush",
          "stacked": 1
         },
         "type": "Feature"
        },
        {
         "geometry": {
          "coordinates": [
           -73.98042110559474,
           40.642381958003526
          ],
          "type": "Point"
         },
         "geometry_name": "geom",
         "id": "nyu_2451_34572.58",
         "properties": {
          "annoangle": 0,
          "annoline1": "Kensington",
          "annoline2": null,
          "annoline3": null,
          "bbox": [
           -73.98042110559474,
           40.642381958003526,
           -73.98042110559474,
           40.642381958003526
          ],
          "borough": "Brooklyn",
          "name": "Kensington",
          "stacked": 1
         },
         "type": "Feature"
        },
        {
         "geometry": {
          "coordinates": [
           -73.98007340430172,
           40.65694583575104
          ],
          "type": "Point"
         },
         "geometry_name": "geom",
         "id": "nyu_2451_34572.59",
         "properties": {
          "annoangle": 0,
          "annoline1": "Windsor",
          "annoline2": "Terrace",
          "annoline3": null,
          "bbox": [
           -73.98007340430172,
           40.65694583575104,
           -73.98007340430172,
           40.65694583575104
          ],
          "borough": "Brooklyn",
          "name": "Windsor Terrace",
          "stacked": 2
         },
         "type": "Feature"
        },
        {
         "geometry": {
          "coordinates": [
           -73.9648592426269,
           40.676822262254724
          ],
          "type": "Point"
         },
         "geometry_name": "geom",
         "id": "nyu_2451_34572.60",
         "properties": {
          "annoangle": 0,
          "annoline1": "Prospect",
          "annoline2": "Heights",
          "annoline3": null,
          "bbox": [
           -73.9648592426269,
           40.676822262254724,
           -73.9648592426269,
           40.676822262254724
          ],
          "borough": "Brooklyn",
          "name": "Prospect Heights",
          "stacked": 2
         },
         "type": "Feature"
        },
        {
         "geometry": {
          "coordinates": [
           -73.91023536176607,
           40.66394994339755
          ],
          "type": "Point"
         },
         "geometry_name": "geom",
         "id": "nyu_2451_34572.61",
         "properties": {
          "annoangle": 0,
          "annoline1": "Brownsville",
          "annoline2": null,
          "annoline3": null,
          "bbox": [
           -73.91023536176607,
           40.66394994339755,
           -73.91023536176607,
           40.66394994339755
          ],
          "borough": "Brooklyn",
          "name": "Brownsville",
          "stacked": 1
         },
         "type": "Feature"
        },
        {
         "geometry": {
          "coordinates": [
           -73.95811529220927,
           40.70714439344251
          ],
          "type": "Point"
         },
         "geometry_name": "geom",
         "id": "nyu_2451_34572.62",
         "properties": {
          "annoangle": 0,
          "annoline1": "Williamsburg",
          "annoline2": null,
          "annoline3": null,
          "bbox": [
           -73.95811529220927,
           40.70714439344251,
           -73.95811529220927,
           40.70714439344251
          ],
          "borough": "Brooklyn",
          "name": "Williamsburg",
          "stacked": 1
         },
         "type": "Feature"
        },
        {
         "geometry": {
          "coordinates": [
           -73.92525797487045,
           40.69811611017901
          ],
          "type": "Point"
         },
         "geometry_name": "geom",
         "id": "nyu_2451_34572.63",
         "properties": {
          "annoangle": 0,
          "annoline1": "Bushwick",
          "annoline2": null,
          "annoline3": null,
          "bbox": [
           -73.92525797487045,
           40.69811611017901,
           -73.92525797487045,
           40.69811611017901
          ],
          "borough": "Brooklyn",
          "name": "Bushwick",
          "stacked": 1
         },
         "type": "Feature"
        },
        {
         "geometry": {
          "coordinates": [
           -73.94178488690297,
           40.687231607720456
          ],
          "type": "Point"
         },
         "geometry_name": "geom",
         "id": "nyu_2451_34572.64",
         "properties": {
          "annoangle": 0,
          "annoline1": "Bedford Stuyvesant",
          "annoline2": null,
          "annoline3": null,
          "bbox": [
           -73.94178488690297,
           40.687231607720456,
           -73.94178488690297,
           40.687231607720456
          ],
          "borough": "Brooklyn",
          "name": "Bedford Stuyvesant",
          "stacked": 1
         },
         "type": "Feature"
        },
        {
         "geometry": {
          "coordinates": [
           -73.99378225496424,
           40.695863722724084
          ],
          "type": "Point"
         },
         "geometry_name": "geom",
         "id": "nyu_2451_34572.65",
         "properties": {
          "annoangle": 0,
          "annoline1": "Brooklyn",
          "annoline2": "Heights",
          "annoline3": null,
          "bbox": [
           -73.99378225496424,
           40.695863722724084,
           -73.99378225496424,
           40.695863722724084
          ],
          "borough": "Brooklyn",
          "name": "Brooklyn Heights",
          "stacked": 2
         },
         "type": "Feature"
        },
        {
         "geometry": {
          "coordinates": [
           -73.99856139218463,
           40.687919722485574
          ],
          "type": "Point"
         },
         "geometry_name": "geom",
         "id": "nyu_2451_34572.66",
         "properties": {
          "annoangle": 0,
          "annoline1": "Cobble",
          "annoline2": "Hill",
          "annoline3": null,
          "bbox": [
           -73.99856139218463,
           40.687919722485574,
           -73.99856139218463,
           40.687919722485574
          ],
          "borough": "Brooklyn",
          "name": "Cobble Hill",
          "stacked": 2
         },
         "type": "Feature"
        },
        {
         "geometry": {
          "coordinates": [
           -73.99465372828006,
           40.680540231076485
          ],
          "type": "Point"
         },
         "geometry_name": "geom",
         "id": "nyu_2451_34572.67",
         "properties": {
          "annoangle": 0,
          "annoline1": "Carroll",
          "annoline2": "Gardens",
          "annoline3": null,
          "bbox": [
           -73.99465372828006,
           40.680540231076485,
           -73.99465372828006,
           40.680540231076485
          ],
          "borough": "Brooklyn",
          "name": "Carroll Gardens",
          "stacked": 2
         },
         "type": "Feature"
        },
        {
         "geometry": {
          "coordinates": [
           -74.0127589747356,
           40.676253230250886
          ],
          "type": "Point"
         },
         "geometry_name": "geom",
         "id": "nyu_2451_34572.68",
         "properties": {
          "annoangle": 0,
          "annoline1": "Red",
          "annoline2": "Hook",
          "annoline3": null,
          "bbox": [
           -74.0127589747356,
           40.676253230250886,
           -74.0127589747356,
           40.676253230250886
          ],
          "borough": "Brooklyn",
          "name": "Red Hook",
          "stacked": 2
         },
         "type": "Feature"
        },
        {
         "geometry": {
          "coordinates": [
           -73.99444087145339,
           40.673931143187154
          ],
          "type": "Point"
         },
         "geometry_name": "geom",
         "id": "nyu_2451_34572.69",
         "properties": {
          "annoangle": 0,
          "annoline1": "Gowanus",
          "annoline2": null,
          "annoline3": null,
          "bbox": [
           -73.99444087145339,
           40.673931143187154,
           -73.99444087145339,
           40.673931143187154
          ],
          "borough": "Brooklyn",
          "name": "Gowanus",
          "stacked": 1
         },
         "type": "Feature"
        },
        {
         "geometry": {
          "coordinates": [
           -73.97290574369092,
           40.68852726018977
          ],
          "type": "Point"
         },
         "geometry_name": "geom",
         "id": "nyu_2451_34572.70",
         "properties": {
          "annoangle": 0,
          "annoline1": "Fort",
          "annoline2": "Greene",
          "annoline3": null,
          "bbox": [
           -73.97290574369092,
           40.68852726018977,
           -73.97290574369092,
           40.68852726018977
          ],
          "borough": "Brooklyn",
          "name": "Fort Greene",
          "stacked": 2
         },
         "type": "Feature"
        },
        {
         "geometry": {
          "coordinates": [
           -73.97705030183924,
           40.67232052268197
          ],
          "type": "Point"
         },
         "geometry_name": "geom",
         "id": "nyu_2451_34572.71",
         "properties": {
          "annoangle": 0,
          "annoline1": "Park",
          "annoline2": "Slope",
          "annoline3": null,
          "bbox": [
           -73.97705030183924,
           40.67232052268197,
           -73.97705030183924,
           40.67232052268197
          ],
          "borough": "Brooklyn",
          "name": "Park Slope",
          "stacked": 2
         },
         "type": "Feature"
        },
        {
         "geometry": {
          "coordinates": [
           -73.87661596457296,
           40.68239101144211
          ],
          "type": "Point"
         },
         "geometry_name": "geom",
         "id": "nyu_2451_34572.72",
         "properties": {
          "annoangle": 0,
          "annoline1": "Cypress",
          "annoline2": "Hills",
          "annoline3": null,
          "bbox": [
           -73.87661596457296,
           40.68239101144211,
           -73.87661596457296,
           40.68239101144211
          ],
          "borough": "Brooklyn",
          "name": "Cypress Hills",
          "stacked": 2
         },
         "type": "Feature"
        },
        {
         "geometry": {
          "coordinates": [
           -73.88069863917366,
           40.669925700847045
          ],
          "type": "Point"
         },
         "geometry_name": "geom",
         "id": "nyu_2451_34572.73",
         "properties": {
          "annoangle": 0,
          "annoline1": "East New York",
          "annoline2": null,
          "annoline3": null,
          "bbox": [
           -73.88069863917366,
           40.669925700847045,
           -73.88069863917366,
           40.669925700847045
          ],
          "borough": "Brooklyn",
          "name": "East New York",
          "stacked": 1
         },
         "type": "Feature"
        },
        {
         "geometry": {
          "coordinates": [
           -73.87936970045875,
           40.64758905230874
          ],
          "type": "Point"
         },
         "geometry_name": "geom",
         "id": "nyu_2451_34572.74",
         "properties": {
          "annoangle": 0,
          "annoline1": "Starrett",
          "annoline2": "City",
          "annoline3": null,
          "bbox": [
           -73.87936970045875,
           40.64758905230874,
           -73.87936970045875,
           40.64758905230874
          ],
          "borough": "Brooklyn",
          "name": "Starrett City",
          "stacked": 2
         },
         "type": "Feature"
        },
        {
         "geometry": {
          "coordinates": [
           -73.90209269778966,
           40.63556432797428
          ],
          "type": "Point"
         },
         "geometry_name": "geom",
         "id": "nyu_2451_34572.75",
         "properties": {
          "annoangle": 0,
          "annoline1": "Canarsie",
          "annoline2": null,
          "annoline3": null,
          "bbox": [
           -73.90209269778966,
           40.63556432797428,
           -73.90209269778966,
           40.63556432797428
          ],
          "borough": "Brooklyn",
          "name": "Canarsie",
          "stacked": 1
         },
         "type": "Feature"
        },
        {
         "geometry": {
          "coordinates": [
           -73.92911302644674,
           40.630446043757466
          ],
          "type": "Point"
         },
         "geometry_name": "geom",
         "id": "nyu_2451_34572.76",
         "properties": {
          "annoangle": 0,
          "annoline1": "Flatlands",
          "annoline2": null,
          "annoline3": null,
          "bbox": [
           -73.92911302644674,
           40.630446043757466,
           -73.92911302644674,
           40.630446043757466
          ],
          "borough": "Brooklyn",
          "name": "Flatlands",
          "stacked": 1
         },
         "type": "Feature"
        },
        {
         "geometry": {
          "coordinates": [
           -73.90818571777423,
           40.606336421685626
          ],
          "type": "Point"
         },
         "geometry_name": "geom",
         "id": "nyu_2451_34572.77",
         "properties": {
          "annoangle": 0,
          "annoline1": "Mill",
          "annoline2": "Island",
          "annoline3": null,
          "bbox": [
           -73.90818571777423,
           40.606336421685626,
           -73.90818571777423,
           40.606336421685626
          ],
          "borough": "Brooklyn",
          "name": "Mill Island",
          "stacked": 2
         },
         "type": "Feature"
        },
        {
         "geometry": {
          "coordinates": [
           -73.94353722891886,
           40.57791350308657
          ],
          "type": "Point"
         },
         "geometry_name": "geom",
         "id": "nyu_2451_34572.78",
         "properties": {
          "annoangle": 0,
          "annoline1": "Manhattan",
          "annoline2": "Beach",
          "annoline3": null,
          "bbox": [
           -73.94353722891886,
           40.57791350308657,
           -73.94353722891886,
           40.57791350308657
          ],
          "borough": "Brooklyn",
          "name": "Manhattan Beach",
          "stacked": 2
         },
         "type": "Feature"
        },
        {
         "geometry": {
          "coordinates": [
           -73.98868295821637,
           40.57429256471601
          ],
          "type": "Point"
         },
         "geometry_name": "geom",
         "id": "nyu_2451_34572.79",
         "properties": {
          "annoangle": 0,
          "annoline1": "Coney Island",
          "annoline2": null,
          "annoline3": null,
          "bbox": [
           -73.98868295821637,
           40.57429256471601,
           -73.98868295821637,
           40.57429256471601
          ],
          "borough": "Brooklyn",
          "name": "Coney Island",
          "stacked": 1
         },
         "type": "Feature"
        },
        {
         "geometry": {
          "coordinates": [
           -73.99875221443519,
           40.59951870282238
          ],
          "type": "Point"
         },
         "geometry_name": "geom",
         "id": "nyu_2451_34572.80",
         "properties": {
          "annoangle": 0,
          "annoline1": "Bath",
          "annoline2": "Beach",
          "annoline3": null,
          "bbox": [
           -73.99875221443519,
           40.59951870282238,
           -73.99875221443519,
           40.59951870282238
          ],
          "borough": "Brooklyn",
          "name": "Bath Beach",
          "stacked": 2
         },
         "type": "Feature"
        },
        {
         "geometry": {
          "coordinates": [
           -73.99049823044811,
           40.633130512758015
          ],
          "type": "Point"
         },
         "geometry_name": "geom",
         "id": "nyu_2451_34572.81",
         "properties": {
          "annoangle": 0,
          "annoline1": "Borough",
          "annoline2": "Park",
          "annoline3": null,
          "bbox": [
           -73.99049823044811,
           40.633130512758015,
           -73.99049823044811,
           40.633130512758015
          ],
          "borough": "Brooklyn",
          "name": "Borough Park",
          "stacked": 2
         },
         "type": "Feature"
        },
        {
         "geometry": {
          "coordinates": [
           -74.01931375636022,
           40.619219457722636
          ],
          "type": "Point"
         },
         "geometry_name": "geom",
         "id": "nyu_2451_34572.82",
         "properties": {
          "annoangle": 0,
          "annoline1": "Dyker",
          "annoline2": "Heights",
          "annoline3": null,
          "bbox": [
           -74.01931375636022,
           40.619219457722636,
           -74.01931375636022,
           40.619219457722636
          ],
          "borough": "Brooklyn",
          "name": "Dyker Heights",
          "stacked": 2
         },
         "type": "Feature"
        },
        {
         "geometry": {
          "coordinates": [
           -73.93010170691196,
           40.590848433902046
          ],
          "type": "Point"
         },
         "geometry_name": "geom",
         "id": "nyu_2451_34572.83",
         "properties": {
          "annoangle": 0,
          "annoline1": "Gerritsen",
          "annoline2": "Beach",
          "annoline3": null,
          "bbox": [
           -73.93010170691196,
           40.590848433902046,
           -73.93010170691196,
           40.590848433902046
          ],
          "borough": "Brooklyn",
          "name": "Gerritsen Beach",
          "stacked": 2
         },
         "type": "Feature"
        },
        {
         "geometry": {
          "coordinates": [
           -73.93134404108497,
           40.609747779894604
          ],
          "type": "Point"
         },
         "geometry_name": "geom",
         "id": "nyu_2451_34572.84",
         "properties": {
          "annoangle": 0,
          "annoline1": "Marine Park",
          "annoline2": null,
          "annoline3": null,
          "bbox": [
           -73.93134404108497,
           40.609747779894604,
           -73.93134404108497,
           40.609747779894604
          ],
          "borough": "Brooklyn",
          "name": "Marine Park",
          "stacked": 1
         },
         "type": "Feature"
        },
        {
         "geometry": {
          "coordinates": [
           -73.96784306216367,
           40.693229421881504
          ],
          "type": "Point"
         },
         "geometry_name": "geom",
         "id": "nyu_2451_34572.85",
         "properties": {
          "annoangle": 0,
          "annoline1": "Clinton",
          "annoline2": "Hill",
          "annoline3": null,
          "bbox": [
           -73.96784306216367,
           40.693229421881504,
           -73.96784306216367,
           40.693229421881504
          ],
          "borough": "Brooklyn",
          "name": "Clinton Hill",
          "stacked": 2
         },
         "type": "Feature"
        },
        {
         "geometry": {
          "coordinates": [
           -74.0078731120024,
           40.57637537890224
          ],
          "type": "Point"
         },
         "geometry_name": "geom",
         "id": "nyu_2451_34572.86",
         "properties": {
          "annoangle": 0,
          "annoline1": "Sea",
          "annoline2": "Gate",
          "annoline3": null,
          "bbox": [
           -74.0078731120024,
           40.57637537890224,
           -74.0078731120024,
           40.57637537890224
          ],
          "borough": "Brooklyn",
          "name": "Sea Gate",
          "stacked": 2
         },
         "type": "Feature"
        },
        {
         "geometry": {
          "coordinates": [
           -73.98346337431099,
           40.69084402109802
          ],
          "type": "Point"
         },
         "geometry_name": "geom",
         "id": "nyu_2451_34572.87",
         "properties": {
          "annoangle": 0,
          "annoline1": "Downtown",
          "annoline2": null,
          "annoline3": null,
          "bbox": [
           -73.98346337431099,
           40.69084402109802,
           -73.98346337431099,
           40.69084402109802
          ],
          "borough": "Brooklyn",
          "name": "Downtown",
          "stacked": 1
         },
         "type": "Feature"
        },
        {
         "geometry": {
          "coordinates": [
           -73.98374824115798,
           40.685682912091444
          ],
          "type": "Point"
         },
         "geometry_name": "geom",
         "id": "nyu_2451_34572.88",
         "properties": {
          "annoangle": 0,
          "annoline1": "Boerum",
          "annoline2": "Hill",
          "annoline3": null,
          "bbox": [
           -73.98374824115798,
           40.685682912091444,
           -73.98374824115798,
           40.685682912091444
          ],
          "borough": "Brooklyn",
          "name": "Boerum Hill",
          "stacked": 2
         },
         "type": "Feature"
        },
        {
         "geometry": {
          "coordinates": [
           -73.95489867077713,
           40.658420017469815
          ],
          "type": "Point"
         },
         "geometry_name": "geom",
         "id": "nyu_2451_34572.89",
         "properties": {
          "annoangle": 0,
          "annoline1": "Prospect",
          "annoline2": "Lefferts",
          "annoline3": "Gardens",
          "bbox": [
           -73.95489867077713,
           40.658420017469815,
           -73.95489867077713,
           40.658420017469815
          ],
          "borough": "Brooklyn",
          "name": "Prospect Lefferts Gardens",
          "stacked": 3
         },
         "type": "Feature"
        },
        {
         "geometry": {
          "coordinates": [
           -73.91306831787395,
           40.678402554795355
          ],
          "type": "Point"
         },
         "geometry_name": "geom",
         "id": "nyu_2451_34572.90",
         "properties": {
          "annoangle": 0,
          "annoline1": "Ocean",
          "annoline2": "Hill",
          "annoline3": null,
          "bbox": [
           -73.91306831787395,
           40.678402554795355,
           -73.91306831787395,
           40.678402554795355
          ],
          "borough": "Brooklyn",
          "name": "Ocean Hill",
          "stacked": 2
         },
         "type": "Feature"
        },
        {
         "geometry": {
          "coordinates": [
           -73.86797598081334,
           40.67856995727479
          ],
          "type": "Point"
         },
         "geometry_name": "geom",
         "id": "nyu_2451_34572.91",
         "properties": {
          "annoangle": 0,
          "annoline1": "City",
          "annoline2": "Line",
          "annoline3": null,
          "bbox": [
           -73.86797598081334,
           40.67856995727479,
           -73.86797598081334,
           40.67856995727479
          ],
          "borough": "Brooklyn",
          "name": "City Line",
          "stacked": 2
         },
         "type": "Feature"
        },
        {
         "geometry": {
          "coordinates": [
           -73.89855633630317,
           40.61514955045308
          ],
          "type": "Point"
         },
         "geometry_name": "geom",
         "id": "nyu_2451_34572.92",
         "properties": {
          "annoangle": 0,
          "annoline1": "Bergen",
          "annoline2": "Beach",
          "annoline3": null,
          "bbox": [
           -73.89855633630317,
           40.61514955045308,
           -73.89855633630317,
           40.61514955045308
          ],
          "borough": "Brooklyn",
          "name": "Bergen Beach",
          "stacked": 2
         },
         "type": "Feature"
        },
        {
         "geometry": {
          "coordinates": [
           -73.95759523489838,
           40.62559589869843
          ],
          "type": "Point"
         },
         "geometry_name": "geom",
         "id": "nyu_2451_34572.93",
         "properties": {
          "annoangle": 0,
          "annoline1": "Midwood",
          "annoline2": null,
          "annoline3": null,
          "bbox": [
           -73.95759523489838,
           40.62559589869843,
           -73.95759523489838,
           40.62559589869843
          ],
          "borough": "Brooklyn",
          "name": "Midwood",
          "stacked": 1
         },
         "type": "Feature"
        },
        {
         "geometry": {
          "coordinates": [
           -73.96261316716048,
           40.647008603185185
          ],
          "type": "Point"
         },
         "geometry_name": "geom",
         "id": "nyu_2451_34572.94",
         "properties": {
          "annoangle": 0,
          "annoline1": "Prospect",
          "annoline2": "Park South",
          "annoline3": null,
          "bbox": [
           -73.96261316716048,
           40.647008603185185,
           -73.96261316716048,
           40.647008603185185
          ],
          "borough": "Brooklyn",
          "name": "Prospect Park South",
          "stacked": 2
         },
         "type": "Feature"
        },
        {
         "geometry": {
          "coordinates": [
           -73.91607483951324,
           40.62384524478419
          ],
          "type": "Point"
         },
         "geometry_name": "geom",
         "id": "nyu_2451_34572.95",
         "properties": {
          "annoangle": 0,
          "annoline1": "Georgetown",
          "annoline2": null,
          "annoline3": null,
          "bbox": [
           -73.91607483951324,
           40.62384524478419,
           -73.91607483951324,
           40.62384524478419
          ],
          "borough": "Brooklyn",
          "name": "Georgetown",
          "stacked": 1
         },
         "type": "Feature"
        },
        {
         "geometry": {
          "coordinates": [
           -73.93885815269195,
           40.70849241041548
          ],
          "type": "Point"
         },
         "geometry_name": "geom",
         "id": "nyu_2451_34572.96",
         "properties": {
          "annoangle": 0,
          "annoline1": "East",
          "annoline2": "Williamsburg",
          "annoline3": null,
          "bbox": [
           -73.93885815269195,
           40.70849241041548,
           -73.93885815269195,
           40.70849241041548
          ],
          "borough": "Brooklyn",
          "name": "East Williamsburg",
          "stacked": 2
         },
         "type": "Feature"
        },
        {
         "geometry": {
          "coordinates": [
           -73.95880857587582,
           40.714822906532014
          ],
          "type": "Point"
         },
         "geometry_name": "geom",
         "id": "nyu_2451_34572.97",
         "properties": {
          "annoangle": 0,
          "annoline1": "North Side",
          "annoline2": null,
          "annoline3": null,
          "bbox": [
           -73.95880857587582,
           40.714822906532014,
           -73.95880857587582,
           40.714822906532014
          ],
          "borough": "Brooklyn",
          "name": "North Side",
          "stacked": 1
         },
         "type": "Feature"
        },
        {
         "geometry": {
          "coordinates": [
           -73.95800095153331,
           40.71086147265064
          ],
          "type": "Point"
         },
         "geometry_name": "geom",
         "id": "nyu_2451_34572.98",
         "properties": {
          "annoangle": 0,
          "annoline1": "South Side",
          "annoline2": null,
          "annoline3": null,
          "bbox": [
           -73.95800095153331,
           40.71086147265064,
           -73.95800095153331,
           40.71086147265064
          ],
          "borough": "Brooklyn",
          "name": "South Side",
          "stacked": 1
         },
         "type": "Feature"
        },
        {
         "geometry": {
          "coordinates": [
           -73.96836678035541,
           40.61305976667942
          ],
          "type": "Point"
         },
         "geometry_name": "geom",
         "id": "nyu_2451_34572.99",
         "properties": {
          "annoangle": 0,
          "annoline1": "Ocean",
          "annoline2": "Parkway",
          "annoline3": null,
          "bbox": [
           -73.96836678035541,
           40.61305976667942,
           -73.96836678035541,
           40.61305976667942
          ],
          "borough": "Brooklyn",
          "name": "Ocean Parkway",
          "stacked": 2
         },
         "type": "Feature"
        },
        {
         "geometry": {
          "coordinates": [
           -74.03197914537984,
           40.61476812694226
          ],
          "type": "Point"
         },
         "geometry_name": "geom",
         "id": "nyu_2451_34572.100",
         "properties": {
          "annoangle": 0,
          "annoline1": "Fort",
          "annoline2": "Hamilton",
          "annoline3": null,
          "bbox": [
           -74.03197914537984,
           40.61476812694226,
           -74.03197914537984,
           40.61476812694226
          ],
          "borough": "Brooklyn",
          "name": "Fort Hamilton",
          "stacked": 2
         },
         "type": "Feature"
        },
        {
         "geometry": {
          "coordinates": [
           -73.99427936255978,
           40.71561842231432
          ],
          "type": "Point"
         },
         "geometry_name": "geom",
         "id": "nyu_2451_34572.101",
         "properties": {
          "annoangle": 0,
          "annoline1": "Chinatown",
          "annoline2": null,
          "annoline3": null,
          "bbox": [
           -73.99427936255978,
           40.71561842231432,
           -73.99427936255978,
           40.71561842231432
          ],
          "borough": "Manhattan",
          "name": "Chinatown",
          "stacked": 1
         },
         "type": "Feature"
        },
        {
         "geometry": {
          "coordinates": [
           -73.93690027985234,
           40.85190252555305
          ],
          "type": "Point"
         },
         "geometry_name": "geom",
         "id": "nyu_2451_34572.102",
         "properties": {
          "annoangle": 0,
          "annoline1": "Washington",
          "annoline2": "Heights",
          "annoline3": null,
          "bbox": [
           -73.93690027985234,
           40.85190252555305,
           -73.93690027985234,
           40.85190252555305
          ],
          "borough": "Manhattan",
          "name": "Washington Heights",
          "stacked": 2
         },
         "type": "Feature"
        },
        {
         "geometry": {
          "coordinates": [
           -73.92121042203897,
           40.86768396449915
          ],
          "type": "Point"
         },
         "geometry_name": "geom",
         "id": "nyu_2451_34572.103",
         "properties": {
          "annoangle": 0,
          "annoline1": "Inwood",
          "annoline2": null,
          "annoline3": null,
          "bbox": [
           -73.92121042203897,
           40.86768396449915,
           -73.92121042203897,
           40.86768396449915
          ],
          "borough": "Manhattan",
          "name": "Inwood",
          "stacked": 1
         },
         "type": "Feature"
        },
        {
         "geometry": {
          "coordinates": [
           -73.94968791883366,
           40.823604284811935
          ],
          "type": "Point"
         },
         "geometry_name": "geom",
         "id": "nyu_2451_34572.104",
         "properties": {
          "annoangle": 0,
          "annoline1": "Hamilton",
          "annoline2": "Heights",
          "annoline3": null,
          "bbox": [
           -73.94968791883366,
           40.823604284811935,
           -73.94968791883366,
           40.823604284811935
          ],
          "borough": "Manhattan",
          "name": "Hamilton Heights",
          "stacked": 2
         },
         "type": "Feature"
        },
        {
         "geometry": {
          "coordinates": [
           -73.9573853935188,
           40.8169344294978
          ],
          "type": "Point"
         },
         "geometry_name": "geom",
         "id": "nyu_2451_34572.105",
         "properties": {
          "annoangle": 0,
          "annoline1": "Manhattanville",
          "annoline2": null,
          "annoline3": null,
          "bbox": [
           -73.9573853935188,
           40.8169344294978,
           -73.9573853935188,
           40.8169344294978
          ],
          "borough": "Manhattan",
          "name": "Manhattanville",
          "stacked": 2
         },
         "type": "Feature"
        },
        {
         "geometry": {
          "coordinates": [
           -73.94321112603905,
           40.81597606742414
          ],
          "type": "Point"
         },
         "geometry_name": "geom",
         "id": "nyu_2451_34572.106",
         "properties": {
          "annoangle": 0,
          "annoline1": "Central",
          "annoline2": "Harlem",
          "annoline3": null,
          "bbox": [
           -73.94321112603905,
           40.81597606742414,
           -73.94321112603905,
           40.81597606742414
          ],
          "borough": "Manhattan",
          "name": "Central Harlem",
          "stacked": 2
         },
         "type": "Feature"
        },
        {
         "geometry": {
          "coordinates": [
           -73.94418223148524,
           40.79224946663033
          ],
          "type": "Point"
         },
         "geometry_name": "geom",
         "id": "nyu_2451_34572.107",
         "properties": {
          "annoangle": 0,
          "annoline1": "East",
          "annoline2": "Harlem",
          "annoline3": null,
          "bbox": [
           -73.94418223148524,
           40.79224946663033,
           -73.94418223148524,
           40.79224946663033
          ],
          "borough": "Manhattan",
          "name": "East Harlem",
          "stacked": 2
         },
         "type": "Feature"
        },
        {
         "geometry": {
          "coordinates": [
           -73.96050763135,
           40.775638573301805
          ],
          "type": "Point"
         },
         "geometry_name": "geom",
         "id": "nyu_2451_34572.108",
         "properties": {
          "annoangle": 0,
          "annoline1": "Upper",
          "annoline2": "East",
          "annoline3": "Side",
          "bbox": [
           -73.96050763135,
           40.775638573301805,
           -73.96050763135,
           40.775638573301805
          ],
          "borough": "Manhattan",
          "name": "Upper East Side",
          "stacked": 3
         },
         "type": "Feature"
        },
        {
         "geometry": {
          "coordinates": [
           -73.94711784471826,
           40.775929849884875
          ],
          "type": "Point"
         },
         "geometry_name": "geom",
         "id": "nyu_2451_34572.109",
         "properties": {
          "annoangle": 0,
          "annoline1": "Yorkville",
          "annoline2": null,
          "annoline3": null,
          "bbox": [
           -73.94711784471826,
           40.775929849884875,
           -73.94711784471826,
           40.775929849884875
          ],
          "borough": "Manhattan",
          "name": "Yorkville",
          "stacked": 1
         },
         "type": "Feature"
        },
        {
         "geometry": {
          "coordinates": [
           -73.9588596881376,
           40.76811265828733
          ],
          "type": "Point"
         },
         "geometry_name": "geom",
         "id": "nyu_2451_34572.110",
         "properties": {
          "annoangle": 0,
          "annoline1": "Lenox",
          "annoline2": "Hill",
          "annoline3": null,
          "bbox": [
           -73.9588596881376,
           40.76811265828733,
           -73.9588596881376,
           40.76811265828733
          ],
          "borough": "Manhattan",
          "name": "Lenox Hill",
          "stacked": 2
         },
         "type": "Feature"
        },
        {
         "geometry": {
          "coordinates": [
           -73.94916769227953,
           40.76215960576283
          ],
          "type": "Point"
         },
         "geometry_name": "geom",
         "id": "nyu_2451_34572.111",
         "properties": {
          "annoangle": 56,
          "annoline1": "Roosevelt Island",
          "annoline2": null,
          "annoline3": null,
          "bbox": [
           -73.94916769227953,
           40.76215960576283,
           -73.94916769227953,
           40.76215960576283
          ],
          "borough": "Manhattan",
          "name": "Roosevelt Island",
          "stacked": 1
         },
         "type": "Feature"
        },
        {
         "geometry": {
          "coordinates": [
           -73.97705923630603,
           40.787657998534854
          ],
          "type": "Point"
         },
         "geometry_name": "geom",
         "id": "nyu_2451_34572.112",
         "properties": {
          "annoangle": 0,
          "annoline1": "Upper",
          "annoline2": "West",
          "annoline3": "Side",
          "bbox": [
           -73.97705923630603,
           40.787657998534854,
           -73.97705923630603,
           40.787657998534854
          ],
          "borough": "Manhattan",
          "name": "Upper West Side",
          "stacked": 3
         },
         "type": "Feature"
        },
        {
         "geometry": {
          "coordinates": [
           -73.98533777001262,
           40.77352888942166
          ],
          "type": "Point"
         },
         "geometry_name": "geom",
         "id": "nyu_2451_34572.113",
         "properties": {
          "annoangle": 0,
          "annoline1": "Lincoln",
          "annoline2": "Square",
          "annoline3": null,
          "bbox": [
           -73.98533777001262,
           40.77352888942166,
           -73.98533777001262,
           40.77352888942166
          ],
          "borough": "Manhattan",
          "name": "Lincoln Square",
          "stacked": 2
         },
         "type": "Feature"
        },
        {
         "geometry": {
          "coordinates": [
           -73.99611936309479,
           40.75910089146212
          ],
          "type": "Point"
         },
         "geometry_name": "geom",
         "id": "nyu_2451_34572.114",
         "properties": {
          "annoangle": 0,
          "annoline1": "Clinton",
          "annoline2": null,
          "annoline3": null,
          "bbox": [
           -73.99611936309479,
           40.75910089146212,
           -73.99611936309479,
           40.75910089146212
          ],
          "borough": "Manhattan",
          "name": "Clinton",
          "stacked": 1
         },
         "type": "Feature"
        },
        {
         "geometry": {
          "coordinates": [
           -73.98166882730304,
           40.75469110270623
          ],
          "type": "Point"
         },
         "geometry_name": "geom",
         "id": "nyu_2451_34572.115",
         "properties": {
          "annoangle": 0,
          "annoline1": "Midtown",
          "annoline2": null,
          "annoline3": null,
          "bbox": [
           -73.98166882730304,
           40.75469110270623,
           -73.98166882730304,
           40.75469110270623
          ],
          "borough": "Manhattan",
          "name": "Midtown",
          "stacked": 1
         },
         "type": "Feature"
        },
        {
         "geometry": {
          "coordinates": [
           -73.97833207924127,
           40.748303077252174
          ],
          "type": "Point"
         },
         "geometry_name": "geom",
         "id": "nyu_2451_34572.116",
         "properties": {
          "annoangle": 0,
          "annoline1": "Murray",
          "annoline2": "Hill",
          "annoline3": null,
          "bbox": [
           -73.97833207924127,
           40.748303077252174,
           -73.97833207924127,
           40.748303077252174
          ],
          "borough": "Manhattan",
          "name": "Murray Hill",
          "stacked": 2
         },
         "type": "Feature"
        },
        {
         "geometry": {
          "coordinates": [
           -74.00311633472813,
           40.744034706747975
          ],
          "type": "Point"
         },
         "geometry_name": "geom",
         "id": "nyu_2451_34572.117",
         "properties": {
          "annoangle": 0,
          "annoline1": "Chelsea",
          "annoline2": null,
          "annoline3": null,
          "bbox": [
           -74.00311633472813,
           40.744034706747975,
           -74.00311633472813,
           40.744034706747975
          ],
          "borough": "Manhattan",
          "name": "Chelsea",
          "stacked": 1
         },
         "type": "Feature"
        },
        {
         "geometry": {
          "coordinates": [
           -73.99991402945902,
           40.72693288536128
          ],
          "type": "Point"
         },
         "geometry_name": "geom",
         "id": "nyu_2451_34572.118",
         "properties": {
          "annoangle": 0,
          "annoline1": "Greenwich",
          "annoline2": "Village",
          "annoline3": null,
          "bbox": [
           -73.99991402945902,
           40.72693288536128,
           -73.99991402945902,
           40.72693288536128
          ],
          "borough": "Manhattan",
          "name": "Greenwich Village",
          "stacked": 2
         },
         "type": "Feature"
        },
        {
         "geometry": {
          "coordinates": [
           -73.98222616506416,
           40.727846777270244
          ],
          "type": "Point"
         },
         "geometry_name": "geom",
         "id": "nyu_2451_34572.119",
         "properties": {
          "annoangle": 0,
          "annoline1": "East",
          "annoline2": "Village",
          "annoline3": null,
          "bbox": [
           -73.98222616506416,
           40.727846777270244,
           -73.98222616506416,
           40.727846777270244
          ],
          "borough": "Manhattan",
          "name": "East Village",
          "stacked": 2
         },
         "type": "Feature"
        },
        {
         "geometry": {
          "coordinates": [
           -73.98089031999291,
           40.71780674892765
          ],
          "type": "Point"
         },
         "geometry_name": "geom",
         "id": "nyu_2451_34572.120",
         "properties": {
          "annoangle": 0,
          "annoline1": "Lower",
          "annoline2": "East",
          "annoline3": "Side",
          "bbox": [
           -73.98089031999291,
           40.71780674892765,
           -73.98089031999291,
           40.71780674892765
          ],
          "borough": "Manhattan",
          "name": "Lower East Side",
          "stacked": 3
         },
         "type": "Feature"
        },
        {
         "geometry": {
          "coordinates": [
           -74.01068328559087,
           40.721521967443216
          ],
          "type": "Point"
         },
         "geometry_name": "geom",
         "id": "nyu_2451_34572.121",
         "properties": {
          "annoangle": 0,
          "annoline1": "Tribeca",
          "annoline2": null,
          "annoline3": null,
          "bbox": [
           -74.01068328559087,
           40.721521967443216,
           -74.01068328559087,
           40.721521967443216
          ],
          "borough": "Manhattan",
          "name": "Tribeca",
          "stacked": 1
         },
         "type": "Feature"
        },
        {
         "geometry": {
          "coordinates": [
           -73.99730467208073,
           40.71932379395907
          ],
          "type": "Point"
         },
         "geometry_name": "geom",
         "id": "nyu_2451_34572.122",
         "properties": {
          "annoangle": 0,
          "annoline1": "Little",
          "annoline2": "Italy",
          "annoline3": null,
          "bbox": [
           -73.99730467208073,
           40.71932379395907,
           -73.99730467208073,
           40.71932379395907
          ],
          "borough": "Manhattan",
          "name": "Little Italy",
          "stacked": 2
         },
         "type": "Feature"
        },
        {
         "geometry": {
          "coordinates": [
           -74.00065666959759,
           40.72218384131794
          ],
          "type": "Point"
         },
         "geometry_name": "geom",
         "id": "nyu_2451_34572.123",
         "properties": {
          "annoangle": 0,
          "annoline1": "Soho",
          "annoline2": null,
          "annoline3": null,
          "bbox": [
           -74.00065666959759,
           40.72218384131794,
           -74.00065666959759,
           40.72218384131794
          ],
          "borough": "Manhattan",
          "name": "Soho",
          "stacked": 1
         },
         "type": "Feature"
        },
        {
         "geometry": {
          "coordinates": [
           -74.00617998126812,
           40.73443393572434
          ],
          "type": "Point"
         },
         "geometry_name": "geom",
         "id": "nyu_2451_34572.124",
         "properties": {
          "annoangle": 0,
          "annoline1": "West",
          "annoline2": "Village",
          "annoline3": null,
          "bbox": [
           -74.00617998126812,
           40.73443393572434,
           -74.00617998126812,
           40.73443393572434
          ],
          "borough": "Manhattan",
          "name": "West Village",
          "stacked": 2
         },
         "type": "Feature"
        },
        {
         "geometry": {
          "coordinates": [
           -73.96428617740655,
           40.797307041702865
          ],
          "type": "Point"
         },
         "geometry_name": "geom",
         "id": "nyu_2451_34572.125",
         "properties": {
          "annoangle": 0,
          "annoline1": "Manhattan",
          "annoline2": "Valley",
          "annoline3": null,
          "bbox": [
           -73.96428617740655,
           40.797307041702865,
           -73.96428617740655,
           40.797307041702865
          ],
          "borough": "Manhattan",
          "name": "Manhattan Valley",
          "stacked": 2
         },
         "type": "Feature"
        },
        {
         "geometry": {
          "coordinates": [
           -73.96389627905332,
           40.807999738165826
          ],
          "type": "Point"
         },
         "geometry_name": "geom",
         "id": "nyu_2451_34572.126",
         "properties": {
          "annoangle": 0,
          "annoline1": "Morningside",
          "annoline2": "Heights",
          "annoline3": null,
          "bbox": [
           -73.96389627905332,
           40.807999738165826,
           -73.96389627905332,
           40.807999738165826
          ],
          "borough": "Manhattan",
          "name": "Morningside Heights",
          "stacked": 2
         },
         "type": "Feature"
        },
        {
         "geometry": {
          "coordinates": [
           -73.98137594833541,
           40.737209832715
          ],
          "type": "Point"
         },
         "geometry_name": "geom",
         "id": "nyu_2451_34572.127",
         "properties": {
          "annoangle": 0,
          "annoline1": "Gramercy",
          "annoline2": null,
          "annoline3": null,
          "bbox": [
           -73.98137594833541,
           40.737209832715,
           -73.98137594833541,
           40.737209832715
          ],
          "borough": "Manhattan",
          "name": "Gramercy",
          "stacked": 1
         },
         "type": "Feature"
        },
        {
         "geometry": {
          "coordinates": [
           -74.01686930508617,
           40.71193198394565
          ],
          "type": "Point"
         },
         "geometry_name": "geom",
         "id": "nyu_2451_34572.128",
         "properties": {
          "annoangle": 0,
          "annoline1": "Battery",
          "annoline2": "Park",
          "annoline3": "City",
          "bbox": [
           -74.01686930508617,
           40.71193198394565,
           -74.01686930508617,
           40.71193198394565
          ],
          "borough": "Manhattan",
          "name": "Battery Park City",
          "stacked": 3
         },
         "type": "Feature"
        },
        {
         "geometry": {
          "coordinates": [
           -74.0106654452127,
           40.70710710727048
          ],
          "type": "Point"
         },
         "geometry_name": "geom",
         "id": "nyu_2451_34572.129",
         "properties": {
          "annoangle": 0,
          "annoline1": "Financial",
          "annoline2": "District",
          "annoline3": null,
          "bbox": [
           -74.0106654452127,
           40.70710710727048,
           -74.0106654452127,
           40.70710710727048
          ],
          "borough": "Manhattan",
          "name": "Financial District",
          "stacked": 2
         },
         "type": "Feature"
        },
        {
         "geometry": {
          "coordinates": [
           -73.91565374304234,
           40.76850859335492
          ],
          "type": "Point"
         },
         "geometry_name": "geom",
         "id": "nyu_2451_34572.130",
         "properties": {
          "annoangle": 0,
          "annoline1": "Astoria",
          "annoline2": null,
          "annoline3": null,
          "bbox": [
           -73.91565374304234,
           40.76850859335492,
           -73.91565374304234,
           40.76850859335492
          ],
          "borough": "Queens",
          "name": "Astoria",
          "stacked": 1
         },
         "type": "Feature"
        },
        {
         "geometry": {
          "coordinates": [
           -73.90184166838284,
           40.74634908860222
          ],
          "type": "Point"
         },
         "geometry_name": "geom",
         "id": "nyu_2451_34572.131",
         "properties": {
          "annoangle": 0,
          "annoline1": "Woodside",
          "annoline2": null,
          "annoline3": null,
          "bbox": [
           -73.90184166838284,
           40.74634908860222,
           -73.90184166838284,
           40.74634908860222
          ],
          "borough": "Queens",
          "name": "Woodside",
          "stacked": 1
         },
         "type": "Feature"
        },
        {
         "geometry": {
          "coordinates": [
           -73.88282109164365,
           40.75198138007367
          ],
          "type": "Point"
         },
         "geometry_name": "geom",
         "id": "nyu_2451_34572.132",
         "properties": {
          "annoangle": 0,
          "annoline1": "Jackson",
          "annoline2": "Heights",
          "annoline3": null,
          "bbox": [
           -73.88282109164365,
           40.75198138007367,
           -73.88282109164365,
           40.75198138007367
          ],
          "borough": "Queens",
          "name": "Jackson Heights",
          "stacked": 2
         },
         "type": "Feature"
        },
        {
         "geometry": {
          "coordinates": [
           -73.88165622288388,
           40.744048505122024
          ],
          "type": "Point"
         },
         "geometry_name": "geom",
         "id": "nyu_2451_34572.133",
         "properties": {
          "annoangle": 0,
          "annoline1": "Elmhurst",
          "annoline2": null,
          "annoline3": null,
          "bbox": [
           -73.88165622288388,
           40.744048505122024,
           -73.88165622288388,
           40.744048505122024
          ],
          "borough": "Queens",
          "name": "Elmhurst",
          "stacked": 1
         },
         "type": "Feature"
        },
        {
         "geometry": {
          "coordinates": [
           -73.8381376460028,
           40.65422527738487
          ],
          "type": "Point"
         },
         "geometry_name": "geom",
         "id": "nyu_2451_34572.134",
         "properties": {
          "annoangle": 0,
          "annoline1": "Howard",
          "annoline2": "Beach",
          "annoline3": null,
          "bbox": [
           -73.8381376460028,
           40.65422527738487,
           -73.8381376460028,
           40.65422527738487
          ],
          "borough": "Queens",
          "name": "Howard Beach",
          "stacked": 2
         },
         "type": "Feature"
        },
        {
         "geometry": {
          "coordinates": [
           -73.85682497345258,
           40.74238175015667
          ],
          "type": "Point"
         },
         "geometry_name": "geom",
         "id": "nyu_2451_34572.135",
         "properties": {
          "annoangle": 0,
          "annoline1": "Corona",
          "annoline2": null,
          "annoline3": null,
          "bbox": [
           -73.85682497345258,
           40.74238175015667,
           -73.85682497345258,
           40.74238175015667
          ],
          "borough": "Queens",
          "name": "Corona",
          "stacked": 1
         },
         "type": "Feature"
        },
        {
         "geometry": {
          "coordinates": [
           -73.84447500788983,
           40.72526378216503
          ],
          "type": "Point"
         },
         "geometry_name": "geom",
         "id": "nyu_2451_34572.136",
         "properties": {
          "annoangle": 0,
          "annoline1": "Forest",
          "annoline2": "Hills",
          "annoline3": null,
          "bbox": [
           -73.84447500788983,
           40.72526378216503,
           -73.84447500788983,
           40.72526378216503
          ],
          "borough": "Queens",
          "name": "Forest Hills",
          "stacked": 2
         },
         "type": "Feature"
        },
        {
         "geometry": {
          "coordinates": [
           -73.82981905825703,
           40.7051790354148
          ],
          "type": "Point"
         },
         "geometry_name": "geom",
         "id": "nyu_2451_34572.137",
         "properties": {
          "annoangle": 0,
          "annoline1": "Kew",
          "annoline2": "Gardens",
          "annoline3": null,
          "bbox": [
           -73.82981905825703,
           40.7051790354148,
           -73.82981905825703,
           40.7051790354148
          ],
          "borough": "Queens",
          "name": "Kew Gardens",
          "stacked": 2
         },
         "type": "Feature"
        },
        {
         "geometry": {
          "coordinates": [
           -73.83183321446887,
           40.69794731471763
          ],
          "type": "Point"
         },
         "geometry_name": "geom",
         "id": "nyu_2451_34572.138",
         "properties": {
          "annoangle": 0,
          "annoline1": "Richmond",
          "annoline2": "Hill",
          "annoline3": null,
          "bbox": [
           -73.83183321446887,
           40.69794731471763,
           -73.83183321446887,
           40.69794731471763
          ],
          "borough": "Queens",
          "name": "Richmond Hill",
          "stacked": 2
         },
         "type": "Feature"
        },
        {
         "geometry": {
          "coordinates": [
           -73.83177300329582,
           40.76445419697846
          ],
          "type": "Point"
         },
         "geometry_name": "geom",
         "id": "nyu_2451_34572.139",
         "properties": {
          "annoangle": 0,
          "annoline1": "Flushing",
          "annoline2": null,
          "annoline3": null,
          "bbox": [
           -73.83177300329582,
           40.76445419697846,
           -73.83177300329582,
           40.76445419697846
          ],
          "borough": "Queens",
          "name": "Flushing",
          "stacked": 1
         },
         "type": "Feature"
        },
        {
         "geometry": {
          "coordinates": [
           -73.93920223915505,
           40.75021734610528
          ],
          "type": "Point"
         },
         "geometry_name": "geom",
         "id": "nyu_2451_34572.140",
         "properties": {
          "annoangle": 0,
          "annoline1": "Long",
          "annoline2": "Island",
          "annoline3": "City",
          "bbox": [
           -73.93920223915505,
           40.75021734610528,
           -73.93920223915505,
           40.75021734610528
          ],
          "borough": "Queens",
          "name": "Long Island City",
          "stacked": 3
         },
         "type": "Feature"
        },
        {
         "geometry": {
          "coordinates": [
           -73.92691617561577,
           40.74017628351924
          ],
          "type": "Point"
         },
         "geometry_name": "geom",
         "id": "nyu_2451_34572.141",
         "properties": {
          "annoangle": 0,
          "annoline1": "Sunnyside",
          "annoline2": null,
          "annoline3": null,
          "bbox": [
           -73.92691617561577,
           40.74017628351924,
           -73.92691617561577,
           40.74017628351924
          ],
          "borough": "Queens",
          "name": "Sunnyside",
          "stacked": 1
         },
         "type": "Feature"
        },
        {
         "geometry": {
          "coordinates": [
           -73.86704147658772,
           40.76407323883091
          ],
          "type": "Point"
         },
         "geometry_name": "geom",
         "id": "nyu_2451_34572.142",
         "properties": {
          "annoangle": 0,
          "annoline1": "East",
          "annoline2": "Elmhurst",
          "annoline3": null,
          "bbox": [
           -73.86704147658772,
           40.76407323883091,
           -73.86704147658772,
           40.76407323883091
          ],
          "borough": "Queens",
          "name": "East Elmhurst",
          "stacked": 2
         },
         "type": "Feature"
        },
        {
         "geometry": {
          "coordinates": [
           -73.89621713626859,
           40.725427374093606
          ],
          "type": "Point"
         },
         "geometry_name": "geom",
         "id": "nyu_2451_34572.143",
         "properties": {
          "annoangle": 0,
          "annoline1": "Maspeth",
          "annoline2": null,
          "annoline3": null,
          "bbox": [
           -73.89621713626859,
           40.725427374093606,
           -73.89621713626859,
           40.725427374093606
          ],
          "borough": "Queens",
          "name": "Maspeth",
          "stacked": 1
         },
         "type": "Feature"
        },
        {
         "geometry": {
          "coordinates": [
           -73.90143517559589,
           40.70832315613858
          ],
          "type": "Point"
         },
         "geometry_name": "geom",
         "id": "nyu_2451_34572.144",
         "properties": {
          "annoangle": 0,
          "annoline1": "Ridgewood",
          "annoline2": null,
          "annoline3": null,
          "bbox": [
           -73.90143517559589,
           40.70832315613858,
           -73.90143517559589,
           40.70832315613858
          ],
          "borough": "Queens",
          "name": "Ridgewood",
          "stacked": 1
         },
         "type": "Feature"
        },
        {
         "geometry": {
          "coordinates": [
           -73.87074167435605,
           40.70276242967838
          ],
          "type": "Point"
         },
         "geometry_name": "geom",
         "id": "nyu_2451_34572.145",
         "properties": {
          "annoangle": 0,
          "annoline1": "Glendale",
          "annoline2": null,
          "annoline3": null,
          "bbox": [
           -73.87074167435605,
           40.70276242967838,
           -73.87074167435605,
           40.70276242967838
          ],
          "borough": "Queens",
          "name": "Glendale",
          "stacked": 1
         },
         "type": "Feature"
        },
        {
         "geometry": {
          "coordinates": [
           -73.8578268690537,
           40.72897409480735
          ],
          "type": "Point"
         },
         "geometry_name": "geom",
         "id": "nyu_2451_34572.146",
         "properties": {
          "annoangle": 0,
          "annoline1": "Rego Park",
          "annoline2": null,
          "annoline3": null,
          "bbox": [
           -73.8578268690537,
           40.72897409480735,
           -73.8578268690537,
           40.72897409480735
          ],
          "borough": "Queens",
          "name": "Rego Park",
          "stacked": 1
         },
         "type": "Feature"
        },
        {
         "geometry": {
          "coordinates": [
           -73.8581104655432,
           40.68988687915789
          ],
          "type": "Point"
         },
         "geometry_name": "geom",
         "id": "nyu_2451_34572.147",
         "properties": {
          "annoangle": 0,
          "annoline1": "Woodhaven",
          "annoline2": null,
          "annoline3": null,
          "bbox": [
           -73.8581104655432,
           40.68988687915789,
           -73.8581104655432,
           40.68988687915789
          ],
          "borough": "Queens",
          "name": "Woodhaven",
          "stacked": 1
         },
         "type": "Feature"
        },
        {
         "geometry": {
          "coordinates": [
           -73.84320266173447,
           40.680708468265415
          ],
          "type": "Point"
         },
         "geometry_name": "geom",
         "id": "nyu_2451_34572.148",
         "properties": {
          "annoangle": 0,
          "annoline1": "Ozone Park",
          "annoline2": null,
          "annoline3": null,
          "bbox": [
           -73.84320266173447,
           40.680708468265415,
           -73.84320266173447,
           40.680708468265415
          ],
          "borough": "Queens",
          "name": "Ozone Park",
          "stacked": 1
         },
         "type": "Feature"
        },
        {
         "geometry": {
          "coordinates": [
           -73.80986478649041,
           40.66854957767195
          ],
          "type": "Point"
         },
         "geometry_name": "geom",
         "id": "nyu_2451_34572.149",
         "properties": {
          "annoangle": 0,
          "annoline1": "South",
          "annoline2": "Ozone Park",
          "annoline3": null,
          "bbox": [
           -73.80986478649041,
           40.66854957767195,
           -73.80986478649041,
           40.66854957767195
          ],
          "borough": "Queens",
          "name": "South Ozone Park",
          "stacked": 2
         },
         "type": "Feature"
        },
        {
         "geometry": {
          "coordinates": [
           -73.84304528896125,
           40.784902749260205
          ],
          "type": "Point"
         },
         "geometry_name": "geom",
         "id": "nyu_2451_34572.150",
         "properties": {
          "annoangle": 0,
          "annoline1": "College",
          "annoline2": "Point",
          "annoline3": null,
          "bbox": [
           -73.84304528896125,
           40.784902749260205,
           -73.84304528896125,
           40.784902749260205
          ],
          "borough": "Queens",
          "name": "College Point",
          "stacked": 2
         },
         "type": "Feature"
        },
        {
         "geometry": {
          "coordinates": [
           -73.81420216610863,
           40.78129076602694
          ],
          "type": "Point"
         },
         "geometry_name": "geom",
         "id": "nyu_2451_34572.151",
         "properties": {
          "annoangle": 0,
          "annoline1": "Whitestone",
          "annoline2": null,
          "annoline3": null,
          "bbox": [
           -73.81420216610863,
           40.78129076602694,
           -73.81420216610863,
           40.78129076602694
          ],
          "borough": "Queens",
          "name": "Whitestone",
          "stacked": 1
         },
         "type": "Feature"
        },
        {
         "geometry": {
          "coordinates": [
           -73.7742736306867,
           40.76604063281064
          ],
          "type": "Point"
         },
         "geometry_name": "geom",
         "id": "nyu_2451_34572.152",
         "properties": {
          "annoangle": 0,
          "annoline1": "Bayside",
          "annoline2": null,
          "annoline3": null,
          "bbox": [
           -73.7742736306867,
           40.76604063281064,
           -73.7742736306867,
           40.76604063281064
          ],
          "borough": "Queens",
          "name": "Bayside",
          "stacked": 1
         },
         "type": "Feature"
        },
        {
         "geometry": {
          "coordinates": [
           -73.79176243728061,
           40.76172954903262
          ],
          "type": "Point"
         },
         "geometry_name": "geom",
         "id": "nyu_2451_34572.153",
         "properties": {
          "annoangle": 0,
          "annoline1": "Auburndale",
          "annoline2": null,
          "annoline3": null,
          "bbox": [
           -73.79176243728061,
           40.76172954903262,
           -73.79176243728061,
           40.76172954903262
          ],
          "borough": "Queens",
          "name": "Auburndale",
          "stacked": 1
         },
         "type": "Feature"
        },
        {
         "geometry": {
          "coordinates": [
           -73.7388977558074,
           40.7708261928267
          ],
          "type": "Point"
         },
         "geometry_name": "geom",
         "id": "nyu_2451_34572.154",
         "properties": {
          "annoangle": 0,
          "annoline1": "Little",
          "annoline2": "Neck",
          "annoline3": null,
          "bbox": [
           -73.7388977558074,
           40.7708261928267,
           -73.7388977558074,
           40.7708261928267
          ],
          "borough": "Queens",
          "name": "Little Neck",
          "stacked": 2
         },
         "type": "Feature"
        },
        {
         "geometry": {
          "coordinates": [
           -73.7424982072733,
           40.76684609790763
          ],
          "type": "Point"
         },
         "geometry_name": "geom",
         "id": "nyu_2451_34572.155",
         "properties": {
          "annoangle": 0,
          "annoline1": "Douglaston",
          "annoline2": null,
          "annoline3": null,
          "bbox": [
           -73.7424982072733,
           40.76684609790763,
           -73.7424982072733,
           40.76684609790763
          ],
          "borough": "Queens",
          "name": "Douglaston",
          "stacked": 1
         },
         "type": "Feature"
        },
        {
         "geometry": {
          "coordinates": [
           -73.71548118999145,
           40.74944079974332
          ],
          "type": "Point"
         },
         "geometry_name": "geom",
         "id": "nyu_2451_34572.156",
         "properties": {
          "annoangle": 0,
          "annoline1": "Glen",
          "annoline2": "Oaks",
          "annoline3": null,
          "bbox": [
           -73.71548118999145,
           40.74944079974332,
           -73.71548118999145,
           40.74944079974332
          ],
          "borough": "Queens",
          "name": "Glen Oaks",
          "stacked": 2
         },
         "type": "Feature"
        },
        {
         "geometry": {
          "coordinates": [
           -73.72012814826903,
           40.72857318176675
          ],
          "type": "Point"
         },
         "geometry_name": "geom",
         "id": "nyu_2451_34572.157",
         "properties": {
          "annoangle": 0,
          "annoline1": "Bellerose",
          "annoline2": null,
          "annoline3": null,
          "bbox": [
           -73.72012814826903,
           40.72857318176675,
           -73.72012814826903,
           40.72857318176675
          ],
          "borough": "Queens",
          "name": "Bellerose",
          "stacked": 1
         },
         "type": "Feature"
        },
        {
         "geometry": {
          "coordinates": [
           -73.82087764933566,
           40.722578244228046
          ],
          "type": "Point"
         },
         "geometry_name": "geom",
         "id": "nyu_2451_34572.158",
         "properties": {
          "annoangle": 0,
          "annoline1": "Kew",
          "annoline2": "Gardens",
          "annoline3": "Hills",
          "bbox": [
           -73.82087764933566,
           40.722578244228046,
           -73.82087764933566,
           40.722578244228046
          ],
          "borough": "Queens",
          "name": "Kew Gardens Hills",
          "stacked": 3
         },
         "type": "Feature"
        },
        {
         "geometry": {
          "coordinates": [
           -73.78271337003264,
           40.7343944653313
          ],
          "type": "Point"
         },
         "geometry_name": "geom",
         "id": "nyu_2451_34572.159",
         "properties": {
          "annoangle": 0,
          "annoline1": "Fresh",
          "annoline2": "Meadows",
          "annoline3": null,
          "bbox": [
           -73.78271337003264,
           40.7343944653313,
           -73.78271337003264,
           40.7343944653313
          ],
          "borough": "Queens",
          "name": "Fresh Meadows",
          "stacked": 2
         },
         "type": "Feature"
        },
        {
         "geometry": {
          "coordinates": [
           -73.81174822458634,
           40.71093547252271
          ],
          "type": "Point"
         },
         "geometry_name": "geom",
         "id": "nyu_2451_34572.160",
         "properties": {
          "annoangle": 0,
          "annoline1": "Briarwood",
          "annoline2": null,
          "annoline3": null,
          "bbox": [
           -73.81174822458634,
           40.71093547252271,
           -73.81174822458634,
           40.71093547252271
          ],
          "borough": "Queens",
          "name": "Briarwood",
          "stacked": 1
         },
         "type": "Feature"
        },
        {
         "geometry": {
          "coordinates": [
           -73.79690165888289,
           40.70465736068717
          ],
          "type": "Point"
         },
         "geometry_name": "geom",
         "id": "nyu_2451_34572.161",
         "properties": {
          "annoangle": 0,
          "annoline1": "Jamaica",
          "annoline2": "Center",
          "annoline3": null,
          "bbox": [
           -73.79690165888289,
           40.70465736068717,
           -73.79690165888289,
           40.70465736068717
          ],
          "borough": "Queens",
          "name": "Jamaica Center",
          "stacked": 2
         },
         "type": "Feature"
        },
        {
         "geometry": {
          "coordinates": [
           -73.75494976234332,
           40.74561857141855
          ],
          "type": "Point"
         },
         "geometry_name": "geom",
         "id": "nyu_2451_34572.162",
         "properties": {
          "annoangle": 0,
          "annoline1": "Oakland",
          "annoline2": "Gardens",
          "annoline3": null,
          "bbox": [
           -73.75494976234332,
           40.74561857141855,
           -73.75494976234332,
           40.74561857141855
          ],
          "borough": "Queens",
          "name": "Oakland Gardens",
          "stacked": 2
         },
         "type": "Feature"
        },
        {
         "geometry": {
          "coordinates": [
           -73.73871484578424,
           40.718893092167356
          ],
          "type": "Point"
         },
         "geometry_name": "geom",
         "id": "nyu_2451_34572.163",
         "properties": {
          "annoangle": 0,
          "annoline1": "Queens",
          "annoline2": "Village",
          "annoline3": null,
          "bbox": [
           -73.73871484578424,
           40.718893092167356,
           -73.73871484578424,
           40.718893092167356
          ],
          "borough": "Queens",
          "name": "Queens Village",
          "stacked": 2
         },
         "type": "Feature"
        },
        {
         "geometry": {
          "coordinates": [
           -73.75925009335594,
           40.71124344191904
          ],
          "type": "Point"
         },
         "geometry_name": "geom",
         "id": "nyu_2451_34572.164",
         "properties": {
          "annoangle": 0,
          "annoline1": "Hollis",
          "annoline2": null,
          "annoline3": null,
          "bbox": [
           -73.75925009335594,
           40.71124344191904,
           -73.75925009335594,
           40.71124344191904
          ],
          "borough": "Queens",
          "name": "Hollis",
          "stacked": 1
         },
         "type": "Feature"
        },
        {
         "geometry": {
          "coordinates": [
           -73.7904261313554,
           40.696911253789885
          ],
          "type": "Point"
         },
         "geometry_name": "geom",
         "id": "nyu_2451_34572.165",
         "properties": {
          "annoangle": 0,
          "annoline1": "South Jamaica",
          "annoline2": null,
          "annoline3": null,
          "bbox": [
           -73.7904261313554,
           40.696911253789885,
           -73.7904261313554,
           40.696911253789885
          ],
          "borough": "Queens",
          "name": "South Jamaica",
          "stacked": 1
         },
         "type": "Feature"
        },
        {
         "geometry": {
          "coordinates": [
           -73.75867603727717,
           40.69444538522359
          ],
          "type": "Point"
         },
         "geometry_name": "geom",
         "id": "nyu_2451_34572.166",
         "properties": {
          "annoangle": 0,
          "annoline1": "St. Albans",
          "annoline2": null,
          "annoline3": null,
          "bbox": [
           -73.75867603727717,
           40.69444538522359,
           -73.75867603727717,
           40.69444538522359
          ],
          "borough": "Queens",
          "name": "St. Albans",
          "stacked": 1
         },
         "type": "Feature"
        },
        {
         "geometry": {
          "coordinates": [
           -73.77258787620906,
           40.67521139591733
          ],
          "type": "Point"
         },
         "geometry_name": "geom",
         "id": "nyu_2451_34572.167",
         "properties": {
          "annoangle": 0,
          "annoline1": "Rochdale",
          "annoline2": null,
          "annoline3": null,
          "bbox": [
           -73.77258787620906,
           40.67521139591733,
           -73.77258787620906,
           40.67521139591733
          ],
          "borough": "Queens",
          "name": "Rochdale",
          "stacked": 1
         },
         "type": "Feature"
        },
        {
         "geometry": {
          "coordinates": [
           -73.76042092682287,
           40.666230490368584
          ],
          "type": "Point"
         },
         "geometry_name": "geom",
         "id": "nyu_2451_34572.168",
         "properties": {
          "annoangle": 0,
          "annoline1": "Springfield",
          "annoline2": "Gardens",
          "annoline3": null,
          "bbox": [
           -73.76042092682287,
           40.666230490368584,
           -73.76042092682287,
           40.666230490368584
          ],
          "borough": "Queens",
          "name": "Springfield Gardens",
          "stacked": 2
         },
         "type": "Feature"
        },
        {
         "geometry": {
          "coordinates": [
           -73.73526873708026,
           40.692774639160845
          ],
          "type": "Point"
         },
         "geometry_name": "geom",
         "id": "nyu_2451_34572.169",
         "properties": {
          "annoangle": 0,
          "annoline1": "Cambria",
          "annoline2": "Heights",
          "annoline3": null,
          "bbox": [
           -73.73526873708026,
           40.692774639160845,
           -73.73526873708026,
           40.692774639160845
          ],
          "borough": "Queens",
          "name": "Cambria Heights",
          "stacked": 2
         },
         "type": "Feature"
        },
        {
         "geometry": {
          "coordinates": [
           -73.73526079428278,
           40.659816433428084
          ],
          "type": "Point"
         },
         "geometry_name": "geom",
         "id": "nyu_2451_34572.170",
         "properties": {
          "annoangle": 0,
          "annoline1": "Rosedale",
          "annoline2": null,
          "annoline3": null,
          "bbox": [
           -73.73526079428278,
           40.659816433428084,
           -73.73526079428278,
           40.659816433428084
          ],
          "borough": "Queens",
          "name": "Rosedale",
          "stacked": 1
         },
         "type": "Feature"
        },
        {
         "geometry": {
          "coordinates": [
           -73.75497968043872,
           40.603134432500894
          ],
          "type": "Point"
         },
         "geometry_name": "geom",
         "id": "nyu_2451_34572.171",
         "properties": {
          "annoangle": 0,
          "annoline1": "Far Rockaway",
          "annoline2": null,
          "annoline3": null,
          "bbox": [
           -73.75497968043872,
           40.603134432500894,
           -73.75497968043872,
           40.603134432500894
          ],
          "borough": "Queens",
          "name": "Far Rockaway",
          "stacked": 2
         },
         "type": "Feature"
        },
        {
         "geometry": {
          "coordinates": [
           -73.8200548911032,
           40.60302658351238
          ],
          "type": "Point"
         },
         "geometry_name": "geom",
         "id": "nyu_2451_34572.172",
         "properties": {
          "annoangle": 0,
          "annoline1": "Broad",
          "annoline2": "Channel",
          "annoline3": null,
          "bbox": [
           -73.8200548911032,
           40.60302658351238,
           -73.8200548911032,
           40.60302658351238
          ],
          "borough": "Queens",
          "name": "Broad Channel",
          "stacked": 2
         },
         "type": "Feature"
        },
        {
         "geometry": {
          "coordinates": [
           -73.92551196994168,
           40.55740128845452
          ],
          "type": "Point"
         },
         "geometry_name": "geom",
         "id": "nyu_2451_34572.173",
         "properties": {
          "annoangle": 0,
          "annoline1": "Breezy",
          "annoline2": "Point",
          "annoline3": null,
          "bbox": [
           -73.92551196994168,
           40.55740128845452,
           -73.92551196994168,
           40.55740128845452
          ],
          "borough": "Queens",
          "name": "Breezy Point",
          "stacked": 2
         },
         "type": "Feature"
        },
        {
         "geometry": {
          "coordinates": [
           -73.90228960391673,
           40.775923015642896
          ],
          "type": "Point"
         },
         "geometry_name": "geom",
         "id": "nyu_2451_34572.174",
         "properties": {
          "annoangle": 0,
          "annoline1": "Steinway",
          "annoline2": null,
          "annoline3": null,
          "bbox": [
           -73.90228960391673,
           40.775923015642896,
           -73.90228960391673,
           40.775923015642896
          ],
          "borough": "Queens",
          "name": "Steinway",
          "stacked": 1
         },
         "type": "Feature"
        },
        {
         "geometry": {
          "coordinates": [
           -73.80436451720988,
           40.79278140360048
          ],
          "type": "Point"
         },
         "geometry_name": "geom",
         "id": "nyu_2451_34572.175",
         "properties": {
          "annoangle": 0,
          "annoline1": "Beechhurst",
          "annoline2": null,
          "annoline3": null,
          "bbox": [
           -73.80436451720988,
           40.79278140360048,
           -73.80436451720988,
           40.79278140360048
          ],
          "borough": "Queens",
          "name": "Beechhurst",
          "stacked": 1
         },
         "type": "Feature"
        },
        {
         "geometry": {
          "coordinates": [
           -73.7768022262158,
           40.782842806245554
          ],
          "type": "Point"
         },
         "geometry_name": "geom",
         "id": "nyu_2451_34572.176",
         "properties": {
          "annoangle": 0,
          "annoline1": "Bay",
          "annoline2": "Terrace",
          "annoline3": null,
          "bbox": [
           -73.7768022262158,
           40.782842806245554,
           -73.7768022262158,
           40.782842806245554
          ],
          "borough": "Queens",
          "name": "Bay Terrace",
          "stacked": 2
         },
         "type": "Feature"
        },
        {
         "geometry": {
          "coordinates": [
           -73.77613282391705,
           40.595641807368494
          ],
          "type": "Point"
         },
         "geometry_name": "geom",
         "id": "nyu_2451_34572.177",
         "properties": {
          "annoangle": 0,
          "annoline1": "Edgemere",
          "annoline2": null,
          "annoline3": null,
          "bbox": [
           -73.77613282391705,
           40.595641807368494,
           -73.77613282391705,
           40.595641807368494
          ],
          "borough": "Queens",
          "name": "Edgemere",
          "stacked": 1
         },
         "type": "Feature"
        },
        {
         "geometry": {
          "coordinates": [
           -73.79199233136943,
           40.58914394372971
          ],
          "type": "Point"
         },
         "geometry_name": "geom",
         "id": "nyu_2451_34572.178",
         "properties": {
          "annoangle": 0,
          "annoline1": "Arverne",
          "annoline2": null,
          "annoline3": null,
          "bbox": [
           -73.79199233136943,
           40.58914394372971,
           -73.79199233136943,
           40.58914394372971
          ],
          "borough": "Queens",
          "name": "Arverne",
          "stacked": 1
         },
         "type": "Feature"
        },
        {
         "geometry": {
          "coordinates": [
           -73.82236121088751,
           40.582801696845586
          ],
          "type": "Point"
         },
         "geometry_name": "geom",
         "id": "nyu_2451_34572.179",
         "properties": {
          "annoangle": 0,
          "annoline1": "Rockaway",
          "annoline2": "Beach",
          "annoline3": null,
          "bbox": [
           -73.82236121088751,
           40.582801696845586,
           -73.82236121088751,
           40.582801696845586
          ],
          "borough": "Queens",
          "name": "Rockaway Beach",
          "stacked": 2
         },
         "type": "Feature"
        },
        {
         "geometry": {
          "coordinates": [
           -73.85754672410827,
           40.572036730217015
          ],
          "type": "Point"
         },
         "geometry_name": "geom",
         "id": "nyu_2451_34572.180",
         "properties": {
          "annoangle": 0,
          "annoline1": "Neponsit",
          "annoline2": null,
          "annoline3": null,
          "bbox": [
           -73.85754672410827,
           40.572036730217015,
           -73.85754672410827,
           40.572036730217015
          ],
          "borough": "Queens",
          "name": "Neponsit",
          "stacked": 1
         },
         "type": "Feature"
        },
        {
         "geometry": {
          "coordinates": [
           -73.81276269135866,
           40.764126122614066
          ],
          "type": "Point"
         },
         "geometry_name": "geom",
         "id": "nyu_2451_34572.181",
         "properties": {
          "annoangle": 0,
          "annoline1": "Murray",
          "annoline2": "Hill",
          "annoline3": null,
          "bbox": [
           -73.81276269135866,
           40.764126122614066,
           -73.81276269135866,
           40.764126122614066
          ],
          "borough": "Queens",
          "name": "Murray Hill",
          "stacked": 2
         },
         "type": "Feature"
        },
        {
         "geometry": {
          "coordinates": [
           -73.70884705889246,
           40.741378421945434
          ],
          "type": "Point"
         },
         "geometry_name": "geom",
         "id": "nyu_2451_34572.182",
         "properties": {
          "annoangle": 0,
          "annoline1": "Floral Park",
          "annoline2": null,
          "annoline3": null,
          "bbox": [
           -73.70884705889246,
           40.741378421945434,
           -73.70884705889246,
           40.741378421945434
          ],
          "borough": "Queens",
          "name": "Floral Park",
          "stacked": 1
         },
         "type": "Feature"
        },
        {
         "geometry": {
          "coordinates": [
           -73.76714166714729,
           40.7209572076444
          ],
          "type": "Point"
         },
         "geometry_name": "geom",
         "id": "nyu_2451_34572.183",
         "properties": {
          "annoangle": 0,
          "annoline1": "Holliswood",
          "annoline2": null,
          "annoline3": null,
          "bbox": [
           -73.76714166714729,
           40.7209572076444,
           -73.76714166714729,
           40.7209572076444
          ],
          "borough": "Queens",
          "name": "Holliswood",
          "stacked": 1
         },
         "type": "Feature"
        },
        {
         "geometry": {
          "coordinates": [
           -73.7872269693666,
           40.71680483014613
          ],
          "type": "Point"
         },
         "geometry_name": "geom",
         "id": "nyu_2451_34572.184",
         "properties": {
          "annoangle": 0,
          "annoline1": "Jamaica",
          "annoline2": "Estates",
          "annoline3": null,
          "bbox": [
           -73.7872269693666,
           40.71680483014613,
           -73.7872269693666,
           40.71680483014613
          ],
          "borough": "Queens",
          "name": "Jamaica Estates",
          "stacked": 2
         },
         "type": "Feature"
        },
        {
         "geometry": {
          "coordinates": [
           -73.82580915110559,
           40.7445723092867
          ],
          "type": "Point"
         },
         "geometry_name": "geom",
         "id": "nyu_2451_34572.185",
         "properties": {
          "annoangle": 0,
          "annoline1": "Queensboro",
          "annoline2": "Hill",
          "annoline3": null,
          "bbox": [
           -73.82580915110559,
           40.7445723092867,
           -73.82580915110559,
           40.7445723092867
          ],
          "borough": "Queens",
          "name": "Queensboro Hill",
          "stacked": 2
         },
         "type": "Feature"
        },
        {
         "geometry": {
          "coordinates": [
           -73.79760300912672,
           40.723824901829204
          ],
          "type": "Point"
         },
         "geometry_name": "geom",
         "id": "nyu_2451_34572.186",
         "properties": {
          "annoangle": 0,
          "annoline1": "Hillcrest",
          "annoline2": null,
          "annoline3": null,
          "bbox": [
           -73.79760300912672,
           40.723824901829204,
           -73.79760300912672,
           40.723824901829204
          ],
          "borough": "Queens",
          "name": "Hillcrest",
          "stacked": 1
         },
         "type": "Feature"
        },
        {
         "geometry": {
          "coordinates": [
           -73.93157506072878,
           40.761704526054146
          ],
          "type": "Point"
         },
         "geometry_name": "geom",
         "id": "nyu_2451_34572.187",
         "properties": {
          "annoangle": 0,
          "annoline1": "Ravenswood",
          "annoline2": null,
          "annoline3": null,
          "bbox": [
           -73.93157506072878,
           40.761704526054146,
           -73.93157506072878,
           40.761704526054146
          ],
          "borough": "Queens",
          "name": "Ravenswood",
          "stacked": 1
         },
         "type": "Feature"
        },
        {
         "geometry": {
          "coordinates": [
           -73.84963782402441,
           40.66391841925139
          ],
          "type": "Point"
         },
         "geometry_name": "geom",
         "id": "nyu_2451_34572.188",
         "properties": {
          "annoangle": 0,
          "annoline1": "Lindenwood",
          "annoline2": null,
          "annoline3": null,
          "bbox": [
           -73.84963782402441,
           40.66391841925139,
           -73.84963782402441,
           40.66391841925139
          ],
          "borough": "Queens",
          "name": "Lindenwood",
          "stacked": 1
         },
         "type": "Feature"
        },
        {
         "geometry": {
          "coordinates": [
           -73.74025607989822,
           40.66788389660247
          ],
          "type": "Point"
         },
         "geometry_name": "geom",
         "id": "nyu_2451_34572.189",
         "properties": {
          "annoangle": 0,
          "annoline1": "Laurelton",
          "annoline2": null,
          "annoline3": null,
          "bbox": [
           -73.74025607989822,
           40.66788389660247,
           -73.74025607989822,
           40.66788389660247
          ],
          "borough": "Queens",
          "name": "Laurelton",
          "stacked": 1
         },
         "type": "Feature"
        },
        {
         "geometry": {
          "coordinates": [
           -73.8625247141374,
           40.736074570830795
          ],
          "type": "Point"
         },
         "geometry_name": "geom",
         "id": "nyu_2451_34572.190",
         "properties": {
          "annoangle": 0,
          "annoline1": "Lefrak",
          "annoline2": "City",
          "annoline3": null,
          "bbox": [
           -73.8625247141374,
           40.736074570830795,
           -73.8625247141374,
           40.736074570830795
          ],
          "borough": "Queens",
          "name": "Lefrak City",
          "stacked": 2
         },
         "type": "Feature"
        },
        {
         "geometry": {
          "coordinates": [
           -73.8540175039252,
           40.57615556543109
          ],
          "type": "Point"
         },
         "geometry_name": "geom",
         "id": "nyu_2451_34572.191",
         "properties": {
          "annoangle": 0,
          "annoline1": "Belle Harbor",
          "annoline2": null,
          "annoline3": null,
          "bbox": [
           -73.8540175039252,
           40.57615556543109,
           -73.8540175039252,
           40.57615556543109
          ],
          "borough": "Queens",
          "name": "Belle Harbor",
          "stacked": 1
         },
         "type": "Feature"
        },
        {
         "geometry": {
          "coordinates": [
           -73.84153370226186,
           40.58034295646131
          ],
          "type": "Point"
         },
         "geometry_name": "geom",
         "id": "nyu_2451_34572.192",
         "properties": {
          "annoangle": 0,
          "annoline1": "Rockaway Park",
          "annoline2": null,
          "annoline3": null,
          "bbox": [
           -73.84153370226186,
           40.58034295646131,
           -73.84153370226186,
           40.58034295646131
          ],
          "borough": "Queens",
          "name": "Rockaway Park",
          "stacked": 1
         },
         "type": "Feature"
        },
        {
         "geometry": {
          "coordinates": [
           -73.79664750844047,
           40.59771061565768
          ],
          "type": "Point"
         },
         "geometry_name": "geom",
         "id": "nyu_2451_34572.193",
         "properties": {
          "annoangle": 0,
          "annoline1": "Somerville",
          "annoline2": null,
          "annoline3": null,
          "bbox": [
           -73.79664750844047,
           40.59771061565768,
           -73.79664750844047,
           40.59771061565768
          ],
          "borough": "Queens",
          "name": "Somerville",
          "stacked": 1
         },
         "type": "Feature"
        },
        {
         "geometry": {
          "coordinates": [
           -73.75175310731153,
           40.66000322733613
          ],
          "type": "Point"
         },
         "geometry_name": "geom",
         "id": "nyu_2451_34572.194",
         "properties": {
          "annoangle": 0,
          "annoline1": "Brookville",
          "annoline2": null,
          "annoline3": null,
          "bbox": [
           -73.75175310731153,
           40.66000322733613,
           -73.75175310731153,
           40.66000322733613
          ],
          "borough": "Queens",
          "name": "Brookville",
          "stacked": 1
         },
         "type": "Feature"
        },
        {
         "geometry": {
          "coordinates": [
           -73.73889198912481,
           40.73301404027834
          ],
          "type": "Point"
         },
         "geometry_name": "geom",
         "id": "nyu_2451_34572.195",
         "properties": {
          "annoangle": 0,
          "annoline1": "Bellaire",
          "annoline2": null,
          "annoline3": null,
          "bbox": [
           -73.73889198912481,
           40.73301404027834,
           -73.73889198912481,
           40.73301404027834
          ],
          "borough": "Queens",
          "name": "Bellaire",
          "stacked": 1
         },
         "type": "Feature"
        },
        {
         "geometry": {
          "coordinates": [
           -73.85751790676447,
           40.7540709990489
          ],
          "type": "Point"
         },
         "geometry_name": "geom",
         "id": "nyu_2451_34572.196",
         "properties": {
          "annoangle": 0,
          "annoline1": "North",
          "annoline2": "Corona",
          "annoline3": null,
          "bbox": [
           -73.85751790676447,
           40.7540709990489,
           -73.85751790676447,
           40.7540709990489
          ],
          "borough": "Queens",
          "name": "North Corona",
          "stacked": 2
         },
         "type": "Feature"
        },
        {
         "geometry": {
          "coordinates": [
           -73.8410221123401,
           40.7146110815117
          ],
          "type": "Point"
         },
         "geometry_name": "geom",
         "id": "nyu_2451_34572.197",
         "properties": {
          "annoangle": 0,
          "annoline1": "Forest",
          "annoline2": "Hills",
          "annoline3": "Gardens",
          "bbox": [
           -73.8410221123401,
           40.7146110815117,
           -73.8410221123401,
           40.7146110815117
          ],
          "borough": "Queens",
          "name": "Forest Hills Gardens",
          "stacked": 3
         },
         "type": "Feature"
        },
        {
         "geometry": {
          "coordinates": [
           -74.07935312512797,
           40.6449815710044
          ],
          "type": "Point"
         },
         "geometry_name": "geom",
         "id": "nyu_2451_34572.198",
         "properties": {
          "annoangle": 0,
          "annoline1": "St.",
          "annoline2": "George",
          "annoline3": null,
          "bbox": [
           -74.07935312512797,
           40.6449815710044,
           -74.07935312512797,
           40.6449815710044
          ],
          "borough": "Staten Island",
          "name": "St. George",
          "stacked": 2
         },
         "type": "Feature"
        },
        {
         "geometry": {
          "coordinates": [
           -74.08701650516625,
           40.64061455913511
          ],
          "type": "Point"
         },
         "geometry_name": "geom",
         "id": "nyu_2451_34572.199",
         "properties": {
          "annoangle": 0,
          "annoline1": "New",
          "annoline2": "Brighton",
          "annoline3": null,
          "bbox": [
           -74.08701650516625,
           40.64061455913511,
           -74.08701650516625,
           40.64061455913511
          ],
          "borough": "Staten Island",
          "name": "New Brighton",
          "stacked": 2
         },
         "type": "Feature"
        },
        {
         "geometry": {
          "coordinates": [
           -74.07790192660066,
           40.62692762538176
          ],
          "type": "Point"
         },
         "geometry_name": "geom",
         "id": "nyu_2451_34572.200",
         "properties": {
          "annoangle": 0,
          "annoline1": "Stapleton",
          "annoline2": null,
          "annoline3": null,
          "bbox": [
           -74.07790192660066,
           40.62692762538176,
           -74.07790192660066,
           40.62692762538176
          ],
          "borough": "Staten Island",
          "name": "Stapleton",
          "stacked": 1
         },
         "type": "Feature"
        },
        {
         "geometry": {
          "coordinates": [
           -74.06980526716141,
           40.61530494652761
          ],
          "type": "Point"
         },
         "geometry_name": "geom",
         "id": "nyu_2451_34572.201",
         "properties": {
          "annoangle": 0,
          "annoline1": "Rosebank",
          "annoline2": null,
          "annoline3": null,
          "bbox": [
           -74.06980526716141,
           40.61530494652761,
           -74.06980526716141,
           40.61530494652761
          ],
          "borough": "Staten Island",
          "name": "Rosebank",
          "stacked": 1
         },
         "type": "Feature"
        },
        {
         "geometry": {
          "coordinates": [
           -74.1071817826561,
           40.63187892654607
          ],
          "type": "Point"
         },
         "geometry_name": "geom",
         "id": "nyu_2451_34572.202",
         "properties": {
          "annoangle": 0,
          "annoline1": "West",
          "annoline2": "Brighton",
          "annoline3": null,
          "bbox": [
           -74.1071817826561,
           40.63187892654607,
           -74.1071817826561,
           40.63187892654607
          ],
          "borough": "Staten Island",
          "name": "West Brighton",
          "stacked": 2
         },
         "type": "Feature"
        },
        {
         "geometry": {
          "coordinates": [
           -74.08724819983729,
           40.624184791313006
          ],
          "type": "Point"
         },
         "geometry_name": "geom",
         "id": "nyu_2451_34572.203",
         "properties": {
          "annoangle": 0,
          "annoline1": "Grymes",
          "annoline2": "Hill",
          "annoline3": null,
          "bbox": [
           -74.08724819983729,
           40.624184791313006,
           -74.08724819983729,
           40.624184791313006
          ],
          "borough": "Staten Island",
          "name": "Grymes Hill",
          "stacked": 2
         },
         "type": "Feature"
        },
        {
         "geometry": {
          "coordinates": [
           -74.1113288180088,
           40.59706851814673
          ],
          "type": "Point"
         },
         "geometry_name": "geom",
         "id": "nyu_2451_34572.204",
         "properties": {
          "annoangle": 0,
          "annoline1": "Todt",
          "annoline2": "Hill",
          "annoline3": null,
          "bbox": [
           -74.1113288180088,
           40.59706851814673,
           -74.1113288180088,
           40.59706851814673
          ],
          "borough": "Staten Island",
          "name": "Todt Hill",
          "stacked": 2
         },
         "type": "Feature"
        },
        {
         "geometry": {
          "coordinates": [
           -74.0795529253982,
           40.58024741350956
          ],
          "type": "Point"
         },
         "geometry_name": "geom",
         "id": "nyu_2451_34572.205",
         "properties": {
          "annoangle": 0,
          "annoline1": "South",
          "annoline2": "Beach",
          "annoline3": null,
          "bbox": [
           -74.0795529253982,
           40.58024741350956,
           -74.0795529253982,
           40.58024741350956
          ],
          "borough": "Staten Island",
          "name": "South Beach",
          "stacked": 2
         },
         "type": "Feature"
        },
        {
         "geometry": {
          "coordinates": [
           -74.12943426797008,
           40.63366930554365
          ],
          "type": "Point"
         },
         "geometry_name": "geom",
         "id": "nyu_2451_34572.206",
         "properties": {
          "annoangle": 0,
          "annoline1": "Port",
          "annoline2": "Richmond",
          "annoline3": null,
          "bbox": [
           -74.12943426797008,
           40.63366930554365,
           -74.12943426797008,
           40.63366930554365
          ],
          "borough": "Staten Island",
          "name": "Port Richmond",
          "stacked": 2
         },
         "type": "Feature"
        },
        {
         "geometry": {
          "coordinates": [
           -74.15008537046981,
           40.632546390481124
          ],
          "type": "Point"
         },
         "geometry_name": "geom",
         "id": "nyu_2451_34572.207",
         "properties": {
          "annoangle": 0,
          "annoline1": "Mariner's",
          "annoline2": "Harbor",
          "annoline3": null,
          "bbox": [
           -74.15008537046981,
           40.632546390481124,
           -74.15008537046981,
           40.632546390481124
          ],
          "borough": "Staten Island",
          "name": "Mariner's Harbor",
          "stacked": 2
         },
         "type": "Feature"
        },
        {
         "geometry": {
          "coordinates": [
           -74.17464532993542,
           40.63968297845542
          ],
          "type": "Point"
         },
         "geometry_name": "geom",
         "id": "nyu_2451_34572.208",
         "properties": {
          "annoangle": 0,
          "annoline1": "Port",
          "annoline2": "Ivory",
          "annoline3": null,
          "bbox": [
           -74.17464532993542,
           40.63968297845542,
           -74.17464532993542,
           40.63968297845542
          ],
          "borough": "Staten Island",
          "name": "Port Ivory",
          "stacked": 2
         },
         "type": "Feature"
        },
        {
         "geometry": {
          "coordinates": [
           -74.11918058534842,
           40.61333593766742
          ],
          "type": "Point"
         },
         "geometry_name": "geom",
         "id": "nyu_2451_34572.209",
         "properties": {
          "annoangle": 0,
          "annoline1": "Castleton",
          "annoline2": "Corners",
          "annoline3": null,
          "bbox": [
           -74.11918058534842,
           40.61333593766742,
           -74.11918058534842,
           40.61333593766742
          ],
          "borough": "Staten Island",
          "name": "Castleton Corners",
          "stacked": 2
         },
         "type": "Feature"
        },
        {
         "geometry": {
          "coordinates": [
           -74.16496031329827,
           40.594252379161695
          ],
          "type": "Point"
         },
         "geometry_name": "geom",
         "id": "nyu_2451_34572.210",
         "properties": {
          "annoangle": 0,
          "annoline1": "New",
          "annoline2": "Springville",
          "annoline3": null,
          "bbox": [
           -74.16496031329827,
           40.594252379161695,
           -74.16496031329827,
           40.594252379161695
          ],
          "borough": "Staten Island",
          "name": "New Springville",
          "stacked": 2
         },
         "type": "Feature"
        },
        {
         "geometry": {
          "coordinates": [
           -74.19073717538116,
           40.58631375103281
          ],
          "type": "Point"
         },
         "geometry_name": "geom",
         "id": "nyu_2451_34572.211",
         "properties": {
          "annoangle": 0,
          "annoline1": "Travis",
          "annoline2": null,
          "annoline3": null,
          "bbox": [
           -74.19073717538116,
           40.58631375103281,
           -74.19073717538116,
           40.58631375103281
          ],
          "borough": "Staten Island",
          "name": "Travis",
          "stacked": 1
         },
         "type": "Feature"
        },
        {
         "geometry": {
          "coordinates": [
           -74.1164794360638,
           40.57257231820632
          ],
          "type": "Point"
         },
         "geometry_name": "geom",
         "id": "nyu_2451_34572.212",
         "properties": {
          "annoangle": 0,
          "annoline1": "New",
          "annoline2": "Dorp",
          "annoline3": null,
          "bbox": [
           -74.1164794360638,
           40.57257231820632,
           -74.1164794360638,
           40.57257231820632
          ],
          "borough": "Staten Island",
          "name": "New Dorp",
          "stacked": 2
         },
         "type": "Feature"
        },
        {
         "geometry": {
          "coordinates": [
           -74.12156593771896,
           40.5584622432888
          ],
          "type": "Point"
         },
         "geometry_name": "geom",
         "id": "nyu_2451_34572.213",
         "properties": {
          "annoangle": 0,
          "annoline1": "Oakwood",
          "annoline2": null,
          "annoline3": null,
          "bbox": [
           -74.12156593771896,
           40.5584622432888,
           -74.12156593771896,
           40.5584622432888
          ],
          "borough": "Staten Island",
          "name": "Oakwood",
          "stacked": 1
         },
         "type": "Feature"
        },
        {
         "geometry": {
          "coordinates": [
           -74.14932381490992,
           40.549480228713605
          ],
          "type": "Point"
         },
         "geometry_name": "geom",
         "id": "nyu_2451_34572.214",
         "properties": {
          "annoangle": 0,
          "annoline1": "Great",
          "annoline2": "Kills",
          "annoline3": null,
          "bbox": [
           -74.14932381490992,
           40.549480228713605,
           -74.14932381490992,
           40.549480228713605
          ],
          "borough": "Staten Island",
          "name": "Great Kills",
          "stacked": 2
         },
         "type": "Feature"
        },
        {
         "geometry": {
          "coordinates": [
           -74.1643308041936,
           40.542230747450745
          ],
          "type": "Point"
         },
         "geometry_name": "geom",
         "id": "nyu_2451_34572.215",
         "properties": {
          "annoangle": 0,
          "annoline1": "Eltingville",
          "annoline2": null,
          "annoline3": null,
          "bbox": [
           -74.1643308041936,
           40.542230747450745,
           -74.1643308041936,
           40.542230747450745
          ],
          "borough": "Staten Island",
          "name": "Eltingville",
          "stacked": 1
         },
         "type": "Feature"
        },
        {
         "geometry": {
          "coordinates": [
           -74.17854866165878,
           40.53811417474507
          ],
          "type": "Point"
         },
         "geometry_name": "geom",
         "id": "nyu_2451_34572.216",
         "properties": {
          "annoangle": 0,
          "annoline1": "Annadale",
          "annoline2": null,
          "annoline3": null,
          "bbox": [
           -74.17854866165878,
           40.53811417474507,
           -74.17854866165878,
           40.53811417474507
          ],
          "borough": "Staten Island",
          "name": "Annadale",
          "stacked": 1
         },
         "type": "Feature"
        },
        {
         "geometry": {
          "coordinates": [
           -74.20524582480326,
           40.541967622888755
          ],
          "type": "Point"
         },
         "geometry_name": "geom",
         "id": "nyu_2451_34572.217",
         "properties": {
          "annoangle": 0,
          "annoline1": "Woodrow",
          "annoline2": null,
          "annoline3": null,
          "bbox": [
           -74.20524582480326,
           40.541967622888755,
           -74.20524582480326,
           40.541967622888755
          ],
          "borough": "Staten Island",
          "name": "Woodrow",
          "stacked": 1
         },
         "type": "Feature"
        },
        {
         "geometry": {
          "coordinates": [
           -74.24656934235283,
           40.50533376115642
          ],
          "type": "Point"
         },
         "geometry_name": "geom",
         "id": "nyu_2451_34572.218",
         "properties": {
          "annoangle": 0,
          "annoline1": "Tottenville",
          "annoline2": null,
          "annoline3": null,
          "bbox": [
           -74.24656934235283,
           40.50533376115642,
           -74.24656934235283,
           40.50533376115642
          ],
          "borough": "Staten Island",
          "name": "Tottenville",
          "stacked": 1
         },
         "type": "Feature"
        },
        {
         "geometry": {
          "coordinates": [
           -74.08055351790115,
           40.637316067110326
          ],
          "type": "Point"
         },
         "geometry_name": "geom",
         "id": "nyu_2451_34572.219",
         "properties": {
          "annoangle": 0,
          "annoline1": "Tompkinsville",
          "annoline2": null,
          "annoline3": null,
          "bbox": [
           -74.08055351790115,
           40.637316067110326,
           -74.08055351790115,
           40.637316067110326
          ],
          "borough": "Staten Island",
          "name": "Tompkinsville",
          "stacked": 1
         },
         "type": "Feature"
        },
        {
         "geometry": {
          "coordinates": [
           -74.09629029235458,
           40.61919310792676
          ],
          "type": "Point"
         },
         "geometry_name": "geom",
         "id": "nyu_2451_34572.220",
         "properties": {
          "annoangle": 0,
          "annoline1": "Silver",
          "annoline2": "Lake",
          "annoline3": null,
          "bbox": [
           -74.09629029235458,
           40.61919310792676,
           -74.09629029235458,
           40.61919310792676
          ],
          "borough": "Staten Island",
          "name": "Silver Lake",
          "stacked": 2
         },
         "type": "Feature"
        },
        {
         "geometry": {
          "coordinates": [
           -74.0971255217853,
           40.61276015756489
          ],
          "type": "Point"
         },
         "geometry_name": "geom",
         "id": "nyu_2451_34572.221",
         "properties": {
          "annoangle": 0,
          "annoline1": "Sunnyside",
          "annoline2": null,
          "annoline3": null,
          "bbox": [
           -74.0971255217853,
           40.61276015756489,
           -74.0971255217853,
           40.61276015756489
          ],
          "borough": "Staten Island",
          "name": "Sunnyside",
          "stacked": 1
         },
         "type": "Feature"
        },
        {
         "geometry": {
          "coordinates": [
           -73.96101312466779,
           40.643675183340974
          ],
          "type": "Point"
         },
         "geometry_name": "geom",
         "id": "nyu_2451_34572.222",
         "properties": {
          "annoangle": 0,
          "annoline1": "Ditmas",
          "annoline2": "Park",
          "annoline3": null,
          "bbox": [
           -73.96101312466779,
           40.643675183340974,
           -73.96101312466779,
           40.643675183340974
          ],
          "borough": "Brooklyn",
          "name": "Ditmas Park",
          "stacked": 2
         },
         "type": "Feature"
        },
        {
         "geometry": {
          "coordinates": [
           -73.93718680559314,
           40.66094656188111
          ],
          "type": "Point"
         },
         "geometry_name": "geom",
         "id": "nyu_2451_34572.223",
         "properties": {
          "annoangle": 0,
          "annoline1": "Wingate",
          "annoline2": null,
          "annoline3": null,
          "bbox": [
           -73.93718680559314,
           40.66094656188111,
           -73.93718680559314,
           40.66094656188111
          ],
          "borough": "Brooklyn",
          "name": "Wingate",
          "stacked": 1
         },
         "type": "Feature"
        },
        {
         "geometry": {
          "coordinates": [
           -73.92688212616955,
           40.655572313280764
          ],
          "type": "Point"
         },
         "geometry_name": "geom",
         "id": "nyu_2451_34572.224",
         "properties": {
          "annoangle": 0,
          "annoline1": "Rugby",
          "annoline2": null,
          "annoline3": null,
          "bbox": [
           -73.92688212616955,
           40.655572313280764,
           -73.92688212616955,
           40.655572313280764
          ],
          "borough": "Brooklyn",
          "name": "Rugby",
          "stacked": 1
         },
         "type": "Feature"
        },
        {
         "geometry": {
          "coordinates": [
           -74.08015734936296,
           40.60919044434558
          ],
          "type": "Point"
         },
         "geometry_name": "geom",
         "id": "nyu_2451_34572.225",
         "properties": {
          "annoangle": 0,
          "annoline1": "Park",
          "annoline2": "Hill",
          "annoline3": null,
          "bbox": [
           -74.08015734936296,
           40.60919044434558,
           -74.08015734936296,
           40.60919044434558
          ],
          "borough": "Staten Island",
          "name": "Park Hill",
          "stacked": 2
         },
         "type": "Feature"
        },
        {
         "geometry": {
          "coordinates": [
           -74.13304143951704,
           40.62109047275409
          ],
          "type": "Point"
         },
         "geometry_name": "geom",
         "id": "nyu_2451_34572.226",
         "properties": {
          "annoangle": 0,
          "annoline1": "Westerleigh",
          "annoline2": null,
          "annoline3": null,
          "bbox": [
           -74.13304143951704,
           40.62109047275409,
           -74.13304143951704,
           40.62109047275409
          ],
          "borough": "Staten Island",
          "name": "Westerleigh",
          "stacked": 1
         },
         "type": "Feature"
        },
        {
         "geometry": {
          "coordinates": [
           -74.15315246387762,
           40.620171512231884
          ],
          "type": "Point"
         },
         "geometry_name": "geom",
         "id": "nyu_2451_34572.227",
         "properties": {
          "annoangle": 0,
          "annoline1": "Graniteville",
          "annoline2": null,
          "annoline3": null,
          "bbox": [
           -74.15315246387762,
           40.620171512231884,
           -74.15315246387762,
           40.620171512231884
          ],
          "borough": "Staten Island",
          "name": "Graniteville",
          "stacked": 1
         },
         "type": "Feature"
        },
        {
         "geometry": {
          "coordinates": [
           -74.16510420241124,
           40.63532509911492
          ],
          "type": "Point"
         },
         "geometry_name": "geom",
         "id": "nyu_2451_34572.228",
         "properties": {
          "annoangle": 0,
          "annoline1": "Arlington",
          "annoline2": null,
          "annoline3": null,
          "bbox": [
           -74.16510420241124,
           40.63532509911492,
           -74.16510420241124,
           40.63532509911492
          ],
          "borough": "Staten Island",
          "name": "Arlington",
          "stacked": 1
         },
         "type": "Feature"
        },
        {
         "geometry": {
          "coordinates": [
           -74.06712363225574,
           40.596312571276734
          ],
          "type": "Point"
         },
         "geometry_name": "geom",
         "id": "nyu_2451_34572.229",
         "properties": {
          "annoangle": 0,
          "annoline1": "Arrochar",
          "annoline2": null,
          "annoline3": null,
          "bbox": [
           -74.06712363225574,
           40.596312571276734,
           -74.06712363225574,
           40.596312571276734
          ],
          "borough": "Staten Island",
          "name": "Arrochar",
          "stacked": 1
         },
         "type": "Feature"
        },
        {
         "geometry": {
          "coordinates": [
           -74.0766743627905,
           40.59826835959991
          ],
          "type": "Point"
         },
         "geometry_name": "geom",
         "id": "nyu_2451_34572.230",
         "properties": {
          "annoangle": 0,
          "annoline1": "Grasmere",
          "annoline2": null,
          "annoline3": null,
          "bbox": [
           -74.0766743627905,
           40.59826835959991,
           -74.0766743627905,
           40.59826835959991
          ],
          "borough": "Staten Island",
          "name": "Grasmere",
          "stacked": 1
         },
         "type": "Feature"
        },
        {
         "geometry": {
          "coordinates": [
           -74.08751118005578,
           40.59632891379513
          ],
          "type": "Point"
         },
         "geometry_name": "geom",
         "id": "nyu_2451_34572.231",
         "properties": {
          "annoangle": 0,
          "annoline1": "Old",
          "annoline2": "Town",
          "annoline3": null,
          "bbox": [
           -74.08751118005578,
           40.59632891379513,
           -74.08751118005578,
           40.59632891379513
          ],
          "borough": "Staten Island",
          "name": "Old Town",
          "stacked": 2
         },
         "type": "Feature"
        },
        {
         "geometry": {
          "coordinates": [
           -74.09639905312521,
           40.588672948199275
          ],
          "type": "Point"
         },
         "geometry_name": "geom",
         "id": "nyu_2451_34572.232",
         "properties": {
          "annoangle": 0,
          "annoline1": "Dongan",
          "annoline2": "Hills",
          "annoline3": null,
          "bbox": [
           -74.09639905312521,
           40.588672948199275,
           -74.09639905312521,
           40.588672948199275
          ],
          "borough": "Staten Island",
          "name": "Dongan Hills",
          "stacked": 2
         },
         "type": "Feature"
        },
        {
         "geometry": {
          "coordinates": [
           -74.09348266303591,
           40.57352690574283
          ],
          "type": "Point"
         },
         "geometry_name": "geom",
         "id": "nyu_2451_34572.233",
         "properties": {
          "annoangle": 0,
          "annoline1": "Midland",
          "annoline2": "Beach",
          "annoline3": null,
          "bbox": [
           -74.09348266303591,
           40.57352690574283,
           -74.09348266303591,
           40.57352690574283
          ],
          "borough": "Staten Island",
          "name": "Midland Beach",
          "stacked": 2
         },
         "type": "Feature"
        },
        {
         "geometry": {
          "coordinates": [
           -74.10585598545434,
           40.57621558711788
          ],
          "type": "Point"
         },
         "geometry_name": "geom",
         "id": "nyu_2451_34572.234",
         "properties": {
          "annoangle": 0,
          "annoline1": "Grant",
          "annoline2": "City",
          "annoline3": null,
          "bbox": [
           -74.10585598545434,
           40.57621558711788,
           -74.10585598545434,
           40.57621558711788
          ],
          "borough": "Staten Island",
          "name": "Grant City",
          "stacked": 2
         },
         "type": "Feature"
        },
        {
         "geometry": {
          "coordinates": [
           -74.10432707469124,
           40.56425549307335
          ],
          "type": "Point"
         },
         "geometry_name": "geom",
         "id": "nyu_2451_34572.235",
         "properties": {
          "annoangle": 0,
          "annoline1": "New",
          "annoline2": "Dorp",
          "annoline3": "Beach",
          "bbox": [
           -74.10432707469124,
           40.56425549307335,
           -74.10432707469124,
           40.56425549307335
          ],
          "borough": "Staten Island",
          "name": "New Dorp Beach",
          "stacked": 3
         },
         "type": "Feature"
        },
        {
         "geometry": {
          "coordinates": [
           -74.13916622175768,
           40.55398800858462
          ],
          "type": "Point"
         },
         "geometry_name": "geom",
         "id": "nyu_2451_34572.236",
         "properties": {
          "annoangle": 0,
          "annoline1": "Bay",
          "annoline2": "Terrace",
          "annoline3": null,
          "bbox": [
           -74.13916622175768,
           40.55398800858462,
           -74.13916622175768,
           40.55398800858462
          ],
          "borough": "Staten Island",
          "name": "Bay Terrace",
          "stacked": 2
         },
         "type": "Feature"
        },
        {
         "geometry": {
          "coordinates": [
           -74.19174105747814,
           40.531911920489605
          ],
          "type": "Point"
         },
         "geometry_name": "geom",
         "id": "nyu_2451_34572.237",
         "properties": {
          "annoangle": 0,
          "annoline1": "Huguenot",
          "annoline2": null,
          "annoline3": null,
          "bbox": [
           -74.19174105747814,
           40.531911920489605,
           -74.19174105747814,
           40.531911920489605
          ],
          "borough": "Staten Island",
          "name": "Huguenot",
          "stacked": 1
         },
         "type": "Feature"
        },
        {
         "geometry": {
          "coordinates": [
           -74.21983106616777,
           40.524699376118136
          ],
          "type": "Point"
         },
         "geometry_name": "geom",
         "id": "nyu_2451_34572.238",
         "properties": {
          "annoangle": 0,
          "annoline1": "Pleasant",
          "annoline2": "Plains",
          "annoline3": null,
          "bbox": [
           -74.21983106616777,
           40.524699376118136,
           -74.21983106616777,
           40.524699376118136
          ],
          "borough": "Staten Island",
          "name": "Pleasant Plains",
          "stacked": 2
         },
         "type": "Feature"
        },
        {
         "geometry": {
          "coordinates": [
           -74.22950350260027,
           40.50608165346305
          ],
          "type": "Point"
         },
         "geometry_name": "geom",
         "id": "nyu_2451_34572.239",
         "properties": {
          "annoangle": 0,
          "annoline1": "Butler",
          "annoline2": "Manor",
          "annoline3": null,
          "bbox": [
           -74.22950350260027,
           40.50608165346305,
           -74.22950350260027,
           40.50608165346305
          ],
          "borough": "Staten Island",
          "name": "Butler Manor",
          "stacked": 2
         },
         "type": "Feature"
        },
        {
         "geometry": {
          "coordinates": [
           -74.23215775896526,
           40.53053148283314
          ],
          "type": "Point"
         },
         "geometry_name": "geom",
         "id": "nyu_2451_34572.240",
         "properties": {
          "annoangle": 0,
          "annoline1": "Charleston",
          "annoline2": null,
          "annoline3": null,
          "bbox": [
           -74.23215775896526,
           40.53053148283314,
           -74.23215775896526,
           40.53053148283314
          ],
          "borough": "Staten Island",
          "name": "Charleston",
          "stacked": 1
         },
         "type": "Feature"
        },
        {
         "geometry": {
          "coordinates": [
           -74.21572851113952,
           40.54940400650072
          ],
          "type": "Point"
         },
         "geometry_name": "geom",
         "id": "nyu_2451_34572.241",
         "properties": {
          "annoangle": 0,
          "annoline1": "Rossville",
          "annoline2": null,
          "annoline3": null,
          "bbox": [
           -74.21572851113952,
           40.54940400650072,
           -74.21572851113952,
           40.54940400650072
          ],
          "borough": "Staten Island",
          "name": "Rossville",
          "stacked": 1
         },
         "type": "Feature"
        },
        {
         "geometry": {
          "coordinates": [
           -74.18588674583893,
           40.54928582278321
          ],
          "type": "Point"
         },
         "geometry_name": "geom",
         "id": "nyu_2451_34572.242",
         "properties": {
          "annoangle": 0,
          "annoline1": "Arden",
          "annoline2": "Heights",
          "annoline3": null,
          "bbox": [
           -74.18588674583893,
           40.54928582278321,
           -74.18588674583893,
           40.54928582278321
          ],
          "borough": "Staten Island",
          "name": "Arden Heights",
          "stacked": 2
         },
         "type": "Feature"
        },
        {
         "geometry": {
          "coordinates": [
           -74.17079414786092,
           40.555295236173194
          ],
          "type": "Point"
         },
         "geometry_name": "geom",
         "id": "nyu_2451_34572.243",
         "properties": {
          "annoangle": 0,
          "annoline1": "Greenridge",
          "annoline2": null,
          "annoline3": null,
          "bbox": [
           -74.17079414786092,
           40.555295236173194,
           -74.17079414786092,
           40.555295236173194
          ],
          "borough": "Staten Island",
          "name": "Greenridge",
          "stacked": 1
         },
         "type": "Feature"
        },
        {
         "geometry": {
          "coordinates": [
           -74.15902208156601,
           40.58913894875281
          ],
          "type": "Point"
         },
         "geometry_name": "geom",
         "id": "nyu_2451_34572.244",
         "properties": {
          "annoangle": 0,
          "annoline1": "Heartland",
          "annoline2": "Village",
          "annoline3": null,
          "bbox": [
           -74.15902208156601,
           40.58913894875281,
           -74.15902208156601,
           40.58913894875281
          ],
          "borough": "Staten Island",
          "name": "Heartland Village",
          "stacked": 2
         },
         "type": "Feature"
        },
        {
         "geometry": {
          "coordinates": [
           -74.1895604551969,
           40.59472602746295
          ],
          "type": "Point"
         },
         "geometry_name": "geom",
         "id": "nyu_2451_34572.245",
         "properties": {
          "annoangle": 0,
          "annoline1": "Chelsea",
          "annoline2": null,
          "annoline3": null,
          "bbox": [
           -74.1895604551969,
           40.59472602746295,
           -74.1895604551969,
           40.59472602746295
          ],
          "borough": "Staten Island",
          "name": "Chelsea",
          "stacked": 1
         },
         "type": "Feature"
        },
        {
         "geometry": {
          "coordinates": [
           -74.18725638381567,
           40.60577868452358
          ],
          "type": "Point"
         },
         "geometry_name": "geom",
         "id": "nyu_2451_34572.246",
         "properties": {
          "annoangle": 0,
          "annoline1": "Bloomfield",
          "annoline2": null,
          "annoline3": null,
          "bbox": [
           -74.18725638381567,
           40.60577868452358,
           -74.18725638381567,
           40.60577868452358
          ],
          "borough": "Staten Island",
          "name": "Bloomfield",
          "stacked": 1
         },
         "type": "Feature"
        },
        {
         "geometry": {
          "coordinates": [
           -74.15940948657122,
           40.6095918004203
          ],
          "type": "Point"
         },
         "geometry_name": "geom",
         "id": "nyu_2451_34572.247",
         "properties": {
          "annoangle": 0,
          "annoline1": "Bulls",
          "annoline2": "Head",
          "annoline3": null,
          "bbox": [
           -74.15940948657122,
           40.6095918004203,
           -74.15940948657122,
           40.6095918004203
          ],
          "borough": "Staten Island",
          "name": "Bulls Head",
          "stacked": 2
         },
         "type": "Feature"
        },
        {
         "geometry": {
          "coordinates": [
           -73.95325646837112,
           40.7826825671257
          ],
          "type": "Point"
         },
         "geometry_name": "geom",
         "id": "nyu_2451_34572.248",
         "properties": {
          "annoangle": 0,
          "annoline1": "Carnegie",
          "annoline2": "Hill",
          "annoline3": null,
          "bbox": [
           -73.95325646837112,
           40.7826825671257,
           -73.95325646837112,
           40.7826825671257
          ],
          "borough": "Manhattan",
          "name": "Carnegie Hill",
          "stacked": 2
         },
         "type": "Feature"
        },
        {
         "geometry": {
          "coordinates": [
           -73.98843368023597,
           40.72325901885768
          ],
          "type": "Point"
         },
         "geometry_name": "geom",
         "id": "nyu_2451_34572.249",
         "properties": {
          "annoangle": 0,
          "annoline1": "Noho",
          "annoline2": null,
          "annoline3": null,
          "bbox": [
           -73.98843368023597,
           40.72325901885768,
           -73.98843368023597,
           40.72325901885768
          ],
          "borough": "Manhattan",
          "name": "Noho",
          "stacked": 1
         },
         "type": "Feature"
        },
        {
         "geometry": {
          "coordinates": [
           -74.00541529873355,
           40.71522892046282
          ],
          "type": "Point"
         },
         "geometry_name": "geom",
         "id": "nyu_2451_34572.250",
         "properties": {
          "annoangle": 0,
          "annoline1": "Civic",
          "annoline2": "Center",
          "annoline3": null,
          "bbox": [
           -74.00541529873355,
           40.71522892046282,
           -74.00541529873355,
           40.71522892046282
          ],
          "borough": "Manhattan",
          "name": "Civic Center",
          "stacked": 2
         },
         "type": "Feature"
        },
        {
         "geometry": {
          "coordinates": [
           -73.98871313285247,
           40.7485096643122
          ],
          "type": "Point"
         },
         "geometry_name": "geom",
         "id": "nyu_2451_34572.251",
         "properties": {
          "annoangle": 0,
          "annoline1": "Midtown",
          "annoline2": "South",
          "annoline3": null,
          "bbox": [
           -73.98871313285247,
           40.7485096643122,
           -73.98871313285247,
           40.7485096643122
          ],
          "borough": "Manhattan",
          "name": "Midtown South",
          "stacked": 2
         },
         "type": "Feature"
        },
        {
         "geometry": {
          "coordinates": [
           -74.1340572986257,
           40.56960594275505
          ],
          "type": "Point"
         },
         "geometry_name": "geom",
         "id": "nyu_2451_34572.252",
         "properties": {
          "annoangle": 0,
          "annoline1": "Richmond",
          "annoline2": "Town",
          "annoline3": null,
          "bbox": [
           -74.1340572986257,
           40.56960594275505,
           -74.1340572986257,
           40.56960594275505
          ],
          "borough": "Staten Island",
          "name": "Richmond Town",
          "stacked": 2
         },
         "type": "Feature"
        },
        {
         "geometry": {
          "coordinates": [
           -74.06667766061771,
           40.60971934079284
          ],
          "type": "Point"
         },
         "geometry_name": "geom",
         "id": "nyu_2451_34572.253",
         "properties": {
          "annoangle": 0,
          "annoline1": "Shore",
          "annoline2": "Acres",
          "annoline3": null,
          "bbox": [
           -74.06667766061771,
           40.60971934079284,
           -74.06667766061771,
           40.60971934079284
          ],
          "borough": "Staten Island",
          "name": "Shore Acres",
          "stacked": 2
         },
         "type": "Feature"
        },
        {
         "geometry": {
          "coordinates": [
           -74.072642445484,
           40.61917845202843
          ],
          "type": "Point"
         },
         "geometry_name": "geom",
         "id": "nyu_2451_34572.254",
         "properties": {
          "annoangle": 0,
          "annoline1": "Clifton",
          "annoline2": null,
          "annoline3": null,
          "bbox": [
           -74.072642445484,
           40.61917845202843,
           -74.072642445484,
           40.61917845202843
          ],
          "borough": "Staten Island",
          "name": "Clifton",
          "stacked": 1
         },
         "type": "Feature"
        },
        {
         "geometry": {
          "coordinates": [
           -74.08402364740358,
           40.6044731896879
          ],
          "type": "Point"
         },
         "geometry_name": "geom",
         "id": "nyu_2451_34572.255",
         "properties": {
          "annoangle": 0,
          "annoline1": "Concord",
          "annoline2": null,
          "annoline3": null,
          "bbox": [
           -74.08402364740358,
           40.6044731896879,
           -74.08402364740358,
           40.6044731896879
          ],
          "borough": "Staten Island",
          "name": "Concord",
          "stacked": 1
         },
         "type": "Feature"
        },
        {
         "geometry": {
          "coordinates": [
           -74.09776206972522,
           40.606794394801
          ],
          "type": "Point"
         },
         "geometry_name": "geom",
         "id": "nyu_2451_34572.256",
         "properties": {
          "annoangle": 0,
          "annoline1": "Emerson",
          "annoline2": "Hill",
          "annoline3": null,
          "bbox": [
           -74.09776206972522,
           40.606794394801,
           -74.09776206972522,
           40.606794394801
          ],
          "borough": "Staten Island",
          "name": "Emerson Hill",
          "stacked": 2
         },
         "type": "Feature"
        },
        {
         "geometry": {
          "coordinates": [
           -74.09805062373887,
           40.63563000681151
          ],
          "type": "Point"
         },
         "geometry_name": "geom",
         "id": "nyu_2451_34572.257",
         "properties": {
          "annoangle": 0,
          "annoline1": "Randall",
          "annoline2": "Manor",
          "annoline3": null,
          "bbox": [
           -74.09805062373887,
           40.63563000681151,
           -74.09805062373887,
           40.63563000681151
          ],
          "borough": "Staten Island",
          "name": "Randall Manor",
          "stacked": 2
         },
         "type": "Feature"
        },
        {
         "geometry": {
          "coordinates": [
           -74.18622331749823,
           40.63843283794795
          ],
          "type": "Point"
         },
         "geometry_name": "geom",
         "id": "nyu_2451_34572.258",
         "properties": {
          "annoangle": 0,
          "annoline1": "Howland",
          "annoline2": "Hook",
          "annoline3": null,
          "bbox": [
           -74.18622331749823,
           40.63843283794795,
           -74.18622331749823,
           40.63843283794795
          ],
          "borough": "Staten Island",
          "name": "Howland Hook",
          "stacked": 2
         },
         "type": "Feature"
        },
        {
         "geometry": {
          "coordinates": [
           -74.1418167896889,
           40.630146741193826
          ],
          "type": "Point"
         },
         "geometry_name": "geom",
         "id": "nyu_2451_34572.259",
         "properties": {
          "annoangle": 0,
          "annoline1": "Elm",
          "annoline2": "Park",
          "annoline3": null,
          "bbox": [
           -74.1418167896889,
           40.630146741193826,
           -74.1418167896889,
           40.630146741193826
          ],
          "borough": "Staten Island",
          "name": "Elm Park",
          "stacked": 2
         },
         "type": "Feature"
        },
        {
         "geometry": {
          "coordinates": [
           -73.91665331978048,
           40.652117451793494
          ],
          "type": "Point"
         },
         "geometry_name": "geom",
         "id": "nyu_2451_34572.260",
         "properties": {
          "annoangle": 0,
          "annoline1": "Remsen",
          "annoline2": "Village",
          "annoline3": null,
          "bbox": [
           -73.91665331978048,
           40.652117451793494,
           -73.91665331978048,
           40.652117451793494
          ],
          "borough": "Brooklyn",
          "name": "Remsen Village",
          "stacked": 2
         },
         "type": "Feature"
        },
        {
         "geometry": {
          "coordinates": [
           -73.88511776379292,
           40.6627442796966
          ],
          "type": "Point"
         },
         "geometry_name": "geom",
         "id": "nyu_2451_34572.261",
         "properties": {
          "annoangle": 0,
          "annoline1": "New",
          "annoline2": "Lots",
          "annoline3": null,
          "bbox": [
           -73.88511776379292,
           40.6627442796966,
           -73.88511776379292,
           40.6627442796966
          ],
          "borough": "Brooklyn",
          "name": "New Lots",
          "stacked": 2
         },
         "type": "Feature"
        },
        {
         "geometry": {
          "coordinates": [
           -73.90233474295836,
           40.63131755039667
          ],
          "type": "Point"
         },
         "geometry_name": "geom",
         "id": "nyu_2451_34572.262",
         "properties": {
          "annoangle": 0,
          "annoline1": "Paerdegat",
          "annoline2": "Basin",
          "annoline3": null,
          "bbox": [
           -73.90233474295836,
           40.63131755039667,
           -73.90233474295836,
           40.63131755039667
          ],
          "borough": "Brooklyn",
          "name": "Paerdegat Basin",
          "stacked": 2
         },
         "type": "Feature"
        },
        {
         "geometry": {
          "coordinates": [
           -73.91515391550404,
           40.61597423962336
          ],
          "type": "Point"
         },
         "geometry_name": "geom",
         "id": "nyu_2451_34572.263",
         "properties": {
          "annoangle": 0,
          "annoline1": "Mill",
          "annoline2": "Basin",
          "annoline3": null,
          "bbox": [
           -73.91515391550404,
           40.61597423962336,
           -73.91515391550404,
           40.61597423962336
          ],
          "borough": "Brooklyn",
          "name": "Mill Basin",
          "stacked": 2
         },
         "type": "Feature"
        },
        {
         "geometry": {
          "coordinates": [
           -73.79646462081593,
           40.71145964370482
          ],
          "type": "Point"
         },
         "geometry_name": "geom",
         "id": "nyu_2451_34572.264",
         "properties": {
          "annoangle": 0,
          "annoline1": "Jamaica",
          "annoline2": "Hills",
          "annoline3": null,
          "bbox": [
           -73.79646462081593,
           40.71145964370482,
           -73.79646462081593,
           40.71145964370482
          ],
          "borough": "Queens",
          "name": "Jamaica Hills",
          "stacked": 2
         },
         "type": "Feature"
        },
        {
         "geometry": {
          "coordinates": [
           -73.79671678028349,
           40.73350025429757
          ],
          "type": "Point"
         },
         "geometry_name": "geom",
         "id": "nyu_2451_34572.265",
         "properties": {
          "annoangle": 0,
          "annoline1": "Utopia",
          "annoline2": null,
          "annoline3": null,
          "bbox": [
           -73.79671678028349,
           40.73350025429757,
           -73.79671678028349,
           40.73350025429757
          ],
          "borough": "Queens",
          "name": "Utopia",
          "stacked": 1
         },
         "type": "Feature"
        },
        {
         "geometry": {
          "coordinates": [
           -73.80486120040537,
           40.73493618075478
          ],
          "type": "Point"
         },
         "geometry_name": "geom",
         "id": "nyu_2451_34572.266",
         "properties": {
          "annoangle": 0,
          "annoline1": "Pomonok",
          "annoline2": null,
          "annoline3": null,
          "bbox": [
           -73.80486120040537,
           40.73493618075478,
           -73.80486120040537,
           40.73493618075478
          ],
          "borough": "Queens",
          "name": "Pomonok",
          "stacked": 1
         },
         "type": "Feature"
        },
        {
         "geometry": {
          "coordinates": [
           -73.89467996270574,
           40.7703173929982
          ],
          "type": "Point"
         },
         "geometry_name": "geom",
         "id": "nyu_2451_34572.267",
         "properties": {
          "annoangle": 0,
          "annoline1": "Astoria",
          "annoline2": "Heights",
          "annoline3": null,
          "bbox": [
           -73.89467996270574,
           40.7703173929982,
           -73.89467996270574,
           40.7703173929982
          ],
          "borough": "Queens",
          "name": "Astoria Heights",
          "stacked": 2
         },
         "type": "Feature"
        },
        {
         "geometry": {
          "coordinates": [
           -73.90119903387667,
           40.83142834161548
          ],
          "type": "Point"
         },
         "geometry_name": "geom",
         "id": "nyu_2451_34572.268",
         "properties": {
          "annoangle": 0,
          "annoline1": "Claremont",
          "annoline2": "Village",
          "annoline3": null,
          "bbox": [
           -73.90119903387667,
           40.83142834161548,
           -73.90119903387667,
           40.83142834161548
          ],
          "borough": "Bronx",
          "name": "Claremont Village",
          "stacked": 2
         },
         "type": "Feature"
        },
        {
         "geometry": {
          "coordinates": [
           -73.91584652759009,
           40.824780490842905
          ],
          "type": "Point"
         },
         "geometry_name": "geom",
         "id": "nyu_2451_34572.269",
         "properties": {
          "annoangle": 0,
          "annoline1": "Concourse",
          "annoline2": "Village",
          "annoline3": null,
          "bbox": [
           -73.91584652759009,
           40.824780490842905,
           -73.91584652759009,
           40.824780490842905
          ],
          "borough": "Bronx",
          "name": "Concourse Village",
          "stacked": 2
         },
         "type": "Feature"
        },
        {
         "geometry": {
          "coordinates": [
           -73.91655551964419,
           40.84382617671654
          ],
          "type": "Point"
         },
         "geometry_name": "geom",
         "id": "nyu_2451_34572.270",
         "properties": {
          "annoangle": 0,
          "annoline1": "Mount",
          "annoline2": "Eden",
          "annoline3": null,
          "bbox": [
           -73.91655551964419,
           40.84382617671654,
           -73.91655551964419,
           40.84382617671654
          ],
          "borough": "Bronx",
          "name": "Mount Eden",
          "stacked": 2
         },
         "type": "Feature"
        },
        {
         "geometry": {
          "coordinates": [
           -73.90829930881988,
           40.84884160724665
          ],
          "type": "Point"
         },
         "geometry_name": "geom",
         "id": "nyu_2451_34572.271",
         "properties": {
          "annoangle": 0,
          "annoline1": "Mount",
          "annoline2": "Hope",
          "annoline3": null,
          "bbox": [
           -73.90829930881988,
           40.84884160724665,
           -73.90829930881988,
           40.84884160724665
          ],
          "borough": "Bronx",
          "name": "Mount Hope",
          "stacked": 2
         },
         "type": "Feature"
        },
        {
         "geometry": {
          "coordinates": [
           -73.96355614094303,
           40.76028033131374
          ],
          "type": "Point"
         },
         "geometry_name": "geom",
         "id": "nyu_2451_34572.272",
         "properties": {
          "annoangle": 0,
          "annoline1": "Sutton",
          "annoline2": "Place",
          "annoline3": null,
          "bbox": [
           -73.96355614094303,
           40.76028033131374,
           -73.96355614094303,
           40.76028033131374
          ],
          "borough": "Manhattan",
          "name": "Sutton Place",
          "stacked": 2
         },
         "type": "Feature"
        },
        {
         "geometry": {
          "coordinates": [
           -73.95386782130745,
           40.743414090073536
          ],
          "type": "Point"
         },
         "geometry_name": "geom",
         "id": "nyu_2451_34572.273",
         "properties": {
          "annoangle": 0,
          "annoline1": "Hunters",
          "annoline2": "Point",
          "annoline3": null,
          "bbox": [
           -73.95386782130745,
           40.743414090073536,
           -73.95386782130745,
           40.743414090073536
          ],
          "borough": "Queens",
          "name": "Hunters Point",
          "stacked": 2
         },
         "type": "Feature"
        },
        {
         "geometry": {
          "coordinates": [
           -73.96770824581834,
           40.75204236950722
          ],
          "type": "Point"
         },
         "geometry_name": "geom",
         "id": "nyu_2451_34572.274",
         "properties": {
          "annoangle": 0,
          "annoline1": "Turtle",
          "annoline2": "Bay",
          "annoline3": null,
          "bbox": [
           -73.96770824581834,
           40.75204236950722,
           -73.96770824581834,
           40.75204236950722
          ],
          "borough": "Manhattan",
          "name": "Turtle Bay",
          "stacked": 2
         },
         "type": "Feature"
        },
        {
         "geometry": {
          "coordinates": [
           -73.97121928722265,
           40.746917410740195
          ],
          "type": "Point"
         },
         "geometry_name": "geom",
         "id": "nyu_2451_34572.275",
         "properties": {
          "annoangle": 0,
          "annoline1": "Tudor",
          "annoline2": "City",
          "annoline3": null,
          "bbox": [
           -73.97121928722265,
           40.746917410740195,
           -73.97121928722265,
           40.746917410740195
          ],
          "borough": "Manhattan",
          "name": "Tudor City",
          "stacked": 2
         },
         "type": "Feature"
        },
        {
         "geometry": {
          "coordinates": [
           -73.97405170469203,
           40.73099955477061
          ],
          "type": "Point"
         },
         "geometry_name": "geom",
         "id": "nyu_2451_34572.276",
         "properties": {
          "annoangle": 0,
          "annoline1": "Stuyvesant",
          "annoline2": "Town",
          "annoline3": null,
          "bbox": [
           -73.97405170469203,
           40.73099955477061,
           -73.97405170469203,
           40.73099955477061
          ],
          "borough": "Manhattan",
          "name": "Stuyvesant Town",
          "stacked": 2
         },
         "type": "Feature"
        },
        {
         "geometry": {
          "coordinates": [
           -73.9909471052826,
           40.739673047638426
          ],
          "type": "Point"
         },
         "geometry_name": "geom",
         "id": "nyu_2451_34572.277",
         "properties": {
          "annoangle": 0,
          "annoline1": "Flatiron",
          "annoline2": null,
          "annoline3": null,
          "bbox": [
           -73.9909471052826,
           40.739673047638426,
           -73.9909471052826,
           40.739673047638426
          ],
          "borough": "Manhattan",
          "name": "Flatiron",
          "stacked": 1
         },
         "type": "Feature"
        },
        {
         "geometry": {
          "coordinates": [
           -73.91819286431682,
           40.74565180608076
          ],
          "type": "Point"
         },
         "geometry_name": "geom",
         "id": "nyu_2451_34572.278",
         "properties": {
          "annoangle": 0,
          "annoline1": "Sunnyside",
          "annoline2": "Gardens",
          "annoline3": null,
          "bbox": [
           -73.91819286431682,
           40.74565180608076,
           -73.91819286431682,
           40.74565180608076
          ],
          "borough": "Queens",
          "name": "Sunnyside Gardens",
          "stacked": 2
         },
         "type": "Feature"
        },
        {
         "geometry": {
          "coordinates": [
           -73.93244235260178,
           40.73725071694497
          ],
          "type": "Point"
         },
         "geometry_name": "geom",
         "id": "nyu_2451_34572.279",
         "properties": {
          "annoangle": 0,
          "annoline1": "Blissville",
          "annoline2": null,
          "annoline3": null,
          "bbox": [
           -73.93244235260178,
           40.73725071694497,
           -73.93244235260178,
           40.73725071694497
          ],
          "borough": "Queens",
          "name": "Blissville",
          "stacked": 1
         },
         "type": "Feature"
        },
        {
         "geometry": {
          "coordinates": [
           -73.99550751888415,
           40.70328109093014
          ],
          "type": "Point"
         },
         "geometry_name": "geom",
         "id": "nyu_2451_34572.280",
         "properties": {
          "annoangle": 0,
          "annoline1": "Fulton",
          "annoline2": "Ferry",
          "annoline3": null,
          "bbox": [
           -73.99550751888415,
           40.70328109093014,
           -73.99550751888415,
           40.70328109093014
          ],
          "borough": "Brooklyn",
          "name": "Fulton Ferry",
          "stacked": 2
         },
         "type": "Feature"
        },
        {
         "geometry": {
          "coordinates": [
           -73.98111603592393,
           40.70332149882874
          ],
          "type": "Point"
         },
         "geometry_name": "geom",
         "id": "nyu_2451_34572.281",
         "properties": {
          "annoangle": 0,
          "annoline1": "Vinegar",
          "annoline2": "Hill",
          "annoline3": null,
          "bbox": [
           -73.98111603592393,
           40.70332149882874,
           -73.98111603592393,
           40.70332149882874
          ],
          "borough": "Brooklyn",
          "name": "Vinegar Hill",
          "stacked": 2
         },
         "type": "Feature"
        },
        {
         "geometry": {
          "coordinates": [
           -73.93053108817338,
           40.67503986503237
          ],
          "type": "Point"
         },
         "geometry_name": "geom",
         "id": "nyu_2451_34572.282",
         "properties": {
          "annoangle": 0,
          "annoline1": "Weeksville",
          "annoline2": null,
          "annoline3": null,
          "bbox": [
           -73.93053108817338,
           40.67503986503237,
           -73.93053108817338,
           40.67503986503237
          ],
          "borough": "Brooklyn",
          "name": "Weeksville",
          "stacked": 1
         },
         "type": "Feature"
        },
        {
         "geometry": {
          "coordinates": [
           -73.90331684852599,
           40.67786104769531
          ],
          "type": "Point"
         },
         "geometry_name": "geom",
         "id": "nyu_2451_34572.283",
         "properties": {
          "annoangle": 0,
          "annoline1": "Broadway",
          "annoline2": "Junction",
          "annoline3": null,
          "bbox": [
           -73.90331684852599,
           40.67786104769531,
           -73.90331684852599,
           40.67786104769531
          ],
          "borough": "Brooklyn",
          "name": "Broadway Junction",
          "stacked": 2
         },
         "type": "Feature"
        },
        {
         "geometry": {
          "coordinates": [
           -73.9887528074504,
           40.70317632822692
          ],
          "type": "Point"
         },
         "geometry_name": "geom",
         "id": "nyu_2451_34572.284",
         "properties": {
          "annoangle": 0,
          "annoline1": "Dumbo",
          "annoline2": null,
          "annoline3": null,
          "bbox": [
           -73.9887528074504,
           40.70317632822692,
           -73.9887528074504,
           40.70317632822692
          ],
          "borough": "Brooklyn",
          "name": "Dumbo",
          "stacked": 1
         },
         "type": "Feature"
        },
        {
         "geometry": {
          "coordinates": [
           -74.12059399718001,
           40.60180957631444
          ],
          "type": "Point"
         },
         "geometry_name": "geom",
         "id": "nyu_2451_34572.285",
         "properties": {
          "annoangle": 0,
          "annoline1": "Manor",
          "annoline2": "Heights",
          "annoline3": null,
          "bbox": [
           -74.12059399718001,
           40.60180957631444,
           -74.12059399718001,
           40.60180957631444
          ],
          "borough": "Staten Island",
          "name": "Manor Heights",
          "stacked": 2
         },
         "type": "Feature"
        },
        {
         "geometry": {
          "coordinates": [
           -74.13208447484298,
           40.60370692627371
          ],
          "type": "Point"
         },
         "geometry_name": "geom",
         "id": "nyu_2451_34572.286",
         "properties": {
          "annoangle": 0,
          "annoline1": "Willowbrook",
          "annoline2": null,
          "annoline3": null,
          "bbox": [
           -74.13208447484298,
           40.60370692627371,
           -74.13208447484298,
           40.60370692627371
          ],
          "borough": "Staten Island",
          "name": "Willowbrook",
          "stacked": 1
         },
         "type": "Feature"
        },
        {
         "geometry": {
          "coordinates": [
           -74.21776636068567,
           40.541139922091766
          ],
          "type": "Point"
         },
         "geometry_name": "geom",
         "id": "nyu_2451_34572.287",
         "properties": {
          "annoangle": 0,
          "annoline1": "Sandy",
          "annoline2": "Ground",
          "annoline3": null,
          "bbox": [
           -74.21776636068567,
           40.541139922091766,
           -74.21776636068567,
           40.541139922091766
          ],
          "borough": "Staten Island",
          "name": "Sandy Ground",
          "stacked": 2
         },
         "type": "Feature"
        },
        {
         "geometry": {
          "coordinates": [
           -74.12727240604946,
           40.579118742961214
          ],
          "type": "Point"
         },
         "geometry_name": "geom",
         "id": "nyu_2451_34572.288",
         "properties": {
          "annoangle": 0,
          "annoline1": "Egbertville",
          "annoline2": null,
          "annoline3": null,
          "bbox": [
           -74.12727240604946,
           40.579118742961214,
           -74.12727240604946,
           40.579118742961214
          ],
          "borough": "Staten Island",
          "name": "Egbertville",
          "stacked": 1
         },
         "type": "Feature"
        },
        {
         "geometry": {
          "coordinates": [
           -73.89213760232822,
           40.56737588957032
          ],
          "type": "Point"
         },
         "geometry_name": "geom",
         "id": "nyu_2451_34572.289",
         "properties": {
          "annoangle": 0,
          "annoline1": "Roxbury",
          "annoline2": null,
          "annoline3": null,
          "bbox": [
           -73.89213760232822,
           40.56737588957032,
           -73.89213760232822,
           40.56737588957032
          ],
          "borough": "Queens",
          "name": "Roxbury",
          "stacked": 1
         },
         "type": "Feature"
        },
        {
         "geometry": {
          "coordinates": [
           -73.95918459428702,
           40.598525095137255
          ],
          "type": "Point"
         },
         "geometry_name": "geom",
         "id": "nyu_2451_34572.290",
         "properties": {
          "annoangle": 0,
          "annoline1": "Homecrest",
          "annoline2": null,
          "annoline3": null,
          "bbox": [
           -73.95918459428702,
           40.598525095137255,
           -73.95918459428702,
           40.598525095137255
          ],
          "borough": "Brooklyn",
          "name": "Homecrest",
          "stacked": 1
         },
         "type": "Feature"
        },
        {
         "geometry": {
          "coordinates": [
           -73.88114319200604,
           40.716414511158185
          ],
          "type": "Point"
         },
         "geometry_name": "geom",
         "id": "nyu_2451_34572.291",
         "properties": {
          "annoangle": 0,
          "annoline1": "Middle",
          "annoline2": "Village",
          "annoline3": null,
          "bbox": [
           -73.88114319200604,
           40.716414511158185,
           -73.88114319200604,
           40.716414511158185
          ],
          "borough": "Queens",
          "name": "Middle Village",
          "stacked": 2
         },
         "type": "Feature"
        },
        {
         "geometry": {
          "coordinates": [
           -74.20152556457658,
           40.52626406734812
          ],
          "type": "Point"
         },
         "geometry_name": "geom",
         "id": "nyu_2451_34572.292",
         "properties": {
          "annoangle": 0,
          "annoline1": "Prince's",
          "annoline2": "Bay",
          "annoline3": null,
          "bbox": [
           -74.20152556457658,
           40.52626406734812,
           -74.20152556457658,
           40.52626406734812
          ],
          "borough": "Staten Island",
          "name": "Prince's Bay",
          "stacked": 2
         },
         "type": "Feature"
        },
        {
         "geometry": {
          "coordinates": [
           -74.13792663771568,
           40.57650629379489
          ],
          "type": "Point"
         },
         "geometry_name": "geom",
         "id": "nyu_2451_34572.293",
         "properties": {
          "annoangle": 0,
          "annoline1": "Lighthouse",
          "annoline2": "Hill",
          "annoline3": null,
          "bbox": [
           -74.13792663771568,
           40.57650629379489,
           -74.13792663771568,
           40.57650629379489
          ],
          "borough": "Staten Island",
          "name": "Lighthouse Hill",
          "stacked": 2
         },
         "type": "Feature"
        },
        {
         "geometry": {
          "coordinates": [
           -74.22957080626941,
           40.51954145748909
          ],
          "type": "Point"
         },
         "geometry_name": "geom",
         "id": "nyu_2451_34572.294",
         "properties": {
          "annoangle": 0,
          "annoline1": "Richmond",
          "annoline2": "Valley",
          "annoline3": null,
          "bbox": [
           -74.22957080626941,
           40.51954145748909,
           -74.22957080626941,
           40.51954145748909
          ],
          "borough": "Staten Island",
          "name": "Richmond Valley",
          "stacked": 2
         },
         "type": "Feature"
        },
        {
         "geometry": {
          "coordinates": [
           -73.82667757138641,
           40.79060155670148
          ],
          "type": "Point"
         },
         "geometry_name": "geom",
         "id": "nyu_2451_34572.295",
         "properties": {
          "annoangle": 0,
          "annoline1": "Malba",
          "annoline2": null,
          "annoline3": null,
          "bbox": [
           -73.82667757138641,
           40.79060155670148,
           -73.82667757138641,
           40.79060155670148
          ],
          "borough": "Queens",
          "name": "Malba",
          "stacked": 1
         },
         "type": "Feature"
        },
        {
         "geometry": {
          "coordinates": [
           -73.890345709872,
           40.6819989345173
          ],
          "type": "Point"
         },
         "geometry_name": "geom",
         "id": "nyu_2451_34572.296",
         "properties": {
          "annoangle": 0,
          "annoline1": "Highland",
          "annoline2": "Park",
          "annoline3": null,
          "bbox": [
           -73.890345709872,
           40.6819989345173,
           -73.890345709872,
           40.6819989345173
          ],
          "borough": "Brooklyn",
          "name": "Highland Park",
          "stacked": 2
         },
         "type": "Feature"
        },
        {
         "geometry": {
          "coordinates": [
           -73.94841515328893,
           40.60937770113766
          ],
          "type": "Point"
         },
         "geometry_name": "geom",
         "id": "nyu_2451_34572.297",
         "properties": {
          "annoangle": 0,
          "annoline1": "Madison",
          "annoline2": null,
          "annoline3": null,
          "bbox": [
           -73.94841515328893,
           40.60937770113766,
           -73.94841515328893,
           40.60937770113766
          ],
          "borough": "Brooklyn",
          "name": "Madison",
          "stacked": 1
         },
         "type": "Feature"
        },
        {
         "geometry": {
          "coordinates": [
           -73.86172577555115,
           40.85272297633017
          ],
          "type": "Point"
         },
         "geometry_name": "geom",
         "id": "nyu_2451_34572.298",
         "properties": {
          "annoangle": 0,
          "annoline1": "Bronxdale",
          "annoline2": null,
          "annoline3": null,
          "bbox": [
           -73.86172577555115,
           40.85272297633017,
           -73.86172577555115,
           40.85272297633017
          ],
          "borough": "Bronx",
          "name": "Bronxdale",
          "stacked": 1
         },
         "type": "Feature"
        },
        {
         "geometry": {
          "coordinates": [
           -73.85931863221647,
           40.86578787802982
          ],
          "type": "Point"
         },
         "geometry_name": "geom",
         "id": "nyu_2451_34572.299",
         "properties": {
          "annoangle": 0,
          "annoline1": "Allerton",
          "annoline2": null,
          "annoline3": null,
          "bbox": [
           -73.85931863221647,
           40.86578787802982,
           -73.85931863221647,
           40.86578787802982
          ],
          "borough": "Bronx",
          "name": "Allerton",
          "stacked": 1
         },
         "type": "Feature"
        },
        {
         "geometry": {
          "coordinates": [
           -73.90152264513144,
           40.8703923914147
          ],
          "type": "Point"
         },
         "geometry_name": "geom",
         "id": "nyu_2451_34572.300",
         "properties": {
          "annoangle": 0,
          "annoline1": "Kingsbridge",
          "annoline2": "Heights",
          "annoline3": null,
          "bbox": [
           -73.90152264513144,
           40.8703923914147,
           -73.90152264513144,
           40.8703923914147
          ],
          "borough": "Bronx",
          "name": "Kingsbridge Heights",
          "stacked": 2
         },
         "type": "Feature"
        },
        {
         "geometry": {
          "coordinates": [
           -73.94817709920184,
           40.64692606658579
          ],
          "type": "Point"
         },
         "geometry_name": "geom",
         "id": "nyu_2451_34572.301",
         "properties": {
          "annoangle": 0,
          "annoline1": "Erasmus",
          "annoline2": null,
          "annoline3": null,
          "bbox": [
           -73.94817709920184,
           40.64692606658579,
           -73.94817709920184,
           40.64692606658579
          ],
          "borough": "Brooklyn",
          "name": "Erasmus",
          "stacked": 1
         },
         "type": "Feature"
        },
        {
         "geometry": {
          "coordinates": [
           -74.00011136202637,
           40.75665808227519
          ],
          "type": "Point"
         },
         "geometry_name": "geom",
         "id": "nyu_2451_34572.302",
         "properties": {
          "annoangle": 0,
          "annoline1": "Hudson",
          "annoline2": "Yards",
          "annoline3": null,
          "bbox": [
           -74.00011136202637,
           40.75665808227519,
           -74.00011136202637,
           40.75665808227519
          ],
          "borough": "Manhattan",
          "name": "Hudson Yards",
          "stacked": 2
         },
         "type": "Feature"
        },
        {
         "geometry": {
          "coordinates": [
           -73.80553002968718,
           40.58733774018741
          ],
          "type": "Point"
         },
         "geometry_name": "geom",
         "id": "nyu_2451_34572.303",
         "properties": {
          "annoangle": 0,
          "annoline1": "Hammels",
          "annoline2": null,
          "annoline3": null,
          "bbox": [
           -73.80553002968718,
           40.58733774018741,
           -73.80553002968718,
           40.58733774018741
          ],
          "borough": "Queens",
          "name": "Hammels",
          "stacked": 1
         },
         "type": "Feature"
        },
        {
         "geometry": {
          "coordinates": [
           -73.76596781445627,
           40.611321691283834
          ],
          "type": "Point"
         },
         "geometry_name": "geom",
         "id": "nyu_2451_34572.304",
         "properties": {
          "annoangle": 0,
          "annoline1": "Bayswater",
          "annoline2": null,
          "annoline3": null,
          "bbox": [
           -73.76596781445627,
           40.611321691283834,
           -73.76596781445627,
           40.611321691283834
          ],
          "borough": "Queens",
          "name": "Bayswater",
          "stacked": 1
         },
         "type": "Feature"
        },
        {
         "geometry": {
          "coordinates": [
           -73.94563070334091,
           40.756091297094706
          ],
          "type": "Point"
         },
         "geometry_name": "geom",
         "id": "nyu_2451_34572.305",
         "properties": {
          "annoangle": 0,
          "annoline1": "Queensbridge",
          "annoline2": null,
          "annoline3": null,
          "bbox": [
           -73.94563070334091,
           40.756091297094706,
           -73.94563070334091,
           40.756091297094706
          ],
          "borough": "Queens",
          "name": "Queensbridge",
          "stacked": 1
         },
         "type": "Feature"
        },
        {
         "geometry": {
          "coordinates": [
           -74.08173992211962,
           40.61731079252983
          ],
          "type": "Point"
         },
         "geometry_name": "geom",
         "id": "nyu_2451_34572.306",
         "properties": {
          "annoangle": 0,
          "annoline1": "Fox",
          "annoline2": "Hills",
          "annoline3": null,
          "bbox": [
           -74.08173992211962,
           40.61731079252983,
           -74.08173992211962,
           40.61731079252983
          ],
          "borough": "Staten Island",
          "name": "Fox Hills",
          "stacked": 2
         },
         "type": "Feature"
        }
       ],
       "totalFeatures": 306,
       "type": "FeatureCollection"
      },
      "text/plain": [
       "<IPython.core.display.JSON object>"
      ]
     },
     "execution_count": 15,
     "metadata": {
      "application/json": {
       "expanded": false,
       "root": "root"
      }
     },
     "output_type": "execute_result"
    }
   ],
   "source": [
    "JSON(jsondata)"
   ]
  },
  {
   "cell_type": "code",
   "execution_count": 16,
   "metadata": {
    "tags": []
   },
   "outputs": [],
   "source": [
    "#to dict first\n",
    "dictdata = []\n",
    "for i in range(len(jsondata['features'])):\n",
    "    borough = jsondata['features'][i]['properties']['borough']\n",
    "    hood = jsondata['features'][i]['properties']['name']\n",
    "    latitude = jsondata['features'][i]['geometry']['coordinates'][1]\n",
    "    longitude = jsondata['features'][i]['geometry']['coordinates'][0]\n",
    "    dataentry = [hood, borough, latitude, longitude]\n",
    "    dictdata.append(dataentry)"
   ]
  },
  {
   "cell_type": "code",
   "execution_count": 17,
   "metadata": {},
   "outputs": [],
   "source": [
    "columns = ['neighborhood', 'borough', 'nb latitude', 'nb longitude']\n",
    "df = pd.DataFrame(dictdata, columns=columns)"
   ]
  },
  {
   "cell_type": "code",
   "execution_count": 18,
   "metadata": {},
   "outputs": [
    {
     "data": {
      "text/html": [
       "<div>\n",
       "<style scoped>\n",
       "    .dataframe tbody tr th:only-of-type {\n",
       "        vertical-align: middle;\n",
       "    }\n",
       "\n",
       "    .dataframe tbody tr th {\n",
       "        vertical-align: top;\n",
       "    }\n",
       "\n",
       "    .dataframe thead th {\n",
       "        text-align: right;\n",
       "    }\n",
       "</style>\n",
       "<table border=\"1\" class=\"dataframe\">\n",
       "  <thead>\n",
       "    <tr style=\"text-align: right;\">\n",
       "      <th></th>\n",
       "      <th>neighborhood</th>\n",
       "      <th>borough</th>\n",
       "      <th>nb latitude</th>\n",
       "      <th>nb longitude</th>\n",
       "    </tr>\n",
       "  </thead>\n",
       "  <tbody>\n",
       "    <tr>\n",
       "      <th>0</th>\n",
       "      <td>Wakefield</td>\n",
       "      <td>Bronx</td>\n",
       "      <td>40.894705</td>\n",
       "      <td>-73.847201</td>\n",
       "    </tr>\n",
       "    <tr>\n",
       "      <th>1</th>\n",
       "      <td>Co-op City</td>\n",
       "      <td>Bronx</td>\n",
       "      <td>40.874294</td>\n",
       "      <td>-73.829939</td>\n",
       "    </tr>\n",
       "    <tr>\n",
       "      <th>2</th>\n",
       "      <td>Eastchester</td>\n",
       "      <td>Bronx</td>\n",
       "      <td>40.887556</td>\n",
       "      <td>-73.827806</td>\n",
       "    </tr>\n",
       "    <tr>\n",
       "      <th>3</th>\n",
       "      <td>Fieldston</td>\n",
       "      <td>Bronx</td>\n",
       "      <td>40.895437</td>\n",
       "      <td>-73.905643</td>\n",
       "    </tr>\n",
       "    <tr>\n",
       "      <th>4</th>\n",
       "      <td>Riverdale</td>\n",
       "      <td>Bronx</td>\n",
       "      <td>40.890834</td>\n",
       "      <td>-73.912585</td>\n",
       "    </tr>\n",
       "  </tbody>\n",
       "</table>\n",
       "</div>"
      ],
      "text/plain": [
       "  neighborhood borough  nb latitude  nb longitude\n",
       "0    Wakefield   Bronx    40.894705    -73.847201\n",
       "1   Co-op City   Bronx    40.874294    -73.829939\n",
       "2  Eastchester   Bronx    40.887556    -73.827806\n",
       "3    Fieldston   Bronx    40.895437    -73.905643\n",
       "4    Riverdale   Bronx    40.890834    -73.912585"
      ]
     },
     "execution_count": 18,
     "metadata": {},
     "output_type": "execute_result"
    }
   ],
   "source": [
    "df.head()"
   ]
  },
  {
   "cell_type": "markdown",
   "metadata": {},
   "source": [
    "### Task\n",
    "Use different data sources and APIs to collect information about the neigborhoods that can be used for segmentation."
   ]
  },
  {
   "cell_type": "markdown",
   "metadata": {},
   "source": [
    "#### FOURSQUARE"
   ]
  },
  {
   "cell_type": "code",
   "execution_count": 27,
   "metadata": {},
   "outputs": [],
   "source": [
    "#initialize FS API\n",
    "headers = {\n",
    "\n",
    "    \"Accept\": \"application/json\",\n",
    "\n",
    "    \"Authorization\": fs_api_key\n",
    "\n",
    "}\n",
    "url=\"https://api.foursquare.com/v3/places/search\"\n",
    "radius = \"&radius=500\"\n",
    "limit = \"&limit=50\"\n",
    "#center is currently the coordinates of the first entry, wakefield i think\n",
    "center=\"40.894705,-73.847201\""
   ]
  },
  {
   "cell_type": "code",
   "execution_count": 28,
   "metadata": {},
   "outputs": [],
   "source": [
    "#get venues list given a set of coordinates from FS API\n",
    "def get_venues(coords):\n",
    "    stripcoords = coords.replace(\" \", \"\")\n",
    "    url_keys_append = \"?fields=name,location,geocodes,categories&ll=\" + stripcoords + radius + limit\n",
    "    requrl = url + url_keys_append\n",
    "    res = re.request(\"GET\", requrl, headers=headers)\n",
    "    print(res.status_code)\n",
    "    dataset = res.json()\n",
    "    return dataset;"
   ]
  },
  {
   "cell_type": "code",
   "execution_count": 29,
   "metadata": {},
   "outputs": [
    {
     "name": "stdout",
     "output_type": "stream",
     "text": [
      "200\n"
     ]
    }
   ],
   "source": [
    "jsonres = get_venues(center)"
   ]
  },
  {
   "cell_type": "code",
   "execution_count": 39,
   "metadata": {},
   "outputs": [
    {
     "data": {
      "application/json": [
       {
        "categories": [
         {
          "icon": {
           "prefix": "https://ss3.4sqi.net/img/categories_v2/food/icecream_",
           "suffix": ".png"
          },
          "id": 13046,
          "name": "Ice Cream Parlor"
         },
         {
          "icon": {
           "prefix": "https://ss3.4sqi.net/img/categories_v2/food/caribbean_",
           "suffix": ".png"
          },
          "id": 13097,
          "name": "Caribbean Restaurant"
         },
         {
          "icon": {
           "prefix": "https://ss3.4sqi.net/img/categories_v2/food/italian_",
           "suffix": ".png"
          },
          "id": 13236,
          "name": "Italian Restaurant"
         }
        ],
        "geocodes": {
         "main": {
          "latitude": 40.893585,
          "longitude": -73.843692
         },
         "roof": {
          "latitude": 40.893585,
          "longitude": -73.843692
         }
        },
        "location": {
         "address": "4120 Baychester Ave",
         "country": "US",
         "cross_street": "Edenwald & Bussing Ave",
         "dma": "New York",
         "formatted_address": "4120 Baychester Ave (Edenwald & Bussing Ave), Bronx, NY 10466",
         "locality": "Bronx",
         "neighborhood": [
          "Edenwald"
         ],
         "postcode": "10466",
         "region": "NY"
        },
        "name": "Lollipops Gelato",
        "price": 1,
        "stats": {
         "total_photos": 6,
         "total_ratings": 22,
         "total_tips": 4
        }
       },
       {
        "categories": [
         {
          "icon": {
           "prefix": "https://ss3.4sqi.net/img/categories_v2/shops/pharmacy_",
           "suffix": ".png"
          },
          "id": 17035,
          "name": "Drugstore"
         }
        ],
        "geocodes": {
         "main": {
          "latitude": 40.896423,
          "longitude": -73.844714
         },
         "roof": {
          "latitude": 40.896423,
          "longitude": -73.844714
         }
        },
        "location": {
         "address": "4232 Baychester Ave",
         "country": "US",
         "cross_street": "",
         "dma": "New York",
         "formatted_address": "4232 Baychester Ave, Bronx, NY 10466",
         "locality": "Bronx",
         "neighborhood": [
          "Wakefield"
         ],
         "postcode": "10466",
         "region": "NY"
        },
        "name": "Rite Aid",
        "stats": {
         "total_photos": 4,
         "total_ratings": 22,
         "total_tips": 0
        }
       },
       {
        "categories": [
         {
          "icon": {
           "prefix": "https://ss3.4sqi.net/img/categories_v2/shops/pharmacy_",
           "suffix": ".png"
          },
          "id": 17035,
          "name": "Drugstore"
         }
        ],
        "geocodes": {
         "main": {
          "latitude": 40.896421,
          "longitude": -73.844802
         },
         "roof": {
          "latitude": 40.896421,
          "longitude": -73.844802
         }
        },
        "location": {
         "address": "4232 Baychester Ave",
         "country": "US",
         "cross_street": "Pitman",
         "dma": "New York",
         "formatted_address": "4232 Baychester Ave (Pitman), Bronx, NY 10466",
         "locality": "Bronx",
         "neighborhood": [
          "Wakefield"
         ],
         "postcode": "10466",
         "region": "NY"
        },
        "name": "Walgreens",
        "stats": {
         "total_photos": 2,
         "total_ratings": 0
        }
       },
       {
        "categories": [
         {
          "icon": {
           "prefix": "https://ss3.4sqi.net/img/categories_v2/food/deli_",
           "suffix": ".png"
          },
          "id": 13039,
          "name": "Deli"
         }
        ],
        "geocodes": {
         "main": {
          "latitude": 40.896768,
          "longitude": -73.844307
         }
        },
        "location": {
         "address": "2020 Pitman Ave",
         "country": "US",
         "dma": "New York",
         "formatted_address": "2020 Pitman Ave, Bronx, NY 10466",
         "locality": "Bronx",
         "neighborhood": [
          "Wakefield"
         ],
         "postcode": "10466",
         "region": "NY"
        },
        "name": "Central Deli",
        "price": 1
       },
       {
        "categories": [
         {
          "icon": {
           "prefix": "https://ss3.4sqi.net/img/categories_v2/food/icecream_",
           "suffix": ".png"
          },
          "id": 13046,
          "name": "Ice Cream Parlor"
         }
        ],
        "geocodes": {
         "main": {
          "latitude": 40.890433,
          "longitude": -73.848571
         },
         "roof": {
          "latitude": 40.890433,
          "longitude": -73.848571
         }
        },
        "location": {
         "address": "1006 E 233rd St",
         "country": "US",
         "cross_street": "",
         "dma": "New York",
         "formatted_address": "1006 E 233rd St, Bronx, NY 10466",
         "locality": "Bronx",
         "neighborhood": [
          "Edenwald"
         ],
         "postcode": "10466",
         "region": "NY"
        },
        "name": "Carvel",
        "price": 1,
        "stats": {
         "total_photos": 22,
         "total_ratings": 22,
         "total_tips": 5
        }
       },
       {
        "categories": [
         {
          "icon": {
           "prefix": "https://ss3.4sqi.net/img/categories_v2/food/default_",
           "suffix": ".png"
          },
          "id": 13068,
          "name": "American Restaurant"
         },
         {
          "icon": {
           "prefix": "https://ss3.4sqi.net/img/categories_v2/food/caribbean_",
           "suffix": ".png"
          },
          "id": 13097,
          "name": "Caribbean Restaurant"
         },
         {
          "icon": {
           "prefix": "https://ss3.4sqi.net/img/categories_v2/food/fastfood_",
           "suffix": ".png"
          },
          "id": 13145,
          "name": "Fast Food Restaurant"
         }
        ],
        "geocodes": {
         "main": {
          "latitude": 40.898173,
          "longitude": -73.850254
         },
         "roof": {
          "latitude": 40.898173,
          "longitude": -73.850254
         }
        },
        "location": {
         "address": "1802 Nereid Ave",
         "country": "US",
         "cross_street": "Wickham",
         "dma": "New York",
         "formatted_address": "1802 Nereid Ave (Wickham), Bronx, NY 10466",
         "locality": "Bronx",
         "neighborhood": [
          "Wakefield"
         ],
         "postcode": "10466",
         "region": "NY"
        },
        "name": "Cooler Runnings Jamaican Restaurant",
        "price": 2,
        "stats": {
         "total_photos": 2,
         "total_ratings": 13,
         "total_tips": 4
        }
       },
       {
        "categories": [
         {
          "icon": {
           "prefix": "https://ss3.4sqi.net/img/categories_v2/food/fastfood_",
           "suffix": ".png"
          },
          "id": 13145,
          "name": "Fast Food Restaurant"
         },
         {
          "icon": {
           "prefix": "https://ss3.4sqi.net/img/categories_v2/food/deli_",
           "suffix": ".png"
          },
          "id": 13039,
          "name": "Deli"
         }
        ],
        "geocodes": {
         "main": {
          "latitude": 40.890473,
          "longitude": -73.849142
         },
         "roof": {
          "latitude": 40.890473,
          "longitude": -73.849142
         }
        },
        "location": {
         "address": "980 E 233rd St",
         "country": "US",
         "cross_street": "",
         "dma": "New York",
         "formatted_address": "980 E 233rd St, Bronx, NY 10466",
         "locality": "Bronx",
         "neighborhood": [
          "Edenwald"
         ],
         "postcode": "10466",
         "region": "NY"
        },
        "name": "Subway",
        "price": 1,
        "stats": {
         "total_photos": 3,
         "total_ratings": 1,
         "total_tips": 1
        }
       },
       {
        "categories": [
         {
          "icon": {
           "prefix": "https://ss3.4sqi.net/img/categories_v2/parks_outdoors/outdoors_",
           "suffix": ".png"
          },
          "id": 16030,
          "name": "Other Great Outdoors"
         }
        ],
        "geocodes": {
         "main": {
          "latitude": 40.891511,
          "longitude": -73.844493
         },
         "roof": {
          "latitude": 40.891511,
          "longitude": -73.844493
         }
        },
        "location": {
         "address": "4065 Edson Ave",
         "country": "US",
         "cross_street": "Strang Ave",
         "dma": "New York",
         "formatted_address": "4065 Edson Ave (Strang Ave), Bronx, NY 10466",
         "locality": "Bronx",
         "neighborhood": [
          "Edenwald"
         ],
         "postcode": "10466",
         "region": "NY"
        },
        "name": "The Block"
       },
       {
        "categories": [
         {
          "icon": {
           "prefix": "https://ss3.4sqi.net/img/categories_v2/shops/carwash_",
           "suffix": ".png"
          },
          "id": 11011,
          "name": "Car Wash and Detail"
         }
        ],
        "geocodes": {
         "main": {
          "latitude": 40.89121,
          "longitude": -73.84987
         },
         "roof": {
          "latitude": 40.89121,
          "longitude": -73.84987
         }
        },
        "location": {
         "address": "951 E 233rd St",
         "country": "US",
         "cross_street": "Edenwald Avenue",
         "dma": "New York",
         "formatted_address": "951 E 233rd St (Edenwald Avenue), Bronx, NY 10466",
         "locality": "Bronx",
         "postcode": "10466",
         "region": "NY"
        },
        "name": "Koss Quick Wash"
       },
       {
        "categories": [
         {
          "icon": {
           "prefix": "https://ss3.4sqi.net/img/categories_v2/food/default_",
           "suffix": ".png"
          },
          "id": 13068,
          "name": "American Restaurant"
         },
         {
          "icon": {
           "prefix": "https://ss3.4sqi.net/img/categories_v2/food/caribbean_",
           "suffix": ".png"
          },
          "id": 13097,
          "name": "Caribbean Restaurant"
         },
         {
          "icon": {
           "prefix": "https://ss3.4sqi.net/img/categories_v2/food/southern_",
           "suffix": ".png"
          },
          "id": 13344,
          "name": "Southern / Soul Food Restaurant"
         }
        ],
        "geocodes": {
         "main": {
          "latitude": 40.890909,
          "longitude": -73.848983
         },
         "roof": {
          "latitude": 40.890909,
          "longitude": -73.848983
         }
        },
        "location": {
         "address": "987 E 233rd St",
         "country": "US",
         "cross_street": "",
         "dma": "New York",
         "formatted_address": "987 E 233rd St, Bronx, NY 10466",
         "locality": "Bronx",
         "neighborhood": [
          "Edenwald"
         ],
         "postcode": "10466",
         "region": "NY"
        },
        "name": "Lammy's Restaurant",
        "price": 2
       },
       {
        "categories": [
         {
          "icon": {
           "prefix": "https://ss3.4sqi.net/img/categories_v2/shops/laundry_",
           "suffix": ".png"
          },
          "id": 11068,
          "name": "Laundromat"
         }
        ],
        "geocodes": {
         "main": {
          "latitude": 40.890576,
          "longitude": -73.849321
         },
         "roof": {
          "latitude": 40.890576,
          "longitude": -73.849321
         }
        },
        "location": {
         "address": "980 E 233rd St",
         "country": "US",
         "cross_street": "",
         "dma": "New York",
         "formatted_address": "980 E 233rd St, Bronx, NY 10466",
         "locality": "Bronx",
         "neighborhood": [
          "Edenwald"
         ],
         "postcode": "10466",
         "region": "NY"
        },
        "name": "Good Neighbor Laundromat"
       }
      ],
      "text/plain": [
       "<IPython.core.display.JSON object>"
      ]
     },
     "execution_count": 39,
     "metadata": {
      "application/json": {
       "expanded": false,
       "root": "root"
      }
     },
     "output_type": "execute_result"
    }
   ],
   "source": [
    "#jsonres['results'][6]['location']['neighborhood'][0]\n",
    "JSON(jsonres['results'])"
   ]
  },
  {
   "cell_type": "code",
   "execution_count": 25,
   "metadata": {},
   "outputs": [
    {
     "name": "stdout",
     "output_type": "stream",
     "text": [
      "0\n",
      "1\n",
      "2\n",
      "3\n",
      "4\n",
      "5\n",
      "6\n",
      "7\n",
      "8\n",
      "9\n",
      "10\n"
     ]
    }
   ],
   "source": [
    "#what i want for from each item\n",
    "venues_data = []\n",
    "for i in range(len(jsonres['results'])):\n",
    "    print(i)\n",
    "    venue_type = jsonres['results'][i]['categories'][0]['name']\n",
    "    venue_lat = jsonres['results'][i]['geocodes']['main']['latitude']\n",
    "    venue_lon = jsonres['results'][i]['geocodes']['main']['longitude']\n",
    "    new_venue_item = [venue_type, venue_lat, venue_lon]\n",
    "    venues_data.append(new_venue_item)"
   ]
  },
  {
   "cell_type": "code",
   "execution_count": 26,
   "metadata": {},
   "outputs": [
    {
     "data": {
      "text/plain": [
       "[['Ice Cream Parlor', 40.893585, -73.843692],\n",
       " ['Drugstore', 40.896423, -73.844714],\n",
       " ['Drugstore', 40.896421, -73.844802],\n",
       " ['Deli', 40.896768, -73.844307],\n",
       " ['Ice Cream Parlor', 40.890433, -73.848571],\n",
       " ['American Restaurant', 40.898173, -73.850254],\n",
       " ['Fast Food Restaurant', 40.890473, -73.849142],\n",
       " ['Other Great Outdoors', 40.891511, -73.844493],\n",
       " ['Car Wash and Detail', 40.89121, -73.84987],\n",
       " ['American Restaurant', 40.890909, -73.848983],\n",
       " ['Laundromat', 40.890576, -73.849321]]"
      ]
     },
     "execution_count": 26,
     "metadata": {},
     "output_type": "execute_result"
    }
   ],
   "source": [
    "venues_data"
   ]
  },
  {
   "cell_type": "markdown",
   "metadata": {},
   "source": [
    "#### GOOGLE"
   ]
  },
  {
   "cell_type": "code",
   "execution_count": 31,
   "metadata": {},
   "outputs": [],
   "source": [
    "#GOOGLE API\n",
    "url = \"https://maps.googleapis.com/maps/api/place/nearbysearch/json?\"\n",
    "params= \"location=40.894705%2C-73.847201&radius=500&key=\" + google_api\n",
    "\n",
    "payload={}\n",
    "headers={}\n",
    "\n"
   ]
  },
  {
   "cell_type": "code",
   "execution_count": 34,
   "metadata": {},
   "outputs": [],
   "source": [
    "goourl = url + params"
   ]
  },
  {
   "cell_type": "code",
   "execution_count": 35,
   "metadata": {
    "collapsed": true,
    "jupyter": {
     "outputs_hidden": true
    },
    "tags": []
   },
   "outputs": [
    {
     "name": "stdout",
     "output_type": "stream",
     "text": [
      "{\n",
      "   \"html_attributions\" : [],\n",
      "   \"next_page_token\" : \"Aap_uEDuZLKGvo2l4OkT0tv0LHfzYxTErmm-3tSg7gB8yeoyGK5pyuye2SYVEBZoOAa6p-_nttxO1u5MT6W7hIS1hB53W1yUzEtcSVsU5te9BHTTgER0PTSwPNTvCJK-7is8LC1WhTzXr3n_MrjltlQ685-vr8Z_Q5x1XoDq9wk65K-Y3JKrFhzdKr61MseOrUf-QbinoqqiFnXMdkVbBByBL6QzP34w88UNsvDq3oDAR_iMnBhhPPR3xOI0EzUhq5xui-mirSwOqOe1HRXIrFFHK_fMWKt41u15iH5VmJaZNXBcKiUphSADodQbcjMkYJTwD3qKXZcTkx5M8O6oq9fQ_KQcLzg2IvyCiA2un234VPxGZg10he_7MwtNkgqymEVdqVq4YZdLbxG_EZ8N5YBIzOp4I-0nZlo9F5bq0X0IwOh8\",\n",
      "   \"results\" : [\n",
      "      {\n",
      "         \"geometry\" : {\n",
      "            \"location\" : {\n",
      "               \"lat\" : 40.7127753,\n",
      "               \"lng\" : -74.0059728\n",
      "            },\n",
      "            \"viewport\" : {\n",
      "               \"northeast\" : {\n",
      "                  \"lat\" : 40.91757705070789,\n",
      "                  \"lng\" : -73.70027206817629\n",
      "               },\n",
      "               \"southwest\" : {\n",
      "                  \"lat\" : 40.47739906045452,\n",
      "                  \"lng\" : -74.25908991427882\n",
      "               }\n",
      "            }\n",
      "         },\n",
      "         \"icon\" : \"https://maps.gstatic.com/mapfiles/place_api/icons/v1/png_71/geocode-71.png\",\n",
      "         \"icon_background_color\" : \"#7B9EB0\",\n",
      "         \"icon_mask_base_uri\" : \"https://maps.gstatic.com/mapfiles/place_api/icons/v2/generic_pinlet\",\n",
      "         \"name\" : \"New York\",\n",
      "         \"photos\" : [\n",
      "            {\n",
      "               \"height\" : 2268,\n",
      "               \"html_attributions\" : [\n",
      "                  \"\\u003ca href=\\\"https://maps.google.com/maps/contrib/111914514424945579938\\\"\\u003eNikhil Awasthi\\u003c/a\\u003e\"\n",
      "               ],\n",
      "               \"photo_reference\" : \"Aap_uEDyrkLEbr15KFfN6gkZ-DEfYJn1ziAtbw-BtJjYXenURqGzEDaZyzxhIBjDmyfBPT-UIwVkNyoXiqu_t7LKtfelhyYib5jkXit8BJ5z3lZ3UMbI4PvDuVWE-7EUuh20albmtV6c-k5GYHEQKhddUr0ASNOfoyqqKroN_sn2yqGpdZ8T\",\n",
      "               \"width\" : 4032\n",
      "            }\n",
      "         ],\n",
      "         \"place_id\" : \"ChIJOwg_06VPwokRYv534QaPC8g\",\n",
      "         \"reference\" : \"ChIJOwg_06VPwokRYv534QaPC8g\",\n",
      "         \"scope\" : \"GOOGLE\",\n",
      "         \"types\" : [ \"locality\", \"political\" ],\n",
      "         \"vicinity\" : \"New York\"\n",
      "      },\n",
      "      {\n",
      "         \"business_status\" : \"OPERATIONAL\",\n",
      "         \"geometry\" : {\n",
      "            \"location\" : {\n",
      "               \"lat\" : 40.89664899999999,\n",
      "               \"lng\" : -73.8448461\n",
      "            },\n",
      "            \"viewport\" : {\n",
      "               \"northeast\" : {\n",
      "                  \"lat\" : 40.89788513029149,\n",
      "                  \"lng\" : -73.8435350197085\n",
      "               },\n",
      "               \"southwest\" : {\n",
      "                  \"lat\" : 40.8951871697085,\n",
      "                  \"lng\" : -73.8462329802915\n",
      "               }\n",
      "            }\n",
      "         },\n",
      "         \"icon\" : \"https://maps.gstatic.com/mapfiles/place_api/icons/v1/png_71/generic_business-71.png\",\n",
      "         \"icon_background_color\" : \"#4B96F3\",\n",
      "         \"icon_mask_base_uri\" : \"https://maps.gstatic.com/mapfiles/place_api/icons/v2/generic_pinlet\",\n",
      "         \"name\" : \"Walgreens\",\n",
      "         \"opening_hours\" : {\n",
      "            \"open_now\" : true\n",
      "         },\n",
      "         \"photos\" : [\n",
      "            {\n",
      "               \"height\" : 3024,\n",
      "               \"html_attributions\" : [\n",
      "                  \"\\u003ca href=\\\"https://maps.google.com/maps/contrib/106885093725842393551\\\"\\u003emiguel bisono\\u003c/a\\u003e\"\n",
      "               ],\n",
      "               \"photo_reference\" : \"Aap_uEBog9qJSagaBRQNaWEozzWpx8z1pn2LEQwe9MtfnPTG0wP4Uow3D8wqIAMLeX-94su9oB8ugLrbRXE--g7TvEvM4xL-hXTpx39l07JzntE05xuJlgc4KOFd9zY6vBsBN6oScDbOMq98PTfNu_kerLYq3aN1FUil5uX3I3AwBgBVCAI\",\n",
      "               \"width\" : 4032\n",
      "            }\n",
      "         ],\n",
      "         \"place_id\" : \"ChIJR-vd99TywokRoymAoVkEKI0\",\n",
      "         \"plus_code\" : {\n",
      "            \"compound_code\" : \"V5W4+M3 New York, NY, USA\",\n",
      "            \"global_code\" : \"87G8V5W4+M3\"\n",
      "         },\n",
      "         \"price_level\" : 2,\n",
      "         \"rating\" : 2.6,\n",
      "         \"reference\" : \"ChIJR-vd99TywokRoymAoVkEKI0\",\n",
      "         \"scope\" : \"GOOGLE\",\n",
      "         \"types\" : [\n",
      "            \"drugstore\",\n",
      "            \"convenience_store\",\n",
      "            \"food\",\n",
      "            \"health\",\n",
      "            \"point_of_interest\",\n",
      "            \"clothing_store\",\n",
      "            \"store\",\n",
      "            \"establishment\"\n",
      "         ],\n",
      "         \"user_ratings_total\" : 68,\n",
      "         \"vicinity\" : \"4232 Baychester Avenue, Bronx\"\n",
      "      },\n",
      "      {\n",
      "         \"business_status\" : \"OPERATIONAL\",\n",
      "         \"geometry\" : {\n",
      "            \"location\" : {\n",
      "               \"lat\" : 40.891485,\n",
      "               \"lng\" : -73.84436099999999\n",
      "            },\n",
      "            \"viewport\" : {\n",
      "               \"northeast\" : {\n",
      "                  \"lat\" : 40.89288473029149,\n",
      "                  \"lng\" : -73.84288881970849\n",
      "               },\n",
      "               \"southwest\" : {\n",
      "                  \"lat\" : 40.89018676970849,\n",
      "                  \"lng\" : -73.8455867802915\n",
      "               }\n",
      "            }\n",
      "         },\n",
      "         \"icon\" : \"https://maps.gstatic.com/mapfiles/place_api/icons/v1/png_71/school-71.png\",\n",
      "         \"icon_background_color\" : \"#7B9EB0\",\n",
      "         \"icon_mask_base_uri\" : \"https://maps.gstatic.com/mapfiles/place_api/icons/v2/school_pinlet\",\n",
      "         \"name\" : \"Little Stars Preschool\",\n",
      "         \"opening_hours\" : {\n",
      "            \"open_now\" : true\n",
      "         },\n",
      "         \"photos\" : [\n",
      "            {\n",
      "               \"height\" : 480,\n",
      "               \"html_attributions\" : [\n",
      "                  \"\\u003ca href=\\\"https://maps.google.com/maps/contrib/112550518969654090693\\\"\\u003eLittle Stars Preschool\\u003c/a\\u003e\"\n",
      "               ],\n",
      "               \"photo_reference\" : \"Aap_uEAehSM1VkZt8ptcMSqxK5J2Nd47jE0w6xM_vDhwEYGt8JziBxCQzgGjt3LHinZHtZsDF2ft8fRpHrW3dpjpp6TuNe7iVsqPTKj9kXsKedBfsun8dEgqzho0y9iaPZPOOhL9vyliYGQfnWykCAAvDUjATUs03kvuFbCTEk2X5WYMVKca\",\n",
      "               \"width\" : 640\n",
      "            }\n",
      "         ],\n",
      "         \"place_id\" : \"ChIJ3egd8SrzwokRUwff4Ccy86M\",\n",
      "         \"plus_code\" : {\n",
      "            \"compound_code\" : \"V5R4+H7 Bronx, NY, USA\",\n",
      "            \"global_code\" : \"87G8V5R4+H7\"\n",
      "         },\n",
      "         \"rating\" : 4.8,\n",
      "         \"reference\" : \"ChIJ3egd8SrzwokRUwff4Ccy86M\",\n",
      "         \"scope\" : \"GOOGLE\",\n",
      "         \"types\" : [\n",
      "            \"school\",\n",
      "            \"point_of_interest\",\n",
      "            \"clothing_store\",\n",
      "            \"store\",\n",
      "            \"establishment\"\n",
      "         ],\n",
      "         \"user_ratings_total\" : 68,\n",
      "         \"vicinity\" : \"4063 Edson Avenue, Bronx\"\n",
      "      },\n",
      "      {\n",
      "         \"business_status\" : \"OPERATIONAL\",\n",
      "         \"geometry\" : {\n",
      "            \"location\" : {\n",
      "               \"lat\" : 40.8975208,\n",
      "               \"lng\" : -73.84803529999999\n",
      "            },\n",
      "            \"viewport\" : {\n",
      "               \"northeast\" : {\n",
      "                  \"lat\" : 40.8988445802915,\n",
      "                  \"lng\" : -73.84680156970849\n",
      "               },\n",
      "               \"southwest\" : {\n",
      "                  \"lat\" : 40.8961466197085,\n",
      "                  \"lng\" : -73.84949953029151\n",
      "               }\n",
      "            }\n",
      "         },\n",
      "         \"icon\" : \"https://maps.gstatic.com/mapfiles/place_api/icons/v1/png_71/generic_business-71.png\",\n",
      "         \"icon_background_color\" : \"#7B9EB0\",\n",
      "         \"icon_mask_base_uri\" : \"https://maps.gstatic.com/mapfiles/place_api/icons/v2/generic_pinlet\",\n",
      "         \"name\" : \"Amada Chair Rental & Event Planning\",\n",
      "         \"opening_hours\" : {\n",
      "            \"open_now\" : false\n",
      "         },\n",
      "         \"place_id\" : \"ChIJRdVMoNbywokRct0ycq8BiYA\",\n",
      "         \"plus_code\" : {\n",
      "            \"compound_code\" : \"V5X2+2Q New York, NY, USA\",\n",
      "            \"global_code\" : \"87G8V5X2+2Q\"\n",
      "         },\n",
      "         \"rating\" : 4,\n",
      "         \"reference\" : \"ChIJRdVMoNbywokRct0ycq8BiYA\",\n",
      "         \"scope\" : \"GOOGLE\",\n",
      "         \"types\" : [ \"food\", \"point_of_interest\", \"establishment\" ],\n",
      "         \"user_ratings_total\" : 1,\n",
      "         \"vicinity\" : \"4346 Ely Avenue, Bronx\"\n",
      "      },\n",
      "      {\n",
      "         \"business_status\" : \"OPERATIONAL\",\n",
      "         \"geometry\" : {\n",
      "            \"location\" : {\n",
      "               \"lat\" : 40.89311099999999,\n",
      "               \"lng\" : -73.84879699999999\n",
      "            },\n",
      "            \"viewport\" : {\n",
      "               \"northeast\" : {\n",
      "                  \"lat\" : 40.89448893029149,\n",
      "                  \"lng\" : -73.84731541970849\n",
      "               },\n",
      "               \"southwest\" : {\n",
      "                  \"lat\" : 40.8917909697085,\n",
      "                  \"lng\" : -73.8500133802915\n",
      "               }\n",
      "            }\n",
      "         },\n",
      "         \"icon\" : \"https://maps.gstatic.com/mapfiles/place_api/icons/v1/png_71/generic_business-71.png\",\n",
      "         \"icon_background_color\" : \"#7B9EB0\",\n",
      "         \"icon_mask_base_uri\" : \"https://maps.gstatic.com/mapfiles/place_api/icons/v2/generic_pinlet\",\n",
      "         \"name\" : \"Heslop Pauline B MD\",\n",
      "         \"place_id\" : \"ChIJnWMV7ynzwokRqi7uH3N8NbU\",\n",
      "         \"plus_code\" : {\n",
      "            \"compound_code\" : \"V5V2+6F New York, NY, USA\",\n",
      "            \"global_code\" : \"87G8V5V2+6F\"\n",
      "         },\n",
      "         \"reference\" : \"ChIJnWMV7ynzwokRqi7uH3N8NbU\",\n",
      "         \"scope\" : \"GOOGLE\",\n",
      "         \"types\" : [ \"doctor\", \"health\", \"point_of_interest\", \"establishment\" ],\n",
      "         \"vicinity\" : \"4139 Wickham Avenue, Bronx\"\n",
      "      },\n",
      "      {\n",
      "         \"business_status\" : \"OPERATIONAL\",\n",
      "         \"geometry\" : {\n",
      "            \"location\" : {\n",
      "               \"lat\" : 40.8933506,\n",
      "               \"lng\" : -73.84458270000002\n",
      "            },\n",
      "            \"viewport\" : {\n",
      "               \"northeast\" : {\n",
      "                  \"lat\" : 40.8946784802915,\n",
      "                  \"lng\" : -73.84333016970849\n",
      "               },\n",
      "               \"southwest\" : {\n",
      "                  \"lat\" : 40.8919805197085,\n",
      "                  \"lng\" : -73.8460281302915\n",
      "               }\n",
      "            }\n",
      "         },\n",
      "         \"icon\" : \"https://maps.gstatic.com/mapfiles/place_api/icons/v1/png_71/school-71.png\",\n",
      "         \"icon_background_color\" : \"#7B9EB0\",\n",
      "         \"icon_mask_base_uri\" : \"https://maps.gstatic.com/mapfiles/place_api/icons/v2/school_pinlet\",\n",
      "         \"name\" : \"Fresh Start Group Daycare LLC\",\n",
      "         \"place_id\" : \"ChIJuRDVfdXywokRBUUSJz8PGp4\",\n",
      "         \"plus_code\" : {\n",
      "            \"compound_code\" : \"V5V4+85 New York, NY, USA\",\n",
      "            \"global_code\" : \"87G8V5V4+85\"\n",
      "         },\n",
      "         \"reference\" : \"ChIJuRDVfdXywokRBUUSJz8PGp4\",\n",
      "         \"scope\" : \"GOOGLE\",\n",
      "         \"types\" : [ \"school\", \"point_of_interest\", \"establishment\" ],\n",
      "         \"vicinity\" : \"4116 Edson Avenue, Bronx\"\n",
      "      },\n",
      "      {\n",
      "         \"business_status\" : \"OPERATIONAL\",\n",
      "         \"geometry\" : {\n",
      "            \"location\" : {\n",
      "               \"lat\" : 40.8961111,\n",
      "               \"lng\" : -73.8469444\n",
      "            },\n",
      "            \"viewport\" : {\n",
      "               \"northeast\" : {\n",
      "                  \"lat\" : 40.8975439302915,\n",
      "                  \"lng\" : -73.84562751970849\n",
      "               },\n",
      "               \"southwest\" : {\n",
      "                  \"lat\" : 40.8948459697085,\n",
      "                  \"lng\" : -73.84832548029149\n",
      "               }\n",
      "            }\n",
      "         },\n",
      "         \"icon\" : \"https://maps.gstatic.com/mapfiles/place_api/icons/v1/png_71/bar-71.png\",\n",
      "         \"icon_background_color\" : \"#FF9E67\",\n",
      "         \"icon_mask_base_uri\" : \"https://maps.gstatic.com/mapfiles/place_api/icons/v2/bar_pinlet\",\n",
      "         \"name\" : \"The Nigerian Unique Club of New York\",\n",
      "         \"photos\" : [\n",
      "            {\n",
      "               \"height\" : 2448,\n",
      "               \"html_attributions\" : [\n",
      "                  \"\\u003ca href=\\\"https://maps.google.com/maps/contrib/107923804021596198486\\\"\\u003edaron\\u003c/a\\u003e\"\n",
      "               ],\n",
      "               \"photo_reference\" : \"Aap_uEApnsXvfvmEEzUVT5LyUuS-ZA7tW3IpjIYP1kSToVb9buZT9po5n8-CnDtifHx0Pwyhu3Ku2RGHF6ITZEVagzKpj4oiVrf0T6F_trl3DDGIizfimHto2Qn_qYUo7S2iaylDOlsPcunCmGe6-7A54c82LqASWq5eJ9MyPR0AI2AAdVAn\",\n",
      "               \"width\" : 3264\n",
      "            }\n",
      "         ],\n",
      "         \"place_id\" : \"ChIJM9zTMtTywokRkdqKQg5OHoc\",\n",
      "         \"plus_code\" : {\n",
      "            \"compound_code\" : \"V5W3+C6 New York, NY, USA\",\n",
      "            \"global_code\" : \"87G8V5W3+C6\"\n",
      "         },\n",
      "         \"rating\" : 3.7,\n",
      "         \"reference\" : \"ChIJM9zTMtTywokRkdqKQg5OHoc\",\n",
      "         \"scope\" : \"GOOGLE\",\n",
      "         \"types\" : [ \"night_club\", \"point_of_interest\", \"establishment\" ],\n",
      "         \"user_ratings_total\" : 3,\n",
      "         \"vicinity\" : \"1920 Pitman Avenue, Bronx\"\n",
      "      },\n",
      "      {\n",
      "         \"business_status\" : \"OPERATIONAL\",\n",
      "         \"geometry\" : {\n",
      "            \"location\" : {\n",
      "               \"lat\" : 40.89555120000001,\n",
      "               \"lng\" : -73.8482157\n",
      "            },\n",
      "            \"viewport\" : {\n",
      "               \"northeast\" : {\n",
      "                  \"lat\" : 40.89687238029151,\n",
      "                  \"lng\" : -73.84699321970849\n",
      "               },\n",
      "               \"southwest\" : {\n",
      "                  \"lat\" : 40.89417441970851,\n",
      "                  \"lng\" : -73.84969118029152\n",
      "               }\n",
      "            }\n",
      "         },\n",
      "         \"icon\" : \"https://maps.gstatic.com/mapfiles/place_api/icons/v1/png_71/generic_business-71.png\",\n",
      "         \"icon_background_color\" : \"#7B9EB0\",\n",
      "         \"icon_mask_base_uri\" : \"https://maps.gstatic.com/mapfiles/place_api/icons/v2/generic_pinlet\",\n",
      "         \"name\" : \"Shepherd ENG Heating Cooling & Refrigeration Inc\",\n",
      "         \"opening_hours\" : {\n",
      "            \"open_now\" : true\n",
      "         },\n",
      "         \"photos\" : [\n",
      "            {\n",
      "               \"height\" : 459,\n",
      "               \"html_attributions\" : [\n",
      "                  \"\\u003ca href=\\\"https://maps.google.com/maps/contrib/115474410177062449987\\\"\\u003eShepherd ENG Heating Cooling &amp; Refrigeration Inc\\u003c/a\\u003e\"\n",
      "               ],\n",
      "               \"photo_reference\" : \"Aap_uEACPWmMUt_r8IToDslVR9LZ7nwrqS3OOHNYlsR3U3rEt0hd3Laj58jv6JUS--WfbvngwYdTwSINkcTYkMIlW51LkWillF1Xt_MfBAs3hRUZUkJvx8UofPcYwA0XNHlVUoETiO5bth8_vCq58fudQ2TnWdCz8zG-ny0_rbWsAdk1cDiQ\",\n",
      "               \"width\" : 728\n",
      "            }\n",
      "         ],\n",
      "         \"place_id\" : \"ChIJq7mvcNbywokRe7aRcN_ZPgw\",\n",
      "         \"plus_code\" : {\n",
      "            \"compound_code\" : \"V5W2+6P New York, NY, USA\",\n",
      "            \"global_code\" : \"87G8V5W2+6P\"\n",
      "         },\n",
      "         \"rating\" : 4.1,\n",
      "         \"reference\" : \"ChIJq7mvcNbywokRe7aRcN_ZPgw\",\n",
      "         \"scope\" : \"GOOGLE\",\n",
      "         \"types\" : [\n",
      "            \"car_repair\",\n",
      "            \"general_contractor\",\n",
      "            \"point_of_interest\",\n",
      "            \"establishment\"\n",
      "         ],\n",
      "         \"user_ratings_total\" : 47,\n",
      "         \"vicinity\" : \"4230 Bruner Avenue, Bronx\"\n",
      "      },\n",
      "      {\n",
      "         \"business_status\" : \"OPERATIONAL\",\n",
      "         \"geometry\" : {\n",
      "            \"location\" : {\n",
      "               \"lat\" : 40.895254,\n",
      "               \"lng\" : -73.8486676\n",
      "            },\n",
      "            \"viewport\" : {\n",
      "               \"northeast\" : {\n",
      "                  \"lat\" : 40.8966315302915,\n",
      "                  \"lng\" : -73.84718366970849\n",
      "               },\n",
      "               \"southwest\" : {\n",
      "                  \"lat\" : 40.8939335697085,\n",
      "                  \"lng\" : -73.84988163029151\n",
      "               }\n",
      "            }\n",
      "         },\n",
      "         \"icon\" : \"https://maps.gstatic.com/mapfiles/place_api/icons/v1/png_71/generic_business-71.png\",\n",
      "         \"icon_background_color\" : \"#7B9EB0\",\n",
      "         \"icon_mask_base_uri\" : \"https://maps.gstatic.com/mapfiles/place_api/icons/v2/generic_pinlet\",\n",
      "         \"name\" : \"Ginseng Buzz NYC\",\n",
      "         \"place_id\" : \"ChIJ6dy3bdbywokRmRorxYvveX0\",\n",
      "         \"plus_code\" : {\n",
      "            \"compound_code\" : \"V5W2+4G Bronx, NY, USA\",\n",
      "            \"global_code\" : \"87G8V5W2+4G\"\n",
      "         },\n",
      "         \"rating\" : 4,\n",
      "         \"reference\" : \"ChIJ6dy3bdbywokRmRorxYvveX0\",\n",
      "         \"scope\" : \"GOOGLE\",\n",
      "         \"types\" : [ \"point_of_interest\", \"establishment\" ],\n",
      "         \"user_ratings_total\" : 1,\n",
      "         \"vicinity\" : \"4227 Bruner Avenue, Bronx\"\n",
      "      },\n",
      "      {\n",
      "         \"business_status\" : \"OPERATIONAL\",\n",
      "         \"geometry\" : {\n",
      "            \"location\" : {\n",
      "               \"lat\" : 40.89536289999999,\n",
      "               \"lng\" : -73.8458246\n",
      "            },\n",
      "            \"viewport\" : {\n",
      "               \"northeast\" : {\n",
      "                  \"lat\" : 40.8966215302915,\n",
      "                  \"lng\" : -73.84442796970849\n",
      "               },\n",
      "               \"southwest\" : {\n",
      "                  \"lat\" : 40.89392356970851,\n",
      "                  \"lng\" : -73.8471259302915\n",
      "               }\n",
      "            }\n",
      "         },\n",
      "         \"icon\" : \"https://maps.gstatic.com/mapfiles/place_api/icons/v1/png_71/school-71.png\",\n",
      "         \"icon_background_color\" : \"#7B9EB0\",\n",
      "         \"icon_mask_base_uri\" : \"https://maps.gstatic.com/mapfiles/place_api/icons/v2/school_pinlet\",\n",
      "         \"name\" : \"P.S. 087 Bronx\",\n",
      "         \"opening_hours\" : {\n",
      "            \"open_now\" : false\n",
      "         },\n",
      "         \"place_id\" : \"ChIJoWiy59XywokRE1hooBzzKUo\",\n",
      "         \"plus_code\" : {\n",
      "            \"compound_code\" : \"V5W3+4M New York, NY, USA\",\n",
      "            \"global_code\" : \"87G8V5W3+4M\"\n",
      "         },\n",
      "         \"rating\" : 4.8,\n",
      "         \"reference\" : \"ChIJoWiy59XywokRE1hooBzzKUo\",\n",
      "         \"scope\" : \"GOOGLE\",\n",
      "         \"types\" : [ \"primary_school\", \"school\", \"point_of_interest\", \"establishment\" ],\n",
      "         \"user_ratings_total\" : 9,\n",
      "         \"vicinity\" : \"1935 Bussing Avenue, Bronx\"\n",
      "      },\n",
      "      {\n",
      "         \"business_status\" : \"OPERATIONAL\",\n",
      "         \"geometry\" : {\n",
      "            \"location\" : {\n",
      "               \"lat\" : 40.8934847,\n",
      "               \"lng\" : -73.8455805\n",
      "            },\n",
      "            \"viewport\" : {\n",
      "               \"northeast\" : {\n",
      "                  \"lat\" : 40.89481153029149,\n",
      "                  \"lng\" : -73.84433366970848\n",
      "               },\n",
      "               \"southwest\" : {\n",
      "                  \"lat\" : 40.8921135697085,\n",
      "                  \"lng\" : -73.8470316302915\n",
      "               }\n",
      "            }\n",
      "         },\n",
      "         \"icon\" : \"https://maps.gstatic.com/mapfiles/place_api/icons/v1/png_71/generic_business-71.png\",\n",
      "         \"icon_background_color\" : \"#7B9EB0\",\n",
      "         \"icon_mask_base_uri\" : \"https://maps.gstatic.com/mapfiles/place_api/icons/v2/generic_pinlet\",\n",
      "         \"name\" : \"5 Star Capital Construction Company Inc\",\n",
      "         \"opening_hours\" : {\n",
      "            \"open_now\" : true\n",
      "         },\n",
      "         \"place_id\" : \"ChIJly7Kh9XywokR_E3Pzz37MgQ\",\n",
      "         \"plus_code\" : {\n",
      "            \"compound_code\" : \"V5V3+9Q Bronx, NY, USA\",\n",
      "            \"global_code\" : \"87G8V5V3+9Q\"\n",
      "         },\n",
      "         \"rating\" : 5,\n",
      "         \"reference\" : \"ChIJly7Kh9XywokR_E3Pzz37MgQ\",\n",
      "         \"scope\" : \"GOOGLE\",\n",
      "         \"types\" : [ \"general_contractor\", \"point_of_interest\", \"establishment\" ],\n",
      "         \"user_ratings_total\" : 2,\n",
      "         \"vicinity\" : \"4130 Grace Avenue, Bronx\"\n",
      "      },\n",
      "      {\n",
      "         \"business_status\" : \"OPERATIONAL\",\n",
      "         \"geometry\" : {\n",
      "            \"location\" : {\n",
      "               \"lat\" : 40.8964449,\n",
      "               \"lng\" : -73.8446574\n",
      "            },\n",
      "            \"viewport\" : {\n",
      "               \"northeast\" : {\n",
      "                  \"lat\" : 40.8977857302915,\n",
      "                  \"lng\" : -73.84345211970849\n",
      "               },\n",
      "               \"southwest\" : {\n",
      "                  \"lat\" : 40.8950877697085,\n",
      "                  \"lng\" : -73.84615008029151\n",
      "               }\n",
      "            }\n",
      "         },\n",
      "         \"icon\" : \"https://maps.gstatic.com/mapfiles/place_api/icons/v1/png_71/generic_business-71.png\",\n",
      "         \"icon_background_color\" : \"#7B9EB0\",\n",
      "         \"icon_mask_base_uri\" : \"https://maps.gstatic.com/mapfiles/place_api/icons/v2/generic_pinlet\",\n",
      "         \"name\" : \"Western Union\",\n",
      "         \"opening_hours\" : {\n",
      "            \"open_now\" : true\n",
      "         },\n",
      "         \"place_id\" : \"ChIJVxUA99TywokRZ3yzS4eYTtE\",\n",
      "         \"plus_code\" : {\n",
      "            \"compound_code\" : \"V5W4+H4 New York, NY, USA\",\n",
      "            \"global_code\" : \"87G8V5W4+H4\"\n",
      "         },\n",
      "         \"reference\" : \"ChIJVxUA99TywokRZ3yzS4eYTtE\",\n",
      "         \"scope\" : \"GOOGLE\",\n",
      "         \"types\" : [ \"finance\", \"point_of_interest\", \"establishment\" ],\n",
      "         \"vicinity\" : \"Walgreens, 4232 Baychester Avenue, Bronx\"\n",
      "      },\n",
      "      {\n",
      "         \"business_status\" : \"OPERATIONAL\",\n",
      "         \"geometry\" : {\n",
      "            \"location\" : {\n",
      "               \"lat\" : 40.8952329,\n",
      "               \"lng\" : -73.8508332\n",
      "            },\n",
      "            \"viewport\" : {\n",
      "               \"northeast\" : {\n",
      "                  \"lat\" : 40.8966760302915,\n",
      "                  \"lng\" : -73.84952041970848\n",
      "               },\n",
      "               \"southwest\" : {\n",
      "                  \"lat\" : 40.8939780697085,\n",
      "                  \"lng\" : -73.8522183802915\n",
      "               }\n",
      "            }\n",
      "         },\n",
      "         \"icon\" : \"https://maps.gstatic.com/mapfiles/place_api/icons/v1/png_71/worship_general-71.png\",\n",
      "         \"icon_background_color\" : \"#7B9EB0\",\n",
      "         \"icon_mask_base_uri\" : \"https://maps.gstatic.com/mapfiles/place_api/icons/v2/worship_christian_pinlet\",\n",
      "         \"name\" : \"The Gathering International Ministries\",\n",
      "         \"photos\" : [\n",
      "            {\n",
      "               \"height\" : 4032,\n",
      "               \"html_attributions\" : [\n",
      "                  \"\\u003ca href=\\\"https://maps.google.com/maps/contrib/115757759714690186230\\\"\\u003eSharon V\\u003c/a\\u003e\"\n",
      "               ],\n",
      "               \"photo_reference\" : \"Aap_uEB1z0ukrqiDEZvyWj-6zYpY2rIddIUCAfjoF9GhhFq3n9s-sye9QHq89pR5PRjoDHVuw0dujumJa9T8uLqHRcONbPOYERNzCzPbaKEygdHyyf-us7ZZS0vF-sF-rsbScvWXafRWqqKdQlyDh_MUb-4O2TqdBve2KfJUa8LvHWbzvpis\",\n",
      "               \"width\" : 3024\n",
      "            }\n",
      "         ],\n",
      "         \"place_id\" : \"ChIJZz7qytfywokReW6MgIkq_lI\",\n",
      "         \"plus_code\" : {\n",
      "            \"compound_code\" : \"V4WX+3M Bronx, NY, USA\",\n",
      "            \"global_code\" : \"87G8V4WX+3M\"\n",
      "         },\n",
      "         \"rating\" : 5,\n",
      "         \"reference\" : \"ChIJZz7qytfywokReW6MgIkq_lI\",\n",
      "         \"scope\" : \"GOOGLE\",\n",
      "         \"types\" : [ \"church\", \"place_of_worship\", \"point_of_interest\", \"establishment\" ],\n",
      "         \"user_ratings_total\" : 4,\n",
      "         \"vicinity\" : \"1758 Pitman Avenue, Bronx\"\n",
      "      },\n",
      "      {\n",
      "         \"business_status\" : \"OPERATIONAL\",\n",
      "         \"geometry\" : {\n",
      "            \"location\" : {\n",
      "               \"lat\" : 40.89506069999999,\n",
      "               \"lng\" : -73.8515252\n",
      "            },\n",
      "            \"viewport\" : {\n",
      "               \"northeast\" : {\n",
      "                  \"lat\" : 40.8965134302915,\n",
      "                  \"lng\" : -73.8502158197085\n",
      "               },\n",
      "               \"southwest\" : {\n",
      "                  \"lat\" : 40.8938154697085,\n",
      "                  \"lng\" : -73.8529137802915\n",
      "               }\n",
      "            }\n",
      "         },\n",
      "         \"icon\" : \"https://maps.gstatic.com/mapfiles/place_api/icons/v1/png_71/generic_business-71.png\",\n",
      "         \"icon_background_color\" : \"#7B9EB0\",\n",
      "         \"icon_mask_base_uri\" : \"https://maps.gstatic.com/mapfiles/place_api/icons/v2/generic_pinlet\",\n",
      "         \"name\" : \"Annco Consulting\",\n",
      "         \"opening_hours\" : {\n",
      "            \"open_now\" : true\n",
      "         },\n",
      "         \"place_id\" : \"ChIJESceyNnywokR-6lw9OpQWe0\",\n",
      "         \"plus_code\" : {\n",
      "            \"compound_code\" : \"V4WX+29 New York, NY, USA\",\n",
      "            \"global_code\" : \"87G8V4WX+29\"\n",
      "         },\n",
      "         \"rating\" : 3.5,\n",
      "         \"reference\" : \"ChIJESceyNnywokR-6lw9OpQWe0\",\n",
      "         \"scope\" : \"GOOGLE\",\n",
      "         \"types\" : [ \"accounting\", \"finance\", \"point_of_interest\", \"establishment\" ],\n",
      "         \"user_ratings_total\" : 2,\n",
      "         \"vicinity\" : \"1738 Pitman Avenue, Bronx\"\n",
      "      },\n",
      "      {\n",
      "         \"business_status\" : \"CLOSED_TEMPORARILY\",\n",
      "         \"geometry\" : {\n",
      "            \"location\" : {\n",
      "               \"lat\" : 40.894819,\n",
      "               \"lng\" : -73.8510974\n",
      "            },\n",
      "            \"viewport\" : {\n",
      "               \"northeast\" : {\n",
      "                  \"lat\" : 40.89615913029149,\n",
      "                  \"lng\" : -73.8497884197085\n",
      "               },\n",
      "               \"southwest\" : {\n",
      "                  \"lat\" : 40.89346116970849,\n",
      "                  \"lng\" : -73.85248638029151\n",
      "               }\n",
      "            }\n",
      "         },\n",
      "         \"icon\" : \"https://maps.gstatic.com/mapfiles/place_api/icons/v1/png_71/generic_business-71.png\",\n",
      "         \"icon_background_color\" : \"#7B9EB0\",\n",
      "         \"icon_mask_base_uri\" : \"https://maps.gstatic.com/mapfiles/place_api/icons/v2/generic_pinlet\",\n",
      "         \"name\" : \"BEAUTY TO ENJOY, LLC\",\n",
      "         \"permanently_closed\" : true,\n",
      "         \"photos\" : [\n",
      "            {\n",
      "               \"height\" : 720,\n",
      "               \"html_attributions\" : [\n",
      "                  \"\\u003ca href=\\\"https://maps.google.com/maps/contrib/104969125773343483154\\\"\\u003eBEAUTY TO ENJOY, LLC\\u003c/a\\u003e\"\n",
      "               ],\n",
      "               \"photo_reference\" : \"Aap_uED-I54lh_9S23RKw1kHhkWqFY4qy9v6BvfpjigNf1ZpwoyNqO8T7sRZFYU_VdZ7XRB9VdKhXkCqdJJjSFKoIa6Bdk-huTtS4JWmPmRH7-VPHtgl-64M4OWkslZVDPacUKg_BTEuFD9vn_CJ0_3VGLsf5ClT4ryzuC_osPjKGRpnI47C\",\n",
      "               \"width\" : 1080\n",
      "            }\n",
      "         ],\n",
      "         \"place_id\" : \"ChIJI3o7zinzwokR9WyrYRr4swo\",\n",
      "         \"plus_code\" : {\n",
      "            \"compound_code\" : \"V4VX+WH New York, NY, USA\",\n",
      "            \"global_code\" : \"87G8V4VX+WH\"\n",
      "         },\n",
      "         \"rating\" : 5,\n",
      "         \"reference\" : \"ChIJI3o7zinzwokR9WyrYRr4swo\",\n",
      "         \"scope\" : \"GOOGLE\",\n",
      "         \"types\" : [ \"food\", \"point_of_interest\", \"establishment\" ],\n",
      "         \"user_ratings_total\" : 5,\n",
      "         \"vicinity\" : \"Boyd Avenue, Bronx\"\n",
      "      },\n",
      "      {\n",
      "         \"business_status\" : \"OPERATIONAL\",\n",
      "         \"geometry\" : {\n",
      "            \"location\" : {\n",
      "               \"lat\" : 40.890884,\n",
      "               \"lng\" : -73.8469499\n",
      "            },\n",
      "            \"viewport\" : {\n",
      "               \"northeast\" : {\n",
      "                  \"lat\" : 40.8922329802915,\n",
      "                  \"lng\" : -73.8456009197085\n",
      "               },\n",
      "               \"southwest\" : {\n",
      "                  \"lat\" : 40.8895350197085,\n",
      "                  \"lng\" : -73.84829888029151\n",
      "               }\n",
      "            }\n",
      "         },\n",
      "         \"icon\" : \"https://maps.gstatic.com/mapfiles/place_api/icons/v1/png_71/school-71.png\",\n",
      "         \"icon_background_color\" : \"#7B9EB0\",\n",
      "         \"icon_mask_base_uri\" : \"https://maps.gstatic.com/mapfiles/place_api/icons/v2/school_pinlet\",\n",
      "         \"name\" : \"Rainbow Rhymes Learning Center\",\n",
      "         \"place_id\" : \"ChIJMf6QzSvzwokR-PKAp5f3Vhs\",\n",
      "         \"plus_code\" : {\n",
      "            \"compound_code\" : \"V5R3+96 Bronx, NY, USA\",\n",
      "            \"global_code\" : \"87G8V5R3+96\"\n",
      "         },\n",
      "         \"rating\" : 3.2,\n",
      "         \"reference\" : \"ChIJMf6QzSvzwokR-PKAp5f3Vhs\",\n",
      "         \"scope\" : \"GOOGLE\",\n",
      "         \"types\" : [ \"school\", \"point_of_interest\", \"establishment\" ],\n",
      "         \"user_ratings_total\" : 5,\n",
      "         \"vicinity\" : \"4041 Bruner Avenue, Bronx\"\n",
      "      },\n",
      "      {\n",
      "         \"business_status\" : \"OPERATIONAL\",\n",
      "         \"geometry\" : {\n",
      "            \"location\" : {\n",
      "               \"lat\" : 40.89258299999999,\n",
      "               \"lng\" : -73.843825\n",
      "            },\n",
      "            \"viewport\" : {\n",
      "               \"northeast\" : {\n",
      "                  \"lat\" : 40.8939599802915,\n",
      "                  \"lng\" : -73.84233826970851\n",
      "               },\n",
      "               \"southwest\" : {\n",
      "                  \"lat\" : 40.8912620197085,\n",
      "                  \"lng\" : -73.84503623029151\n",
      "               }\n",
      "            }\n",
      "         },\n",
      "         \"icon\" : \"https://maps.gstatic.com/mapfiles/place_api/icons/v1/png_71/generic_business-71.png\",\n",
      "         \"icon_background_color\" : \"#7B9EB0\",\n",
      "         \"icon_mask_base_uri\" : \"https://maps.gstatic.com/mapfiles/place_api/icons/v2/generic_pinlet\",\n",
      "         \"name\" : \"Johnson & Sons Painting and Decorating Company LLC\",\n",
      "         \"place_id\" : \"ChIJc-A4mirzwokRfMYk7xMnHq0\",\n",
      "         \"plus_code\" : {\n",
      "            \"compound_code\" : \"V5V4+2F Bronx, NY, USA\",\n",
      "            \"global_code\" : \"87G8V5V4+2F\"\n",
      "         },\n",
      "         \"reference\" : \"ChIJc-A4mirzwokRfMYk7xMnHq0\",\n",
      "         \"scope\" : \"GOOGLE\",\n",
      "         \"types\" : [ \"point_of_interest\", \"establishment\" ],\n",
      "         \"vicinity\" : \"4095 Baychester Avenue #2, Bronx\"\n",
      "      },\n",
      "      {\n",
      "         \"business_status\" : \"OPERATIONAL\",\n",
      "         \"geometry\" : {\n",
      "            \"location\" : {\n",
      "               \"lat\" : 40.8972092,\n",
      "               \"lng\" : -73.8436356\n",
      "            },\n",
      "            \"viewport\" : {\n",
      "               \"northeast\" : {\n",
      "                  \"lat\" : 40.89847298029149,\n",
      "                  \"lng\" : -73.84225086970848\n",
      "               },\n",
      "               \"southwest\" : {\n",
      "                  \"lat\" : 40.89577501970849,\n",
      "                  \"lng\" : -73.8449488302915\n",
      "               }\n",
      "            }\n",
      "         },\n",
      "         \"icon\" : \"https://maps.gstatic.com/mapfiles/place_api/icons/v1/png_71/worship_general-71.png\",\n",
      "         \"icon_background_color\" : \"#7B9EB0\",\n",
      "         \"icon_mask_base_uri\" : \"https://maps.gstatic.com/mapfiles/place_api/icons/v2/worship_christian_pinlet\",\n",
      "         \"name\" : \"Grace International Ministries, Inc.\",\n",
      "         \"opening_hours\" : {\n",
      "            \"open_now\" : false\n",
      "         },\n",
      "         \"photos\" : [\n",
      "            {\n",
      "               \"height\" : 833,\n",
      "               \"html_attributions\" : [\n",
      "                  \"\\u003ca href=\\\"https://maps.google.com/maps/contrib/116129479421496232395\\\"\\u003eGrace International Ministries, Inc.\\u003c/a\\u003e\"\n",
      "               ],\n",
      "               \"photo_reference\" : \"Aap_uEBpEPfpEjpnp4u9tZUhbMBywwM87ejcK3cpLPYB1yzpM9Xgq1k2kp0TBd5LsSGo7l_crM3Aeh-eL6bpxlWRQwWgfNNxPDBGI8Yb5hdxUdGyjSWE9nuOSt4Cdg08zgOkDZY5B_KXBUbYNr0PPmEuaMZ8X-zw4N9FBd6XDCRr2kcfRvK-\",\n",
      "               \"width\" : 940\n",
      "            }\n",
      "         ],\n",
      "         \"place_id\" : \"ChIJi7ScltTywokRcqEtPsmhrSs\",\n",
      "         \"plus_code\" : {\n",
      "            \"compound_code\" : \"V5W4+VG Bronx, NY, USA\",\n",
      "            \"global_code\" : \"87G8V5W4+VG\"\n",
      "         },\n",
      "         \"rating\" : 4.4,\n",
      "         \"reference\" : \"ChIJi7ScltTywokRcqEtPsmhrSs\",\n",
      "         \"scope\" : \"GOOGLE\",\n",
      "         \"types\" : [ \"church\", \"place_of_worship\", \"point_of_interest\", \"establishment\" ],\n",
      "         \"user_ratings_total\" : 5,\n",
      "         \"vicinity\" : \"2037 Pitman Avenue, Bronx\"\n",
      "      },\n",
      "      {\n",
      "         \"business_status\" : \"OPERATIONAL\",\n",
      "         \"geometry\" : {\n",
      "            \"location\" : {\n",
      "               \"lat\" : 40.89092339999999,\n",
      "               \"lng\" : -73.8489855\n",
      "            },\n",
      "            \"viewport\" : {\n",
      "               \"northeast\" : {\n",
      "                  \"lat\" : 40.8921910302915,\n",
      "                  \"lng\" : -73.8476820697085\n",
      "               },\n",
      "               \"southwest\" : {\n",
      "                  \"lat\" : 40.8894930697085,\n",
      "                  \"lng\" : -73.85038003029152\n",
      "               }\n",
      "            }\n",
      "         },\n",
      "         \"icon\" : \"https://maps.gstatic.com/mapfiles/place_api/icons/v1/png_71/generic_business-71.png\",\n",
      "         \"icon_background_color\" : \"#7B9EB0\",\n",
      "         \"icon_mask_base_uri\" : \"https://maps.gstatic.com/mapfiles/place_api/icons/v2/generic_pinlet\",\n",
      "         \"name\" : \"Enterprise Plumbing & Heating\",\n",
      "         \"opening_hours\" : {\n",
      "            \"open_now\" : true\n",
      "         },\n",
      "         \"place_id\" : \"ChIJRzFIr7_1wokR74o6H72ZN00\",\n",
      "         \"plus_code\" : {\n",
      "            \"compound_code\" : \"V5R2+9C Bronx, NY, USA\",\n",
      "            \"global_code\" : \"87G8V5R2+9C\"\n",
      "         },\n",
      "         \"rating\" : 3.7,\n",
      "         \"reference\" : \"ChIJRzFIr7_1wokR74o6H72ZN00\",\n",
      "         \"scope\" : \"GOOGLE\",\n",
      "         \"types\" : [ \"plumber\", \"general_contractor\", \"point_of_interest\", \"establishment\" ],\n",
      "         \"user_ratings_total\" : 3,\n",
      "         \"vicinity\" : \"981 East 233rd Street, Bronx\"\n",
      "      },\n",
      "      {\n",
      "         \"geometry\" : {\n",
      "            \"location\" : {\n",
      "               \"lat\" : 40.8732894,\n",
      "               \"lng\" : -73.85362429999999\n",
      "            },\n",
      "            \"viewport\" : {\n",
      "               \"northeast\" : {\n",
      "                  \"lat\" : 40.91010913972858,\n",
      "                  \"lng\" : -73.78980185901848\n",
      "               },\n",
      "               \"southwest\" : {\n",
      "                  \"lat\" : 40.80418006765638,\n",
      "                  \"lng\" : -73.8845049511652\n",
      "               }\n",
      "            }\n",
      "         },\n",
      "         \"icon\" : \"https://maps.gstatic.com/mapfiles/place_api/icons/v1/png_71/geocode-71.png\",\n",
      "         \"icon_background_color\" : \"#7B9EB0\",\n",
      "         \"icon_mask_base_uri\" : \"https://maps.gstatic.com/mapfiles/place_api/icons/v2/generic_pinlet\",\n",
      "         \"name\" : \"East Bronx\",\n",
      "         \"photos\" : [\n",
      "            {\n",
      "               \"height\" : 1908,\n",
      "               \"html_attributions\" : [\n",
      "                  \"\\u003ca href=\\\"https://maps.google.com/maps/contrib/114620958313254847108\\\"\\u003eCharles Cordova\\u003c/a\\u003e\"\n",
      "               ],\n",
      "               \"photo_reference\" : \"Aap_uEBpmgKo4r0Dau4rh_EBnGWiQ06dfA7XHx_RSKo6BY7USmt0W7Q_GXCUDFuFgJhib9hOpxCEUeuf-W4Im2NLS7aS-_xz3kGrHNQ2GYJBpqCCjyqqVFTlx0kOYqwL6ttb_ZLynkkcLtVlhxzLhS4e3i6jL9noNp1_qKL5uE4q63smma4a\",\n",
      "               \"width\" : 4032\n",
      "            }\n",
      "         ],\n",
      "         \"place_id\" : \"ChIJiXob8quMwokROuos2t-9Lp0\",\n",
      "         \"reference\" : \"ChIJiXob8quMwokROuos2t-9Lp0\",\n",
      "         \"scope\" : \"GOOGLE\",\n",
      "         \"types\" : [ \"neighborhood\", \"political\" ],\n",
      "         \"vicinity\" : \"Bronx\"\n",
      "      }\n",
      "   ],\n",
      "   \"status\" : \"OK\"\n",
      "}\n",
      "\n"
     ]
    }
   ],
   "source": [
    "response = re.request(\"GET\", goourl, headers=headers, data=payload)\n",
    "\n",
    "print(response.status_code)"
   ]
  },
  {
   "cell_type": "code",
   "execution_count": 36,
   "metadata": {},
   "outputs": [],
   "source": [
    "goo_result = response.json()"
   ]
  },
  {
   "cell_type": "code",
   "execution_count": 51,
   "metadata": {},
   "outputs": [
    {
     "data": {
      "application/json": [
       {
        "geometry": {
         "location": {
          "lat": 40.7127753,
          "lng": -74.0059728
         },
         "viewport": {
          "northeast": {
           "lat": 40.91757705070789,
           "lng": -73.70027206817629
          },
          "southwest": {
           "lat": 40.47739906045452,
           "lng": -74.25908991427882
          }
         }
        },
        "icon": "https://maps.gstatic.com/mapfiles/place_api/icons/v1/png_71/geocode-71.png",
        "icon_background_color": "#7B9EB0",
        "icon_mask_base_uri": "https://maps.gstatic.com/mapfiles/place_api/icons/v2/generic_pinlet",
        "name": "New York",
        "photos": [
         {
          "height": 2268,
          "html_attributions": [
           "<a href=\"https://maps.google.com/maps/contrib/111914514424945579938\">Nikhil Awasthi</a>"
          ],
          "photo_reference": "Aap_uEDyrkLEbr15KFfN6gkZ-DEfYJn1ziAtbw-BtJjYXenURqGzEDaZyzxhIBjDmyfBPT-UIwVkNyoXiqu_t7LKtfelhyYib5jkXit8BJ5z3lZ3UMbI4PvDuVWE-7EUuh20albmtV6c-k5GYHEQKhddUr0ASNOfoyqqKroN_sn2yqGpdZ8T",
          "width": 4032
         }
        ],
        "place_id": "ChIJOwg_06VPwokRYv534QaPC8g",
        "reference": "ChIJOwg_06VPwokRYv534QaPC8g",
        "scope": "GOOGLE",
        "types": [
         "locality",
         "political"
        ],
        "vicinity": "New York"
       },
       {
        "business_status": "OPERATIONAL",
        "geometry": {
         "location": {
          "lat": 40.89664899999999,
          "lng": -73.8448461
         },
         "viewport": {
          "northeast": {
           "lat": 40.89788513029149,
           "lng": -73.8435350197085
          },
          "southwest": {
           "lat": 40.8951871697085,
           "lng": -73.8462329802915
          }
         }
        },
        "icon": "https://maps.gstatic.com/mapfiles/place_api/icons/v1/png_71/generic_business-71.png",
        "icon_background_color": "#4B96F3",
        "icon_mask_base_uri": "https://maps.gstatic.com/mapfiles/place_api/icons/v2/generic_pinlet",
        "name": "Walgreens",
        "opening_hours": {
         "open_now": true
        },
        "photos": [
         {
          "height": 3024,
          "html_attributions": [
           "<a href=\"https://maps.google.com/maps/contrib/106885093725842393551\">miguel bisono</a>"
          ],
          "photo_reference": "Aap_uEBog9qJSagaBRQNaWEozzWpx8z1pn2LEQwe9MtfnPTG0wP4Uow3D8wqIAMLeX-94su9oB8ugLrbRXE--g7TvEvM4xL-hXTpx39l07JzntE05xuJlgc4KOFd9zY6vBsBN6oScDbOMq98PTfNu_kerLYq3aN1FUil5uX3I3AwBgBVCAI",
          "width": 4032
         }
        ],
        "place_id": "ChIJR-vd99TywokRoymAoVkEKI0",
        "plus_code": {
         "compound_code": "V5W4+M3 New York, NY, USA",
         "global_code": "87G8V5W4+M3"
        },
        "price_level": 2,
        "rating": 2.6,
        "reference": "ChIJR-vd99TywokRoymAoVkEKI0",
        "scope": "GOOGLE",
        "types": [
         "drugstore",
         "convenience_store",
         "food",
         "health",
         "point_of_interest",
         "clothing_store",
         "store",
         "establishment"
        ],
        "user_ratings_total": 68,
        "vicinity": "4232 Baychester Avenue, Bronx"
       },
       {
        "business_status": "OPERATIONAL",
        "geometry": {
         "location": {
          "lat": 40.891485,
          "lng": -73.84436099999999
         },
         "viewport": {
          "northeast": {
           "lat": 40.89288473029149,
           "lng": -73.84288881970849
          },
          "southwest": {
           "lat": 40.89018676970849,
           "lng": -73.8455867802915
          }
         }
        },
        "icon": "https://maps.gstatic.com/mapfiles/place_api/icons/v1/png_71/school-71.png",
        "icon_background_color": "#7B9EB0",
        "icon_mask_base_uri": "https://maps.gstatic.com/mapfiles/place_api/icons/v2/school_pinlet",
        "name": "Little Stars Preschool",
        "opening_hours": {
         "open_now": true
        },
        "photos": [
         {
          "height": 480,
          "html_attributions": [
           "<a href=\"https://maps.google.com/maps/contrib/112550518969654090693\">Little Stars Preschool</a>"
          ],
          "photo_reference": "Aap_uEAehSM1VkZt8ptcMSqxK5J2Nd47jE0w6xM_vDhwEYGt8JziBxCQzgGjt3LHinZHtZsDF2ft8fRpHrW3dpjpp6TuNe7iVsqPTKj9kXsKedBfsun8dEgqzho0y9iaPZPOOhL9vyliYGQfnWykCAAvDUjATUs03kvuFbCTEk2X5WYMVKca",
          "width": 640
         }
        ],
        "place_id": "ChIJ3egd8SrzwokRUwff4Ccy86M",
        "plus_code": {
         "compound_code": "V5R4+H7 Bronx, NY, USA",
         "global_code": "87G8V5R4+H7"
        },
        "rating": 4.8,
        "reference": "ChIJ3egd8SrzwokRUwff4Ccy86M",
        "scope": "GOOGLE",
        "types": [
         "school",
         "point_of_interest",
         "clothing_store",
         "store",
         "establishment"
        ],
        "user_ratings_total": 68,
        "vicinity": "4063 Edson Avenue, Bronx"
       },
       {
        "business_status": "OPERATIONAL",
        "geometry": {
         "location": {
          "lat": 40.8975208,
          "lng": -73.84803529999999
         },
         "viewport": {
          "northeast": {
           "lat": 40.8988445802915,
           "lng": -73.84680156970849
          },
          "southwest": {
           "lat": 40.8961466197085,
           "lng": -73.84949953029151
          }
         }
        },
        "icon": "https://maps.gstatic.com/mapfiles/place_api/icons/v1/png_71/generic_business-71.png",
        "icon_background_color": "#7B9EB0",
        "icon_mask_base_uri": "https://maps.gstatic.com/mapfiles/place_api/icons/v2/generic_pinlet",
        "name": "Amada Chair Rental & Event Planning",
        "opening_hours": {
         "open_now": false
        },
        "place_id": "ChIJRdVMoNbywokRct0ycq8BiYA",
        "plus_code": {
         "compound_code": "V5X2+2Q New York, NY, USA",
         "global_code": "87G8V5X2+2Q"
        },
        "rating": 4,
        "reference": "ChIJRdVMoNbywokRct0ycq8BiYA",
        "scope": "GOOGLE",
        "types": [
         "food",
         "point_of_interest",
         "establishment"
        ],
        "user_ratings_total": 1,
        "vicinity": "4346 Ely Avenue, Bronx"
       },
       {
        "business_status": "OPERATIONAL",
        "geometry": {
         "location": {
          "lat": 40.89311099999999,
          "lng": -73.84879699999999
         },
         "viewport": {
          "northeast": {
           "lat": 40.89448893029149,
           "lng": -73.8473154197085
          },
          "southwest": {
           "lat": 40.8917909697085,
           "lng": -73.8500133802915
          }
         }
        },
        "icon": "https://maps.gstatic.com/mapfiles/place_api/icons/v1/png_71/generic_business-71.png",
        "icon_background_color": "#7B9EB0",
        "icon_mask_base_uri": "https://maps.gstatic.com/mapfiles/place_api/icons/v2/generic_pinlet",
        "name": "Heslop Pauline B MD",
        "place_id": "ChIJnWMV7ynzwokRqi7uH3N8NbU",
        "plus_code": {
         "compound_code": "V5V2+6F New York, NY, USA",
         "global_code": "87G8V5V2+6F"
        },
        "reference": "ChIJnWMV7ynzwokRqi7uH3N8NbU",
        "scope": "GOOGLE",
        "types": [
         "doctor",
         "health",
         "point_of_interest",
         "establishment"
        ],
        "vicinity": "4139 Wickham Avenue, Bronx"
       },
       {
        "business_status": "OPERATIONAL",
        "geometry": {
         "location": {
          "lat": 40.8933506,
          "lng": -73.84458270000002
         },
         "viewport": {
          "northeast": {
           "lat": 40.8946784802915,
           "lng": -73.8433301697085
          },
          "southwest": {
           "lat": 40.8919805197085,
           "lng": -73.8460281302915
          }
         }
        },
        "icon": "https://maps.gstatic.com/mapfiles/place_api/icons/v1/png_71/school-71.png",
        "icon_background_color": "#7B9EB0",
        "icon_mask_base_uri": "https://maps.gstatic.com/mapfiles/place_api/icons/v2/school_pinlet",
        "name": "Fresh Start Group Daycare LLC",
        "place_id": "ChIJuRDVfdXywokRBUUSJz8PGp4",
        "plus_code": {
         "compound_code": "V5V4+85 New York, NY, USA",
         "global_code": "87G8V5V4+85"
        },
        "reference": "ChIJuRDVfdXywokRBUUSJz8PGp4",
        "scope": "GOOGLE",
        "types": [
         "school",
         "point_of_interest",
         "establishment"
        ],
        "vicinity": "4116 Edson Avenue, Bronx"
       },
       {
        "business_status": "OPERATIONAL",
        "geometry": {
         "location": {
          "lat": 40.8961111,
          "lng": -73.8469444
         },
         "viewport": {
          "northeast": {
           "lat": 40.8975439302915,
           "lng": -73.84562751970849
          },
          "southwest": {
           "lat": 40.8948459697085,
           "lng": -73.84832548029149
          }
         }
        },
        "icon": "https://maps.gstatic.com/mapfiles/place_api/icons/v1/png_71/bar-71.png",
        "icon_background_color": "#FF9E67",
        "icon_mask_base_uri": "https://maps.gstatic.com/mapfiles/place_api/icons/v2/bar_pinlet",
        "name": "The Nigerian Unique Club of New York",
        "photos": [
         {
          "height": 2448,
          "html_attributions": [
           "<a href=\"https://maps.google.com/maps/contrib/107923804021596198486\">daron</a>"
          ],
          "photo_reference": "Aap_uEApnsXvfvmEEzUVT5LyUuS-ZA7tW3IpjIYP1kSToVb9buZT9po5n8-CnDtifHx0Pwyhu3Ku2RGHF6ITZEVagzKpj4oiVrf0T6F_trl3DDGIizfimHto2Qn_qYUo7S2iaylDOlsPcunCmGe6-7A54c82LqASWq5eJ9MyPR0AI2AAdVAn",
          "width": 3264
         }
        ],
        "place_id": "ChIJM9zTMtTywokRkdqKQg5OHoc",
        "plus_code": {
         "compound_code": "V5W3+C6 New York, NY, USA",
         "global_code": "87G8V5W3+C6"
        },
        "rating": 3.7,
        "reference": "ChIJM9zTMtTywokRkdqKQg5OHoc",
        "scope": "GOOGLE",
        "types": [
         "night_club",
         "point_of_interest",
         "establishment"
        ],
        "user_ratings_total": 3,
        "vicinity": "1920 Pitman Avenue, Bronx"
       },
       {
        "business_status": "OPERATIONAL",
        "geometry": {
         "location": {
          "lat": 40.89555120000001,
          "lng": -73.8482157
         },
         "viewport": {
          "northeast": {
           "lat": 40.89687238029151,
           "lng": -73.8469932197085
          },
          "southwest": {
           "lat": 40.89417441970851,
           "lng": -73.84969118029152
          }
         }
        },
        "icon": "https://maps.gstatic.com/mapfiles/place_api/icons/v1/png_71/generic_business-71.png",
        "icon_background_color": "#7B9EB0",
        "icon_mask_base_uri": "https://maps.gstatic.com/mapfiles/place_api/icons/v2/generic_pinlet",
        "name": "Shepherd ENG Heating Cooling & Refrigeration Inc",
        "opening_hours": {
         "open_now": true
        },
        "photos": [
         {
          "height": 459,
          "html_attributions": [
           "<a href=\"https://maps.google.com/maps/contrib/115474410177062449987\">Shepherd ENG Heating Cooling &amp; Refrigeration Inc</a>"
          ],
          "photo_reference": "Aap_uEACPWmMUt_r8IToDslVR9LZ7nwrqS3OOHNYlsR3U3rEt0hd3Laj58jv6JUS--WfbvngwYdTwSINkcTYkMIlW51LkWillF1Xt_MfBAs3hRUZUkJvx8UofPcYwA0XNHlVUoETiO5bth8_vCq58fudQ2TnWdCz8zG-ny0_rbWsAdk1cDiQ",
          "width": 728
         }
        ],
        "place_id": "ChIJq7mvcNbywokRe7aRcN_ZPgw",
        "plus_code": {
         "compound_code": "V5W2+6P New York, NY, USA",
         "global_code": "87G8V5W2+6P"
        },
        "rating": 4.1,
        "reference": "ChIJq7mvcNbywokRe7aRcN_ZPgw",
        "scope": "GOOGLE",
        "types": [
         "car_repair",
         "general_contractor",
         "point_of_interest",
         "establishment"
        ],
        "user_ratings_total": 47,
        "vicinity": "4230 Bruner Avenue, Bronx"
       },
       {
        "business_status": "OPERATIONAL",
        "geometry": {
         "location": {
          "lat": 40.895254,
          "lng": -73.8486676
         },
         "viewport": {
          "northeast": {
           "lat": 40.8966315302915,
           "lng": -73.84718366970849
          },
          "southwest": {
           "lat": 40.8939335697085,
           "lng": -73.8498816302915
          }
         }
        },
        "icon": "https://maps.gstatic.com/mapfiles/place_api/icons/v1/png_71/generic_business-71.png",
        "icon_background_color": "#7B9EB0",
        "icon_mask_base_uri": "https://maps.gstatic.com/mapfiles/place_api/icons/v2/generic_pinlet",
        "name": "Ginseng Buzz NYC",
        "place_id": "ChIJ6dy3bdbywokRmRorxYvveX0",
        "plus_code": {
         "compound_code": "V5W2+4G Bronx, NY, USA",
         "global_code": "87G8V5W2+4G"
        },
        "rating": 4,
        "reference": "ChIJ6dy3bdbywokRmRorxYvveX0",
        "scope": "GOOGLE",
        "types": [
         "point_of_interest",
         "establishment"
        ],
        "user_ratings_total": 1,
        "vicinity": "4227 Bruner Avenue, Bronx"
       },
       {
        "business_status": "OPERATIONAL",
        "geometry": {
         "location": {
          "lat": 40.89536289999999,
          "lng": -73.8458246
         },
         "viewport": {
          "northeast": {
           "lat": 40.8966215302915,
           "lng": -73.84442796970849
          },
          "southwest": {
           "lat": 40.89392356970851,
           "lng": -73.8471259302915
          }
         }
        },
        "icon": "https://maps.gstatic.com/mapfiles/place_api/icons/v1/png_71/school-71.png",
        "icon_background_color": "#7B9EB0",
        "icon_mask_base_uri": "https://maps.gstatic.com/mapfiles/place_api/icons/v2/school_pinlet",
        "name": "P.S. 087 Bronx",
        "opening_hours": {
         "open_now": false
        },
        "place_id": "ChIJoWiy59XywokRE1hooBzzKUo",
        "plus_code": {
         "compound_code": "V5W3+4M New York, NY, USA",
         "global_code": "87G8V5W3+4M"
        },
        "rating": 4.8,
        "reference": "ChIJoWiy59XywokRE1hooBzzKUo",
        "scope": "GOOGLE",
        "types": [
         "primary_school",
         "school",
         "point_of_interest",
         "establishment"
        ],
        "user_ratings_total": 9,
        "vicinity": "1935 Bussing Avenue, Bronx"
       },
       {
        "business_status": "OPERATIONAL",
        "geometry": {
         "location": {
          "lat": 40.8934847,
          "lng": -73.8455805
         },
         "viewport": {
          "northeast": {
           "lat": 40.89481153029149,
           "lng": -73.84433366970848
          },
          "southwest": {
           "lat": 40.8921135697085,
           "lng": -73.8470316302915
          }
         }
        },
        "icon": "https://maps.gstatic.com/mapfiles/place_api/icons/v1/png_71/generic_business-71.png",
        "icon_background_color": "#7B9EB0",
        "icon_mask_base_uri": "https://maps.gstatic.com/mapfiles/place_api/icons/v2/generic_pinlet",
        "name": "5 Star Capital Construction Company Inc",
        "opening_hours": {
         "open_now": true
        },
        "place_id": "ChIJly7Kh9XywokR_E3Pzz37MgQ",
        "plus_code": {
         "compound_code": "V5V3+9Q Bronx, NY, USA",
         "global_code": "87G8V5V3+9Q"
        },
        "rating": 5,
        "reference": "ChIJly7Kh9XywokR_E3Pzz37MgQ",
        "scope": "GOOGLE",
        "types": [
         "general_contractor",
         "point_of_interest",
         "establishment"
        ],
        "user_ratings_total": 2,
        "vicinity": "4130 Grace Avenue, Bronx"
       },
       {
        "business_status": "OPERATIONAL",
        "geometry": {
         "location": {
          "lat": 40.8964449,
          "lng": -73.8446574
         },
         "viewport": {
          "northeast": {
           "lat": 40.8977857302915,
           "lng": -73.84345211970849
          },
          "southwest": {
           "lat": 40.8950877697085,
           "lng": -73.84615008029151
          }
         }
        },
        "icon": "https://maps.gstatic.com/mapfiles/place_api/icons/v1/png_71/generic_business-71.png",
        "icon_background_color": "#7B9EB0",
        "icon_mask_base_uri": "https://maps.gstatic.com/mapfiles/place_api/icons/v2/generic_pinlet",
        "name": "Western Union",
        "opening_hours": {
         "open_now": true
        },
        "place_id": "ChIJVxUA99TywokRZ3yzS4eYTtE",
        "plus_code": {
         "compound_code": "V5W4+H4 New York, NY, USA",
         "global_code": "87G8V5W4+H4"
        },
        "reference": "ChIJVxUA99TywokRZ3yzS4eYTtE",
        "scope": "GOOGLE",
        "types": [
         "finance",
         "point_of_interest",
         "establishment"
        ],
        "vicinity": "Walgreens, 4232 Baychester Avenue, Bronx"
       },
       {
        "business_status": "OPERATIONAL",
        "geometry": {
         "location": {
          "lat": 40.8952329,
          "lng": -73.8508332
         },
         "viewport": {
          "northeast": {
           "lat": 40.8966760302915,
           "lng": -73.84952041970848
          },
          "southwest": {
           "lat": 40.8939780697085,
           "lng": -73.8522183802915
          }
         }
        },
        "icon": "https://maps.gstatic.com/mapfiles/place_api/icons/v1/png_71/worship_general-71.png",
        "icon_background_color": "#7B9EB0",
        "icon_mask_base_uri": "https://maps.gstatic.com/mapfiles/place_api/icons/v2/worship_christian_pinlet",
        "name": "The Gathering International Ministries",
        "photos": [
         {
          "height": 4032,
          "html_attributions": [
           "<a href=\"https://maps.google.com/maps/contrib/115757759714690186230\">Sharon V</a>"
          ],
          "photo_reference": "Aap_uEB1z0ukrqiDEZvyWj-6zYpY2rIddIUCAfjoF9GhhFq3n9s-sye9QHq89pR5PRjoDHVuw0dujumJa9T8uLqHRcONbPOYERNzCzPbaKEygdHyyf-us7ZZS0vF-sF-rsbScvWXafRWqqKdQlyDh_MUb-4O2TqdBve2KfJUa8LvHWbzvpis",
          "width": 3024
         }
        ],
        "place_id": "ChIJZz7qytfywokReW6MgIkq_lI",
        "plus_code": {
         "compound_code": "V4WX+3M Bronx, NY, USA",
         "global_code": "87G8V4WX+3M"
        },
        "rating": 5,
        "reference": "ChIJZz7qytfywokReW6MgIkq_lI",
        "scope": "GOOGLE",
        "types": [
         "church",
         "place_of_worship",
         "point_of_interest",
         "establishment"
        ],
        "user_ratings_total": 4,
        "vicinity": "1758 Pitman Avenue, Bronx"
       },
       {
        "business_status": "OPERATIONAL",
        "geometry": {
         "location": {
          "lat": 40.89506069999999,
          "lng": -73.8515252
         },
         "viewport": {
          "northeast": {
           "lat": 40.8965134302915,
           "lng": -73.8502158197085
          },
          "southwest": {
           "lat": 40.8938154697085,
           "lng": -73.8529137802915
          }
         }
        },
        "icon": "https://maps.gstatic.com/mapfiles/place_api/icons/v1/png_71/generic_business-71.png",
        "icon_background_color": "#7B9EB0",
        "icon_mask_base_uri": "https://maps.gstatic.com/mapfiles/place_api/icons/v2/generic_pinlet",
        "name": "Annco Consulting",
        "opening_hours": {
         "open_now": true
        },
        "place_id": "ChIJESceyNnywokR-6lw9OpQWe0",
        "plus_code": {
         "compound_code": "V4WX+29 New York, NY, USA",
         "global_code": "87G8V4WX+29"
        },
        "rating": 3.5,
        "reference": "ChIJESceyNnywokR-6lw9OpQWe0",
        "scope": "GOOGLE",
        "types": [
         "accounting",
         "finance",
         "point_of_interest",
         "establishment"
        ],
        "user_ratings_total": 2,
        "vicinity": "1738 Pitman Avenue, Bronx"
       },
       {
        "business_status": "CLOSED_TEMPORARILY",
        "geometry": {
         "location": {
          "lat": 40.894819,
          "lng": -73.8510974
         },
         "viewport": {
          "northeast": {
           "lat": 40.89615913029149,
           "lng": -73.8497884197085
          },
          "southwest": {
           "lat": 40.89346116970849,
           "lng": -73.85248638029151
          }
         }
        },
        "icon": "https://maps.gstatic.com/mapfiles/place_api/icons/v1/png_71/generic_business-71.png",
        "icon_background_color": "#7B9EB0",
        "icon_mask_base_uri": "https://maps.gstatic.com/mapfiles/place_api/icons/v2/generic_pinlet",
        "name": "BEAUTY TO ENJOY, LLC",
        "permanently_closed": true,
        "photos": [
         {
          "height": 720,
          "html_attributions": [
           "<a href=\"https://maps.google.com/maps/contrib/104969125773343483154\">BEAUTY TO ENJOY, LLC</a>"
          ],
          "photo_reference": "Aap_uED-I54lh_9S23RKw1kHhkWqFY4qy9v6BvfpjigNf1ZpwoyNqO8T7sRZFYU_VdZ7XRB9VdKhXkCqdJJjSFKoIa6Bdk-huTtS4JWmPmRH7-VPHtgl-64M4OWkslZVDPacUKg_BTEuFD9vn_CJ0_3VGLsf5ClT4ryzuC_osPjKGRpnI47C",
          "width": 1080
         }
        ],
        "place_id": "ChIJI3o7zinzwokR9WyrYRr4swo",
        "plus_code": {
         "compound_code": "V4VX+WH New York, NY, USA",
         "global_code": "87G8V4VX+WH"
        },
        "rating": 5,
        "reference": "ChIJI3o7zinzwokR9WyrYRr4swo",
        "scope": "GOOGLE",
        "types": [
         "food",
         "point_of_interest",
         "establishment"
        ],
        "user_ratings_total": 5,
        "vicinity": "Boyd Avenue, Bronx"
       },
       {
        "business_status": "OPERATIONAL",
        "geometry": {
         "location": {
          "lat": 40.890884,
          "lng": -73.8469499
         },
         "viewport": {
          "northeast": {
           "lat": 40.8922329802915,
           "lng": -73.8456009197085
          },
          "southwest": {
           "lat": 40.8895350197085,
           "lng": -73.84829888029151
          }
         }
        },
        "icon": "https://maps.gstatic.com/mapfiles/place_api/icons/v1/png_71/school-71.png",
        "icon_background_color": "#7B9EB0",
        "icon_mask_base_uri": "https://maps.gstatic.com/mapfiles/place_api/icons/v2/school_pinlet",
        "name": "Rainbow Rhymes Learning Center",
        "place_id": "ChIJMf6QzSvzwokR-PKAp5f3Vhs",
        "plus_code": {
         "compound_code": "V5R3+96 Bronx, NY, USA",
         "global_code": "87G8V5R3+96"
        },
        "rating": 3.2,
        "reference": "ChIJMf6QzSvzwokR-PKAp5f3Vhs",
        "scope": "GOOGLE",
        "types": [
         "school",
         "point_of_interest",
         "establishment"
        ],
        "user_ratings_total": 5,
        "vicinity": "4041 Bruner Avenue, Bronx"
       },
       {
        "business_status": "OPERATIONAL",
        "geometry": {
         "location": {
          "lat": 40.89258299999999,
          "lng": -73.843825
         },
         "viewport": {
          "northeast": {
           "lat": 40.8939599802915,
           "lng": -73.8423382697085
          },
          "southwest": {
           "lat": 40.8912620197085,
           "lng": -73.84503623029151
          }
         }
        },
        "icon": "https://maps.gstatic.com/mapfiles/place_api/icons/v1/png_71/generic_business-71.png",
        "icon_background_color": "#7B9EB0",
        "icon_mask_base_uri": "https://maps.gstatic.com/mapfiles/place_api/icons/v2/generic_pinlet",
        "name": "Johnson & Sons Painting and Decorating Company LLC",
        "place_id": "ChIJc-A4mirzwokRfMYk7xMnHq0",
        "plus_code": {
         "compound_code": "V5V4+2F Bronx, NY, USA",
         "global_code": "87G8V5V4+2F"
        },
        "reference": "ChIJc-A4mirzwokRfMYk7xMnHq0",
        "scope": "GOOGLE",
        "types": [
         "point_of_interest",
         "establishment"
        ],
        "vicinity": "4095 Baychester Avenue #2, Bronx"
       },
       {
        "business_status": "OPERATIONAL",
        "geometry": {
         "location": {
          "lat": 40.8972092,
          "lng": -73.8436356
         },
         "viewport": {
          "northeast": {
           "lat": 40.89847298029149,
           "lng": -73.84225086970848
          },
          "southwest": {
           "lat": 40.89577501970849,
           "lng": -73.8449488302915
          }
         }
        },
        "icon": "https://maps.gstatic.com/mapfiles/place_api/icons/v1/png_71/worship_general-71.png",
        "icon_background_color": "#7B9EB0",
        "icon_mask_base_uri": "https://maps.gstatic.com/mapfiles/place_api/icons/v2/worship_christian_pinlet",
        "name": "Grace International Ministries, Inc.",
        "opening_hours": {
         "open_now": false
        },
        "photos": [
         {
          "height": 833,
          "html_attributions": [
           "<a href=\"https://maps.google.com/maps/contrib/116129479421496232395\">Grace International Ministries, Inc.</a>"
          ],
          "photo_reference": "Aap_uEBpEPfpEjpnp4u9tZUhbMBywwM87ejcK3cpLPYB1yzpM9Xgq1k2kp0TBd5LsSGo7l_crM3Aeh-eL6bpxlWRQwWgfNNxPDBGI8Yb5hdxUdGyjSWE9nuOSt4Cdg08zgOkDZY5B_KXBUbYNr0PPmEuaMZ8X-zw4N9FBd6XDCRr2kcfRvK-",
          "width": 940
         }
        ],
        "place_id": "ChIJi7ScltTywokRcqEtPsmhrSs",
        "plus_code": {
         "compound_code": "V5W4+VG Bronx, NY, USA",
         "global_code": "87G8V5W4+VG"
        },
        "rating": 4.4,
        "reference": "ChIJi7ScltTywokRcqEtPsmhrSs",
        "scope": "GOOGLE",
        "types": [
         "church",
         "place_of_worship",
         "point_of_interest",
         "establishment"
        ],
        "user_ratings_total": 5,
        "vicinity": "2037 Pitman Avenue, Bronx"
       },
       {
        "business_status": "OPERATIONAL",
        "geometry": {
         "location": {
          "lat": 40.89092339999999,
          "lng": -73.8489855
         },
         "viewport": {
          "northeast": {
           "lat": 40.8921910302915,
           "lng": -73.8476820697085
          },
          "southwest": {
           "lat": 40.8894930697085,
           "lng": -73.85038003029152
          }
         }
        },
        "icon": "https://maps.gstatic.com/mapfiles/place_api/icons/v1/png_71/generic_business-71.png",
        "icon_background_color": "#7B9EB0",
        "icon_mask_base_uri": "https://maps.gstatic.com/mapfiles/place_api/icons/v2/generic_pinlet",
        "name": "Enterprise Plumbing & Heating",
        "opening_hours": {
         "open_now": true
        },
        "place_id": "ChIJRzFIr7_1wokR74o6H72ZN00",
        "plus_code": {
         "compound_code": "V5R2+9C Bronx, NY, USA",
         "global_code": "87G8V5R2+9C"
        },
        "rating": 3.7,
        "reference": "ChIJRzFIr7_1wokR74o6H72ZN00",
        "scope": "GOOGLE",
        "types": [
         "plumber",
         "general_contractor",
         "point_of_interest",
         "establishment"
        ],
        "user_ratings_total": 3,
        "vicinity": "981 East 233rd Street, Bronx"
       },
       {
        "geometry": {
         "location": {
          "lat": 40.8732894,
          "lng": -73.85362429999999
         },
         "viewport": {
          "northeast": {
           "lat": 40.91010913972858,
           "lng": -73.78980185901848
          },
          "southwest": {
           "lat": 40.80418006765638,
           "lng": -73.8845049511652
          }
         }
        },
        "icon": "https://maps.gstatic.com/mapfiles/place_api/icons/v1/png_71/geocode-71.png",
        "icon_background_color": "#7B9EB0",
        "icon_mask_base_uri": "https://maps.gstatic.com/mapfiles/place_api/icons/v2/generic_pinlet",
        "name": "East Bronx",
        "photos": [
         {
          "height": 1908,
          "html_attributions": [
           "<a href=\"https://maps.google.com/maps/contrib/114620958313254847108\">Charles Cordova</a>"
          ],
          "photo_reference": "Aap_uEBpmgKo4r0Dau4rh_EBnGWiQ06dfA7XHx_RSKo6BY7USmt0W7Q_GXCUDFuFgJhib9hOpxCEUeuf-W4Im2NLS7aS-_xz3kGrHNQ2GYJBpqCCjyqqVFTlx0kOYqwL6ttb_ZLynkkcLtVlhxzLhS4e3i6jL9noNp1_qKL5uE4q63smma4a",
          "width": 4032
         }
        ],
        "place_id": "ChIJiXob8quMwokROuos2t-9Lp0",
        "reference": "ChIJiXob8quMwokROuos2t-9Lp0",
        "scope": "GOOGLE",
        "types": [
         "neighborhood",
         "political"
        ],
        "vicinity": "Bronx"
       }
      ],
      "text/plain": [
       "<IPython.core.display.JSON object>"
      ]
     },
     "execution_count": 51,
     "metadata": {
      "application/json": {
       "expanded": false,
       "root": "root"
      }
     },
     "output_type": "execute_result"
    }
   ],
   "source": [
    "JSON(goo_result['results'])"
   ]
  },
  {
   "cell_type": "markdown",
   "metadata": {},
   "source": [
    "### HOUSING PRICES DATA"
   ]
  },
  {
   "cell_type": "code",
   "execution_count": 566,
   "metadata": {},
   "outputs": [],
   "source": [
    "#get housing prices data\n",
    "febexcel = pd.read_excel('nyc_housing_prices_feb_2021.xlsx')\n",
    "julcsv = pd.read_csv('nyc_housing_prices_jul_2020.csv')"
   ]
  },
  {
   "cell_type": "code",
   "execution_count": 567,
   "metadata": {},
   "outputs": [],
   "source": [
    "#working on these columns a lot\n",
    "process_cols = ['studio', '1_bedroom', '2_bedroom']"
   ]
  },
  {
   "cell_type": "code",
   "execution_count": 568,
   "metadata": {},
   "outputs": [],
   "source": [
    "#remove commas and dollar signs so we can count mean\n",
    "for i in process_cols:\n",
    "    febexcel[i] = febexcel[i].str.replace(',', '')\n",
    "    febexcel[i] = febexcel[i].str.replace('$', '')\n",
    "\n",
    "for i in julcsv.columns[2:6]:\n",
    "    julcsv[i] = julcsv[i].str.replace(',', '')\n",
    "    julcsv[i] = julcsv[i].str.replace('$', '')"
   ]
  },
  {
   "cell_type": "code",
   "execution_count": 569,
   "metadata": {},
   "outputs": [],
   "source": [
    "#realign excel table data because it is not aligned in the end (check febexcel.tail())\n",
    "#take it all apart first. im sure theres a more elegant way\n",
    "febexcelstud = febexcel[['neighborhood','studio']].copy()\n",
    "febexcelonebd = febexcel[['neighborhood.1','1_bedroom']].copy()\n",
    "febexcelonebd.rename(columns={\"neighborhood.1\":\"neighborhood\"}, inplace=True)\n",
    "febexceltwobd = febexcel[['neighborhood.2', '2_bedroom']].copy()\n",
    "febexceltwobd.rename(columns={\"neighborhood.2\":\"neighborhood\"}, inplace=True)"
   ]
  },
  {
   "cell_type": "code",
   "execution_count": 570,
   "metadata": {},
   "outputs": [],
   "source": [
    "#drop null values from datasets, otherwise merge will give too many results\n",
    "febexcelstud.dropna(subset=['studio'], inplace=True)\n",
    "febexcelonebd.dropna(subset=['1_bedroom'], inplace=True)\n",
    "febexceltwobd.dropna(subset=['2_bedroom'], inplace=True)"
   ]
  },
  {
   "cell_type": "code",
   "execution_count": 571,
   "metadata": {},
   "outputs": [],
   "source": [
    "#make existing values floats\n",
    "febexcelstud['studio'] = febexcelstud['studio'].astype(float)\n",
    "febexcelonebd['1_bedroom'] = febexcelonebd['1_bedroom'].astype(float)\n",
    "febexceltwobd['2_bedroom'] = febexceltwobd['2_bedroom'].astype(float)"
   ]
  },
  {
   "cell_type": "code",
   "execution_count": 572,
   "metadata": {},
   "outputs": [],
   "source": [
    "#merge separated tables on neighborhood\n",
    "#merge on right because the second and third columns had more values\n",
    "feb_merged_one = pd.merge(febexcelstud, febexcelonebd, how='right', on='neighborhood')\n",
    "feb_merged = pd.merge(feb_merged_one, febexceltwobd, how='right', on='neighborhood')"
   ]
  },
  {
   "cell_type": "code",
   "execution_count": 573,
   "metadata": {},
   "outputs": [],
   "source": [
    "#fill nans with column mean\n",
    "for i in process_cols:\n",
    "    feb_merged[i].fillna((feb_merged[i].mean()), inplace=True)"
   ]
  },
  {
   "cell_type": "code",
   "execution_count": 574,
   "metadata": {},
   "outputs": [],
   "source": [
    "#make new column called mean based on the other values\n",
    "feb_merged['mean'] = feb_merged.mean(axis=1)"
   ]
  },
  {
   "cell_type": "code",
   "execution_count": 575,
   "metadata": {},
   "outputs": [
    {
     "data": {
      "text/html": [
       "<div>\n",
       "<style scoped>\n",
       "    .dataframe tbody tr th:only-of-type {\n",
       "        vertical-align: middle;\n",
       "    }\n",
       "\n",
       "    .dataframe tbody tr th {\n",
       "        vertical-align: top;\n",
       "    }\n",
       "\n",
       "    .dataframe thead th {\n",
       "        text-align: right;\n",
       "    }\n",
       "</style>\n",
       "<table border=\"1\" class=\"dataframe\">\n",
       "  <thead>\n",
       "    <tr style=\"text-align: right;\">\n",
       "      <th></th>\n",
       "      <th>neighborhood</th>\n",
       "      <th>studio</th>\n",
       "      <th>1_bedroom</th>\n",
       "      <th>2_bedroom</th>\n",
       "      <th>mean</th>\n",
       "    </tr>\n",
       "  </thead>\n",
       "  <tbody>\n",
       "    <tr>\n",
       "      <th>0</th>\n",
       "      <td>Upper West Side</td>\n",
       "      <td>1975.0</td>\n",
       "      <td>2750.0</td>\n",
       "      <td>4350.0</td>\n",
       "      <td>3025.000000</td>\n",
       "    </tr>\n",
       "    <tr>\n",
       "      <th>1</th>\n",
       "      <td>Bedford-Stuyvesant</td>\n",
       "      <td>1650.0</td>\n",
       "      <td>1975.0</td>\n",
       "      <td>2200.0</td>\n",
       "      <td>1941.666667</td>\n",
       "    </tr>\n",
       "    <tr>\n",
       "      <th>2</th>\n",
       "      <td>Bushwick</td>\n",
       "      <td>1731.0</td>\n",
       "      <td>2150.0</td>\n",
       "      <td>2100.0</td>\n",
       "      <td>1993.666667</td>\n",
       "    </tr>\n",
       "    <tr>\n",
       "      <th>3</th>\n",
       "      <td>Upper East Side</td>\n",
       "      <td>1898.0</td>\n",
       "      <td>2395.0</td>\n",
       "      <td>3295.0</td>\n",
       "      <td>2529.333333</td>\n",
       "    </tr>\n",
       "    <tr>\n",
       "      <th>4</th>\n",
       "      <td>Williamsburg</td>\n",
       "      <td>2491.0</td>\n",
       "      <td>2500.0</td>\n",
       "      <td>2584.0</td>\n",
       "      <td>2525.000000</td>\n",
       "    </tr>\n",
       "  </tbody>\n",
       "</table>\n",
       "</div>"
      ],
      "text/plain": [
       "         neighborhood  studio  1_bedroom  2_bedroom         mean\n",
       "0     Upper West Side  1975.0     2750.0     4350.0  3025.000000\n",
       "1  Bedford-Stuyvesant  1650.0     1975.0     2200.0  1941.666667\n",
       "2            Bushwick  1731.0     2150.0     2100.0  1993.666667\n",
       "3     Upper East Side  1898.0     2395.0     3295.0  2529.333333\n",
       "4        Williamsburg  2491.0     2500.0     2584.0  2525.000000"
      ]
     },
     "execution_count": 575,
     "metadata": {},
     "output_type": "execute_result"
    }
   ],
   "source": [
    "feb_merged.head()"
   ]
  },
  {
   "cell_type": "code",
   "execution_count": 576,
   "metadata": {},
   "outputs": [],
   "source": [
    "#GREAT SUCCESS! save to file just in case\n",
    "feb_merged.to_excel('worked_feb.xlsx')"
   ]
  },
  {
   "cell_type": "code",
   "execution_count": 577,
   "metadata": {},
   "outputs": [],
   "source": [
    "#on to the july 2021 dataset\n",
    "#spelling error in column name\n",
    "julcsv.rename(columns={\"neigborhood\":\"neighborhood\"}, inplace=True)"
   ]
  },
  {
   "cell_type": "code",
   "execution_count": 578,
   "metadata": {},
   "outputs": [],
   "source": [
    "#drop borough and 3_bedroom because we dont have that info in the prev dataset\n",
    "julcsv.drop(columns=['borough', '3_bedroom'], inplace=True)"
   ]
  },
  {
   "cell_type": "code",
   "execution_count": 579,
   "metadata": {},
   "outputs": [],
   "source": [
    "# naughty red hook is missing a val\n",
    "julcsv.at[50, 'studio'] = 0"
   ]
  },
  {
   "cell_type": "code",
   "execution_count": 580,
   "metadata": {},
   "outputs": [],
   "source": [
    "#make those values float\n",
    "for i in process_cols:\n",
    "    julcsv[i] = julcsv[i].astype(float)"
   ]
  },
  {
   "cell_type": "code",
   "execution_count": 581,
   "metadata": {},
   "outputs": [],
   "source": [
    "#red hook again\n",
    "julcsv.at[50, 'studio'] = julcsv['studio'].mean()"
   ]
  },
  {
   "cell_type": "code",
   "execution_count": 582,
   "metadata": {},
   "outputs": [],
   "source": [
    "#get mean for this dataset as well\n",
    "julcsv['mean'] = julcsv.mean(axis=1)"
   ]
  },
  {
   "cell_type": "code",
   "execution_count": 583,
   "metadata": {},
   "outputs": [],
   "source": [
    "#save\n",
    "julcsv.to_excel('worked_july.xlsx')"
   ]
  },
  {
   "cell_type": "code",
   "execution_count": 584,
   "metadata": {
    "tags": []
   },
   "outputs": [],
   "source": [
    "prices = pd.merge(feb_merged, julcsv, how='outer', on='neighborhood')"
   ]
  },
  {
   "cell_type": "code",
   "execution_count": 585,
   "metadata": {},
   "outputs": [],
   "source": [
    "pd.set_option('display.max_rows', prices.shape[0]+1)"
   ]
  },
  {
   "cell_type": "code",
   "execution_count": 588,
   "metadata": {},
   "outputs": [
    {
     "ename": "AttributeError",
     "evalue": "'NoneType' object has no attribute 'reset_index'",
     "output_type": "error",
     "traceback": [
      "\u001b[0;31m---------------------------------------------------------------------------\u001b[0m",
      "\u001b[0;31mAttributeError\u001b[0m                            Traceback (most recent call last)",
      "\u001b[0;32m/tmp/ipykernel_86655/2410914000.py\u001b[0m in \u001b[0;36m<module>\u001b[0;34m\u001b[0m\n\u001b[0;32m----> 1\u001b[0;31m \u001b[0mprices\u001b[0m\u001b[0;34m.\u001b[0m\u001b[0msort_values\u001b[0m\u001b[0;34m(\u001b[0m\u001b[0mby\u001b[0m\u001b[0;34m=\u001b[0m\u001b[0;34m[\u001b[0m\u001b[0;34m'neighborhood'\u001b[0m\u001b[0;34m]\u001b[0m\u001b[0;34m,\u001b[0m \u001b[0minplace\u001b[0m\u001b[0;34m=\u001b[0m\u001b[0;32mTrue\u001b[0m\u001b[0;34m)\u001b[0m\u001b[0;34m.\u001b[0m\u001b[0mreset_index\u001b[0m\u001b[0;34m\u001b[0m\u001b[0;34m\u001b[0m\u001b[0m\n\u001b[0m",
      "\u001b[0;31mAttributeError\u001b[0m: 'NoneType' object has no attribute 'reset_index'"
     ]
    }
   ],
   "source": [
    "\n",
    "prices.sort_values(by=['neighborhood'], inplace=True)"
   ]
  },
  {
   "cell_type": "code",
   "execution_count": 592,
   "metadata": {},
   "outputs": [],
   "source": [
    "prices.reset_index(drop=True, inplace=True)\n"
   ]
  },
  {
   "cell_type": "code",
   "execution_count": 599,
   "metadata": {},
   "outputs": [
    {
     "data": {
      "text/html": [
       "<div>\n",
       "<style scoped>\n",
       "    .dataframe tbody tr th:only-of-type {\n",
       "        vertical-align: middle;\n",
       "    }\n",
       "\n",
       "    .dataframe tbody tr th {\n",
       "        vertical-align: top;\n",
       "    }\n",
       "\n",
       "    .dataframe thead th {\n",
       "        text-align: right;\n",
       "    }\n",
       "</style>\n",
       "<table border=\"1\" class=\"dataframe\">\n",
       "  <thead>\n",
       "    <tr style=\"text-align: right;\">\n",
       "      <th></th>\n",
       "      <th>neighborhood</th>\n",
       "      <th>studio_x</th>\n",
       "      <th>1_bedroom_x</th>\n",
       "      <th>2_bedroom_x</th>\n",
       "      <th>mean_x</th>\n",
       "      <th>studio_y</th>\n",
       "      <th>1_bedroom_y</th>\n",
       "      <th>2_bedroom_y</th>\n",
       "      <th>mean_y</th>\n",
       "    </tr>\n",
       "  </thead>\n",
       "  <tbody>\n",
       "    <tr>\n",
       "      <th>0</th>\n",
       "      <td>Allerton</td>\n",
       "      <td>1450.000000</td>\n",
       "      <td>1625.000000</td>\n",
       "      <td>1800.0</td>\n",
       "      <td>1625.000000</td>\n",
       "      <td>NaN</td>\n",
       "      <td>NaN</td>\n",
       "      <td>NaN</td>\n",
       "      <td>NaN</td>\n",
       "    </tr>\n",
       "    <tr>\n",
       "      <th>1</th>\n",
       "      <td>Arden Heights</td>\n",
       "      <td>2019.386861</td>\n",
       "      <td>2028.437158</td>\n",
       "      <td>2250.0</td>\n",
       "      <td>2099.274673</td>\n",
       "      <td>NaN</td>\n",
       "      <td>NaN</td>\n",
       "      <td>NaN</td>\n",
       "      <td>NaN</td>\n",
       "    </tr>\n",
       "    <tr>\n",
       "      <th>2</th>\n",
       "      <td>Astoria</td>\n",
       "      <td>1575.000000</td>\n",
       "      <td>1875.000000</td>\n",
       "      <td>2200.0</td>\n",
       "      <td>1883.333333</td>\n",
       "      <td>NaN</td>\n",
       "      <td>NaN</td>\n",
       "      <td>NaN</td>\n",
       "      <td>NaN</td>\n",
       "    </tr>\n",
       "    <tr>\n",
       "      <th>3</th>\n",
       "      <td>Auburndale</td>\n",
       "      <td>1795.000000</td>\n",
       "      <td>1780.000000</td>\n",
       "      <td>2175.0</td>\n",
       "      <td>1916.666667</td>\n",
       "      <td>NaN</td>\n",
       "      <td>NaN</td>\n",
       "      <td>NaN</td>\n",
       "      <td>NaN</td>\n",
       "    </tr>\n",
       "    <tr>\n",
       "      <th>4</th>\n",
       "      <td>Bath Beach</td>\n",
       "      <td>3000.000000</td>\n",
       "      <td>1575.000000</td>\n",
       "      <td>1825.0</td>\n",
       "      <td>2133.333333</td>\n",
       "      <td>NaN</td>\n",
       "      <td>NaN</td>\n",
       "      <td>NaN</td>\n",
       "      <td>NaN</td>\n",
       "    </tr>\n",
       "    <tr>\n",
       "      <th>5</th>\n",
       "      <td>Battery Park City</td>\n",
       "      <td>2200.000000</td>\n",
       "      <td>2733.000000</td>\n",
       "      <td>4431.0</td>\n",
       "      <td>3121.333333</td>\n",
       "      <td>2823.0</td>\n",
       "      <td>3573.0</td>\n",
       "      <td>6859.0</td>\n",
       "      <td>4418.333333</td>\n",
       "    </tr>\n",
       "    <tr>\n",
       "      <th>6</th>\n",
       "      <td>Bay Ridge</td>\n",
       "      <td>2038.000000</td>\n",
       "      <td>1750.000000</td>\n",
       "      <td>2109.0</td>\n",
       "      <td>1965.666667</td>\n",
       "      <td>NaN</td>\n",
       "      <td>NaN</td>\n",
       "      <td>NaN</td>\n",
       "      <td>NaN</td>\n",
       "    </tr>\n",
       "    <tr>\n",
       "      <th>7</th>\n",
       "      <td>Bayside</td>\n",
       "      <td>1850.000000</td>\n",
       "      <td>1850.000000</td>\n",
       "      <td>2300.0</td>\n",
       "      <td>2000.000000</td>\n",
       "      <td>NaN</td>\n",
       "      <td>NaN</td>\n",
       "      <td>NaN</td>\n",
       "      <td>NaN</td>\n",
       "    </tr>\n",
       "    <tr>\n",
       "      <th>8</th>\n",
       "      <td>Bedford Park</td>\n",
       "      <td>1413.000000</td>\n",
       "      <td>1525.000000</td>\n",
       "      <td>2100.0</td>\n",
       "      <td>1679.333333</td>\n",
       "      <td>NaN</td>\n",
       "      <td>NaN</td>\n",
       "      <td>NaN</td>\n",
       "      <td>NaN</td>\n",
       "    </tr>\n",
       "    <tr>\n",
       "      <th>9</th>\n",
       "      <td>Bedford-Stuyvesant</td>\n",
       "      <td>1650.000000</td>\n",
       "      <td>1975.000000</td>\n",
       "      <td>2200.0</td>\n",
       "      <td>1941.666667</td>\n",
       "      <td>2044.0</td>\n",
       "      <td>2297.0</td>\n",
       "      <td>2611.0</td>\n",
       "      <td>2317.333333</td>\n",
       "    </tr>\n",
       "    <tr>\n",
       "      <th>10</th>\n",
       "      <td>Beekman/Sutton Place</td>\n",
       "      <td>NaN</td>\n",
       "      <td>NaN</td>\n",
       "      <td>NaN</td>\n",
       "      <td>NaN</td>\n",
       "      <td>2676.0</td>\n",
       "      <td>3622.0</td>\n",
       "      <td>5217.0</td>\n",
       "      <td>3838.333333</td>\n",
       "    </tr>\n",
       "    <tr>\n",
       "      <th>11</th>\n",
       "      <td>Bellerose</td>\n",
       "      <td>2019.386861</td>\n",
       "      <td>1750.000000</td>\n",
       "      <td>2200.0</td>\n",
       "      <td>1989.795620</td>\n",
       "      <td>NaN</td>\n",
       "      <td>NaN</td>\n",
       "      <td>NaN</td>\n",
       "      <td>NaN</td>\n",
       "    </tr>\n",
       "    <tr>\n",
       "      <th>12</th>\n",
       "      <td>Belmont</td>\n",
       "      <td>2019.386861</td>\n",
       "      <td>1650.000000</td>\n",
       "      <td>1856.0</td>\n",
       "      <td>1841.795620</td>\n",
       "      <td>NaN</td>\n",
       "      <td>NaN</td>\n",
       "      <td>NaN</td>\n",
       "      <td>NaN</td>\n",
       "    </tr>\n",
       "    <tr>\n",
       "      <th>13</th>\n",
       "      <td>Bensonhurst</td>\n",
       "      <td>4200.000000</td>\n",
       "      <td>1500.000000</td>\n",
       "      <td>1795.0</td>\n",
       "      <td>2498.333333</td>\n",
       "      <td>NaN</td>\n",
       "      <td>NaN</td>\n",
       "      <td>NaN</td>\n",
       "      <td>NaN</td>\n",
       "    </tr>\n",
       "    <tr>\n",
       "      <th>14</th>\n",
       "      <td>Bergen Beach</td>\n",
       "      <td>2019.386861</td>\n",
       "      <td>1500.000000</td>\n",
       "      <td>1900.0</td>\n",
       "      <td>1806.462287</td>\n",
       "      <td>NaN</td>\n",
       "      <td>NaN</td>\n",
       "      <td>NaN</td>\n",
       "      <td>NaN</td>\n",
       "    </tr>\n",
       "    <tr>\n",
       "      <th>15</th>\n",
       "      <td>Blissville</td>\n",
       "      <td>2019.386861</td>\n",
       "      <td>1600.000000</td>\n",
       "      <td>2000.0</td>\n",
       "      <td>1873.128954</td>\n",
       "      <td>NaN</td>\n",
       "      <td>NaN</td>\n",
       "      <td>NaN</td>\n",
       "      <td>NaN</td>\n",
       "    </tr>\n",
       "    <tr>\n",
       "      <th>16</th>\n",
       "      <td>Boerum Hill</td>\n",
       "      <td>2446.000000</td>\n",
       "      <td>2300.000000</td>\n",
       "      <td>2750.0</td>\n",
       "      <td>2498.666667</td>\n",
       "      <td>2092.0</td>\n",
       "      <td>2854.0</td>\n",
       "      <td>4356.0</td>\n",
       "      <td>3100.666667</td>\n",
       "    </tr>\n",
       "    <tr>\n",
       "      <th>17</th>\n",
       "      <td>Borough Park</td>\n",
       "      <td>1599.000000</td>\n",
       "      <td>1700.000000</td>\n",
       "      <td>1873.0</td>\n",
       "      <td>1724.000000</td>\n",
       "      <td>NaN</td>\n",
       "      <td>NaN</td>\n",
       "      <td>NaN</td>\n",
       "      <td>NaN</td>\n",
       "    </tr>\n",
       "    <tr>\n",
       "      <th>18</th>\n",
       "      <td>Bowery</td>\n",
       "      <td>2500.000000</td>\n",
       "      <td>2999.000000</td>\n",
       "      <td>2850.0</td>\n",
       "      <td>2783.000000</td>\n",
       "      <td>NaN</td>\n",
       "      <td>NaN</td>\n",
       "      <td>NaN</td>\n",
       "      <td>NaN</td>\n",
       "    </tr>\n",
       "    <tr>\n",
       "      <th>19</th>\n",
       "      <td>Briarwood</td>\n",
       "      <td>1438.000000</td>\n",
       "      <td>1700.000000</td>\n",
       "      <td>2050.0</td>\n",
       "      <td>1729.333333</td>\n",
       "      <td>NaN</td>\n",
       "      <td>NaN</td>\n",
       "      <td>NaN</td>\n",
       "      <td>NaN</td>\n",
       "    </tr>\n",
       "  </tbody>\n",
       "</table>\n",
       "</div>"
      ],
      "text/plain": [
       "            neighborhood     studio_x  1_bedroom_x  2_bedroom_x       mean_x  \\\n",
       "0               Allerton  1450.000000  1625.000000       1800.0  1625.000000   \n",
       "1          Arden Heights  2019.386861  2028.437158       2250.0  2099.274673   \n",
       "2                Astoria  1575.000000  1875.000000       2200.0  1883.333333   \n",
       "3             Auburndale  1795.000000  1780.000000       2175.0  1916.666667   \n",
       "4             Bath Beach  3000.000000  1575.000000       1825.0  2133.333333   \n",
       "5      Battery Park City  2200.000000  2733.000000       4431.0  3121.333333   \n",
       "6              Bay Ridge  2038.000000  1750.000000       2109.0  1965.666667   \n",
       "7                Bayside  1850.000000  1850.000000       2300.0  2000.000000   \n",
       "8           Bedford Park  1413.000000  1525.000000       2100.0  1679.333333   \n",
       "9     Bedford-Stuyvesant  1650.000000  1975.000000       2200.0  1941.666667   \n",
       "10  Beekman/Sutton Place          NaN          NaN          NaN          NaN   \n",
       "11             Bellerose  2019.386861  1750.000000       2200.0  1989.795620   \n",
       "12               Belmont  2019.386861  1650.000000       1856.0  1841.795620   \n",
       "13           Bensonhurst  4200.000000  1500.000000       1795.0  2498.333333   \n",
       "14          Bergen Beach  2019.386861  1500.000000       1900.0  1806.462287   \n",
       "15            Blissville  2019.386861  1600.000000       2000.0  1873.128954   \n",
       "16           Boerum Hill  2446.000000  2300.000000       2750.0  2498.666667   \n",
       "17          Borough Park  1599.000000  1700.000000       1873.0  1724.000000   \n",
       "18                Bowery  2500.000000  2999.000000       2850.0  2783.000000   \n",
       "19             Briarwood  1438.000000  1700.000000       2050.0  1729.333333   \n",
       "\n",
       "    studio_y  1_bedroom_y  2_bedroom_y       mean_y  \n",
       "0        NaN          NaN          NaN          NaN  \n",
       "1        NaN          NaN          NaN          NaN  \n",
       "2        NaN          NaN          NaN          NaN  \n",
       "3        NaN          NaN          NaN          NaN  \n",
       "4        NaN          NaN          NaN          NaN  \n",
       "5     2823.0       3573.0       6859.0  4418.333333  \n",
       "6        NaN          NaN          NaN          NaN  \n",
       "7        NaN          NaN          NaN          NaN  \n",
       "8        NaN          NaN          NaN          NaN  \n",
       "9     2044.0       2297.0       2611.0  2317.333333  \n",
       "10    2676.0       3622.0       5217.0  3838.333333  \n",
       "11       NaN          NaN          NaN          NaN  \n",
       "12       NaN          NaN          NaN          NaN  \n",
       "13       NaN          NaN          NaN          NaN  \n",
       "14       NaN          NaN          NaN          NaN  \n",
       "15       NaN          NaN          NaN          NaN  \n",
       "16    2092.0       2854.0       4356.0  3100.666667  \n",
       "17       NaN          NaN          NaN          NaN  \n",
       "18       NaN          NaN          NaN          NaN  \n",
       "19       NaN          NaN          NaN          NaN  "
      ]
     },
     "execution_count": 599,
     "metadata": {},
     "output_type": "execute_result"
    }
   ],
   "source": []
  },
  {
   "cell_type": "code",
   "execution_count": 600,
   "metadata": {},
   "outputs": [],
   "source": [
    "#if left dataset has nan, take it from the right dataset\n",
    "for i in range(len(prices)):\n",
    "    if (prices.at[i, 'studio_x'] != prices.at[i, 'studio_x']):\n",
    "             prices.at[i, 'mean_x'] = prices.at[i, 'mean_y']"
   ]
  },
  {
   "cell_type": "code",
   "execution_count": 602,
   "metadata": {},
   "outputs": [],
   "source": [
    "prices.drop(columns=['studio_x', '1_bedroom_x', '2_bedroom_x', 'studio_y', '1_bedroom_y', '2_bedroom_y', 'mean_y'], inplace=True)"
   ]
  },
  {
   "cell_type": "code",
   "execution_count": 603,
   "metadata": {},
   "outputs": [
    {
     "data": {
      "text/html": [
       "<div>\n",
       "<style scoped>\n",
       "    .dataframe tbody tr th:only-of-type {\n",
       "        vertical-align: middle;\n",
       "    }\n",
       "\n",
       "    .dataframe tbody tr th {\n",
       "        vertical-align: top;\n",
       "    }\n",
       "\n",
       "    .dataframe thead th {\n",
       "        text-align: right;\n",
       "    }\n",
       "</style>\n",
       "<table border=\"1\" class=\"dataframe\">\n",
       "  <thead>\n",
       "    <tr style=\"text-align: right;\">\n",
       "      <th></th>\n",
       "      <th>neighborhood</th>\n",
       "      <th>mean_x</th>\n",
       "    </tr>\n",
       "  </thead>\n",
       "  <tbody>\n",
       "    <tr>\n",
       "      <th>0</th>\n",
       "      <td>Allerton</td>\n",
       "      <td>1625.000000</td>\n",
       "    </tr>\n",
       "    <tr>\n",
       "      <th>1</th>\n",
       "      <td>Arden Heights</td>\n",
       "      <td>2099.274673</td>\n",
       "    </tr>\n",
       "    <tr>\n",
       "      <th>2</th>\n",
       "      <td>Astoria</td>\n",
       "      <td>1883.333333</td>\n",
       "    </tr>\n",
       "    <tr>\n",
       "      <th>3</th>\n",
       "      <td>Auburndale</td>\n",
       "      <td>1916.666667</td>\n",
       "    </tr>\n",
       "    <tr>\n",
       "      <th>4</th>\n",
       "      <td>Bath Beach</td>\n",
       "      <td>2133.333333</td>\n",
       "    </tr>\n",
       "  </tbody>\n",
       "</table>\n",
       "</div>"
      ],
      "text/plain": [
       "    neighborhood       mean_x\n",
       "0       Allerton  1625.000000\n",
       "1  Arden Heights  2099.274673\n",
       "2        Astoria  1883.333333\n",
       "3     Auburndale  1916.666667\n",
       "4     Bath Beach  2133.333333"
      ]
     },
     "execution_count": 603,
     "metadata": {},
     "output_type": "execute_result"
    }
   ],
   "source": [
    "prices.head()"
   ]
  },
  {
   "cell_type": "code",
   "execution_count": 604,
   "metadata": {},
   "outputs": [],
   "source": [
    "prices.to_excel('housing_means.xlsx')"
   ]
  },
  {
   "cell_type": "markdown",
   "metadata": {},
   "source": [
    "### Task\n",
    "\n",
    "Visualize the neigborhoods in the graph."
   ]
  },
  {
   "cell_type": "code",
   "execution_count": null,
   "metadata": {},
   "outputs": [],
   "source": []
  },
  {
   "cell_type": "code",
   "execution_count": null,
   "metadata": {},
   "outputs": [],
   "source": []
  },
  {
   "cell_type": "code",
   "execution_count": null,
   "metadata": {},
   "outputs": [],
   "source": []
  },
  {
   "cell_type": "code",
   "execution_count": null,
   "metadata": {},
   "outputs": [],
   "source": []
  }
 ],
 "metadata": {
  "kernelspec": {
   "display_name": "Python 3 (ipykernel)",
   "language": "python",
   "name": "python3"
  },
  "language_info": {
   "codemirror_mode": {
    "name": "ipython",
    "version": 3
   },
   "file_extension": ".py",
   "mimetype": "text/x-python",
   "name": "python",
   "nbconvert_exporter": "python",
   "pygments_lexer": "ipython3",
   "version": "3.9.7"
  }
 },
 "nbformat": 4,
 "nbformat_minor": 4
}
