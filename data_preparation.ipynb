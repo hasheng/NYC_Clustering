{
 "cells": [
  {
   "cell_type": "markdown",
   "metadata": {},
   "source": [
    "# Data Preparation"
   ]
  },
  {
   "cell_type": "markdown",
   "metadata": {},
   "source": [
    "### Task\n",
    "Parse the json **nyc_geo.json** into the dataframe with the following columns:\n",
    "- Borough\n",
    "- Neighborhood\n",
    "- Latitude\n",
    "- Longitude"
   ]
  },
  {
   "cell_type": "code",
   "execution_count": 27,
   "metadata": {},
   "outputs": [],
   "source": [
    "import os\n",
    "import json \n",
    "from IPython.display import JSON\n",
    "import pandas as pd\n",
    "import folium\n",
    "\n",
    "import matplotlib.cm as cm # Matplotlib and associated plotting modules\n",
    "import matplotlib.colors as colors # Matplotlib and associated plotting modules\n",
    "\n",
    "from pandas.io.json import json_normalize # tranform JSON file into a pandas dataframe\n",
    "\n",
    "from collections import Counter # count occurrences \n",
    "\n",
    "from sklearn.cluster import KMeans # import k-means from clustering stage\n",
    "\n",
    "from geopy.geocoders import Nominatim # convert an address into latitude and longitude values\n",
    "\n",
    "import requests # library to handle requests"
   ]
  },
  {
   "cell_type": "code",
   "execution_count": 2,
   "metadata": {},
   "outputs": [],
   "source": [
    "data = 'nyc_geo.json'\n",
    "\n",
    "with open (data, 'r') as f:\n",
    "    contents = json.loads(f.read())"
   ]
  },
  {
   "cell_type": "code",
   "execution_count": 3,
   "metadata": {},
   "outputs": [
    {
     "data": {
      "text/plain": [
       "{'type': 'Feature',\n",
       " 'id': 'nyu_2451_34572.2',\n",
       " 'geometry': {'type': 'Point',\n",
       "  'coordinates': [-73.82993910812398, 40.87429419303012]},\n",
       " 'geometry_name': 'geom',\n",
       " 'properties': {'name': 'Co-op City',\n",
       "  'stacked': 2,\n",
       "  'annoline1': 'Co-op',\n",
       "  'annoline2': 'City',\n",
       "  'annoline3': None,\n",
       "  'annoangle': 0.0,\n",
       "  'borough': 'Bronx',\n",
       "  'bbox': [-73.82993910812398,\n",
       "   40.87429419303012,\n",
       "   -73.82993910812398,\n",
       "   40.87429419303012]}}"
      ]
     },
     "execution_count": 3,
     "metadata": {},
     "output_type": "execute_result"
    }
   ],
   "source": [
    "contents['features'][1]"
   ]
  },
  {
   "cell_type": "code",
   "execution_count": 4,
   "metadata": {},
   "outputs": [
    {
     "data": {
      "text/plain": [
       "'Bronx'"
      ]
     },
     "execution_count": 4,
     "metadata": {},
     "output_type": "execute_result"
    }
   ],
   "source": [
    "contents['features'][0]['properties']['borough']"
   ]
  },
  {
   "cell_type": "code",
   "execution_count": 5,
   "metadata": {},
   "outputs": [
    {
     "data": {
      "text/plain": [
       "'Wakefield'"
      ]
     },
     "execution_count": 5,
     "metadata": {},
     "output_type": "execute_result"
    }
   ],
   "source": [
    "contents['features'][0]['properties']['name']"
   ]
  },
  {
   "cell_type": "code",
   "execution_count": 6,
   "metadata": {},
   "outputs": [
    {
     "data": {
      "text/plain": [
       "[-73.84720052054902, 40.89470517661]"
      ]
     },
     "execution_count": 6,
     "metadata": {},
     "output_type": "execute_result"
    }
   ],
   "source": [
    "contents['features'][0]['geometry']['coordinates']"
   ]
  },
  {
   "cell_type": "code",
   "execution_count": 7,
   "metadata": {},
   "outputs": [],
   "source": [
    "borough=[]\n",
    "neighborhood=[]\n",
    "latitude=[]\n",
    "longitude=[]\n",
    "for boro in contents['features']:\n",
    "    borough.append(boro['properties']['borough'])\n",
    "    neighborhood.append(boro['properties']['name'])\n",
    "    latitude.append(boro['geometry']['coordinates'][0])\n",
    "    longitude.append(boro['geometry']['coordinates'][1])"
   ]
  },
  {
   "cell_type": "code",
   "execution_count": 8,
   "metadata": {},
   "outputs": [
    {
     "data": {
      "text/plain": [
       "306"
      ]
     },
     "execution_count": 8,
     "metadata": {},
     "output_type": "execute_result"
    }
   ],
   "source": [
    "len(longitude)"
   ]
  },
  {
   "cell_type": "code",
   "execution_count": 9,
   "metadata": {},
   "outputs": [],
   "source": [
    "df = pd.DataFrame({'borough':borough,\n",
    "                   'neighborhood':neighborhood,\n",
    "                   'latitude':longitude,\n",
    "                   'longitude':latitude\n",
    "                  })"
   ]
  },
  {
   "cell_type": "code",
   "execution_count": 10,
   "metadata": {},
   "outputs": [
    {
     "data": {
      "application/json": {
       "bbox": [
        -74.2492599487305,
        40.5033187866211,
        -73.7061614990234,
        40.9105606079102
       ],
       "crs": {
        "properties": {
         "name": "urn:ogc:def:crs:EPSG::4326"
        },
        "type": "name"
       },
       "features": [
        {
         "geometry": {
          "coordinates": [
           -73.84720052054902,
           40.89470517661
          ],
          "type": "Point"
         },
         "geometry_name": "geom",
         "id": "nyu_2451_34572.1",
         "properties": {
          "annoangle": 0,
          "annoline1": "Wakefield",
          "annoline2": null,
          "annoline3": null,
          "bbox": [
           -73.84720052054902,
           40.89470517661,
           -73.84720052054902,
           40.89470517661
          ],
          "borough": "Bronx",
          "name": "Wakefield",
          "stacked": 1
         },
         "type": "Feature"
        },
        {
         "geometry": {
          "coordinates": [
           -73.82993910812398,
           40.87429419303012
          ],
          "type": "Point"
         },
         "geometry_name": "geom",
         "id": "nyu_2451_34572.2",
         "properties": {
          "annoangle": 0,
          "annoline1": "Co-op",
          "annoline2": "City",
          "annoline3": null,
          "bbox": [
           -73.82993910812398,
           40.87429419303012,
           -73.82993910812398,
           40.87429419303012
          ],
          "borough": "Bronx",
          "name": "Co-op City",
          "stacked": 2
         },
         "type": "Feature"
        },
        {
         "geometry": {
          "coordinates": [
           -73.82780644716412,
           40.887555677350775
          ],
          "type": "Point"
         },
         "geometry_name": "geom",
         "id": "nyu_2451_34572.3",
         "properties": {
          "annoangle": 0,
          "annoline1": "Eastchester",
          "annoline2": null,
          "annoline3": null,
          "bbox": [
           -73.82780644716412,
           40.887555677350775,
           -73.82780644716412,
           40.887555677350775
          ],
          "borough": "Bronx",
          "name": "Eastchester",
          "stacked": 1
         },
         "type": "Feature"
        },
        {
         "geometry": {
          "coordinates": [
           -73.90564259591682,
           40.89543742690383
          ],
          "type": "Point"
         },
         "geometry_name": "geom",
         "id": "nyu_2451_34572.4",
         "properties": {
          "annoangle": 0,
          "annoline1": "Fieldston",
          "annoline2": null,
          "annoline3": null,
          "bbox": [
           -73.90564259591682,
           40.89543742690383,
           -73.90564259591682,
           40.89543742690383
          ],
          "borough": "Bronx",
          "name": "Fieldston",
          "stacked": 1
         },
         "type": "Feature"
        },
        {
         "geometry": {
          "coordinates": [
           -73.9125854610857,
           40.890834493891305
          ],
          "type": "Point"
         },
         "geometry_name": "geom",
         "id": "nyu_2451_34572.5",
         "properties": {
          "annoangle": 0,
          "annoline1": "Riverdale",
          "annoline2": null,
          "annoline3": null,
          "bbox": [
           -73.9125854610857,
           40.890834493891305,
           -73.9125854610857,
           40.890834493891305
          ],
          "borough": "Bronx",
          "name": "Riverdale",
          "stacked": 1
         },
         "type": "Feature"
        },
        {
         "geometry": {
          "coordinates": [
           -73.90281798724604,
           40.88168737120521
          ],
          "type": "Point"
         },
         "geometry_name": "geom",
         "id": "nyu_2451_34572.6",
         "properties": {
          "annoangle": 0,
          "annoline1": "Kingsbridge",
          "annoline2": null,
          "annoline3": null,
          "bbox": [
           -73.90281798724604,
           40.88168737120521,
           -73.90281798724604,
           40.88168737120521
          ],
          "borough": "Bronx",
          "name": "Kingsbridge",
          "stacked": 1
         },
         "type": "Feature"
        },
        {
         "geometry": {
          "coordinates": [
           -73.91065965862981,
           40.87655077879964
          ],
          "type": "Point"
         },
         "geometry_name": "geom",
         "id": "nyu_2451_34572.7",
         "properties": {
          "annoangle": 0,
          "annoline1": "Marble",
          "annoline2": "Hill",
          "annoline3": null,
          "bbox": [
           -73.91065965862981,
           40.87655077879964,
           -73.91065965862981,
           40.87655077879964
          ],
          "borough": "Manhattan",
          "name": "Marble Hill",
          "stacked": 2
         },
         "type": "Feature"
        },
        {
         "geometry": {
          "coordinates": [
           -73.86731496814176,
           40.89827261213805
          ],
          "type": "Point"
         },
         "geometry_name": "geom",
         "id": "nyu_2451_34572.8",
         "properties": {
          "annoangle": 0,
          "annoline1": "Woodlawn",
          "annoline2": null,
          "annoline3": null,
          "bbox": [
           -73.86731496814176,
           40.89827261213805,
           -73.86731496814176,
           40.89827261213805
          ],
          "borough": "Bronx",
          "name": "Woodlawn",
          "stacked": 1
         },
         "type": "Feature"
        },
        {
         "geometry": {
          "coordinates": [
           -73.8793907395681,
           40.87722415599446
          ],
          "type": "Point"
         },
         "geometry_name": "geom",
         "id": "nyu_2451_34572.9",
         "properties": {
          "annoangle": 0,
          "annoline1": "Norwood",
          "annoline2": null,
          "annoline3": null,
          "bbox": [
           -73.8793907395681,
           40.87722415599446,
           -73.8793907395681,
           40.87722415599446
          ],
          "borough": "Bronx",
          "name": "Norwood",
          "stacked": 1
         },
         "type": "Feature"
        },
        {
         "geometry": {
          "coordinates": [
           -73.85744642974207,
           40.88103887819211
          ],
          "type": "Point"
         },
         "geometry_name": "geom",
         "id": "nyu_2451_34572.10",
         "properties": {
          "annoangle": 0,
          "annoline1": "Williamsbridge",
          "annoline2": null,
          "annoline3": null,
          "bbox": [
           -73.85744642974207,
           40.88103887819211,
           -73.85744642974207,
           40.88103887819211
          ],
          "borough": "Bronx",
          "name": "Williamsbridge",
          "stacked": 1
         },
         "type": "Feature"
        },
        {
         "geometry": {
          "coordinates": [
           -73.83579759808117,
           40.866858107252696
          ],
          "type": "Point"
         },
         "geometry_name": "geom",
         "id": "nyu_2451_34572.11",
         "properties": {
          "annoangle": 0,
          "annoline1": "Baychester",
          "annoline2": null,
          "annoline3": null,
          "bbox": [
           -73.83579759808117,
           40.866858107252696,
           -73.83579759808117,
           40.866858107252696
          ],
          "borough": "Bronx",
          "name": "Baychester",
          "stacked": 1
         },
         "type": "Feature"
        },
        {
         "geometry": {
          "coordinates": [
           -73.85475564017999,
           40.85741349808865
          ],
          "type": "Point"
         },
         "geometry_name": "geom",
         "id": "nyu_2451_34572.12",
         "properties": {
          "annoangle": 0,
          "annoline1": "Pelham Parkway",
          "annoline2": null,
          "annoline3": null,
          "bbox": [
           -73.85475564017999,
           40.85741349808865,
           -73.85475564017999,
           40.85741349808865
          ],
          "borough": "Bronx",
          "name": "Pelham Parkway",
          "stacked": 1
         },
         "type": "Feature"
        },
        {
         "geometry": {
          "coordinates": [
           -73.78648845267413,
           40.84724670491813
          ],
          "type": "Point"
         },
         "geometry_name": "geom",
         "id": "nyu_2451_34572.13",
         "properties": {
          "annoangle": 0,
          "annoline1": "City",
          "annoline2": "Island",
          "annoline3": null,
          "bbox": [
           -73.78648845267413,
           40.84724670491813,
           -73.78648845267413,
           40.84724670491813
          ],
          "borough": "Bronx",
          "name": "City Island",
          "stacked": 2
         },
         "type": "Feature"
        },
        {
         "geometry": {
          "coordinates": [
           -73.8855121841913,
           40.870185164975325
          ],
          "type": "Point"
         },
         "geometry_name": "geom",
         "id": "nyu_2451_34572.14",
         "properties": {
          "annoangle": 0,
          "annoline1": "Bedford",
          "annoline2": "Park",
          "annoline3": null,
          "bbox": [
           -73.8855121841913,
           40.870185164975325,
           -73.8855121841913,
           40.870185164975325
          ],
          "borough": "Bronx",
          "name": "Bedford Park",
          "stacked": 2
         },
         "type": "Feature"
        },
        {
         "geometry": {
          "coordinates": [
           -73.9104159619131,
           40.85572707719664
          ],
          "type": "Point"
         },
         "geometry_name": "geom",
         "id": "nyu_2451_34572.15",
         "properties": {
          "annoangle": 0,
          "annoline1": "University",
          "annoline2": "Heights",
          "annoline3": null,
          "bbox": [
           -73.9104159619131,
           40.85572707719664,
           -73.9104159619131,
           40.85572707719664
          ],
          "borough": "Bronx",
          "name": "University Heights",
          "stacked": 2
         },
         "type": "Feature"
        },
        {
         "geometry": {
          "coordinates": [
           -73.91967159119565,
           40.84789792606271
          ],
          "type": "Point"
         },
         "geometry_name": "geom",
         "id": "nyu_2451_34572.16",
         "properties": {
          "annoangle": 0,
          "annoline1": "Morris",
          "annoline2": "Heights",
          "annoline3": null,
          "bbox": [
           -73.91967159119565,
           40.84789792606271,
           -73.91967159119565,
           40.84789792606271
          ],
          "borough": "Bronx",
          "name": "Morris Heights",
          "stacked": 2
         },
         "type": "Feature"
        },
        {
         "geometry": {
          "coordinates": [
           -73.89642655981623,
           40.86099679638654
          ],
          "type": "Point"
         },
         "geometry_name": "geom",
         "id": "nyu_2451_34572.17",
         "properties": {
          "annoangle": 0,
          "annoline1": "Fordham",
          "annoline2": null,
          "annoline3": null,
          "bbox": [
           -73.89642655981623,
           40.86099679638654,
           -73.89642655981623,
           40.86099679638654
          ],
          "borough": "Bronx",
          "name": "Fordham",
          "stacked": 1
         },
         "type": "Feature"
        },
        {
         "geometry": {
          "coordinates": [
           -73.88735617532338,
           40.84269615786053
          ],
          "type": "Point"
         },
         "geometry_name": "geom",
         "id": "nyu_2451_34572.18",
         "properties": {
          "annoangle": 0,
          "annoline1": "East",
          "annoline2": "Tremont",
          "annoline3": null,
          "bbox": [
           -73.88735617532338,
           40.84269615786053,
           -73.88735617532338,
           40.84269615786053
          ],
          "borough": "Bronx",
          "name": "East Tremont",
          "stacked": 2
         },
         "type": "Feature"
        },
        {
         "geometry": {
          "coordinates": [
           -73.87774474910545,
           40.83947505672653
          ],
          "type": "Point"
         },
         "geometry_name": "geom",
         "id": "nyu_2451_34572.19",
         "properties": {
          "annoangle": 0,
          "annoline1": "West",
          "annoline2": "Farms",
          "annoline3": null,
          "bbox": [
           -73.87774474910545,
           40.83947505672653,
           -73.87774474910545,
           40.83947505672653
          ],
          "borough": "Bronx",
          "name": "West Farms",
          "stacked": 2
         },
         "type": "Feature"
        },
        {
         "geometry": {
          "coordinates": [
           -73.9261020935813,
           40.836623010706056
          ],
          "type": "Point"
         },
         "geometry_name": "geom",
         "id": "nyu_2451_34572.20",
         "properties": {
          "annoangle": 0,
          "annoline1": "Highbridge",
          "annoline2": null,
          "annoline3": null,
          "bbox": [
           -73.9261020935813,
           40.836623010706056,
           -73.9261020935813,
           40.836623010706056
          ],
          "borough": "Bronx",
          "name": "High  Bridge",
          "stacked": 1
         },
         "type": "Feature"
        },
        {
         "geometry": {
          "coordinates": [
           -73.90942160757436,
           40.819754370594936
          ],
          "type": "Point"
         },
         "geometry_name": "geom",
         "id": "nyu_2451_34572.21",
         "properties": {
          "annoangle": 0,
          "annoline1": "Melrose",
          "annoline2": null,
          "annoline3": null,
          "bbox": [
           -73.90942160757436,
           40.819754370594936,
           -73.90942160757436,
           40.819754370594936
          ],
          "borough": "Bronx",
          "name": "Melrose",
          "stacked": 1
         },
         "type": "Feature"
        },
        {
         "geometry": {
          "coordinates": [
           -73.91609987487575,
           40.80623874935177
          ],
          "type": "Point"
         },
         "geometry_name": "geom",
         "id": "nyu_2451_34572.22",
         "properties": {
          "annoangle": 0,
          "annoline1": "Mott Haven",
          "annoline2": null,
          "annoline3": null,
          "bbox": [
           -73.91609987487575,
           40.80623874935177,
           -73.91609987487575,
           40.80623874935177
          ],
          "borough": "Bronx",
          "name": "Mott Haven",
          "stacked": 1
         },
         "type": "Feature"
        },
        {
         "geometry": {
          "coordinates": [
           -73.91322139386135,
           40.801663627756206
          ],
          "type": "Point"
         },
         "geometry_name": "geom",
         "id": "nyu_2451_34572.23",
         "properties": {
          "annoangle": 0,
          "annoline1": "Port",
          "annoline2": "Morris",
          "annoline3": null,
          "bbox": [
           -73.91322139386135,
           40.801663627756206,
           -73.91322139386135,
           40.801663627756206
          ],
          "borough": "Bronx",
          "name": "Port Morris",
          "stacked": 2
         },
         "type": "Feature"
        },
        {
         "geometry": {
          "coordinates": [
           -73.8957882009446,
           40.81509904545822
          ],
          "type": "Point"
         },
         "geometry_name": "geom",
         "id": "nyu_2451_34572.24",
         "properties": {
          "annoangle": 0,
          "annoline1": "Longwood",
          "annoline2": null,
          "annoline3": null,
          "bbox": [
           -73.8957882009446,
           40.81509904545822,
           -73.8957882009446,
           40.81509904545822
          ],
          "borough": "Bronx",
          "name": "Longwood",
          "stacked": 1
         },
         "type": "Feature"
        },
        {
         "geometry": {
          "coordinates": [
           -73.88331505955291,
           40.80972987938709
          ],
          "type": "Point"
         },
         "geometry_name": "geom",
         "id": "nyu_2451_34572.25",
         "properties": {
          "annoangle": 0,
          "annoline1": "Hunts",
          "annoline2": "Point",
          "annoline3": null,
          "bbox": [
           -73.88331505955291,
           40.80972987938709,
           -73.88331505955291,
           40.80972987938709
          ],
          "borough": "Bronx",
          "name": "Hunts Point",
          "stacked": 2
         },
         "type": "Feature"
        },
        {
         "geometry": {
          "coordinates": [
           -73.90150648943059,
           40.82359198585534
          ],
          "type": "Point"
         },
         "geometry_name": "geom",
         "id": "nyu_2451_34572.26",
         "properties": {
          "annoangle": 0,
          "annoline1": "Morrisania",
          "annoline2": null,
          "annoline3": null,
          "bbox": [
           -73.90150648943059,
           40.82359198585534,
           -73.90150648943059,
           40.82359198585534
          ],
          "borough": "Bronx",
          "name": "Morrisania",
          "stacked": 1
         },
         "type": "Feature"
        },
        {
         "geometry": {
          "coordinates": [
           -73.86574609554924,
           40.821012197914015
          ],
          "type": "Point"
         },
         "geometry_name": "geom",
         "id": "nyu_2451_34572.27",
         "properties": {
          "annoangle": 0,
          "annoline1": "Soundview",
          "annoline2": null,
          "annoline3": null,
          "bbox": [
           -73.86574609554924,
           40.821012197914015,
           -73.86574609554924,
           40.821012197914015
          ],
          "borough": "Bronx",
          "name": "Soundview",
          "stacked": 1
         },
         "type": "Feature"
        },
        {
         "geometry": {
          "coordinates": [
           -73.85414416189266,
           40.80655112003589
          ],
          "type": "Point"
         },
         "geometry_name": "geom",
         "id": "nyu_2451_34572.28",
         "properties": {
          "annoangle": 0,
          "annoline1": "Clason",
          "annoline2": "Point",
          "annoline3": null,
          "bbox": [
           -73.85414416189266,
           40.80655112003589,
           -73.85414416189266,
           40.80655112003589
          ],
          "borough": "Bronx",
          "name": "Clason Point",
          "stacked": 2
         },
         "type": "Feature"
        },
        {
         "geometry": {
          "coordinates": [
           -73.81635002158441,
           40.81510925804005
          ],
          "type": "Point"
         },
         "geometry_name": "geom",
         "id": "nyu_2451_34572.29",
         "properties": {
          "annoangle": 0,
          "annoline1": "Throgs Neck",
          "annoline2": null,
          "annoline3": null,
          "bbox": [
           -73.81635002158441,
           40.81510925804005,
           -73.81635002158441,
           40.81510925804005
          ],
          "borough": "Bronx",
          "name": "Throgs Neck",
          "stacked": 1
         },
         "type": "Feature"
        },
        {
         "geometry": {
          "coordinates": [
           -73.8240992675385,
           40.844245936947374
          ],
          "type": "Point"
         },
         "geometry_name": "geom",
         "id": "nyu_2451_34572.30",
         "properties": {
          "annoangle": 0,
          "annoline1": "Country",
          "annoline2": "Club",
          "annoline3": null,
          "bbox": [
           -73.8240992675385,
           40.844245936947374,
           -73.8240992675385,
           40.844245936947374
          ],
          "borough": "Bronx",
          "name": "Country Club",
          "stacked": 2
         },
         "type": "Feature"
        },
        {
         "geometry": {
          "coordinates": [
           -73.85600310535783,
           40.837937822267286
          ],
          "type": "Point"
         },
         "geometry_name": "geom",
         "id": "nyu_2451_34572.31",
         "properties": {
          "annoangle": 0,
          "annoline1": "Parkchester",
          "annoline2": null,
          "annoline3": null,
          "bbox": [
           -73.85600310535783,
           40.837937822267286,
           -73.85600310535783,
           40.837937822267286
          ],
          "borough": "Bronx",
          "name": "Parkchester",
          "stacked": 1
         },
         "type": "Feature"
        },
        {
         "geometry": {
          "coordinates": [
           -73.84219407604444,
           40.8406194964327
          ],
          "type": "Point"
         },
         "geometry_name": "geom",
         "id": "nyu_2451_34572.32",
         "properties": {
          "annoangle": 0,
          "annoline1": "Westchester",
          "annoline2": "Square",
          "annoline3": null,
          "bbox": [
           -73.84219407604444,
           40.8406194964327,
           -73.84219407604444,
           40.8406194964327
          ],
          "borough": "Bronx",
          "name": "Westchester Square",
          "stacked": 2
         },
         "type": "Feature"
        },
        {
         "geometry": {
          "coordinates": [
           -73.8662991807561,
           40.84360847124718
          ],
          "type": "Point"
         },
         "geometry_name": "geom",
         "id": "nyu_2451_34572.33",
         "properties": {
          "annoangle": 0,
          "annoline1": "Van",
          "annoline2": "Nest",
          "annoline3": null,
          "bbox": [
           -73.8662991807561,
           40.84360847124718,
           -73.8662991807561,
           40.84360847124718
          ],
          "borough": "Bronx",
          "name": "Van Nest",
          "stacked": 2
         },
         "type": "Feature"
        },
        {
         "geometry": {
          "coordinates": [
           -73.85040178030421,
           40.847549063536334
          ],
          "type": "Point"
         },
         "geometry_name": "geom",
         "id": "nyu_2451_34572.34",
         "properties": {
          "annoangle": 0,
          "annoline1": "Morris Park",
          "annoline2": null,
          "annoline3": null,
          "bbox": [
           -73.85040178030421,
           40.847549063536334,
           -73.85040178030421,
           40.847549063536334
          ],
          "borough": "Bronx",
          "name": "Morris Park",
          "stacked": 1
         },
         "type": "Feature"
        },
        {
         "geometry": {
          "coordinates": [
           -73.88845196134804,
           40.85727710073895
          ],
          "type": "Point"
         },
         "geometry_name": "geom",
         "id": "nyu_2451_34572.35",
         "properties": {
          "annoangle": 0,
          "annoline1": "Belmont",
          "annoline2": null,
          "annoline3": null,
          "bbox": [
           -73.88845196134804,
           40.85727710073895,
           -73.88845196134804,
           40.85727710073895
          ],
          "borough": "Bronx",
          "name": "Belmont",
          "stacked": 1
         },
         "type": "Feature"
        },
        {
         "geometry": {
          "coordinates": [
           -73.91719048210393,
           40.88139497727086
          ],
          "type": "Point"
         },
         "geometry_name": "geom",
         "id": "nyu_2451_34572.36",
         "properties": {
          "annoangle": 0,
          "annoline1": "Spuyten",
          "annoline2": "Duyvil",
          "annoline3": null,
          "bbox": [
           -73.91719048210393,
           40.88139497727086,
           -73.91719048210393,
           40.88139497727086
          ],
          "borough": "Bronx",
          "name": "Spuyten Duyvil",
          "stacked": 2
         },
         "type": "Feature"
        },
        {
         "geometry": {
          "coordinates": [
           -73.90453054908927,
           40.90854282950666
          ],
          "type": "Point"
         },
         "geometry_name": "geom",
         "id": "nyu_2451_34572.37",
         "properties": {
          "annoangle": 0,
          "annoline1": "North",
          "annoline2": "Riverdale",
          "annoline3": null,
          "bbox": [
           -73.90453054908927,
           40.90854282950666,
           -73.90453054908927,
           40.90854282950666
          ],
          "borough": "Bronx",
          "name": "North Riverdale",
          "stacked": 2
         },
         "type": "Feature"
        },
        {
         "geometry": {
          "coordinates": [
           -73.8320737824047,
           40.85064140940335
          ],
          "type": "Point"
         },
         "geometry_name": "geom",
         "id": "nyu_2451_34572.38",
         "properties": {
          "annoangle": 0,
          "annoline1": "Pelham",
          "annoline2": "Bay",
          "annoline3": null,
          "bbox": [
           -73.8320737824047,
           40.85064140940335,
           -73.8320737824047,
           40.85064140940335
          ],
          "borough": "Bronx",
          "name": "Pelham Bay",
          "stacked": 2
         },
         "type": "Feature"
        },
        {
         "geometry": {
          "coordinates": [
           -73.82620275994073,
           40.82657951686922
          ],
          "type": "Point"
         },
         "geometry_name": "geom",
         "id": "nyu_2451_34572.39",
         "properties": {
          "annoangle": 0,
          "annoline1": "Schuylerville",
          "annoline2": null,
          "annoline3": null,
          "bbox": [
           -73.82620275994073,
           40.82657951686922,
           -73.82620275994073,
           40.82657951686922
          ],
          "borough": "Bronx",
          "name": "Schuylerville",
          "stacked": 1
         },
         "type": "Feature"
        },
        {
         "geometry": {
          "coordinates": [
           -73.81388514428619,
           40.821986118163494
          ],
          "type": "Point"
         },
         "geometry_name": "geom",
         "id": "nyu_2451_34572.40",
         "properties": {
          "annoangle": 0,
          "annoline1": "Edgewater",
          "annoline2": "Park",
          "annoline3": null,
          "bbox": [
           -73.81388514428619,
           40.821986118163494,
           -73.81388514428619,
           40.821986118163494
          ],
          "borough": "Bronx",
          "name": "Edgewater Park",
          "stacked": 2
         },
         "type": "Feature"
        },
        {
         "geometry": {
          "coordinates": [
           -73.84802729582735,
           40.819014376988314
          ],
          "type": "Point"
         },
         "geometry_name": "geom",
         "id": "nyu_2451_34572.41",
         "properties": {
          "annoangle": 0,
          "annoline1": "Castle",
          "annoline2": "Hill",
          "annoline3": null,
          "bbox": [
           -73.84802729582735,
           40.819014376988314,
           -73.84802729582735,
           40.819014376988314
          ],
          "borough": "Bronx",
          "name": "Castle Hill",
          "stacked": 2
         },
         "type": "Feature"
        },
        {
         "geometry": {
          "coordinates": [
           -73.86332361652777,
           40.87137078192371
          ],
          "type": "Point"
         },
         "geometry_name": "geom",
         "id": "nyu_2451_34572.42",
         "properties": {
          "annoangle": 0,
          "annoline1": "Olinville",
          "annoline2": null,
          "annoline3": null,
          "bbox": [
           -73.86332361652777,
           40.87137078192371,
           -73.86332361652777,
           40.87137078192371
          ],
          "borough": "Bronx",
          "name": "Olinville",
          "stacked": 1
         },
         "type": "Feature"
        },
        {
         "geometry": {
          "coordinates": [
           -73.84161194831223,
           40.86296562477998
          ],
          "type": "Point"
         },
         "geometry_name": "geom",
         "id": "nyu_2451_34572.43",
         "properties": {
          "annoangle": 0,
          "annoline1": "Pelham",
          "annoline2": "Gardens",
          "annoline3": null,
          "bbox": [
           -73.84161194831223,
           40.86296562477998,
           -73.84161194831223,
           40.86296562477998
          ],
          "borough": "Bronx",
          "name": "Pelham Gardens",
          "stacked": 2
         },
         "type": "Feature"
        },
        {
         "geometry": {
          "coordinates": [
           -73.91558941773444,
           40.83428380733851
          ],
          "type": "Point"
         },
         "geometry_name": "geom",
         "id": "nyu_2451_34572.44",
         "properties": {
          "annoangle": 0,
          "annoline1": "Concourse",
          "annoline2": null,
          "annoline3": null,
          "bbox": [
           -73.91558941773444,
           40.83428380733851,
           -73.91558941773444,
           40.83428380733851
          ],
          "borough": "Bronx",
          "name": "Concourse",
          "stacked": 1
         },
         "type": "Feature"
        },
        {
         "geometry": {
          "coordinates": [
           -73.85053524451935,
           40.82977429787161
          ],
          "type": "Point"
         },
         "geometry_name": "geom",
         "id": "nyu_2451_34572.45",
         "properties": {
          "annoangle": 0,
          "annoline1": "Unionport",
          "annoline2": null,
          "annoline3": null,
          "bbox": [
           -73.85053524451935,
           40.82977429787161,
           -73.85053524451935,
           40.82977429787161
          ],
          "borough": "Bronx",
          "name": "Unionport",
          "stacked": 1
         },
         "type": "Feature"
        },
        {
         "geometry": {
          "coordinates": [
           -73.84808271877168,
           40.88456130303732
          ],
          "type": "Point"
         },
         "geometry_name": "geom",
         "id": "nyu_2451_34572.46",
         "properties": {
          "annoangle": 0,
          "annoline1": "Edenwald",
          "annoline2": null,
          "annoline3": null,
          "bbox": [
           -73.84808271877168,
           40.88456130303732,
           -73.84808271877168,
           40.88456130303732
          ],
          "borough": "Bronx",
          "name": "Edenwald",
          "stacked": 1
         },
         "type": "Feature"
        },
        {
         "geometry": {
          "coordinates": [
           -74.03062069353813,
           40.625801065010656
          ],
          "type": "Point"
         },
         "geometry_name": "geom",
         "id": "nyu_2451_34572.47",
         "properties": {
          "annoangle": 0,
          "annoline1": "Bay Ridge",
          "annoline2": null,
          "annoline3": null,
          "bbox": [
           -74.03062069353813,
           40.625801065010656,
           -74.03062069353813,
           40.625801065010656
          ],
          "borough": "Brooklyn",
          "name": "Bay Ridge",
          "stacked": 1
         },
         "type": "Feature"
        },
        {
         "geometry": {
          "coordinates": [
           -73.99517998380729,
           40.61100890202044
          ],
          "type": "Point"
         },
         "geometry_name": "geom",
         "id": "nyu_2451_34572.48",
         "properties": {
          "annoangle": 0,
          "annoline1": "Bensonhurst",
          "annoline2": null,
          "annoline3": null,
          "bbox": [
           -73.99517998380729,
           40.61100890202044,
           -73.99517998380729,
           40.61100890202044
          ],
          "borough": "Brooklyn",
          "name": "Bensonhurst",
          "stacked": 1
         },
         "type": "Feature"
        },
        {
         "geometry": {
          "coordinates": [
           -74.01031618527784,
           40.64510294925429
          ],
          "type": "Point"
         },
         "geometry_name": "geom",
         "id": "nyu_2451_34572.49",
         "properties": {
          "annoangle": 0,
          "annoline1": "Sunset",
          "annoline2": "Park",
          "annoline3": null,
          "bbox": [
           -74.01031618527784,
           40.64510294925429,
           -74.01031618527784,
           40.64510294925429
          ],
          "borough": "Brooklyn",
          "name": "Sunset Park",
          "stacked": 2
         },
         "type": "Feature"
        },
        {
         "geometry": {
          "coordinates": [
           -73.95424093127393,
           40.7302009848647
          ],
          "type": "Point"
         },
         "geometry_name": "geom",
         "id": "nyu_2451_34572.50",
         "properties": {
          "annoangle": 0,
          "annoline1": "Greenpoint",
          "annoline2": null,
          "annoline3": null,
          "bbox": [
           -73.95424093127393,
           40.7302009848647,
           -73.95424093127393,
           40.7302009848647
          ],
          "borough": "Brooklyn",
          "name": "Greenpoint",
          "stacked": 1
         },
         "type": "Feature"
        },
        {
         "geometry": {
          "coordinates": [
           -73.97347087708445,
           40.59526001306593
          ],
          "type": "Point"
         },
         "geometry_name": "geom",
         "id": "nyu_2451_34572.51",
         "properties": {
          "annoangle": 0,
          "annoline1": "Gravesend",
          "annoline2": null,
          "annoline3": null,
          "bbox": [
           -73.97347087708445,
           40.59526001306593,
           -73.97347087708445,
           40.59526001306593
          ],
          "borough": "Brooklyn",
          "name": "Gravesend",
          "stacked": 1
         },
         "type": "Feature"
        },
        {
         "geometry": {
          "coordinates": [
           -73.96509448785336,
           40.57682506566604
          ],
          "type": "Point"
         },
         "geometry_name": "geom",
         "id": "nyu_2451_34572.52",
         "properties": {
          "annoangle": 0,
          "annoline1": "Brighton",
          "annoline2": "Beach",
          "annoline3": null,
          "bbox": [
           -73.96509448785336,
           40.57682506566604,
           -73.96509448785336,
           40.57682506566604
          ],
          "borough": "Brooklyn",
          "name": "Brighton Beach",
          "stacked": 2
         },
         "type": "Feature"
        },
        {
         "geometry": {
          "coordinates": [
           -73.94318640482979,
           40.58689012678384
          ],
          "type": "Point"
         },
         "geometry_name": "geom",
         "id": "nyu_2451_34572.53",
         "properties": {
          "annoangle": 0,
          "annoline1": "Sheepshead",
          "annoline2": "Bay",
          "annoline3": null,
          "bbox": [
           -73.94318640482979,
           40.58689012678384,
           -73.94318640482979,
           40.58689012678384
          ],
          "borough": "Brooklyn",
          "name": "Sheepshead Bay",
          "stacked": 2
         },
         "type": "Feature"
        },
        {
         "geometry": {
          "coordinates": [
           -73.95743840559939,
           40.61443251335098
          ],
          "type": "Point"
         },
         "geometry_name": "geom",
         "id": "nyu_2451_34572.54",
         "properties": {
          "annoangle": 0,
          "annoline1": "Manhattan",
          "annoline2": "Terrace",
          "annoline3": null,
          "bbox": [
           -73.95743840559939,
           40.61443251335098,
           -73.95743840559939,
           40.61443251335098
          ],
          "borough": "Brooklyn",
          "name": "Manhattan Terrace",
          "stacked": 2
         },
         "type": "Feature"
        },
        {
         "geometry": {
          "coordinates": [
           -73.95840106533903,
           40.63632589026677
          ],
          "type": "Point"
         },
         "geometry_name": "geom",
         "id": "nyu_2451_34572.55",
         "properties": {
          "annoangle": 0,
          "annoline1": "Flatbush",
          "annoline2": null,
          "annoline3": null,
          "bbox": [
           -73.95840106533903,
           40.63632589026677,
           -73.95840106533903,
           40.63632589026677
          ],
          "borough": "Brooklyn",
          "name": "Flatbush",
          "stacked": 1
         },
         "type": "Feature"
        },
        {
         "geometry": {
          "coordinates": [
           -73.94329119073582,
           40.67082917695294
          ],
          "type": "Point"
         },
         "geometry_name": "geom",
         "id": "nyu_2451_34572.56",
         "properties": {
          "annoangle": 0,
          "annoline1": "Crown",
          "annoline2": "Heights",
          "annoline3": null,
          "bbox": [
           -73.94329119073582,
           40.67082917695294,
           -73.94329119073582,
           40.67082917695294
          ],
          "borough": "Brooklyn",
          "name": "Crown Heights",
          "stacked": 2
         },
         "type": "Feature"
        },
        {
         "geometry": {
          "coordinates": [
           -73.93610256185836,
           40.64171776668961
          ],
          "type": "Point"
         },
         "geometry_name": "geom",
         "id": "nyu_2451_34572.57",
         "properties": {
          "annoangle": 0,
          "annoline1": "East Flatbush",
          "annoline2": null,
          "annoline3": null,
          "bbox": [
           -73.93610256185836,
           40.64171776668961,
           -73.93610256185836,
           40.64171776668961
          ],
          "borough": "Brooklyn",
          "name": "East Flatbush",
          "stacked": 1
         },
         "type": "Feature"
        },
        {
         "geometry": {
          "coordinates": [
           -73.98042110559474,
           40.642381958003526
          ],
          "type": "Point"
         },
         "geometry_name": "geom",
         "id": "nyu_2451_34572.58",
         "properties": {
          "annoangle": 0,
          "annoline1": "Kensington",
          "annoline2": null,
          "annoline3": null,
          "bbox": [
           -73.98042110559474,
           40.642381958003526,
           -73.98042110559474,
           40.642381958003526
          ],
          "borough": "Brooklyn",
          "name": "Kensington",
          "stacked": 1
         },
         "type": "Feature"
        },
        {
         "geometry": {
          "coordinates": [
           -73.98007340430172,
           40.65694583575104
          ],
          "type": "Point"
         },
         "geometry_name": "geom",
         "id": "nyu_2451_34572.59",
         "properties": {
          "annoangle": 0,
          "annoline1": "Windsor",
          "annoline2": "Terrace",
          "annoline3": null,
          "bbox": [
           -73.98007340430172,
           40.65694583575104,
           -73.98007340430172,
           40.65694583575104
          ],
          "borough": "Brooklyn",
          "name": "Windsor Terrace",
          "stacked": 2
         },
         "type": "Feature"
        },
        {
         "geometry": {
          "coordinates": [
           -73.9648592426269,
           40.676822262254724
          ],
          "type": "Point"
         },
         "geometry_name": "geom",
         "id": "nyu_2451_34572.60",
         "properties": {
          "annoangle": 0,
          "annoline1": "Prospect",
          "annoline2": "Heights",
          "annoline3": null,
          "bbox": [
           -73.9648592426269,
           40.676822262254724,
           -73.9648592426269,
           40.676822262254724
          ],
          "borough": "Brooklyn",
          "name": "Prospect Heights",
          "stacked": 2
         },
         "type": "Feature"
        },
        {
         "geometry": {
          "coordinates": [
           -73.91023536176607,
           40.66394994339755
          ],
          "type": "Point"
         },
         "geometry_name": "geom",
         "id": "nyu_2451_34572.61",
         "properties": {
          "annoangle": 0,
          "annoline1": "Brownsville",
          "annoline2": null,
          "annoline3": null,
          "bbox": [
           -73.91023536176607,
           40.66394994339755,
           -73.91023536176607,
           40.66394994339755
          ],
          "borough": "Brooklyn",
          "name": "Brownsville",
          "stacked": 1
         },
         "type": "Feature"
        },
        {
         "geometry": {
          "coordinates": [
           -73.95811529220927,
           40.70714439344251
          ],
          "type": "Point"
         },
         "geometry_name": "geom",
         "id": "nyu_2451_34572.62",
         "properties": {
          "annoangle": 0,
          "annoline1": "Williamsburg",
          "annoline2": null,
          "annoline3": null,
          "bbox": [
           -73.95811529220927,
           40.70714439344251,
           -73.95811529220927,
           40.70714439344251
          ],
          "borough": "Brooklyn",
          "name": "Williamsburg",
          "stacked": 1
         },
         "type": "Feature"
        },
        {
         "geometry": {
          "coordinates": [
           -73.92525797487045,
           40.69811611017901
          ],
          "type": "Point"
         },
         "geometry_name": "geom",
         "id": "nyu_2451_34572.63",
         "properties": {
          "annoangle": 0,
          "annoline1": "Bushwick",
          "annoline2": null,
          "annoline3": null,
          "bbox": [
           -73.92525797487045,
           40.69811611017901,
           -73.92525797487045,
           40.69811611017901
          ],
          "borough": "Brooklyn",
          "name": "Bushwick",
          "stacked": 1
         },
         "type": "Feature"
        },
        {
         "geometry": {
          "coordinates": [
           -73.94178488690297,
           40.687231607720456
          ],
          "type": "Point"
         },
         "geometry_name": "geom",
         "id": "nyu_2451_34572.64",
         "properties": {
          "annoangle": 0,
          "annoline1": "Bedford Stuyvesant",
          "annoline2": null,
          "annoline3": null,
          "bbox": [
           -73.94178488690297,
           40.687231607720456,
           -73.94178488690297,
           40.687231607720456
          ],
          "borough": "Brooklyn",
          "name": "Bedford Stuyvesant",
          "stacked": 1
         },
         "type": "Feature"
        },
        {
         "geometry": {
          "coordinates": [
           -73.99378225496424,
           40.695863722724084
          ],
          "type": "Point"
         },
         "geometry_name": "geom",
         "id": "nyu_2451_34572.65",
         "properties": {
          "annoangle": 0,
          "annoline1": "Brooklyn",
          "annoline2": "Heights",
          "annoline3": null,
          "bbox": [
           -73.99378225496424,
           40.695863722724084,
           -73.99378225496424,
           40.695863722724084
          ],
          "borough": "Brooklyn",
          "name": "Brooklyn Heights",
          "stacked": 2
         },
         "type": "Feature"
        },
        {
         "geometry": {
          "coordinates": [
           -73.99856139218463,
           40.687919722485574
          ],
          "type": "Point"
         },
         "geometry_name": "geom",
         "id": "nyu_2451_34572.66",
         "properties": {
          "annoangle": 0,
          "annoline1": "Cobble",
          "annoline2": "Hill",
          "annoline3": null,
          "bbox": [
           -73.99856139218463,
           40.687919722485574,
           -73.99856139218463,
           40.687919722485574
          ],
          "borough": "Brooklyn",
          "name": "Cobble Hill",
          "stacked": 2
         },
         "type": "Feature"
        },
        {
         "geometry": {
          "coordinates": [
           -73.99465372828006,
           40.680540231076485
          ],
          "type": "Point"
         },
         "geometry_name": "geom",
         "id": "nyu_2451_34572.67",
         "properties": {
          "annoangle": 0,
          "annoline1": "Carroll",
          "annoline2": "Gardens",
          "annoline3": null,
          "bbox": [
           -73.99465372828006,
           40.680540231076485,
           -73.99465372828006,
           40.680540231076485
          ],
          "borough": "Brooklyn",
          "name": "Carroll Gardens",
          "stacked": 2
         },
         "type": "Feature"
        },
        {
         "geometry": {
          "coordinates": [
           -74.0127589747356,
           40.676253230250886
          ],
          "type": "Point"
         },
         "geometry_name": "geom",
         "id": "nyu_2451_34572.68",
         "properties": {
          "annoangle": 0,
          "annoline1": "Red",
          "annoline2": "Hook",
          "annoline3": null,
          "bbox": [
           -74.0127589747356,
           40.676253230250886,
           -74.0127589747356,
           40.676253230250886
          ],
          "borough": "Brooklyn",
          "name": "Red Hook",
          "stacked": 2
         },
         "type": "Feature"
        },
        {
         "geometry": {
          "coordinates": [
           -73.99444087145339,
           40.673931143187154
          ],
          "type": "Point"
         },
         "geometry_name": "geom",
         "id": "nyu_2451_34572.69",
         "properties": {
          "annoangle": 0,
          "annoline1": "Gowanus",
          "annoline2": null,
          "annoline3": null,
          "bbox": [
           -73.99444087145339,
           40.673931143187154,
           -73.99444087145339,
           40.673931143187154
          ],
          "borough": "Brooklyn",
          "name": "Gowanus",
          "stacked": 1
         },
         "type": "Feature"
        },
        {
         "geometry": {
          "coordinates": [
           -73.97290574369092,
           40.68852726018977
          ],
          "type": "Point"
         },
         "geometry_name": "geom",
         "id": "nyu_2451_34572.70",
         "properties": {
          "annoangle": 0,
          "annoline1": "Fort",
          "annoline2": "Greene",
          "annoline3": null,
          "bbox": [
           -73.97290574369092,
           40.68852726018977,
           -73.97290574369092,
           40.68852726018977
          ],
          "borough": "Brooklyn",
          "name": "Fort Greene",
          "stacked": 2
         },
         "type": "Feature"
        },
        {
         "geometry": {
          "coordinates": [
           -73.97705030183924,
           40.67232052268197
          ],
          "type": "Point"
         },
         "geometry_name": "geom",
         "id": "nyu_2451_34572.71",
         "properties": {
          "annoangle": 0,
          "annoline1": "Park",
          "annoline2": "Slope",
          "annoline3": null,
          "bbox": [
           -73.97705030183924,
           40.67232052268197,
           -73.97705030183924,
           40.67232052268197
          ],
          "borough": "Brooklyn",
          "name": "Park Slope",
          "stacked": 2
         },
         "type": "Feature"
        },
        {
         "geometry": {
          "coordinates": [
           -73.87661596457296,
           40.68239101144211
          ],
          "type": "Point"
         },
         "geometry_name": "geom",
         "id": "nyu_2451_34572.72",
         "properties": {
          "annoangle": 0,
          "annoline1": "Cypress",
          "annoline2": "Hills",
          "annoline3": null,
          "bbox": [
           -73.87661596457296,
           40.68239101144211,
           -73.87661596457296,
           40.68239101144211
          ],
          "borough": "Brooklyn",
          "name": "Cypress Hills",
          "stacked": 2
         },
         "type": "Feature"
        },
        {
         "geometry": {
          "coordinates": [
           -73.88069863917366,
           40.669925700847045
          ],
          "type": "Point"
         },
         "geometry_name": "geom",
         "id": "nyu_2451_34572.73",
         "properties": {
          "annoangle": 0,
          "annoline1": "East New York",
          "annoline2": null,
          "annoline3": null,
          "bbox": [
           -73.88069863917366,
           40.669925700847045,
           -73.88069863917366,
           40.669925700847045
          ],
          "borough": "Brooklyn",
          "name": "East New York",
          "stacked": 1
         },
         "type": "Feature"
        },
        {
         "geometry": {
          "coordinates": [
           -73.87936970045875,
           40.64758905230874
          ],
          "type": "Point"
         },
         "geometry_name": "geom",
         "id": "nyu_2451_34572.74",
         "properties": {
          "annoangle": 0,
          "annoline1": "Starrett",
          "annoline2": "City",
          "annoline3": null,
          "bbox": [
           -73.87936970045875,
           40.64758905230874,
           -73.87936970045875,
           40.64758905230874
          ],
          "borough": "Brooklyn",
          "name": "Starrett City",
          "stacked": 2
         },
         "type": "Feature"
        },
        {
         "geometry": {
          "coordinates": [
           -73.90209269778966,
           40.63556432797428
          ],
          "type": "Point"
         },
         "geometry_name": "geom",
         "id": "nyu_2451_34572.75",
         "properties": {
          "annoangle": 0,
          "annoline1": "Canarsie",
          "annoline2": null,
          "annoline3": null,
          "bbox": [
           -73.90209269778966,
           40.63556432797428,
           -73.90209269778966,
           40.63556432797428
          ],
          "borough": "Brooklyn",
          "name": "Canarsie",
          "stacked": 1
         },
         "type": "Feature"
        },
        {
         "geometry": {
          "coordinates": [
           -73.92911302644674,
           40.630446043757466
          ],
          "type": "Point"
         },
         "geometry_name": "geom",
         "id": "nyu_2451_34572.76",
         "properties": {
          "annoangle": 0,
          "annoline1": "Flatlands",
          "annoline2": null,
          "annoline3": null,
          "bbox": [
           -73.92911302644674,
           40.630446043757466,
           -73.92911302644674,
           40.630446043757466
          ],
          "borough": "Brooklyn",
          "name": "Flatlands",
          "stacked": 1
         },
         "type": "Feature"
        },
        {
         "geometry": {
          "coordinates": [
           -73.90818571777423,
           40.606336421685626
          ],
          "type": "Point"
         },
         "geometry_name": "geom",
         "id": "nyu_2451_34572.77",
         "properties": {
          "annoangle": 0,
          "annoline1": "Mill",
          "annoline2": "Island",
          "annoline3": null,
          "bbox": [
           -73.90818571777423,
           40.606336421685626,
           -73.90818571777423,
           40.606336421685626
          ],
          "borough": "Brooklyn",
          "name": "Mill Island",
          "stacked": 2
         },
         "type": "Feature"
        },
        {
         "geometry": {
          "coordinates": [
           -73.94353722891886,
           40.57791350308657
          ],
          "type": "Point"
         },
         "geometry_name": "geom",
         "id": "nyu_2451_34572.78",
         "properties": {
          "annoangle": 0,
          "annoline1": "Manhattan",
          "annoline2": "Beach",
          "annoline3": null,
          "bbox": [
           -73.94353722891886,
           40.57791350308657,
           -73.94353722891886,
           40.57791350308657
          ],
          "borough": "Brooklyn",
          "name": "Manhattan Beach",
          "stacked": 2
         },
         "type": "Feature"
        },
        {
         "geometry": {
          "coordinates": [
           -73.98868295821637,
           40.57429256471601
          ],
          "type": "Point"
         },
         "geometry_name": "geom",
         "id": "nyu_2451_34572.79",
         "properties": {
          "annoangle": 0,
          "annoline1": "Coney Island",
          "annoline2": null,
          "annoline3": null,
          "bbox": [
           -73.98868295821637,
           40.57429256471601,
           -73.98868295821637,
           40.57429256471601
          ],
          "borough": "Brooklyn",
          "name": "Coney Island",
          "stacked": 1
         },
         "type": "Feature"
        },
        {
         "geometry": {
          "coordinates": [
           -73.99875221443519,
           40.59951870282238
          ],
          "type": "Point"
         },
         "geometry_name": "geom",
         "id": "nyu_2451_34572.80",
         "properties": {
          "annoangle": 0,
          "annoline1": "Bath",
          "annoline2": "Beach",
          "annoline3": null,
          "bbox": [
           -73.99875221443519,
           40.59951870282238,
           -73.99875221443519,
           40.59951870282238
          ],
          "borough": "Brooklyn",
          "name": "Bath Beach",
          "stacked": 2
         },
         "type": "Feature"
        },
        {
         "geometry": {
          "coordinates": [
           -73.99049823044811,
           40.633130512758015
          ],
          "type": "Point"
         },
         "geometry_name": "geom",
         "id": "nyu_2451_34572.81",
         "properties": {
          "annoangle": 0,
          "annoline1": "Borough",
          "annoline2": "Park",
          "annoline3": null,
          "bbox": [
           -73.99049823044811,
           40.633130512758015,
           -73.99049823044811,
           40.633130512758015
          ],
          "borough": "Brooklyn",
          "name": "Borough Park",
          "stacked": 2
         },
         "type": "Feature"
        },
        {
         "geometry": {
          "coordinates": [
           -74.01931375636022,
           40.619219457722636
          ],
          "type": "Point"
         },
         "geometry_name": "geom",
         "id": "nyu_2451_34572.82",
         "properties": {
          "annoangle": 0,
          "annoline1": "Dyker",
          "annoline2": "Heights",
          "annoline3": null,
          "bbox": [
           -74.01931375636022,
           40.619219457722636,
           -74.01931375636022,
           40.619219457722636
          ],
          "borough": "Brooklyn",
          "name": "Dyker Heights",
          "stacked": 2
         },
         "type": "Feature"
        },
        {
         "geometry": {
          "coordinates": [
           -73.93010170691196,
           40.590848433902046
          ],
          "type": "Point"
         },
         "geometry_name": "geom",
         "id": "nyu_2451_34572.83",
         "properties": {
          "annoangle": 0,
          "annoline1": "Gerritsen",
          "annoline2": "Beach",
          "annoline3": null,
          "bbox": [
           -73.93010170691196,
           40.590848433902046,
           -73.93010170691196,
           40.590848433902046
          ],
          "borough": "Brooklyn",
          "name": "Gerritsen Beach",
          "stacked": 2
         },
         "type": "Feature"
        },
        {
         "geometry": {
          "coordinates": [
           -73.93134404108497,
           40.609747779894604
          ],
          "type": "Point"
         },
         "geometry_name": "geom",
         "id": "nyu_2451_34572.84",
         "properties": {
          "annoangle": 0,
          "annoline1": "Marine Park",
          "annoline2": null,
          "annoline3": null,
          "bbox": [
           -73.93134404108497,
           40.609747779894604,
           -73.93134404108497,
           40.609747779894604
          ],
          "borough": "Brooklyn",
          "name": "Marine Park",
          "stacked": 1
         },
         "type": "Feature"
        },
        {
         "geometry": {
          "coordinates": [
           -73.96784306216367,
           40.693229421881504
          ],
          "type": "Point"
         },
         "geometry_name": "geom",
         "id": "nyu_2451_34572.85",
         "properties": {
          "annoangle": 0,
          "annoline1": "Clinton",
          "annoline2": "Hill",
          "annoline3": null,
          "bbox": [
           -73.96784306216367,
           40.693229421881504,
           -73.96784306216367,
           40.693229421881504
          ],
          "borough": "Brooklyn",
          "name": "Clinton Hill",
          "stacked": 2
         },
         "type": "Feature"
        },
        {
         "geometry": {
          "coordinates": [
           -74.0078731120024,
           40.57637537890224
          ],
          "type": "Point"
         },
         "geometry_name": "geom",
         "id": "nyu_2451_34572.86",
         "properties": {
          "annoangle": 0,
          "annoline1": "Sea",
          "annoline2": "Gate",
          "annoline3": null,
          "bbox": [
           -74.0078731120024,
           40.57637537890224,
           -74.0078731120024,
           40.57637537890224
          ],
          "borough": "Brooklyn",
          "name": "Sea Gate",
          "stacked": 2
         },
         "type": "Feature"
        },
        {
         "geometry": {
          "coordinates": [
           -73.98346337431099,
           40.69084402109802
          ],
          "type": "Point"
         },
         "geometry_name": "geom",
         "id": "nyu_2451_34572.87",
         "properties": {
          "annoangle": 0,
          "annoline1": "Downtown",
          "annoline2": null,
          "annoline3": null,
          "bbox": [
           -73.98346337431099,
           40.69084402109802,
           -73.98346337431099,
           40.69084402109802
          ],
          "borough": "Brooklyn",
          "name": "Downtown",
          "stacked": 1
         },
         "type": "Feature"
        },
        {
         "geometry": {
          "coordinates": [
           -73.98374824115798,
           40.685682912091444
          ],
          "type": "Point"
         },
         "geometry_name": "geom",
         "id": "nyu_2451_34572.88",
         "properties": {
          "annoangle": 0,
          "annoline1": "Boerum",
          "annoline2": "Hill",
          "annoline3": null,
          "bbox": [
           -73.98374824115798,
           40.685682912091444,
           -73.98374824115798,
           40.685682912091444
          ],
          "borough": "Brooklyn",
          "name": "Boerum Hill",
          "stacked": 2
         },
         "type": "Feature"
        },
        {
         "geometry": {
          "coordinates": [
           -73.95489867077713,
           40.658420017469815
          ],
          "type": "Point"
         },
         "geometry_name": "geom",
         "id": "nyu_2451_34572.89",
         "properties": {
          "annoangle": 0,
          "annoline1": "Prospect",
          "annoline2": "Lefferts",
          "annoline3": "Gardens",
          "bbox": [
           -73.95489867077713,
           40.658420017469815,
           -73.95489867077713,
           40.658420017469815
          ],
          "borough": "Brooklyn",
          "name": "Prospect Lefferts Gardens",
          "stacked": 3
         },
         "type": "Feature"
        },
        {
         "geometry": {
          "coordinates": [
           -73.91306831787395,
           40.678402554795355
          ],
          "type": "Point"
         },
         "geometry_name": "geom",
         "id": "nyu_2451_34572.90",
         "properties": {
          "annoangle": 0,
          "annoline1": "Ocean",
          "annoline2": "Hill",
          "annoline3": null,
          "bbox": [
           -73.91306831787395,
           40.678402554795355,
           -73.91306831787395,
           40.678402554795355
          ],
          "borough": "Brooklyn",
          "name": "Ocean Hill",
          "stacked": 2
         },
         "type": "Feature"
        },
        {
         "geometry": {
          "coordinates": [
           -73.86797598081334,
           40.67856995727479
          ],
          "type": "Point"
         },
         "geometry_name": "geom",
         "id": "nyu_2451_34572.91",
         "properties": {
          "annoangle": 0,
          "annoline1": "City",
          "annoline2": "Line",
          "annoline3": null,
          "bbox": [
           -73.86797598081334,
           40.67856995727479,
           -73.86797598081334,
           40.67856995727479
          ],
          "borough": "Brooklyn",
          "name": "City Line",
          "stacked": 2
         },
         "type": "Feature"
        },
        {
         "geometry": {
          "coordinates": [
           -73.89855633630317,
           40.61514955045308
          ],
          "type": "Point"
         },
         "geometry_name": "geom",
         "id": "nyu_2451_34572.92",
         "properties": {
          "annoangle": 0,
          "annoline1": "Bergen",
          "annoline2": "Beach",
          "annoline3": null,
          "bbox": [
           -73.89855633630317,
           40.61514955045308,
           -73.89855633630317,
           40.61514955045308
          ],
          "borough": "Brooklyn",
          "name": "Bergen Beach",
          "stacked": 2
         },
         "type": "Feature"
        },
        {
         "geometry": {
          "coordinates": [
           -73.95759523489838,
           40.62559589869843
          ],
          "type": "Point"
         },
         "geometry_name": "geom",
         "id": "nyu_2451_34572.93",
         "properties": {
          "annoangle": 0,
          "annoline1": "Midwood",
          "annoline2": null,
          "annoline3": null,
          "bbox": [
           -73.95759523489838,
           40.62559589869843,
           -73.95759523489838,
           40.62559589869843
          ],
          "borough": "Brooklyn",
          "name": "Midwood",
          "stacked": 1
         },
         "type": "Feature"
        },
        {
         "geometry": {
          "coordinates": [
           -73.96261316716048,
           40.647008603185185
          ],
          "type": "Point"
         },
         "geometry_name": "geom",
         "id": "nyu_2451_34572.94",
         "properties": {
          "annoangle": 0,
          "annoline1": "Prospect",
          "annoline2": "Park South",
          "annoline3": null,
          "bbox": [
           -73.96261316716048,
           40.647008603185185,
           -73.96261316716048,
           40.647008603185185
          ],
          "borough": "Brooklyn",
          "name": "Prospect Park South",
          "stacked": 2
         },
         "type": "Feature"
        },
        {
         "geometry": {
          "coordinates": [
           -73.91607483951324,
           40.62384524478419
          ],
          "type": "Point"
         },
         "geometry_name": "geom",
         "id": "nyu_2451_34572.95",
         "properties": {
          "annoangle": 0,
          "annoline1": "Georgetown",
          "annoline2": null,
          "annoline3": null,
          "bbox": [
           -73.91607483951324,
           40.62384524478419,
           -73.91607483951324,
           40.62384524478419
          ],
          "borough": "Brooklyn",
          "name": "Georgetown",
          "stacked": 1
         },
         "type": "Feature"
        },
        {
         "geometry": {
          "coordinates": [
           -73.93885815269195,
           40.70849241041548
          ],
          "type": "Point"
         },
         "geometry_name": "geom",
         "id": "nyu_2451_34572.96",
         "properties": {
          "annoangle": 0,
          "annoline1": "East",
          "annoline2": "Williamsburg",
          "annoline3": null,
          "bbox": [
           -73.93885815269195,
           40.70849241041548,
           -73.93885815269195,
           40.70849241041548
          ],
          "borough": "Brooklyn",
          "name": "East Williamsburg",
          "stacked": 2
         },
         "type": "Feature"
        },
        {
         "geometry": {
          "coordinates": [
           -73.95880857587582,
           40.714822906532014
          ],
          "type": "Point"
         },
         "geometry_name": "geom",
         "id": "nyu_2451_34572.97",
         "properties": {
          "annoangle": 0,
          "annoline1": "North Side",
          "annoline2": null,
          "annoline3": null,
          "bbox": [
           -73.95880857587582,
           40.714822906532014,
           -73.95880857587582,
           40.714822906532014
          ],
          "borough": "Brooklyn",
          "name": "North Side",
          "stacked": 1
         },
         "type": "Feature"
        },
        {
         "geometry": {
          "coordinates": [
           -73.95800095153331,
           40.71086147265064
          ],
          "type": "Point"
         },
         "geometry_name": "geom",
         "id": "nyu_2451_34572.98",
         "properties": {
          "annoangle": 0,
          "annoline1": "South Side",
          "annoline2": null,
          "annoline3": null,
          "bbox": [
           -73.95800095153331,
           40.71086147265064,
           -73.95800095153331,
           40.71086147265064
          ],
          "borough": "Brooklyn",
          "name": "South Side",
          "stacked": 1
         },
         "type": "Feature"
        },
        {
         "geometry": {
          "coordinates": [
           -73.96836678035541,
           40.61305976667942
          ],
          "type": "Point"
         },
         "geometry_name": "geom",
         "id": "nyu_2451_34572.99",
         "properties": {
          "annoangle": 0,
          "annoline1": "Ocean",
          "annoline2": "Parkway",
          "annoline3": null,
          "bbox": [
           -73.96836678035541,
           40.61305976667942,
           -73.96836678035541,
           40.61305976667942
          ],
          "borough": "Brooklyn",
          "name": "Ocean Parkway",
          "stacked": 2
         },
         "type": "Feature"
        },
        {
         "geometry": {
          "coordinates": [
           -74.03197914537984,
           40.61476812694226
          ],
          "type": "Point"
         },
         "geometry_name": "geom",
         "id": "nyu_2451_34572.100",
         "properties": {
          "annoangle": 0,
          "annoline1": "Fort",
          "annoline2": "Hamilton",
          "annoline3": null,
          "bbox": [
           -74.03197914537984,
           40.61476812694226,
           -74.03197914537984,
           40.61476812694226
          ],
          "borough": "Brooklyn",
          "name": "Fort Hamilton",
          "stacked": 2
         },
         "type": "Feature"
        },
        {
         "geometry": {
          "coordinates": [
           -73.99427936255978,
           40.71561842231432
          ],
          "type": "Point"
         },
         "geometry_name": "geom",
         "id": "nyu_2451_34572.101",
         "properties": {
          "annoangle": 0,
          "annoline1": "Chinatown",
          "annoline2": null,
          "annoline3": null,
          "bbox": [
           -73.99427936255978,
           40.71561842231432,
           -73.99427936255978,
           40.71561842231432
          ],
          "borough": "Manhattan",
          "name": "Chinatown",
          "stacked": 1
         },
         "type": "Feature"
        },
        {
         "geometry": {
          "coordinates": [
           -73.93690027985234,
           40.85190252555305
          ],
          "type": "Point"
         },
         "geometry_name": "geom",
         "id": "nyu_2451_34572.102",
         "properties": {
          "annoangle": 0,
          "annoline1": "Washington",
          "annoline2": "Heights",
          "annoline3": null,
          "bbox": [
           -73.93690027985234,
           40.85190252555305,
           -73.93690027985234,
           40.85190252555305
          ],
          "borough": "Manhattan",
          "name": "Washington Heights",
          "stacked": 2
         },
         "type": "Feature"
        },
        {
         "geometry": {
          "coordinates": [
           -73.92121042203897,
           40.86768396449915
          ],
          "type": "Point"
         },
         "geometry_name": "geom",
         "id": "nyu_2451_34572.103",
         "properties": {
          "annoangle": 0,
          "annoline1": "Inwood",
          "annoline2": null,
          "annoline3": null,
          "bbox": [
           -73.92121042203897,
           40.86768396449915,
           -73.92121042203897,
           40.86768396449915
          ],
          "borough": "Manhattan",
          "name": "Inwood",
          "stacked": 1
         },
         "type": "Feature"
        },
        {
         "geometry": {
          "coordinates": [
           -73.94968791883366,
           40.823604284811935
          ],
          "type": "Point"
         },
         "geometry_name": "geom",
         "id": "nyu_2451_34572.104",
         "properties": {
          "annoangle": 0,
          "annoline1": "Hamilton",
          "annoline2": "Heights",
          "annoline3": null,
          "bbox": [
           -73.94968791883366,
           40.823604284811935,
           -73.94968791883366,
           40.823604284811935
          ],
          "borough": "Manhattan",
          "name": "Hamilton Heights",
          "stacked": 2
         },
         "type": "Feature"
        },
        {
         "geometry": {
          "coordinates": [
           -73.9573853935188,
           40.8169344294978
          ],
          "type": "Point"
         },
         "geometry_name": "geom",
         "id": "nyu_2451_34572.105",
         "properties": {
          "annoangle": 0,
          "annoline1": "Manhattanville",
          "annoline2": null,
          "annoline3": null,
          "bbox": [
           -73.9573853935188,
           40.8169344294978,
           -73.9573853935188,
           40.8169344294978
          ],
          "borough": "Manhattan",
          "name": "Manhattanville",
          "stacked": 2
         },
         "type": "Feature"
        },
        {
         "geometry": {
          "coordinates": [
           -73.94321112603905,
           40.81597606742414
          ],
          "type": "Point"
         },
         "geometry_name": "geom",
         "id": "nyu_2451_34572.106",
         "properties": {
          "annoangle": 0,
          "annoline1": "Central",
          "annoline2": "Harlem",
          "annoline3": null,
          "bbox": [
           -73.94321112603905,
           40.81597606742414,
           -73.94321112603905,
           40.81597606742414
          ],
          "borough": "Manhattan",
          "name": "Central Harlem",
          "stacked": 2
         },
         "type": "Feature"
        },
        {
         "geometry": {
          "coordinates": [
           -73.94418223148524,
           40.79224946663033
          ],
          "type": "Point"
         },
         "geometry_name": "geom",
         "id": "nyu_2451_34572.107",
         "properties": {
          "annoangle": 0,
          "annoline1": "East",
          "annoline2": "Harlem",
          "annoline3": null,
          "bbox": [
           -73.94418223148524,
           40.79224946663033,
           -73.94418223148524,
           40.79224946663033
          ],
          "borough": "Manhattan",
          "name": "East Harlem",
          "stacked": 2
         },
         "type": "Feature"
        },
        {
         "geometry": {
          "coordinates": [
           -73.96050763135,
           40.775638573301805
          ],
          "type": "Point"
         },
         "geometry_name": "geom",
         "id": "nyu_2451_34572.108",
         "properties": {
          "annoangle": 0,
          "annoline1": "Upper",
          "annoline2": "East",
          "annoline3": "Side",
          "bbox": [
           -73.96050763135,
           40.775638573301805,
           -73.96050763135,
           40.775638573301805
          ],
          "borough": "Manhattan",
          "name": "Upper East Side",
          "stacked": 3
         },
         "type": "Feature"
        },
        {
         "geometry": {
          "coordinates": [
           -73.94711784471826,
           40.775929849884875
          ],
          "type": "Point"
         },
         "geometry_name": "geom",
         "id": "nyu_2451_34572.109",
         "properties": {
          "annoangle": 0,
          "annoline1": "Yorkville",
          "annoline2": null,
          "annoline3": null,
          "bbox": [
           -73.94711784471826,
           40.775929849884875,
           -73.94711784471826,
           40.775929849884875
          ],
          "borough": "Manhattan",
          "name": "Yorkville",
          "stacked": 1
         },
         "type": "Feature"
        },
        {
         "geometry": {
          "coordinates": [
           -73.9588596881376,
           40.76811265828733
          ],
          "type": "Point"
         },
         "geometry_name": "geom",
         "id": "nyu_2451_34572.110",
         "properties": {
          "annoangle": 0,
          "annoline1": "Lenox",
          "annoline2": "Hill",
          "annoline3": null,
          "bbox": [
           -73.9588596881376,
           40.76811265828733,
           -73.9588596881376,
           40.76811265828733
          ],
          "borough": "Manhattan",
          "name": "Lenox Hill",
          "stacked": 2
         },
         "type": "Feature"
        },
        {
         "geometry": {
          "coordinates": [
           -73.94916769227953,
           40.76215960576283
          ],
          "type": "Point"
         },
         "geometry_name": "geom",
         "id": "nyu_2451_34572.111",
         "properties": {
          "annoangle": 56,
          "annoline1": "Roosevelt Island",
          "annoline2": null,
          "annoline3": null,
          "bbox": [
           -73.94916769227953,
           40.76215960576283,
           -73.94916769227953,
           40.76215960576283
          ],
          "borough": "Manhattan",
          "name": "Roosevelt Island",
          "stacked": 1
         },
         "type": "Feature"
        },
        {
         "geometry": {
          "coordinates": [
           -73.97705923630603,
           40.787657998534854
          ],
          "type": "Point"
         },
         "geometry_name": "geom",
         "id": "nyu_2451_34572.112",
         "properties": {
          "annoangle": 0,
          "annoline1": "Upper",
          "annoline2": "West",
          "annoline3": "Side",
          "bbox": [
           -73.97705923630603,
           40.787657998534854,
           -73.97705923630603,
           40.787657998534854
          ],
          "borough": "Manhattan",
          "name": "Upper West Side",
          "stacked": 3
         },
         "type": "Feature"
        },
        {
         "geometry": {
          "coordinates": [
           -73.98533777001262,
           40.77352888942166
          ],
          "type": "Point"
         },
         "geometry_name": "geom",
         "id": "nyu_2451_34572.113",
         "properties": {
          "annoangle": 0,
          "annoline1": "Lincoln",
          "annoline2": "Square",
          "annoline3": null,
          "bbox": [
           -73.98533777001262,
           40.77352888942166,
           -73.98533777001262,
           40.77352888942166
          ],
          "borough": "Manhattan",
          "name": "Lincoln Square",
          "stacked": 2
         },
         "type": "Feature"
        },
        {
         "geometry": {
          "coordinates": [
           -73.99611936309479,
           40.75910089146212
          ],
          "type": "Point"
         },
         "geometry_name": "geom",
         "id": "nyu_2451_34572.114",
         "properties": {
          "annoangle": 0,
          "annoline1": "Clinton",
          "annoline2": null,
          "annoline3": null,
          "bbox": [
           -73.99611936309479,
           40.75910089146212,
           -73.99611936309479,
           40.75910089146212
          ],
          "borough": "Manhattan",
          "name": "Clinton",
          "stacked": 1
         },
         "type": "Feature"
        },
        {
         "geometry": {
          "coordinates": [
           -73.98166882730304,
           40.75469110270623
          ],
          "type": "Point"
         },
         "geometry_name": "geom",
         "id": "nyu_2451_34572.115",
         "properties": {
          "annoangle": 0,
          "annoline1": "Midtown",
          "annoline2": null,
          "annoline3": null,
          "bbox": [
           -73.98166882730304,
           40.75469110270623,
           -73.98166882730304,
           40.75469110270623
          ],
          "borough": "Manhattan",
          "name": "Midtown",
          "stacked": 1
         },
         "type": "Feature"
        },
        {
         "geometry": {
          "coordinates": [
           -73.97833207924127,
           40.748303077252174
          ],
          "type": "Point"
         },
         "geometry_name": "geom",
         "id": "nyu_2451_34572.116",
         "properties": {
          "annoangle": 0,
          "annoline1": "Murray",
          "annoline2": "Hill",
          "annoline3": null,
          "bbox": [
           -73.97833207924127,
           40.748303077252174,
           -73.97833207924127,
           40.748303077252174
          ],
          "borough": "Manhattan",
          "name": "Murray Hill",
          "stacked": 2
         },
         "type": "Feature"
        },
        {
         "geometry": {
          "coordinates": [
           -74.00311633472813,
           40.744034706747975
          ],
          "type": "Point"
         },
         "geometry_name": "geom",
         "id": "nyu_2451_34572.117",
         "properties": {
          "annoangle": 0,
          "annoline1": "Chelsea",
          "annoline2": null,
          "annoline3": null,
          "bbox": [
           -74.00311633472813,
           40.744034706747975,
           -74.00311633472813,
           40.744034706747975
          ],
          "borough": "Manhattan",
          "name": "Chelsea",
          "stacked": 1
         },
         "type": "Feature"
        },
        {
         "geometry": {
          "coordinates": [
           -73.99991402945902,
           40.72693288536128
          ],
          "type": "Point"
         },
         "geometry_name": "geom",
         "id": "nyu_2451_34572.118",
         "properties": {
          "annoangle": 0,
          "annoline1": "Greenwich",
          "annoline2": "Village",
          "annoline3": null,
          "bbox": [
           -73.99991402945902,
           40.72693288536128,
           -73.99991402945902,
           40.72693288536128
          ],
          "borough": "Manhattan",
          "name": "Greenwich Village",
          "stacked": 2
         },
         "type": "Feature"
        },
        {
         "geometry": {
          "coordinates": [
           -73.98222616506416,
           40.727846777270244
          ],
          "type": "Point"
         },
         "geometry_name": "geom",
         "id": "nyu_2451_34572.119",
         "properties": {
          "annoangle": 0,
          "annoline1": "East",
          "annoline2": "Village",
          "annoline3": null,
          "bbox": [
           -73.98222616506416,
           40.727846777270244,
           -73.98222616506416,
           40.727846777270244
          ],
          "borough": "Manhattan",
          "name": "East Village",
          "stacked": 2
         },
         "type": "Feature"
        },
        {
         "geometry": {
          "coordinates": [
           -73.98089031999291,
           40.71780674892765
          ],
          "type": "Point"
         },
         "geometry_name": "geom",
         "id": "nyu_2451_34572.120",
         "properties": {
          "annoangle": 0,
          "annoline1": "Lower",
          "annoline2": "East",
          "annoline3": "Side",
          "bbox": [
           -73.98089031999291,
           40.71780674892765,
           -73.98089031999291,
           40.71780674892765
          ],
          "borough": "Manhattan",
          "name": "Lower East Side",
          "stacked": 3
         },
         "type": "Feature"
        },
        {
         "geometry": {
          "coordinates": [
           -74.01068328559087,
           40.721521967443216
          ],
          "type": "Point"
         },
         "geometry_name": "geom",
         "id": "nyu_2451_34572.121",
         "properties": {
          "annoangle": 0,
          "annoline1": "Tribeca",
          "annoline2": null,
          "annoline3": null,
          "bbox": [
           -74.01068328559087,
           40.721521967443216,
           -74.01068328559087,
           40.721521967443216
          ],
          "borough": "Manhattan",
          "name": "Tribeca",
          "stacked": 1
         },
         "type": "Feature"
        },
        {
         "geometry": {
          "coordinates": [
           -73.99730467208073,
           40.71932379395907
          ],
          "type": "Point"
         },
         "geometry_name": "geom",
         "id": "nyu_2451_34572.122",
         "properties": {
          "annoangle": 0,
          "annoline1": "Little",
          "annoline2": "Italy",
          "annoline3": null,
          "bbox": [
           -73.99730467208073,
           40.71932379395907,
           -73.99730467208073,
           40.71932379395907
          ],
          "borough": "Manhattan",
          "name": "Little Italy",
          "stacked": 2
         },
         "type": "Feature"
        },
        {
         "geometry": {
          "coordinates": [
           -74.00065666959759,
           40.72218384131794
          ],
          "type": "Point"
         },
         "geometry_name": "geom",
         "id": "nyu_2451_34572.123",
         "properties": {
          "annoangle": 0,
          "annoline1": "Soho",
          "annoline2": null,
          "annoline3": null,
          "bbox": [
           -74.00065666959759,
           40.72218384131794,
           -74.00065666959759,
           40.72218384131794
          ],
          "borough": "Manhattan",
          "name": "Soho",
          "stacked": 1
         },
         "type": "Feature"
        },
        {
         "geometry": {
          "coordinates": [
           -74.00617998126812,
           40.73443393572434
          ],
          "type": "Point"
         },
         "geometry_name": "geom",
         "id": "nyu_2451_34572.124",
         "properties": {
          "annoangle": 0,
          "annoline1": "West",
          "annoline2": "Village",
          "annoline3": null,
          "bbox": [
           -74.00617998126812,
           40.73443393572434,
           -74.00617998126812,
           40.73443393572434
          ],
          "borough": "Manhattan",
          "name": "West Village",
          "stacked": 2
         },
         "type": "Feature"
        },
        {
         "geometry": {
          "coordinates": [
           -73.96428617740655,
           40.797307041702865
          ],
          "type": "Point"
         },
         "geometry_name": "geom",
         "id": "nyu_2451_34572.125",
         "properties": {
          "annoangle": 0,
          "annoline1": "Manhattan",
          "annoline2": "Valley",
          "annoline3": null,
          "bbox": [
           -73.96428617740655,
           40.797307041702865,
           -73.96428617740655,
           40.797307041702865
          ],
          "borough": "Manhattan",
          "name": "Manhattan Valley",
          "stacked": 2
         },
         "type": "Feature"
        },
        {
         "geometry": {
          "coordinates": [
           -73.96389627905332,
           40.807999738165826
          ],
          "type": "Point"
         },
         "geometry_name": "geom",
         "id": "nyu_2451_34572.126",
         "properties": {
          "annoangle": 0,
          "annoline1": "Morningside",
          "annoline2": "Heights",
          "annoline3": null,
          "bbox": [
           -73.96389627905332,
           40.807999738165826,
           -73.96389627905332,
           40.807999738165826
          ],
          "borough": "Manhattan",
          "name": "Morningside Heights",
          "stacked": 2
         },
         "type": "Feature"
        },
        {
         "geometry": {
          "coordinates": [
           -73.98137594833541,
           40.737209832715
          ],
          "type": "Point"
         },
         "geometry_name": "geom",
         "id": "nyu_2451_34572.127",
         "properties": {
          "annoangle": 0,
          "annoline1": "Gramercy",
          "annoline2": null,
          "annoline3": null,
          "bbox": [
           -73.98137594833541,
           40.737209832715,
           -73.98137594833541,
           40.737209832715
          ],
          "borough": "Manhattan",
          "name": "Gramercy",
          "stacked": 1
         },
         "type": "Feature"
        },
        {
         "geometry": {
          "coordinates": [
           -74.01686930508617,
           40.71193198394565
          ],
          "type": "Point"
         },
         "geometry_name": "geom",
         "id": "nyu_2451_34572.128",
         "properties": {
          "annoangle": 0,
          "annoline1": "Battery",
          "annoline2": "Park",
          "annoline3": "City",
          "bbox": [
           -74.01686930508617,
           40.71193198394565,
           -74.01686930508617,
           40.71193198394565
          ],
          "borough": "Manhattan",
          "name": "Battery Park City",
          "stacked": 3
         },
         "type": "Feature"
        },
        {
         "geometry": {
          "coordinates": [
           -74.0106654452127,
           40.70710710727048
          ],
          "type": "Point"
         },
         "geometry_name": "geom",
         "id": "nyu_2451_34572.129",
         "properties": {
          "annoangle": 0,
          "annoline1": "Financial",
          "annoline2": "District",
          "annoline3": null,
          "bbox": [
           -74.0106654452127,
           40.70710710727048,
           -74.0106654452127,
           40.70710710727048
          ],
          "borough": "Manhattan",
          "name": "Financial District",
          "stacked": 2
         },
         "type": "Feature"
        },
        {
         "geometry": {
          "coordinates": [
           -73.91565374304234,
           40.76850859335492
          ],
          "type": "Point"
         },
         "geometry_name": "geom",
         "id": "nyu_2451_34572.130",
         "properties": {
          "annoangle": 0,
          "annoline1": "Astoria",
          "annoline2": null,
          "annoline3": null,
          "bbox": [
           -73.91565374304234,
           40.76850859335492,
           -73.91565374304234,
           40.76850859335492
          ],
          "borough": "Queens",
          "name": "Astoria",
          "stacked": 1
         },
         "type": "Feature"
        },
        {
         "geometry": {
          "coordinates": [
           -73.90184166838284,
           40.74634908860222
          ],
          "type": "Point"
         },
         "geometry_name": "geom",
         "id": "nyu_2451_34572.131",
         "properties": {
          "annoangle": 0,
          "annoline1": "Woodside",
          "annoline2": null,
          "annoline3": null,
          "bbox": [
           -73.90184166838284,
           40.74634908860222,
           -73.90184166838284,
           40.74634908860222
          ],
          "borough": "Queens",
          "name": "Woodside",
          "stacked": 1
         },
         "type": "Feature"
        },
        {
         "geometry": {
          "coordinates": [
           -73.88282109164365,
           40.75198138007367
          ],
          "type": "Point"
         },
         "geometry_name": "geom",
         "id": "nyu_2451_34572.132",
         "properties": {
          "annoangle": 0,
          "annoline1": "Jackson",
          "annoline2": "Heights",
          "annoline3": null,
          "bbox": [
           -73.88282109164365,
           40.75198138007367,
           -73.88282109164365,
           40.75198138007367
          ],
          "borough": "Queens",
          "name": "Jackson Heights",
          "stacked": 2
         },
         "type": "Feature"
        },
        {
         "geometry": {
          "coordinates": [
           -73.88165622288388,
           40.744048505122024
          ],
          "type": "Point"
         },
         "geometry_name": "geom",
         "id": "nyu_2451_34572.133",
         "properties": {
          "annoangle": 0,
          "annoline1": "Elmhurst",
          "annoline2": null,
          "annoline3": null,
          "bbox": [
           -73.88165622288388,
           40.744048505122024,
           -73.88165622288388,
           40.744048505122024
          ],
          "borough": "Queens",
          "name": "Elmhurst",
          "stacked": 1
         },
         "type": "Feature"
        },
        {
         "geometry": {
          "coordinates": [
           -73.8381376460028,
           40.65422527738487
          ],
          "type": "Point"
         },
         "geometry_name": "geom",
         "id": "nyu_2451_34572.134",
         "properties": {
          "annoangle": 0,
          "annoline1": "Howard",
          "annoline2": "Beach",
          "annoline3": null,
          "bbox": [
           -73.8381376460028,
           40.65422527738487,
           -73.8381376460028,
           40.65422527738487
          ],
          "borough": "Queens",
          "name": "Howard Beach",
          "stacked": 2
         },
         "type": "Feature"
        },
        {
         "geometry": {
          "coordinates": [
           -73.85682497345258,
           40.74238175015667
          ],
          "type": "Point"
         },
         "geometry_name": "geom",
         "id": "nyu_2451_34572.135",
         "properties": {
          "annoangle": 0,
          "annoline1": "Corona",
          "annoline2": null,
          "annoline3": null,
          "bbox": [
           -73.85682497345258,
           40.74238175015667,
           -73.85682497345258,
           40.74238175015667
          ],
          "borough": "Queens",
          "name": "Corona",
          "stacked": 1
         },
         "type": "Feature"
        },
        {
         "geometry": {
          "coordinates": [
           -73.84447500788983,
           40.72526378216503
          ],
          "type": "Point"
         },
         "geometry_name": "geom",
         "id": "nyu_2451_34572.136",
         "properties": {
          "annoangle": 0,
          "annoline1": "Forest",
          "annoline2": "Hills",
          "annoline3": null,
          "bbox": [
           -73.84447500788983,
           40.72526378216503,
           -73.84447500788983,
           40.72526378216503
          ],
          "borough": "Queens",
          "name": "Forest Hills",
          "stacked": 2
         },
         "type": "Feature"
        },
        {
         "geometry": {
          "coordinates": [
           -73.82981905825703,
           40.7051790354148
          ],
          "type": "Point"
         },
         "geometry_name": "geom",
         "id": "nyu_2451_34572.137",
         "properties": {
          "annoangle": 0,
          "annoline1": "Kew",
          "annoline2": "Gardens",
          "annoline3": null,
          "bbox": [
           -73.82981905825703,
           40.7051790354148,
           -73.82981905825703,
           40.7051790354148
          ],
          "borough": "Queens",
          "name": "Kew Gardens",
          "stacked": 2
         },
         "type": "Feature"
        },
        {
         "geometry": {
          "coordinates": [
           -73.83183321446887,
           40.69794731471763
          ],
          "type": "Point"
         },
         "geometry_name": "geom",
         "id": "nyu_2451_34572.138",
         "properties": {
          "annoangle": 0,
          "annoline1": "Richmond",
          "annoline2": "Hill",
          "annoline3": null,
          "bbox": [
           -73.83183321446887,
           40.69794731471763,
           -73.83183321446887,
           40.69794731471763
          ],
          "borough": "Queens",
          "name": "Richmond Hill",
          "stacked": 2
         },
         "type": "Feature"
        },
        {
         "geometry": {
          "coordinates": [
           -73.83177300329582,
           40.76445419697846
          ],
          "type": "Point"
         },
         "geometry_name": "geom",
         "id": "nyu_2451_34572.139",
         "properties": {
          "annoangle": 0,
          "annoline1": "Flushing",
          "annoline2": null,
          "annoline3": null,
          "bbox": [
           -73.83177300329582,
           40.76445419697846,
           -73.83177300329582,
           40.76445419697846
          ],
          "borough": "Queens",
          "name": "Flushing",
          "stacked": 1
         },
         "type": "Feature"
        },
        {
         "geometry": {
          "coordinates": [
           -73.93920223915505,
           40.75021734610528
          ],
          "type": "Point"
         },
         "geometry_name": "geom",
         "id": "nyu_2451_34572.140",
         "properties": {
          "annoangle": 0,
          "annoline1": "Long",
          "annoline2": "Island",
          "annoline3": "City",
          "bbox": [
           -73.93920223915505,
           40.75021734610528,
           -73.93920223915505,
           40.75021734610528
          ],
          "borough": "Queens",
          "name": "Long Island City",
          "stacked": 3
         },
         "type": "Feature"
        },
        {
         "geometry": {
          "coordinates": [
           -73.92691617561577,
           40.74017628351924
          ],
          "type": "Point"
         },
         "geometry_name": "geom",
         "id": "nyu_2451_34572.141",
         "properties": {
          "annoangle": 0,
          "annoline1": "Sunnyside",
          "annoline2": null,
          "annoline3": null,
          "bbox": [
           -73.92691617561577,
           40.74017628351924,
           -73.92691617561577,
           40.74017628351924
          ],
          "borough": "Queens",
          "name": "Sunnyside",
          "stacked": 1
         },
         "type": "Feature"
        },
        {
         "geometry": {
          "coordinates": [
           -73.86704147658772,
           40.76407323883091
          ],
          "type": "Point"
         },
         "geometry_name": "geom",
         "id": "nyu_2451_34572.142",
         "properties": {
          "annoangle": 0,
          "annoline1": "East",
          "annoline2": "Elmhurst",
          "annoline3": null,
          "bbox": [
           -73.86704147658772,
           40.76407323883091,
           -73.86704147658772,
           40.76407323883091
          ],
          "borough": "Queens",
          "name": "East Elmhurst",
          "stacked": 2
         },
         "type": "Feature"
        },
        {
         "geometry": {
          "coordinates": [
           -73.89621713626859,
           40.725427374093606
          ],
          "type": "Point"
         },
         "geometry_name": "geom",
         "id": "nyu_2451_34572.143",
         "properties": {
          "annoangle": 0,
          "annoline1": "Maspeth",
          "annoline2": null,
          "annoline3": null,
          "bbox": [
           -73.89621713626859,
           40.725427374093606,
           -73.89621713626859,
           40.725427374093606
          ],
          "borough": "Queens",
          "name": "Maspeth",
          "stacked": 1
         },
         "type": "Feature"
        },
        {
         "geometry": {
          "coordinates": [
           -73.90143517559589,
           40.70832315613858
          ],
          "type": "Point"
         },
         "geometry_name": "geom",
         "id": "nyu_2451_34572.144",
         "properties": {
          "annoangle": 0,
          "annoline1": "Ridgewood",
          "annoline2": null,
          "annoline3": null,
          "bbox": [
           -73.90143517559589,
           40.70832315613858,
           -73.90143517559589,
           40.70832315613858
          ],
          "borough": "Queens",
          "name": "Ridgewood",
          "stacked": 1
         },
         "type": "Feature"
        },
        {
         "geometry": {
          "coordinates": [
           -73.87074167435605,
           40.70276242967838
          ],
          "type": "Point"
         },
         "geometry_name": "geom",
         "id": "nyu_2451_34572.145",
         "properties": {
          "annoangle": 0,
          "annoline1": "Glendale",
          "annoline2": null,
          "annoline3": null,
          "bbox": [
           -73.87074167435605,
           40.70276242967838,
           -73.87074167435605,
           40.70276242967838
          ],
          "borough": "Queens",
          "name": "Glendale",
          "stacked": 1
         },
         "type": "Feature"
        },
        {
         "geometry": {
          "coordinates": [
           -73.8578268690537,
           40.72897409480735
          ],
          "type": "Point"
         },
         "geometry_name": "geom",
         "id": "nyu_2451_34572.146",
         "properties": {
          "annoangle": 0,
          "annoline1": "Rego Park",
          "annoline2": null,
          "annoline3": null,
          "bbox": [
           -73.8578268690537,
           40.72897409480735,
           -73.8578268690537,
           40.72897409480735
          ],
          "borough": "Queens",
          "name": "Rego Park",
          "stacked": 1
         },
         "type": "Feature"
        },
        {
         "geometry": {
          "coordinates": [
           -73.8581104655432,
           40.68988687915789
          ],
          "type": "Point"
         },
         "geometry_name": "geom",
         "id": "nyu_2451_34572.147",
         "properties": {
          "annoangle": 0,
          "annoline1": "Woodhaven",
          "annoline2": null,
          "annoline3": null,
          "bbox": [
           -73.8581104655432,
           40.68988687915789,
           -73.8581104655432,
           40.68988687915789
          ],
          "borough": "Queens",
          "name": "Woodhaven",
          "stacked": 1
         },
         "type": "Feature"
        },
        {
         "geometry": {
          "coordinates": [
           -73.84320266173447,
           40.680708468265415
          ],
          "type": "Point"
         },
         "geometry_name": "geom",
         "id": "nyu_2451_34572.148",
         "properties": {
          "annoangle": 0,
          "annoline1": "Ozone Park",
          "annoline2": null,
          "annoline3": null,
          "bbox": [
           -73.84320266173447,
           40.680708468265415,
           -73.84320266173447,
           40.680708468265415
          ],
          "borough": "Queens",
          "name": "Ozone Park",
          "stacked": 1
         },
         "type": "Feature"
        },
        {
         "geometry": {
          "coordinates": [
           -73.80986478649041,
           40.66854957767195
          ],
          "type": "Point"
         },
         "geometry_name": "geom",
         "id": "nyu_2451_34572.149",
         "properties": {
          "annoangle": 0,
          "annoline1": "South",
          "annoline2": "Ozone Park",
          "annoline3": null,
          "bbox": [
           -73.80986478649041,
           40.66854957767195,
           -73.80986478649041,
           40.66854957767195
          ],
          "borough": "Queens",
          "name": "South Ozone Park",
          "stacked": 2
         },
         "type": "Feature"
        },
        {
         "geometry": {
          "coordinates": [
           -73.84304528896125,
           40.784902749260205
          ],
          "type": "Point"
         },
         "geometry_name": "geom",
         "id": "nyu_2451_34572.150",
         "properties": {
          "annoangle": 0,
          "annoline1": "College",
          "annoline2": "Point",
          "annoline3": null,
          "bbox": [
           -73.84304528896125,
           40.784902749260205,
           -73.84304528896125,
           40.784902749260205
          ],
          "borough": "Queens",
          "name": "College Point",
          "stacked": 2
         },
         "type": "Feature"
        },
        {
         "geometry": {
          "coordinates": [
           -73.81420216610863,
           40.78129076602694
          ],
          "type": "Point"
         },
         "geometry_name": "geom",
         "id": "nyu_2451_34572.151",
         "properties": {
          "annoangle": 0,
          "annoline1": "Whitestone",
          "annoline2": null,
          "annoline3": null,
          "bbox": [
           -73.81420216610863,
           40.78129076602694,
           -73.81420216610863,
           40.78129076602694
          ],
          "borough": "Queens",
          "name": "Whitestone",
          "stacked": 1
         },
         "type": "Feature"
        },
        {
         "geometry": {
          "coordinates": [
           -73.7742736306867,
           40.76604063281064
          ],
          "type": "Point"
         },
         "geometry_name": "geom",
         "id": "nyu_2451_34572.152",
         "properties": {
          "annoangle": 0,
          "annoline1": "Bayside",
          "annoline2": null,
          "annoline3": null,
          "bbox": [
           -73.7742736306867,
           40.76604063281064,
           -73.7742736306867,
           40.76604063281064
          ],
          "borough": "Queens",
          "name": "Bayside",
          "stacked": 1
         },
         "type": "Feature"
        },
        {
         "geometry": {
          "coordinates": [
           -73.79176243728061,
           40.76172954903262
          ],
          "type": "Point"
         },
         "geometry_name": "geom",
         "id": "nyu_2451_34572.153",
         "properties": {
          "annoangle": 0,
          "annoline1": "Auburndale",
          "annoline2": null,
          "annoline3": null,
          "bbox": [
           -73.79176243728061,
           40.76172954903262,
           -73.79176243728061,
           40.76172954903262
          ],
          "borough": "Queens",
          "name": "Auburndale",
          "stacked": 1
         },
         "type": "Feature"
        },
        {
         "geometry": {
          "coordinates": [
           -73.7388977558074,
           40.7708261928267
          ],
          "type": "Point"
         },
         "geometry_name": "geom",
         "id": "nyu_2451_34572.154",
         "properties": {
          "annoangle": 0,
          "annoline1": "Little",
          "annoline2": "Neck",
          "annoline3": null,
          "bbox": [
           -73.7388977558074,
           40.7708261928267,
           -73.7388977558074,
           40.7708261928267
          ],
          "borough": "Queens",
          "name": "Little Neck",
          "stacked": 2
         },
         "type": "Feature"
        },
        {
         "geometry": {
          "coordinates": [
           -73.7424982072733,
           40.76684609790763
          ],
          "type": "Point"
         },
         "geometry_name": "geom",
         "id": "nyu_2451_34572.155",
         "properties": {
          "annoangle": 0,
          "annoline1": "Douglaston",
          "annoline2": null,
          "annoline3": null,
          "bbox": [
           -73.7424982072733,
           40.76684609790763,
           -73.7424982072733,
           40.76684609790763
          ],
          "borough": "Queens",
          "name": "Douglaston",
          "stacked": 1
         },
         "type": "Feature"
        },
        {
         "geometry": {
          "coordinates": [
           -73.71548118999145,
           40.74944079974332
          ],
          "type": "Point"
         },
         "geometry_name": "geom",
         "id": "nyu_2451_34572.156",
         "properties": {
          "annoangle": 0,
          "annoline1": "Glen",
          "annoline2": "Oaks",
          "annoline3": null,
          "bbox": [
           -73.71548118999145,
           40.74944079974332,
           -73.71548118999145,
           40.74944079974332
          ],
          "borough": "Queens",
          "name": "Glen Oaks",
          "stacked": 2
         },
         "type": "Feature"
        },
        {
         "geometry": {
          "coordinates": [
           -73.72012814826903,
           40.72857318176675
          ],
          "type": "Point"
         },
         "geometry_name": "geom",
         "id": "nyu_2451_34572.157",
         "properties": {
          "annoangle": 0,
          "annoline1": "Bellerose",
          "annoline2": null,
          "annoline3": null,
          "bbox": [
           -73.72012814826903,
           40.72857318176675,
           -73.72012814826903,
           40.72857318176675
          ],
          "borough": "Queens",
          "name": "Bellerose",
          "stacked": 1
         },
         "type": "Feature"
        },
        {
         "geometry": {
          "coordinates": [
           -73.82087764933566,
           40.722578244228046
          ],
          "type": "Point"
         },
         "geometry_name": "geom",
         "id": "nyu_2451_34572.158",
         "properties": {
          "annoangle": 0,
          "annoline1": "Kew",
          "annoline2": "Gardens",
          "annoline3": "Hills",
          "bbox": [
           -73.82087764933566,
           40.722578244228046,
           -73.82087764933566,
           40.722578244228046
          ],
          "borough": "Queens",
          "name": "Kew Gardens Hills",
          "stacked": 3
         },
         "type": "Feature"
        },
        {
         "geometry": {
          "coordinates": [
           -73.78271337003264,
           40.7343944653313
          ],
          "type": "Point"
         },
         "geometry_name": "geom",
         "id": "nyu_2451_34572.159",
         "properties": {
          "annoangle": 0,
          "annoline1": "Fresh",
          "annoline2": "Meadows",
          "annoline3": null,
          "bbox": [
           -73.78271337003264,
           40.7343944653313,
           -73.78271337003264,
           40.7343944653313
          ],
          "borough": "Queens",
          "name": "Fresh Meadows",
          "stacked": 2
         },
         "type": "Feature"
        },
        {
         "geometry": {
          "coordinates": [
           -73.81174822458634,
           40.71093547252271
          ],
          "type": "Point"
         },
         "geometry_name": "geom",
         "id": "nyu_2451_34572.160",
         "properties": {
          "annoangle": 0,
          "annoline1": "Briarwood",
          "annoline2": null,
          "annoline3": null,
          "bbox": [
           -73.81174822458634,
           40.71093547252271,
           -73.81174822458634,
           40.71093547252271
          ],
          "borough": "Queens",
          "name": "Briarwood",
          "stacked": 1
         },
         "type": "Feature"
        },
        {
         "geometry": {
          "coordinates": [
           -73.79690165888289,
           40.70465736068717
          ],
          "type": "Point"
         },
         "geometry_name": "geom",
         "id": "nyu_2451_34572.161",
         "properties": {
          "annoangle": 0,
          "annoline1": "Jamaica",
          "annoline2": "Center",
          "annoline3": null,
          "bbox": [
           -73.79690165888289,
           40.70465736068717,
           -73.79690165888289,
           40.70465736068717
          ],
          "borough": "Queens",
          "name": "Jamaica Center",
          "stacked": 2
         },
         "type": "Feature"
        },
        {
         "geometry": {
          "coordinates": [
           -73.75494976234332,
           40.74561857141855
          ],
          "type": "Point"
         },
         "geometry_name": "geom",
         "id": "nyu_2451_34572.162",
         "properties": {
          "annoangle": 0,
          "annoline1": "Oakland",
          "annoline2": "Gardens",
          "annoline3": null,
          "bbox": [
           -73.75494976234332,
           40.74561857141855,
           -73.75494976234332,
           40.74561857141855
          ],
          "borough": "Queens",
          "name": "Oakland Gardens",
          "stacked": 2
         },
         "type": "Feature"
        },
        {
         "geometry": {
          "coordinates": [
           -73.73871484578424,
           40.718893092167356
          ],
          "type": "Point"
         },
         "geometry_name": "geom",
         "id": "nyu_2451_34572.163",
         "properties": {
          "annoangle": 0,
          "annoline1": "Queens",
          "annoline2": "Village",
          "annoline3": null,
          "bbox": [
           -73.73871484578424,
           40.718893092167356,
           -73.73871484578424,
           40.718893092167356
          ],
          "borough": "Queens",
          "name": "Queens Village",
          "stacked": 2
         },
         "type": "Feature"
        },
        {
         "geometry": {
          "coordinates": [
           -73.75925009335594,
           40.71124344191904
          ],
          "type": "Point"
         },
         "geometry_name": "geom",
         "id": "nyu_2451_34572.164",
         "properties": {
          "annoangle": 0,
          "annoline1": "Hollis",
          "annoline2": null,
          "annoline3": null,
          "bbox": [
           -73.75925009335594,
           40.71124344191904,
           -73.75925009335594,
           40.71124344191904
          ],
          "borough": "Queens",
          "name": "Hollis",
          "stacked": 1
         },
         "type": "Feature"
        },
        {
         "geometry": {
          "coordinates": [
           -73.7904261313554,
           40.696911253789885
          ],
          "type": "Point"
         },
         "geometry_name": "geom",
         "id": "nyu_2451_34572.165",
         "properties": {
          "annoangle": 0,
          "annoline1": "South Jamaica",
          "annoline2": null,
          "annoline3": null,
          "bbox": [
           -73.7904261313554,
           40.696911253789885,
           -73.7904261313554,
           40.696911253789885
          ],
          "borough": "Queens",
          "name": "South Jamaica",
          "stacked": 1
         },
         "type": "Feature"
        },
        {
         "geometry": {
          "coordinates": [
           -73.75867603727717,
           40.69444538522359
          ],
          "type": "Point"
         },
         "geometry_name": "geom",
         "id": "nyu_2451_34572.166",
         "properties": {
          "annoangle": 0,
          "annoline1": "St. Albans",
          "annoline2": null,
          "annoline3": null,
          "bbox": [
           -73.75867603727717,
           40.69444538522359,
           -73.75867603727717,
           40.69444538522359
          ],
          "borough": "Queens",
          "name": "St. Albans",
          "stacked": 1
         },
         "type": "Feature"
        },
        {
         "geometry": {
          "coordinates": [
           -73.77258787620906,
           40.67521139591733
          ],
          "type": "Point"
         },
         "geometry_name": "geom",
         "id": "nyu_2451_34572.167",
         "properties": {
          "annoangle": 0,
          "annoline1": "Rochdale",
          "annoline2": null,
          "annoline3": null,
          "bbox": [
           -73.77258787620906,
           40.67521139591733,
           -73.77258787620906,
           40.67521139591733
          ],
          "borough": "Queens",
          "name": "Rochdale",
          "stacked": 1
         },
         "type": "Feature"
        },
        {
         "geometry": {
          "coordinates": [
           -73.76042092682287,
           40.666230490368584
          ],
          "type": "Point"
         },
         "geometry_name": "geom",
         "id": "nyu_2451_34572.168",
         "properties": {
          "annoangle": 0,
          "annoline1": "Springfield",
          "annoline2": "Gardens",
          "annoline3": null,
          "bbox": [
           -73.76042092682287,
           40.666230490368584,
           -73.76042092682287,
           40.666230490368584
          ],
          "borough": "Queens",
          "name": "Springfield Gardens",
          "stacked": 2
         },
         "type": "Feature"
        },
        {
         "geometry": {
          "coordinates": [
           -73.73526873708026,
           40.692774639160845
          ],
          "type": "Point"
         },
         "geometry_name": "geom",
         "id": "nyu_2451_34572.169",
         "properties": {
          "annoangle": 0,
          "annoline1": "Cambria",
          "annoline2": "Heights",
          "annoline3": null,
          "bbox": [
           -73.73526873708026,
           40.692774639160845,
           -73.73526873708026,
           40.692774639160845
          ],
          "borough": "Queens",
          "name": "Cambria Heights",
          "stacked": 2
         },
         "type": "Feature"
        },
        {
         "geometry": {
          "coordinates": [
           -73.73526079428278,
           40.659816433428084
          ],
          "type": "Point"
         },
         "geometry_name": "geom",
         "id": "nyu_2451_34572.170",
         "properties": {
          "annoangle": 0,
          "annoline1": "Rosedale",
          "annoline2": null,
          "annoline3": null,
          "bbox": [
           -73.73526079428278,
           40.659816433428084,
           -73.73526079428278,
           40.659816433428084
          ],
          "borough": "Queens",
          "name": "Rosedale",
          "stacked": 1
         },
         "type": "Feature"
        },
        {
         "geometry": {
          "coordinates": [
           -73.75497968043872,
           40.603134432500894
          ],
          "type": "Point"
         },
         "geometry_name": "geom",
         "id": "nyu_2451_34572.171",
         "properties": {
          "annoangle": 0,
          "annoline1": "Far Rockaway",
          "annoline2": null,
          "annoline3": null,
          "bbox": [
           -73.75497968043872,
           40.603134432500894,
           -73.75497968043872,
           40.603134432500894
          ],
          "borough": "Queens",
          "name": "Far Rockaway",
          "stacked": 2
         },
         "type": "Feature"
        },
        {
         "geometry": {
          "coordinates": [
           -73.8200548911032,
           40.60302658351238
          ],
          "type": "Point"
         },
         "geometry_name": "geom",
         "id": "nyu_2451_34572.172",
         "properties": {
          "annoangle": 0,
          "annoline1": "Broad",
          "annoline2": "Channel",
          "annoline3": null,
          "bbox": [
           -73.8200548911032,
           40.60302658351238,
           -73.8200548911032,
           40.60302658351238
          ],
          "borough": "Queens",
          "name": "Broad Channel",
          "stacked": 2
         },
         "type": "Feature"
        },
        {
         "geometry": {
          "coordinates": [
           -73.92551196994168,
           40.55740128845452
          ],
          "type": "Point"
         },
         "geometry_name": "geom",
         "id": "nyu_2451_34572.173",
         "properties": {
          "annoangle": 0,
          "annoline1": "Breezy",
          "annoline2": "Point",
          "annoline3": null,
          "bbox": [
           -73.92551196994168,
           40.55740128845452,
           -73.92551196994168,
           40.55740128845452
          ],
          "borough": "Queens",
          "name": "Breezy Point",
          "stacked": 2
         },
         "type": "Feature"
        },
        {
         "geometry": {
          "coordinates": [
           -73.90228960391673,
           40.775923015642896
          ],
          "type": "Point"
         },
         "geometry_name": "geom",
         "id": "nyu_2451_34572.174",
         "properties": {
          "annoangle": 0,
          "annoline1": "Steinway",
          "annoline2": null,
          "annoline3": null,
          "bbox": [
           -73.90228960391673,
           40.775923015642896,
           -73.90228960391673,
           40.775923015642896
          ],
          "borough": "Queens",
          "name": "Steinway",
          "stacked": 1
         },
         "type": "Feature"
        },
        {
         "geometry": {
          "coordinates": [
           -73.80436451720988,
           40.79278140360048
          ],
          "type": "Point"
         },
         "geometry_name": "geom",
         "id": "nyu_2451_34572.175",
         "properties": {
          "annoangle": 0,
          "annoline1": "Beechhurst",
          "annoline2": null,
          "annoline3": null,
          "bbox": [
           -73.80436451720988,
           40.79278140360048,
           -73.80436451720988,
           40.79278140360048
          ],
          "borough": "Queens",
          "name": "Beechhurst",
          "stacked": 1
         },
         "type": "Feature"
        },
        {
         "geometry": {
          "coordinates": [
           -73.7768022262158,
           40.782842806245554
          ],
          "type": "Point"
         },
         "geometry_name": "geom",
         "id": "nyu_2451_34572.176",
         "properties": {
          "annoangle": 0,
          "annoline1": "Bay",
          "annoline2": "Terrace",
          "annoline3": null,
          "bbox": [
           -73.7768022262158,
           40.782842806245554,
           -73.7768022262158,
           40.782842806245554
          ],
          "borough": "Queens",
          "name": "Bay Terrace",
          "stacked": 2
         },
         "type": "Feature"
        },
        {
         "geometry": {
          "coordinates": [
           -73.77613282391705,
           40.595641807368494
          ],
          "type": "Point"
         },
         "geometry_name": "geom",
         "id": "nyu_2451_34572.177",
         "properties": {
          "annoangle": 0,
          "annoline1": "Edgemere",
          "annoline2": null,
          "annoline3": null,
          "bbox": [
           -73.77613282391705,
           40.595641807368494,
           -73.77613282391705,
           40.595641807368494
          ],
          "borough": "Queens",
          "name": "Edgemere",
          "stacked": 1
         },
         "type": "Feature"
        },
        {
         "geometry": {
          "coordinates": [
           -73.79199233136943,
           40.58914394372971
          ],
          "type": "Point"
         },
         "geometry_name": "geom",
         "id": "nyu_2451_34572.178",
         "properties": {
          "annoangle": 0,
          "annoline1": "Arverne",
          "annoline2": null,
          "annoline3": null,
          "bbox": [
           -73.79199233136943,
           40.58914394372971,
           -73.79199233136943,
           40.58914394372971
          ],
          "borough": "Queens",
          "name": "Arverne",
          "stacked": 1
         },
         "type": "Feature"
        },
        {
         "geometry": {
          "coordinates": [
           -73.82236121088751,
           40.582801696845586
          ],
          "type": "Point"
         },
         "geometry_name": "geom",
         "id": "nyu_2451_34572.179",
         "properties": {
          "annoangle": 0,
          "annoline1": "Rockaway",
          "annoline2": "Beach",
          "annoline3": null,
          "bbox": [
           -73.82236121088751,
           40.582801696845586,
           -73.82236121088751,
           40.582801696845586
          ],
          "borough": "Queens",
          "name": "Rockaway Beach",
          "stacked": 2
         },
         "type": "Feature"
        },
        {
         "geometry": {
          "coordinates": [
           -73.85754672410827,
           40.572036730217015
          ],
          "type": "Point"
         },
         "geometry_name": "geom",
         "id": "nyu_2451_34572.180",
         "properties": {
          "annoangle": 0,
          "annoline1": "Neponsit",
          "annoline2": null,
          "annoline3": null,
          "bbox": [
           -73.85754672410827,
           40.572036730217015,
           -73.85754672410827,
           40.572036730217015
          ],
          "borough": "Queens",
          "name": "Neponsit",
          "stacked": 1
         },
         "type": "Feature"
        },
        {
         "geometry": {
          "coordinates": [
           -73.81276269135866,
           40.764126122614066
          ],
          "type": "Point"
         },
         "geometry_name": "geom",
         "id": "nyu_2451_34572.181",
         "properties": {
          "annoangle": 0,
          "annoline1": "Murray",
          "annoline2": "Hill",
          "annoline3": null,
          "bbox": [
           -73.81276269135866,
           40.764126122614066,
           -73.81276269135866,
           40.764126122614066
          ],
          "borough": "Queens",
          "name": "Murray Hill",
          "stacked": 2
         },
         "type": "Feature"
        },
        {
         "geometry": {
          "coordinates": [
           -73.70884705889246,
           40.741378421945434
          ],
          "type": "Point"
         },
         "geometry_name": "geom",
         "id": "nyu_2451_34572.182",
         "properties": {
          "annoangle": 0,
          "annoline1": "Floral Park",
          "annoline2": null,
          "annoline3": null,
          "bbox": [
           -73.70884705889246,
           40.741378421945434,
           -73.70884705889246,
           40.741378421945434
          ],
          "borough": "Queens",
          "name": "Floral Park",
          "stacked": 1
         },
         "type": "Feature"
        },
        {
         "geometry": {
          "coordinates": [
           -73.76714166714729,
           40.7209572076444
          ],
          "type": "Point"
         },
         "geometry_name": "geom",
         "id": "nyu_2451_34572.183",
         "properties": {
          "annoangle": 0,
          "annoline1": "Holliswood",
          "annoline2": null,
          "annoline3": null,
          "bbox": [
           -73.76714166714729,
           40.7209572076444,
           -73.76714166714729,
           40.7209572076444
          ],
          "borough": "Queens",
          "name": "Holliswood",
          "stacked": 1
         },
         "type": "Feature"
        },
        {
         "geometry": {
          "coordinates": [
           -73.7872269693666,
           40.71680483014613
          ],
          "type": "Point"
         },
         "geometry_name": "geom",
         "id": "nyu_2451_34572.184",
         "properties": {
          "annoangle": 0,
          "annoline1": "Jamaica",
          "annoline2": "Estates",
          "annoline3": null,
          "bbox": [
           -73.7872269693666,
           40.71680483014613,
           -73.7872269693666,
           40.71680483014613
          ],
          "borough": "Queens",
          "name": "Jamaica Estates",
          "stacked": 2
         },
         "type": "Feature"
        },
        {
         "geometry": {
          "coordinates": [
           -73.82580915110559,
           40.7445723092867
          ],
          "type": "Point"
         },
         "geometry_name": "geom",
         "id": "nyu_2451_34572.185",
         "properties": {
          "annoangle": 0,
          "annoline1": "Queensboro",
          "annoline2": "Hill",
          "annoline3": null,
          "bbox": [
           -73.82580915110559,
           40.7445723092867,
           -73.82580915110559,
           40.7445723092867
          ],
          "borough": "Queens",
          "name": "Queensboro Hill",
          "stacked": 2
         },
         "type": "Feature"
        },
        {
         "geometry": {
          "coordinates": [
           -73.79760300912672,
           40.723824901829204
          ],
          "type": "Point"
         },
         "geometry_name": "geom",
         "id": "nyu_2451_34572.186",
         "properties": {
          "annoangle": 0,
          "annoline1": "Hillcrest",
          "annoline2": null,
          "annoline3": null,
          "bbox": [
           -73.79760300912672,
           40.723824901829204,
           -73.79760300912672,
           40.723824901829204
          ],
          "borough": "Queens",
          "name": "Hillcrest",
          "stacked": 1
         },
         "type": "Feature"
        },
        {
         "geometry": {
          "coordinates": [
           -73.93157506072878,
           40.761704526054146
          ],
          "type": "Point"
         },
         "geometry_name": "geom",
         "id": "nyu_2451_34572.187",
         "properties": {
          "annoangle": 0,
          "annoline1": "Ravenswood",
          "annoline2": null,
          "annoline3": null,
          "bbox": [
           -73.93157506072878,
           40.761704526054146,
           -73.93157506072878,
           40.761704526054146
          ],
          "borough": "Queens",
          "name": "Ravenswood",
          "stacked": 1
         },
         "type": "Feature"
        },
        {
         "geometry": {
          "coordinates": [
           -73.84963782402441,
           40.66391841925139
          ],
          "type": "Point"
         },
         "geometry_name": "geom",
         "id": "nyu_2451_34572.188",
         "properties": {
          "annoangle": 0,
          "annoline1": "Lindenwood",
          "annoline2": null,
          "annoline3": null,
          "bbox": [
           -73.84963782402441,
           40.66391841925139,
           -73.84963782402441,
           40.66391841925139
          ],
          "borough": "Queens",
          "name": "Lindenwood",
          "stacked": 1
         },
         "type": "Feature"
        },
        {
         "geometry": {
          "coordinates": [
           -73.74025607989822,
           40.66788389660247
          ],
          "type": "Point"
         },
         "geometry_name": "geom",
         "id": "nyu_2451_34572.189",
         "properties": {
          "annoangle": 0,
          "annoline1": "Laurelton",
          "annoline2": null,
          "annoline3": null,
          "bbox": [
           -73.74025607989822,
           40.66788389660247,
           -73.74025607989822,
           40.66788389660247
          ],
          "borough": "Queens",
          "name": "Laurelton",
          "stacked": 1
         },
         "type": "Feature"
        },
        {
         "geometry": {
          "coordinates": [
           -73.8625247141374,
           40.736074570830795
          ],
          "type": "Point"
         },
         "geometry_name": "geom",
         "id": "nyu_2451_34572.190",
         "properties": {
          "annoangle": 0,
          "annoline1": "Lefrak",
          "annoline2": "City",
          "annoline3": null,
          "bbox": [
           -73.8625247141374,
           40.736074570830795,
           -73.8625247141374,
           40.736074570830795
          ],
          "borough": "Queens",
          "name": "Lefrak City",
          "stacked": 2
         },
         "type": "Feature"
        },
        {
         "geometry": {
          "coordinates": [
           -73.8540175039252,
           40.57615556543109
          ],
          "type": "Point"
         },
         "geometry_name": "geom",
         "id": "nyu_2451_34572.191",
         "properties": {
          "annoangle": 0,
          "annoline1": "Belle Harbor",
          "annoline2": null,
          "annoline3": null,
          "bbox": [
           -73.8540175039252,
           40.57615556543109,
           -73.8540175039252,
           40.57615556543109
          ],
          "borough": "Queens",
          "name": "Belle Harbor",
          "stacked": 1
         },
         "type": "Feature"
        },
        {
         "geometry": {
          "coordinates": [
           -73.84153370226186,
           40.58034295646131
          ],
          "type": "Point"
         },
         "geometry_name": "geom",
         "id": "nyu_2451_34572.192",
         "properties": {
          "annoangle": 0,
          "annoline1": "Rockaway Park",
          "annoline2": null,
          "annoline3": null,
          "bbox": [
           -73.84153370226186,
           40.58034295646131,
           -73.84153370226186,
           40.58034295646131
          ],
          "borough": "Queens",
          "name": "Rockaway Park",
          "stacked": 1
         },
         "type": "Feature"
        },
        {
         "geometry": {
          "coordinates": [
           -73.79664750844047,
           40.59771061565768
          ],
          "type": "Point"
         },
         "geometry_name": "geom",
         "id": "nyu_2451_34572.193",
         "properties": {
          "annoangle": 0,
          "annoline1": "Somerville",
          "annoline2": null,
          "annoline3": null,
          "bbox": [
           -73.79664750844047,
           40.59771061565768,
           -73.79664750844047,
           40.59771061565768
          ],
          "borough": "Queens",
          "name": "Somerville",
          "stacked": 1
         },
         "type": "Feature"
        },
        {
         "geometry": {
          "coordinates": [
           -73.75175310731153,
           40.66000322733613
          ],
          "type": "Point"
         },
         "geometry_name": "geom",
         "id": "nyu_2451_34572.194",
         "properties": {
          "annoangle": 0,
          "annoline1": "Brookville",
          "annoline2": null,
          "annoline3": null,
          "bbox": [
           -73.75175310731153,
           40.66000322733613,
           -73.75175310731153,
           40.66000322733613
          ],
          "borough": "Queens",
          "name": "Brookville",
          "stacked": 1
         },
         "type": "Feature"
        },
        {
         "geometry": {
          "coordinates": [
           -73.73889198912481,
           40.73301404027834
          ],
          "type": "Point"
         },
         "geometry_name": "geom",
         "id": "nyu_2451_34572.195",
         "properties": {
          "annoangle": 0,
          "annoline1": "Bellaire",
          "annoline2": null,
          "annoline3": null,
          "bbox": [
           -73.73889198912481,
           40.73301404027834,
           -73.73889198912481,
           40.73301404027834
          ],
          "borough": "Queens",
          "name": "Bellaire",
          "stacked": 1
         },
         "type": "Feature"
        },
        {
         "geometry": {
          "coordinates": [
           -73.85751790676447,
           40.7540709990489
          ],
          "type": "Point"
         },
         "geometry_name": "geom",
         "id": "nyu_2451_34572.196",
         "properties": {
          "annoangle": 0,
          "annoline1": "North",
          "annoline2": "Corona",
          "annoline3": null,
          "bbox": [
           -73.85751790676447,
           40.7540709990489,
           -73.85751790676447,
           40.7540709990489
          ],
          "borough": "Queens",
          "name": "North Corona",
          "stacked": 2
         },
         "type": "Feature"
        },
        {
         "geometry": {
          "coordinates": [
           -73.8410221123401,
           40.7146110815117
          ],
          "type": "Point"
         },
         "geometry_name": "geom",
         "id": "nyu_2451_34572.197",
         "properties": {
          "annoangle": 0,
          "annoline1": "Forest",
          "annoline2": "Hills",
          "annoline3": "Gardens",
          "bbox": [
           -73.8410221123401,
           40.7146110815117,
           -73.8410221123401,
           40.7146110815117
          ],
          "borough": "Queens",
          "name": "Forest Hills Gardens",
          "stacked": 3
         },
         "type": "Feature"
        },
        {
         "geometry": {
          "coordinates": [
           -74.07935312512797,
           40.6449815710044
          ],
          "type": "Point"
         },
         "geometry_name": "geom",
         "id": "nyu_2451_34572.198",
         "properties": {
          "annoangle": 0,
          "annoline1": "St.",
          "annoline2": "George",
          "annoline3": null,
          "bbox": [
           -74.07935312512797,
           40.6449815710044,
           -74.07935312512797,
           40.6449815710044
          ],
          "borough": "Staten Island",
          "name": "St. George",
          "stacked": 2
         },
         "type": "Feature"
        },
        {
         "geometry": {
          "coordinates": [
           -74.08701650516625,
           40.64061455913511
          ],
          "type": "Point"
         },
         "geometry_name": "geom",
         "id": "nyu_2451_34572.199",
         "properties": {
          "annoangle": 0,
          "annoline1": "New",
          "annoline2": "Brighton",
          "annoline3": null,
          "bbox": [
           -74.08701650516625,
           40.64061455913511,
           -74.08701650516625,
           40.64061455913511
          ],
          "borough": "Staten Island",
          "name": "New Brighton",
          "stacked": 2
         },
         "type": "Feature"
        },
        {
         "geometry": {
          "coordinates": [
           -74.07790192660066,
           40.62692762538176
          ],
          "type": "Point"
         },
         "geometry_name": "geom",
         "id": "nyu_2451_34572.200",
         "properties": {
          "annoangle": 0,
          "annoline1": "Stapleton",
          "annoline2": null,
          "annoline3": null,
          "bbox": [
           -74.07790192660066,
           40.62692762538176,
           -74.07790192660066,
           40.62692762538176
          ],
          "borough": "Staten Island",
          "name": "Stapleton",
          "stacked": 1
         },
         "type": "Feature"
        },
        {
         "geometry": {
          "coordinates": [
           -74.06980526716141,
           40.61530494652761
          ],
          "type": "Point"
         },
         "geometry_name": "geom",
         "id": "nyu_2451_34572.201",
         "properties": {
          "annoangle": 0,
          "annoline1": "Rosebank",
          "annoline2": null,
          "annoline3": null,
          "bbox": [
           -74.06980526716141,
           40.61530494652761,
           -74.06980526716141,
           40.61530494652761
          ],
          "borough": "Staten Island",
          "name": "Rosebank",
          "stacked": 1
         },
         "type": "Feature"
        },
        {
         "geometry": {
          "coordinates": [
           -74.1071817826561,
           40.63187892654607
          ],
          "type": "Point"
         },
         "geometry_name": "geom",
         "id": "nyu_2451_34572.202",
         "properties": {
          "annoangle": 0,
          "annoline1": "West",
          "annoline2": "Brighton",
          "annoline3": null,
          "bbox": [
           -74.1071817826561,
           40.63187892654607,
           -74.1071817826561,
           40.63187892654607
          ],
          "borough": "Staten Island",
          "name": "West Brighton",
          "stacked": 2
         },
         "type": "Feature"
        },
        {
         "geometry": {
          "coordinates": [
           -74.08724819983729,
           40.624184791313006
          ],
          "type": "Point"
         },
         "geometry_name": "geom",
         "id": "nyu_2451_34572.203",
         "properties": {
          "annoangle": 0,
          "annoline1": "Grymes",
          "annoline2": "Hill",
          "annoline3": null,
          "bbox": [
           -74.08724819983729,
           40.624184791313006,
           -74.08724819983729,
           40.624184791313006
          ],
          "borough": "Staten Island",
          "name": "Grymes Hill",
          "stacked": 2
         },
         "type": "Feature"
        },
        {
         "geometry": {
          "coordinates": [
           -74.1113288180088,
           40.59706851814673
          ],
          "type": "Point"
         },
         "geometry_name": "geom",
         "id": "nyu_2451_34572.204",
         "properties": {
          "annoangle": 0,
          "annoline1": "Todt",
          "annoline2": "Hill",
          "annoline3": null,
          "bbox": [
           -74.1113288180088,
           40.59706851814673,
           -74.1113288180088,
           40.59706851814673
          ],
          "borough": "Staten Island",
          "name": "Todt Hill",
          "stacked": 2
         },
         "type": "Feature"
        },
        {
         "geometry": {
          "coordinates": [
           -74.0795529253982,
           40.58024741350956
          ],
          "type": "Point"
         },
         "geometry_name": "geom",
         "id": "nyu_2451_34572.205",
         "properties": {
          "annoangle": 0,
          "annoline1": "South",
          "annoline2": "Beach",
          "annoline3": null,
          "bbox": [
           -74.0795529253982,
           40.58024741350956,
           -74.0795529253982,
           40.58024741350956
          ],
          "borough": "Staten Island",
          "name": "South Beach",
          "stacked": 2
         },
         "type": "Feature"
        },
        {
         "geometry": {
          "coordinates": [
           -74.12943426797008,
           40.63366930554365
          ],
          "type": "Point"
         },
         "geometry_name": "geom",
         "id": "nyu_2451_34572.206",
         "properties": {
          "annoangle": 0,
          "annoline1": "Port",
          "annoline2": "Richmond",
          "annoline3": null,
          "bbox": [
           -74.12943426797008,
           40.63366930554365,
           -74.12943426797008,
           40.63366930554365
          ],
          "borough": "Staten Island",
          "name": "Port Richmond",
          "stacked": 2
         },
         "type": "Feature"
        },
        {
         "geometry": {
          "coordinates": [
           -74.15008537046981,
           40.632546390481124
          ],
          "type": "Point"
         },
         "geometry_name": "geom",
         "id": "nyu_2451_34572.207",
         "properties": {
          "annoangle": 0,
          "annoline1": "Mariner's",
          "annoline2": "Harbor",
          "annoline3": null,
          "bbox": [
           -74.15008537046981,
           40.632546390481124,
           -74.15008537046981,
           40.632546390481124
          ],
          "borough": "Staten Island",
          "name": "Mariner's Harbor",
          "stacked": 2
         },
         "type": "Feature"
        },
        {
         "geometry": {
          "coordinates": [
           -74.17464532993542,
           40.63968297845542
          ],
          "type": "Point"
         },
         "geometry_name": "geom",
         "id": "nyu_2451_34572.208",
         "properties": {
          "annoangle": 0,
          "annoline1": "Port",
          "annoline2": "Ivory",
          "annoline3": null,
          "bbox": [
           -74.17464532993542,
           40.63968297845542,
           -74.17464532993542,
           40.63968297845542
          ],
          "borough": "Staten Island",
          "name": "Port Ivory",
          "stacked": 2
         },
         "type": "Feature"
        },
        {
         "geometry": {
          "coordinates": [
           -74.11918058534842,
           40.61333593766742
          ],
          "type": "Point"
         },
         "geometry_name": "geom",
         "id": "nyu_2451_34572.209",
         "properties": {
          "annoangle": 0,
          "annoline1": "Castleton",
          "annoline2": "Corners",
          "annoline3": null,
          "bbox": [
           -74.11918058534842,
           40.61333593766742,
           -74.11918058534842,
           40.61333593766742
          ],
          "borough": "Staten Island",
          "name": "Castleton Corners",
          "stacked": 2
         },
         "type": "Feature"
        },
        {
         "geometry": {
          "coordinates": [
           -74.16496031329827,
           40.594252379161695
          ],
          "type": "Point"
         },
         "geometry_name": "geom",
         "id": "nyu_2451_34572.210",
         "properties": {
          "annoangle": 0,
          "annoline1": "New",
          "annoline2": "Springville",
          "annoline3": null,
          "bbox": [
           -74.16496031329827,
           40.594252379161695,
           -74.16496031329827,
           40.594252379161695
          ],
          "borough": "Staten Island",
          "name": "New Springville",
          "stacked": 2
         },
         "type": "Feature"
        },
        {
         "geometry": {
          "coordinates": [
           -74.19073717538116,
           40.58631375103281
          ],
          "type": "Point"
         },
         "geometry_name": "geom",
         "id": "nyu_2451_34572.211",
         "properties": {
          "annoangle": 0,
          "annoline1": "Travis",
          "annoline2": null,
          "annoline3": null,
          "bbox": [
           -74.19073717538116,
           40.58631375103281,
           -74.19073717538116,
           40.58631375103281
          ],
          "borough": "Staten Island",
          "name": "Travis",
          "stacked": 1
         },
         "type": "Feature"
        },
        {
         "geometry": {
          "coordinates": [
           -74.1164794360638,
           40.57257231820632
          ],
          "type": "Point"
         },
         "geometry_name": "geom",
         "id": "nyu_2451_34572.212",
         "properties": {
          "annoangle": 0,
          "annoline1": "New",
          "annoline2": "Dorp",
          "annoline3": null,
          "bbox": [
           -74.1164794360638,
           40.57257231820632,
           -74.1164794360638,
           40.57257231820632
          ],
          "borough": "Staten Island",
          "name": "New Dorp",
          "stacked": 2
         },
         "type": "Feature"
        },
        {
         "geometry": {
          "coordinates": [
           -74.12156593771896,
           40.5584622432888
          ],
          "type": "Point"
         },
         "geometry_name": "geom",
         "id": "nyu_2451_34572.213",
         "properties": {
          "annoangle": 0,
          "annoline1": "Oakwood",
          "annoline2": null,
          "annoline3": null,
          "bbox": [
           -74.12156593771896,
           40.5584622432888,
           -74.12156593771896,
           40.5584622432888
          ],
          "borough": "Staten Island",
          "name": "Oakwood",
          "stacked": 1
         },
         "type": "Feature"
        },
        {
         "geometry": {
          "coordinates": [
           -74.14932381490992,
           40.549480228713605
          ],
          "type": "Point"
         },
         "geometry_name": "geom",
         "id": "nyu_2451_34572.214",
         "properties": {
          "annoangle": 0,
          "annoline1": "Great",
          "annoline2": "Kills",
          "annoline3": null,
          "bbox": [
           -74.14932381490992,
           40.549480228713605,
           -74.14932381490992,
           40.549480228713605
          ],
          "borough": "Staten Island",
          "name": "Great Kills",
          "stacked": 2
         },
         "type": "Feature"
        },
        {
         "geometry": {
          "coordinates": [
           -74.1643308041936,
           40.542230747450745
          ],
          "type": "Point"
         },
         "geometry_name": "geom",
         "id": "nyu_2451_34572.215",
         "properties": {
          "annoangle": 0,
          "annoline1": "Eltingville",
          "annoline2": null,
          "annoline3": null,
          "bbox": [
           -74.1643308041936,
           40.542230747450745,
           -74.1643308041936,
           40.542230747450745
          ],
          "borough": "Staten Island",
          "name": "Eltingville",
          "stacked": 1
         },
         "type": "Feature"
        },
        {
         "geometry": {
          "coordinates": [
           -74.17854866165878,
           40.53811417474507
          ],
          "type": "Point"
         },
         "geometry_name": "geom",
         "id": "nyu_2451_34572.216",
         "properties": {
          "annoangle": 0,
          "annoline1": "Annadale",
          "annoline2": null,
          "annoline3": null,
          "bbox": [
           -74.17854866165878,
           40.53811417474507,
           -74.17854866165878,
           40.53811417474507
          ],
          "borough": "Staten Island",
          "name": "Annadale",
          "stacked": 1
         },
         "type": "Feature"
        },
        {
         "geometry": {
          "coordinates": [
           -74.20524582480326,
           40.541967622888755
          ],
          "type": "Point"
         },
         "geometry_name": "geom",
         "id": "nyu_2451_34572.217",
         "properties": {
          "annoangle": 0,
          "annoline1": "Woodrow",
          "annoline2": null,
          "annoline3": null,
          "bbox": [
           -74.20524582480326,
           40.541967622888755,
           -74.20524582480326,
           40.541967622888755
          ],
          "borough": "Staten Island",
          "name": "Woodrow",
          "stacked": 1
         },
         "type": "Feature"
        },
        {
         "geometry": {
          "coordinates": [
           -74.24656934235283,
           40.50533376115642
          ],
          "type": "Point"
         },
         "geometry_name": "geom",
         "id": "nyu_2451_34572.218",
         "properties": {
          "annoangle": 0,
          "annoline1": "Tottenville",
          "annoline2": null,
          "annoline3": null,
          "bbox": [
           -74.24656934235283,
           40.50533376115642,
           -74.24656934235283,
           40.50533376115642
          ],
          "borough": "Staten Island",
          "name": "Tottenville",
          "stacked": 1
         },
         "type": "Feature"
        },
        {
         "geometry": {
          "coordinates": [
           -74.08055351790115,
           40.637316067110326
          ],
          "type": "Point"
         },
         "geometry_name": "geom",
         "id": "nyu_2451_34572.219",
         "properties": {
          "annoangle": 0,
          "annoline1": "Tompkinsville",
          "annoline2": null,
          "annoline3": null,
          "bbox": [
           -74.08055351790115,
           40.637316067110326,
           -74.08055351790115,
           40.637316067110326
          ],
          "borough": "Staten Island",
          "name": "Tompkinsville",
          "stacked": 1
         },
         "type": "Feature"
        },
        {
         "geometry": {
          "coordinates": [
           -74.09629029235458,
           40.61919310792676
          ],
          "type": "Point"
         },
         "geometry_name": "geom",
         "id": "nyu_2451_34572.220",
         "properties": {
          "annoangle": 0,
          "annoline1": "Silver",
          "annoline2": "Lake",
          "annoline3": null,
          "bbox": [
           -74.09629029235458,
           40.61919310792676,
           -74.09629029235458,
           40.61919310792676
          ],
          "borough": "Staten Island",
          "name": "Silver Lake",
          "stacked": 2
         },
         "type": "Feature"
        },
        {
         "geometry": {
          "coordinates": [
           -74.0971255217853,
           40.61276015756489
          ],
          "type": "Point"
         },
         "geometry_name": "geom",
         "id": "nyu_2451_34572.221",
         "properties": {
          "annoangle": 0,
          "annoline1": "Sunnyside",
          "annoline2": null,
          "annoline3": null,
          "bbox": [
           -74.0971255217853,
           40.61276015756489,
           -74.0971255217853,
           40.61276015756489
          ],
          "borough": "Staten Island",
          "name": "Sunnyside",
          "stacked": 1
         },
         "type": "Feature"
        },
        {
         "geometry": {
          "coordinates": [
           -73.96101312466779,
           40.643675183340974
          ],
          "type": "Point"
         },
         "geometry_name": "geom",
         "id": "nyu_2451_34572.222",
         "properties": {
          "annoangle": 0,
          "annoline1": "Ditmas",
          "annoline2": "Park",
          "annoline3": null,
          "bbox": [
           -73.96101312466779,
           40.643675183340974,
           -73.96101312466779,
           40.643675183340974
          ],
          "borough": "Brooklyn",
          "name": "Ditmas Park",
          "stacked": 2
         },
         "type": "Feature"
        },
        {
         "geometry": {
          "coordinates": [
           -73.93718680559314,
           40.66094656188111
          ],
          "type": "Point"
         },
         "geometry_name": "geom",
         "id": "nyu_2451_34572.223",
         "properties": {
          "annoangle": 0,
          "annoline1": "Wingate",
          "annoline2": null,
          "annoline3": null,
          "bbox": [
           -73.93718680559314,
           40.66094656188111,
           -73.93718680559314,
           40.66094656188111
          ],
          "borough": "Brooklyn",
          "name": "Wingate",
          "stacked": 1
         },
         "type": "Feature"
        },
        {
         "geometry": {
          "coordinates": [
           -73.92688212616955,
           40.655572313280764
          ],
          "type": "Point"
         },
         "geometry_name": "geom",
         "id": "nyu_2451_34572.224",
         "properties": {
          "annoangle": 0,
          "annoline1": "Rugby",
          "annoline2": null,
          "annoline3": null,
          "bbox": [
           -73.92688212616955,
           40.655572313280764,
           -73.92688212616955,
           40.655572313280764
          ],
          "borough": "Brooklyn",
          "name": "Rugby",
          "stacked": 1
         },
         "type": "Feature"
        },
        {
         "geometry": {
          "coordinates": [
           -74.08015734936296,
           40.60919044434558
          ],
          "type": "Point"
         },
         "geometry_name": "geom",
         "id": "nyu_2451_34572.225",
         "properties": {
          "annoangle": 0,
          "annoline1": "Park",
          "annoline2": "Hill",
          "annoline3": null,
          "bbox": [
           -74.08015734936296,
           40.60919044434558,
           -74.08015734936296,
           40.60919044434558
          ],
          "borough": "Staten Island",
          "name": "Park Hill",
          "stacked": 2
         },
         "type": "Feature"
        },
        {
         "geometry": {
          "coordinates": [
           -74.13304143951704,
           40.62109047275409
          ],
          "type": "Point"
         },
         "geometry_name": "geom",
         "id": "nyu_2451_34572.226",
         "properties": {
          "annoangle": 0,
          "annoline1": "Westerleigh",
          "annoline2": null,
          "annoline3": null,
          "bbox": [
           -74.13304143951704,
           40.62109047275409,
           -74.13304143951704,
           40.62109047275409
          ],
          "borough": "Staten Island",
          "name": "Westerleigh",
          "stacked": 1
         },
         "type": "Feature"
        },
        {
         "geometry": {
          "coordinates": [
           -74.15315246387762,
           40.620171512231884
          ],
          "type": "Point"
         },
         "geometry_name": "geom",
         "id": "nyu_2451_34572.227",
         "properties": {
          "annoangle": 0,
          "annoline1": "Graniteville",
          "annoline2": null,
          "annoline3": null,
          "bbox": [
           -74.15315246387762,
           40.620171512231884,
           -74.15315246387762,
           40.620171512231884
          ],
          "borough": "Staten Island",
          "name": "Graniteville",
          "stacked": 1
         },
         "type": "Feature"
        },
        {
         "geometry": {
          "coordinates": [
           -74.16510420241124,
           40.63532509911492
          ],
          "type": "Point"
         },
         "geometry_name": "geom",
         "id": "nyu_2451_34572.228",
         "properties": {
          "annoangle": 0,
          "annoline1": "Arlington",
          "annoline2": null,
          "annoline3": null,
          "bbox": [
           -74.16510420241124,
           40.63532509911492,
           -74.16510420241124,
           40.63532509911492
          ],
          "borough": "Staten Island",
          "name": "Arlington",
          "stacked": 1
         },
         "type": "Feature"
        },
        {
         "geometry": {
          "coordinates": [
           -74.06712363225574,
           40.596312571276734
          ],
          "type": "Point"
         },
         "geometry_name": "geom",
         "id": "nyu_2451_34572.229",
         "properties": {
          "annoangle": 0,
          "annoline1": "Arrochar",
          "annoline2": null,
          "annoline3": null,
          "bbox": [
           -74.06712363225574,
           40.596312571276734,
           -74.06712363225574,
           40.596312571276734
          ],
          "borough": "Staten Island",
          "name": "Arrochar",
          "stacked": 1
         },
         "type": "Feature"
        },
        {
         "geometry": {
          "coordinates": [
           -74.0766743627905,
           40.59826835959991
          ],
          "type": "Point"
         },
         "geometry_name": "geom",
         "id": "nyu_2451_34572.230",
         "properties": {
          "annoangle": 0,
          "annoline1": "Grasmere",
          "annoline2": null,
          "annoline3": null,
          "bbox": [
           -74.0766743627905,
           40.59826835959991,
           -74.0766743627905,
           40.59826835959991
          ],
          "borough": "Staten Island",
          "name": "Grasmere",
          "stacked": 1
         },
         "type": "Feature"
        },
        {
         "geometry": {
          "coordinates": [
           -74.08751118005578,
           40.59632891379513
          ],
          "type": "Point"
         },
         "geometry_name": "geom",
         "id": "nyu_2451_34572.231",
         "properties": {
          "annoangle": 0,
          "annoline1": "Old",
          "annoline2": "Town",
          "annoline3": null,
          "bbox": [
           -74.08751118005578,
           40.59632891379513,
           -74.08751118005578,
           40.59632891379513
          ],
          "borough": "Staten Island",
          "name": "Old Town",
          "stacked": 2
         },
         "type": "Feature"
        },
        {
         "geometry": {
          "coordinates": [
           -74.09639905312521,
           40.588672948199275
          ],
          "type": "Point"
         },
         "geometry_name": "geom",
         "id": "nyu_2451_34572.232",
         "properties": {
          "annoangle": 0,
          "annoline1": "Dongan",
          "annoline2": "Hills",
          "annoline3": null,
          "bbox": [
           -74.09639905312521,
           40.588672948199275,
           -74.09639905312521,
           40.588672948199275
          ],
          "borough": "Staten Island",
          "name": "Dongan Hills",
          "stacked": 2
         },
         "type": "Feature"
        },
        {
         "geometry": {
          "coordinates": [
           -74.09348266303591,
           40.57352690574283
          ],
          "type": "Point"
         },
         "geometry_name": "geom",
         "id": "nyu_2451_34572.233",
         "properties": {
          "annoangle": 0,
          "annoline1": "Midland",
          "annoline2": "Beach",
          "annoline3": null,
          "bbox": [
           -74.09348266303591,
           40.57352690574283,
           -74.09348266303591,
           40.57352690574283
          ],
          "borough": "Staten Island",
          "name": "Midland Beach",
          "stacked": 2
         },
         "type": "Feature"
        },
        {
         "geometry": {
          "coordinates": [
           -74.10585598545434,
           40.57621558711788
          ],
          "type": "Point"
         },
         "geometry_name": "geom",
         "id": "nyu_2451_34572.234",
         "properties": {
          "annoangle": 0,
          "annoline1": "Grant",
          "annoline2": "City",
          "annoline3": null,
          "bbox": [
           -74.10585598545434,
           40.57621558711788,
           -74.10585598545434,
           40.57621558711788
          ],
          "borough": "Staten Island",
          "name": "Grant City",
          "stacked": 2
         },
         "type": "Feature"
        },
        {
         "geometry": {
          "coordinates": [
           -74.10432707469124,
           40.56425549307335
          ],
          "type": "Point"
         },
         "geometry_name": "geom",
         "id": "nyu_2451_34572.235",
         "properties": {
          "annoangle": 0,
          "annoline1": "New",
          "annoline2": "Dorp",
          "annoline3": "Beach",
          "bbox": [
           -74.10432707469124,
           40.56425549307335,
           -74.10432707469124,
           40.56425549307335
          ],
          "borough": "Staten Island",
          "name": "New Dorp Beach",
          "stacked": 3
         },
         "type": "Feature"
        },
        {
         "geometry": {
          "coordinates": [
           -74.13916622175768,
           40.55398800858462
          ],
          "type": "Point"
         },
         "geometry_name": "geom",
         "id": "nyu_2451_34572.236",
         "properties": {
          "annoangle": 0,
          "annoline1": "Bay",
          "annoline2": "Terrace",
          "annoline3": null,
          "bbox": [
           -74.13916622175768,
           40.55398800858462,
           -74.13916622175768,
           40.55398800858462
          ],
          "borough": "Staten Island",
          "name": "Bay Terrace",
          "stacked": 2
         },
         "type": "Feature"
        },
        {
         "geometry": {
          "coordinates": [
           -74.19174105747814,
           40.531911920489605
          ],
          "type": "Point"
         },
         "geometry_name": "geom",
         "id": "nyu_2451_34572.237",
         "properties": {
          "annoangle": 0,
          "annoline1": "Huguenot",
          "annoline2": null,
          "annoline3": null,
          "bbox": [
           -74.19174105747814,
           40.531911920489605,
           -74.19174105747814,
           40.531911920489605
          ],
          "borough": "Staten Island",
          "name": "Huguenot",
          "stacked": 1
         },
         "type": "Feature"
        },
        {
         "geometry": {
          "coordinates": [
           -74.21983106616777,
           40.524699376118136
          ],
          "type": "Point"
         },
         "geometry_name": "geom",
         "id": "nyu_2451_34572.238",
         "properties": {
          "annoangle": 0,
          "annoline1": "Pleasant",
          "annoline2": "Plains",
          "annoline3": null,
          "bbox": [
           -74.21983106616777,
           40.524699376118136,
           -74.21983106616777,
           40.524699376118136
          ],
          "borough": "Staten Island",
          "name": "Pleasant Plains",
          "stacked": 2
         },
         "type": "Feature"
        },
        {
         "geometry": {
          "coordinates": [
           -74.22950350260027,
           40.50608165346305
          ],
          "type": "Point"
         },
         "geometry_name": "geom",
         "id": "nyu_2451_34572.239",
         "properties": {
          "annoangle": 0,
          "annoline1": "Butler",
          "annoline2": "Manor",
          "annoline3": null,
          "bbox": [
           -74.22950350260027,
           40.50608165346305,
           -74.22950350260027,
           40.50608165346305
          ],
          "borough": "Staten Island",
          "name": "Butler Manor",
          "stacked": 2
         },
         "type": "Feature"
        },
        {
         "geometry": {
          "coordinates": [
           -74.23215775896526,
           40.53053148283314
          ],
          "type": "Point"
         },
         "geometry_name": "geom",
         "id": "nyu_2451_34572.240",
         "properties": {
          "annoangle": 0,
          "annoline1": "Charleston",
          "annoline2": null,
          "annoline3": null,
          "bbox": [
           -74.23215775896526,
           40.53053148283314,
           -74.23215775896526,
           40.53053148283314
          ],
          "borough": "Staten Island",
          "name": "Charleston",
          "stacked": 1
         },
         "type": "Feature"
        },
        {
         "geometry": {
          "coordinates": [
           -74.21572851113952,
           40.54940400650072
          ],
          "type": "Point"
         },
         "geometry_name": "geom",
         "id": "nyu_2451_34572.241",
         "properties": {
          "annoangle": 0,
          "annoline1": "Rossville",
          "annoline2": null,
          "annoline3": null,
          "bbox": [
           -74.21572851113952,
           40.54940400650072,
           -74.21572851113952,
           40.54940400650072
          ],
          "borough": "Staten Island",
          "name": "Rossville",
          "stacked": 1
         },
         "type": "Feature"
        },
        {
         "geometry": {
          "coordinates": [
           -74.18588674583893,
           40.54928582278321
          ],
          "type": "Point"
         },
         "geometry_name": "geom",
         "id": "nyu_2451_34572.242",
         "properties": {
          "annoangle": 0,
          "annoline1": "Arden",
          "annoline2": "Heights",
          "annoline3": null,
          "bbox": [
           -74.18588674583893,
           40.54928582278321,
           -74.18588674583893,
           40.54928582278321
          ],
          "borough": "Staten Island",
          "name": "Arden Heights",
          "stacked": 2
         },
         "type": "Feature"
        },
        {
         "geometry": {
          "coordinates": [
           -74.17079414786092,
           40.555295236173194
          ],
          "type": "Point"
         },
         "geometry_name": "geom",
         "id": "nyu_2451_34572.243",
         "properties": {
          "annoangle": 0,
          "annoline1": "Greenridge",
          "annoline2": null,
          "annoline3": null,
          "bbox": [
           -74.17079414786092,
           40.555295236173194,
           -74.17079414786092,
           40.555295236173194
          ],
          "borough": "Staten Island",
          "name": "Greenridge",
          "stacked": 1
         },
         "type": "Feature"
        },
        {
         "geometry": {
          "coordinates": [
           -74.15902208156601,
           40.58913894875281
          ],
          "type": "Point"
         },
         "geometry_name": "geom",
         "id": "nyu_2451_34572.244",
         "properties": {
          "annoangle": 0,
          "annoline1": "Heartland",
          "annoline2": "Village",
          "annoline3": null,
          "bbox": [
           -74.15902208156601,
           40.58913894875281,
           -74.15902208156601,
           40.58913894875281
          ],
          "borough": "Staten Island",
          "name": "Heartland Village",
          "stacked": 2
         },
         "type": "Feature"
        },
        {
         "geometry": {
          "coordinates": [
           -74.1895604551969,
           40.59472602746295
          ],
          "type": "Point"
         },
         "geometry_name": "geom",
         "id": "nyu_2451_34572.245",
         "properties": {
          "annoangle": 0,
          "annoline1": "Chelsea",
          "annoline2": null,
          "annoline3": null,
          "bbox": [
           -74.1895604551969,
           40.59472602746295,
           -74.1895604551969,
           40.59472602746295
          ],
          "borough": "Staten Island",
          "name": "Chelsea",
          "stacked": 1
         },
         "type": "Feature"
        },
        {
         "geometry": {
          "coordinates": [
           -74.18725638381567,
           40.60577868452358
          ],
          "type": "Point"
         },
         "geometry_name": "geom",
         "id": "nyu_2451_34572.246",
         "properties": {
          "annoangle": 0,
          "annoline1": "Bloomfield",
          "annoline2": null,
          "annoline3": null,
          "bbox": [
           -74.18725638381567,
           40.60577868452358,
           -74.18725638381567,
           40.60577868452358
          ],
          "borough": "Staten Island",
          "name": "Bloomfield",
          "stacked": 1
         },
         "type": "Feature"
        },
        {
         "geometry": {
          "coordinates": [
           -74.15940948657122,
           40.6095918004203
          ],
          "type": "Point"
         },
         "geometry_name": "geom",
         "id": "nyu_2451_34572.247",
         "properties": {
          "annoangle": 0,
          "annoline1": "Bulls",
          "annoline2": "Head",
          "annoline3": null,
          "bbox": [
           -74.15940948657122,
           40.6095918004203,
           -74.15940948657122,
           40.6095918004203
          ],
          "borough": "Staten Island",
          "name": "Bulls Head",
          "stacked": 2
         },
         "type": "Feature"
        },
        {
         "geometry": {
          "coordinates": [
           -73.95325646837112,
           40.7826825671257
          ],
          "type": "Point"
         },
         "geometry_name": "geom",
         "id": "nyu_2451_34572.248",
         "properties": {
          "annoangle": 0,
          "annoline1": "Carnegie",
          "annoline2": "Hill",
          "annoline3": null,
          "bbox": [
           -73.95325646837112,
           40.7826825671257,
           -73.95325646837112,
           40.7826825671257
          ],
          "borough": "Manhattan",
          "name": "Carnegie Hill",
          "stacked": 2
         },
         "type": "Feature"
        },
        {
         "geometry": {
          "coordinates": [
           -73.98843368023597,
           40.72325901885768
          ],
          "type": "Point"
         },
         "geometry_name": "geom",
         "id": "nyu_2451_34572.249",
         "properties": {
          "annoangle": 0,
          "annoline1": "Noho",
          "annoline2": null,
          "annoline3": null,
          "bbox": [
           -73.98843368023597,
           40.72325901885768,
           -73.98843368023597,
           40.72325901885768
          ],
          "borough": "Manhattan",
          "name": "Noho",
          "stacked": 1
         },
         "type": "Feature"
        },
        {
         "geometry": {
          "coordinates": [
           -74.00541529873355,
           40.71522892046282
          ],
          "type": "Point"
         },
         "geometry_name": "geom",
         "id": "nyu_2451_34572.250",
         "properties": {
          "annoangle": 0,
          "annoline1": "Civic",
          "annoline2": "Center",
          "annoline3": null,
          "bbox": [
           -74.00541529873355,
           40.71522892046282,
           -74.00541529873355,
           40.71522892046282
          ],
          "borough": "Manhattan",
          "name": "Civic Center",
          "stacked": 2
         },
         "type": "Feature"
        },
        {
         "geometry": {
          "coordinates": [
           -73.98871313285247,
           40.7485096643122
          ],
          "type": "Point"
         },
         "geometry_name": "geom",
         "id": "nyu_2451_34572.251",
         "properties": {
          "annoangle": 0,
          "annoline1": "Midtown",
          "annoline2": "South",
          "annoline3": null,
          "bbox": [
           -73.98871313285247,
           40.7485096643122,
           -73.98871313285247,
           40.7485096643122
          ],
          "borough": "Manhattan",
          "name": "Midtown South",
          "stacked": 2
         },
         "type": "Feature"
        },
        {
         "geometry": {
          "coordinates": [
           -74.1340572986257,
           40.56960594275505
          ],
          "type": "Point"
         },
         "geometry_name": "geom",
         "id": "nyu_2451_34572.252",
         "properties": {
          "annoangle": 0,
          "annoline1": "Richmond",
          "annoline2": "Town",
          "annoline3": null,
          "bbox": [
           -74.1340572986257,
           40.56960594275505,
           -74.1340572986257,
           40.56960594275505
          ],
          "borough": "Staten Island",
          "name": "Richmond Town",
          "stacked": 2
         },
         "type": "Feature"
        },
        {
         "geometry": {
          "coordinates": [
           -74.06667766061771,
           40.60971934079284
          ],
          "type": "Point"
         },
         "geometry_name": "geom",
         "id": "nyu_2451_34572.253",
         "properties": {
          "annoangle": 0,
          "annoline1": "Shore",
          "annoline2": "Acres",
          "annoline3": null,
          "bbox": [
           -74.06667766061771,
           40.60971934079284,
           -74.06667766061771,
           40.60971934079284
          ],
          "borough": "Staten Island",
          "name": "Shore Acres",
          "stacked": 2
         },
         "type": "Feature"
        },
        {
         "geometry": {
          "coordinates": [
           -74.072642445484,
           40.61917845202843
          ],
          "type": "Point"
         },
         "geometry_name": "geom",
         "id": "nyu_2451_34572.254",
         "properties": {
          "annoangle": 0,
          "annoline1": "Clifton",
          "annoline2": null,
          "annoline3": null,
          "bbox": [
           -74.072642445484,
           40.61917845202843,
           -74.072642445484,
           40.61917845202843
          ],
          "borough": "Staten Island",
          "name": "Clifton",
          "stacked": 1
         },
         "type": "Feature"
        },
        {
         "geometry": {
          "coordinates": [
           -74.08402364740358,
           40.6044731896879
          ],
          "type": "Point"
         },
         "geometry_name": "geom",
         "id": "nyu_2451_34572.255",
         "properties": {
          "annoangle": 0,
          "annoline1": "Concord",
          "annoline2": null,
          "annoline3": null,
          "bbox": [
           -74.08402364740358,
           40.6044731896879,
           -74.08402364740358,
           40.6044731896879
          ],
          "borough": "Staten Island",
          "name": "Concord",
          "stacked": 1
         },
         "type": "Feature"
        },
        {
         "geometry": {
          "coordinates": [
           -74.09776206972522,
           40.606794394801
          ],
          "type": "Point"
         },
         "geometry_name": "geom",
         "id": "nyu_2451_34572.256",
         "properties": {
          "annoangle": 0,
          "annoline1": "Emerson",
          "annoline2": "Hill",
          "annoline3": null,
          "bbox": [
           -74.09776206972522,
           40.606794394801,
           -74.09776206972522,
           40.606794394801
          ],
          "borough": "Staten Island",
          "name": "Emerson Hill",
          "stacked": 2
         },
         "type": "Feature"
        },
        {
         "geometry": {
          "coordinates": [
           -74.09805062373887,
           40.63563000681151
          ],
          "type": "Point"
         },
         "geometry_name": "geom",
         "id": "nyu_2451_34572.257",
         "properties": {
          "annoangle": 0,
          "annoline1": "Randall",
          "annoline2": "Manor",
          "annoline3": null,
          "bbox": [
           -74.09805062373887,
           40.63563000681151,
           -74.09805062373887,
           40.63563000681151
          ],
          "borough": "Staten Island",
          "name": "Randall Manor",
          "stacked": 2
         },
         "type": "Feature"
        },
        {
         "geometry": {
          "coordinates": [
           -74.18622331749823,
           40.63843283794795
          ],
          "type": "Point"
         },
         "geometry_name": "geom",
         "id": "nyu_2451_34572.258",
         "properties": {
          "annoangle": 0,
          "annoline1": "Howland",
          "annoline2": "Hook",
          "annoline3": null,
          "bbox": [
           -74.18622331749823,
           40.63843283794795,
           -74.18622331749823,
           40.63843283794795
          ],
          "borough": "Staten Island",
          "name": "Howland Hook",
          "stacked": 2
         },
         "type": "Feature"
        },
        {
         "geometry": {
          "coordinates": [
           -74.1418167896889,
           40.630146741193826
          ],
          "type": "Point"
         },
         "geometry_name": "geom",
         "id": "nyu_2451_34572.259",
         "properties": {
          "annoangle": 0,
          "annoline1": "Elm",
          "annoline2": "Park",
          "annoline3": null,
          "bbox": [
           -74.1418167896889,
           40.630146741193826,
           -74.1418167896889,
           40.630146741193826
          ],
          "borough": "Staten Island",
          "name": "Elm Park",
          "stacked": 2
         },
         "type": "Feature"
        },
        {
         "geometry": {
          "coordinates": [
           -73.91665331978048,
           40.652117451793494
          ],
          "type": "Point"
         },
         "geometry_name": "geom",
         "id": "nyu_2451_34572.260",
         "properties": {
          "annoangle": 0,
          "annoline1": "Remsen",
          "annoline2": "Village",
          "annoline3": null,
          "bbox": [
           -73.91665331978048,
           40.652117451793494,
           -73.91665331978048,
           40.652117451793494
          ],
          "borough": "Brooklyn",
          "name": "Remsen Village",
          "stacked": 2
         },
         "type": "Feature"
        },
        {
         "geometry": {
          "coordinates": [
           -73.88511776379292,
           40.6627442796966
          ],
          "type": "Point"
         },
         "geometry_name": "geom",
         "id": "nyu_2451_34572.261",
         "properties": {
          "annoangle": 0,
          "annoline1": "New",
          "annoline2": "Lots",
          "annoline3": null,
          "bbox": [
           -73.88511776379292,
           40.6627442796966,
           -73.88511776379292,
           40.6627442796966
          ],
          "borough": "Brooklyn",
          "name": "New Lots",
          "stacked": 2
         },
         "type": "Feature"
        },
        {
         "geometry": {
          "coordinates": [
           -73.90233474295836,
           40.63131755039667
          ],
          "type": "Point"
         },
         "geometry_name": "geom",
         "id": "nyu_2451_34572.262",
         "properties": {
          "annoangle": 0,
          "annoline1": "Paerdegat",
          "annoline2": "Basin",
          "annoline3": null,
          "bbox": [
           -73.90233474295836,
           40.63131755039667,
           -73.90233474295836,
           40.63131755039667
          ],
          "borough": "Brooklyn",
          "name": "Paerdegat Basin",
          "stacked": 2
         },
         "type": "Feature"
        },
        {
         "geometry": {
          "coordinates": [
           -73.91515391550404,
           40.61597423962336
          ],
          "type": "Point"
         },
         "geometry_name": "geom",
         "id": "nyu_2451_34572.263",
         "properties": {
          "annoangle": 0,
          "annoline1": "Mill",
          "annoline2": "Basin",
          "annoline3": null,
          "bbox": [
           -73.91515391550404,
           40.61597423962336,
           -73.91515391550404,
           40.61597423962336
          ],
          "borough": "Brooklyn",
          "name": "Mill Basin",
          "stacked": 2
         },
         "type": "Feature"
        },
        {
         "geometry": {
          "coordinates": [
           -73.79646462081593,
           40.71145964370482
          ],
          "type": "Point"
         },
         "geometry_name": "geom",
         "id": "nyu_2451_34572.264",
         "properties": {
          "annoangle": 0,
          "annoline1": "Jamaica",
          "annoline2": "Hills",
          "annoline3": null,
          "bbox": [
           -73.79646462081593,
           40.71145964370482,
           -73.79646462081593,
           40.71145964370482
          ],
          "borough": "Queens",
          "name": "Jamaica Hills",
          "stacked": 2
         },
         "type": "Feature"
        },
        {
         "geometry": {
          "coordinates": [
           -73.79671678028349,
           40.73350025429757
          ],
          "type": "Point"
         },
         "geometry_name": "geom",
         "id": "nyu_2451_34572.265",
         "properties": {
          "annoangle": 0,
          "annoline1": "Utopia",
          "annoline2": null,
          "annoline3": null,
          "bbox": [
           -73.79671678028349,
           40.73350025429757,
           -73.79671678028349,
           40.73350025429757
          ],
          "borough": "Queens",
          "name": "Utopia",
          "stacked": 1
         },
         "type": "Feature"
        },
        {
         "geometry": {
          "coordinates": [
           -73.80486120040537,
           40.73493618075478
          ],
          "type": "Point"
         },
         "geometry_name": "geom",
         "id": "nyu_2451_34572.266",
         "properties": {
          "annoangle": 0,
          "annoline1": "Pomonok",
          "annoline2": null,
          "annoline3": null,
          "bbox": [
           -73.80486120040537,
           40.73493618075478,
           -73.80486120040537,
           40.73493618075478
          ],
          "borough": "Queens",
          "name": "Pomonok",
          "stacked": 1
         },
         "type": "Feature"
        },
        {
         "geometry": {
          "coordinates": [
           -73.89467996270574,
           40.7703173929982
          ],
          "type": "Point"
         },
         "geometry_name": "geom",
         "id": "nyu_2451_34572.267",
         "properties": {
          "annoangle": 0,
          "annoline1": "Astoria",
          "annoline2": "Heights",
          "annoline3": null,
          "bbox": [
           -73.89467996270574,
           40.7703173929982,
           -73.89467996270574,
           40.7703173929982
          ],
          "borough": "Queens",
          "name": "Astoria Heights",
          "stacked": 2
         },
         "type": "Feature"
        },
        {
         "geometry": {
          "coordinates": [
           -73.90119903387667,
           40.83142834161548
          ],
          "type": "Point"
         },
         "geometry_name": "geom",
         "id": "nyu_2451_34572.268",
         "properties": {
          "annoangle": 0,
          "annoline1": "Claremont",
          "annoline2": "Village",
          "annoline3": null,
          "bbox": [
           -73.90119903387667,
           40.83142834161548,
           -73.90119903387667,
           40.83142834161548
          ],
          "borough": "Bronx",
          "name": "Claremont Village",
          "stacked": 2
         },
         "type": "Feature"
        },
        {
         "geometry": {
          "coordinates": [
           -73.91584652759009,
           40.824780490842905
          ],
          "type": "Point"
         },
         "geometry_name": "geom",
         "id": "nyu_2451_34572.269",
         "properties": {
          "annoangle": 0,
          "annoline1": "Concourse",
          "annoline2": "Village",
          "annoline3": null,
          "bbox": [
           -73.91584652759009,
           40.824780490842905,
           -73.91584652759009,
           40.824780490842905
          ],
          "borough": "Bronx",
          "name": "Concourse Village",
          "stacked": 2
         },
         "type": "Feature"
        },
        {
         "geometry": {
          "coordinates": [
           -73.91655551964419,
           40.84382617671654
          ],
          "type": "Point"
         },
         "geometry_name": "geom",
         "id": "nyu_2451_34572.270",
         "properties": {
          "annoangle": 0,
          "annoline1": "Mount",
          "annoline2": "Eden",
          "annoline3": null,
          "bbox": [
           -73.91655551964419,
           40.84382617671654,
           -73.91655551964419,
           40.84382617671654
          ],
          "borough": "Bronx",
          "name": "Mount Eden",
          "stacked": 2
         },
         "type": "Feature"
        },
        {
         "geometry": {
          "coordinates": [
           -73.90829930881988,
           40.84884160724665
          ],
          "type": "Point"
         },
         "geometry_name": "geom",
         "id": "nyu_2451_34572.271",
         "properties": {
          "annoangle": 0,
          "annoline1": "Mount",
          "annoline2": "Hope",
          "annoline3": null,
          "bbox": [
           -73.90829930881988,
           40.84884160724665,
           -73.90829930881988,
           40.84884160724665
          ],
          "borough": "Bronx",
          "name": "Mount Hope",
          "stacked": 2
         },
         "type": "Feature"
        },
        {
         "geometry": {
          "coordinates": [
           -73.96355614094303,
           40.76028033131374
          ],
          "type": "Point"
         },
         "geometry_name": "geom",
         "id": "nyu_2451_34572.272",
         "properties": {
          "annoangle": 0,
          "annoline1": "Sutton",
          "annoline2": "Place",
          "annoline3": null,
          "bbox": [
           -73.96355614094303,
           40.76028033131374,
           -73.96355614094303,
           40.76028033131374
          ],
          "borough": "Manhattan",
          "name": "Sutton Place",
          "stacked": 2
         },
         "type": "Feature"
        },
        {
         "geometry": {
          "coordinates": [
           -73.95386782130745,
           40.743414090073536
          ],
          "type": "Point"
         },
         "geometry_name": "geom",
         "id": "nyu_2451_34572.273",
         "properties": {
          "annoangle": 0,
          "annoline1": "Hunters",
          "annoline2": "Point",
          "annoline3": null,
          "bbox": [
           -73.95386782130745,
           40.743414090073536,
           -73.95386782130745,
           40.743414090073536
          ],
          "borough": "Queens",
          "name": "Hunters Point",
          "stacked": 2
         },
         "type": "Feature"
        },
        {
         "geometry": {
          "coordinates": [
           -73.96770824581834,
           40.75204236950722
          ],
          "type": "Point"
         },
         "geometry_name": "geom",
         "id": "nyu_2451_34572.274",
         "properties": {
          "annoangle": 0,
          "annoline1": "Turtle",
          "annoline2": "Bay",
          "annoline3": null,
          "bbox": [
           -73.96770824581834,
           40.75204236950722,
           -73.96770824581834,
           40.75204236950722
          ],
          "borough": "Manhattan",
          "name": "Turtle Bay",
          "stacked": 2
         },
         "type": "Feature"
        },
        {
         "geometry": {
          "coordinates": [
           -73.97121928722265,
           40.746917410740195
          ],
          "type": "Point"
         },
         "geometry_name": "geom",
         "id": "nyu_2451_34572.275",
         "properties": {
          "annoangle": 0,
          "annoline1": "Tudor",
          "annoline2": "City",
          "annoline3": null,
          "bbox": [
           -73.97121928722265,
           40.746917410740195,
           -73.97121928722265,
           40.746917410740195
          ],
          "borough": "Manhattan",
          "name": "Tudor City",
          "stacked": 2
         },
         "type": "Feature"
        },
        {
         "geometry": {
          "coordinates": [
           -73.97405170469203,
           40.73099955477061
          ],
          "type": "Point"
         },
         "geometry_name": "geom",
         "id": "nyu_2451_34572.276",
         "properties": {
          "annoangle": 0,
          "annoline1": "Stuyvesant",
          "annoline2": "Town",
          "annoline3": null,
          "bbox": [
           -73.97405170469203,
           40.73099955477061,
           -73.97405170469203,
           40.73099955477061
          ],
          "borough": "Manhattan",
          "name": "Stuyvesant Town",
          "stacked": 2
         },
         "type": "Feature"
        },
        {
         "geometry": {
          "coordinates": [
           -73.9909471052826,
           40.739673047638426
          ],
          "type": "Point"
         },
         "geometry_name": "geom",
         "id": "nyu_2451_34572.277",
         "properties": {
          "annoangle": 0,
          "annoline1": "Flatiron",
          "annoline2": null,
          "annoline3": null,
          "bbox": [
           -73.9909471052826,
           40.739673047638426,
           -73.9909471052826,
           40.739673047638426
          ],
          "borough": "Manhattan",
          "name": "Flatiron",
          "stacked": 1
         },
         "type": "Feature"
        },
        {
         "geometry": {
          "coordinates": [
           -73.91819286431682,
           40.74565180608076
          ],
          "type": "Point"
         },
         "geometry_name": "geom",
         "id": "nyu_2451_34572.278",
         "properties": {
          "annoangle": 0,
          "annoline1": "Sunnyside",
          "annoline2": "Gardens",
          "annoline3": null,
          "bbox": [
           -73.91819286431682,
           40.74565180608076,
           -73.91819286431682,
           40.74565180608076
          ],
          "borough": "Queens",
          "name": "Sunnyside Gardens",
          "stacked": 2
         },
         "type": "Feature"
        },
        {
         "geometry": {
          "coordinates": [
           -73.93244235260178,
           40.73725071694497
          ],
          "type": "Point"
         },
         "geometry_name": "geom",
         "id": "nyu_2451_34572.279",
         "properties": {
          "annoangle": 0,
          "annoline1": "Blissville",
          "annoline2": null,
          "annoline3": null,
          "bbox": [
           -73.93244235260178,
           40.73725071694497,
           -73.93244235260178,
           40.73725071694497
          ],
          "borough": "Queens",
          "name": "Blissville",
          "stacked": 1
         },
         "type": "Feature"
        },
        {
         "geometry": {
          "coordinates": [
           -73.99550751888415,
           40.70328109093014
          ],
          "type": "Point"
         },
         "geometry_name": "geom",
         "id": "nyu_2451_34572.280",
         "properties": {
          "annoangle": 0,
          "annoline1": "Fulton",
          "annoline2": "Ferry",
          "annoline3": null,
          "bbox": [
           -73.99550751888415,
           40.70328109093014,
           -73.99550751888415,
           40.70328109093014
          ],
          "borough": "Brooklyn",
          "name": "Fulton Ferry",
          "stacked": 2
         },
         "type": "Feature"
        },
        {
         "geometry": {
          "coordinates": [
           -73.98111603592393,
           40.70332149882874
          ],
          "type": "Point"
         },
         "geometry_name": "geom",
         "id": "nyu_2451_34572.281",
         "properties": {
          "annoangle": 0,
          "annoline1": "Vinegar",
          "annoline2": "Hill",
          "annoline3": null,
          "bbox": [
           -73.98111603592393,
           40.70332149882874,
           -73.98111603592393,
           40.70332149882874
          ],
          "borough": "Brooklyn",
          "name": "Vinegar Hill",
          "stacked": 2
         },
         "type": "Feature"
        },
        {
         "geometry": {
          "coordinates": [
           -73.93053108817338,
           40.67503986503237
          ],
          "type": "Point"
         },
         "geometry_name": "geom",
         "id": "nyu_2451_34572.282",
         "properties": {
          "annoangle": 0,
          "annoline1": "Weeksville",
          "annoline2": null,
          "annoline3": null,
          "bbox": [
           -73.93053108817338,
           40.67503986503237,
           -73.93053108817338,
           40.67503986503237
          ],
          "borough": "Brooklyn",
          "name": "Weeksville",
          "stacked": 1
         },
         "type": "Feature"
        },
        {
         "geometry": {
          "coordinates": [
           -73.90331684852599,
           40.67786104769531
          ],
          "type": "Point"
         },
         "geometry_name": "geom",
         "id": "nyu_2451_34572.283",
         "properties": {
          "annoangle": 0,
          "annoline1": "Broadway",
          "annoline2": "Junction",
          "annoline3": null,
          "bbox": [
           -73.90331684852599,
           40.67786104769531,
           -73.90331684852599,
           40.67786104769531
          ],
          "borough": "Brooklyn",
          "name": "Broadway Junction",
          "stacked": 2
         },
         "type": "Feature"
        },
        {
         "geometry": {
          "coordinates": [
           -73.9887528074504,
           40.70317632822692
          ],
          "type": "Point"
         },
         "geometry_name": "geom",
         "id": "nyu_2451_34572.284",
         "properties": {
          "annoangle": 0,
          "annoline1": "Dumbo",
          "annoline2": null,
          "annoline3": null,
          "bbox": [
           -73.9887528074504,
           40.70317632822692,
           -73.9887528074504,
           40.70317632822692
          ],
          "borough": "Brooklyn",
          "name": "Dumbo",
          "stacked": 1
         },
         "type": "Feature"
        },
        {
         "geometry": {
          "coordinates": [
           -74.12059399718001,
           40.60180957631444
          ],
          "type": "Point"
         },
         "geometry_name": "geom",
         "id": "nyu_2451_34572.285",
         "properties": {
          "annoangle": 0,
          "annoline1": "Manor",
          "annoline2": "Heights",
          "annoline3": null,
          "bbox": [
           -74.12059399718001,
           40.60180957631444,
           -74.12059399718001,
           40.60180957631444
          ],
          "borough": "Staten Island",
          "name": "Manor Heights",
          "stacked": 2
         },
         "type": "Feature"
        },
        {
         "geometry": {
          "coordinates": [
           -74.13208447484298,
           40.60370692627371
          ],
          "type": "Point"
         },
         "geometry_name": "geom",
         "id": "nyu_2451_34572.286",
         "properties": {
          "annoangle": 0,
          "annoline1": "Willowbrook",
          "annoline2": null,
          "annoline3": null,
          "bbox": [
           -74.13208447484298,
           40.60370692627371,
           -74.13208447484298,
           40.60370692627371
          ],
          "borough": "Staten Island",
          "name": "Willowbrook",
          "stacked": 1
         },
         "type": "Feature"
        },
        {
         "geometry": {
          "coordinates": [
           -74.21776636068567,
           40.541139922091766
          ],
          "type": "Point"
         },
         "geometry_name": "geom",
         "id": "nyu_2451_34572.287",
         "properties": {
          "annoangle": 0,
          "annoline1": "Sandy",
          "annoline2": "Ground",
          "annoline3": null,
          "bbox": [
           -74.21776636068567,
           40.541139922091766,
           -74.21776636068567,
           40.541139922091766
          ],
          "borough": "Staten Island",
          "name": "Sandy Ground",
          "stacked": 2
         },
         "type": "Feature"
        },
        {
         "geometry": {
          "coordinates": [
           -74.12727240604946,
           40.579118742961214
          ],
          "type": "Point"
         },
         "geometry_name": "geom",
         "id": "nyu_2451_34572.288",
         "properties": {
          "annoangle": 0,
          "annoline1": "Egbertville",
          "annoline2": null,
          "annoline3": null,
          "bbox": [
           -74.12727240604946,
           40.579118742961214,
           -74.12727240604946,
           40.579118742961214
          ],
          "borough": "Staten Island",
          "name": "Egbertville",
          "stacked": 1
         },
         "type": "Feature"
        },
        {
         "geometry": {
          "coordinates": [
           -73.89213760232822,
           40.56737588957032
          ],
          "type": "Point"
         },
         "geometry_name": "geom",
         "id": "nyu_2451_34572.289",
         "properties": {
          "annoangle": 0,
          "annoline1": "Roxbury",
          "annoline2": null,
          "annoline3": null,
          "bbox": [
           -73.89213760232822,
           40.56737588957032,
           -73.89213760232822,
           40.56737588957032
          ],
          "borough": "Queens",
          "name": "Roxbury",
          "stacked": 1
         },
         "type": "Feature"
        },
        {
         "geometry": {
          "coordinates": [
           -73.95918459428702,
           40.598525095137255
          ],
          "type": "Point"
         },
         "geometry_name": "geom",
         "id": "nyu_2451_34572.290",
         "properties": {
          "annoangle": 0,
          "annoline1": "Homecrest",
          "annoline2": null,
          "annoline3": null,
          "bbox": [
           -73.95918459428702,
           40.598525095137255,
           -73.95918459428702,
           40.598525095137255
          ],
          "borough": "Brooklyn",
          "name": "Homecrest",
          "stacked": 1
         },
         "type": "Feature"
        },
        {
         "geometry": {
          "coordinates": [
           -73.88114319200604,
           40.716414511158185
          ],
          "type": "Point"
         },
         "geometry_name": "geom",
         "id": "nyu_2451_34572.291",
         "properties": {
          "annoangle": 0,
          "annoline1": "Middle",
          "annoline2": "Village",
          "annoline3": null,
          "bbox": [
           -73.88114319200604,
           40.716414511158185,
           -73.88114319200604,
           40.716414511158185
          ],
          "borough": "Queens",
          "name": "Middle Village",
          "stacked": 2
         },
         "type": "Feature"
        },
        {
         "geometry": {
          "coordinates": [
           -74.20152556457658,
           40.52626406734812
          ],
          "type": "Point"
         },
         "geometry_name": "geom",
         "id": "nyu_2451_34572.292",
         "properties": {
          "annoangle": 0,
          "annoline1": "Prince's",
          "annoline2": "Bay",
          "annoline3": null,
          "bbox": [
           -74.20152556457658,
           40.52626406734812,
           -74.20152556457658,
           40.52626406734812
          ],
          "borough": "Staten Island",
          "name": "Prince's Bay",
          "stacked": 2
         },
         "type": "Feature"
        },
        {
         "geometry": {
          "coordinates": [
           -74.13792663771568,
           40.57650629379489
          ],
          "type": "Point"
         },
         "geometry_name": "geom",
         "id": "nyu_2451_34572.293",
         "properties": {
          "annoangle": 0,
          "annoline1": "Lighthouse",
          "annoline2": "Hill",
          "annoline3": null,
          "bbox": [
           -74.13792663771568,
           40.57650629379489,
           -74.13792663771568,
           40.57650629379489
          ],
          "borough": "Staten Island",
          "name": "Lighthouse Hill",
          "stacked": 2
         },
         "type": "Feature"
        },
        {
         "geometry": {
          "coordinates": [
           -74.22957080626941,
           40.51954145748909
          ],
          "type": "Point"
         },
         "geometry_name": "geom",
         "id": "nyu_2451_34572.294",
         "properties": {
          "annoangle": 0,
          "annoline1": "Richmond",
          "annoline2": "Valley",
          "annoline3": null,
          "bbox": [
           -74.22957080626941,
           40.51954145748909,
           -74.22957080626941,
           40.51954145748909
          ],
          "borough": "Staten Island",
          "name": "Richmond Valley",
          "stacked": 2
         },
         "type": "Feature"
        },
        {
         "geometry": {
          "coordinates": [
           -73.82667757138641,
           40.79060155670148
          ],
          "type": "Point"
         },
         "geometry_name": "geom",
         "id": "nyu_2451_34572.295",
         "properties": {
          "annoangle": 0,
          "annoline1": "Malba",
          "annoline2": null,
          "annoline3": null,
          "bbox": [
           -73.82667757138641,
           40.79060155670148,
           -73.82667757138641,
           40.79060155670148
          ],
          "borough": "Queens",
          "name": "Malba",
          "stacked": 1
         },
         "type": "Feature"
        },
        {
         "geometry": {
          "coordinates": [
           -73.890345709872,
           40.6819989345173
          ],
          "type": "Point"
         },
         "geometry_name": "geom",
         "id": "nyu_2451_34572.296",
         "properties": {
          "annoangle": 0,
          "annoline1": "Highland",
          "annoline2": "Park",
          "annoline3": null,
          "bbox": [
           -73.890345709872,
           40.6819989345173,
           -73.890345709872,
           40.6819989345173
          ],
          "borough": "Brooklyn",
          "name": "Highland Park",
          "stacked": 2
         },
         "type": "Feature"
        },
        {
         "geometry": {
          "coordinates": [
           -73.94841515328893,
           40.60937770113766
          ],
          "type": "Point"
         },
         "geometry_name": "geom",
         "id": "nyu_2451_34572.297",
         "properties": {
          "annoangle": 0,
          "annoline1": "Madison",
          "annoline2": null,
          "annoline3": null,
          "bbox": [
           -73.94841515328893,
           40.60937770113766,
           -73.94841515328893,
           40.60937770113766
          ],
          "borough": "Brooklyn",
          "name": "Madison",
          "stacked": 1
         },
         "type": "Feature"
        },
        {
         "geometry": {
          "coordinates": [
           -73.86172577555115,
           40.85272297633017
          ],
          "type": "Point"
         },
         "geometry_name": "geom",
         "id": "nyu_2451_34572.298",
         "properties": {
          "annoangle": 0,
          "annoline1": "Bronxdale",
          "annoline2": null,
          "annoline3": null,
          "bbox": [
           -73.86172577555115,
           40.85272297633017,
           -73.86172577555115,
           40.85272297633017
          ],
          "borough": "Bronx",
          "name": "Bronxdale",
          "stacked": 1
         },
         "type": "Feature"
        },
        {
         "geometry": {
          "coordinates": [
           -73.85931863221647,
           40.86578787802982
          ],
          "type": "Point"
         },
         "geometry_name": "geom",
         "id": "nyu_2451_34572.299",
         "properties": {
          "annoangle": 0,
          "annoline1": "Allerton",
          "annoline2": null,
          "annoline3": null,
          "bbox": [
           -73.85931863221647,
           40.86578787802982,
           -73.85931863221647,
           40.86578787802982
          ],
          "borough": "Bronx",
          "name": "Allerton",
          "stacked": 1
         },
         "type": "Feature"
        },
        {
         "geometry": {
          "coordinates": [
           -73.90152264513144,
           40.8703923914147
          ],
          "type": "Point"
         },
         "geometry_name": "geom",
         "id": "nyu_2451_34572.300",
         "properties": {
          "annoangle": 0,
          "annoline1": "Kingsbridge",
          "annoline2": "Heights",
          "annoline3": null,
          "bbox": [
           -73.90152264513144,
           40.8703923914147,
           -73.90152264513144,
           40.8703923914147
          ],
          "borough": "Bronx",
          "name": "Kingsbridge Heights",
          "stacked": 2
         },
         "type": "Feature"
        },
        {
         "geometry": {
          "coordinates": [
           -73.94817709920184,
           40.64692606658579
          ],
          "type": "Point"
         },
         "geometry_name": "geom",
         "id": "nyu_2451_34572.301",
         "properties": {
          "annoangle": 0,
          "annoline1": "Erasmus",
          "annoline2": null,
          "annoline3": null,
          "bbox": [
           -73.94817709920184,
           40.64692606658579,
           -73.94817709920184,
           40.64692606658579
          ],
          "borough": "Brooklyn",
          "name": "Erasmus",
          "stacked": 1
         },
         "type": "Feature"
        },
        {
         "geometry": {
          "coordinates": [
           -74.00011136202637,
           40.75665808227519
          ],
          "type": "Point"
         },
         "geometry_name": "geom",
         "id": "nyu_2451_34572.302",
         "properties": {
          "annoangle": 0,
          "annoline1": "Hudson",
          "annoline2": "Yards",
          "annoline3": null,
          "bbox": [
           -74.00011136202637,
           40.75665808227519,
           -74.00011136202637,
           40.75665808227519
          ],
          "borough": "Manhattan",
          "name": "Hudson Yards",
          "stacked": 2
         },
         "type": "Feature"
        },
        {
         "geometry": {
          "coordinates": [
           -73.80553002968718,
           40.58733774018741
          ],
          "type": "Point"
         },
         "geometry_name": "geom",
         "id": "nyu_2451_34572.303",
         "properties": {
          "annoangle": 0,
          "annoline1": "Hammels",
          "annoline2": null,
          "annoline3": null,
          "bbox": [
           -73.80553002968718,
           40.58733774018741,
           -73.80553002968718,
           40.58733774018741
          ],
          "borough": "Queens",
          "name": "Hammels",
          "stacked": 1
         },
         "type": "Feature"
        },
        {
         "geometry": {
          "coordinates": [
           -73.76596781445627,
           40.611321691283834
          ],
          "type": "Point"
         },
         "geometry_name": "geom",
         "id": "nyu_2451_34572.304",
         "properties": {
          "annoangle": 0,
          "annoline1": "Bayswater",
          "annoline2": null,
          "annoline3": null,
          "bbox": [
           -73.76596781445627,
           40.611321691283834,
           -73.76596781445627,
           40.611321691283834
          ],
          "borough": "Queens",
          "name": "Bayswater",
          "stacked": 1
         },
         "type": "Feature"
        },
        {
         "geometry": {
          "coordinates": [
           -73.94563070334091,
           40.756091297094706
          ],
          "type": "Point"
         },
         "geometry_name": "geom",
         "id": "nyu_2451_34572.305",
         "properties": {
          "annoangle": 0,
          "annoline1": "Queensbridge",
          "annoline2": null,
          "annoline3": null,
          "bbox": [
           -73.94563070334091,
           40.756091297094706,
           -73.94563070334091,
           40.756091297094706
          ],
          "borough": "Queens",
          "name": "Queensbridge",
          "stacked": 1
         },
         "type": "Feature"
        },
        {
         "geometry": {
          "coordinates": [
           -74.08173992211962,
           40.61731079252983
          ],
          "type": "Point"
         },
         "geometry_name": "geom",
         "id": "nyu_2451_34572.306",
         "properties": {
          "annoangle": 0,
          "annoline1": "Fox",
          "annoline2": "Hills",
          "annoline3": null,
          "bbox": [
           -74.08173992211962,
           40.61731079252983,
           -74.08173992211962,
           40.61731079252983
          ],
          "borough": "Staten Island",
          "name": "Fox Hills",
          "stacked": 2
         },
         "type": "Feature"
        }
       ],
       "totalFeatures": 306,
       "type": "FeatureCollection"
      },
      "text/plain": [
       "<IPython.core.display.JSON object>"
      ]
     },
     "execution_count": 10,
     "metadata": {
      "application/json": {
       "expanded": false,
       "root": "root"
      }
     },
     "output_type": "execute_result"
    }
   ],
   "source": [
    "JSON(data)"
   ]
  },
  {
   "cell_type": "code",
   "execution_count": 11,
   "metadata": {},
   "outputs": [
    {
     "data": {
      "text/html": [
       "<div>\n",
       "<style scoped>\n",
       "    .dataframe tbody tr th:only-of-type {\n",
       "        vertical-align: middle;\n",
       "    }\n",
       "\n",
       "    .dataframe tbody tr th {\n",
       "        vertical-align: top;\n",
       "    }\n",
       "\n",
       "    .dataframe thead th {\n",
       "        text-align: right;\n",
       "    }\n",
       "</style>\n",
       "<table border=\"1\" class=\"dataframe\">\n",
       "  <thead>\n",
       "    <tr style=\"text-align: right;\">\n",
       "      <th></th>\n",
       "      <th>borough</th>\n",
       "      <th>neighborhood</th>\n",
       "      <th>latitude</th>\n",
       "      <th>longitude</th>\n",
       "    </tr>\n",
       "  </thead>\n",
       "  <tbody>\n",
       "    <tr>\n",
       "      <th>0</th>\n",
       "      <td>Bronx</td>\n",
       "      <td>Wakefield</td>\n",
       "      <td>40.894705</td>\n",
       "      <td>-73.847201</td>\n",
       "    </tr>\n",
       "    <tr>\n",
       "      <th>1</th>\n",
       "      <td>Bronx</td>\n",
       "      <td>Co-op City</td>\n",
       "      <td>40.874294</td>\n",
       "      <td>-73.829939</td>\n",
       "    </tr>\n",
       "    <tr>\n",
       "      <th>2</th>\n",
       "      <td>Bronx</td>\n",
       "      <td>Eastchester</td>\n",
       "      <td>40.887556</td>\n",
       "      <td>-73.827806</td>\n",
       "    </tr>\n",
       "    <tr>\n",
       "      <th>3</th>\n",
       "      <td>Bronx</td>\n",
       "      <td>Fieldston</td>\n",
       "      <td>40.895437</td>\n",
       "      <td>-73.905643</td>\n",
       "    </tr>\n",
       "    <tr>\n",
       "      <th>4</th>\n",
       "      <td>Bronx</td>\n",
       "      <td>Riverdale</td>\n",
       "      <td>40.890834</td>\n",
       "      <td>-73.912585</td>\n",
       "    </tr>\n",
       "    <tr>\n",
       "      <th>...</th>\n",
       "      <td>...</td>\n",
       "      <td>...</td>\n",
       "      <td>...</td>\n",
       "      <td>...</td>\n",
       "    </tr>\n",
       "    <tr>\n",
       "      <th>301</th>\n",
       "      <td>Manhattan</td>\n",
       "      <td>Hudson Yards</td>\n",
       "      <td>40.756658</td>\n",
       "      <td>-74.000111</td>\n",
       "    </tr>\n",
       "    <tr>\n",
       "      <th>302</th>\n",
       "      <td>Queens</td>\n",
       "      <td>Hammels</td>\n",
       "      <td>40.587338</td>\n",
       "      <td>-73.805530</td>\n",
       "    </tr>\n",
       "    <tr>\n",
       "      <th>303</th>\n",
       "      <td>Queens</td>\n",
       "      <td>Bayswater</td>\n",
       "      <td>40.611322</td>\n",
       "      <td>-73.765968</td>\n",
       "    </tr>\n",
       "    <tr>\n",
       "      <th>304</th>\n",
       "      <td>Queens</td>\n",
       "      <td>Queensbridge</td>\n",
       "      <td>40.756091</td>\n",
       "      <td>-73.945631</td>\n",
       "    </tr>\n",
       "    <tr>\n",
       "      <th>305</th>\n",
       "      <td>Staten Island</td>\n",
       "      <td>Fox Hills</td>\n",
       "      <td>40.617311</td>\n",
       "      <td>-74.081740</td>\n",
       "    </tr>\n",
       "  </tbody>\n",
       "</table>\n",
       "<p>306 rows × 4 columns</p>\n",
       "</div>"
      ],
      "text/plain": [
       "           borough  neighborhood   latitude  longitude\n",
       "0            Bronx     Wakefield  40.894705 -73.847201\n",
       "1            Bronx    Co-op City  40.874294 -73.829939\n",
       "2            Bronx   Eastchester  40.887556 -73.827806\n",
       "3            Bronx     Fieldston  40.895437 -73.905643\n",
       "4            Bronx     Riverdale  40.890834 -73.912585\n",
       "..             ...           ...        ...        ...\n",
       "301      Manhattan  Hudson Yards  40.756658 -74.000111\n",
       "302         Queens       Hammels  40.587338 -73.805530\n",
       "303         Queens     Bayswater  40.611322 -73.765968\n",
       "304         Queens  Queensbridge  40.756091 -73.945631\n",
       "305  Staten Island     Fox Hills  40.617311 -74.081740\n",
       "\n",
       "[306 rows x 4 columns]"
      ]
     },
     "execution_count": 11,
     "metadata": {},
     "output_type": "execute_result"
    }
   ],
   "source": [
    "df"
   ]
  },
  {
   "cell_type": "code",
   "execution_count": 12,
   "metadata": {},
   "outputs": [
    {
     "name": "stdout",
     "output_type": "stream",
     "text": [
      "<class 'pandas.core.frame.DataFrame'>\n",
      "RangeIndex: 306 entries, 0 to 305\n",
      "Data columns (total 4 columns):\n",
      " #   Column        Non-Null Count  Dtype  \n",
      "---  ------        --------------  -----  \n",
      " 0   borough       306 non-null    object \n",
      " 1   neighborhood  306 non-null    object \n",
      " 2   latitude      306 non-null    float64\n",
      " 3   longitude     306 non-null    float64\n",
      "dtypes: float64(2), object(2)\n",
      "memory usage: 9.7+ KB\n"
     ]
    }
   ],
   "source": [
    "df.info()"
   ]
  },
  {
   "cell_type": "code",
   "execution_count": 13,
   "metadata": {},
   "outputs": [
    {
     "data": {
      "text/html": [
       "<div>\n",
       "<style scoped>\n",
       "    .dataframe tbody tr th:only-of-type {\n",
       "        vertical-align: middle;\n",
       "    }\n",
       "\n",
       "    .dataframe tbody tr th {\n",
       "        vertical-align: top;\n",
       "    }\n",
       "\n",
       "    .dataframe thead th {\n",
       "        text-align: right;\n",
       "    }\n",
       "</style>\n",
       "<table border=\"1\" class=\"dataframe\">\n",
       "  <thead>\n",
       "    <tr style=\"text-align: right;\">\n",
       "      <th></th>\n",
       "      <th>latitude</th>\n",
       "      <th>longitude</th>\n",
       "    </tr>\n",
       "  </thead>\n",
       "  <tbody>\n",
       "    <tr>\n",
       "      <th>count</th>\n",
       "      <td>306.000000</td>\n",
       "      <td>306.000000</td>\n",
       "    </tr>\n",
       "    <tr>\n",
       "      <th>mean</th>\n",
       "      <td>40.701362</td>\n",
       "      <td>-73.946254</td>\n",
       "    </tr>\n",
       "    <tr>\n",
       "      <th>std</th>\n",
       "      <td>0.097498</td>\n",
       "      <td>0.121202</td>\n",
       "    </tr>\n",
       "    <tr>\n",
       "      <th>min</th>\n",
       "      <td>40.505334</td>\n",
       "      <td>-74.246569</td>\n",
       "    </tr>\n",
       "    <tr>\n",
       "      <th>25%</th>\n",
       "      <td>40.617778</td>\n",
       "      <td>-74.000062</td>\n",
       "    </tr>\n",
       "    <tr>\n",
       "      <th>50%</th>\n",
       "      <td>40.702969</td>\n",
       "      <td>-73.932009</td>\n",
       "    </tr>\n",
       "    <tr>\n",
       "      <th>75%</th>\n",
       "      <td>40.766645</td>\n",
       "      <td>-73.857525</td>\n",
       "    </tr>\n",
       "    <tr>\n",
       "      <th>max</th>\n",
       "      <td>40.908543</td>\n",
       "      <td>-73.708847</td>\n",
       "    </tr>\n",
       "  </tbody>\n",
       "</table>\n",
       "</div>"
      ],
      "text/plain": [
       "         latitude   longitude\n",
       "count  306.000000  306.000000\n",
       "mean    40.701362  -73.946254\n",
       "std      0.097498    0.121202\n",
       "min     40.505334  -74.246569\n",
       "25%     40.617778  -74.000062\n",
       "50%     40.702969  -73.932009\n",
       "75%     40.766645  -73.857525\n",
       "max     40.908543  -73.708847"
      ]
     },
     "execution_count": 13,
     "metadata": {},
     "output_type": "execute_result"
    }
   ],
   "source": [
    "df.describe()"
   ]
  },
  {
   "cell_type": "code",
   "execution_count": 21,
   "metadata": {},
   "outputs": [
    {
     "name": "stdout",
     "output_type": "stream",
     "text": [
      "The geograpical coordinate of New York City are 40.7127281, -74.0060152.\n"
     ]
    }
   ],
   "source": [
    "address = 'New York City, NY'\n",
    "location = None\n",
    "\n",
    "# define an instance of the geocoder -> ny_explorer\n",
    "while location == None:\n",
    "    try:\n",
    "        geolocator = Nominatim(user_agent=\"ny_explorer\")\n",
    "        location = geolocator.geocode(address)\n",
    "        latitude = location.latitude\n",
    "        longitude = location.longitude\n",
    "    except:\n",
    "        pass\n",
    "print('The geograpical coordinate of New York City are {}, {}.'.format(latitude, longitude))\n"
   ]
  },
  {
   "cell_type": "code",
   "execution_count": 23,
   "metadata": {},
   "outputs": [
    {
     "data": {
      "text/html": [
       "<div style=\"width:100%;\"><div style=\"position:relative;width:100%;height:0;padding-bottom:60%;\"><span style=\"color:#565656\">Make this Notebook Trusted to load map: File -> Trust Notebook</span><iframe src=\"about:blank\" style=\"position:absolute;width:100%;height:100%;left:0;top:0;border:none !important;\" data-html=%3C%21DOCTYPE%20html%3E%0A%3Chead%3E%20%20%20%20%0A%20%20%20%20%3Cmeta%20http-equiv%3D%22content-type%22%20content%3D%22text/html%3B%20charset%3DUTF-8%22%20/%3E%0A%20%20%20%20%0A%20%20%20%20%20%20%20%20%3Cscript%3E%0A%20%20%20%20%20%20%20%20%20%20%20%20L_NO_TOUCH%20%3D%20false%3B%0A%20%20%20%20%20%20%20%20%20%20%20%20L_DISABLE_3D%20%3D%20false%3B%0A%20%20%20%20%20%20%20%20%3C/script%3E%0A%20%20%20%20%0A%20%20%20%20%3Cstyle%3Ehtml%2C%20body%20%7Bwidth%3A%20100%25%3Bheight%3A%20100%25%3Bmargin%3A%200%3Bpadding%3A%200%3B%7D%3C/style%3E%0A%20%20%20%20%3Cstyle%3E%23map%20%7Bposition%3Aabsolute%3Btop%3A0%3Bbottom%3A0%3Bright%3A0%3Bleft%3A0%3B%7D%3C/style%3E%0A%20%20%20%20%3Cscript%20src%3D%22https%3A//cdn.jsdelivr.net/npm/leaflet%401.6.0/dist/leaflet.js%22%3E%3C/script%3E%0A%20%20%20%20%3Cscript%20src%3D%22https%3A//code.jquery.com/jquery-1.12.4.min.js%22%3E%3C/script%3E%0A%20%20%20%20%3Cscript%20src%3D%22https%3A//maxcdn.bootstrapcdn.com/bootstrap/3.2.0/js/bootstrap.min.js%22%3E%3C/script%3E%0A%20%20%20%20%3Cscript%20src%3D%22https%3A//cdnjs.cloudflare.com/ajax/libs/Leaflet.awesome-markers/2.0.2/leaflet.awesome-markers.js%22%3E%3C/script%3E%0A%20%20%20%20%3Clink%20rel%3D%22stylesheet%22%20href%3D%22https%3A//cdn.jsdelivr.net/npm/leaflet%401.6.0/dist/leaflet.css%22/%3E%0A%20%20%20%20%3Clink%20rel%3D%22stylesheet%22%20href%3D%22https%3A//maxcdn.bootstrapcdn.com/bootstrap/3.2.0/css/bootstrap.min.css%22/%3E%0A%20%20%20%20%3Clink%20rel%3D%22stylesheet%22%20href%3D%22https%3A//maxcdn.bootstrapcdn.com/bootstrap/3.2.0/css/bootstrap-theme.min.css%22/%3E%0A%20%20%20%20%3Clink%20rel%3D%22stylesheet%22%20href%3D%22https%3A//maxcdn.bootstrapcdn.com/font-awesome/4.6.3/css/font-awesome.min.css%22/%3E%0A%20%20%20%20%3Clink%20rel%3D%22stylesheet%22%20href%3D%22https%3A//cdnjs.cloudflare.com/ajax/libs/Leaflet.awesome-markers/2.0.2/leaflet.awesome-markers.css%22/%3E%0A%20%20%20%20%3Clink%20rel%3D%22stylesheet%22%20href%3D%22https%3A//cdn.jsdelivr.net/gh/python-visualization/folium/folium/templates/leaflet.awesome.rotate.min.css%22/%3E%0A%20%20%20%20%0A%20%20%20%20%20%20%20%20%20%20%20%20%3Cmeta%20name%3D%22viewport%22%20content%3D%22width%3Ddevice-width%2C%0A%20%20%20%20%20%20%20%20%20%20%20%20%20%20%20%20initial-scale%3D1.0%2C%20maximum-scale%3D1.0%2C%20user-scalable%3Dno%22%20/%3E%0A%20%20%20%20%20%20%20%20%20%20%20%20%3Cstyle%3E%0A%20%20%20%20%20%20%20%20%20%20%20%20%20%20%20%20%23map_da402c8c143c4c8d8a2810a77806f651%20%7B%0A%20%20%20%20%20%20%20%20%20%20%20%20%20%20%20%20%20%20%20%20position%3A%20relative%3B%0A%20%20%20%20%20%20%20%20%20%20%20%20%20%20%20%20%20%20%20%20width%3A%20100.0%25%3B%0A%20%20%20%20%20%20%20%20%20%20%20%20%20%20%20%20%20%20%20%20height%3A%20100.0%25%3B%0A%20%20%20%20%20%20%20%20%20%20%20%20%20%20%20%20%20%20%20%20left%3A%200.0%25%3B%0A%20%20%20%20%20%20%20%20%20%20%20%20%20%20%20%20%20%20%20%20top%3A%200.0%25%3B%0A%20%20%20%20%20%20%20%20%20%20%20%20%20%20%20%20%7D%0A%20%20%20%20%20%20%20%20%20%20%20%20%3C/style%3E%0A%20%20%20%20%20%20%20%20%0A%3C/head%3E%0A%3Cbody%3E%20%20%20%20%0A%20%20%20%20%0A%20%20%20%20%20%20%20%20%20%20%20%20%3Cdiv%20class%3D%22folium-map%22%20id%3D%22map_da402c8c143c4c8d8a2810a77806f651%22%20%3E%3C/div%3E%0A%20%20%20%20%20%20%20%20%0A%3C/body%3E%0A%3Cscript%3E%20%20%20%20%0A%20%20%20%20%0A%20%20%20%20%20%20%20%20%20%20%20%20var%20map_da402c8c143c4c8d8a2810a77806f651%20%3D%20L.map%28%0A%20%20%20%20%20%20%20%20%20%20%20%20%20%20%20%20%22map_da402c8c143c4c8d8a2810a77806f651%22%2C%0A%20%20%20%20%20%20%20%20%20%20%20%20%20%20%20%20%7B%0A%20%20%20%20%20%20%20%20%20%20%20%20%20%20%20%20%20%20%20%20center%3A%20%5B40.7127281%2C%20-74.0060152%5D%2C%0A%20%20%20%20%20%20%20%20%20%20%20%20%20%20%20%20%20%20%20%20crs%3A%20L.CRS.EPSG3857%2C%0A%20%20%20%20%20%20%20%20%20%20%20%20%20%20%20%20%20%20%20%20zoom%3A%2010%2C%0A%20%20%20%20%20%20%20%20%20%20%20%20%20%20%20%20%20%20%20%20zoomControl%3A%20true%2C%0A%20%20%20%20%20%20%20%20%20%20%20%20%20%20%20%20%20%20%20%20preferCanvas%3A%20false%2C%0A%20%20%20%20%20%20%20%20%20%20%20%20%20%20%20%20%7D%0A%20%20%20%20%20%20%20%20%20%20%20%20%29%3B%0A%0A%20%20%20%20%20%20%20%20%20%20%20%20%0A%0A%20%20%20%20%20%20%20%20%0A%20%20%20%20%0A%20%20%20%20%20%20%20%20%20%20%20%20var%20tile_layer_a663c4ee3a4c476c8c1c2019434980b4%20%3D%20L.tileLayer%28%0A%20%20%20%20%20%20%20%20%20%20%20%20%20%20%20%20%22https%3A//%7Bs%7D.tile.openstreetmap.org/%7Bz%7D/%7Bx%7D/%7By%7D.png%22%2C%0A%20%20%20%20%20%20%20%20%20%20%20%20%20%20%20%20%7B%22attribution%22%3A%20%22Data%20by%20%5Cu0026copy%3B%20%5Cu003ca%20href%3D%5C%22http%3A//openstreetmap.org%5C%22%5Cu003eOpenStreetMap%5Cu003c/a%5Cu003e%2C%20under%20%5Cu003ca%20href%3D%5C%22http%3A//www.openstreetmap.org/copyright%5C%22%5Cu003eODbL%5Cu003c/a%5Cu003e.%22%2C%20%22detectRetina%22%3A%20false%2C%20%22maxNativeZoom%22%3A%2018%2C%20%22maxZoom%22%3A%2018%2C%20%22minZoom%22%3A%200%2C%20%22noWrap%22%3A%20false%2C%20%22opacity%22%3A%201%2C%20%22subdomains%22%3A%20%22abc%22%2C%20%22tms%22%3A%20false%7D%0A%20%20%20%20%20%20%20%20%20%20%20%20%29.addTo%28map_da402c8c143c4c8d8a2810a77806f651%29%3B%0A%20%20%20%20%20%20%20%20%0A%20%20%20%20%0A%20%20%20%20%20%20%20%20%20%20%20%20var%20circle_marker_686976643f544c52a309161bb7fdfa9e%20%3D%20L.circleMarker%28%0A%20%20%20%20%20%20%20%20%20%20%20%20%20%20%20%20%5B40.89470517661%2C%20-73.84720052054902%5D%2C%0A%20%20%20%20%20%20%20%20%20%20%20%20%20%20%20%20%7B%22bubblingMouseEvents%22%3A%20true%2C%20%22color%22%3A%20%22blue%22%2C%20%22dashArray%22%3A%20null%2C%20%22dashOffset%22%3A%20null%2C%20%22fill%22%3A%20true%2C%20%22fillColor%22%3A%20%22%233186cc%22%2C%20%22fillOpacity%22%3A%200.7%2C%20%22fillRule%22%3A%20%22evenodd%22%2C%20%22lineCap%22%3A%20%22round%22%2C%20%22lineJoin%22%3A%20%22round%22%2C%20%22opacity%22%3A%201.0%2C%20%22radius%22%3A%205%2C%20%22stroke%22%3A%20true%2C%20%22weight%22%3A%203%7D%0A%20%20%20%20%20%20%20%20%20%20%20%20%29.addTo%28map_da402c8c143c4c8d8a2810a77806f651%29%3B%0A%20%20%20%20%20%20%20%20%0A%20%20%20%20%0A%20%20%20%20%20%20%20%20var%20popup_55e6ff6c24484989bd26edb56438f08b%20%3D%20L.popup%28%7B%22maxWidth%22%3A%20%22100%25%22%7D%29%3B%0A%0A%20%20%20%20%20%20%20%20%0A%20%20%20%20%20%20%20%20%20%20%20%20var%20html_1ff9622dc3424ff69998eb96dbd0f9c0%20%3D%20%24%28%60%3Cdiv%20id%3D%22html_1ff9622dc3424ff69998eb96dbd0f9c0%22%20style%3D%22width%3A%20100.0%25%3B%20height%3A%20100.0%25%3B%22%3EWakefield%2C%20Bronx%3C/div%3E%60%29%5B0%5D%3B%0A%20%20%20%20%20%20%20%20%20%20%20%20popup_55e6ff6c24484989bd26edb56438f08b.setContent%28html_1ff9622dc3424ff69998eb96dbd0f9c0%29%3B%0A%20%20%20%20%20%20%20%20%0A%0A%20%20%20%20%20%20%20%20circle_marker_686976643f544c52a309161bb7fdfa9e.bindPopup%28popup_55e6ff6c24484989bd26edb56438f08b%29%0A%20%20%20%20%20%20%20%20%3B%0A%0A%20%20%20%20%20%20%20%20%0A%20%20%20%20%0A%20%20%20%20%0A%20%20%20%20%20%20%20%20%20%20%20%20var%20circle_marker_aecb347def84462bad742a7ac6c1af99%20%3D%20L.circleMarker%28%0A%20%20%20%20%20%20%20%20%20%20%20%20%20%20%20%20%5B40.87429419303012%2C%20-73.82993910812398%5D%2C%0A%20%20%20%20%20%20%20%20%20%20%20%20%20%20%20%20%7B%22bubblingMouseEvents%22%3A%20true%2C%20%22color%22%3A%20%22blue%22%2C%20%22dashArray%22%3A%20null%2C%20%22dashOffset%22%3A%20null%2C%20%22fill%22%3A%20true%2C%20%22fillColor%22%3A%20%22%233186cc%22%2C%20%22fillOpacity%22%3A%200.7%2C%20%22fillRule%22%3A%20%22evenodd%22%2C%20%22lineCap%22%3A%20%22round%22%2C%20%22lineJoin%22%3A%20%22round%22%2C%20%22opacity%22%3A%201.0%2C%20%22radius%22%3A%205%2C%20%22stroke%22%3A%20true%2C%20%22weight%22%3A%203%7D%0A%20%20%20%20%20%20%20%20%20%20%20%20%29.addTo%28map_da402c8c143c4c8d8a2810a77806f651%29%3B%0A%20%20%20%20%20%20%20%20%0A%20%20%20%20%0A%20%20%20%20%20%20%20%20var%20popup_57654e4bb7584b62b883d45ced7a2363%20%3D%20L.popup%28%7B%22maxWidth%22%3A%20%22100%25%22%7D%29%3B%0A%0A%20%20%20%20%20%20%20%20%0A%20%20%20%20%20%20%20%20%20%20%20%20var%20html_d8ad136a1338416d9dfccdc37b0dde76%20%3D%20%24%28%60%3Cdiv%20id%3D%22html_d8ad136a1338416d9dfccdc37b0dde76%22%20style%3D%22width%3A%20100.0%25%3B%20height%3A%20100.0%25%3B%22%3ECo-op%20City%2C%20Bronx%3C/div%3E%60%29%5B0%5D%3B%0A%20%20%20%20%20%20%20%20%20%20%20%20popup_57654e4bb7584b62b883d45ced7a2363.setContent%28html_d8ad136a1338416d9dfccdc37b0dde76%29%3B%0A%20%20%20%20%20%20%20%20%0A%0A%20%20%20%20%20%20%20%20circle_marker_aecb347def84462bad742a7ac6c1af99.bindPopup%28popup_57654e4bb7584b62b883d45ced7a2363%29%0A%20%20%20%20%20%20%20%20%3B%0A%0A%20%20%20%20%20%20%20%20%0A%20%20%20%20%0A%20%20%20%20%0A%20%20%20%20%20%20%20%20%20%20%20%20var%20circle_marker_1725d86304b54651b90254953f0e6137%20%3D%20L.circleMarker%28%0A%20%20%20%20%20%20%20%20%20%20%20%20%20%20%20%20%5B40.887555677350775%2C%20-73.82780644716412%5D%2C%0A%20%20%20%20%20%20%20%20%20%20%20%20%20%20%20%20%7B%22bubblingMouseEvents%22%3A%20true%2C%20%22color%22%3A%20%22blue%22%2C%20%22dashArray%22%3A%20null%2C%20%22dashOffset%22%3A%20null%2C%20%22fill%22%3A%20true%2C%20%22fillColor%22%3A%20%22%233186cc%22%2C%20%22fillOpacity%22%3A%200.7%2C%20%22fillRule%22%3A%20%22evenodd%22%2C%20%22lineCap%22%3A%20%22round%22%2C%20%22lineJoin%22%3A%20%22round%22%2C%20%22opacity%22%3A%201.0%2C%20%22radius%22%3A%205%2C%20%22stroke%22%3A%20true%2C%20%22weight%22%3A%203%7D%0A%20%20%20%20%20%20%20%20%20%20%20%20%29.addTo%28map_da402c8c143c4c8d8a2810a77806f651%29%3B%0A%20%20%20%20%20%20%20%20%0A%20%20%20%20%0A%20%20%20%20%20%20%20%20var%20popup_cc258bfcf7ac4c6d8eca6c08102d7e27%20%3D%20L.popup%28%7B%22maxWidth%22%3A%20%22100%25%22%7D%29%3B%0A%0A%20%20%20%20%20%20%20%20%0A%20%20%20%20%20%20%20%20%20%20%20%20var%20html_dee723da359b489f95fa1c216efd4d5e%20%3D%20%24%28%60%3Cdiv%20id%3D%22html_dee723da359b489f95fa1c216efd4d5e%22%20style%3D%22width%3A%20100.0%25%3B%20height%3A%20100.0%25%3B%22%3EEastchester%2C%20Bronx%3C/div%3E%60%29%5B0%5D%3B%0A%20%20%20%20%20%20%20%20%20%20%20%20popup_cc258bfcf7ac4c6d8eca6c08102d7e27.setContent%28html_dee723da359b489f95fa1c216efd4d5e%29%3B%0A%20%20%20%20%20%20%20%20%0A%0A%20%20%20%20%20%20%20%20circle_marker_1725d86304b54651b90254953f0e6137.bindPopup%28popup_cc258bfcf7ac4c6d8eca6c08102d7e27%29%0A%20%20%20%20%20%20%20%20%3B%0A%0A%20%20%20%20%20%20%20%20%0A%20%20%20%20%0A%20%20%20%20%0A%20%20%20%20%20%20%20%20%20%20%20%20var%20circle_marker_74b6573ffc9b4e60b42f6e3e038f8eae%20%3D%20L.circleMarker%28%0A%20%20%20%20%20%20%20%20%20%20%20%20%20%20%20%20%5B40.89543742690383%2C%20-73.90564259591682%5D%2C%0A%20%20%20%20%20%20%20%20%20%20%20%20%20%20%20%20%7B%22bubblingMouseEvents%22%3A%20true%2C%20%22color%22%3A%20%22blue%22%2C%20%22dashArray%22%3A%20null%2C%20%22dashOffset%22%3A%20null%2C%20%22fill%22%3A%20true%2C%20%22fillColor%22%3A%20%22%233186cc%22%2C%20%22fillOpacity%22%3A%200.7%2C%20%22fillRule%22%3A%20%22evenodd%22%2C%20%22lineCap%22%3A%20%22round%22%2C%20%22lineJoin%22%3A%20%22round%22%2C%20%22opacity%22%3A%201.0%2C%20%22radius%22%3A%205%2C%20%22stroke%22%3A%20true%2C%20%22weight%22%3A%203%7D%0A%20%20%20%20%20%20%20%20%20%20%20%20%29.addTo%28map_da402c8c143c4c8d8a2810a77806f651%29%3B%0A%20%20%20%20%20%20%20%20%0A%20%20%20%20%0A%20%20%20%20%20%20%20%20var%20popup_b67977ea18714e9d93d6ed6b74a980b6%20%3D%20L.popup%28%7B%22maxWidth%22%3A%20%22100%25%22%7D%29%3B%0A%0A%20%20%20%20%20%20%20%20%0A%20%20%20%20%20%20%20%20%20%20%20%20var%20html_b02c973fa96347b8bb2e583d4dda19f8%20%3D%20%24%28%60%3Cdiv%20id%3D%22html_b02c973fa96347b8bb2e583d4dda19f8%22%20style%3D%22width%3A%20100.0%25%3B%20height%3A%20100.0%25%3B%22%3EFieldston%2C%20Bronx%3C/div%3E%60%29%5B0%5D%3B%0A%20%20%20%20%20%20%20%20%20%20%20%20popup_b67977ea18714e9d93d6ed6b74a980b6.setContent%28html_b02c973fa96347b8bb2e583d4dda19f8%29%3B%0A%20%20%20%20%20%20%20%20%0A%0A%20%20%20%20%20%20%20%20circle_marker_74b6573ffc9b4e60b42f6e3e038f8eae.bindPopup%28popup_b67977ea18714e9d93d6ed6b74a980b6%29%0A%20%20%20%20%20%20%20%20%3B%0A%0A%20%20%20%20%20%20%20%20%0A%20%20%20%20%0A%20%20%20%20%0A%20%20%20%20%20%20%20%20%20%20%20%20var%20circle_marker_fa37bb051e9d42b69aa024d40d6c5f25%20%3D%20L.circleMarker%28%0A%20%20%20%20%20%20%20%20%20%20%20%20%20%20%20%20%5B40.890834493891305%2C%20-73.9125854610857%5D%2C%0A%20%20%20%20%20%20%20%20%20%20%20%20%20%20%20%20%7B%22bubblingMouseEvents%22%3A%20true%2C%20%22color%22%3A%20%22blue%22%2C%20%22dashArray%22%3A%20null%2C%20%22dashOffset%22%3A%20null%2C%20%22fill%22%3A%20true%2C%20%22fillColor%22%3A%20%22%233186cc%22%2C%20%22fillOpacity%22%3A%200.7%2C%20%22fillRule%22%3A%20%22evenodd%22%2C%20%22lineCap%22%3A%20%22round%22%2C%20%22lineJoin%22%3A%20%22round%22%2C%20%22opacity%22%3A%201.0%2C%20%22radius%22%3A%205%2C%20%22stroke%22%3A%20true%2C%20%22weight%22%3A%203%7D%0A%20%20%20%20%20%20%20%20%20%20%20%20%29.addTo%28map_da402c8c143c4c8d8a2810a77806f651%29%3B%0A%20%20%20%20%20%20%20%20%0A%20%20%20%20%0A%20%20%20%20%20%20%20%20var%20popup_4f7044fb8eef4243b325ddb7480dffdd%20%3D%20L.popup%28%7B%22maxWidth%22%3A%20%22100%25%22%7D%29%3B%0A%0A%20%20%20%20%20%20%20%20%0A%20%20%20%20%20%20%20%20%20%20%20%20var%20html_2f08eb1d85b8454aa36384d788898ca4%20%3D%20%24%28%60%3Cdiv%20id%3D%22html_2f08eb1d85b8454aa36384d788898ca4%22%20style%3D%22width%3A%20100.0%25%3B%20height%3A%20100.0%25%3B%22%3ERiverdale%2C%20Bronx%3C/div%3E%60%29%5B0%5D%3B%0A%20%20%20%20%20%20%20%20%20%20%20%20popup_4f7044fb8eef4243b325ddb7480dffdd.setContent%28html_2f08eb1d85b8454aa36384d788898ca4%29%3B%0A%20%20%20%20%20%20%20%20%0A%0A%20%20%20%20%20%20%20%20circle_marker_fa37bb051e9d42b69aa024d40d6c5f25.bindPopup%28popup_4f7044fb8eef4243b325ddb7480dffdd%29%0A%20%20%20%20%20%20%20%20%3B%0A%0A%20%20%20%20%20%20%20%20%0A%20%20%20%20%0A%20%20%20%20%0A%20%20%20%20%20%20%20%20%20%20%20%20var%20circle_marker_20a2b465ae6644a2be41922a0c92eedf%20%3D%20L.circleMarker%28%0A%20%20%20%20%20%20%20%20%20%20%20%20%20%20%20%20%5B40.88168737120521%2C%20-73.90281798724604%5D%2C%0A%20%20%20%20%20%20%20%20%20%20%20%20%20%20%20%20%7B%22bubblingMouseEvents%22%3A%20true%2C%20%22color%22%3A%20%22blue%22%2C%20%22dashArray%22%3A%20null%2C%20%22dashOffset%22%3A%20null%2C%20%22fill%22%3A%20true%2C%20%22fillColor%22%3A%20%22%233186cc%22%2C%20%22fillOpacity%22%3A%200.7%2C%20%22fillRule%22%3A%20%22evenodd%22%2C%20%22lineCap%22%3A%20%22round%22%2C%20%22lineJoin%22%3A%20%22round%22%2C%20%22opacity%22%3A%201.0%2C%20%22radius%22%3A%205%2C%20%22stroke%22%3A%20true%2C%20%22weight%22%3A%203%7D%0A%20%20%20%20%20%20%20%20%20%20%20%20%29.addTo%28map_da402c8c143c4c8d8a2810a77806f651%29%3B%0A%20%20%20%20%20%20%20%20%0A%20%20%20%20%0A%20%20%20%20%20%20%20%20var%20popup_d396b07cc03a405fa3934f4bc93aa6f6%20%3D%20L.popup%28%7B%22maxWidth%22%3A%20%22100%25%22%7D%29%3B%0A%0A%20%20%20%20%20%20%20%20%0A%20%20%20%20%20%20%20%20%20%20%20%20var%20html_c559ea01a26c49bea6561a107013f417%20%3D%20%24%28%60%3Cdiv%20id%3D%22html_c559ea01a26c49bea6561a107013f417%22%20style%3D%22width%3A%20100.0%25%3B%20height%3A%20100.0%25%3B%22%3EKingsbridge%2C%20Bronx%3C/div%3E%60%29%5B0%5D%3B%0A%20%20%20%20%20%20%20%20%20%20%20%20popup_d396b07cc03a405fa3934f4bc93aa6f6.setContent%28html_c559ea01a26c49bea6561a107013f417%29%3B%0A%20%20%20%20%20%20%20%20%0A%0A%20%20%20%20%20%20%20%20circle_marker_20a2b465ae6644a2be41922a0c92eedf.bindPopup%28popup_d396b07cc03a405fa3934f4bc93aa6f6%29%0A%20%20%20%20%20%20%20%20%3B%0A%0A%20%20%20%20%20%20%20%20%0A%20%20%20%20%0A%20%20%20%20%0A%20%20%20%20%20%20%20%20%20%20%20%20var%20circle_marker_900d348212864eada1bd45c56926c9c2%20%3D%20L.circleMarker%28%0A%20%20%20%20%20%20%20%20%20%20%20%20%20%20%20%20%5B40.87655077879964%2C%20-73.91065965862981%5D%2C%0A%20%20%20%20%20%20%20%20%20%20%20%20%20%20%20%20%7B%22bubblingMouseEvents%22%3A%20true%2C%20%22color%22%3A%20%22blue%22%2C%20%22dashArray%22%3A%20null%2C%20%22dashOffset%22%3A%20null%2C%20%22fill%22%3A%20true%2C%20%22fillColor%22%3A%20%22%233186cc%22%2C%20%22fillOpacity%22%3A%200.7%2C%20%22fillRule%22%3A%20%22evenodd%22%2C%20%22lineCap%22%3A%20%22round%22%2C%20%22lineJoin%22%3A%20%22round%22%2C%20%22opacity%22%3A%201.0%2C%20%22radius%22%3A%205%2C%20%22stroke%22%3A%20true%2C%20%22weight%22%3A%203%7D%0A%20%20%20%20%20%20%20%20%20%20%20%20%29.addTo%28map_da402c8c143c4c8d8a2810a77806f651%29%3B%0A%20%20%20%20%20%20%20%20%0A%20%20%20%20%0A%20%20%20%20%20%20%20%20var%20popup_8b6ff9834a964fef871de67a05e43ee8%20%3D%20L.popup%28%7B%22maxWidth%22%3A%20%22100%25%22%7D%29%3B%0A%0A%20%20%20%20%20%20%20%20%0A%20%20%20%20%20%20%20%20%20%20%20%20var%20html_c1dea37f140040159bed51b7966d62a1%20%3D%20%24%28%60%3Cdiv%20id%3D%22html_c1dea37f140040159bed51b7966d62a1%22%20style%3D%22width%3A%20100.0%25%3B%20height%3A%20100.0%25%3B%22%3EMarble%20Hill%2C%20Manhattan%3C/div%3E%60%29%5B0%5D%3B%0A%20%20%20%20%20%20%20%20%20%20%20%20popup_8b6ff9834a964fef871de67a05e43ee8.setContent%28html_c1dea37f140040159bed51b7966d62a1%29%3B%0A%20%20%20%20%20%20%20%20%0A%0A%20%20%20%20%20%20%20%20circle_marker_900d348212864eada1bd45c56926c9c2.bindPopup%28popup_8b6ff9834a964fef871de67a05e43ee8%29%0A%20%20%20%20%20%20%20%20%3B%0A%0A%20%20%20%20%20%20%20%20%0A%20%20%20%20%0A%20%20%20%20%0A%20%20%20%20%20%20%20%20%20%20%20%20var%20circle_marker_898dfdbd8b444256b3d54a0456905fec%20%3D%20L.circleMarker%28%0A%20%20%20%20%20%20%20%20%20%20%20%20%20%20%20%20%5B40.89827261213805%2C%20-73.86731496814176%5D%2C%0A%20%20%20%20%20%20%20%20%20%20%20%20%20%20%20%20%7B%22bubblingMouseEvents%22%3A%20true%2C%20%22color%22%3A%20%22blue%22%2C%20%22dashArray%22%3A%20null%2C%20%22dashOffset%22%3A%20null%2C%20%22fill%22%3A%20true%2C%20%22fillColor%22%3A%20%22%233186cc%22%2C%20%22fillOpacity%22%3A%200.7%2C%20%22fillRule%22%3A%20%22evenodd%22%2C%20%22lineCap%22%3A%20%22round%22%2C%20%22lineJoin%22%3A%20%22round%22%2C%20%22opacity%22%3A%201.0%2C%20%22radius%22%3A%205%2C%20%22stroke%22%3A%20true%2C%20%22weight%22%3A%203%7D%0A%20%20%20%20%20%20%20%20%20%20%20%20%29.addTo%28map_da402c8c143c4c8d8a2810a77806f651%29%3B%0A%20%20%20%20%20%20%20%20%0A%20%20%20%20%0A%20%20%20%20%20%20%20%20var%20popup_130f32b5eaf34c55ad88cc92e9c3e39c%20%3D%20L.popup%28%7B%22maxWidth%22%3A%20%22100%25%22%7D%29%3B%0A%0A%20%20%20%20%20%20%20%20%0A%20%20%20%20%20%20%20%20%20%20%20%20var%20html_9237e7515df74e99864c97b2501511d7%20%3D%20%24%28%60%3Cdiv%20id%3D%22html_9237e7515df74e99864c97b2501511d7%22%20style%3D%22width%3A%20100.0%25%3B%20height%3A%20100.0%25%3B%22%3EWoodlawn%2C%20Bronx%3C/div%3E%60%29%5B0%5D%3B%0A%20%20%20%20%20%20%20%20%20%20%20%20popup_130f32b5eaf34c55ad88cc92e9c3e39c.setContent%28html_9237e7515df74e99864c97b2501511d7%29%3B%0A%20%20%20%20%20%20%20%20%0A%0A%20%20%20%20%20%20%20%20circle_marker_898dfdbd8b444256b3d54a0456905fec.bindPopup%28popup_130f32b5eaf34c55ad88cc92e9c3e39c%29%0A%20%20%20%20%20%20%20%20%3B%0A%0A%20%20%20%20%20%20%20%20%0A%20%20%20%20%0A%20%20%20%20%0A%20%20%20%20%20%20%20%20%20%20%20%20var%20circle_marker_05818137235c49f195591c00b98e47c8%20%3D%20L.circleMarker%28%0A%20%20%20%20%20%20%20%20%20%20%20%20%20%20%20%20%5B40.87722415599446%2C%20-73.8793907395681%5D%2C%0A%20%20%20%20%20%20%20%20%20%20%20%20%20%20%20%20%7B%22bubblingMouseEvents%22%3A%20true%2C%20%22color%22%3A%20%22blue%22%2C%20%22dashArray%22%3A%20null%2C%20%22dashOffset%22%3A%20null%2C%20%22fill%22%3A%20true%2C%20%22fillColor%22%3A%20%22%233186cc%22%2C%20%22fillOpacity%22%3A%200.7%2C%20%22fillRule%22%3A%20%22evenodd%22%2C%20%22lineCap%22%3A%20%22round%22%2C%20%22lineJoin%22%3A%20%22round%22%2C%20%22opacity%22%3A%201.0%2C%20%22radius%22%3A%205%2C%20%22stroke%22%3A%20true%2C%20%22weight%22%3A%203%7D%0A%20%20%20%20%20%20%20%20%20%20%20%20%29.addTo%28map_da402c8c143c4c8d8a2810a77806f651%29%3B%0A%20%20%20%20%20%20%20%20%0A%20%20%20%20%0A%20%20%20%20%20%20%20%20var%20popup_5af3b49fd7584a3b97285674ad5f952c%20%3D%20L.popup%28%7B%22maxWidth%22%3A%20%22100%25%22%7D%29%3B%0A%0A%20%20%20%20%20%20%20%20%0A%20%20%20%20%20%20%20%20%20%20%20%20var%20html_acba66d845744c0386d580f3a018a90c%20%3D%20%24%28%60%3Cdiv%20id%3D%22html_acba66d845744c0386d580f3a018a90c%22%20style%3D%22width%3A%20100.0%25%3B%20height%3A%20100.0%25%3B%22%3ENorwood%2C%20Bronx%3C/div%3E%60%29%5B0%5D%3B%0A%20%20%20%20%20%20%20%20%20%20%20%20popup_5af3b49fd7584a3b97285674ad5f952c.setContent%28html_acba66d845744c0386d580f3a018a90c%29%3B%0A%20%20%20%20%20%20%20%20%0A%0A%20%20%20%20%20%20%20%20circle_marker_05818137235c49f195591c00b98e47c8.bindPopup%28popup_5af3b49fd7584a3b97285674ad5f952c%29%0A%20%20%20%20%20%20%20%20%3B%0A%0A%20%20%20%20%20%20%20%20%0A%20%20%20%20%0A%20%20%20%20%0A%20%20%20%20%20%20%20%20%20%20%20%20var%20circle_marker_4358d58477ad4d698c0a0f0fa599fe2e%20%3D%20L.circleMarker%28%0A%20%20%20%20%20%20%20%20%20%20%20%20%20%20%20%20%5B40.88103887819211%2C%20-73.85744642974207%5D%2C%0A%20%20%20%20%20%20%20%20%20%20%20%20%20%20%20%20%7B%22bubblingMouseEvents%22%3A%20true%2C%20%22color%22%3A%20%22blue%22%2C%20%22dashArray%22%3A%20null%2C%20%22dashOffset%22%3A%20null%2C%20%22fill%22%3A%20true%2C%20%22fillColor%22%3A%20%22%233186cc%22%2C%20%22fillOpacity%22%3A%200.7%2C%20%22fillRule%22%3A%20%22evenodd%22%2C%20%22lineCap%22%3A%20%22round%22%2C%20%22lineJoin%22%3A%20%22round%22%2C%20%22opacity%22%3A%201.0%2C%20%22radius%22%3A%205%2C%20%22stroke%22%3A%20true%2C%20%22weight%22%3A%203%7D%0A%20%20%20%20%20%20%20%20%20%20%20%20%29.addTo%28map_da402c8c143c4c8d8a2810a77806f651%29%3B%0A%20%20%20%20%20%20%20%20%0A%20%20%20%20%0A%20%20%20%20%20%20%20%20var%20popup_be25bfa131c846b9af5302009dd44cad%20%3D%20L.popup%28%7B%22maxWidth%22%3A%20%22100%25%22%7D%29%3B%0A%0A%20%20%20%20%20%20%20%20%0A%20%20%20%20%20%20%20%20%20%20%20%20var%20html_61db4d7efd0a4baa953f9a144566a50d%20%3D%20%24%28%60%3Cdiv%20id%3D%22html_61db4d7efd0a4baa953f9a144566a50d%22%20style%3D%22width%3A%20100.0%25%3B%20height%3A%20100.0%25%3B%22%3EWilliamsbridge%2C%20Bronx%3C/div%3E%60%29%5B0%5D%3B%0A%20%20%20%20%20%20%20%20%20%20%20%20popup_be25bfa131c846b9af5302009dd44cad.setContent%28html_61db4d7efd0a4baa953f9a144566a50d%29%3B%0A%20%20%20%20%20%20%20%20%0A%0A%20%20%20%20%20%20%20%20circle_marker_4358d58477ad4d698c0a0f0fa599fe2e.bindPopup%28popup_be25bfa131c846b9af5302009dd44cad%29%0A%20%20%20%20%20%20%20%20%3B%0A%0A%20%20%20%20%20%20%20%20%0A%20%20%20%20%0A%20%20%20%20%0A%20%20%20%20%20%20%20%20%20%20%20%20var%20circle_marker_69efe191a422410bbf06f6a517d5d377%20%3D%20L.circleMarker%28%0A%20%20%20%20%20%20%20%20%20%20%20%20%20%20%20%20%5B40.866858107252696%2C%20-73.83579759808117%5D%2C%0A%20%20%20%20%20%20%20%20%20%20%20%20%20%20%20%20%7B%22bubblingMouseEvents%22%3A%20true%2C%20%22color%22%3A%20%22blue%22%2C%20%22dashArray%22%3A%20null%2C%20%22dashOffset%22%3A%20null%2C%20%22fill%22%3A%20true%2C%20%22fillColor%22%3A%20%22%233186cc%22%2C%20%22fillOpacity%22%3A%200.7%2C%20%22fillRule%22%3A%20%22evenodd%22%2C%20%22lineCap%22%3A%20%22round%22%2C%20%22lineJoin%22%3A%20%22round%22%2C%20%22opacity%22%3A%201.0%2C%20%22radius%22%3A%205%2C%20%22stroke%22%3A%20true%2C%20%22weight%22%3A%203%7D%0A%20%20%20%20%20%20%20%20%20%20%20%20%29.addTo%28map_da402c8c143c4c8d8a2810a77806f651%29%3B%0A%20%20%20%20%20%20%20%20%0A%20%20%20%20%0A%20%20%20%20%20%20%20%20var%20popup_b254bebe839242a894dc2b5a485caa08%20%3D%20L.popup%28%7B%22maxWidth%22%3A%20%22100%25%22%7D%29%3B%0A%0A%20%20%20%20%20%20%20%20%0A%20%20%20%20%20%20%20%20%20%20%20%20var%20html_ed72261262b24c34bdd3181e1dd3d2a4%20%3D%20%24%28%60%3Cdiv%20id%3D%22html_ed72261262b24c34bdd3181e1dd3d2a4%22%20style%3D%22width%3A%20100.0%25%3B%20height%3A%20100.0%25%3B%22%3EBaychester%2C%20Bronx%3C/div%3E%60%29%5B0%5D%3B%0A%20%20%20%20%20%20%20%20%20%20%20%20popup_b254bebe839242a894dc2b5a485caa08.setContent%28html_ed72261262b24c34bdd3181e1dd3d2a4%29%3B%0A%20%20%20%20%20%20%20%20%0A%0A%20%20%20%20%20%20%20%20circle_marker_69efe191a422410bbf06f6a517d5d377.bindPopup%28popup_b254bebe839242a894dc2b5a485caa08%29%0A%20%20%20%20%20%20%20%20%3B%0A%0A%20%20%20%20%20%20%20%20%0A%20%20%20%20%0A%20%20%20%20%0A%20%20%20%20%20%20%20%20%20%20%20%20var%20circle_marker_46be970b89144997b2febd0c65a65ea4%20%3D%20L.circleMarker%28%0A%20%20%20%20%20%20%20%20%20%20%20%20%20%20%20%20%5B40.85741349808865%2C%20-73.85475564017999%5D%2C%0A%20%20%20%20%20%20%20%20%20%20%20%20%20%20%20%20%7B%22bubblingMouseEvents%22%3A%20true%2C%20%22color%22%3A%20%22blue%22%2C%20%22dashArray%22%3A%20null%2C%20%22dashOffset%22%3A%20null%2C%20%22fill%22%3A%20true%2C%20%22fillColor%22%3A%20%22%233186cc%22%2C%20%22fillOpacity%22%3A%200.7%2C%20%22fillRule%22%3A%20%22evenodd%22%2C%20%22lineCap%22%3A%20%22round%22%2C%20%22lineJoin%22%3A%20%22round%22%2C%20%22opacity%22%3A%201.0%2C%20%22radius%22%3A%205%2C%20%22stroke%22%3A%20true%2C%20%22weight%22%3A%203%7D%0A%20%20%20%20%20%20%20%20%20%20%20%20%29.addTo%28map_da402c8c143c4c8d8a2810a77806f651%29%3B%0A%20%20%20%20%20%20%20%20%0A%20%20%20%20%0A%20%20%20%20%20%20%20%20var%20popup_fa8901a541924c189899fd0c59398457%20%3D%20L.popup%28%7B%22maxWidth%22%3A%20%22100%25%22%7D%29%3B%0A%0A%20%20%20%20%20%20%20%20%0A%20%20%20%20%20%20%20%20%20%20%20%20var%20html_dc079ea6e8554cab9a868adaf561a9bb%20%3D%20%24%28%60%3Cdiv%20id%3D%22html_dc079ea6e8554cab9a868adaf561a9bb%22%20style%3D%22width%3A%20100.0%25%3B%20height%3A%20100.0%25%3B%22%3EPelham%20Parkway%2C%20Bronx%3C/div%3E%60%29%5B0%5D%3B%0A%20%20%20%20%20%20%20%20%20%20%20%20popup_fa8901a541924c189899fd0c59398457.setContent%28html_dc079ea6e8554cab9a868adaf561a9bb%29%3B%0A%20%20%20%20%20%20%20%20%0A%0A%20%20%20%20%20%20%20%20circle_marker_46be970b89144997b2febd0c65a65ea4.bindPopup%28popup_fa8901a541924c189899fd0c59398457%29%0A%20%20%20%20%20%20%20%20%3B%0A%0A%20%20%20%20%20%20%20%20%0A%20%20%20%20%0A%20%20%20%20%0A%20%20%20%20%20%20%20%20%20%20%20%20var%20circle_marker_49593ed3616a44a096b3d560ca3d1d4b%20%3D%20L.circleMarker%28%0A%20%20%20%20%20%20%20%20%20%20%20%20%20%20%20%20%5B40.84724670491813%2C%20-73.78648845267413%5D%2C%0A%20%20%20%20%20%20%20%20%20%20%20%20%20%20%20%20%7B%22bubblingMouseEvents%22%3A%20true%2C%20%22color%22%3A%20%22blue%22%2C%20%22dashArray%22%3A%20null%2C%20%22dashOffset%22%3A%20null%2C%20%22fill%22%3A%20true%2C%20%22fillColor%22%3A%20%22%233186cc%22%2C%20%22fillOpacity%22%3A%200.7%2C%20%22fillRule%22%3A%20%22evenodd%22%2C%20%22lineCap%22%3A%20%22round%22%2C%20%22lineJoin%22%3A%20%22round%22%2C%20%22opacity%22%3A%201.0%2C%20%22radius%22%3A%205%2C%20%22stroke%22%3A%20true%2C%20%22weight%22%3A%203%7D%0A%20%20%20%20%20%20%20%20%20%20%20%20%29.addTo%28map_da402c8c143c4c8d8a2810a77806f651%29%3B%0A%20%20%20%20%20%20%20%20%0A%20%20%20%20%0A%20%20%20%20%20%20%20%20var%20popup_9d3745e8c9c9437690ea9d06d9055d56%20%3D%20L.popup%28%7B%22maxWidth%22%3A%20%22100%25%22%7D%29%3B%0A%0A%20%20%20%20%20%20%20%20%0A%20%20%20%20%20%20%20%20%20%20%20%20var%20html_16e79b381796404d833364c338515e50%20%3D%20%24%28%60%3Cdiv%20id%3D%22html_16e79b381796404d833364c338515e50%22%20style%3D%22width%3A%20100.0%25%3B%20height%3A%20100.0%25%3B%22%3ECity%20Island%2C%20Bronx%3C/div%3E%60%29%5B0%5D%3B%0A%20%20%20%20%20%20%20%20%20%20%20%20popup_9d3745e8c9c9437690ea9d06d9055d56.setContent%28html_16e79b381796404d833364c338515e50%29%3B%0A%20%20%20%20%20%20%20%20%0A%0A%20%20%20%20%20%20%20%20circle_marker_49593ed3616a44a096b3d560ca3d1d4b.bindPopup%28popup_9d3745e8c9c9437690ea9d06d9055d56%29%0A%20%20%20%20%20%20%20%20%3B%0A%0A%20%20%20%20%20%20%20%20%0A%20%20%20%20%0A%20%20%20%20%0A%20%20%20%20%20%20%20%20%20%20%20%20var%20circle_marker_f7e2d5806a9c4205aaa325ae9446b65d%20%3D%20L.circleMarker%28%0A%20%20%20%20%20%20%20%20%20%20%20%20%20%20%20%20%5B40.870185164975325%2C%20-73.8855121841913%5D%2C%0A%20%20%20%20%20%20%20%20%20%20%20%20%20%20%20%20%7B%22bubblingMouseEvents%22%3A%20true%2C%20%22color%22%3A%20%22blue%22%2C%20%22dashArray%22%3A%20null%2C%20%22dashOffset%22%3A%20null%2C%20%22fill%22%3A%20true%2C%20%22fillColor%22%3A%20%22%233186cc%22%2C%20%22fillOpacity%22%3A%200.7%2C%20%22fillRule%22%3A%20%22evenodd%22%2C%20%22lineCap%22%3A%20%22round%22%2C%20%22lineJoin%22%3A%20%22round%22%2C%20%22opacity%22%3A%201.0%2C%20%22radius%22%3A%205%2C%20%22stroke%22%3A%20true%2C%20%22weight%22%3A%203%7D%0A%20%20%20%20%20%20%20%20%20%20%20%20%29.addTo%28map_da402c8c143c4c8d8a2810a77806f651%29%3B%0A%20%20%20%20%20%20%20%20%0A%20%20%20%20%0A%20%20%20%20%20%20%20%20var%20popup_2e0efa4d61474e42bcbb6a285f9be774%20%3D%20L.popup%28%7B%22maxWidth%22%3A%20%22100%25%22%7D%29%3B%0A%0A%20%20%20%20%20%20%20%20%0A%20%20%20%20%20%20%20%20%20%20%20%20var%20html_fbac1868219c4d37b88c633a4b76ee03%20%3D%20%24%28%60%3Cdiv%20id%3D%22html_fbac1868219c4d37b88c633a4b76ee03%22%20style%3D%22width%3A%20100.0%25%3B%20height%3A%20100.0%25%3B%22%3EBedford%20Park%2C%20Bronx%3C/div%3E%60%29%5B0%5D%3B%0A%20%20%20%20%20%20%20%20%20%20%20%20popup_2e0efa4d61474e42bcbb6a285f9be774.setContent%28html_fbac1868219c4d37b88c633a4b76ee03%29%3B%0A%20%20%20%20%20%20%20%20%0A%0A%20%20%20%20%20%20%20%20circle_marker_f7e2d5806a9c4205aaa325ae9446b65d.bindPopup%28popup_2e0efa4d61474e42bcbb6a285f9be774%29%0A%20%20%20%20%20%20%20%20%3B%0A%0A%20%20%20%20%20%20%20%20%0A%20%20%20%20%0A%20%20%20%20%0A%20%20%20%20%20%20%20%20%20%20%20%20var%20circle_marker_5c635501e3514ad09da1e58e572292e0%20%3D%20L.circleMarker%28%0A%20%20%20%20%20%20%20%20%20%20%20%20%20%20%20%20%5B40.85572707719664%2C%20-73.9104159619131%5D%2C%0A%20%20%20%20%20%20%20%20%20%20%20%20%20%20%20%20%7B%22bubblingMouseEvents%22%3A%20true%2C%20%22color%22%3A%20%22blue%22%2C%20%22dashArray%22%3A%20null%2C%20%22dashOffset%22%3A%20null%2C%20%22fill%22%3A%20true%2C%20%22fillColor%22%3A%20%22%233186cc%22%2C%20%22fillOpacity%22%3A%200.7%2C%20%22fillRule%22%3A%20%22evenodd%22%2C%20%22lineCap%22%3A%20%22round%22%2C%20%22lineJoin%22%3A%20%22round%22%2C%20%22opacity%22%3A%201.0%2C%20%22radius%22%3A%205%2C%20%22stroke%22%3A%20true%2C%20%22weight%22%3A%203%7D%0A%20%20%20%20%20%20%20%20%20%20%20%20%29.addTo%28map_da402c8c143c4c8d8a2810a77806f651%29%3B%0A%20%20%20%20%20%20%20%20%0A%20%20%20%20%0A%20%20%20%20%20%20%20%20var%20popup_9db2065940dc47d0b242fde84dc59d1f%20%3D%20L.popup%28%7B%22maxWidth%22%3A%20%22100%25%22%7D%29%3B%0A%0A%20%20%20%20%20%20%20%20%0A%20%20%20%20%20%20%20%20%20%20%20%20var%20html_73169292c69247058a3303c152c6ef31%20%3D%20%24%28%60%3Cdiv%20id%3D%22html_73169292c69247058a3303c152c6ef31%22%20style%3D%22width%3A%20100.0%25%3B%20height%3A%20100.0%25%3B%22%3EUniversity%20Heights%2C%20Bronx%3C/div%3E%60%29%5B0%5D%3B%0A%20%20%20%20%20%20%20%20%20%20%20%20popup_9db2065940dc47d0b242fde84dc59d1f.setContent%28html_73169292c69247058a3303c152c6ef31%29%3B%0A%20%20%20%20%20%20%20%20%0A%0A%20%20%20%20%20%20%20%20circle_marker_5c635501e3514ad09da1e58e572292e0.bindPopup%28popup_9db2065940dc47d0b242fde84dc59d1f%29%0A%20%20%20%20%20%20%20%20%3B%0A%0A%20%20%20%20%20%20%20%20%0A%20%20%20%20%0A%20%20%20%20%0A%20%20%20%20%20%20%20%20%20%20%20%20var%20circle_marker_fd2d9f747093423fa3c4f318d01bc3cf%20%3D%20L.circleMarker%28%0A%20%20%20%20%20%20%20%20%20%20%20%20%20%20%20%20%5B40.84789792606271%2C%20-73.91967159119565%5D%2C%0A%20%20%20%20%20%20%20%20%20%20%20%20%20%20%20%20%7B%22bubblingMouseEvents%22%3A%20true%2C%20%22color%22%3A%20%22blue%22%2C%20%22dashArray%22%3A%20null%2C%20%22dashOffset%22%3A%20null%2C%20%22fill%22%3A%20true%2C%20%22fillColor%22%3A%20%22%233186cc%22%2C%20%22fillOpacity%22%3A%200.7%2C%20%22fillRule%22%3A%20%22evenodd%22%2C%20%22lineCap%22%3A%20%22round%22%2C%20%22lineJoin%22%3A%20%22round%22%2C%20%22opacity%22%3A%201.0%2C%20%22radius%22%3A%205%2C%20%22stroke%22%3A%20true%2C%20%22weight%22%3A%203%7D%0A%20%20%20%20%20%20%20%20%20%20%20%20%29.addTo%28map_da402c8c143c4c8d8a2810a77806f651%29%3B%0A%20%20%20%20%20%20%20%20%0A%20%20%20%20%0A%20%20%20%20%20%20%20%20var%20popup_b86d34e74ea54db1a6dbe9d10705b557%20%3D%20L.popup%28%7B%22maxWidth%22%3A%20%22100%25%22%7D%29%3B%0A%0A%20%20%20%20%20%20%20%20%0A%20%20%20%20%20%20%20%20%20%20%20%20var%20html_10dd1792c6724404b2623d088b4da388%20%3D%20%24%28%60%3Cdiv%20id%3D%22html_10dd1792c6724404b2623d088b4da388%22%20style%3D%22width%3A%20100.0%25%3B%20height%3A%20100.0%25%3B%22%3EMorris%20Heights%2C%20Bronx%3C/div%3E%60%29%5B0%5D%3B%0A%20%20%20%20%20%20%20%20%20%20%20%20popup_b86d34e74ea54db1a6dbe9d10705b557.setContent%28html_10dd1792c6724404b2623d088b4da388%29%3B%0A%20%20%20%20%20%20%20%20%0A%0A%20%20%20%20%20%20%20%20circle_marker_fd2d9f747093423fa3c4f318d01bc3cf.bindPopup%28popup_b86d34e74ea54db1a6dbe9d10705b557%29%0A%20%20%20%20%20%20%20%20%3B%0A%0A%20%20%20%20%20%20%20%20%0A%20%20%20%20%0A%20%20%20%20%0A%20%20%20%20%20%20%20%20%20%20%20%20var%20circle_marker_6a7e79d6cb9644f6b4adb532eeaf61b6%20%3D%20L.circleMarker%28%0A%20%20%20%20%20%20%20%20%20%20%20%20%20%20%20%20%5B40.86099679638654%2C%20-73.89642655981623%5D%2C%0A%20%20%20%20%20%20%20%20%20%20%20%20%20%20%20%20%7B%22bubblingMouseEvents%22%3A%20true%2C%20%22color%22%3A%20%22blue%22%2C%20%22dashArray%22%3A%20null%2C%20%22dashOffset%22%3A%20null%2C%20%22fill%22%3A%20true%2C%20%22fillColor%22%3A%20%22%233186cc%22%2C%20%22fillOpacity%22%3A%200.7%2C%20%22fillRule%22%3A%20%22evenodd%22%2C%20%22lineCap%22%3A%20%22round%22%2C%20%22lineJoin%22%3A%20%22round%22%2C%20%22opacity%22%3A%201.0%2C%20%22radius%22%3A%205%2C%20%22stroke%22%3A%20true%2C%20%22weight%22%3A%203%7D%0A%20%20%20%20%20%20%20%20%20%20%20%20%29.addTo%28map_da402c8c143c4c8d8a2810a77806f651%29%3B%0A%20%20%20%20%20%20%20%20%0A%20%20%20%20%0A%20%20%20%20%20%20%20%20var%20popup_d6f601bfaa4d4cd49835c766fb3b9b1a%20%3D%20L.popup%28%7B%22maxWidth%22%3A%20%22100%25%22%7D%29%3B%0A%0A%20%20%20%20%20%20%20%20%0A%20%20%20%20%20%20%20%20%20%20%20%20var%20html_f10c8167216843bb8c8af80037c7e448%20%3D%20%24%28%60%3Cdiv%20id%3D%22html_f10c8167216843bb8c8af80037c7e448%22%20style%3D%22width%3A%20100.0%25%3B%20height%3A%20100.0%25%3B%22%3EFordham%2C%20Bronx%3C/div%3E%60%29%5B0%5D%3B%0A%20%20%20%20%20%20%20%20%20%20%20%20popup_d6f601bfaa4d4cd49835c766fb3b9b1a.setContent%28html_f10c8167216843bb8c8af80037c7e448%29%3B%0A%20%20%20%20%20%20%20%20%0A%0A%20%20%20%20%20%20%20%20circle_marker_6a7e79d6cb9644f6b4adb532eeaf61b6.bindPopup%28popup_d6f601bfaa4d4cd49835c766fb3b9b1a%29%0A%20%20%20%20%20%20%20%20%3B%0A%0A%20%20%20%20%20%20%20%20%0A%20%20%20%20%0A%20%20%20%20%0A%20%20%20%20%20%20%20%20%20%20%20%20var%20circle_marker_b2884597432a4e8fb008e18befaaa46e%20%3D%20L.circleMarker%28%0A%20%20%20%20%20%20%20%20%20%20%20%20%20%20%20%20%5B40.84269615786053%2C%20-73.88735617532338%5D%2C%0A%20%20%20%20%20%20%20%20%20%20%20%20%20%20%20%20%7B%22bubblingMouseEvents%22%3A%20true%2C%20%22color%22%3A%20%22blue%22%2C%20%22dashArray%22%3A%20null%2C%20%22dashOffset%22%3A%20null%2C%20%22fill%22%3A%20true%2C%20%22fillColor%22%3A%20%22%233186cc%22%2C%20%22fillOpacity%22%3A%200.7%2C%20%22fillRule%22%3A%20%22evenodd%22%2C%20%22lineCap%22%3A%20%22round%22%2C%20%22lineJoin%22%3A%20%22round%22%2C%20%22opacity%22%3A%201.0%2C%20%22radius%22%3A%205%2C%20%22stroke%22%3A%20true%2C%20%22weight%22%3A%203%7D%0A%20%20%20%20%20%20%20%20%20%20%20%20%29.addTo%28map_da402c8c143c4c8d8a2810a77806f651%29%3B%0A%20%20%20%20%20%20%20%20%0A%20%20%20%20%0A%20%20%20%20%20%20%20%20var%20popup_170ddd693b9f430c84b968d08a8b7367%20%3D%20L.popup%28%7B%22maxWidth%22%3A%20%22100%25%22%7D%29%3B%0A%0A%20%20%20%20%20%20%20%20%0A%20%20%20%20%20%20%20%20%20%20%20%20var%20html_c27f6e63994c4b348c10254ee3e8c385%20%3D%20%24%28%60%3Cdiv%20id%3D%22html_c27f6e63994c4b348c10254ee3e8c385%22%20style%3D%22width%3A%20100.0%25%3B%20height%3A%20100.0%25%3B%22%3EEast%20Tremont%2C%20Bronx%3C/div%3E%60%29%5B0%5D%3B%0A%20%20%20%20%20%20%20%20%20%20%20%20popup_170ddd693b9f430c84b968d08a8b7367.setContent%28html_c27f6e63994c4b348c10254ee3e8c385%29%3B%0A%20%20%20%20%20%20%20%20%0A%0A%20%20%20%20%20%20%20%20circle_marker_b2884597432a4e8fb008e18befaaa46e.bindPopup%28popup_170ddd693b9f430c84b968d08a8b7367%29%0A%20%20%20%20%20%20%20%20%3B%0A%0A%20%20%20%20%20%20%20%20%0A%20%20%20%20%0A%20%20%20%20%0A%20%20%20%20%20%20%20%20%20%20%20%20var%20circle_marker_02d41c18ac9340c18f7e0bc390425d1d%20%3D%20L.circleMarker%28%0A%20%20%20%20%20%20%20%20%20%20%20%20%20%20%20%20%5B40.83947505672653%2C%20-73.87774474910545%5D%2C%0A%20%20%20%20%20%20%20%20%20%20%20%20%20%20%20%20%7B%22bubblingMouseEvents%22%3A%20true%2C%20%22color%22%3A%20%22blue%22%2C%20%22dashArray%22%3A%20null%2C%20%22dashOffset%22%3A%20null%2C%20%22fill%22%3A%20true%2C%20%22fillColor%22%3A%20%22%233186cc%22%2C%20%22fillOpacity%22%3A%200.7%2C%20%22fillRule%22%3A%20%22evenodd%22%2C%20%22lineCap%22%3A%20%22round%22%2C%20%22lineJoin%22%3A%20%22round%22%2C%20%22opacity%22%3A%201.0%2C%20%22radius%22%3A%205%2C%20%22stroke%22%3A%20true%2C%20%22weight%22%3A%203%7D%0A%20%20%20%20%20%20%20%20%20%20%20%20%29.addTo%28map_da402c8c143c4c8d8a2810a77806f651%29%3B%0A%20%20%20%20%20%20%20%20%0A%20%20%20%20%0A%20%20%20%20%20%20%20%20var%20popup_65a43ff451a449b995a760e5451ec8b3%20%3D%20L.popup%28%7B%22maxWidth%22%3A%20%22100%25%22%7D%29%3B%0A%0A%20%20%20%20%20%20%20%20%0A%20%20%20%20%20%20%20%20%20%20%20%20var%20html_3eb80a4b5b074f689371741631fcc62e%20%3D%20%24%28%60%3Cdiv%20id%3D%22html_3eb80a4b5b074f689371741631fcc62e%22%20style%3D%22width%3A%20100.0%25%3B%20height%3A%20100.0%25%3B%22%3EWest%20Farms%2C%20Bronx%3C/div%3E%60%29%5B0%5D%3B%0A%20%20%20%20%20%20%20%20%20%20%20%20popup_65a43ff451a449b995a760e5451ec8b3.setContent%28html_3eb80a4b5b074f689371741631fcc62e%29%3B%0A%20%20%20%20%20%20%20%20%0A%0A%20%20%20%20%20%20%20%20circle_marker_02d41c18ac9340c18f7e0bc390425d1d.bindPopup%28popup_65a43ff451a449b995a760e5451ec8b3%29%0A%20%20%20%20%20%20%20%20%3B%0A%0A%20%20%20%20%20%20%20%20%0A%20%20%20%20%0A%20%20%20%20%0A%20%20%20%20%20%20%20%20%20%20%20%20var%20circle_marker_78955ffac9344a319da83952827d4624%20%3D%20L.circleMarker%28%0A%20%20%20%20%20%20%20%20%20%20%20%20%20%20%20%20%5B40.836623010706056%2C%20-73.9261020935813%5D%2C%0A%20%20%20%20%20%20%20%20%20%20%20%20%20%20%20%20%7B%22bubblingMouseEvents%22%3A%20true%2C%20%22color%22%3A%20%22blue%22%2C%20%22dashArray%22%3A%20null%2C%20%22dashOffset%22%3A%20null%2C%20%22fill%22%3A%20true%2C%20%22fillColor%22%3A%20%22%233186cc%22%2C%20%22fillOpacity%22%3A%200.7%2C%20%22fillRule%22%3A%20%22evenodd%22%2C%20%22lineCap%22%3A%20%22round%22%2C%20%22lineJoin%22%3A%20%22round%22%2C%20%22opacity%22%3A%201.0%2C%20%22radius%22%3A%205%2C%20%22stroke%22%3A%20true%2C%20%22weight%22%3A%203%7D%0A%20%20%20%20%20%20%20%20%20%20%20%20%29.addTo%28map_da402c8c143c4c8d8a2810a77806f651%29%3B%0A%20%20%20%20%20%20%20%20%0A%20%20%20%20%0A%20%20%20%20%20%20%20%20var%20popup_3ad64001045f4125b4f05b20d4e2cea9%20%3D%20L.popup%28%7B%22maxWidth%22%3A%20%22100%25%22%7D%29%3B%0A%0A%20%20%20%20%20%20%20%20%0A%20%20%20%20%20%20%20%20%20%20%20%20var%20html_e2c3b1cea18c41feaf6f3be13afb6851%20%3D%20%24%28%60%3Cdiv%20id%3D%22html_e2c3b1cea18c41feaf6f3be13afb6851%22%20style%3D%22width%3A%20100.0%25%3B%20height%3A%20100.0%25%3B%22%3EHigh%20%20Bridge%2C%20Bronx%3C/div%3E%60%29%5B0%5D%3B%0A%20%20%20%20%20%20%20%20%20%20%20%20popup_3ad64001045f4125b4f05b20d4e2cea9.setContent%28html_e2c3b1cea18c41feaf6f3be13afb6851%29%3B%0A%20%20%20%20%20%20%20%20%0A%0A%20%20%20%20%20%20%20%20circle_marker_78955ffac9344a319da83952827d4624.bindPopup%28popup_3ad64001045f4125b4f05b20d4e2cea9%29%0A%20%20%20%20%20%20%20%20%3B%0A%0A%20%20%20%20%20%20%20%20%0A%20%20%20%20%0A%20%20%20%20%0A%20%20%20%20%20%20%20%20%20%20%20%20var%20circle_marker_e0934640284b46ed8e7eee427a168325%20%3D%20L.circleMarker%28%0A%20%20%20%20%20%20%20%20%20%20%20%20%20%20%20%20%5B40.819754370594936%2C%20-73.90942160757436%5D%2C%0A%20%20%20%20%20%20%20%20%20%20%20%20%20%20%20%20%7B%22bubblingMouseEvents%22%3A%20true%2C%20%22color%22%3A%20%22blue%22%2C%20%22dashArray%22%3A%20null%2C%20%22dashOffset%22%3A%20null%2C%20%22fill%22%3A%20true%2C%20%22fillColor%22%3A%20%22%233186cc%22%2C%20%22fillOpacity%22%3A%200.7%2C%20%22fillRule%22%3A%20%22evenodd%22%2C%20%22lineCap%22%3A%20%22round%22%2C%20%22lineJoin%22%3A%20%22round%22%2C%20%22opacity%22%3A%201.0%2C%20%22radius%22%3A%205%2C%20%22stroke%22%3A%20true%2C%20%22weight%22%3A%203%7D%0A%20%20%20%20%20%20%20%20%20%20%20%20%29.addTo%28map_da402c8c143c4c8d8a2810a77806f651%29%3B%0A%20%20%20%20%20%20%20%20%0A%20%20%20%20%0A%20%20%20%20%20%20%20%20var%20popup_b41893beab0449b380cb698f86076bac%20%3D%20L.popup%28%7B%22maxWidth%22%3A%20%22100%25%22%7D%29%3B%0A%0A%20%20%20%20%20%20%20%20%0A%20%20%20%20%20%20%20%20%20%20%20%20var%20html_24aaaca36dfc4d22805a23bbf8b91511%20%3D%20%24%28%60%3Cdiv%20id%3D%22html_24aaaca36dfc4d22805a23bbf8b91511%22%20style%3D%22width%3A%20100.0%25%3B%20height%3A%20100.0%25%3B%22%3EMelrose%2C%20Bronx%3C/div%3E%60%29%5B0%5D%3B%0A%20%20%20%20%20%20%20%20%20%20%20%20popup_b41893beab0449b380cb698f86076bac.setContent%28html_24aaaca36dfc4d22805a23bbf8b91511%29%3B%0A%20%20%20%20%20%20%20%20%0A%0A%20%20%20%20%20%20%20%20circle_marker_e0934640284b46ed8e7eee427a168325.bindPopup%28popup_b41893beab0449b380cb698f86076bac%29%0A%20%20%20%20%20%20%20%20%3B%0A%0A%20%20%20%20%20%20%20%20%0A%20%20%20%20%0A%20%20%20%20%0A%20%20%20%20%20%20%20%20%20%20%20%20var%20circle_marker_68d4ed932bc342c6968374ffe86e69c0%20%3D%20L.circleMarker%28%0A%20%20%20%20%20%20%20%20%20%20%20%20%20%20%20%20%5B40.80623874935177%2C%20-73.91609987487575%5D%2C%0A%20%20%20%20%20%20%20%20%20%20%20%20%20%20%20%20%7B%22bubblingMouseEvents%22%3A%20true%2C%20%22color%22%3A%20%22blue%22%2C%20%22dashArray%22%3A%20null%2C%20%22dashOffset%22%3A%20null%2C%20%22fill%22%3A%20true%2C%20%22fillColor%22%3A%20%22%233186cc%22%2C%20%22fillOpacity%22%3A%200.7%2C%20%22fillRule%22%3A%20%22evenodd%22%2C%20%22lineCap%22%3A%20%22round%22%2C%20%22lineJoin%22%3A%20%22round%22%2C%20%22opacity%22%3A%201.0%2C%20%22radius%22%3A%205%2C%20%22stroke%22%3A%20true%2C%20%22weight%22%3A%203%7D%0A%20%20%20%20%20%20%20%20%20%20%20%20%29.addTo%28map_da402c8c143c4c8d8a2810a77806f651%29%3B%0A%20%20%20%20%20%20%20%20%0A%20%20%20%20%0A%20%20%20%20%20%20%20%20var%20popup_1edd0ebe1f7948c0ad39247178076ccd%20%3D%20L.popup%28%7B%22maxWidth%22%3A%20%22100%25%22%7D%29%3B%0A%0A%20%20%20%20%20%20%20%20%0A%20%20%20%20%20%20%20%20%20%20%20%20var%20html_27fddc66c01e43c7adb273af5a87b6b4%20%3D%20%24%28%60%3Cdiv%20id%3D%22html_27fddc66c01e43c7adb273af5a87b6b4%22%20style%3D%22width%3A%20100.0%25%3B%20height%3A%20100.0%25%3B%22%3EMott%20Haven%2C%20Bronx%3C/div%3E%60%29%5B0%5D%3B%0A%20%20%20%20%20%20%20%20%20%20%20%20popup_1edd0ebe1f7948c0ad39247178076ccd.setContent%28html_27fddc66c01e43c7adb273af5a87b6b4%29%3B%0A%20%20%20%20%20%20%20%20%0A%0A%20%20%20%20%20%20%20%20circle_marker_68d4ed932bc342c6968374ffe86e69c0.bindPopup%28popup_1edd0ebe1f7948c0ad39247178076ccd%29%0A%20%20%20%20%20%20%20%20%3B%0A%0A%20%20%20%20%20%20%20%20%0A%20%20%20%20%0A%20%20%20%20%0A%20%20%20%20%20%20%20%20%20%20%20%20var%20circle_marker_e8d75a7fe3314fc687fe78cf1ccbd8ad%20%3D%20L.circleMarker%28%0A%20%20%20%20%20%20%20%20%20%20%20%20%20%20%20%20%5B40.801663627756206%2C%20-73.91322139386135%5D%2C%0A%20%20%20%20%20%20%20%20%20%20%20%20%20%20%20%20%7B%22bubblingMouseEvents%22%3A%20true%2C%20%22color%22%3A%20%22blue%22%2C%20%22dashArray%22%3A%20null%2C%20%22dashOffset%22%3A%20null%2C%20%22fill%22%3A%20true%2C%20%22fillColor%22%3A%20%22%233186cc%22%2C%20%22fillOpacity%22%3A%200.7%2C%20%22fillRule%22%3A%20%22evenodd%22%2C%20%22lineCap%22%3A%20%22round%22%2C%20%22lineJoin%22%3A%20%22round%22%2C%20%22opacity%22%3A%201.0%2C%20%22radius%22%3A%205%2C%20%22stroke%22%3A%20true%2C%20%22weight%22%3A%203%7D%0A%20%20%20%20%20%20%20%20%20%20%20%20%29.addTo%28map_da402c8c143c4c8d8a2810a77806f651%29%3B%0A%20%20%20%20%20%20%20%20%0A%20%20%20%20%0A%20%20%20%20%20%20%20%20var%20popup_922d65b8f03d4537b1ace2ca022d274d%20%3D%20L.popup%28%7B%22maxWidth%22%3A%20%22100%25%22%7D%29%3B%0A%0A%20%20%20%20%20%20%20%20%0A%20%20%20%20%20%20%20%20%20%20%20%20var%20html_74cc373023984a74820de8ae34eb9131%20%3D%20%24%28%60%3Cdiv%20id%3D%22html_74cc373023984a74820de8ae34eb9131%22%20style%3D%22width%3A%20100.0%25%3B%20height%3A%20100.0%25%3B%22%3EPort%20Morris%2C%20Bronx%3C/div%3E%60%29%5B0%5D%3B%0A%20%20%20%20%20%20%20%20%20%20%20%20popup_922d65b8f03d4537b1ace2ca022d274d.setContent%28html_74cc373023984a74820de8ae34eb9131%29%3B%0A%20%20%20%20%20%20%20%20%0A%0A%20%20%20%20%20%20%20%20circle_marker_e8d75a7fe3314fc687fe78cf1ccbd8ad.bindPopup%28popup_922d65b8f03d4537b1ace2ca022d274d%29%0A%20%20%20%20%20%20%20%20%3B%0A%0A%20%20%20%20%20%20%20%20%0A%20%20%20%20%0A%20%20%20%20%0A%20%20%20%20%20%20%20%20%20%20%20%20var%20circle_marker_2b9908d76b19477ca9c93045ad1e099c%20%3D%20L.circleMarker%28%0A%20%20%20%20%20%20%20%20%20%20%20%20%20%20%20%20%5B40.81509904545822%2C%20-73.8957882009446%5D%2C%0A%20%20%20%20%20%20%20%20%20%20%20%20%20%20%20%20%7B%22bubblingMouseEvents%22%3A%20true%2C%20%22color%22%3A%20%22blue%22%2C%20%22dashArray%22%3A%20null%2C%20%22dashOffset%22%3A%20null%2C%20%22fill%22%3A%20true%2C%20%22fillColor%22%3A%20%22%233186cc%22%2C%20%22fillOpacity%22%3A%200.7%2C%20%22fillRule%22%3A%20%22evenodd%22%2C%20%22lineCap%22%3A%20%22round%22%2C%20%22lineJoin%22%3A%20%22round%22%2C%20%22opacity%22%3A%201.0%2C%20%22radius%22%3A%205%2C%20%22stroke%22%3A%20true%2C%20%22weight%22%3A%203%7D%0A%20%20%20%20%20%20%20%20%20%20%20%20%29.addTo%28map_da402c8c143c4c8d8a2810a77806f651%29%3B%0A%20%20%20%20%20%20%20%20%0A%20%20%20%20%0A%20%20%20%20%20%20%20%20var%20popup_0d12269faecf45449fc9092c3815687c%20%3D%20L.popup%28%7B%22maxWidth%22%3A%20%22100%25%22%7D%29%3B%0A%0A%20%20%20%20%20%20%20%20%0A%20%20%20%20%20%20%20%20%20%20%20%20var%20html_8b523019de144214a9ab46675007f3b0%20%3D%20%24%28%60%3Cdiv%20id%3D%22html_8b523019de144214a9ab46675007f3b0%22%20style%3D%22width%3A%20100.0%25%3B%20height%3A%20100.0%25%3B%22%3ELongwood%2C%20Bronx%3C/div%3E%60%29%5B0%5D%3B%0A%20%20%20%20%20%20%20%20%20%20%20%20popup_0d12269faecf45449fc9092c3815687c.setContent%28html_8b523019de144214a9ab46675007f3b0%29%3B%0A%20%20%20%20%20%20%20%20%0A%0A%20%20%20%20%20%20%20%20circle_marker_2b9908d76b19477ca9c93045ad1e099c.bindPopup%28popup_0d12269faecf45449fc9092c3815687c%29%0A%20%20%20%20%20%20%20%20%3B%0A%0A%20%20%20%20%20%20%20%20%0A%20%20%20%20%0A%20%20%20%20%0A%20%20%20%20%20%20%20%20%20%20%20%20var%20circle_marker_3b66e76c36d744a7bb67729cbdd97e76%20%3D%20L.circleMarker%28%0A%20%20%20%20%20%20%20%20%20%20%20%20%20%20%20%20%5B40.80972987938709%2C%20-73.88331505955291%5D%2C%0A%20%20%20%20%20%20%20%20%20%20%20%20%20%20%20%20%7B%22bubblingMouseEvents%22%3A%20true%2C%20%22color%22%3A%20%22blue%22%2C%20%22dashArray%22%3A%20null%2C%20%22dashOffset%22%3A%20null%2C%20%22fill%22%3A%20true%2C%20%22fillColor%22%3A%20%22%233186cc%22%2C%20%22fillOpacity%22%3A%200.7%2C%20%22fillRule%22%3A%20%22evenodd%22%2C%20%22lineCap%22%3A%20%22round%22%2C%20%22lineJoin%22%3A%20%22round%22%2C%20%22opacity%22%3A%201.0%2C%20%22radius%22%3A%205%2C%20%22stroke%22%3A%20true%2C%20%22weight%22%3A%203%7D%0A%20%20%20%20%20%20%20%20%20%20%20%20%29.addTo%28map_da402c8c143c4c8d8a2810a77806f651%29%3B%0A%20%20%20%20%20%20%20%20%0A%20%20%20%20%0A%20%20%20%20%20%20%20%20var%20popup_a672cf3a37d84221bc7d02ff4cf1239d%20%3D%20L.popup%28%7B%22maxWidth%22%3A%20%22100%25%22%7D%29%3B%0A%0A%20%20%20%20%20%20%20%20%0A%20%20%20%20%20%20%20%20%20%20%20%20var%20html_6a56e7955a36448b83b94fa16deb6287%20%3D%20%24%28%60%3Cdiv%20id%3D%22html_6a56e7955a36448b83b94fa16deb6287%22%20style%3D%22width%3A%20100.0%25%3B%20height%3A%20100.0%25%3B%22%3EHunts%20Point%2C%20Bronx%3C/div%3E%60%29%5B0%5D%3B%0A%20%20%20%20%20%20%20%20%20%20%20%20popup_a672cf3a37d84221bc7d02ff4cf1239d.setContent%28html_6a56e7955a36448b83b94fa16deb6287%29%3B%0A%20%20%20%20%20%20%20%20%0A%0A%20%20%20%20%20%20%20%20circle_marker_3b66e76c36d744a7bb67729cbdd97e76.bindPopup%28popup_a672cf3a37d84221bc7d02ff4cf1239d%29%0A%20%20%20%20%20%20%20%20%3B%0A%0A%20%20%20%20%20%20%20%20%0A%20%20%20%20%0A%20%20%20%20%0A%20%20%20%20%20%20%20%20%20%20%20%20var%20circle_marker_f3c08f7e361b431f8fb72d25097d757b%20%3D%20L.circleMarker%28%0A%20%20%20%20%20%20%20%20%20%20%20%20%20%20%20%20%5B40.82359198585534%2C%20-73.90150648943059%5D%2C%0A%20%20%20%20%20%20%20%20%20%20%20%20%20%20%20%20%7B%22bubblingMouseEvents%22%3A%20true%2C%20%22color%22%3A%20%22blue%22%2C%20%22dashArray%22%3A%20null%2C%20%22dashOffset%22%3A%20null%2C%20%22fill%22%3A%20true%2C%20%22fillColor%22%3A%20%22%233186cc%22%2C%20%22fillOpacity%22%3A%200.7%2C%20%22fillRule%22%3A%20%22evenodd%22%2C%20%22lineCap%22%3A%20%22round%22%2C%20%22lineJoin%22%3A%20%22round%22%2C%20%22opacity%22%3A%201.0%2C%20%22radius%22%3A%205%2C%20%22stroke%22%3A%20true%2C%20%22weight%22%3A%203%7D%0A%20%20%20%20%20%20%20%20%20%20%20%20%29.addTo%28map_da402c8c143c4c8d8a2810a77806f651%29%3B%0A%20%20%20%20%20%20%20%20%0A%20%20%20%20%0A%20%20%20%20%20%20%20%20var%20popup_87cd933b3312433898143926b9ebbd15%20%3D%20L.popup%28%7B%22maxWidth%22%3A%20%22100%25%22%7D%29%3B%0A%0A%20%20%20%20%20%20%20%20%0A%20%20%20%20%20%20%20%20%20%20%20%20var%20html_d83e351db12a49bbbd20b85958a360c1%20%3D%20%24%28%60%3Cdiv%20id%3D%22html_d83e351db12a49bbbd20b85958a360c1%22%20style%3D%22width%3A%20100.0%25%3B%20height%3A%20100.0%25%3B%22%3EMorrisania%2C%20Bronx%3C/div%3E%60%29%5B0%5D%3B%0A%20%20%20%20%20%20%20%20%20%20%20%20popup_87cd933b3312433898143926b9ebbd15.setContent%28html_d83e351db12a49bbbd20b85958a360c1%29%3B%0A%20%20%20%20%20%20%20%20%0A%0A%20%20%20%20%20%20%20%20circle_marker_f3c08f7e361b431f8fb72d25097d757b.bindPopup%28popup_87cd933b3312433898143926b9ebbd15%29%0A%20%20%20%20%20%20%20%20%3B%0A%0A%20%20%20%20%20%20%20%20%0A%20%20%20%20%0A%20%20%20%20%0A%20%20%20%20%20%20%20%20%20%20%20%20var%20circle_marker_08a4f46b786849e7bfd7afb6de994965%20%3D%20L.circleMarker%28%0A%20%20%20%20%20%20%20%20%20%20%20%20%20%20%20%20%5B40.821012197914015%2C%20-73.86574609554924%5D%2C%0A%20%20%20%20%20%20%20%20%20%20%20%20%20%20%20%20%7B%22bubblingMouseEvents%22%3A%20true%2C%20%22color%22%3A%20%22blue%22%2C%20%22dashArray%22%3A%20null%2C%20%22dashOffset%22%3A%20null%2C%20%22fill%22%3A%20true%2C%20%22fillColor%22%3A%20%22%233186cc%22%2C%20%22fillOpacity%22%3A%200.7%2C%20%22fillRule%22%3A%20%22evenodd%22%2C%20%22lineCap%22%3A%20%22round%22%2C%20%22lineJoin%22%3A%20%22round%22%2C%20%22opacity%22%3A%201.0%2C%20%22radius%22%3A%205%2C%20%22stroke%22%3A%20true%2C%20%22weight%22%3A%203%7D%0A%20%20%20%20%20%20%20%20%20%20%20%20%29.addTo%28map_da402c8c143c4c8d8a2810a77806f651%29%3B%0A%20%20%20%20%20%20%20%20%0A%20%20%20%20%0A%20%20%20%20%20%20%20%20var%20popup_5b8a571ad8e546a197f7a5448eb4b396%20%3D%20L.popup%28%7B%22maxWidth%22%3A%20%22100%25%22%7D%29%3B%0A%0A%20%20%20%20%20%20%20%20%0A%20%20%20%20%20%20%20%20%20%20%20%20var%20html_0598d4ca9c464f25ac0342378974be4f%20%3D%20%24%28%60%3Cdiv%20id%3D%22html_0598d4ca9c464f25ac0342378974be4f%22%20style%3D%22width%3A%20100.0%25%3B%20height%3A%20100.0%25%3B%22%3ESoundview%2C%20Bronx%3C/div%3E%60%29%5B0%5D%3B%0A%20%20%20%20%20%20%20%20%20%20%20%20popup_5b8a571ad8e546a197f7a5448eb4b396.setContent%28html_0598d4ca9c464f25ac0342378974be4f%29%3B%0A%20%20%20%20%20%20%20%20%0A%0A%20%20%20%20%20%20%20%20circle_marker_08a4f46b786849e7bfd7afb6de994965.bindPopup%28popup_5b8a571ad8e546a197f7a5448eb4b396%29%0A%20%20%20%20%20%20%20%20%3B%0A%0A%20%20%20%20%20%20%20%20%0A%20%20%20%20%0A%20%20%20%20%0A%20%20%20%20%20%20%20%20%20%20%20%20var%20circle_marker_66f6a6fbf6714640a4327f7783f99577%20%3D%20L.circleMarker%28%0A%20%20%20%20%20%20%20%20%20%20%20%20%20%20%20%20%5B40.80655112003589%2C%20-73.85414416189266%5D%2C%0A%20%20%20%20%20%20%20%20%20%20%20%20%20%20%20%20%7B%22bubblingMouseEvents%22%3A%20true%2C%20%22color%22%3A%20%22blue%22%2C%20%22dashArray%22%3A%20null%2C%20%22dashOffset%22%3A%20null%2C%20%22fill%22%3A%20true%2C%20%22fillColor%22%3A%20%22%233186cc%22%2C%20%22fillOpacity%22%3A%200.7%2C%20%22fillRule%22%3A%20%22evenodd%22%2C%20%22lineCap%22%3A%20%22round%22%2C%20%22lineJoin%22%3A%20%22round%22%2C%20%22opacity%22%3A%201.0%2C%20%22radius%22%3A%205%2C%20%22stroke%22%3A%20true%2C%20%22weight%22%3A%203%7D%0A%20%20%20%20%20%20%20%20%20%20%20%20%29.addTo%28map_da402c8c143c4c8d8a2810a77806f651%29%3B%0A%20%20%20%20%20%20%20%20%0A%20%20%20%20%0A%20%20%20%20%20%20%20%20var%20popup_e1e45f9624bd4bcb91f4eed89ac246d0%20%3D%20L.popup%28%7B%22maxWidth%22%3A%20%22100%25%22%7D%29%3B%0A%0A%20%20%20%20%20%20%20%20%0A%20%20%20%20%20%20%20%20%20%20%20%20var%20html_7b3947512e214eb991b36470a70d5d38%20%3D%20%24%28%60%3Cdiv%20id%3D%22html_7b3947512e214eb991b36470a70d5d38%22%20style%3D%22width%3A%20100.0%25%3B%20height%3A%20100.0%25%3B%22%3EClason%20Point%2C%20Bronx%3C/div%3E%60%29%5B0%5D%3B%0A%20%20%20%20%20%20%20%20%20%20%20%20popup_e1e45f9624bd4bcb91f4eed89ac246d0.setContent%28html_7b3947512e214eb991b36470a70d5d38%29%3B%0A%20%20%20%20%20%20%20%20%0A%0A%20%20%20%20%20%20%20%20circle_marker_66f6a6fbf6714640a4327f7783f99577.bindPopup%28popup_e1e45f9624bd4bcb91f4eed89ac246d0%29%0A%20%20%20%20%20%20%20%20%3B%0A%0A%20%20%20%20%20%20%20%20%0A%20%20%20%20%0A%20%20%20%20%0A%20%20%20%20%20%20%20%20%20%20%20%20var%20circle_marker_c92e8ca12f3d498f9ebc50e6f9ad63d6%20%3D%20L.circleMarker%28%0A%20%20%20%20%20%20%20%20%20%20%20%20%20%20%20%20%5B40.81510925804005%2C%20-73.81635002158441%5D%2C%0A%20%20%20%20%20%20%20%20%20%20%20%20%20%20%20%20%7B%22bubblingMouseEvents%22%3A%20true%2C%20%22color%22%3A%20%22blue%22%2C%20%22dashArray%22%3A%20null%2C%20%22dashOffset%22%3A%20null%2C%20%22fill%22%3A%20true%2C%20%22fillColor%22%3A%20%22%233186cc%22%2C%20%22fillOpacity%22%3A%200.7%2C%20%22fillRule%22%3A%20%22evenodd%22%2C%20%22lineCap%22%3A%20%22round%22%2C%20%22lineJoin%22%3A%20%22round%22%2C%20%22opacity%22%3A%201.0%2C%20%22radius%22%3A%205%2C%20%22stroke%22%3A%20true%2C%20%22weight%22%3A%203%7D%0A%20%20%20%20%20%20%20%20%20%20%20%20%29.addTo%28map_da402c8c143c4c8d8a2810a77806f651%29%3B%0A%20%20%20%20%20%20%20%20%0A%20%20%20%20%0A%20%20%20%20%20%20%20%20var%20popup_61d87779c4b34c42882664e5e02eb424%20%3D%20L.popup%28%7B%22maxWidth%22%3A%20%22100%25%22%7D%29%3B%0A%0A%20%20%20%20%20%20%20%20%0A%20%20%20%20%20%20%20%20%20%20%20%20var%20html_753615ce5caa4795bf940bf6ccbb6b1e%20%3D%20%24%28%60%3Cdiv%20id%3D%22html_753615ce5caa4795bf940bf6ccbb6b1e%22%20style%3D%22width%3A%20100.0%25%3B%20height%3A%20100.0%25%3B%22%3EThrogs%20Neck%2C%20Bronx%3C/div%3E%60%29%5B0%5D%3B%0A%20%20%20%20%20%20%20%20%20%20%20%20popup_61d87779c4b34c42882664e5e02eb424.setContent%28html_753615ce5caa4795bf940bf6ccbb6b1e%29%3B%0A%20%20%20%20%20%20%20%20%0A%0A%20%20%20%20%20%20%20%20circle_marker_c92e8ca12f3d498f9ebc50e6f9ad63d6.bindPopup%28popup_61d87779c4b34c42882664e5e02eb424%29%0A%20%20%20%20%20%20%20%20%3B%0A%0A%20%20%20%20%20%20%20%20%0A%20%20%20%20%0A%20%20%20%20%0A%20%20%20%20%20%20%20%20%20%20%20%20var%20circle_marker_96c4e2389dde4ed788a6a1aaf30c112f%20%3D%20L.circleMarker%28%0A%20%20%20%20%20%20%20%20%20%20%20%20%20%20%20%20%5B40.844245936947374%2C%20-73.8240992675385%5D%2C%0A%20%20%20%20%20%20%20%20%20%20%20%20%20%20%20%20%7B%22bubblingMouseEvents%22%3A%20true%2C%20%22color%22%3A%20%22blue%22%2C%20%22dashArray%22%3A%20null%2C%20%22dashOffset%22%3A%20null%2C%20%22fill%22%3A%20true%2C%20%22fillColor%22%3A%20%22%233186cc%22%2C%20%22fillOpacity%22%3A%200.7%2C%20%22fillRule%22%3A%20%22evenodd%22%2C%20%22lineCap%22%3A%20%22round%22%2C%20%22lineJoin%22%3A%20%22round%22%2C%20%22opacity%22%3A%201.0%2C%20%22radius%22%3A%205%2C%20%22stroke%22%3A%20true%2C%20%22weight%22%3A%203%7D%0A%20%20%20%20%20%20%20%20%20%20%20%20%29.addTo%28map_da402c8c143c4c8d8a2810a77806f651%29%3B%0A%20%20%20%20%20%20%20%20%0A%20%20%20%20%0A%20%20%20%20%20%20%20%20var%20popup_63b2d4f278294abf99374dbf4658b74c%20%3D%20L.popup%28%7B%22maxWidth%22%3A%20%22100%25%22%7D%29%3B%0A%0A%20%20%20%20%20%20%20%20%0A%20%20%20%20%20%20%20%20%20%20%20%20var%20html_a9b02a620725433c8596a76eac4d21f4%20%3D%20%24%28%60%3Cdiv%20id%3D%22html_a9b02a620725433c8596a76eac4d21f4%22%20style%3D%22width%3A%20100.0%25%3B%20height%3A%20100.0%25%3B%22%3ECountry%20Club%2C%20Bronx%3C/div%3E%60%29%5B0%5D%3B%0A%20%20%20%20%20%20%20%20%20%20%20%20popup_63b2d4f278294abf99374dbf4658b74c.setContent%28html_a9b02a620725433c8596a76eac4d21f4%29%3B%0A%20%20%20%20%20%20%20%20%0A%0A%20%20%20%20%20%20%20%20circle_marker_96c4e2389dde4ed788a6a1aaf30c112f.bindPopup%28popup_63b2d4f278294abf99374dbf4658b74c%29%0A%20%20%20%20%20%20%20%20%3B%0A%0A%20%20%20%20%20%20%20%20%0A%20%20%20%20%0A%20%20%20%20%0A%20%20%20%20%20%20%20%20%20%20%20%20var%20circle_marker_57bb6f2f876449e78c2adb1579eeda4a%20%3D%20L.circleMarker%28%0A%20%20%20%20%20%20%20%20%20%20%20%20%20%20%20%20%5B40.837937822267286%2C%20-73.85600310535783%5D%2C%0A%20%20%20%20%20%20%20%20%20%20%20%20%20%20%20%20%7B%22bubblingMouseEvents%22%3A%20true%2C%20%22color%22%3A%20%22blue%22%2C%20%22dashArray%22%3A%20null%2C%20%22dashOffset%22%3A%20null%2C%20%22fill%22%3A%20true%2C%20%22fillColor%22%3A%20%22%233186cc%22%2C%20%22fillOpacity%22%3A%200.7%2C%20%22fillRule%22%3A%20%22evenodd%22%2C%20%22lineCap%22%3A%20%22round%22%2C%20%22lineJoin%22%3A%20%22round%22%2C%20%22opacity%22%3A%201.0%2C%20%22radius%22%3A%205%2C%20%22stroke%22%3A%20true%2C%20%22weight%22%3A%203%7D%0A%20%20%20%20%20%20%20%20%20%20%20%20%29.addTo%28map_da402c8c143c4c8d8a2810a77806f651%29%3B%0A%20%20%20%20%20%20%20%20%0A%20%20%20%20%0A%20%20%20%20%20%20%20%20var%20popup_bd7710f460cc4f42905ede968374a437%20%3D%20L.popup%28%7B%22maxWidth%22%3A%20%22100%25%22%7D%29%3B%0A%0A%20%20%20%20%20%20%20%20%0A%20%20%20%20%20%20%20%20%20%20%20%20var%20html_a21f66ffe99b47e08923a98a4188f163%20%3D%20%24%28%60%3Cdiv%20id%3D%22html_a21f66ffe99b47e08923a98a4188f163%22%20style%3D%22width%3A%20100.0%25%3B%20height%3A%20100.0%25%3B%22%3EParkchester%2C%20Bronx%3C/div%3E%60%29%5B0%5D%3B%0A%20%20%20%20%20%20%20%20%20%20%20%20popup_bd7710f460cc4f42905ede968374a437.setContent%28html_a21f66ffe99b47e08923a98a4188f163%29%3B%0A%20%20%20%20%20%20%20%20%0A%0A%20%20%20%20%20%20%20%20circle_marker_57bb6f2f876449e78c2adb1579eeda4a.bindPopup%28popup_bd7710f460cc4f42905ede968374a437%29%0A%20%20%20%20%20%20%20%20%3B%0A%0A%20%20%20%20%20%20%20%20%0A%20%20%20%20%0A%20%20%20%20%0A%20%20%20%20%20%20%20%20%20%20%20%20var%20circle_marker_1f6749f6c6c44a7d85c26571950f44a9%20%3D%20L.circleMarker%28%0A%20%20%20%20%20%20%20%20%20%20%20%20%20%20%20%20%5B40.8406194964327%2C%20-73.84219407604444%5D%2C%0A%20%20%20%20%20%20%20%20%20%20%20%20%20%20%20%20%7B%22bubblingMouseEvents%22%3A%20true%2C%20%22color%22%3A%20%22blue%22%2C%20%22dashArray%22%3A%20null%2C%20%22dashOffset%22%3A%20null%2C%20%22fill%22%3A%20true%2C%20%22fillColor%22%3A%20%22%233186cc%22%2C%20%22fillOpacity%22%3A%200.7%2C%20%22fillRule%22%3A%20%22evenodd%22%2C%20%22lineCap%22%3A%20%22round%22%2C%20%22lineJoin%22%3A%20%22round%22%2C%20%22opacity%22%3A%201.0%2C%20%22radius%22%3A%205%2C%20%22stroke%22%3A%20true%2C%20%22weight%22%3A%203%7D%0A%20%20%20%20%20%20%20%20%20%20%20%20%29.addTo%28map_da402c8c143c4c8d8a2810a77806f651%29%3B%0A%20%20%20%20%20%20%20%20%0A%20%20%20%20%0A%20%20%20%20%20%20%20%20var%20popup_f032500aa3d74886a2467b197bf24019%20%3D%20L.popup%28%7B%22maxWidth%22%3A%20%22100%25%22%7D%29%3B%0A%0A%20%20%20%20%20%20%20%20%0A%20%20%20%20%20%20%20%20%20%20%20%20var%20html_f6fbac33247947ddb949344b4a43b658%20%3D%20%24%28%60%3Cdiv%20id%3D%22html_f6fbac33247947ddb949344b4a43b658%22%20style%3D%22width%3A%20100.0%25%3B%20height%3A%20100.0%25%3B%22%3EWestchester%20Square%2C%20Bronx%3C/div%3E%60%29%5B0%5D%3B%0A%20%20%20%20%20%20%20%20%20%20%20%20popup_f032500aa3d74886a2467b197bf24019.setContent%28html_f6fbac33247947ddb949344b4a43b658%29%3B%0A%20%20%20%20%20%20%20%20%0A%0A%20%20%20%20%20%20%20%20circle_marker_1f6749f6c6c44a7d85c26571950f44a9.bindPopup%28popup_f032500aa3d74886a2467b197bf24019%29%0A%20%20%20%20%20%20%20%20%3B%0A%0A%20%20%20%20%20%20%20%20%0A%20%20%20%20%0A%20%20%20%20%0A%20%20%20%20%20%20%20%20%20%20%20%20var%20circle_marker_a802a91ab76e4046bcac5953f9e10aeb%20%3D%20L.circleMarker%28%0A%20%20%20%20%20%20%20%20%20%20%20%20%20%20%20%20%5B40.84360847124718%2C%20-73.8662991807561%5D%2C%0A%20%20%20%20%20%20%20%20%20%20%20%20%20%20%20%20%7B%22bubblingMouseEvents%22%3A%20true%2C%20%22color%22%3A%20%22blue%22%2C%20%22dashArray%22%3A%20null%2C%20%22dashOffset%22%3A%20null%2C%20%22fill%22%3A%20true%2C%20%22fillColor%22%3A%20%22%233186cc%22%2C%20%22fillOpacity%22%3A%200.7%2C%20%22fillRule%22%3A%20%22evenodd%22%2C%20%22lineCap%22%3A%20%22round%22%2C%20%22lineJoin%22%3A%20%22round%22%2C%20%22opacity%22%3A%201.0%2C%20%22radius%22%3A%205%2C%20%22stroke%22%3A%20true%2C%20%22weight%22%3A%203%7D%0A%20%20%20%20%20%20%20%20%20%20%20%20%29.addTo%28map_da402c8c143c4c8d8a2810a77806f651%29%3B%0A%20%20%20%20%20%20%20%20%0A%20%20%20%20%0A%20%20%20%20%20%20%20%20var%20popup_18d30d8bbdc94e678f0435f292a37e57%20%3D%20L.popup%28%7B%22maxWidth%22%3A%20%22100%25%22%7D%29%3B%0A%0A%20%20%20%20%20%20%20%20%0A%20%20%20%20%20%20%20%20%20%20%20%20var%20html_7546e46072834bf6bbc834d666fd9bca%20%3D%20%24%28%60%3Cdiv%20id%3D%22html_7546e46072834bf6bbc834d666fd9bca%22%20style%3D%22width%3A%20100.0%25%3B%20height%3A%20100.0%25%3B%22%3EVan%20Nest%2C%20Bronx%3C/div%3E%60%29%5B0%5D%3B%0A%20%20%20%20%20%20%20%20%20%20%20%20popup_18d30d8bbdc94e678f0435f292a37e57.setContent%28html_7546e46072834bf6bbc834d666fd9bca%29%3B%0A%20%20%20%20%20%20%20%20%0A%0A%20%20%20%20%20%20%20%20circle_marker_a802a91ab76e4046bcac5953f9e10aeb.bindPopup%28popup_18d30d8bbdc94e678f0435f292a37e57%29%0A%20%20%20%20%20%20%20%20%3B%0A%0A%20%20%20%20%20%20%20%20%0A%20%20%20%20%0A%20%20%20%20%0A%20%20%20%20%20%20%20%20%20%20%20%20var%20circle_marker_ba59ca2ab98048a995a0f4e0b736784f%20%3D%20L.circleMarker%28%0A%20%20%20%20%20%20%20%20%20%20%20%20%20%20%20%20%5B40.847549063536334%2C%20-73.85040178030421%5D%2C%0A%20%20%20%20%20%20%20%20%20%20%20%20%20%20%20%20%7B%22bubblingMouseEvents%22%3A%20true%2C%20%22color%22%3A%20%22blue%22%2C%20%22dashArray%22%3A%20null%2C%20%22dashOffset%22%3A%20null%2C%20%22fill%22%3A%20true%2C%20%22fillColor%22%3A%20%22%233186cc%22%2C%20%22fillOpacity%22%3A%200.7%2C%20%22fillRule%22%3A%20%22evenodd%22%2C%20%22lineCap%22%3A%20%22round%22%2C%20%22lineJoin%22%3A%20%22round%22%2C%20%22opacity%22%3A%201.0%2C%20%22radius%22%3A%205%2C%20%22stroke%22%3A%20true%2C%20%22weight%22%3A%203%7D%0A%20%20%20%20%20%20%20%20%20%20%20%20%29.addTo%28map_da402c8c143c4c8d8a2810a77806f651%29%3B%0A%20%20%20%20%20%20%20%20%0A%20%20%20%20%0A%20%20%20%20%20%20%20%20var%20popup_b180febaa0e14a94943e51495ebbebb1%20%3D%20L.popup%28%7B%22maxWidth%22%3A%20%22100%25%22%7D%29%3B%0A%0A%20%20%20%20%20%20%20%20%0A%20%20%20%20%20%20%20%20%20%20%20%20var%20html_33aab2e111d44f5cb1e8f1a1b570677f%20%3D%20%24%28%60%3Cdiv%20id%3D%22html_33aab2e111d44f5cb1e8f1a1b570677f%22%20style%3D%22width%3A%20100.0%25%3B%20height%3A%20100.0%25%3B%22%3EMorris%20Park%2C%20Bronx%3C/div%3E%60%29%5B0%5D%3B%0A%20%20%20%20%20%20%20%20%20%20%20%20popup_b180febaa0e14a94943e51495ebbebb1.setContent%28html_33aab2e111d44f5cb1e8f1a1b570677f%29%3B%0A%20%20%20%20%20%20%20%20%0A%0A%20%20%20%20%20%20%20%20circle_marker_ba59ca2ab98048a995a0f4e0b736784f.bindPopup%28popup_b180febaa0e14a94943e51495ebbebb1%29%0A%20%20%20%20%20%20%20%20%3B%0A%0A%20%20%20%20%20%20%20%20%0A%20%20%20%20%0A%20%20%20%20%0A%20%20%20%20%20%20%20%20%20%20%20%20var%20circle_marker_e9bc5c7fae9f441487bc46f5d4d11dce%20%3D%20L.circleMarker%28%0A%20%20%20%20%20%20%20%20%20%20%20%20%20%20%20%20%5B40.85727710073895%2C%20-73.88845196134804%5D%2C%0A%20%20%20%20%20%20%20%20%20%20%20%20%20%20%20%20%7B%22bubblingMouseEvents%22%3A%20true%2C%20%22color%22%3A%20%22blue%22%2C%20%22dashArray%22%3A%20null%2C%20%22dashOffset%22%3A%20null%2C%20%22fill%22%3A%20true%2C%20%22fillColor%22%3A%20%22%233186cc%22%2C%20%22fillOpacity%22%3A%200.7%2C%20%22fillRule%22%3A%20%22evenodd%22%2C%20%22lineCap%22%3A%20%22round%22%2C%20%22lineJoin%22%3A%20%22round%22%2C%20%22opacity%22%3A%201.0%2C%20%22radius%22%3A%205%2C%20%22stroke%22%3A%20true%2C%20%22weight%22%3A%203%7D%0A%20%20%20%20%20%20%20%20%20%20%20%20%29.addTo%28map_da402c8c143c4c8d8a2810a77806f651%29%3B%0A%20%20%20%20%20%20%20%20%0A%20%20%20%20%0A%20%20%20%20%20%20%20%20var%20popup_c54b4c50b0084afb9cbb7a428c39f72f%20%3D%20L.popup%28%7B%22maxWidth%22%3A%20%22100%25%22%7D%29%3B%0A%0A%20%20%20%20%20%20%20%20%0A%20%20%20%20%20%20%20%20%20%20%20%20var%20html_f60c984167404c9891e45cc02acedb3d%20%3D%20%24%28%60%3Cdiv%20id%3D%22html_f60c984167404c9891e45cc02acedb3d%22%20style%3D%22width%3A%20100.0%25%3B%20height%3A%20100.0%25%3B%22%3EBelmont%2C%20Bronx%3C/div%3E%60%29%5B0%5D%3B%0A%20%20%20%20%20%20%20%20%20%20%20%20popup_c54b4c50b0084afb9cbb7a428c39f72f.setContent%28html_f60c984167404c9891e45cc02acedb3d%29%3B%0A%20%20%20%20%20%20%20%20%0A%0A%20%20%20%20%20%20%20%20circle_marker_e9bc5c7fae9f441487bc46f5d4d11dce.bindPopup%28popup_c54b4c50b0084afb9cbb7a428c39f72f%29%0A%20%20%20%20%20%20%20%20%3B%0A%0A%20%20%20%20%20%20%20%20%0A%20%20%20%20%0A%20%20%20%20%0A%20%20%20%20%20%20%20%20%20%20%20%20var%20circle_marker_0962c05140a14526ab3abf9df2be1417%20%3D%20L.circleMarker%28%0A%20%20%20%20%20%20%20%20%20%20%20%20%20%20%20%20%5B40.88139497727086%2C%20-73.91719048210393%5D%2C%0A%20%20%20%20%20%20%20%20%20%20%20%20%20%20%20%20%7B%22bubblingMouseEvents%22%3A%20true%2C%20%22color%22%3A%20%22blue%22%2C%20%22dashArray%22%3A%20null%2C%20%22dashOffset%22%3A%20null%2C%20%22fill%22%3A%20true%2C%20%22fillColor%22%3A%20%22%233186cc%22%2C%20%22fillOpacity%22%3A%200.7%2C%20%22fillRule%22%3A%20%22evenodd%22%2C%20%22lineCap%22%3A%20%22round%22%2C%20%22lineJoin%22%3A%20%22round%22%2C%20%22opacity%22%3A%201.0%2C%20%22radius%22%3A%205%2C%20%22stroke%22%3A%20true%2C%20%22weight%22%3A%203%7D%0A%20%20%20%20%20%20%20%20%20%20%20%20%29.addTo%28map_da402c8c143c4c8d8a2810a77806f651%29%3B%0A%20%20%20%20%20%20%20%20%0A%20%20%20%20%0A%20%20%20%20%20%20%20%20var%20popup_9feb2b01c0f64331be82b081b8b4a666%20%3D%20L.popup%28%7B%22maxWidth%22%3A%20%22100%25%22%7D%29%3B%0A%0A%20%20%20%20%20%20%20%20%0A%20%20%20%20%20%20%20%20%20%20%20%20var%20html_f1a80fbae2d94cea823f8382e22c9860%20%3D%20%24%28%60%3Cdiv%20id%3D%22html_f1a80fbae2d94cea823f8382e22c9860%22%20style%3D%22width%3A%20100.0%25%3B%20height%3A%20100.0%25%3B%22%3ESpuyten%20Duyvil%2C%20Bronx%3C/div%3E%60%29%5B0%5D%3B%0A%20%20%20%20%20%20%20%20%20%20%20%20popup_9feb2b01c0f64331be82b081b8b4a666.setContent%28html_f1a80fbae2d94cea823f8382e22c9860%29%3B%0A%20%20%20%20%20%20%20%20%0A%0A%20%20%20%20%20%20%20%20circle_marker_0962c05140a14526ab3abf9df2be1417.bindPopup%28popup_9feb2b01c0f64331be82b081b8b4a666%29%0A%20%20%20%20%20%20%20%20%3B%0A%0A%20%20%20%20%20%20%20%20%0A%20%20%20%20%0A%20%20%20%20%0A%20%20%20%20%20%20%20%20%20%20%20%20var%20circle_marker_aa9048fe745545a39448f26fa7fd4f92%20%3D%20L.circleMarker%28%0A%20%20%20%20%20%20%20%20%20%20%20%20%20%20%20%20%5B40.90854282950666%2C%20-73.90453054908927%5D%2C%0A%20%20%20%20%20%20%20%20%20%20%20%20%20%20%20%20%7B%22bubblingMouseEvents%22%3A%20true%2C%20%22color%22%3A%20%22blue%22%2C%20%22dashArray%22%3A%20null%2C%20%22dashOffset%22%3A%20null%2C%20%22fill%22%3A%20true%2C%20%22fillColor%22%3A%20%22%233186cc%22%2C%20%22fillOpacity%22%3A%200.7%2C%20%22fillRule%22%3A%20%22evenodd%22%2C%20%22lineCap%22%3A%20%22round%22%2C%20%22lineJoin%22%3A%20%22round%22%2C%20%22opacity%22%3A%201.0%2C%20%22radius%22%3A%205%2C%20%22stroke%22%3A%20true%2C%20%22weight%22%3A%203%7D%0A%20%20%20%20%20%20%20%20%20%20%20%20%29.addTo%28map_da402c8c143c4c8d8a2810a77806f651%29%3B%0A%20%20%20%20%20%20%20%20%0A%20%20%20%20%0A%20%20%20%20%20%20%20%20var%20popup_0486b2b955494f44a9c5ace5b430a330%20%3D%20L.popup%28%7B%22maxWidth%22%3A%20%22100%25%22%7D%29%3B%0A%0A%20%20%20%20%20%20%20%20%0A%20%20%20%20%20%20%20%20%20%20%20%20var%20html_e8c431b08dc84d9aad1e2c6b2c599094%20%3D%20%24%28%60%3Cdiv%20id%3D%22html_e8c431b08dc84d9aad1e2c6b2c599094%22%20style%3D%22width%3A%20100.0%25%3B%20height%3A%20100.0%25%3B%22%3ENorth%20Riverdale%2C%20Bronx%3C/div%3E%60%29%5B0%5D%3B%0A%20%20%20%20%20%20%20%20%20%20%20%20popup_0486b2b955494f44a9c5ace5b430a330.setContent%28html_e8c431b08dc84d9aad1e2c6b2c599094%29%3B%0A%20%20%20%20%20%20%20%20%0A%0A%20%20%20%20%20%20%20%20circle_marker_aa9048fe745545a39448f26fa7fd4f92.bindPopup%28popup_0486b2b955494f44a9c5ace5b430a330%29%0A%20%20%20%20%20%20%20%20%3B%0A%0A%20%20%20%20%20%20%20%20%0A%20%20%20%20%0A%20%20%20%20%0A%20%20%20%20%20%20%20%20%20%20%20%20var%20circle_marker_f4c32ca306ab4314a4cfda69fc662f65%20%3D%20L.circleMarker%28%0A%20%20%20%20%20%20%20%20%20%20%20%20%20%20%20%20%5B40.85064140940335%2C%20-73.8320737824047%5D%2C%0A%20%20%20%20%20%20%20%20%20%20%20%20%20%20%20%20%7B%22bubblingMouseEvents%22%3A%20true%2C%20%22color%22%3A%20%22blue%22%2C%20%22dashArray%22%3A%20null%2C%20%22dashOffset%22%3A%20null%2C%20%22fill%22%3A%20true%2C%20%22fillColor%22%3A%20%22%233186cc%22%2C%20%22fillOpacity%22%3A%200.7%2C%20%22fillRule%22%3A%20%22evenodd%22%2C%20%22lineCap%22%3A%20%22round%22%2C%20%22lineJoin%22%3A%20%22round%22%2C%20%22opacity%22%3A%201.0%2C%20%22radius%22%3A%205%2C%20%22stroke%22%3A%20true%2C%20%22weight%22%3A%203%7D%0A%20%20%20%20%20%20%20%20%20%20%20%20%29.addTo%28map_da402c8c143c4c8d8a2810a77806f651%29%3B%0A%20%20%20%20%20%20%20%20%0A%20%20%20%20%0A%20%20%20%20%20%20%20%20var%20popup_1c96891dd77c4465bf24b2d625e08b54%20%3D%20L.popup%28%7B%22maxWidth%22%3A%20%22100%25%22%7D%29%3B%0A%0A%20%20%20%20%20%20%20%20%0A%20%20%20%20%20%20%20%20%20%20%20%20var%20html_5113f605df3f4f98a74fcbe91ff4ae72%20%3D%20%24%28%60%3Cdiv%20id%3D%22html_5113f605df3f4f98a74fcbe91ff4ae72%22%20style%3D%22width%3A%20100.0%25%3B%20height%3A%20100.0%25%3B%22%3EPelham%20Bay%2C%20Bronx%3C/div%3E%60%29%5B0%5D%3B%0A%20%20%20%20%20%20%20%20%20%20%20%20popup_1c96891dd77c4465bf24b2d625e08b54.setContent%28html_5113f605df3f4f98a74fcbe91ff4ae72%29%3B%0A%20%20%20%20%20%20%20%20%0A%0A%20%20%20%20%20%20%20%20circle_marker_f4c32ca306ab4314a4cfda69fc662f65.bindPopup%28popup_1c96891dd77c4465bf24b2d625e08b54%29%0A%20%20%20%20%20%20%20%20%3B%0A%0A%20%20%20%20%20%20%20%20%0A%20%20%20%20%0A%20%20%20%20%0A%20%20%20%20%20%20%20%20%20%20%20%20var%20circle_marker_baf9947d3ee1478a961d895cc673860f%20%3D%20L.circleMarker%28%0A%20%20%20%20%20%20%20%20%20%20%20%20%20%20%20%20%5B40.82657951686922%2C%20-73.82620275994073%5D%2C%0A%20%20%20%20%20%20%20%20%20%20%20%20%20%20%20%20%7B%22bubblingMouseEvents%22%3A%20true%2C%20%22color%22%3A%20%22blue%22%2C%20%22dashArray%22%3A%20null%2C%20%22dashOffset%22%3A%20null%2C%20%22fill%22%3A%20true%2C%20%22fillColor%22%3A%20%22%233186cc%22%2C%20%22fillOpacity%22%3A%200.7%2C%20%22fillRule%22%3A%20%22evenodd%22%2C%20%22lineCap%22%3A%20%22round%22%2C%20%22lineJoin%22%3A%20%22round%22%2C%20%22opacity%22%3A%201.0%2C%20%22radius%22%3A%205%2C%20%22stroke%22%3A%20true%2C%20%22weight%22%3A%203%7D%0A%20%20%20%20%20%20%20%20%20%20%20%20%29.addTo%28map_da402c8c143c4c8d8a2810a77806f651%29%3B%0A%20%20%20%20%20%20%20%20%0A%20%20%20%20%0A%20%20%20%20%20%20%20%20var%20popup_417ddc9d78254f888b3fbb00304d79a7%20%3D%20L.popup%28%7B%22maxWidth%22%3A%20%22100%25%22%7D%29%3B%0A%0A%20%20%20%20%20%20%20%20%0A%20%20%20%20%20%20%20%20%20%20%20%20var%20html_8515ce2f48d04b338c663531d36fd6de%20%3D%20%24%28%60%3Cdiv%20id%3D%22html_8515ce2f48d04b338c663531d36fd6de%22%20style%3D%22width%3A%20100.0%25%3B%20height%3A%20100.0%25%3B%22%3ESchuylerville%2C%20Bronx%3C/div%3E%60%29%5B0%5D%3B%0A%20%20%20%20%20%20%20%20%20%20%20%20popup_417ddc9d78254f888b3fbb00304d79a7.setContent%28html_8515ce2f48d04b338c663531d36fd6de%29%3B%0A%20%20%20%20%20%20%20%20%0A%0A%20%20%20%20%20%20%20%20circle_marker_baf9947d3ee1478a961d895cc673860f.bindPopup%28popup_417ddc9d78254f888b3fbb00304d79a7%29%0A%20%20%20%20%20%20%20%20%3B%0A%0A%20%20%20%20%20%20%20%20%0A%20%20%20%20%0A%20%20%20%20%0A%20%20%20%20%20%20%20%20%20%20%20%20var%20circle_marker_a4d06e21ddf844ef9111a491f57a61ea%20%3D%20L.circleMarker%28%0A%20%20%20%20%20%20%20%20%20%20%20%20%20%20%20%20%5B40.821986118163494%2C%20-73.81388514428619%5D%2C%0A%20%20%20%20%20%20%20%20%20%20%20%20%20%20%20%20%7B%22bubblingMouseEvents%22%3A%20true%2C%20%22color%22%3A%20%22blue%22%2C%20%22dashArray%22%3A%20null%2C%20%22dashOffset%22%3A%20null%2C%20%22fill%22%3A%20true%2C%20%22fillColor%22%3A%20%22%233186cc%22%2C%20%22fillOpacity%22%3A%200.7%2C%20%22fillRule%22%3A%20%22evenodd%22%2C%20%22lineCap%22%3A%20%22round%22%2C%20%22lineJoin%22%3A%20%22round%22%2C%20%22opacity%22%3A%201.0%2C%20%22radius%22%3A%205%2C%20%22stroke%22%3A%20true%2C%20%22weight%22%3A%203%7D%0A%20%20%20%20%20%20%20%20%20%20%20%20%29.addTo%28map_da402c8c143c4c8d8a2810a77806f651%29%3B%0A%20%20%20%20%20%20%20%20%0A%20%20%20%20%0A%20%20%20%20%20%20%20%20var%20popup_41b41b5e8ece43859872f777bf6cb274%20%3D%20L.popup%28%7B%22maxWidth%22%3A%20%22100%25%22%7D%29%3B%0A%0A%20%20%20%20%20%20%20%20%0A%20%20%20%20%20%20%20%20%20%20%20%20var%20html_7a5f48885b62411bab417b108596d196%20%3D%20%24%28%60%3Cdiv%20id%3D%22html_7a5f48885b62411bab417b108596d196%22%20style%3D%22width%3A%20100.0%25%3B%20height%3A%20100.0%25%3B%22%3EEdgewater%20Park%2C%20Bronx%3C/div%3E%60%29%5B0%5D%3B%0A%20%20%20%20%20%20%20%20%20%20%20%20popup_41b41b5e8ece43859872f777bf6cb274.setContent%28html_7a5f48885b62411bab417b108596d196%29%3B%0A%20%20%20%20%20%20%20%20%0A%0A%20%20%20%20%20%20%20%20circle_marker_a4d06e21ddf844ef9111a491f57a61ea.bindPopup%28popup_41b41b5e8ece43859872f777bf6cb274%29%0A%20%20%20%20%20%20%20%20%3B%0A%0A%20%20%20%20%20%20%20%20%0A%20%20%20%20%0A%20%20%20%20%0A%20%20%20%20%20%20%20%20%20%20%20%20var%20circle_marker_ec18396a11574dc3b8700e4e4218dde9%20%3D%20L.circleMarker%28%0A%20%20%20%20%20%20%20%20%20%20%20%20%20%20%20%20%5B40.819014376988314%2C%20-73.84802729582735%5D%2C%0A%20%20%20%20%20%20%20%20%20%20%20%20%20%20%20%20%7B%22bubblingMouseEvents%22%3A%20true%2C%20%22color%22%3A%20%22blue%22%2C%20%22dashArray%22%3A%20null%2C%20%22dashOffset%22%3A%20null%2C%20%22fill%22%3A%20true%2C%20%22fillColor%22%3A%20%22%233186cc%22%2C%20%22fillOpacity%22%3A%200.7%2C%20%22fillRule%22%3A%20%22evenodd%22%2C%20%22lineCap%22%3A%20%22round%22%2C%20%22lineJoin%22%3A%20%22round%22%2C%20%22opacity%22%3A%201.0%2C%20%22radius%22%3A%205%2C%20%22stroke%22%3A%20true%2C%20%22weight%22%3A%203%7D%0A%20%20%20%20%20%20%20%20%20%20%20%20%29.addTo%28map_da402c8c143c4c8d8a2810a77806f651%29%3B%0A%20%20%20%20%20%20%20%20%0A%20%20%20%20%0A%20%20%20%20%20%20%20%20var%20popup_a1560c23d7534f369a1d70ef3962607a%20%3D%20L.popup%28%7B%22maxWidth%22%3A%20%22100%25%22%7D%29%3B%0A%0A%20%20%20%20%20%20%20%20%0A%20%20%20%20%20%20%20%20%20%20%20%20var%20html_16f5b897a2f944f68147fe3229f952c1%20%3D%20%24%28%60%3Cdiv%20id%3D%22html_16f5b897a2f944f68147fe3229f952c1%22%20style%3D%22width%3A%20100.0%25%3B%20height%3A%20100.0%25%3B%22%3ECastle%20Hill%2C%20Bronx%3C/div%3E%60%29%5B0%5D%3B%0A%20%20%20%20%20%20%20%20%20%20%20%20popup_a1560c23d7534f369a1d70ef3962607a.setContent%28html_16f5b897a2f944f68147fe3229f952c1%29%3B%0A%20%20%20%20%20%20%20%20%0A%0A%20%20%20%20%20%20%20%20circle_marker_ec18396a11574dc3b8700e4e4218dde9.bindPopup%28popup_a1560c23d7534f369a1d70ef3962607a%29%0A%20%20%20%20%20%20%20%20%3B%0A%0A%20%20%20%20%20%20%20%20%0A%20%20%20%20%0A%20%20%20%20%0A%20%20%20%20%20%20%20%20%20%20%20%20var%20circle_marker_149fa103c7274144ad6a3f75d6bfaee9%20%3D%20L.circleMarker%28%0A%20%20%20%20%20%20%20%20%20%20%20%20%20%20%20%20%5B40.87137078192371%2C%20-73.86332361652777%5D%2C%0A%20%20%20%20%20%20%20%20%20%20%20%20%20%20%20%20%7B%22bubblingMouseEvents%22%3A%20true%2C%20%22color%22%3A%20%22blue%22%2C%20%22dashArray%22%3A%20null%2C%20%22dashOffset%22%3A%20null%2C%20%22fill%22%3A%20true%2C%20%22fillColor%22%3A%20%22%233186cc%22%2C%20%22fillOpacity%22%3A%200.7%2C%20%22fillRule%22%3A%20%22evenodd%22%2C%20%22lineCap%22%3A%20%22round%22%2C%20%22lineJoin%22%3A%20%22round%22%2C%20%22opacity%22%3A%201.0%2C%20%22radius%22%3A%205%2C%20%22stroke%22%3A%20true%2C%20%22weight%22%3A%203%7D%0A%20%20%20%20%20%20%20%20%20%20%20%20%29.addTo%28map_da402c8c143c4c8d8a2810a77806f651%29%3B%0A%20%20%20%20%20%20%20%20%0A%20%20%20%20%0A%20%20%20%20%20%20%20%20var%20popup_d86f1d8bccf84c3aaccfd7988ddf618e%20%3D%20L.popup%28%7B%22maxWidth%22%3A%20%22100%25%22%7D%29%3B%0A%0A%20%20%20%20%20%20%20%20%0A%20%20%20%20%20%20%20%20%20%20%20%20var%20html_a3f549730db94888839653e90235994f%20%3D%20%24%28%60%3Cdiv%20id%3D%22html_a3f549730db94888839653e90235994f%22%20style%3D%22width%3A%20100.0%25%3B%20height%3A%20100.0%25%3B%22%3EOlinville%2C%20Bronx%3C/div%3E%60%29%5B0%5D%3B%0A%20%20%20%20%20%20%20%20%20%20%20%20popup_d86f1d8bccf84c3aaccfd7988ddf618e.setContent%28html_a3f549730db94888839653e90235994f%29%3B%0A%20%20%20%20%20%20%20%20%0A%0A%20%20%20%20%20%20%20%20circle_marker_149fa103c7274144ad6a3f75d6bfaee9.bindPopup%28popup_d86f1d8bccf84c3aaccfd7988ddf618e%29%0A%20%20%20%20%20%20%20%20%3B%0A%0A%20%20%20%20%20%20%20%20%0A%20%20%20%20%0A%20%20%20%20%0A%20%20%20%20%20%20%20%20%20%20%20%20var%20circle_marker_177ad2a6a7244861bd67a1ac111e25fc%20%3D%20L.circleMarker%28%0A%20%20%20%20%20%20%20%20%20%20%20%20%20%20%20%20%5B40.86296562477998%2C%20-73.84161194831223%5D%2C%0A%20%20%20%20%20%20%20%20%20%20%20%20%20%20%20%20%7B%22bubblingMouseEvents%22%3A%20true%2C%20%22color%22%3A%20%22blue%22%2C%20%22dashArray%22%3A%20null%2C%20%22dashOffset%22%3A%20null%2C%20%22fill%22%3A%20true%2C%20%22fillColor%22%3A%20%22%233186cc%22%2C%20%22fillOpacity%22%3A%200.7%2C%20%22fillRule%22%3A%20%22evenodd%22%2C%20%22lineCap%22%3A%20%22round%22%2C%20%22lineJoin%22%3A%20%22round%22%2C%20%22opacity%22%3A%201.0%2C%20%22radius%22%3A%205%2C%20%22stroke%22%3A%20true%2C%20%22weight%22%3A%203%7D%0A%20%20%20%20%20%20%20%20%20%20%20%20%29.addTo%28map_da402c8c143c4c8d8a2810a77806f651%29%3B%0A%20%20%20%20%20%20%20%20%0A%20%20%20%20%0A%20%20%20%20%20%20%20%20var%20popup_e5e784d754e04c4199cc7a7992b4c26b%20%3D%20L.popup%28%7B%22maxWidth%22%3A%20%22100%25%22%7D%29%3B%0A%0A%20%20%20%20%20%20%20%20%0A%20%20%20%20%20%20%20%20%20%20%20%20var%20html_7aa2a3d3cc0e43509f25a9e1eab0cb25%20%3D%20%24%28%60%3Cdiv%20id%3D%22html_7aa2a3d3cc0e43509f25a9e1eab0cb25%22%20style%3D%22width%3A%20100.0%25%3B%20height%3A%20100.0%25%3B%22%3EPelham%20Gardens%2C%20Bronx%3C/div%3E%60%29%5B0%5D%3B%0A%20%20%20%20%20%20%20%20%20%20%20%20popup_e5e784d754e04c4199cc7a7992b4c26b.setContent%28html_7aa2a3d3cc0e43509f25a9e1eab0cb25%29%3B%0A%20%20%20%20%20%20%20%20%0A%0A%20%20%20%20%20%20%20%20circle_marker_177ad2a6a7244861bd67a1ac111e25fc.bindPopup%28popup_e5e784d754e04c4199cc7a7992b4c26b%29%0A%20%20%20%20%20%20%20%20%3B%0A%0A%20%20%20%20%20%20%20%20%0A%20%20%20%20%0A%20%20%20%20%0A%20%20%20%20%20%20%20%20%20%20%20%20var%20circle_marker_db6cf7ecbd684fac914bab3c0d90a09e%20%3D%20L.circleMarker%28%0A%20%20%20%20%20%20%20%20%20%20%20%20%20%20%20%20%5B40.83428380733851%2C%20-73.91558941773444%5D%2C%0A%20%20%20%20%20%20%20%20%20%20%20%20%20%20%20%20%7B%22bubblingMouseEvents%22%3A%20true%2C%20%22color%22%3A%20%22blue%22%2C%20%22dashArray%22%3A%20null%2C%20%22dashOffset%22%3A%20null%2C%20%22fill%22%3A%20true%2C%20%22fillColor%22%3A%20%22%233186cc%22%2C%20%22fillOpacity%22%3A%200.7%2C%20%22fillRule%22%3A%20%22evenodd%22%2C%20%22lineCap%22%3A%20%22round%22%2C%20%22lineJoin%22%3A%20%22round%22%2C%20%22opacity%22%3A%201.0%2C%20%22radius%22%3A%205%2C%20%22stroke%22%3A%20true%2C%20%22weight%22%3A%203%7D%0A%20%20%20%20%20%20%20%20%20%20%20%20%29.addTo%28map_da402c8c143c4c8d8a2810a77806f651%29%3B%0A%20%20%20%20%20%20%20%20%0A%20%20%20%20%0A%20%20%20%20%20%20%20%20var%20popup_056cfb8f726242c2b7f2d573761cd0d8%20%3D%20L.popup%28%7B%22maxWidth%22%3A%20%22100%25%22%7D%29%3B%0A%0A%20%20%20%20%20%20%20%20%0A%20%20%20%20%20%20%20%20%20%20%20%20var%20html_2971071bd9a548599e38ecd02cd9fc74%20%3D%20%24%28%60%3Cdiv%20id%3D%22html_2971071bd9a548599e38ecd02cd9fc74%22%20style%3D%22width%3A%20100.0%25%3B%20height%3A%20100.0%25%3B%22%3EConcourse%2C%20Bronx%3C/div%3E%60%29%5B0%5D%3B%0A%20%20%20%20%20%20%20%20%20%20%20%20popup_056cfb8f726242c2b7f2d573761cd0d8.setContent%28html_2971071bd9a548599e38ecd02cd9fc74%29%3B%0A%20%20%20%20%20%20%20%20%0A%0A%20%20%20%20%20%20%20%20circle_marker_db6cf7ecbd684fac914bab3c0d90a09e.bindPopup%28popup_056cfb8f726242c2b7f2d573761cd0d8%29%0A%20%20%20%20%20%20%20%20%3B%0A%0A%20%20%20%20%20%20%20%20%0A%20%20%20%20%0A%20%20%20%20%0A%20%20%20%20%20%20%20%20%20%20%20%20var%20circle_marker_aead7f00215e4f1ab6b476cf6c466bc3%20%3D%20L.circleMarker%28%0A%20%20%20%20%20%20%20%20%20%20%20%20%20%20%20%20%5B40.82977429787161%2C%20-73.85053524451935%5D%2C%0A%20%20%20%20%20%20%20%20%20%20%20%20%20%20%20%20%7B%22bubblingMouseEvents%22%3A%20true%2C%20%22color%22%3A%20%22blue%22%2C%20%22dashArray%22%3A%20null%2C%20%22dashOffset%22%3A%20null%2C%20%22fill%22%3A%20true%2C%20%22fillColor%22%3A%20%22%233186cc%22%2C%20%22fillOpacity%22%3A%200.7%2C%20%22fillRule%22%3A%20%22evenodd%22%2C%20%22lineCap%22%3A%20%22round%22%2C%20%22lineJoin%22%3A%20%22round%22%2C%20%22opacity%22%3A%201.0%2C%20%22radius%22%3A%205%2C%20%22stroke%22%3A%20true%2C%20%22weight%22%3A%203%7D%0A%20%20%20%20%20%20%20%20%20%20%20%20%29.addTo%28map_da402c8c143c4c8d8a2810a77806f651%29%3B%0A%20%20%20%20%20%20%20%20%0A%20%20%20%20%0A%20%20%20%20%20%20%20%20var%20popup_78428e31b3ea4bce89e7563d3e86e68b%20%3D%20L.popup%28%7B%22maxWidth%22%3A%20%22100%25%22%7D%29%3B%0A%0A%20%20%20%20%20%20%20%20%0A%20%20%20%20%20%20%20%20%20%20%20%20var%20html_5d9c0e47552845c28b529721ecd2b3f2%20%3D%20%24%28%60%3Cdiv%20id%3D%22html_5d9c0e47552845c28b529721ecd2b3f2%22%20style%3D%22width%3A%20100.0%25%3B%20height%3A%20100.0%25%3B%22%3EUnionport%2C%20Bronx%3C/div%3E%60%29%5B0%5D%3B%0A%20%20%20%20%20%20%20%20%20%20%20%20popup_78428e31b3ea4bce89e7563d3e86e68b.setContent%28html_5d9c0e47552845c28b529721ecd2b3f2%29%3B%0A%20%20%20%20%20%20%20%20%0A%0A%20%20%20%20%20%20%20%20circle_marker_aead7f00215e4f1ab6b476cf6c466bc3.bindPopup%28popup_78428e31b3ea4bce89e7563d3e86e68b%29%0A%20%20%20%20%20%20%20%20%3B%0A%0A%20%20%20%20%20%20%20%20%0A%20%20%20%20%0A%20%20%20%20%0A%20%20%20%20%20%20%20%20%20%20%20%20var%20circle_marker_07ae5f15ff394eeea3f9508c6bb2b6b3%20%3D%20L.circleMarker%28%0A%20%20%20%20%20%20%20%20%20%20%20%20%20%20%20%20%5B40.88456130303732%2C%20-73.84808271877168%5D%2C%0A%20%20%20%20%20%20%20%20%20%20%20%20%20%20%20%20%7B%22bubblingMouseEvents%22%3A%20true%2C%20%22color%22%3A%20%22blue%22%2C%20%22dashArray%22%3A%20null%2C%20%22dashOffset%22%3A%20null%2C%20%22fill%22%3A%20true%2C%20%22fillColor%22%3A%20%22%233186cc%22%2C%20%22fillOpacity%22%3A%200.7%2C%20%22fillRule%22%3A%20%22evenodd%22%2C%20%22lineCap%22%3A%20%22round%22%2C%20%22lineJoin%22%3A%20%22round%22%2C%20%22opacity%22%3A%201.0%2C%20%22radius%22%3A%205%2C%20%22stroke%22%3A%20true%2C%20%22weight%22%3A%203%7D%0A%20%20%20%20%20%20%20%20%20%20%20%20%29.addTo%28map_da402c8c143c4c8d8a2810a77806f651%29%3B%0A%20%20%20%20%20%20%20%20%0A%20%20%20%20%0A%20%20%20%20%20%20%20%20var%20popup_f89bccf6716b4f4c93994bba54d879a4%20%3D%20L.popup%28%7B%22maxWidth%22%3A%20%22100%25%22%7D%29%3B%0A%0A%20%20%20%20%20%20%20%20%0A%20%20%20%20%20%20%20%20%20%20%20%20var%20html_c9ea029f67334a758f1574f54466badb%20%3D%20%24%28%60%3Cdiv%20id%3D%22html_c9ea029f67334a758f1574f54466badb%22%20style%3D%22width%3A%20100.0%25%3B%20height%3A%20100.0%25%3B%22%3EEdenwald%2C%20Bronx%3C/div%3E%60%29%5B0%5D%3B%0A%20%20%20%20%20%20%20%20%20%20%20%20popup_f89bccf6716b4f4c93994bba54d879a4.setContent%28html_c9ea029f67334a758f1574f54466badb%29%3B%0A%20%20%20%20%20%20%20%20%0A%0A%20%20%20%20%20%20%20%20circle_marker_07ae5f15ff394eeea3f9508c6bb2b6b3.bindPopup%28popup_f89bccf6716b4f4c93994bba54d879a4%29%0A%20%20%20%20%20%20%20%20%3B%0A%0A%20%20%20%20%20%20%20%20%0A%20%20%20%20%0A%20%20%20%20%0A%20%20%20%20%20%20%20%20%20%20%20%20var%20circle_marker_123d60f60faf4943a4e4933f31fb662e%20%3D%20L.circleMarker%28%0A%20%20%20%20%20%20%20%20%20%20%20%20%20%20%20%20%5B40.625801065010656%2C%20-74.03062069353813%5D%2C%0A%20%20%20%20%20%20%20%20%20%20%20%20%20%20%20%20%7B%22bubblingMouseEvents%22%3A%20true%2C%20%22color%22%3A%20%22blue%22%2C%20%22dashArray%22%3A%20null%2C%20%22dashOffset%22%3A%20null%2C%20%22fill%22%3A%20true%2C%20%22fillColor%22%3A%20%22%233186cc%22%2C%20%22fillOpacity%22%3A%200.7%2C%20%22fillRule%22%3A%20%22evenodd%22%2C%20%22lineCap%22%3A%20%22round%22%2C%20%22lineJoin%22%3A%20%22round%22%2C%20%22opacity%22%3A%201.0%2C%20%22radius%22%3A%205%2C%20%22stroke%22%3A%20true%2C%20%22weight%22%3A%203%7D%0A%20%20%20%20%20%20%20%20%20%20%20%20%29.addTo%28map_da402c8c143c4c8d8a2810a77806f651%29%3B%0A%20%20%20%20%20%20%20%20%0A%20%20%20%20%0A%20%20%20%20%20%20%20%20var%20popup_3910d4a4b43f470e83e071895bd0a550%20%3D%20L.popup%28%7B%22maxWidth%22%3A%20%22100%25%22%7D%29%3B%0A%0A%20%20%20%20%20%20%20%20%0A%20%20%20%20%20%20%20%20%20%20%20%20var%20html_9fe5f4b223244db8b77798fef2355375%20%3D%20%24%28%60%3Cdiv%20id%3D%22html_9fe5f4b223244db8b77798fef2355375%22%20style%3D%22width%3A%20100.0%25%3B%20height%3A%20100.0%25%3B%22%3EBay%20Ridge%2C%20Brooklyn%3C/div%3E%60%29%5B0%5D%3B%0A%20%20%20%20%20%20%20%20%20%20%20%20popup_3910d4a4b43f470e83e071895bd0a550.setContent%28html_9fe5f4b223244db8b77798fef2355375%29%3B%0A%20%20%20%20%20%20%20%20%0A%0A%20%20%20%20%20%20%20%20circle_marker_123d60f60faf4943a4e4933f31fb662e.bindPopup%28popup_3910d4a4b43f470e83e071895bd0a550%29%0A%20%20%20%20%20%20%20%20%3B%0A%0A%20%20%20%20%20%20%20%20%0A%20%20%20%20%0A%20%20%20%20%0A%20%20%20%20%20%20%20%20%20%20%20%20var%20circle_marker_8503fa3b2b074860a43c40e4c02b258f%20%3D%20L.circleMarker%28%0A%20%20%20%20%20%20%20%20%20%20%20%20%20%20%20%20%5B40.61100890202044%2C%20-73.99517998380729%5D%2C%0A%20%20%20%20%20%20%20%20%20%20%20%20%20%20%20%20%7B%22bubblingMouseEvents%22%3A%20true%2C%20%22color%22%3A%20%22blue%22%2C%20%22dashArray%22%3A%20null%2C%20%22dashOffset%22%3A%20null%2C%20%22fill%22%3A%20true%2C%20%22fillColor%22%3A%20%22%233186cc%22%2C%20%22fillOpacity%22%3A%200.7%2C%20%22fillRule%22%3A%20%22evenodd%22%2C%20%22lineCap%22%3A%20%22round%22%2C%20%22lineJoin%22%3A%20%22round%22%2C%20%22opacity%22%3A%201.0%2C%20%22radius%22%3A%205%2C%20%22stroke%22%3A%20true%2C%20%22weight%22%3A%203%7D%0A%20%20%20%20%20%20%20%20%20%20%20%20%29.addTo%28map_da402c8c143c4c8d8a2810a77806f651%29%3B%0A%20%20%20%20%20%20%20%20%0A%20%20%20%20%0A%20%20%20%20%20%20%20%20var%20popup_c49db8ae67b64c2c807dd8ee5c63e217%20%3D%20L.popup%28%7B%22maxWidth%22%3A%20%22100%25%22%7D%29%3B%0A%0A%20%20%20%20%20%20%20%20%0A%20%20%20%20%20%20%20%20%20%20%20%20var%20html_69a93c61935f4453a97880415a00fbe1%20%3D%20%24%28%60%3Cdiv%20id%3D%22html_69a93c61935f4453a97880415a00fbe1%22%20style%3D%22width%3A%20100.0%25%3B%20height%3A%20100.0%25%3B%22%3EBensonhurst%2C%20Brooklyn%3C/div%3E%60%29%5B0%5D%3B%0A%20%20%20%20%20%20%20%20%20%20%20%20popup_c49db8ae67b64c2c807dd8ee5c63e217.setContent%28html_69a93c61935f4453a97880415a00fbe1%29%3B%0A%20%20%20%20%20%20%20%20%0A%0A%20%20%20%20%20%20%20%20circle_marker_8503fa3b2b074860a43c40e4c02b258f.bindPopup%28popup_c49db8ae67b64c2c807dd8ee5c63e217%29%0A%20%20%20%20%20%20%20%20%3B%0A%0A%20%20%20%20%20%20%20%20%0A%20%20%20%20%0A%20%20%20%20%0A%20%20%20%20%20%20%20%20%20%20%20%20var%20circle_marker_a3dfd2839a9545269ce5042ee0c9e508%20%3D%20L.circleMarker%28%0A%20%20%20%20%20%20%20%20%20%20%20%20%20%20%20%20%5B40.64510294925429%2C%20-74.01031618527784%5D%2C%0A%20%20%20%20%20%20%20%20%20%20%20%20%20%20%20%20%7B%22bubblingMouseEvents%22%3A%20true%2C%20%22color%22%3A%20%22blue%22%2C%20%22dashArray%22%3A%20null%2C%20%22dashOffset%22%3A%20null%2C%20%22fill%22%3A%20true%2C%20%22fillColor%22%3A%20%22%233186cc%22%2C%20%22fillOpacity%22%3A%200.7%2C%20%22fillRule%22%3A%20%22evenodd%22%2C%20%22lineCap%22%3A%20%22round%22%2C%20%22lineJoin%22%3A%20%22round%22%2C%20%22opacity%22%3A%201.0%2C%20%22radius%22%3A%205%2C%20%22stroke%22%3A%20true%2C%20%22weight%22%3A%203%7D%0A%20%20%20%20%20%20%20%20%20%20%20%20%29.addTo%28map_da402c8c143c4c8d8a2810a77806f651%29%3B%0A%20%20%20%20%20%20%20%20%0A%20%20%20%20%0A%20%20%20%20%20%20%20%20var%20popup_502ea7ff81c44a11b69bb35a99f5a229%20%3D%20L.popup%28%7B%22maxWidth%22%3A%20%22100%25%22%7D%29%3B%0A%0A%20%20%20%20%20%20%20%20%0A%20%20%20%20%20%20%20%20%20%20%20%20var%20html_6b1e34a376d047628eecb3f4088bee91%20%3D%20%24%28%60%3Cdiv%20id%3D%22html_6b1e34a376d047628eecb3f4088bee91%22%20style%3D%22width%3A%20100.0%25%3B%20height%3A%20100.0%25%3B%22%3ESunset%20Park%2C%20Brooklyn%3C/div%3E%60%29%5B0%5D%3B%0A%20%20%20%20%20%20%20%20%20%20%20%20popup_502ea7ff81c44a11b69bb35a99f5a229.setContent%28html_6b1e34a376d047628eecb3f4088bee91%29%3B%0A%20%20%20%20%20%20%20%20%0A%0A%20%20%20%20%20%20%20%20circle_marker_a3dfd2839a9545269ce5042ee0c9e508.bindPopup%28popup_502ea7ff81c44a11b69bb35a99f5a229%29%0A%20%20%20%20%20%20%20%20%3B%0A%0A%20%20%20%20%20%20%20%20%0A%20%20%20%20%0A%20%20%20%20%0A%20%20%20%20%20%20%20%20%20%20%20%20var%20circle_marker_714294650b994290a73964b0908c0fca%20%3D%20L.circleMarker%28%0A%20%20%20%20%20%20%20%20%20%20%20%20%20%20%20%20%5B40.7302009848647%2C%20-73.95424093127393%5D%2C%0A%20%20%20%20%20%20%20%20%20%20%20%20%20%20%20%20%7B%22bubblingMouseEvents%22%3A%20true%2C%20%22color%22%3A%20%22blue%22%2C%20%22dashArray%22%3A%20null%2C%20%22dashOffset%22%3A%20null%2C%20%22fill%22%3A%20true%2C%20%22fillColor%22%3A%20%22%233186cc%22%2C%20%22fillOpacity%22%3A%200.7%2C%20%22fillRule%22%3A%20%22evenodd%22%2C%20%22lineCap%22%3A%20%22round%22%2C%20%22lineJoin%22%3A%20%22round%22%2C%20%22opacity%22%3A%201.0%2C%20%22radius%22%3A%205%2C%20%22stroke%22%3A%20true%2C%20%22weight%22%3A%203%7D%0A%20%20%20%20%20%20%20%20%20%20%20%20%29.addTo%28map_da402c8c143c4c8d8a2810a77806f651%29%3B%0A%20%20%20%20%20%20%20%20%0A%20%20%20%20%0A%20%20%20%20%20%20%20%20var%20popup_a6aa3cd2fe3a418da705cd18201c9757%20%3D%20L.popup%28%7B%22maxWidth%22%3A%20%22100%25%22%7D%29%3B%0A%0A%20%20%20%20%20%20%20%20%0A%20%20%20%20%20%20%20%20%20%20%20%20var%20html_6e96794945584939973f9c3897de2ed3%20%3D%20%24%28%60%3Cdiv%20id%3D%22html_6e96794945584939973f9c3897de2ed3%22%20style%3D%22width%3A%20100.0%25%3B%20height%3A%20100.0%25%3B%22%3EGreenpoint%2C%20Brooklyn%3C/div%3E%60%29%5B0%5D%3B%0A%20%20%20%20%20%20%20%20%20%20%20%20popup_a6aa3cd2fe3a418da705cd18201c9757.setContent%28html_6e96794945584939973f9c3897de2ed3%29%3B%0A%20%20%20%20%20%20%20%20%0A%0A%20%20%20%20%20%20%20%20circle_marker_714294650b994290a73964b0908c0fca.bindPopup%28popup_a6aa3cd2fe3a418da705cd18201c9757%29%0A%20%20%20%20%20%20%20%20%3B%0A%0A%20%20%20%20%20%20%20%20%0A%20%20%20%20%0A%20%20%20%20%0A%20%20%20%20%20%20%20%20%20%20%20%20var%20circle_marker_262b0b5e43c04254a5f6d124f7ea0d93%20%3D%20L.circleMarker%28%0A%20%20%20%20%20%20%20%20%20%20%20%20%20%20%20%20%5B40.59526001306593%2C%20-73.97347087708445%5D%2C%0A%20%20%20%20%20%20%20%20%20%20%20%20%20%20%20%20%7B%22bubblingMouseEvents%22%3A%20true%2C%20%22color%22%3A%20%22blue%22%2C%20%22dashArray%22%3A%20null%2C%20%22dashOffset%22%3A%20null%2C%20%22fill%22%3A%20true%2C%20%22fillColor%22%3A%20%22%233186cc%22%2C%20%22fillOpacity%22%3A%200.7%2C%20%22fillRule%22%3A%20%22evenodd%22%2C%20%22lineCap%22%3A%20%22round%22%2C%20%22lineJoin%22%3A%20%22round%22%2C%20%22opacity%22%3A%201.0%2C%20%22radius%22%3A%205%2C%20%22stroke%22%3A%20true%2C%20%22weight%22%3A%203%7D%0A%20%20%20%20%20%20%20%20%20%20%20%20%29.addTo%28map_da402c8c143c4c8d8a2810a77806f651%29%3B%0A%20%20%20%20%20%20%20%20%0A%20%20%20%20%0A%20%20%20%20%20%20%20%20var%20popup_00c139eafb2b47b49a2f4cdd443b2f24%20%3D%20L.popup%28%7B%22maxWidth%22%3A%20%22100%25%22%7D%29%3B%0A%0A%20%20%20%20%20%20%20%20%0A%20%20%20%20%20%20%20%20%20%20%20%20var%20html_953d20f744ca4fc5b76f5d054067d5a5%20%3D%20%24%28%60%3Cdiv%20id%3D%22html_953d20f744ca4fc5b76f5d054067d5a5%22%20style%3D%22width%3A%20100.0%25%3B%20height%3A%20100.0%25%3B%22%3EGravesend%2C%20Brooklyn%3C/div%3E%60%29%5B0%5D%3B%0A%20%20%20%20%20%20%20%20%20%20%20%20popup_00c139eafb2b47b49a2f4cdd443b2f24.setContent%28html_953d20f744ca4fc5b76f5d054067d5a5%29%3B%0A%20%20%20%20%20%20%20%20%0A%0A%20%20%20%20%20%20%20%20circle_marker_262b0b5e43c04254a5f6d124f7ea0d93.bindPopup%28popup_00c139eafb2b47b49a2f4cdd443b2f24%29%0A%20%20%20%20%20%20%20%20%3B%0A%0A%20%20%20%20%20%20%20%20%0A%20%20%20%20%0A%20%20%20%20%0A%20%20%20%20%20%20%20%20%20%20%20%20var%20circle_marker_d23c9ac961c5479b81ed9c387b57ce27%20%3D%20L.circleMarker%28%0A%20%20%20%20%20%20%20%20%20%20%20%20%20%20%20%20%5B40.57682506566604%2C%20-73.96509448785336%5D%2C%0A%20%20%20%20%20%20%20%20%20%20%20%20%20%20%20%20%7B%22bubblingMouseEvents%22%3A%20true%2C%20%22color%22%3A%20%22blue%22%2C%20%22dashArray%22%3A%20null%2C%20%22dashOffset%22%3A%20null%2C%20%22fill%22%3A%20true%2C%20%22fillColor%22%3A%20%22%233186cc%22%2C%20%22fillOpacity%22%3A%200.7%2C%20%22fillRule%22%3A%20%22evenodd%22%2C%20%22lineCap%22%3A%20%22round%22%2C%20%22lineJoin%22%3A%20%22round%22%2C%20%22opacity%22%3A%201.0%2C%20%22radius%22%3A%205%2C%20%22stroke%22%3A%20true%2C%20%22weight%22%3A%203%7D%0A%20%20%20%20%20%20%20%20%20%20%20%20%29.addTo%28map_da402c8c143c4c8d8a2810a77806f651%29%3B%0A%20%20%20%20%20%20%20%20%0A%20%20%20%20%0A%20%20%20%20%20%20%20%20var%20popup_88f91ecb6351482c931417aaaaded309%20%3D%20L.popup%28%7B%22maxWidth%22%3A%20%22100%25%22%7D%29%3B%0A%0A%20%20%20%20%20%20%20%20%0A%20%20%20%20%20%20%20%20%20%20%20%20var%20html_6b04612a0a3a490bac3e1a0d26e4bf7a%20%3D%20%24%28%60%3Cdiv%20id%3D%22html_6b04612a0a3a490bac3e1a0d26e4bf7a%22%20style%3D%22width%3A%20100.0%25%3B%20height%3A%20100.0%25%3B%22%3EBrighton%20Beach%2C%20Brooklyn%3C/div%3E%60%29%5B0%5D%3B%0A%20%20%20%20%20%20%20%20%20%20%20%20popup_88f91ecb6351482c931417aaaaded309.setContent%28html_6b04612a0a3a490bac3e1a0d26e4bf7a%29%3B%0A%20%20%20%20%20%20%20%20%0A%0A%20%20%20%20%20%20%20%20circle_marker_d23c9ac961c5479b81ed9c387b57ce27.bindPopup%28popup_88f91ecb6351482c931417aaaaded309%29%0A%20%20%20%20%20%20%20%20%3B%0A%0A%20%20%20%20%20%20%20%20%0A%20%20%20%20%0A%20%20%20%20%0A%20%20%20%20%20%20%20%20%20%20%20%20var%20circle_marker_76ac404e128340ac9a4e254416f86e0b%20%3D%20L.circleMarker%28%0A%20%20%20%20%20%20%20%20%20%20%20%20%20%20%20%20%5B40.58689012678384%2C%20-73.94318640482979%5D%2C%0A%20%20%20%20%20%20%20%20%20%20%20%20%20%20%20%20%7B%22bubblingMouseEvents%22%3A%20true%2C%20%22color%22%3A%20%22blue%22%2C%20%22dashArray%22%3A%20null%2C%20%22dashOffset%22%3A%20null%2C%20%22fill%22%3A%20true%2C%20%22fillColor%22%3A%20%22%233186cc%22%2C%20%22fillOpacity%22%3A%200.7%2C%20%22fillRule%22%3A%20%22evenodd%22%2C%20%22lineCap%22%3A%20%22round%22%2C%20%22lineJoin%22%3A%20%22round%22%2C%20%22opacity%22%3A%201.0%2C%20%22radius%22%3A%205%2C%20%22stroke%22%3A%20true%2C%20%22weight%22%3A%203%7D%0A%20%20%20%20%20%20%20%20%20%20%20%20%29.addTo%28map_da402c8c143c4c8d8a2810a77806f651%29%3B%0A%20%20%20%20%20%20%20%20%0A%20%20%20%20%0A%20%20%20%20%20%20%20%20var%20popup_f250f3764fdd43a08e375aebd970b49a%20%3D%20L.popup%28%7B%22maxWidth%22%3A%20%22100%25%22%7D%29%3B%0A%0A%20%20%20%20%20%20%20%20%0A%20%20%20%20%20%20%20%20%20%20%20%20var%20html_b58f2f009ff9442591c3b4399584c63a%20%3D%20%24%28%60%3Cdiv%20id%3D%22html_b58f2f009ff9442591c3b4399584c63a%22%20style%3D%22width%3A%20100.0%25%3B%20height%3A%20100.0%25%3B%22%3ESheepshead%20Bay%2C%20Brooklyn%3C/div%3E%60%29%5B0%5D%3B%0A%20%20%20%20%20%20%20%20%20%20%20%20popup_f250f3764fdd43a08e375aebd970b49a.setContent%28html_b58f2f009ff9442591c3b4399584c63a%29%3B%0A%20%20%20%20%20%20%20%20%0A%0A%20%20%20%20%20%20%20%20circle_marker_76ac404e128340ac9a4e254416f86e0b.bindPopup%28popup_f250f3764fdd43a08e375aebd970b49a%29%0A%20%20%20%20%20%20%20%20%3B%0A%0A%20%20%20%20%20%20%20%20%0A%20%20%20%20%0A%20%20%20%20%0A%20%20%20%20%20%20%20%20%20%20%20%20var%20circle_marker_c4a4635219ce43d895f33702ba0501b3%20%3D%20L.circleMarker%28%0A%20%20%20%20%20%20%20%20%20%20%20%20%20%20%20%20%5B40.61443251335098%2C%20-73.95743840559939%5D%2C%0A%20%20%20%20%20%20%20%20%20%20%20%20%20%20%20%20%7B%22bubblingMouseEvents%22%3A%20true%2C%20%22color%22%3A%20%22blue%22%2C%20%22dashArray%22%3A%20null%2C%20%22dashOffset%22%3A%20null%2C%20%22fill%22%3A%20true%2C%20%22fillColor%22%3A%20%22%233186cc%22%2C%20%22fillOpacity%22%3A%200.7%2C%20%22fillRule%22%3A%20%22evenodd%22%2C%20%22lineCap%22%3A%20%22round%22%2C%20%22lineJoin%22%3A%20%22round%22%2C%20%22opacity%22%3A%201.0%2C%20%22radius%22%3A%205%2C%20%22stroke%22%3A%20true%2C%20%22weight%22%3A%203%7D%0A%20%20%20%20%20%20%20%20%20%20%20%20%29.addTo%28map_da402c8c143c4c8d8a2810a77806f651%29%3B%0A%20%20%20%20%20%20%20%20%0A%20%20%20%20%0A%20%20%20%20%20%20%20%20var%20popup_1d97391501ab4f3c99dcbb65124d8ca8%20%3D%20L.popup%28%7B%22maxWidth%22%3A%20%22100%25%22%7D%29%3B%0A%0A%20%20%20%20%20%20%20%20%0A%20%20%20%20%20%20%20%20%20%20%20%20var%20html_accc7e8520d6428c99546ab883f7ef74%20%3D%20%24%28%60%3Cdiv%20id%3D%22html_accc7e8520d6428c99546ab883f7ef74%22%20style%3D%22width%3A%20100.0%25%3B%20height%3A%20100.0%25%3B%22%3EManhattan%20Terrace%2C%20Brooklyn%3C/div%3E%60%29%5B0%5D%3B%0A%20%20%20%20%20%20%20%20%20%20%20%20popup_1d97391501ab4f3c99dcbb65124d8ca8.setContent%28html_accc7e8520d6428c99546ab883f7ef74%29%3B%0A%20%20%20%20%20%20%20%20%0A%0A%20%20%20%20%20%20%20%20circle_marker_c4a4635219ce43d895f33702ba0501b3.bindPopup%28popup_1d97391501ab4f3c99dcbb65124d8ca8%29%0A%20%20%20%20%20%20%20%20%3B%0A%0A%20%20%20%20%20%20%20%20%0A%20%20%20%20%0A%20%20%20%20%0A%20%20%20%20%20%20%20%20%20%20%20%20var%20circle_marker_5ab1bce142b54f34a94c874c4127af4d%20%3D%20L.circleMarker%28%0A%20%20%20%20%20%20%20%20%20%20%20%20%20%20%20%20%5B40.63632589026677%2C%20-73.95840106533903%5D%2C%0A%20%20%20%20%20%20%20%20%20%20%20%20%20%20%20%20%7B%22bubblingMouseEvents%22%3A%20true%2C%20%22color%22%3A%20%22blue%22%2C%20%22dashArray%22%3A%20null%2C%20%22dashOffset%22%3A%20null%2C%20%22fill%22%3A%20true%2C%20%22fillColor%22%3A%20%22%233186cc%22%2C%20%22fillOpacity%22%3A%200.7%2C%20%22fillRule%22%3A%20%22evenodd%22%2C%20%22lineCap%22%3A%20%22round%22%2C%20%22lineJoin%22%3A%20%22round%22%2C%20%22opacity%22%3A%201.0%2C%20%22radius%22%3A%205%2C%20%22stroke%22%3A%20true%2C%20%22weight%22%3A%203%7D%0A%20%20%20%20%20%20%20%20%20%20%20%20%29.addTo%28map_da402c8c143c4c8d8a2810a77806f651%29%3B%0A%20%20%20%20%20%20%20%20%0A%20%20%20%20%0A%20%20%20%20%20%20%20%20var%20popup_ec49a839af42481cad3f83be8e8fedde%20%3D%20L.popup%28%7B%22maxWidth%22%3A%20%22100%25%22%7D%29%3B%0A%0A%20%20%20%20%20%20%20%20%0A%20%20%20%20%20%20%20%20%20%20%20%20var%20html_54564c44fa2a47ea9d80f0cff0bd3052%20%3D%20%24%28%60%3Cdiv%20id%3D%22html_54564c44fa2a47ea9d80f0cff0bd3052%22%20style%3D%22width%3A%20100.0%25%3B%20height%3A%20100.0%25%3B%22%3EFlatbush%2C%20Brooklyn%3C/div%3E%60%29%5B0%5D%3B%0A%20%20%20%20%20%20%20%20%20%20%20%20popup_ec49a839af42481cad3f83be8e8fedde.setContent%28html_54564c44fa2a47ea9d80f0cff0bd3052%29%3B%0A%20%20%20%20%20%20%20%20%0A%0A%20%20%20%20%20%20%20%20circle_marker_5ab1bce142b54f34a94c874c4127af4d.bindPopup%28popup_ec49a839af42481cad3f83be8e8fedde%29%0A%20%20%20%20%20%20%20%20%3B%0A%0A%20%20%20%20%20%20%20%20%0A%20%20%20%20%0A%20%20%20%20%0A%20%20%20%20%20%20%20%20%20%20%20%20var%20circle_marker_36a4c9b61aa043a8aefe21c6c3677443%20%3D%20L.circleMarker%28%0A%20%20%20%20%20%20%20%20%20%20%20%20%20%20%20%20%5B40.67082917695294%2C%20-73.94329119073582%5D%2C%0A%20%20%20%20%20%20%20%20%20%20%20%20%20%20%20%20%7B%22bubblingMouseEvents%22%3A%20true%2C%20%22color%22%3A%20%22blue%22%2C%20%22dashArray%22%3A%20null%2C%20%22dashOffset%22%3A%20null%2C%20%22fill%22%3A%20true%2C%20%22fillColor%22%3A%20%22%233186cc%22%2C%20%22fillOpacity%22%3A%200.7%2C%20%22fillRule%22%3A%20%22evenodd%22%2C%20%22lineCap%22%3A%20%22round%22%2C%20%22lineJoin%22%3A%20%22round%22%2C%20%22opacity%22%3A%201.0%2C%20%22radius%22%3A%205%2C%20%22stroke%22%3A%20true%2C%20%22weight%22%3A%203%7D%0A%20%20%20%20%20%20%20%20%20%20%20%20%29.addTo%28map_da402c8c143c4c8d8a2810a77806f651%29%3B%0A%20%20%20%20%20%20%20%20%0A%20%20%20%20%0A%20%20%20%20%20%20%20%20var%20popup_b49719a734854c2eabbd425306384c5a%20%3D%20L.popup%28%7B%22maxWidth%22%3A%20%22100%25%22%7D%29%3B%0A%0A%20%20%20%20%20%20%20%20%0A%20%20%20%20%20%20%20%20%20%20%20%20var%20html_081aa8ce80d64164bcde12168643c4d1%20%3D%20%24%28%60%3Cdiv%20id%3D%22html_081aa8ce80d64164bcde12168643c4d1%22%20style%3D%22width%3A%20100.0%25%3B%20height%3A%20100.0%25%3B%22%3ECrown%20Heights%2C%20Brooklyn%3C/div%3E%60%29%5B0%5D%3B%0A%20%20%20%20%20%20%20%20%20%20%20%20popup_b49719a734854c2eabbd425306384c5a.setContent%28html_081aa8ce80d64164bcde12168643c4d1%29%3B%0A%20%20%20%20%20%20%20%20%0A%0A%20%20%20%20%20%20%20%20circle_marker_36a4c9b61aa043a8aefe21c6c3677443.bindPopup%28popup_b49719a734854c2eabbd425306384c5a%29%0A%20%20%20%20%20%20%20%20%3B%0A%0A%20%20%20%20%20%20%20%20%0A%20%20%20%20%0A%20%20%20%20%0A%20%20%20%20%20%20%20%20%20%20%20%20var%20circle_marker_26ebbc28c9334cdfa099ddf78c0d677b%20%3D%20L.circleMarker%28%0A%20%20%20%20%20%20%20%20%20%20%20%20%20%20%20%20%5B40.64171776668961%2C%20-73.93610256185836%5D%2C%0A%20%20%20%20%20%20%20%20%20%20%20%20%20%20%20%20%7B%22bubblingMouseEvents%22%3A%20true%2C%20%22color%22%3A%20%22blue%22%2C%20%22dashArray%22%3A%20null%2C%20%22dashOffset%22%3A%20null%2C%20%22fill%22%3A%20true%2C%20%22fillColor%22%3A%20%22%233186cc%22%2C%20%22fillOpacity%22%3A%200.7%2C%20%22fillRule%22%3A%20%22evenodd%22%2C%20%22lineCap%22%3A%20%22round%22%2C%20%22lineJoin%22%3A%20%22round%22%2C%20%22opacity%22%3A%201.0%2C%20%22radius%22%3A%205%2C%20%22stroke%22%3A%20true%2C%20%22weight%22%3A%203%7D%0A%20%20%20%20%20%20%20%20%20%20%20%20%29.addTo%28map_da402c8c143c4c8d8a2810a77806f651%29%3B%0A%20%20%20%20%20%20%20%20%0A%20%20%20%20%0A%20%20%20%20%20%20%20%20var%20popup_2e02305531b0435397e5310c68bf44dd%20%3D%20L.popup%28%7B%22maxWidth%22%3A%20%22100%25%22%7D%29%3B%0A%0A%20%20%20%20%20%20%20%20%0A%20%20%20%20%20%20%20%20%20%20%20%20var%20html_d01846952c364604bf6e5999d575b774%20%3D%20%24%28%60%3Cdiv%20id%3D%22html_d01846952c364604bf6e5999d575b774%22%20style%3D%22width%3A%20100.0%25%3B%20height%3A%20100.0%25%3B%22%3EEast%20Flatbush%2C%20Brooklyn%3C/div%3E%60%29%5B0%5D%3B%0A%20%20%20%20%20%20%20%20%20%20%20%20popup_2e02305531b0435397e5310c68bf44dd.setContent%28html_d01846952c364604bf6e5999d575b774%29%3B%0A%20%20%20%20%20%20%20%20%0A%0A%20%20%20%20%20%20%20%20circle_marker_26ebbc28c9334cdfa099ddf78c0d677b.bindPopup%28popup_2e02305531b0435397e5310c68bf44dd%29%0A%20%20%20%20%20%20%20%20%3B%0A%0A%20%20%20%20%20%20%20%20%0A%20%20%20%20%0A%20%20%20%20%0A%20%20%20%20%20%20%20%20%20%20%20%20var%20circle_marker_c1895884e2234d7a877e4bb71d88559f%20%3D%20L.circleMarker%28%0A%20%20%20%20%20%20%20%20%20%20%20%20%20%20%20%20%5B40.642381958003526%2C%20-73.98042110559474%5D%2C%0A%20%20%20%20%20%20%20%20%20%20%20%20%20%20%20%20%7B%22bubblingMouseEvents%22%3A%20true%2C%20%22color%22%3A%20%22blue%22%2C%20%22dashArray%22%3A%20null%2C%20%22dashOffset%22%3A%20null%2C%20%22fill%22%3A%20true%2C%20%22fillColor%22%3A%20%22%233186cc%22%2C%20%22fillOpacity%22%3A%200.7%2C%20%22fillRule%22%3A%20%22evenodd%22%2C%20%22lineCap%22%3A%20%22round%22%2C%20%22lineJoin%22%3A%20%22round%22%2C%20%22opacity%22%3A%201.0%2C%20%22radius%22%3A%205%2C%20%22stroke%22%3A%20true%2C%20%22weight%22%3A%203%7D%0A%20%20%20%20%20%20%20%20%20%20%20%20%29.addTo%28map_da402c8c143c4c8d8a2810a77806f651%29%3B%0A%20%20%20%20%20%20%20%20%0A%20%20%20%20%0A%20%20%20%20%20%20%20%20var%20popup_cb5a343cfc574d9b804576755fb82f3e%20%3D%20L.popup%28%7B%22maxWidth%22%3A%20%22100%25%22%7D%29%3B%0A%0A%20%20%20%20%20%20%20%20%0A%20%20%20%20%20%20%20%20%20%20%20%20var%20html_9d7704d7592f4958a9efc7e5cd675dba%20%3D%20%24%28%60%3Cdiv%20id%3D%22html_9d7704d7592f4958a9efc7e5cd675dba%22%20style%3D%22width%3A%20100.0%25%3B%20height%3A%20100.0%25%3B%22%3EKensington%2C%20Brooklyn%3C/div%3E%60%29%5B0%5D%3B%0A%20%20%20%20%20%20%20%20%20%20%20%20popup_cb5a343cfc574d9b804576755fb82f3e.setContent%28html_9d7704d7592f4958a9efc7e5cd675dba%29%3B%0A%20%20%20%20%20%20%20%20%0A%0A%20%20%20%20%20%20%20%20circle_marker_c1895884e2234d7a877e4bb71d88559f.bindPopup%28popup_cb5a343cfc574d9b804576755fb82f3e%29%0A%20%20%20%20%20%20%20%20%3B%0A%0A%20%20%20%20%20%20%20%20%0A%20%20%20%20%0A%20%20%20%20%0A%20%20%20%20%20%20%20%20%20%20%20%20var%20circle_marker_31cc16427f894cff9ba25c6f7b8ffdc7%20%3D%20L.circleMarker%28%0A%20%20%20%20%20%20%20%20%20%20%20%20%20%20%20%20%5B40.65694583575104%2C%20-73.98007340430172%5D%2C%0A%20%20%20%20%20%20%20%20%20%20%20%20%20%20%20%20%7B%22bubblingMouseEvents%22%3A%20true%2C%20%22color%22%3A%20%22blue%22%2C%20%22dashArray%22%3A%20null%2C%20%22dashOffset%22%3A%20null%2C%20%22fill%22%3A%20true%2C%20%22fillColor%22%3A%20%22%233186cc%22%2C%20%22fillOpacity%22%3A%200.7%2C%20%22fillRule%22%3A%20%22evenodd%22%2C%20%22lineCap%22%3A%20%22round%22%2C%20%22lineJoin%22%3A%20%22round%22%2C%20%22opacity%22%3A%201.0%2C%20%22radius%22%3A%205%2C%20%22stroke%22%3A%20true%2C%20%22weight%22%3A%203%7D%0A%20%20%20%20%20%20%20%20%20%20%20%20%29.addTo%28map_da402c8c143c4c8d8a2810a77806f651%29%3B%0A%20%20%20%20%20%20%20%20%0A%20%20%20%20%0A%20%20%20%20%20%20%20%20var%20popup_9bc83389d9f745edbc3f754ea9c8dca5%20%3D%20L.popup%28%7B%22maxWidth%22%3A%20%22100%25%22%7D%29%3B%0A%0A%20%20%20%20%20%20%20%20%0A%20%20%20%20%20%20%20%20%20%20%20%20var%20html_dcf6b09bbba84af7934f27ea52acc2cb%20%3D%20%24%28%60%3Cdiv%20id%3D%22html_dcf6b09bbba84af7934f27ea52acc2cb%22%20style%3D%22width%3A%20100.0%25%3B%20height%3A%20100.0%25%3B%22%3EWindsor%20Terrace%2C%20Brooklyn%3C/div%3E%60%29%5B0%5D%3B%0A%20%20%20%20%20%20%20%20%20%20%20%20popup_9bc83389d9f745edbc3f754ea9c8dca5.setContent%28html_dcf6b09bbba84af7934f27ea52acc2cb%29%3B%0A%20%20%20%20%20%20%20%20%0A%0A%20%20%20%20%20%20%20%20circle_marker_31cc16427f894cff9ba25c6f7b8ffdc7.bindPopup%28popup_9bc83389d9f745edbc3f754ea9c8dca5%29%0A%20%20%20%20%20%20%20%20%3B%0A%0A%20%20%20%20%20%20%20%20%0A%20%20%20%20%0A%20%20%20%20%0A%20%20%20%20%20%20%20%20%20%20%20%20var%20circle_marker_4a40de68813d42b0a8ee8d2f00bf4ed4%20%3D%20L.circleMarker%28%0A%20%20%20%20%20%20%20%20%20%20%20%20%20%20%20%20%5B40.676822262254724%2C%20-73.9648592426269%5D%2C%0A%20%20%20%20%20%20%20%20%20%20%20%20%20%20%20%20%7B%22bubblingMouseEvents%22%3A%20true%2C%20%22color%22%3A%20%22blue%22%2C%20%22dashArray%22%3A%20null%2C%20%22dashOffset%22%3A%20null%2C%20%22fill%22%3A%20true%2C%20%22fillColor%22%3A%20%22%233186cc%22%2C%20%22fillOpacity%22%3A%200.7%2C%20%22fillRule%22%3A%20%22evenodd%22%2C%20%22lineCap%22%3A%20%22round%22%2C%20%22lineJoin%22%3A%20%22round%22%2C%20%22opacity%22%3A%201.0%2C%20%22radius%22%3A%205%2C%20%22stroke%22%3A%20true%2C%20%22weight%22%3A%203%7D%0A%20%20%20%20%20%20%20%20%20%20%20%20%29.addTo%28map_da402c8c143c4c8d8a2810a77806f651%29%3B%0A%20%20%20%20%20%20%20%20%0A%20%20%20%20%0A%20%20%20%20%20%20%20%20var%20popup_ba347dd43bc14ca68e3f934d84b45bbd%20%3D%20L.popup%28%7B%22maxWidth%22%3A%20%22100%25%22%7D%29%3B%0A%0A%20%20%20%20%20%20%20%20%0A%20%20%20%20%20%20%20%20%20%20%20%20var%20html_66f4a29060854abeba9fa5a6b85f010b%20%3D%20%24%28%60%3Cdiv%20id%3D%22html_66f4a29060854abeba9fa5a6b85f010b%22%20style%3D%22width%3A%20100.0%25%3B%20height%3A%20100.0%25%3B%22%3EProspect%20Heights%2C%20Brooklyn%3C/div%3E%60%29%5B0%5D%3B%0A%20%20%20%20%20%20%20%20%20%20%20%20popup_ba347dd43bc14ca68e3f934d84b45bbd.setContent%28html_66f4a29060854abeba9fa5a6b85f010b%29%3B%0A%20%20%20%20%20%20%20%20%0A%0A%20%20%20%20%20%20%20%20circle_marker_4a40de68813d42b0a8ee8d2f00bf4ed4.bindPopup%28popup_ba347dd43bc14ca68e3f934d84b45bbd%29%0A%20%20%20%20%20%20%20%20%3B%0A%0A%20%20%20%20%20%20%20%20%0A%20%20%20%20%0A%20%20%20%20%0A%20%20%20%20%20%20%20%20%20%20%20%20var%20circle_marker_ffb1341cbcb8487a911b5c8d44d5f838%20%3D%20L.circleMarker%28%0A%20%20%20%20%20%20%20%20%20%20%20%20%20%20%20%20%5B40.66394994339755%2C%20-73.91023536176607%5D%2C%0A%20%20%20%20%20%20%20%20%20%20%20%20%20%20%20%20%7B%22bubblingMouseEvents%22%3A%20true%2C%20%22color%22%3A%20%22blue%22%2C%20%22dashArray%22%3A%20null%2C%20%22dashOffset%22%3A%20null%2C%20%22fill%22%3A%20true%2C%20%22fillColor%22%3A%20%22%233186cc%22%2C%20%22fillOpacity%22%3A%200.7%2C%20%22fillRule%22%3A%20%22evenodd%22%2C%20%22lineCap%22%3A%20%22round%22%2C%20%22lineJoin%22%3A%20%22round%22%2C%20%22opacity%22%3A%201.0%2C%20%22radius%22%3A%205%2C%20%22stroke%22%3A%20true%2C%20%22weight%22%3A%203%7D%0A%20%20%20%20%20%20%20%20%20%20%20%20%29.addTo%28map_da402c8c143c4c8d8a2810a77806f651%29%3B%0A%20%20%20%20%20%20%20%20%0A%20%20%20%20%0A%20%20%20%20%20%20%20%20var%20popup_657338da0fa847f2a903968d1aafa0a7%20%3D%20L.popup%28%7B%22maxWidth%22%3A%20%22100%25%22%7D%29%3B%0A%0A%20%20%20%20%20%20%20%20%0A%20%20%20%20%20%20%20%20%20%20%20%20var%20html_b697813c6aed424ab72b9281ecfe8c43%20%3D%20%24%28%60%3Cdiv%20id%3D%22html_b697813c6aed424ab72b9281ecfe8c43%22%20style%3D%22width%3A%20100.0%25%3B%20height%3A%20100.0%25%3B%22%3EBrownsville%2C%20Brooklyn%3C/div%3E%60%29%5B0%5D%3B%0A%20%20%20%20%20%20%20%20%20%20%20%20popup_657338da0fa847f2a903968d1aafa0a7.setContent%28html_b697813c6aed424ab72b9281ecfe8c43%29%3B%0A%20%20%20%20%20%20%20%20%0A%0A%20%20%20%20%20%20%20%20circle_marker_ffb1341cbcb8487a911b5c8d44d5f838.bindPopup%28popup_657338da0fa847f2a903968d1aafa0a7%29%0A%20%20%20%20%20%20%20%20%3B%0A%0A%20%20%20%20%20%20%20%20%0A%20%20%20%20%0A%20%20%20%20%0A%20%20%20%20%20%20%20%20%20%20%20%20var%20circle_marker_fc99bdaeb4ff4d2b818d5265646d7c3d%20%3D%20L.circleMarker%28%0A%20%20%20%20%20%20%20%20%20%20%20%20%20%20%20%20%5B40.70714439344251%2C%20-73.95811529220927%5D%2C%0A%20%20%20%20%20%20%20%20%20%20%20%20%20%20%20%20%7B%22bubblingMouseEvents%22%3A%20true%2C%20%22color%22%3A%20%22blue%22%2C%20%22dashArray%22%3A%20null%2C%20%22dashOffset%22%3A%20null%2C%20%22fill%22%3A%20true%2C%20%22fillColor%22%3A%20%22%233186cc%22%2C%20%22fillOpacity%22%3A%200.7%2C%20%22fillRule%22%3A%20%22evenodd%22%2C%20%22lineCap%22%3A%20%22round%22%2C%20%22lineJoin%22%3A%20%22round%22%2C%20%22opacity%22%3A%201.0%2C%20%22radius%22%3A%205%2C%20%22stroke%22%3A%20true%2C%20%22weight%22%3A%203%7D%0A%20%20%20%20%20%20%20%20%20%20%20%20%29.addTo%28map_da402c8c143c4c8d8a2810a77806f651%29%3B%0A%20%20%20%20%20%20%20%20%0A%20%20%20%20%0A%20%20%20%20%20%20%20%20var%20popup_f33a63c8414147b58ecdb7ff5e501d84%20%3D%20L.popup%28%7B%22maxWidth%22%3A%20%22100%25%22%7D%29%3B%0A%0A%20%20%20%20%20%20%20%20%0A%20%20%20%20%20%20%20%20%20%20%20%20var%20html_8c66705a186f4a97b2273b7caf073376%20%3D%20%24%28%60%3Cdiv%20id%3D%22html_8c66705a186f4a97b2273b7caf073376%22%20style%3D%22width%3A%20100.0%25%3B%20height%3A%20100.0%25%3B%22%3EWilliamsburg%2C%20Brooklyn%3C/div%3E%60%29%5B0%5D%3B%0A%20%20%20%20%20%20%20%20%20%20%20%20popup_f33a63c8414147b58ecdb7ff5e501d84.setContent%28html_8c66705a186f4a97b2273b7caf073376%29%3B%0A%20%20%20%20%20%20%20%20%0A%0A%20%20%20%20%20%20%20%20circle_marker_fc99bdaeb4ff4d2b818d5265646d7c3d.bindPopup%28popup_f33a63c8414147b58ecdb7ff5e501d84%29%0A%20%20%20%20%20%20%20%20%3B%0A%0A%20%20%20%20%20%20%20%20%0A%20%20%20%20%0A%20%20%20%20%0A%20%20%20%20%20%20%20%20%20%20%20%20var%20circle_marker_76e5093692ca41da8f11c1f9cdf32a30%20%3D%20L.circleMarker%28%0A%20%20%20%20%20%20%20%20%20%20%20%20%20%20%20%20%5B40.69811611017901%2C%20-73.92525797487045%5D%2C%0A%20%20%20%20%20%20%20%20%20%20%20%20%20%20%20%20%7B%22bubblingMouseEvents%22%3A%20true%2C%20%22color%22%3A%20%22blue%22%2C%20%22dashArray%22%3A%20null%2C%20%22dashOffset%22%3A%20null%2C%20%22fill%22%3A%20true%2C%20%22fillColor%22%3A%20%22%233186cc%22%2C%20%22fillOpacity%22%3A%200.7%2C%20%22fillRule%22%3A%20%22evenodd%22%2C%20%22lineCap%22%3A%20%22round%22%2C%20%22lineJoin%22%3A%20%22round%22%2C%20%22opacity%22%3A%201.0%2C%20%22radius%22%3A%205%2C%20%22stroke%22%3A%20true%2C%20%22weight%22%3A%203%7D%0A%20%20%20%20%20%20%20%20%20%20%20%20%29.addTo%28map_da402c8c143c4c8d8a2810a77806f651%29%3B%0A%20%20%20%20%20%20%20%20%0A%20%20%20%20%0A%20%20%20%20%20%20%20%20var%20popup_8de8540d2d0d4450b704e78e5a5dfb84%20%3D%20L.popup%28%7B%22maxWidth%22%3A%20%22100%25%22%7D%29%3B%0A%0A%20%20%20%20%20%20%20%20%0A%20%20%20%20%20%20%20%20%20%20%20%20var%20html_fe28087b1bc041ad8945d76a764e77ac%20%3D%20%24%28%60%3Cdiv%20id%3D%22html_fe28087b1bc041ad8945d76a764e77ac%22%20style%3D%22width%3A%20100.0%25%3B%20height%3A%20100.0%25%3B%22%3EBushwick%2C%20Brooklyn%3C/div%3E%60%29%5B0%5D%3B%0A%20%20%20%20%20%20%20%20%20%20%20%20popup_8de8540d2d0d4450b704e78e5a5dfb84.setContent%28html_fe28087b1bc041ad8945d76a764e77ac%29%3B%0A%20%20%20%20%20%20%20%20%0A%0A%20%20%20%20%20%20%20%20circle_marker_76e5093692ca41da8f11c1f9cdf32a30.bindPopup%28popup_8de8540d2d0d4450b704e78e5a5dfb84%29%0A%20%20%20%20%20%20%20%20%3B%0A%0A%20%20%20%20%20%20%20%20%0A%20%20%20%20%0A%20%20%20%20%0A%20%20%20%20%20%20%20%20%20%20%20%20var%20circle_marker_b8d4f96f72c344a78ebe1d484fa012c9%20%3D%20L.circleMarker%28%0A%20%20%20%20%20%20%20%20%20%20%20%20%20%20%20%20%5B40.687231607720456%2C%20-73.94178488690297%5D%2C%0A%20%20%20%20%20%20%20%20%20%20%20%20%20%20%20%20%7B%22bubblingMouseEvents%22%3A%20true%2C%20%22color%22%3A%20%22blue%22%2C%20%22dashArray%22%3A%20null%2C%20%22dashOffset%22%3A%20null%2C%20%22fill%22%3A%20true%2C%20%22fillColor%22%3A%20%22%233186cc%22%2C%20%22fillOpacity%22%3A%200.7%2C%20%22fillRule%22%3A%20%22evenodd%22%2C%20%22lineCap%22%3A%20%22round%22%2C%20%22lineJoin%22%3A%20%22round%22%2C%20%22opacity%22%3A%201.0%2C%20%22radius%22%3A%205%2C%20%22stroke%22%3A%20true%2C%20%22weight%22%3A%203%7D%0A%20%20%20%20%20%20%20%20%20%20%20%20%29.addTo%28map_da402c8c143c4c8d8a2810a77806f651%29%3B%0A%20%20%20%20%20%20%20%20%0A%20%20%20%20%0A%20%20%20%20%20%20%20%20var%20popup_741ebd03f08d4aed8bff195588cea5fa%20%3D%20L.popup%28%7B%22maxWidth%22%3A%20%22100%25%22%7D%29%3B%0A%0A%20%20%20%20%20%20%20%20%0A%20%20%20%20%20%20%20%20%20%20%20%20var%20html_d905ebaaa18b40138f098d1182087d1f%20%3D%20%24%28%60%3Cdiv%20id%3D%22html_d905ebaaa18b40138f098d1182087d1f%22%20style%3D%22width%3A%20100.0%25%3B%20height%3A%20100.0%25%3B%22%3EBedford%20Stuyvesant%2C%20Brooklyn%3C/div%3E%60%29%5B0%5D%3B%0A%20%20%20%20%20%20%20%20%20%20%20%20popup_741ebd03f08d4aed8bff195588cea5fa.setContent%28html_d905ebaaa18b40138f098d1182087d1f%29%3B%0A%20%20%20%20%20%20%20%20%0A%0A%20%20%20%20%20%20%20%20circle_marker_b8d4f96f72c344a78ebe1d484fa012c9.bindPopup%28popup_741ebd03f08d4aed8bff195588cea5fa%29%0A%20%20%20%20%20%20%20%20%3B%0A%0A%20%20%20%20%20%20%20%20%0A%20%20%20%20%0A%20%20%20%20%0A%20%20%20%20%20%20%20%20%20%20%20%20var%20circle_marker_dcbbc58ebdfc4375bcca2a8b135eb634%20%3D%20L.circleMarker%28%0A%20%20%20%20%20%20%20%20%20%20%20%20%20%20%20%20%5B40.695863722724084%2C%20-73.99378225496424%5D%2C%0A%20%20%20%20%20%20%20%20%20%20%20%20%20%20%20%20%7B%22bubblingMouseEvents%22%3A%20true%2C%20%22color%22%3A%20%22blue%22%2C%20%22dashArray%22%3A%20null%2C%20%22dashOffset%22%3A%20null%2C%20%22fill%22%3A%20true%2C%20%22fillColor%22%3A%20%22%233186cc%22%2C%20%22fillOpacity%22%3A%200.7%2C%20%22fillRule%22%3A%20%22evenodd%22%2C%20%22lineCap%22%3A%20%22round%22%2C%20%22lineJoin%22%3A%20%22round%22%2C%20%22opacity%22%3A%201.0%2C%20%22radius%22%3A%205%2C%20%22stroke%22%3A%20true%2C%20%22weight%22%3A%203%7D%0A%20%20%20%20%20%20%20%20%20%20%20%20%29.addTo%28map_da402c8c143c4c8d8a2810a77806f651%29%3B%0A%20%20%20%20%20%20%20%20%0A%20%20%20%20%0A%20%20%20%20%20%20%20%20var%20popup_edf97509b855426f851063a4a554773e%20%3D%20L.popup%28%7B%22maxWidth%22%3A%20%22100%25%22%7D%29%3B%0A%0A%20%20%20%20%20%20%20%20%0A%20%20%20%20%20%20%20%20%20%20%20%20var%20html_e28df90fb45a4195891c5eec5fab5c64%20%3D%20%24%28%60%3Cdiv%20id%3D%22html_e28df90fb45a4195891c5eec5fab5c64%22%20style%3D%22width%3A%20100.0%25%3B%20height%3A%20100.0%25%3B%22%3EBrooklyn%20Heights%2C%20Brooklyn%3C/div%3E%60%29%5B0%5D%3B%0A%20%20%20%20%20%20%20%20%20%20%20%20popup_edf97509b855426f851063a4a554773e.setContent%28html_e28df90fb45a4195891c5eec5fab5c64%29%3B%0A%20%20%20%20%20%20%20%20%0A%0A%20%20%20%20%20%20%20%20circle_marker_dcbbc58ebdfc4375bcca2a8b135eb634.bindPopup%28popup_edf97509b855426f851063a4a554773e%29%0A%20%20%20%20%20%20%20%20%3B%0A%0A%20%20%20%20%20%20%20%20%0A%20%20%20%20%0A%20%20%20%20%0A%20%20%20%20%20%20%20%20%20%20%20%20var%20circle_marker_09ee3efbbfb04ca38420727cd68fab3b%20%3D%20L.circleMarker%28%0A%20%20%20%20%20%20%20%20%20%20%20%20%20%20%20%20%5B40.687919722485574%2C%20-73.99856139218463%5D%2C%0A%20%20%20%20%20%20%20%20%20%20%20%20%20%20%20%20%7B%22bubblingMouseEvents%22%3A%20true%2C%20%22color%22%3A%20%22blue%22%2C%20%22dashArray%22%3A%20null%2C%20%22dashOffset%22%3A%20null%2C%20%22fill%22%3A%20true%2C%20%22fillColor%22%3A%20%22%233186cc%22%2C%20%22fillOpacity%22%3A%200.7%2C%20%22fillRule%22%3A%20%22evenodd%22%2C%20%22lineCap%22%3A%20%22round%22%2C%20%22lineJoin%22%3A%20%22round%22%2C%20%22opacity%22%3A%201.0%2C%20%22radius%22%3A%205%2C%20%22stroke%22%3A%20true%2C%20%22weight%22%3A%203%7D%0A%20%20%20%20%20%20%20%20%20%20%20%20%29.addTo%28map_da402c8c143c4c8d8a2810a77806f651%29%3B%0A%20%20%20%20%20%20%20%20%0A%20%20%20%20%0A%20%20%20%20%20%20%20%20var%20popup_95a055c731ba49f6974fe3a2e40ea456%20%3D%20L.popup%28%7B%22maxWidth%22%3A%20%22100%25%22%7D%29%3B%0A%0A%20%20%20%20%20%20%20%20%0A%20%20%20%20%20%20%20%20%20%20%20%20var%20html_efd29e9245664b82ab3ce37d9367e7e9%20%3D%20%24%28%60%3Cdiv%20id%3D%22html_efd29e9245664b82ab3ce37d9367e7e9%22%20style%3D%22width%3A%20100.0%25%3B%20height%3A%20100.0%25%3B%22%3ECobble%20Hill%2C%20Brooklyn%3C/div%3E%60%29%5B0%5D%3B%0A%20%20%20%20%20%20%20%20%20%20%20%20popup_95a055c731ba49f6974fe3a2e40ea456.setContent%28html_efd29e9245664b82ab3ce37d9367e7e9%29%3B%0A%20%20%20%20%20%20%20%20%0A%0A%20%20%20%20%20%20%20%20circle_marker_09ee3efbbfb04ca38420727cd68fab3b.bindPopup%28popup_95a055c731ba49f6974fe3a2e40ea456%29%0A%20%20%20%20%20%20%20%20%3B%0A%0A%20%20%20%20%20%20%20%20%0A%20%20%20%20%0A%20%20%20%20%0A%20%20%20%20%20%20%20%20%20%20%20%20var%20circle_marker_8f018fa754254ab09df81b33551cf35a%20%3D%20L.circleMarker%28%0A%20%20%20%20%20%20%20%20%20%20%20%20%20%20%20%20%5B40.680540231076485%2C%20-73.99465372828006%5D%2C%0A%20%20%20%20%20%20%20%20%20%20%20%20%20%20%20%20%7B%22bubblingMouseEvents%22%3A%20true%2C%20%22color%22%3A%20%22blue%22%2C%20%22dashArray%22%3A%20null%2C%20%22dashOffset%22%3A%20null%2C%20%22fill%22%3A%20true%2C%20%22fillColor%22%3A%20%22%233186cc%22%2C%20%22fillOpacity%22%3A%200.7%2C%20%22fillRule%22%3A%20%22evenodd%22%2C%20%22lineCap%22%3A%20%22round%22%2C%20%22lineJoin%22%3A%20%22round%22%2C%20%22opacity%22%3A%201.0%2C%20%22radius%22%3A%205%2C%20%22stroke%22%3A%20true%2C%20%22weight%22%3A%203%7D%0A%20%20%20%20%20%20%20%20%20%20%20%20%29.addTo%28map_da402c8c143c4c8d8a2810a77806f651%29%3B%0A%20%20%20%20%20%20%20%20%0A%20%20%20%20%0A%20%20%20%20%20%20%20%20var%20popup_efacf42de73d4638ba928976aa851f90%20%3D%20L.popup%28%7B%22maxWidth%22%3A%20%22100%25%22%7D%29%3B%0A%0A%20%20%20%20%20%20%20%20%0A%20%20%20%20%20%20%20%20%20%20%20%20var%20html_ab8c483d90d347cb870ee3595b544ebd%20%3D%20%24%28%60%3Cdiv%20id%3D%22html_ab8c483d90d347cb870ee3595b544ebd%22%20style%3D%22width%3A%20100.0%25%3B%20height%3A%20100.0%25%3B%22%3ECarroll%20Gardens%2C%20Brooklyn%3C/div%3E%60%29%5B0%5D%3B%0A%20%20%20%20%20%20%20%20%20%20%20%20popup_efacf42de73d4638ba928976aa851f90.setContent%28html_ab8c483d90d347cb870ee3595b544ebd%29%3B%0A%20%20%20%20%20%20%20%20%0A%0A%20%20%20%20%20%20%20%20circle_marker_8f018fa754254ab09df81b33551cf35a.bindPopup%28popup_efacf42de73d4638ba928976aa851f90%29%0A%20%20%20%20%20%20%20%20%3B%0A%0A%20%20%20%20%20%20%20%20%0A%20%20%20%20%0A%20%20%20%20%0A%20%20%20%20%20%20%20%20%20%20%20%20var%20circle_marker_93807884d982432896029dff6eb0235f%20%3D%20L.circleMarker%28%0A%20%20%20%20%20%20%20%20%20%20%20%20%20%20%20%20%5B40.676253230250886%2C%20-74.0127589747356%5D%2C%0A%20%20%20%20%20%20%20%20%20%20%20%20%20%20%20%20%7B%22bubblingMouseEvents%22%3A%20true%2C%20%22color%22%3A%20%22blue%22%2C%20%22dashArray%22%3A%20null%2C%20%22dashOffset%22%3A%20null%2C%20%22fill%22%3A%20true%2C%20%22fillColor%22%3A%20%22%233186cc%22%2C%20%22fillOpacity%22%3A%200.7%2C%20%22fillRule%22%3A%20%22evenodd%22%2C%20%22lineCap%22%3A%20%22round%22%2C%20%22lineJoin%22%3A%20%22round%22%2C%20%22opacity%22%3A%201.0%2C%20%22radius%22%3A%205%2C%20%22stroke%22%3A%20true%2C%20%22weight%22%3A%203%7D%0A%20%20%20%20%20%20%20%20%20%20%20%20%29.addTo%28map_da402c8c143c4c8d8a2810a77806f651%29%3B%0A%20%20%20%20%20%20%20%20%0A%20%20%20%20%0A%20%20%20%20%20%20%20%20var%20popup_feab0eaa70bc4fa4a3e6814446af2120%20%3D%20L.popup%28%7B%22maxWidth%22%3A%20%22100%25%22%7D%29%3B%0A%0A%20%20%20%20%20%20%20%20%0A%20%20%20%20%20%20%20%20%20%20%20%20var%20html_c902fa0897fd40b28518e98c4baaaeba%20%3D%20%24%28%60%3Cdiv%20id%3D%22html_c902fa0897fd40b28518e98c4baaaeba%22%20style%3D%22width%3A%20100.0%25%3B%20height%3A%20100.0%25%3B%22%3ERed%20Hook%2C%20Brooklyn%3C/div%3E%60%29%5B0%5D%3B%0A%20%20%20%20%20%20%20%20%20%20%20%20popup_feab0eaa70bc4fa4a3e6814446af2120.setContent%28html_c902fa0897fd40b28518e98c4baaaeba%29%3B%0A%20%20%20%20%20%20%20%20%0A%0A%20%20%20%20%20%20%20%20circle_marker_93807884d982432896029dff6eb0235f.bindPopup%28popup_feab0eaa70bc4fa4a3e6814446af2120%29%0A%20%20%20%20%20%20%20%20%3B%0A%0A%20%20%20%20%20%20%20%20%0A%20%20%20%20%0A%20%20%20%20%0A%20%20%20%20%20%20%20%20%20%20%20%20var%20circle_marker_e8a10ab3ac284ca2a63488ee9b7a8e32%20%3D%20L.circleMarker%28%0A%20%20%20%20%20%20%20%20%20%20%20%20%20%20%20%20%5B40.673931143187154%2C%20-73.99444087145339%5D%2C%0A%20%20%20%20%20%20%20%20%20%20%20%20%20%20%20%20%7B%22bubblingMouseEvents%22%3A%20true%2C%20%22color%22%3A%20%22blue%22%2C%20%22dashArray%22%3A%20null%2C%20%22dashOffset%22%3A%20null%2C%20%22fill%22%3A%20true%2C%20%22fillColor%22%3A%20%22%233186cc%22%2C%20%22fillOpacity%22%3A%200.7%2C%20%22fillRule%22%3A%20%22evenodd%22%2C%20%22lineCap%22%3A%20%22round%22%2C%20%22lineJoin%22%3A%20%22round%22%2C%20%22opacity%22%3A%201.0%2C%20%22radius%22%3A%205%2C%20%22stroke%22%3A%20true%2C%20%22weight%22%3A%203%7D%0A%20%20%20%20%20%20%20%20%20%20%20%20%29.addTo%28map_da402c8c143c4c8d8a2810a77806f651%29%3B%0A%20%20%20%20%20%20%20%20%0A%20%20%20%20%0A%20%20%20%20%20%20%20%20var%20popup_274a0b8b223e4a32bc15da78e2563d77%20%3D%20L.popup%28%7B%22maxWidth%22%3A%20%22100%25%22%7D%29%3B%0A%0A%20%20%20%20%20%20%20%20%0A%20%20%20%20%20%20%20%20%20%20%20%20var%20html_0bd7ef661b7547c8b4ddb631fb458820%20%3D%20%24%28%60%3Cdiv%20id%3D%22html_0bd7ef661b7547c8b4ddb631fb458820%22%20style%3D%22width%3A%20100.0%25%3B%20height%3A%20100.0%25%3B%22%3EGowanus%2C%20Brooklyn%3C/div%3E%60%29%5B0%5D%3B%0A%20%20%20%20%20%20%20%20%20%20%20%20popup_274a0b8b223e4a32bc15da78e2563d77.setContent%28html_0bd7ef661b7547c8b4ddb631fb458820%29%3B%0A%20%20%20%20%20%20%20%20%0A%0A%20%20%20%20%20%20%20%20circle_marker_e8a10ab3ac284ca2a63488ee9b7a8e32.bindPopup%28popup_274a0b8b223e4a32bc15da78e2563d77%29%0A%20%20%20%20%20%20%20%20%3B%0A%0A%20%20%20%20%20%20%20%20%0A%20%20%20%20%0A%20%20%20%20%0A%20%20%20%20%20%20%20%20%20%20%20%20var%20circle_marker_0b5755989aaf477cb3e68a01ae7bf5f4%20%3D%20L.circleMarker%28%0A%20%20%20%20%20%20%20%20%20%20%20%20%20%20%20%20%5B40.68852726018977%2C%20-73.97290574369092%5D%2C%0A%20%20%20%20%20%20%20%20%20%20%20%20%20%20%20%20%7B%22bubblingMouseEvents%22%3A%20true%2C%20%22color%22%3A%20%22blue%22%2C%20%22dashArray%22%3A%20null%2C%20%22dashOffset%22%3A%20null%2C%20%22fill%22%3A%20true%2C%20%22fillColor%22%3A%20%22%233186cc%22%2C%20%22fillOpacity%22%3A%200.7%2C%20%22fillRule%22%3A%20%22evenodd%22%2C%20%22lineCap%22%3A%20%22round%22%2C%20%22lineJoin%22%3A%20%22round%22%2C%20%22opacity%22%3A%201.0%2C%20%22radius%22%3A%205%2C%20%22stroke%22%3A%20true%2C%20%22weight%22%3A%203%7D%0A%20%20%20%20%20%20%20%20%20%20%20%20%29.addTo%28map_da402c8c143c4c8d8a2810a77806f651%29%3B%0A%20%20%20%20%20%20%20%20%0A%20%20%20%20%0A%20%20%20%20%20%20%20%20var%20popup_46b644933c8d4c87b98a2c5e279875cd%20%3D%20L.popup%28%7B%22maxWidth%22%3A%20%22100%25%22%7D%29%3B%0A%0A%20%20%20%20%20%20%20%20%0A%20%20%20%20%20%20%20%20%20%20%20%20var%20html_8570325971a8476a9e38405b054a34d2%20%3D%20%24%28%60%3Cdiv%20id%3D%22html_8570325971a8476a9e38405b054a34d2%22%20style%3D%22width%3A%20100.0%25%3B%20height%3A%20100.0%25%3B%22%3EFort%20Greene%2C%20Brooklyn%3C/div%3E%60%29%5B0%5D%3B%0A%20%20%20%20%20%20%20%20%20%20%20%20popup_46b644933c8d4c87b98a2c5e279875cd.setContent%28html_8570325971a8476a9e38405b054a34d2%29%3B%0A%20%20%20%20%20%20%20%20%0A%0A%20%20%20%20%20%20%20%20circle_marker_0b5755989aaf477cb3e68a01ae7bf5f4.bindPopup%28popup_46b644933c8d4c87b98a2c5e279875cd%29%0A%20%20%20%20%20%20%20%20%3B%0A%0A%20%20%20%20%20%20%20%20%0A%20%20%20%20%0A%20%20%20%20%0A%20%20%20%20%20%20%20%20%20%20%20%20var%20circle_marker_dd9d6ca7d3b34329994d2dd679176289%20%3D%20L.circleMarker%28%0A%20%20%20%20%20%20%20%20%20%20%20%20%20%20%20%20%5B40.67232052268197%2C%20-73.97705030183924%5D%2C%0A%20%20%20%20%20%20%20%20%20%20%20%20%20%20%20%20%7B%22bubblingMouseEvents%22%3A%20true%2C%20%22color%22%3A%20%22blue%22%2C%20%22dashArray%22%3A%20null%2C%20%22dashOffset%22%3A%20null%2C%20%22fill%22%3A%20true%2C%20%22fillColor%22%3A%20%22%233186cc%22%2C%20%22fillOpacity%22%3A%200.7%2C%20%22fillRule%22%3A%20%22evenodd%22%2C%20%22lineCap%22%3A%20%22round%22%2C%20%22lineJoin%22%3A%20%22round%22%2C%20%22opacity%22%3A%201.0%2C%20%22radius%22%3A%205%2C%20%22stroke%22%3A%20true%2C%20%22weight%22%3A%203%7D%0A%20%20%20%20%20%20%20%20%20%20%20%20%29.addTo%28map_da402c8c143c4c8d8a2810a77806f651%29%3B%0A%20%20%20%20%20%20%20%20%0A%20%20%20%20%0A%20%20%20%20%20%20%20%20var%20popup_28e39a12fb9944ddb1afd31a61f5131f%20%3D%20L.popup%28%7B%22maxWidth%22%3A%20%22100%25%22%7D%29%3B%0A%0A%20%20%20%20%20%20%20%20%0A%20%20%20%20%20%20%20%20%20%20%20%20var%20html_3ed05f3b58e14322a819a65125c0c570%20%3D%20%24%28%60%3Cdiv%20id%3D%22html_3ed05f3b58e14322a819a65125c0c570%22%20style%3D%22width%3A%20100.0%25%3B%20height%3A%20100.0%25%3B%22%3EPark%20Slope%2C%20Brooklyn%3C/div%3E%60%29%5B0%5D%3B%0A%20%20%20%20%20%20%20%20%20%20%20%20popup_28e39a12fb9944ddb1afd31a61f5131f.setContent%28html_3ed05f3b58e14322a819a65125c0c570%29%3B%0A%20%20%20%20%20%20%20%20%0A%0A%20%20%20%20%20%20%20%20circle_marker_dd9d6ca7d3b34329994d2dd679176289.bindPopup%28popup_28e39a12fb9944ddb1afd31a61f5131f%29%0A%20%20%20%20%20%20%20%20%3B%0A%0A%20%20%20%20%20%20%20%20%0A%20%20%20%20%0A%20%20%20%20%0A%20%20%20%20%20%20%20%20%20%20%20%20var%20circle_marker_be1cd17086c449b0b678ba7e7b2d2aaf%20%3D%20L.circleMarker%28%0A%20%20%20%20%20%20%20%20%20%20%20%20%20%20%20%20%5B40.68239101144211%2C%20-73.87661596457296%5D%2C%0A%20%20%20%20%20%20%20%20%20%20%20%20%20%20%20%20%7B%22bubblingMouseEvents%22%3A%20true%2C%20%22color%22%3A%20%22blue%22%2C%20%22dashArray%22%3A%20null%2C%20%22dashOffset%22%3A%20null%2C%20%22fill%22%3A%20true%2C%20%22fillColor%22%3A%20%22%233186cc%22%2C%20%22fillOpacity%22%3A%200.7%2C%20%22fillRule%22%3A%20%22evenodd%22%2C%20%22lineCap%22%3A%20%22round%22%2C%20%22lineJoin%22%3A%20%22round%22%2C%20%22opacity%22%3A%201.0%2C%20%22radius%22%3A%205%2C%20%22stroke%22%3A%20true%2C%20%22weight%22%3A%203%7D%0A%20%20%20%20%20%20%20%20%20%20%20%20%29.addTo%28map_da402c8c143c4c8d8a2810a77806f651%29%3B%0A%20%20%20%20%20%20%20%20%0A%20%20%20%20%0A%20%20%20%20%20%20%20%20var%20popup_ea199f93e3b34984a1c805f8ea2ec2e1%20%3D%20L.popup%28%7B%22maxWidth%22%3A%20%22100%25%22%7D%29%3B%0A%0A%20%20%20%20%20%20%20%20%0A%20%20%20%20%20%20%20%20%20%20%20%20var%20html_29d4e10836744db496007b62a9264cf0%20%3D%20%24%28%60%3Cdiv%20id%3D%22html_29d4e10836744db496007b62a9264cf0%22%20style%3D%22width%3A%20100.0%25%3B%20height%3A%20100.0%25%3B%22%3ECypress%20Hills%2C%20Brooklyn%3C/div%3E%60%29%5B0%5D%3B%0A%20%20%20%20%20%20%20%20%20%20%20%20popup_ea199f93e3b34984a1c805f8ea2ec2e1.setContent%28html_29d4e10836744db496007b62a9264cf0%29%3B%0A%20%20%20%20%20%20%20%20%0A%0A%20%20%20%20%20%20%20%20circle_marker_be1cd17086c449b0b678ba7e7b2d2aaf.bindPopup%28popup_ea199f93e3b34984a1c805f8ea2ec2e1%29%0A%20%20%20%20%20%20%20%20%3B%0A%0A%20%20%20%20%20%20%20%20%0A%20%20%20%20%0A%20%20%20%20%0A%20%20%20%20%20%20%20%20%20%20%20%20var%20circle_marker_79cc89755b5f480a82444e1a93da1785%20%3D%20L.circleMarker%28%0A%20%20%20%20%20%20%20%20%20%20%20%20%20%20%20%20%5B40.669925700847045%2C%20-73.88069863917366%5D%2C%0A%20%20%20%20%20%20%20%20%20%20%20%20%20%20%20%20%7B%22bubblingMouseEvents%22%3A%20true%2C%20%22color%22%3A%20%22blue%22%2C%20%22dashArray%22%3A%20null%2C%20%22dashOffset%22%3A%20null%2C%20%22fill%22%3A%20true%2C%20%22fillColor%22%3A%20%22%233186cc%22%2C%20%22fillOpacity%22%3A%200.7%2C%20%22fillRule%22%3A%20%22evenodd%22%2C%20%22lineCap%22%3A%20%22round%22%2C%20%22lineJoin%22%3A%20%22round%22%2C%20%22opacity%22%3A%201.0%2C%20%22radius%22%3A%205%2C%20%22stroke%22%3A%20true%2C%20%22weight%22%3A%203%7D%0A%20%20%20%20%20%20%20%20%20%20%20%20%29.addTo%28map_da402c8c143c4c8d8a2810a77806f651%29%3B%0A%20%20%20%20%20%20%20%20%0A%20%20%20%20%0A%20%20%20%20%20%20%20%20var%20popup_a34e360ff18146bc846dff2eae857c6d%20%3D%20L.popup%28%7B%22maxWidth%22%3A%20%22100%25%22%7D%29%3B%0A%0A%20%20%20%20%20%20%20%20%0A%20%20%20%20%20%20%20%20%20%20%20%20var%20html_fa744665fd454d0eb065bd1be5bf3c09%20%3D%20%24%28%60%3Cdiv%20id%3D%22html_fa744665fd454d0eb065bd1be5bf3c09%22%20style%3D%22width%3A%20100.0%25%3B%20height%3A%20100.0%25%3B%22%3EEast%20New%20York%2C%20Brooklyn%3C/div%3E%60%29%5B0%5D%3B%0A%20%20%20%20%20%20%20%20%20%20%20%20popup_a34e360ff18146bc846dff2eae857c6d.setContent%28html_fa744665fd454d0eb065bd1be5bf3c09%29%3B%0A%20%20%20%20%20%20%20%20%0A%0A%20%20%20%20%20%20%20%20circle_marker_79cc89755b5f480a82444e1a93da1785.bindPopup%28popup_a34e360ff18146bc846dff2eae857c6d%29%0A%20%20%20%20%20%20%20%20%3B%0A%0A%20%20%20%20%20%20%20%20%0A%20%20%20%20%0A%20%20%20%20%0A%20%20%20%20%20%20%20%20%20%20%20%20var%20circle_marker_a4a79fc0bf99452b980aacc50ee7bac2%20%3D%20L.circleMarker%28%0A%20%20%20%20%20%20%20%20%20%20%20%20%20%20%20%20%5B40.64758905230874%2C%20-73.87936970045875%5D%2C%0A%20%20%20%20%20%20%20%20%20%20%20%20%20%20%20%20%7B%22bubblingMouseEvents%22%3A%20true%2C%20%22color%22%3A%20%22blue%22%2C%20%22dashArray%22%3A%20null%2C%20%22dashOffset%22%3A%20null%2C%20%22fill%22%3A%20true%2C%20%22fillColor%22%3A%20%22%233186cc%22%2C%20%22fillOpacity%22%3A%200.7%2C%20%22fillRule%22%3A%20%22evenodd%22%2C%20%22lineCap%22%3A%20%22round%22%2C%20%22lineJoin%22%3A%20%22round%22%2C%20%22opacity%22%3A%201.0%2C%20%22radius%22%3A%205%2C%20%22stroke%22%3A%20true%2C%20%22weight%22%3A%203%7D%0A%20%20%20%20%20%20%20%20%20%20%20%20%29.addTo%28map_da402c8c143c4c8d8a2810a77806f651%29%3B%0A%20%20%20%20%20%20%20%20%0A%20%20%20%20%0A%20%20%20%20%20%20%20%20var%20popup_ae0b8a51893242179b9d9e093c1d1b4a%20%3D%20L.popup%28%7B%22maxWidth%22%3A%20%22100%25%22%7D%29%3B%0A%0A%20%20%20%20%20%20%20%20%0A%20%20%20%20%20%20%20%20%20%20%20%20var%20html_5d777742d8274abe88117712262542de%20%3D%20%24%28%60%3Cdiv%20id%3D%22html_5d777742d8274abe88117712262542de%22%20style%3D%22width%3A%20100.0%25%3B%20height%3A%20100.0%25%3B%22%3EStarrett%20City%2C%20Brooklyn%3C/div%3E%60%29%5B0%5D%3B%0A%20%20%20%20%20%20%20%20%20%20%20%20popup_ae0b8a51893242179b9d9e093c1d1b4a.setContent%28html_5d777742d8274abe88117712262542de%29%3B%0A%20%20%20%20%20%20%20%20%0A%0A%20%20%20%20%20%20%20%20circle_marker_a4a79fc0bf99452b980aacc50ee7bac2.bindPopup%28popup_ae0b8a51893242179b9d9e093c1d1b4a%29%0A%20%20%20%20%20%20%20%20%3B%0A%0A%20%20%20%20%20%20%20%20%0A%20%20%20%20%0A%20%20%20%20%0A%20%20%20%20%20%20%20%20%20%20%20%20var%20circle_marker_15644c82dd2a4f0b96e7a8fcd1d4ea2f%20%3D%20L.circleMarker%28%0A%20%20%20%20%20%20%20%20%20%20%20%20%20%20%20%20%5B40.63556432797428%2C%20-73.90209269778966%5D%2C%0A%20%20%20%20%20%20%20%20%20%20%20%20%20%20%20%20%7B%22bubblingMouseEvents%22%3A%20true%2C%20%22color%22%3A%20%22blue%22%2C%20%22dashArray%22%3A%20null%2C%20%22dashOffset%22%3A%20null%2C%20%22fill%22%3A%20true%2C%20%22fillColor%22%3A%20%22%233186cc%22%2C%20%22fillOpacity%22%3A%200.7%2C%20%22fillRule%22%3A%20%22evenodd%22%2C%20%22lineCap%22%3A%20%22round%22%2C%20%22lineJoin%22%3A%20%22round%22%2C%20%22opacity%22%3A%201.0%2C%20%22radius%22%3A%205%2C%20%22stroke%22%3A%20true%2C%20%22weight%22%3A%203%7D%0A%20%20%20%20%20%20%20%20%20%20%20%20%29.addTo%28map_da402c8c143c4c8d8a2810a77806f651%29%3B%0A%20%20%20%20%20%20%20%20%0A%20%20%20%20%0A%20%20%20%20%20%20%20%20var%20popup_aaf96ede5c5445258f5ad0ddec6576cd%20%3D%20L.popup%28%7B%22maxWidth%22%3A%20%22100%25%22%7D%29%3B%0A%0A%20%20%20%20%20%20%20%20%0A%20%20%20%20%20%20%20%20%20%20%20%20var%20html_cc37c7d7d4a44ed7abbef04c517cb619%20%3D%20%24%28%60%3Cdiv%20id%3D%22html_cc37c7d7d4a44ed7abbef04c517cb619%22%20style%3D%22width%3A%20100.0%25%3B%20height%3A%20100.0%25%3B%22%3ECanarsie%2C%20Brooklyn%3C/div%3E%60%29%5B0%5D%3B%0A%20%20%20%20%20%20%20%20%20%20%20%20popup_aaf96ede5c5445258f5ad0ddec6576cd.setContent%28html_cc37c7d7d4a44ed7abbef04c517cb619%29%3B%0A%20%20%20%20%20%20%20%20%0A%0A%20%20%20%20%20%20%20%20circle_marker_15644c82dd2a4f0b96e7a8fcd1d4ea2f.bindPopup%28popup_aaf96ede5c5445258f5ad0ddec6576cd%29%0A%20%20%20%20%20%20%20%20%3B%0A%0A%20%20%20%20%20%20%20%20%0A%20%20%20%20%0A%20%20%20%20%0A%20%20%20%20%20%20%20%20%20%20%20%20var%20circle_marker_327cb090ac6847b98d63ec35a6055a48%20%3D%20L.circleMarker%28%0A%20%20%20%20%20%20%20%20%20%20%20%20%20%20%20%20%5B40.630446043757466%2C%20-73.92911302644674%5D%2C%0A%20%20%20%20%20%20%20%20%20%20%20%20%20%20%20%20%7B%22bubblingMouseEvents%22%3A%20true%2C%20%22color%22%3A%20%22blue%22%2C%20%22dashArray%22%3A%20null%2C%20%22dashOffset%22%3A%20null%2C%20%22fill%22%3A%20true%2C%20%22fillColor%22%3A%20%22%233186cc%22%2C%20%22fillOpacity%22%3A%200.7%2C%20%22fillRule%22%3A%20%22evenodd%22%2C%20%22lineCap%22%3A%20%22round%22%2C%20%22lineJoin%22%3A%20%22round%22%2C%20%22opacity%22%3A%201.0%2C%20%22radius%22%3A%205%2C%20%22stroke%22%3A%20true%2C%20%22weight%22%3A%203%7D%0A%20%20%20%20%20%20%20%20%20%20%20%20%29.addTo%28map_da402c8c143c4c8d8a2810a77806f651%29%3B%0A%20%20%20%20%20%20%20%20%0A%20%20%20%20%0A%20%20%20%20%20%20%20%20var%20popup_431fdf15861045aabe26c5fc40e23f08%20%3D%20L.popup%28%7B%22maxWidth%22%3A%20%22100%25%22%7D%29%3B%0A%0A%20%20%20%20%20%20%20%20%0A%20%20%20%20%20%20%20%20%20%20%20%20var%20html_e2aae981b5b644d1a23eac3642c4c05d%20%3D%20%24%28%60%3Cdiv%20id%3D%22html_e2aae981b5b644d1a23eac3642c4c05d%22%20style%3D%22width%3A%20100.0%25%3B%20height%3A%20100.0%25%3B%22%3EFlatlands%2C%20Brooklyn%3C/div%3E%60%29%5B0%5D%3B%0A%20%20%20%20%20%20%20%20%20%20%20%20popup_431fdf15861045aabe26c5fc40e23f08.setContent%28html_e2aae981b5b644d1a23eac3642c4c05d%29%3B%0A%20%20%20%20%20%20%20%20%0A%0A%20%20%20%20%20%20%20%20circle_marker_327cb090ac6847b98d63ec35a6055a48.bindPopup%28popup_431fdf15861045aabe26c5fc40e23f08%29%0A%20%20%20%20%20%20%20%20%3B%0A%0A%20%20%20%20%20%20%20%20%0A%20%20%20%20%0A%20%20%20%20%0A%20%20%20%20%20%20%20%20%20%20%20%20var%20circle_marker_b05e805787cc49aba32cab7152f4d554%20%3D%20L.circleMarker%28%0A%20%20%20%20%20%20%20%20%20%20%20%20%20%20%20%20%5B40.606336421685626%2C%20-73.90818571777423%5D%2C%0A%20%20%20%20%20%20%20%20%20%20%20%20%20%20%20%20%7B%22bubblingMouseEvents%22%3A%20true%2C%20%22color%22%3A%20%22blue%22%2C%20%22dashArray%22%3A%20null%2C%20%22dashOffset%22%3A%20null%2C%20%22fill%22%3A%20true%2C%20%22fillColor%22%3A%20%22%233186cc%22%2C%20%22fillOpacity%22%3A%200.7%2C%20%22fillRule%22%3A%20%22evenodd%22%2C%20%22lineCap%22%3A%20%22round%22%2C%20%22lineJoin%22%3A%20%22round%22%2C%20%22opacity%22%3A%201.0%2C%20%22radius%22%3A%205%2C%20%22stroke%22%3A%20true%2C%20%22weight%22%3A%203%7D%0A%20%20%20%20%20%20%20%20%20%20%20%20%29.addTo%28map_da402c8c143c4c8d8a2810a77806f651%29%3B%0A%20%20%20%20%20%20%20%20%0A%20%20%20%20%0A%20%20%20%20%20%20%20%20var%20popup_ddc6f7abef0949b686a29ee696c52599%20%3D%20L.popup%28%7B%22maxWidth%22%3A%20%22100%25%22%7D%29%3B%0A%0A%20%20%20%20%20%20%20%20%0A%20%20%20%20%20%20%20%20%20%20%20%20var%20html_480bbd84a9904f25baa432c295d20aa1%20%3D%20%24%28%60%3Cdiv%20id%3D%22html_480bbd84a9904f25baa432c295d20aa1%22%20style%3D%22width%3A%20100.0%25%3B%20height%3A%20100.0%25%3B%22%3EMill%20Island%2C%20Brooklyn%3C/div%3E%60%29%5B0%5D%3B%0A%20%20%20%20%20%20%20%20%20%20%20%20popup_ddc6f7abef0949b686a29ee696c52599.setContent%28html_480bbd84a9904f25baa432c295d20aa1%29%3B%0A%20%20%20%20%20%20%20%20%0A%0A%20%20%20%20%20%20%20%20circle_marker_b05e805787cc49aba32cab7152f4d554.bindPopup%28popup_ddc6f7abef0949b686a29ee696c52599%29%0A%20%20%20%20%20%20%20%20%3B%0A%0A%20%20%20%20%20%20%20%20%0A%20%20%20%20%0A%20%20%20%20%0A%20%20%20%20%20%20%20%20%20%20%20%20var%20circle_marker_8f2d5975d7da40d78eeaaced4d8a4049%20%3D%20L.circleMarker%28%0A%20%20%20%20%20%20%20%20%20%20%20%20%20%20%20%20%5B40.57791350308657%2C%20-73.94353722891886%5D%2C%0A%20%20%20%20%20%20%20%20%20%20%20%20%20%20%20%20%7B%22bubblingMouseEvents%22%3A%20true%2C%20%22color%22%3A%20%22blue%22%2C%20%22dashArray%22%3A%20null%2C%20%22dashOffset%22%3A%20null%2C%20%22fill%22%3A%20true%2C%20%22fillColor%22%3A%20%22%233186cc%22%2C%20%22fillOpacity%22%3A%200.7%2C%20%22fillRule%22%3A%20%22evenodd%22%2C%20%22lineCap%22%3A%20%22round%22%2C%20%22lineJoin%22%3A%20%22round%22%2C%20%22opacity%22%3A%201.0%2C%20%22radius%22%3A%205%2C%20%22stroke%22%3A%20true%2C%20%22weight%22%3A%203%7D%0A%20%20%20%20%20%20%20%20%20%20%20%20%29.addTo%28map_da402c8c143c4c8d8a2810a77806f651%29%3B%0A%20%20%20%20%20%20%20%20%0A%20%20%20%20%0A%20%20%20%20%20%20%20%20var%20popup_fd5833fd7a234acaab7c349d6f199f6c%20%3D%20L.popup%28%7B%22maxWidth%22%3A%20%22100%25%22%7D%29%3B%0A%0A%20%20%20%20%20%20%20%20%0A%20%20%20%20%20%20%20%20%20%20%20%20var%20html_4a7eff77fea54591a03d6283370c39f0%20%3D%20%24%28%60%3Cdiv%20id%3D%22html_4a7eff77fea54591a03d6283370c39f0%22%20style%3D%22width%3A%20100.0%25%3B%20height%3A%20100.0%25%3B%22%3EManhattan%20Beach%2C%20Brooklyn%3C/div%3E%60%29%5B0%5D%3B%0A%20%20%20%20%20%20%20%20%20%20%20%20popup_fd5833fd7a234acaab7c349d6f199f6c.setContent%28html_4a7eff77fea54591a03d6283370c39f0%29%3B%0A%20%20%20%20%20%20%20%20%0A%0A%20%20%20%20%20%20%20%20circle_marker_8f2d5975d7da40d78eeaaced4d8a4049.bindPopup%28popup_fd5833fd7a234acaab7c349d6f199f6c%29%0A%20%20%20%20%20%20%20%20%3B%0A%0A%20%20%20%20%20%20%20%20%0A%20%20%20%20%0A%20%20%20%20%0A%20%20%20%20%20%20%20%20%20%20%20%20var%20circle_marker_0ef23fe91af64850aef5eccbeb738cf8%20%3D%20L.circleMarker%28%0A%20%20%20%20%20%20%20%20%20%20%20%20%20%20%20%20%5B40.57429256471601%2C%20-73.98868295821637%5D%2C%0A%20%20%20%20%20%20%20%20%20%20%20%20%20%20%20%20%7B%22bubblingMouseEvents%22%3A%20true%2C%20%22color%22%3A%20%22blue%22%2C%20%22dashArray%22%3A%20null%2C%20%22dashOffset%22%3A%20null%2C%20%22fill%22%3A%20true%2C%20%22fillColor%22%3A%20%22%233186cc%22%2C%20%22fillOpacity%22%3A%200.7%2C%20%22fillRule%22%3A%20%22evenodd%22%2C%20%22lineCap%22%3A%20%22round%22%2C%20%22lineJoin%22%3A%20%22round%22%2C%20%22opacity%22%3A%201.0%2C%20%22radius%22%3A%205%2C%20%22stroke%22%3A%20true%2C%20%22weight%22%3A%203%7D%0A%20%20%20%20%20%20%20%20%20%20%20%20%29.addTo%28map_da402c8c143c4c8d8a2810a77806f651%29%3B%0A%20%20%20%20%20%20%20%20%0A%20%20%20%20%0A%20%20%20%20%20%20%20%20var%20popup_8cac812cac4d4ce1a5953c14383d169f%20%3D%20L.popup%28%7B%22maxWidth%22%3A%20%22100%25%22%7D%29%3B%0A%0A%20%20%20%20%20%20%20%20%0A%20%20%20%20%20%20%20%20%20%20%20%20var%20html_32e09d0ef54444fb9ee8d6067eb72b7c%20%3D%20%24%28%60%3Cdiv%20id%3D%22html_32e09d0ef54444fb9ee8d6067eb72b7c%22%20style%3D%22width%3A%20100.0%25%3B%20height%3A%20100.0%25%3B%22%3EConey%20Island%2C%20Brooklyn%3C/div%3E%60%29%5B0%5D%3B%0A%20%20%20%20%20%20%20%20%20%20%20%20popup_8cac812cac4d4ce1a5953c14383d169f.setContent%28html_32e09d0ef54444fb9ee8d6067eb72b7c%29%3B%0A%20%20%20%20%20%20%20%20%0A%0A%20%20%20%20%20%20%20%20circle_marker_0ef23fe91af64850aef5eccbeb738cf8.bindPopup%28popup_8cac812cac4d4ce1a5953c14383d169f%29%0A%20%20%20%20%20%20%20%20%3B%0A%0A%20%20%20%20%20%20%20%20%0A%20%20%20%20%0A%20%20%20%20%0A%20%20%20%20%20%20%20%20%20%20%20%20var%20circle_marker_b33431977d994a2b85a6dda692e3f3c6%20%3D%20L.circleMarker%28%0A%20%20%20%20%20%20%20%20%20%20%20%20%20%20%20%20%5B40.59951870282238%2C%20-73.99875221443519%5D%2C%0A%20%20%20%20%20%20%20%20%20%20%20%20%20%20%20%20%7B%22bubblingMouseEvents%22%3A%20true%2C%20%22color%22%3A%20%22blue%22%2C%20%22dashArray%22%3A%20null%2C%20%22dashOffset%22%3A%20null%2C%20%22fill%22%3A%20true%2C%20%22fillColor%22%3A%20%22%233186cc%22%2C%20%22fillOpacity%22%3A%200.7%2C%20%22fillRule%22%3A%20%22evenodd%22%2C%20%22lineCap%22%3A%20%22round%22%2C%20%22lineJoin%22%3A%20%22round%22%2C%20%22opacity%22%3A%201.0%2C%20%22radius%22%3A%205%2C%20%22stroke%22%3A%20true%2C%20%22weight%22%3A%203%7D%0A%20%20%20%20%20%20%20%20%20%20%20%20%29.addTo%28map_da402c8c143c4c8d8a2810a77806f651%29%3B%0A%20%20%20%20%20%20%20%20%0A%20%20%20%20%0A%20%20%20%20%20%20%20%20var%20popup_1fe7217526d244ae9fcf593d3e517447%20%3D%20L.popup%28%7B%22maxWidth%22%3A%20%22100%25%22%7D%29%3B%0A%0A%20%20%20%20%20%20%20%20%0A%20%20%20%20%20%20%20%20%20%20%20%20var%20html_30b1315e55ee4f46a57f953766e15a97%20%3D%20%24%28%60%3Cdiv%20id%3D%22html_30b1315e55ee4f46a57f953766e15a97%22%20style%3D%22width%3A%20100.0%25%3B%20height%3A%20100.0%25%3B%22%3EBath%20Beach%2C%20Brooklyn%3C/div%3E%60%29%5B0%5D%3B%0A%20%20%20%20%20%20%20%20%20%20%20%20popup_1fe7217526d244ae9fcf593d3e517447.setContent%28html_30b1315e55ee4f46a57f953766e15a97%29%3B%0A%20%20%20%20%20%20%20%20%0A%0A%20%20%20%20%20%20%20%20circle_marker_b33431977d994a2b85a6dda692e3f3c6.bindPopup%28popup_1fe7217526d244ae9fcf593d3e517447%29%0A%20%20%20%20%20%20%20%20%3B%0A%0A%20%20%20%20%20%20%20%20%0A%20%20%20%20%0A%20%20%20%20%0A%20%20%20%20%20%20%20%20%20%20%20%20var%20circle_marker_fbe9f6ab5ffc454ca9b88c4e29883d62%20%3D%20L.circleMarker%28%0A%20%20%20%20%20%20%20%20%20%20%20%20%20%20%20%20%5B40.633130512758015%2C%20-73.99049823044811%5D%2C%0A%20%20%20%20%20%20%20%20%20%20%20%20%20%20%20%20%7B%22bubblingMouseEvents%22%3A%20true%2C%20%22color%22%3A%20%22blue%22%2C%20%22dashArray%22%3A%20null%2C%20%22dashOffset%22%3A%20null%2C%20%22fill%22%3A%20true%2C%20%22fillColor%22%3A%20%22%233186cc%22%2C%20%22fillOpacity%22%3A%200.7%2C%20%22fillRule%22%3A%20%22evenodd%22%2C%20%22lineCap%22%3A%20%22round%22%2C%20%22lineJoin%22%3A%20%22round%22%2C%20%22opacity%22%3A%201.0%2C%20%22radius%22%3A%205%2C%20%22stroke%22%3A%20true%2C%20%22weight%22%3A%203%7D%0A%20%20%20%20%20%20%20%20%20%20%20%20%29.addTo%28map_da402c8c143c4c8d8a2810a77806f651%29%3B%0A%20%20%20%20%20%20%20%20%0A%20%20%20%20%0A%20%20%20%20%20%20%20%20var%20popup_17c2c3bb384c4c35a13efa26dbc054d5%20%3D%20L.popup%28%7B%22maxWidth%22%3A%20%22100%25%22%7D%29%3B%0A%0A%20%20%20%20%20%20%20%20%0A%20%20%20%20%20%20%20%20%20%20%20%20var%20html_02bee515d56c49eb952c02a3a67e5aee%20%3D%20%24%28%60%3Cdiv%20id%3D%22html_02bee515d56c49eb952c02a3a67e5aee%22%20style%3D%22width%3A%20100.0%25%3B%20height%3A%20100.0%25%3B%22%3EBorough%20Park%2C%20Brooklyn%3C/div%3E%60%29%5B0%5D%3B%0A%20%20%20%20%20%20%20%20%20%20%20%20popup_17c2c3bb384c4c35a13efa26dbc054d5.setContent%28html_02bee515d56c49eb952c02a3a67e5aee%29%3B%0A%20%20%20%20%20%20%20%20%0A%0A%20%20%20%20%20%20%20%20circle_marker_fbe9f6ab5ffc454ca9b88c4e29883d62.bindPopup%28popup_17c2c3bb384c4c35a13efa26dbc054d5%29%0A%20%20%20%20%20%20%20%20%3B%0A%0A%20%20%20%20%20%20%20%20%0A%20%20%20%20%0A%20%20%20%20%0A%20%20%20%20%20%20%20%20%20%20%20%20var%20circle_marker_c6bc78086da44469952046261bf26fa0%20%3D%20L.circleMarker%28%0A%20%20%20%20%20%20%20%20%20%20%20%20%20%20%20%20%5B40.619219457722636%2C%20-74.01931375636022%5D%2C%0A%20%20%20%20%20%20%20%20%20%20%20%20%20%20%20%20%7B%22bubblingMouseEvents%22%3A%20true%2C%20%22color%22%3A%20%22blue%22%2C%20%22dashArray%22%3A%20null%2C%20%22dashOffset%22%3A%20null%2C%20%22fill%22%3A%20true%2C%20%22fillColor%22%3A%20%22%233186cc%22%2C%20%22fillOpacity%22%3A%200.7%2C%20%22fillRule%22%3A%20%22evenodd%22%2C%20%22lineCap%22%3A%20%22round%22%2C%20%22lineJoin%22%3A%20%22round%22%2C%20%22opacity%22%3A%201.0%2C%20%22radius%22%3A%205%2C%20%22stroke%22%3A%20true%2C%20%22weight%22%3A%203%7D%0A%20%20%20%20%20%20%20%20%20%20%20%20%29.addTo%28map_da402c8c143c4c8d8a2810a77806f651%29%3B%0A%20%20%20%20%20%20%20%20%0A%20%20%20%20%0A%20%20%20%20%20%20%20%20var%20popup_0818e290808c46c58445a09410629ec0%20%3D%20L.popup%28%7B%22maxWidth%22%3A%20%22100%25%22%7D%29%3B%0A%0A%20%20%20%20%20%20%20%20%0A%20%20%20%20%20%20%20%20%20%20%20%20var%20html_70817e04734142119c1ee8c68939f815%20%3D%20%24%28%60%3Cdiv%20id%3D%22html_70817e04734142119c1ee8c68939f815%22%20style%3D%22width%3A%20100.0%25%3B%20height%3A%20100.0%25%3B%22%3EDyker%20Heights%2C%20Brooklyn%3C/div%3E%60%29%5B0%5D%3B%0A%20%20%20%20%20%20%20%20%20%20%20%20popup_0818e290808c46c58445a09410629ec0.setContent%28html_70817e04734142119c1ee8c68939f815%29%3B%0A%20%20%20%20%20%20%20%20%0A%0A%20%20%20%20%20%20%20%20circle_marker_c6bc78086da44469952046261bf26fa0.bindPopup%28popup_0818e290808c46c58445a09410629ec0%29%0A%20%20%20%20%20%20%20%20%3B%0A%0A%20%20%20%20%20%20%20%20%0A%20%20%20%20%0A%20%20%20%20%0A%20%20%20%20%20%20%20%20%20%20%20%20var%20circle_marker_e599eb8f9fb34d4ab633fbea1ce7fc5a%20%3D%20L.circleMarker%28%0A%20%20%20%20%20%20%20%20%20%20%20%20%20%20%20%20%5B40.590848433902046%2C%20-73.93010170691196%5D%2C%0A%20%20%20%20%20%20%20%20%20%20%20%20%20%20%20%20%7B%22bubblingMouseEvents%22%3A%20true%2C%20%22color%22%3A%20%22blue%22%2C%20%22dashArray%22%3A%20null%2C%20%22dashOffset%22%3A%20null%2C%20%22fill%22%3A%20true%2C%20%22fillColor%22%3A%20%22%233186cc%22%2C%20%22fillOpacity%22%3A%200.7%2C%20%22fillRule%22%3A%20%22evenodd%22%2C%20%22lineCap%22%3A%20%22round%22%2C%20%22lineJoin%22%3A%20%22round%22%2C%20%22opacity%22%3A%201.0%2C%20%22radius%22%3A%205%2C%20%22stroke%22%3A%20true%2C%20%22weight%22%3A%203%7D%0A%20%20%20%20%20%20%20%20%20%20%20%20%29.addTo%28map_da402c8c143c4c8d8a2810a77806f651%29%3B%0A%20%20%20%20%20%20%20%20%0A%20%20%20%20%0A%20%20%20%20%20%20%20%20var%20popup_ff75015053644d768979a06fe5837c2b%20%3D%20L.popup%28%7B%22maxWidth%22%3A%20%22100%25%22%7D%29%3B%0A%0A%20%20%20%20%20%20%20%20%0A%20%20%20%20%20%20%20%20%20%20%20%20var%20html_0ab0ca3de5bb4ba8882814837cfce8b2%20%3D%20%24%28%60%3Cdiv%20id%3D%22html_0ab0ca3de5bb4ba8882814837cfce8b2%22%20style%3D%22width%3A%20100.0%25%3B%20height%3A%20100.0%25%3B%22%3EGerritsen%20Beach%2C%20Brooklyn%3C/div%3E%60%29%5B0%5D%3B%0A%20%20%20%20%20%20%20%20%20%20%20%20popup_ff75015053644d768979a06fe5837c2b.setContent%28html_0ab0ca3de5bb4ba8882814837cfce8b2%29%3B%0A%20%20%20%20%20%20%20%20%0A%0A%20%20%20%20%20%20%20%20circle_marker_e599eb8f9fb34d4ab633fbea1ce7fc5a.bindPopup%28popup_ff75015053644d768979a06fe5837c2b%29%0A%20%20%20%20%20%20%20%20%3B%0A%0A%20%20%20%20%20%20%20%20%0A%20%20%20%20%0A%20%20%20%20%0A%20%20%20%20%20%20%20%20%20%20%20%20var%20circle_marker_f98168026e0e4d98aa42accff7aa2b5e%20%3D%20L.circleMarker%28%0A%20%20%20%20%20%20%20%20%20%20%20%20%20%20%20%20%5B40.609747779894604%2C%20-73.93134404108497%5D%2C%0A%20%20%20%20%20%20%20%20%20%20%20%20%20%20%20%20%7B%22bubblingMouseEvents%22%3A%20true%2C%20%22color%22%3A%20%22blue%22%2C%20%22dashArray%22%3A%20null%2C%20%22dashOffset%22%3A%20null%2C%20%22fill%22%3A%20true%2C%20%22fillColor%22%3A%20%22%233186cc%22%2C%20%22fillOpacity%22%3A%200.7%2C%20%22fillRule%22%3A%20%22evenodd%22%2C%20%22lineCap%22%3A%20%22round%22%2C%20%22lineJoin%22%3A%20%22round%22%2C%20%22opacity%22%3A%201.0%2C%20%22radius%22%3A%205%2C%20%22stroke%22%3A%20true%2C%20%22weight%22%3A%203%7D%0A%20%20%20%20%20%20%20%20%20%20%20%20%29.addTo%28map_da402c8c143c4c8d8a2810a77806f651%29%3B%0A%20%20%20%20%20%20%20%20%0A%20%20%20%20%0A%20%20%20%20%20%20%20%20var%20popup_664871be20e04f6c868656982e17510c%20%3D%20L.popup%28%7B%22maxWidth%22%3A%20%22100%25%22%7D%29%3B%0A%0A%20%20%20%20%20%20%20%20%0A%20%20%20%20%20%20%20%20%20%20%20%20var%20html_dd0d592053284d9b93c8ab90bc5b1a89%20%3D%20%24%28%60%3Cdiv%20id%3D%22html_dd0d592053284d9b93c8ab90bc5b1a89%22%20style%3D%22width%3A%20100.0%25%3B%20height%3A%20100.0%25%3B%22%3EMarine%20Park%2C%20Brooklyn%3C/div%3E%60%29%5B0%5D%3B%0A%20%20%20%20%20%20%20%20%20%20%20%20popup_664871be20e04f6c868656982e17510c.setContent%28html_dd0d592053284d9b93c8ab90bc5b1a89%29%3B%0A%20%20%20%20%20%20%20%20%0A%0A%20%20%20%20%20%20%20%20circle_marker_f98168026e0e4d98aa42accff7aa2b5e.bindPopup%28popup_664871be20e04f6c868656982e17510c%29%0A%20%20%20%20%20%20%20%20%3B%0A%0A%20%20%20%20%20%20%20%20%0A%20%20%20%20%0A%20%20%20%20%0A%20%20%20%20%20%20%20%20%20%20%20%20var%20circle_marker_20d9e1e7539b440fb01c26d37a3353e4%20%3D%20L.circleMarker%28%0A%20%20%20%20%20%20%20%20%20%20%20%20%20%20%20%20%5B40.693229421881504%2C%20-73.96784306216367%5D%2C%0A%20%20%20%20%20%20%20%20%20%20%20%20%20%20%20%20%7B%22bubblingMouseEvents%22%3A%20true%2C%20%22color%22%3A%20%22blue%22%2C%20%22dashArray%22%3A%20null%2C%20%22dashOffset%22%3A%20null%2C%20%22fill%22%3A%20true%2C%20%22fillColor%22%3A%20%22%233186cc%22%2C%20%22fillOpacity%22%3A%200.7%2C%20%22fillRule%22%3A%20%22evenodd%22%2C%20%22lineCap%22%3A%20%22round%22%2C%20%22lineJoin%22%3A%20%22round%22%2C%20%22opacity%22%3A%201.0%2C%20%22radius%22%3A%205%2C%20%22stroke%22%3A%20true%2C%20%22weight%22%3A%203%7D%0A%20%20%20%20%20%20%20%20%20%20%20%20%29.addTo%28map_da402c8c143c4c8d8a2810a77806f651%29%3B%0A%20%20%20%20%20%20%20%20%0A%20%20%20%20%0A%20%20%20%20%20%20%20%20var%20popup_23799177073b4603996a13e264cc9d05%20%3D%20L.popup%28%7B%22maxWidth%22%3A%20%22100%25%22%7D%29%3B%0A%0A%20%20%20%20%20%20%20%20%0A%20%20%20%20%20%20%20%20%20%20%20%20var%20html_a791f1accd914a51ba18306890c5964b%20%3D%20%24%28%60%3Cdiv%20id%3D%22html_a791f1accd914a51ba18306890c5964b%22%20style%3D%22width%3A%20100.0%25%3B%20height%3A%20100.0%25%3B%22%3EClinton%20Hill%2C%20Brooklyn%3C/div%3E%60%29%5B0%5D%3B%0A%20%20%20%20%20%20%20%20%20%20%20%20popup_23799177073b4603996a13e264cc9d05.setContent%28html_a791f1accd914a51ba18306890c5964b%29%3B%0A%20%20%20%20%20%20%20%20%0A%0A%20%20%20%20%20%20%20%20circle_marker_20d9e1e7539b440fb01c26d37a3353e4.bindPopup%28popup_23799177073b4603996a13e264cc9d05%29%0A%20%20%20%20%20%20%20%20%3B%0A%0A%20%20%20%20%20%20%20%20%0A%20%20%20%20%0A%20%20%20%20%0A%20%20%20%20%20%20%20%20%20%20%20%20var%20circle_marker_183a7e2126fe4731b40e305458ada21b%20%3D%20L.circleMarker%28%0A%20%20%20%20%20%20%20%20%20%20%20%20%20%20%20%20%5B40.57637537890224%2C%20-74.0078731120024%5D%2C%0A%20%20%20%20%20%20%20%20%20%20%20%20%20%20%20%20%7B%22bubblingMouseEvents%22%3A%20true%2C%20%22color%22%3A%20%22blue%22%2C%20%22dashArray%22%3A%20null%2C%20%22dashOffset%22%3A%20null%2C%20%22fill%22%3A%20true%2C%20%22fillColor%22%3A%20%22%233186cc%22%2C%20%22fillOpacity%22%3A%200.7%2C%20%22fillRule%22%3A%20%22evenodd%22%2C%20%22lineCap%22%3A%20%22round%22%2C%20%22lineJoin%22%3A%20%22round%22%2C%20%22opacity%22%3A%201.0%2C%20%22radius%22%3A%205%2C%20%22stroke%22%3A%20true%2C%20%22weight%22%3A%203%7D%0A%20%20%20%20%20%20%20%20%20%20%20%20%29.addTo%28map_da402c8c143c4c8d8a2810a77806f651%29%3B%0A%20%20%20%20%20%20%20%20%0A%20%20%20%20%0A%20%20%20%20%20%20%20%20var%20popup_d2c5b6f8cc0c4e9388651837e02eeb60%20%3D%20L.popup%28%7B%22maxWidth%22%3A%20%22100%25%22%7D%29%3B%0A%0A%20%20%20%20%20%20%20%20%0A%20%20%20%20%20%20%20%20%20%20%20%20var%20html_22d351a1905a4cc8b4b744a39099e137%20%3D%20%24%28%60%3Cdiv%20id%3D%22html_22d351a1905a4cc8b4b744a39099e137%22%20style%3D%22width%3A%20100.0%25%3B%20height%3A%20100.0%25%3B%22%3ESea%20Gate%2C%20Brooklyn%3C/div%3E%60%29%5B0%5D%3B%0A%20%20%20%20%20%20%20%20%20%20%20%20popup_d2c5b6f8cc0c4e9388651837e02eeb60.setContent%28html_22d351a1905a4cc8b4b744a39099e137%29%3B%0A%20%20%20%20%20%20%20%20%0A%0A%20%20%20%20%20%20%20%20circle_marker_183a7e2126fe4731b40e305458ada21b.bindPopup%28popup_d2c5b6f8cc0c4e9388651837e02eeb60%29%0A%20%20%20%20%20%20%20%20%3B%0A%0A%20%20%20%20%20%20%20%20%0A%20%20%20%20%0A%20%20%20%20%0A%20%20%20%20%20%20%20%20%20%20%20%20var%20circle_marker_773080cb458748169d0250efcf206cff%20%3D%20L.circleMarker%28%0A%20%20%20%20%20%20%20%20%20%20%20%20%20%20%20%20%5B40.69084402109802%2C%20-73.98346337431099%5D%2C%0A%20%20%20%20%20%20%20%20%20%20%20%20%20%20%20%20%7B%22bubblingMouseEvents%22%3A%20true%2C%20%22color%22%3A%20%22blue%22%2C%20%22dashArray%22%3A%20null%2C%20%22dashOffset%22%3A%20null%2C%20%22fill%22%3A%20true%2C%20%22fillColor%22%3A%20%22%233186cc%22%2C%20%22fillOpacity%22%3A%200.7%2C%20%22fillRule%22%3A%20%22evenodd%22%2C%20%22lineCap%22%3A%20%22round%22%2C%20%22lineJoin%22%3A%20%22round%22%2C%20%22opacity%22%3A%201.0%2C%20%22radius%22%3A%205%2C%20%22stroke%22%3A%20true%2C%20%22weight%22%3A%203%7D%0A%20%20%20%20%20%20%20%20%20%20%20%20%29.addTo%28map_da402c8c143c4c8d8a2810a77806f651%29%3B%0A%20%20%20%20%20%20%20%20%0A%20%20%20%20%0A%20%20%20%20%20%20%20%20var%20popup_508216c2a1074ee8bde5de62623b8253%20%3D%20L.popup%28%7B%22maxWidth%22%3A%20%22100%25%22%7D%29%3B%0A%0A%20%20%20%20%20%20%20%20%0A%20%20%20%20%20%20%20%20%20%20%20%20var%20html_391ec1c1784e4cb3b9e4958924b3024d%20%3D%20%24%28%60%3Cdiv%20id%3D%22html_391ec1c1784e4cb3b9e4958924b3024d%22%20style%3D%22width%3A%20100.0%25%3B%20height%3A%20100.0%25%3B%22%3EDowntown%2C%20Brooklyn%3C/div%3E%60%29%5B0%5D%3B%0A%20%20%20%20%20%20%20%20%20%20%20%20popup_508216c2a1074ee8bde5de62623b8253.setContent%28html_391ec1c1784e4cb3b9e4958924b3024d%29%3B%0A%20%20%20%20%20%20%20%20%0A%0A%20%20%20%20%20%20%20%20circle_marker_773080cb458748169d0250efcf206cff.bindPopup%28popup_508216c2a1074ee8bde5de62623b8253%29%0A%20%20%20%20%20%20%20%20%3B%0A%0A%20%20%20%20%20%20%20%20%0A%20%20%20%20%0A%20%20%20%20%0A%20%20%20%20%20%20%20%20%20%20%20%20var%20circle_marker_d861ef23d2bb4ff09854b315c7bc2868%20%3D%20L.circleMarker%28%0A%20%20%20%20%20%20%20%20%20%20%20%20%20%20%20%20%5B40.685682912091444%2C%20-73.98374824115798%5D%2C%0A%20%20%20%20%20%20%20%20%20%20%20%20%20%20%20%20%7B%22bubblingMouseEvents%22%3A%20true%2C%20%22color%22%3A%20%22blue%22%2C%20%22dashArray%22%3A%20null%2C%20%22dashOffset%22%3A%20null%2C%20%22fill%22%3A%20true%2C%20%22fillColor%22%3A%20%22%233186cc%22%2C%20%22fillOpacity%22%3A%200.7%2C%20%22fillRule%22%3A%20%22evenodd%22%2C%20%22lineCap%22%3A%20%22round%22%2C%20%22lineJoin%22%3A%20%22round%22%2C%20%22opacity%22%3A%201.0%2C%20%22radius%22%3A%205%2C%20%22stroke%22%3A%20true%2C%20%22weight%22%3A%203%7D%0A%20%20%20%20%20%20%20%20%20%20%20%20%29.addTo%28map_da402c8c143c4c8d8a2810a77806f651%29%3B%0A%20%20%20%20%20%20%20%20%0A%20%20%20%20%0A%20%20%20%20%20%20%20%20var%20popup_0fe22f020e0e4d3e8676c55be7a0ccf7%20%3D%20L.popup%28%7B%22maxWidth%22%3A%20%22100%25%22%7D%29%3B%0A%0A%20%20%20%20%20%20%20%20%0A%20%20%20%20%20%20%20%20%20%20%20%20var%20html_ba05c44ac3e44c04a3f9f776431f39de%20%3D%20%24%28%60%3Cdiv%20id%3D%22html_ba05c44ac3e44c04a3f9f776431f39de%22%20style%3D%22width%3A%20100.0%25%3B%20height%3A%20100.0%25%3B%22%3EBoerum%20Hill%2C%20Brooklyn%3C/div%3E%60%29%5B0%5D%3B%0A%20%20%20%20%20%20%20%20%20%20%20%20popup_0fe22f020e0e4d3e8676c55be7a0ccf7.setContent%28html_ba05c44ac3e44c04a3f9f776431f39de%29%3B%0A%20%20%20%20%20%20%20%20%0A%0A%20%20%20%20%20%20%20%20circle_marker_d861ef23d2bb4ff09854b315c7bc2868.bindPopup%28popup_0fe22f020e0e4d3e8676c55be7a0ccf7%29%0A%20%20%20%20%20%20%20%20%3B%0A%0A%20%20%20%20%20%20%20%20%0A%20%20%20%20%0A%20%20%20%20%0A%20%20%20%20%20%20%20%20%20%20%20%20var%20circle_marker_7271e24ed0cc43ea8bd5c4e8509cdb76%20%3D%20L.circleMarker%28%0A%20%20%20%20%20%20%20%20%20%20%20%20%20%20%20%20%5B40.658420017469815%2C%20-73.95489867077713%5D%2C%0A%20%20%20%20%20%20%20%20%20%20%20%20%20%20%20%20%7B%22bubblingMouseEvents%22%3A%20true%2C%20%22color%22%3A%20%22blue%22%2C%20%22dashArray%22%3A%20null%2C%20%22dashOffset%22%3A%20null%2C%20%22fill%22%3A%20true%2C%20%22fillColor%22%3A%20%22%233186cc%22%2C%20%22fillOpacity%22%3A%200.7%2C%20%22fillRule%22%3A%20%22evenodd%22%2C%20%22lineCap%22%3A%20%22round%22%2C%20%22lineJoin%22%3A%20%22round%22%2C%20%22opacity%22%3A%201.0%2C%20%22radius%22%3A%205%2C%20%22stroke%22%3A%20true%2C%20%22weight%22%3A%203%7D%0A%20%20%20%20%20%20%20%20%20%20%20%20%29.addTo%28map_da402c8c143c4c8d8a2810a77806f651%29%3B%0A%20%20%20%20%20%20%20%20%0A%20%20%20%20%0A%20%20%20%20%20%20%20%20var%20popup_67fc4f5670654d6aa2f84a40d1996d39%20%3D%20L.popup%28%7B%22maxWidth%22%3A%20%22100%25%22%7D%29%3B%0A%0A%20%20%20%20%20%20%20%20%0A%20%20%20%20%20%20%20%20%20%20%20%20var%20html_4d0efdb233a749a9922cfc6c87ce6c21%20%3D%20%24%28%60%3Cdiv%20id%3D%22html_4d0efdb233a749a9922cfc6c87ce6c21%22%20style%3D%22width%3A%20100.0%25%3B%20height%3A%20100.0%25%3B%22%3EProspect%20Lefferts%20Gardens%2C%20Brooklyn%3C/div%3E%60%29%5B0%5D%3B%0A%20%20%20%20%20%20%20%20%20%20%20%20popup_67fc4f5670654d6aa2f84a40d1996d39.setContent%28html_4d0efdb233a749a9922cfc6c87ce6c21%29%3B%0A%20%20%20%20%20%20%20%20%0A%0A%20%20%20%20%20%20%20%20circle_marker_7271e24ed0cc43ea8bd5c4e8509cdb76.bindPopup%28popup_67fc4f5670654d6aa2f84a40d1996d39%29%0A%20%20%20%20%20%20%20%20%3B%0A%0A%20%20%20%20%20%20%20%20%0A%20%20%20%20%0A%20%20%20%20%0A%20%20%20%20%20%20%20%20%20%20%20%20var%20circle_marker_0045afc3410c42d9a4ce39d28edd39bc%20%3D%20L.circleMarker%28%0A%20%20%20%20%20%20%20%20%20%20%20%20%20%20%20%20%5B40.678402554795355%2C%20-73.91306831787395%5D%2C%0A%20%20%20%20%20%20%20%20%20%20%20%20%20%20%20%20%7B%22bubblingMouseEvents%22%3A%20true%2C%20%22color%22%3A%20%22blue%22%2C%20%22dashArray%22%3A%20null%2C%20%22dashOffset%22%3A%20null%2C%20%22fill%22%3A%20true%2C%20%22fillColor%22%3A%20%22%233186cc%22%2C%20%22fillOpacity%22%3A%200.7%2C%20%22fillRule%22%3A%20%22evenodd%22%2C%20%22lineCap%22%3A%20%22round%22%2C%20%22lineJoin%22%3A%20%22round%22%2C%20%22opacity%22%3A%201.0%2C%20%22radius%22%3A%205%2C%20%22stroke%22%3A%20true%2C%20%22weight%22%3A%203%7D%0A%20%20%20%20%20%20%20%20%20%20%20%20%29.addTo%28map_da402c8c143c4c8d8a2810a77806f651%29%3B%0A%20%20%20%20%20%20%20%20%0A%20%20%20%20%0A%20%20%20%20%20%20%20%20var%20popup_359c9a89428341088ec4a1a5f0d56c8d%20%3D%20L.popup%28%7B%22maxWidth%22%3A%20%22100%25%22%7D%29%3B%0A%0A%20%20%20%20%20%20%20%20%0A%20%20%20%20%20%20%20%20%20%20%20%20var%20html_e24867793e0c4331b27e10163495fbae%20%3D%20%24%28%60%3Cdiv%20id%3D%22html_e24867793e0c4331b27e10163495fbae%22%20style%3D%22width%3A%20100.0%25%3B%20height%3A%20100.0%25%3B%22%3EOcean%20Hill%2C%20Brooklyn%3C/div%3E%60%29%5B0%5D%3B%0A%20%20%20%20%20%20%20%20%20%20%20%20popup_359c9a89428341088ec4a1a5f0d56c8d.setContent%28html_e24867793e0c4331b27e10163495fbae%29%3B%0A%20%20%20%20%20%20%20%20%0A%0A%20%20%20%20%20%20%20%20circle_marker_0045afc3410c42d9a4ce39d28edd39bc.bindPopup%28popup_359c9a89428341088ec4a1a5f0d56c8d%29%0A%20%20%20%20%20%20%20%20%3B%0A%0A%20%20%20%20%20%20%20%20%0A%20%20%20%20%0A%20%20%20%20%0A%20%20%20%20%20%20%20%20%20%20%20%20var%20circle_marker_c788f26be35c40669c1dffadfe6e6ddf%20%3D%20L.circleMarker%28%0A%20%20%20%20%20%20%20%20%20%20%20%20%20%20%20%20%5B40.67856995727479%2C%20-73.86797598081334%5D%2C%0A%20%20%20%20%20%20%20%20%20%20%20%20%20%20%20%20%7B%22bubblingMouseEvents%22%3A%20true%2C%20%22color%22%3A%20%22blue%22%2C%20%22dashArray%22%3A%20null%2C%20%22dashOffset%22%3A%20null%2C%20%22fill%22%3A%20true%2C%20%22fillColor%22%3A%20%22%233186cc%22%2C%20%22fillOpacity%22%3A%200.7%2C%20%22fillRule%22%3A%20%22evenodd%22%2C%20%22lineCap%22%3A%20%22round%22%2C%20%22lineJoin%22%3A%20%22round%22%2C%20%22opacity%22%3A%201.0%2C%20%22radius%22%3A%205%2C%20%22stroke%22%3A%20true%2C%20%22weight%22%3A%203%7D%0A%20%20%20%20%20%20%20%20%20%20%20%20%29.addTo%28map_da402c8c143c4c8d8a2810a77806f651%29%3B%0A%20%20%20%20%20%20%20%20%0A%20%20%20%20%0A%20%20%20%20%20%20%20%20var%20popup_5dd4b68cbcb64aab90fbf724fc7cd46f%20%3D%20L.popup%28%7B%22maxWidth%22%3A%20%22100%25%22%7D%29%3B%0A%0A%20%20%20%20%20%20%20%20%0A%20%20%20%20%20%20%20%20%20%20%20%20var%20html_1a1f5166a1374a589d5b752b7080de29%20%3D%20%24%28%60%3Cdiv%20id%3D%22html_1a1f5166a1374a589d5b752b7080de29%22%20style%3D%22width%3A%20100.0%25%3B%20height%3A%20100.0%25%3B%22%3ECity%20Line%2C%20Brooklyn%3C/div%3E%60%29%5B0%5D%3B%0A%20%20%20%20%20%20%20%20%20%20%20%20popup_5dd4b68cbcb64aab90fbf724fc7cd46f.setContent%28html_1a1f5166a1374a589d5b752b7080de29%29%3B%0A%20%20%20%20%20%20%20%20%0A%0A%20%20%20%20%20%20%20%20circle_marker_c788f26be35c40669c1dffadfe6e6ddf.bindPopup%28popup_5dd4b68cbcb64aab90fbf724fc7cd46f%29%0A%20%20%20%20%20%20%20%20%3B%0A%0A%20%20%20%20%20%20%20%20%0A%20%20%20%20%0A%20%20%20%20%0A%20%20%20%20%20%20%20%20%20%20%20%20var%20circle_marker_080fc45f80984aa8b02f4fe9da652a87%20%3D%20L.circleMarker%28%0A%20%20%20%20%20%20%20%20%20%20%20%20%20%20%20%20%5B40.61514955045308%2C%20-73.89855633630317%5D%2C%0A%20%20%20%20%20%20%20%20%20%20%20%20%20%20%20%20%7B%22bubblingMouseEvents%22%3A%20true%2C%20%22color%22%3A%20%22blue%22%2C%20%22dashArray%22%3A%20null%2C%20%22dashOffset%22%3A%20null%2C%20%22fill%22%3A%20true%2C%20%22fillColor%22%3A%20%22%233186cc%22%2C%20%22fillOpacity%22%3A%200.7%2C%20%22fillRule%22%3A%20%22evenodd%22%2C%20%22lineCap%22%3A%20%22round%22%2C%20%22lineJoin%22%3A%20%22round%22%2C%20%22opacity%22%3A%201.0%2C%20%22radius%22%3A%205%2C%20%22stroke%22%3A%20true%2C%20%22weight%22%3A%203%7D%0A%20%20%20%20%20%20%20%20%20%20%20%20%29.addTo%28map_da402c8c143c4c8d8a2810a77806f651%29%3B%0A%20%20%20%20%20%20%20%20%0A%20%20%20%20%0A%20%20%20%20%20%20%20%20var%20popup_77355e5e9c424a4489dc50a6ed0c6f8d%20%3D%20L.popup%28%7B%22maxWidth%22%3A%20%22100%25%22%7D%29%3B%0A%0A%20%20%20%20%20%20%20%20%0A%20%20%20%20%20%20%20%20%20%20%20%20var%20html_915b447b421441318e8a2744045679b2%20%3D%20%24%28%60%3Cdiv%20id%3D%22html_915b447b421441318e8a2744045679b2%22%20style%3D%22width%3A%20100.0%25%3B%20height%3A%20100.0%25%3B%22%3EBergen%20Beach%2C%20Brooklyn%3C/div%3E%60%29%5B0%5D%3B%0A%20%20%20%20%20%20%20%20%20%20%20%20popup_77355e5e9c424a4489dc50a6ed0c6f8d.setContent%28html_915b447b421441318e8a2744045679b2%29%3B%0A%20%20%20%20%20%20%20%20%0A%0A%20%20%20%20%20%20%20%20circle_marker_080fc45f80984aa8b02f4fe9da652a87.bindPopup%28popup_77355e5e9c424a4489dc50a6ed0c6f8d%29%0A%20%20%20%20%20%20%20%20%3B%0A%0A%20%20%20%20%20%20%20%20%0A%20%20%20%20%0A%20%20%20%20%0A%20%20%20%20%20%20%20%20%20%20%20%20var%20circle_marker_a3242c451c5249f1b2100aef10ecc04e%20%3D%20L.circleMarker%28%0A%20%20%20%20%20%20%20%20%20%20%20%20%20%20%20%20%5B40.62559589869843%2C%20-73.95759523489838%5D%2C%0A%20%20%20%20%20%20%20%20%20%20%20%20%20%20%20%20%7B%22bubblingMouseEvents%22%3A%20true%2C%20%22color%22%3A%20%22blue%22%2C%20%22dashArray%22%3A%20null%2C%20%22dashOffset%22%3A%20null%2C%20%22fill%22%3A%20true%2C%20%22fillColor%22%3A%20%22%233186cc%22%2C%20%22fillOpacity%22%3A%200.7%2C%20%22fillRule%22%3A%20%22evenodd%22%2C%20%22lineCap%22%3A%20%22round%22%2C%20%22lineJoin%22%3A%20%22round%22%2C%20%22opacity%22%3A%201.0%2C%20%22radius%22%3A%205%2C%20%22stroke%22%3A%20true%2C%20%22weight%22%3A%203%7D%0A%20%20%20%20%20%20%20%20%20%20%20%20%29.addTo%28map_da402c8c143c4c8d8a2810a77806f651%29%3B%0A%20%20%20%20%20%20%20%20%0A%20%20%20%20%0A%20%20%20%20%20%20%20%20var%20popup_bb817ae45f6e491e8a1843435fa7091a%20%3D%20L.popup%28%7B%22maxWidth%22%3A%20%22100%25%22%7D%29%3B%0A%0A%20%20%20%20%20%20%20%20%0A%20%20%20%20%20%20%20%20%20%20%20%20var%20html_f0d45487bacd40a1ac3b1816d2b8c128%20%3D%20%24%28%60%3Cdiv%20id%3D%22html_f0d45487bacd40a1ac3b1816d2b8c128%22%20style%3D%22width%3A%20100.0%25%3B%20height%3A%20100.0%25%3B%22%3EMidwood%2C%20Brooklyn%3C/div%3E%60%29%5B0%5D%3B%0A%20%20%20%20%20%20%20%20%20%20%20%20popup_bb817ae45f6e491e8a1843435fa7091a.setContent%28html_f0d45487bacd40a1ac3b1816d2b8c128%29%3B%0A%20%20%20%20%20%20%20%20%0A%0A%20%20%20%20%20%20%20%20circle_marker_a3242c451c5249f1b2100aef10ecc04e.bindPopup%28popup_bb817ae45f6e491e8a1843435fa7091a%29%0A%20%20%20%20%20%20%20%20%3B%0A%0A%20%20%20%20%20%20%20%20%0A%20%20%20%20%0A%20%20%20%20%0A%20%20%20%20%20%20%20%20%20%20%20%20var%20circle_marker_bcd0cc007bb142c092e4e001731d41fa%20%3D%20L.circleMarker%28%0A%20%20%20%20%20%20%20%20%20%20%20%20%20%20%20%20%5B40.647008603185185%2C%20-73.96261316716048%5D%2C%0A%20%20%20%20%20%20%20%20%20%20%20%20%20%20%20%20%7B%22bubblingMouseEvents%22%3A%20true%2C%20%22color%22%3A%20%22blue%22%2C%20%22dashArray%22%3A%20null%2C%20%22dashOffset%22%3A%20null%2C%20%22fill%22%3A%20true%2C%20%22fillColor%22%3A%20%22%233186cc%22%2C%20%22fillOpacity%22%3A%200.7%2C%20%22fillRule%22%3A%20%22evenodd%22%2C%20%22lineCap%22%3A%20%22round%22%2C%20%22lineJoin%22%3A%20%22round%22%2C%20%22opacity%22%3A%201.0%2C%20%22radius%22%3A%205%2C%20%22stroke%22%3A%20true%2C%20%22weight%22%3A%203%7D%0A%20%20%20%20%20%20%20%20%20%20%20%20%29.addTo%28map_da402c8c143c4c8d8a2810a77806f651%29%3B%0A%20%20%20%20%20%20%20%20%0A%20%20%20%20%0A%20%20%20%20%20%20%20%20var%20popup_7e1d3ddc2ec2443f99715b4db190464b%20%3D%20L.popup%28%7B%22maxWidth%22%3A%20%22100%25%22%7D%29%3B%0A%0A%20%20%20%20%20%20%20%20%0A%20%20%20%20%20%20%20%20%20%20%20%20var%20html_b68e56220fad4e9dac88f61ac78a4431%20%3D%20%24%28%60%3Cdiv%20id%3D%22html_b68e56220fad4e9dac88f61ac78a4431%22%20style%3D%22width%3A%20100.0%25%3B%20height%3A%20100.0%25%3B%22%3EProspect%20Park%20South%2C%20Brooklyn%3C/div%3E%60%29%5B0%5D%3B%0A%20%20%20%20%20%20%20%20%20%20%20%20popup_7e1d3ddc2ec2443f99715b4db190464b.setContent%28html_b68e56220fad4e9dac88f61ac78a4431%29%3B%0A%20%20%20%20%20%20%20%20%0A%0A%20%20%20%20%20%20%20%20circle_marker_bcd0cc007bb142c092e4e001731d41fa.bindPopup%28popup_7e1d3ddc2ec2443f99715b4db190464b%29%0A%20%20%20%20%20%20%20%20%3B%0A%0A%20%20%20%20%20%20%20%20%0A%20%20%20%20%0A%20%20%20%20%0A%20%20%20%20%20%20%20%20%20%20%20%20var%20circle_marker_d1ceee86670241a985c11198ec54d489%20%3D%20L.circleMarker%28%0A%20%20%20%20%20%20%20%20%20%20%20%20%20%20%20%20%5B40.62384524478419%2C%20-73.91607483951324%5D%2C%0A%20%20%20%20%20%20%20%20%20%20%20%20%20%20%20%20%7B%22bubblingMouseEvents%22%3A%20true%2C%20%22color%22%3A%20%22blue%22%2C%20%22dashArray%22%3A%20null%2C%20%22dashOffset%22%3A%20null%2C%20%22fill%22%3A%20true%2C%20%22fillColor%22%3A%20%22%233186cc%22%2C%20%22fillOpacity%22%3A%200.7%2C%20%22fillRule%22%3A%20%22evenodd%22%2C%20%22lineCap%22%3A%20%22round%22%2C%20%22lineJoin%22%3A%20%22round%22%2C%20%22opacity%22%3A%201.0%2C%20%22radius%22%3A%205%2C%20%22stroke%22%3A%20true%2C%20%22weight%22%3A%203%7D%0A%20%20%20%20%20%20%20%20%20%20%20%20%29.addTo%28map_da402c8c143c4c8d8a2810a77806f651%29%3B%0A%20%20%20%20%20%20%20%20%0A%20%20%20%20%0A%20%20%20%20%20%20%20%20var%20popup_2fed7d9b58ba4c07882121744f2d6ccf%20%3D%20L.popup%28%7B%22maxWidth%22%3A%20%22100%25%22%7D%29%3B%0A%0A%20%20%20%20%20%20%20%20%0A%20%20%20%20%20%20%20%20%20%20%20%20var%20html_c4c5447bf37d4a56a12085533dbd8dbe%20%3D%20%24%28%60%3Cdiv%20id%3D%22html_c4c5447bf37d4a56a12085533dbd8dbe%22%20style%3D%22width%3A%20100.0%25%3B%20height%3A%20100.0%25%3B%22%3EGeorgetown%2C%20Brooklyn%3C/div%3E%60%29%5B0%5D%3B%0A%20%20%20%20%20%20%20%20%20%20%20%20popup_2fed7d9b58ba4c07882121744f2d6ccf.setContent%28html_c4c5447bf37d4a56a12085533dbd8dbe%29%3B%0A%20%20%20%20%20%20%20%20%0A%0A%20%20%20%20%20%20%20%20circle_marker_d1ceee86670241a985c11198ec54d489.bindPopup%28popup_2fed7d9b58ba4c07882121744f2d6ccf%29%0A%20%20%20%20%20%20%20%20%3B%0A%0A%20%20%20%20%20%20%20%20%0A%20%20%20%20%0A%20%20%20%20%0A%20%20%20%20%20%20%20%20%20%20%20%20var%20circle_marker_41d8b290d8694c2a87478df7ba869dc4%20%3D%20L.circleMarker%28%0A%20%20%20%20%20%20%20%20%20%20%20%20%20%20%20%20%5B40.70849241041548%2C%20-73.93885815269195%5D%2C%0A%20%20%20%20%20%20%20%20%20%20%20%20%20%20%20%20%7B%22bubblingMouseEvents%22%3A%20true%2C%20%22color%22%3A%20%22blue%22%2C%20%22dashArray%22%3A%20null%2C%20%22dashOffset%22%3A%20null%2C%20%22fill%22%3A%20true%2C%20%22fillColor%22%3A%20%22%233186cc%22%2C%20%22fillOpacity%22%3A%200.7%2C%20%22fillRule%22%3A%20%22evenodd%22%2C%20%22lineCap%22%3A%20%22round%22%2C%20%22lineJoin%22%3A%20%22round%22%2C%20%22opacity%22%3A%201.0%2C%20%22radius%22%3A%205%2C%20%22stroke%22%3A%20true%2C%20%22weight%22%3A%203%7D%0A%20%20%20%20%20%20%20%20%20%20%20%20%29.addTo%28map_da402c8c143c4c8d8a2810a77806f651%29%3B%0A%20%20%20%20%20%20%20%20%0A%20%20%20%20%0A%20%20%20%20%20%20%20%20var%20popup_14e24b458e8b4bf38e13d5245fa7486f%20%3D%20L.popup%28%7B%22maxWidth%22%3A%20%22100%25%22%7D%29%3B%0A%0A%20%20%20%20%20%20%20%20%0A%20%20%20%20%20%20%20%20%20%20%20%20var%20html_d957b1e86581426fbb71e7a3e1ce9027%20%3D%20%24%28%60%3Cdiv%20id%3D%22html_d957b1e86581426fbb71e7a3e1ce9027%22%20style%3D%22width%3A%20100.0%25%3B%20height%3A%20100.0%25%3B%22%3EEast%20Williamsburg%2C%20Brooklyn%3C/div%3E%60%29%5B0%5D%3B%0A%20%20%20%20%20%20%20%20%20%20%20%20popup_14e24b458e8b4bf38e13d5245fa7486f.setContent%28html_d957b1e86581426fbb71e7a3e1ce9027%29%3B%0A%20%20%20%20%20%20%20%20%0A%0A%20%20%20%20%20%20%20%20circle_marker_41d8b290d8694c2a87478df7ba869dc4.bindPopup%28popup_14e24b458e8b4bf38e13d5245fa7486f%29%0A%20%20%20%20%20%20%20%20%3B%0A%0A%20%20%20%20%20%20%20%20%0A%20%20%20%20%0A%20%20%20%20%0A%20%20%20%20%20%20%20%20%20%20%20%20var%20circle_marker_2a5fbe14d6e747a9a03873add4250fda%20%3D%20L.circleMarker%28%0A%20%20%20%20%20%20%20%20%20%20%20%20%20%20%20%20%5B40.714822906532014%2C%20-73.95880857587582%5D%2C%0A%20%20%20%20%20%20%20%20%20%20%20%20%20%20%20%20%7B%22bubblingMouseEvents%22%3A%20true%2C%20%22color%22%3A%20%22blue%22%2C%20%22dashArray%22%3A%20null%2C%20%22dashOffset%22%3A%20null%2C%20%22fill%22%3A%20true%2C%20%22fillColor%22%3A%20%22%233186cc%22%2C%20%22fillOpacity%22%3A%200.7%2C%20%22fillRule%22%3A%20%22evenodd%22%2C%20%22lineCap%22%3A%20%22round%22%2C%20%22lineJoin%22%3A%20%22round%22%2C%20%22opacity%22%3A%201.0%2C%20%22radius%22%3A%205%2C%20%22stroke%22%3A%20true%2C%20%22weight%22%3A%203%7D%0A%20%20%20%20%20%20%20%20%20%20%20%20%29.addTo%28map_da402c8c143c4c8d8a2810a77806f651%29%3B%0A%20%20%20%20%20%20%20%20%0A%20%20%20%20%0A%20%20%20%20%20%20%20%20var%20popup_8bc899ccc8b24e5190d26f62b1b59a86%20%3D%20L.popup%28%7B%22maxWidth%22%3A%20%22100%25%22%7D%29%3B%0A%0A%20%20%20%20%20%20%20%20%0A%20%20%20%20%20%20%20%20%20%20%20%20var%20html_b34be30b130d45ef87d6b0d74bc40200%20%3D%20%24%28%60%3Cdiv%20id%3D%22html_b34be30b130d45ef87d6b0d74bc40200%22%20style%3D%22width%3A%20100.0%25%3B%20height%3A%20100.0%25%3B%22%3ENorth%20Side%2C%20Brooklyn%3C/div%3E%60%29%5B0%5D%3B%0A%20%20%20%20%20%20%20%20%20%20%20%20popup_8bc899ccc8b24e5190d26f62b1b59a86.setContent%28html_b34be30b130d45ef87d6b0d74bc40200%29%3B%0A%20%20%20%20%20%20%20%20%0A%0A%20%20%20%20%20%20%20%20circle_marker_2a5fbe14d6e747a9a03873add4250fda.bindPopup%28popup_8bc899ccc8b24e5190d26f62b1b59a86%29%0A%20%20%20%20%20%20%20%20%3B%0A%0A%20%20%20%20%20%20%20%20%0A%20%20%20%20%0A%20%20%20%20%0A%20%20%20%20%20%20%20%20%20%20%20%20var%20circle_marker_065e7e3b4fbf48edbee4857a03b492ec%20%3D%20L.circleMarker%28%0A%20%20%20%20%20%20%20%20%20%20%20%20%20%20%20%20%5B40.71086147265064%2C%20-73.95800095153331%5D%2C%0A%20%20%20%20%20%20%20%20%20%20%20%20%20%20%20%20%7B%22bubblingMouseEvents%22%3A%20true%2C%20%22color%22%3A%20%22blue%22%2C%20%22dashArray%22%3A%20null%2C%20%22dashOffset%22%3A%20null%2C%20%22fill%22%3A%20true%2C%20%22fillColor%22%3A%20%22%233186cc%22%2C%20%22fillOpacity%22%3A%200.7%2C%20%22fillRule%22%3A%20%22evenodd%22%2C%20%22lineCap%22%3A%20%22round%22%2C%20%22lineJoin%22%3A%20%22round%22%2C%20%22opacity%22%3A%201.0%2C%20%22radius%22%3A%205%2C%20%22stroke%22%3A%20true%2C%20%22weight%22%3A%203%7D%0A%20%20%20%20%20%20%20%20%20%20%20%20%29.addTo%28map_da402c8c143c4c8d8a2810a77806f651%29%3B%0A%20%20%20%20%20%20%20%20%0A%20%20%20%20%0A%20%20%20%20%20%20%20%20var%20popup_34a0edad183d4b899f90377b099d83f7%20%3D%20L.popup%28%7B%22maxWidth%22%3A%20%22100%25%22%7D%29%3B%0A%0A%20%20%20%20%20%20%20%20%0A%20%20%20%20%20%20%20%20%20%20%20%20var%20html_45ee298cca6e477e8e3498f42dc46344%20%3D%20%24%28%60%3Cdiv%20id%3D%22html_45ee298cca6e477e8e3498f42dc46344%22%20style%3D%22width%3A%20100.0%25%3B%20height%3A%20100.0%25%3B%22%3ESouth%20Side%2C%20Brooklyn%3C/div%3E%60%29%5B0%5D%3B%0A%20%20%20%20%20%20%20%20%20%20%20%20popup_34a0edad183d4b899f90377b099d83f7.setContent%28html_45ee298cca6e477e8e3498f42dc46344%29%3B%0A%20%20%20%20%20%20%20%20%0A%0A%20%20%20%20%20%20%20%20circle_marker_065e7e3b4fbf48edbee4857a03b492ec.bindPopup%28popup_34a0edad183d4b899f90377b099d83f7%29%0A%20%20%20%20%20%20%20%20%3B%0A%0A%20%20%20%20%20%20%20%20%0A%20%20%20%20%0A%20%20%20%20%0A%20%20%20%20%20%20%20%20%20%20%20%20var%20circle_marker_242fcf09192647c58d61b0eed3225e1b%20%3D%20L.circleMarker%28%0A%20%20%20%20%20%20%20%20%20%20%20%20%20%20%20%20%5B40.61305976667942%2C%20-73.96836678035541%5D%2C%0A%20%20%20%20%20%20%20%20%20%20%20%20%20%20%20%20%7B%22bubblingMouseEvents%22%3A%20true%2C%20%22color%22%3A%20%22blue%22%2C%20%22dashArray%22%3A%20null%2C%20%22dashOffset%22%3A%20null%2C%20%22fill%22%3A%20true%2C%20%22fillColor%22%3A%20%22%233186cc%22%2C%20%22fillOpacity%22%3A%200.7%2C%20%22fillRule%22%3A%20%22evenodd%22%2C%20%22lineCap%22%3A%20%22round%22%2C%20%22lineJoin%22%3A%20%22round%22%2C%20%22opacity%22%3A%201.0%2C%20%22radius%22%3A%205%2C%20%22stroke%22%3A%20true%2C%20%22weight%22%3A%203%7D%0A%20%20%20%20%20%20%20%20%20%20%20%20%29.addTo%28map_da402c8c143c4c8d8a2810a77806f651%29%3B%0A%20%20%20%20%20%20%20%20%0A%20%20%20%20%0A%20%20%20%20%20%20%20%20var%20popup_f758673c9017416284f2316b0c42cb71%20%3D%20L.popup%28%7B%22maxWidth%22%3A%20%22100%25%22%7D%29%3B%0A%0A%20%20%20%20%20%20%20%20%0A%20%20%20%20%20%20%20%20%20%20%20%20var%20html_f40205e3c4ef403499ab7f8774e63e7a%20%3D%20%24%28%60%3Cdiv%20id%3D%22html_f40205e3c4ef403499ab7f8774e63e7a%22%20style%3D%22width%3A%20100.0%25%3B%20height%3A%20100.0%25%3B%22%3EOcean%20Parkway%2C%20Brooklyn%3C/div%3E%60%29%5B0%5D%3B%0A%20%20%20%20%20%20%20%20%20%20%20%20popup_f758673c9017416284f2316b0c42cb71.setContent%28html_f40205e3c4ef403499ab7f8774e63e7a%29%3B%0A%20%20%20%20%20%20%20%20%0A%0A%20%20%20%20%20%20%20%20circle_marker_242fcf09192647c58d61b0eed3225e1b.bindPopup%28popup_f758673c9017416284f2316b0c42cb71%29%0A%20%20%20%20%20%20%20%20%3B%0A%0A%20%20%20%20%20%20%20%20%0A%20%20%20%20%0A%20%20%20%20%0A%20%20%20%20%20%20%20%20%20%20%20%20var%20circle_marker_d888872b4f1f4426b64a24b600eb2591%20%3D%20L.circleMarker%28%0A%20%20%20%20%20%20%20%20%20%20%20%20%20%20%20%20%5B40.61476812694226%2C%20-74.03197914537984%5D%2C%0A%20%20%20%20%20%20%20%20%20%20%20%20%20%20%20%20%7B%22bubblingMouseEvents%22%3A%20true%2C%20%22color%22%3A%20%22blue%22%2C%20%22dashArray%22%3A%20null%2C%20%22dashOffset%22%3A%20null%2C%20%22fill%22%3A%20true%2C%20%22fillColor%22%3A%20%22%233186cc%22%2C%20%22fillOpacity%22%3A%200.7%2C%20%22fillRule%22%3A%20%22evenodd%22%2C%20%22lineCap%22%3A%20%22round%22%2C%20%22lineJoin%22%3A%20%22round%22%2C%20%22opacity%22%3A%201.0%2C%20%22radius%22%3A%205%2C%20%22stroke%22%3A%20true%2C%20%22weight%22%3A%203%7D%0A%20%20%20%20%20%20%20%20%20%20%20%20%29.addTo%28map_da402c8c143c4c8d8a2810a77806f651%29%3B%0A%20%20%20%20%20%20%20%20%0A%20%20%20%20%0A%20%20%20%20%20%20%20%20var%20popup_f0dfd57c3f2c421180027d8ae24a7978%20%3D%20L.popup%28%7B%22maxWidth%22%3A%20%22100%25%22%7D%29%3B%0A%0A%20%20%20%20%20%20%20%20%0A%20%20%20%20%20%20%20%20%20%20%20%20var%20html_f4aa692ce49440b8afa5c2b0cb5d51c0%20%3D%20%24%28%60%3Cdiv%20id%3D%22html_f4aa692ce49440b8afa5c2b0cb5d51c0%22%20style%3D%22width%3A%20100.0%25%3B%20height%3A%20100.0%25%3B%22%3EFort%20Hamilton%2C%20Brooklyn%3C/div%3E%60%29%5B0%5D%3B%0A%20%20%20%20%20%20%20%20%20%20%20%20popup_f0dfd57c3f2c421180027d8ae24a7978.setContent%28html_f4aa692ce49440b8afa5c2b0cb5d51c0%29%3B%0A%20%20%20%20%20%20%20%20%0A%0A%20%20%20%20%20%20%20%20circle_marker_d888872b4f1f4426b64a24b600eb2591.bindPopup%28popup_f0dfd57c3f2c421180027d8ae24a7978%29%0A%20%20%20%20%20%20%20%20%3B%0A%0A%20%20%20%20%20%20%20%20%0A%20%20%20%20%0A%20%20%20%20%0A%20%20%20%20%20%20%20%20%20%20%20%20var%20circle_marker_2aeea4a0513f4546b0335a7653fd8aa7%20%3D%20L.circleMarker%28%0A%20%20%20%20%20%20%20%20%20%20%20%20%20%20%20%20%5B40.71561842231432%2C%20-73.99427936255978%5D%2C%0A%20%20%20%20%20%20%20%20%20%20%20%20%20%20%20%20%7B%22bubblingMouseEvents%22%3A%20true%2C%20%22color%22%3A%20%22blue%22%2C%20%22dashArray%22%3A%20null%2C%20%22dashOffset%22%3A%20null%2C%20%22fill%22%3A%20true%2C%20%22fillColor%22%3A%20%22%233186cc%22%2C%20%22fillOpacity%22%3A%200.7%2C%20%22fillRule%22%3A%20%22evenodd%22%2C%20%22lineCap%22%3A%20%22round%22%2C%20%22lineJoin%22%3A%20%22round%22%2C%20%22opacity%22%3A%201.0%2C%20%22radius%22%3A%205%2C%20%22stroke%22%3A%20true%2C%20%22weight%22%3A%203%7D%0A%20%20%20%20%20%20%20%20%20%20%20%20%29.addTo%28map_da402c8c143c4c8d8a2810a77806f651%29%3B%0A%20%20%20%20%20%20%20%20%0A%20%20%20%20%0A%20%20%20%20%20%20%20%20var%20popup_2de2d0aa57e44857b90ff4fa09cad93d%20%3D%20L.popup%28%7B%22maxWidth%22%3A%20%22100%25%22%7D%29%3B%0A%0A%20%20%20%20%20%20%20%20%0A%20%20%20%20%20%20%20%20%20%20%20%20var%20html_cbb7055dce9a4170a074ab8e7f2bf1c5%20%3D%20%24%28%60%3Cdiv%20id%3D%22html_cbb7055dce9a4170a074ab8e7f2bf1c5%22%20style%3D%22width%3A%20100.0%25%3B%20height%3A%20100.0%25%3B%22%3EChinatown%2C%20Manhattan%3C/div%3E%60%29%5B0%5D%3B%0A%20%20%20%20%20%20%20%20%20%20%20%20popup_2de2d0aa57e44857b90ff4fa09cad93d.setContent%28html_cbb7055dce9a4170a074ab8e7f2bf1c5%29%3B%0A%20%20%20%20%20%20%20%20%0A%0A%20%20%20%20%20%20%20%20circle_marker_2aeea4a0513f4546b0335a7653fd8aa7.bindPopup%28popup_2de2d0aa57e44857b90ff4fa09cad93d%29%0A%20%20%20%20%20%20%20%20%3B%0A%0A%20%20%20%20%20%20%20%20%0A%20%20%20%20%0A%20%20%20%20%0A%20%20%20%20%20%20%20%20%20%20%20%20var%20circle_marker_47cee3f30820471f80802056495025c3%20%3D%20L.circleMarker%28%0A%20%20%20%20%20%20%20%20%20%20%20%20%20%20%20%20%5B40.85190252555305%2C%20-73.93690027985234%5D%2C%0A%20%20%20%20%20%20%20%20%20%20%20%20%20%20%20%20%7B%22bubblingMouseEvents%22%3A%20true%2C%20%22color%22%3A%20%22blue%22%2C%20%22dashArray%22%3A%20null%2C%20%22dashOffset%22%3A%20null%2C%20%22fill%22%3A%20true%2C%20%22fillColor%22%3A%20%22%233186cc%22%2C%20%22fillOpacity%22%3A%200.7%2C%20%22fillRule%22%3A%20%22evenodd%22%2C%20%22lineCap%22%3A%20%22round%22%2C%20%22lineJoin%22%3A%20%22round%22%2C%20%22opacity%22%3A%201.0%2C%20%22radius%22%3A%205%2C%20%22stroke%22%3A%20true%2C%20%22weight%22%3A%203%7D%0A%20%20%20%20%20%20%20%20%20%20%20%20%29.addTo%28map_da402c8c143c4c8d8a2810a77806f651%29%3B%0A%20%20%20%20%20%20%20%20%0A%20%20%20%20%0A%20%20%20%20%20%20%20%20var%20popup_e55a9eb5c86d4a1c91ccb63487bda7c3%20%3D%20L.popup%28%7B%22maxWidth%22%3A%20%22100%25%22%7D%29%3B%0A%0A%20%20%20%20%20%20%20%20%0A%20%20%20%20%20%20%20%20%20%20%20%20var%20html_9ee669260cf440229ed324297856c3b8%20%3D%20%24%28%60%3Cdiv%20id%3D%22html_9ee669260cf440229ed324297856c3b8%22%20style%3D%22width%3A%20100.0%25%3B%20height%3A%20100.0%25%3B%22%3EWashington%20Heights%2C%20Manhattan%3C/div%3E%60%29%5B0%5D%3B%0A%20%20%20%20%20%20%20%20%20%20%20%20popup_e55a9eb5c86d4a1c91ccb63487bda7c3.setContent%28html_9ee669260cf440229ed324297856c3b8%29%3B%0A%20%20%20%20%20%20%20%20%0A%0A%20%20%20%20%20%20%20%20circle_marker_47cee3f30820471f80802056495025c3.bindPopup%28popup_e55a9eb5c86d4a1c91ccb63487bda7c3%29%0A%20%20%20%20%20%20%20%20%3B%0A%0A%20%20%20%20%20%20%20%20%0A%20%20%20%20%0A%20%20%20%20%0A%20%20%20%20%20%20%20%20%20%20%20%20var%20circle_marker_d890c6798b934046b7bf75ae356106ef%20%3D%20L.circleMarker%28%0A%20%20%20%20%20%20%20%20%20%20%20%20%20%20%20%20%5B40.86768396449915%2C%20-73.92121042203897%5D%2C%0A%20%20%20%20%20%20%20%20%20%20%20%20%20%20%20%20%7B%22bubblingMouseEvents%22%3A%20true%2C%20%22color%22%3A%20%22blue%22%2C%20%22dashArray%22%3A%20null%2C%20%22dashOffset%22%3A%20null%2C%20%22fill%22%3A%20true%2C%20%22fillColor%22%3A%20%22%233186cc%22%2C%20%22fillOpacity%22%3A%200.7%2C%20%22fillRule%22%3A%20%22evenodd%22%2C%20%22lineCap%22%3A%20%22round%22%2C%20%22lineJoin%22%3A%20%22round%22%2C%20%22opacity%22%3A%201.0%2C%20%22radius%22%3A%205%2C%20%22stroke%22%3A%20true%2C%20%22weight%22%3A%203%7D%0A%20%20%20%20%20%20%20%20%20%20%20%20%29.addTo%28map_da402c8c143c4c8d8a2810a77806f651%29%3B%0A%20%20%20%20%20%20%20%20%0A%20%20%20%20%0A%20%20%20%20%20%20%20%20var%20popup_8627eee8335b4e4bb404befbc9e6151e%20%3D%20L.popup%28%7B%22maxWidth%22%3A%20%22100%25%22%7D%29%3B%0A%0A%20%20%20%20%20%20%20%20%0A%20%20%20%20%20%20%20%20%20%20%20%20var%20html_2a5375e003e941c0bcbcf2d95e7effa5%20%3D%20%24%28%60%3Cdiv%20id%3D%22html_2a5375e003e941c0bcbcf2d95e7effa5%22%20style%3D%22width%3A%20100.0%25%3B%20height%3A%20100.0%25%3B%22%3EInwood%2C%20Manhattan%3C/div%3E%60%29%5B0%5D%3B%0A%20%20%20%20%20%20%20%20%20%20%20%20popup_8627eee8335b4e4bb404befbc9e6151e.setContent%28html_2a5375e003e941c0bcbcf2d95e7effa5%29%3B%0A%20%20%20%20%20%20%20%20%0A%0A%20%20%20%20%20%20%20%20circle_marker_d890c6798b934046b7bf75ae356106ef.bindPopup%28popup_8627eee8335b4e4bb404befbc9e6151e%29%0A%20%20%20%20%20%20%20%20%3B%0A%0A%20%20%20%20%20%20%20%20%0A%20%20%20%20%0A%20%20%20%20%0A%20%20%20%20%20%20%20%20%20%20%20%20var%20circle_marker_b2d414d0939741c1aae9f07d4fa44718%20%3D%20L.circleMarker%28%0A%20%20%20%20%20%20%20%20%20%20%20%20%20%20%20%20%5B40.823604284811935%2C%20-73.94968791883366%5D%2C%0A%20%20%20%20%20%20%20%20%20%20%20%20%20%20%20%20%7B%22bubblingMouseEvents%22%3A%20true%2C%20%22color%22%3A%20%22blue%22%2C%20%22dashArray%22%3A%20null%2C%20%22dashOffset%22%3A%20null%2C%20%22fill%22%3A%20true%2C%20%22fillColor%22%3A%20%22%233186cc%22%2C%20%22fillOpacity%22%3A%200.7%2C%20%22fillRule%22%3A%20%22evenodd%22%2C%20%22lineCap%22%3A%20%22round%22%2C%20%22lineJoin%22%3A%20%22round%22%2C%20%22opacity%22%3A%201.0%2C%20%22radius%22%3A%205%2C%20%22stroke%22%3A%20true%2C%20%22weight%22%3A%203%7D%0A%20%20%20%20%20%20%20%20%20%20%20%20%29.addTo%28map_da402c8c143c4c8d8a2810a77806f651%29%3B%0A%20%20%20%20%20%20%20%20%0A%20%20%20%20%0A%20%20%20%20%20%20%20%20var%20popup_91dc0bd773124537bae4910d933889fd%20%3D%20L.popup%28%7B%22maxWidth%22%3A%20%22100%25%22%7D%29%3B%0A%0A%20%20%20%20%20%20%20%20%0A%20%20%20%20%20%20%20%20%20%20%20%20var%20html_0ff2e043ca4449c79b1ec3cc726d1011%20%3D%20%24%28%60%3Cdiv%20id%3D%22html_0ff2e043ca4449c79b1ec3cc726d1011%22%20style%3D%22width%3A%20100.0%25%3B%20height%3A%20100.0%25%3B%22%3EHamilton%20Heights%2C%20Manhattan%3C/div%3E%60%29%5B0%5D%3B%0A%20%20%20%20%20%20%20%20%20%20%20%20popup_91dc0bd773124537bae4910d933889fd.setContent%28html_0ff2e043ca4449c79b1ec3cc726d1011%29%3B%0A%20%20%20%20%20%20%20%20%0A%0A%20%20%20%20%20%20%20%20circle_marker_b2d414d0939741c1aae9f07d4fa44718.bindPopup%28popup_91dc0bd773124537bae4910d933889fd%29%0A%20%20%20%20%20%20%20%20%3B%0A%0A%20%20%20%20%20%20%20%20%0A%20%20%20%20%0A%20%20%20%20%0A%20%20%20%20%20%20%20%20%20%20%20%20var%20circle_marker_c21c3384ef3d422eae6bf6468c6710d6%20%3D%20L.circleMarker%28%0A%20%20%20%20%20%20%20%20%20%20%20%20%20%20%20%20%5B40.8169344294978%2C%20-73.9573853935188%5D%2C%0A%20%20%20%20%20%20%20%20%20%20%20%20%20%20%20%20%7B%22bubblingMouseEvents%22%3A%20true%2C%20%22color%22%3A%20%22blue%22%2C%20%22dashArray%22%3A%20null%2C%20%22dashOffset%22%3A%20null%2C%20%22fill%22%3A%20true%2C%20%22fillColor%22%3A%20%22%233186cc%22%2C%20%22fillOpacity%22%3A%200.7%2C%20%22fillRule%22%3A%20%22evenodd%22%2C%20%22lineCap%22%3A%20%22round%22%2C%20%22lineJoin%22%3A%20%22round%22%2C%20%22opacity%22%3A%201.0%2C%20%22radius%22%3A%205%2C%20%22stroke%22%3A%20true%2C%20%22weight%22%3A%203%7D%0A%20%20%20%20%20%20%20%20%20%20%20%20%29.addTo%28map_da402c8c143c4c8d8a2810a77806f651%29%3B%0A%20%20%20%20%20%20%20%20%0A%20%20%20%20%0A%20%20%20%20%20%20%20%20var%20popup_139e9fadecc14b6287253a8a3ea5ca8d%20%3D%20L.popup%28%7B%22maxWidth%22%3A%20%22100%25%22%7D%29%3B%0A%0A%20%20%20%20%20%20%20%20%0A%20%20%20%20%20%20%20%20%20%20%20%20var%20html_535f157224574287b3e43904fec0a0aa%20%3D%20%24%28%60%3Cdiv%20id%3D%22html_535f157224574287b3e43904fec0a0aa%22%20style%3D%22width%3A%20100.0%25%3B%20height%3A%20100.0%25%3B%22%3EManhattanville%2C%20Manhattan%3C/div%3E%60%29%5B0%5D%3B%0A%20%20%20%20%20%20%20%20%20%20%20%20popup_139e9fadecc14b6287253a8a3ea5ca8d.setContent%28html_535f157224574287b3e43904fec0a0aa%29%3B%0A%20%20%20%20%20%20%20%20%0A%0A%20%20%20%20%20%20%20%20circle_marker_c21c3384ef3d422eae6bf6468c6710d6.bindPopup%28popup_139e9fadecc14b6287253a8a3ea5ca8d%29%0A%20%20%20%20%20%20%20%20%3B%0A%0A%20%20%20%20%20%20%20%20%0A%20%20%20%20%0A%20%20%20%20%0A%20%20%20%20%20%20%20%20%20%20%20%20var%20circle_marker_d0c8f7a9934340a0bb2d926dc8b5e44b%20%3D%20L.circleMarker%28%0A%20%20%20%20%20%20%20%20%20%20%20%20%20%20%20%20%5B40.81597606742414%2C%20-73.94321112603905%5D%2C%0A%20%20%20%20%20%20%20%20%20%20%20%20%20%20%20%20%7B%22bubblingMouseEvents%22%3A%20true%2C%20%22color%22%3A%20%22blue%22%2C%20%22dashArray%22%3A%20null%2C%20%22dashOffset%22%3A%20null%2C%20%22fill%22%3A%20true%2C%20%22fillColor%22%3A%20%22%233186cc%22%2C%20%22fillOpacity%22%3A%200.7%2C%20%22fillRule%22%3A%20%22evenodd%22%2C%20%22lineCap%22%3A%20%22round%22%2C%20%22lineJoin%22%3A%20%22round%22%2C%20%22opacity%22%3A%201.0%2C%20%22radius%22%3A%205%2C%20%22stroke%22%3A%20true%2C%20%22weight%22%3A%203%7D%0A%20%20%20%20%20%20%20%20%20%20%20%20%29.addTo%28map_da402c8c143c4c8d8a2810a77806f651%29%3B%0A%20%20%20%20%20%20%20%20%0A%20%20%20%20%0A%20%20%20%20%20%20%20%20var%20popup_2861a242c47f48289ddef17133860a2a%20%3D%20L.popup%28%7B%22maxWidth%22%3A%20%22100%25%22%7D%29%3B%0A%0A%20%20%20%20%20%20%20%20%0A%20%20%20%20%20%20%20%20%20%20%20%20var%20html_bd72a021fa14486f94b77f9520709b7c%20%3D%20%24%28%60%3Cdiv%20id%3D%22html_bd72a021fa14486f94b77f9520709b7c%22%20style%3D%22width%3A%20100.0%25%3B%20height%3A%20100.0%25%3B%22%3ECentral%20Harlem%2C%20Manhattan%3C/div%3E%60%29%5B0%5D%3B%0A%20%20%20%20%20%20%20%20%20%20%20%20popup_2861a242c47f48289ddef17133860a2a.setContent%28html_bd72a021fa14486f94b77f9520709b7c%29%3B%0A%20%20%20%20%20%20%20%20%0A%0A%20%20%20%20%20%20%20%20circle_marker_d0c8f7a9934340a0bb2d926dc8b5e44b.bindPopup%28popup_2861a242c47f48289ddef17133860a2a%29%0A%20%20%20%20%20%20%20%20%3B%0A%0A%20%20%20%20%20%20%20%20%0A%20%20%20%20%0A%20%20%20%20%0A%20%20%20%20%20%20%20%20%20%20%20%20var%20circle_marker_f79af7c97110493b950ae1252cbf14b1%20%3D%20L.circleMarker%28%0A%20%20%20%20%20%20%20%20%20%20%20%20%20%20%20%20%5B40.79224946663033%2C%20-73.94418223148524%5D%2C%0A%20%20%20%20%20%20%20%20%20%20%20%20%20%20%20%20%7B%22bubblingMouseEvents%22%3A%20true%2C%20%22color%22%3A%20%22blue%22%2C%20%22dashArray%22%3A%20null%2C%20%22dashOffset%22%3A%20null%2C%20%22fill%22%3A%20true%2C%20%22fillColor%22%3A%20%22%233186cc%22%2C%20%22fillOpacity%22%3A%200.7%2C%20%22fillRule%22%3A%20%22evenodd%22%2C%20%22lineCap%22%3A%20%22round%22%2C%20%22lineJoin%22%3A%20%22round%22%2C%20%22opacity%22%3A%201.0%2C%20%22radius%22%3A%205%2C%20%22stroke%22%3A%20true%2C%20%22weight%22%3A%203%7D%0A%20%20%20%20%20%20%20%20%20%20%20%20%29.addTo%28map_da402c8c143c4c8d8a2810a77806f651%29%3B%0A%20%20%20%20%20%20%20%20%0A%20%20%20%20%0A%20%20%20%20%20%20%20%20var%20popup_ef59afde9997443a97ba0ef21780417c%20%3D%20L.popup%28%7B%22maxWidth%22%3A%20%22100%25%22%7D%29%3B%0A%0A%20%20%20%20%20%20%20%20%0A%20%20%20%20%20%20%20%20%20%20%20%20var%20html_c353c24c0a20493e8224f0466db8a2a8%20%3D%20%24%28%60%3Cdiv%20id%3D%22html_c353c24c0a20493e8224f0466db8a2a8%22%20style%3D%22width%3A%20100.0%25%3B%20height%3A%20100.0%25%3B%22%3EEast%20Harlem%2C%20Manhattan%3C/div%3E%60%29%5B0%5D%3B%0A%20%20%20%20%20%20%20%20%20%20%20%20popup_ef59afde9997443a97ba0ef21780417c.setContent%28html_c353c24c0a20493e8224f0466db8a2a8%29%3B%0A%20%20%20%20%20%20%20%20%0A%0A%20%20%20%20%20%20%20%20circle_marker_f79af7c97110493b950ae1252cbf14b1.bindPopup%28popup_ef59afde9997443a97ba0ef21780417c%29%0A%20%20%20%20%20%20%20%20%3B%0A%0A%20%20%20%20%20%20%20%20%0A%20%20%20%20%0A%20%20%20%20%0A%20%20%20%20%20%20%20%20%20%20%20%20var%20circle_marker_ba996562e7da4befa73d008ac445d038%20%3D%20L.circleMarker%28%0A%20%20%20%20%20%20%20%20%20%20%20%20%20%20%20%20%5B40.775638573301805%2C%20-73.96050763135%5D%2C%0A%20%20%20%20%20%20%20%20%20%20%20%20%20%20%20%20%7B%22bubblingMouseEvents%22%3A%20true%2C%20%22color%22%3A%20%22blue%22%2C%20%22dashArray%22%3A%20null%2C%20%22dashOffset%22%3A%20null%2C%20%22fill%22%3A%20true%2C%20%22fillColor%22%3A%20%22%233186cc%22%2C%20%22fillOpacity%22%3A%200.7%2C%20%22fillRule%22%3A%20%22evenodd%22%2C%20%22lineCap%22%3A%20%22round%22%2C%20%22lineJoin%22%3A%20%22round%22%2C%20%22opacity%22%3A%201.0%2C%20%22radius%22%3A%205%2C%20%22stroke%22%3A%20true%2C%20%22weight%22%3A%203%7D%0A%20%20%20%20%20%20%20%20%20%20%20%20%29.addTo%28map_da402c8c143c4c8d8a2810a77806f651%29%3B%0A%20%20%20%20%20%20%20%20%0A%20%20%20%20%0A%20%20%20%20%20%20%20%20var%20popup_88992bf82b0f4d96b64b470f86890249%20%3D%20L.popup%28%7B%22maxWidth%22%3A%20%22100%25%22%7D%29%3B%0A%0A%20%20%20%20%20%20%20%20%0A%20%20%20%20%20%20%20%20%20%20%20%20var%20html_d4bb7c0b316b43ce9965259dd3f4bb60%20%3D%20%24%28%60%3Cdiv%20id%3D%22html_d4bb7c0b316b43ce9965259dd3f4bb60%22%20style%3D%22width%3A%20100.0%25%3B%20height%3A%20100.0%25%3B%22%3EUpper%20East%20Side%2C%20Manhattan%3C/div%3E%60%29%5B0%5D%3B%0A%20%20%20%20%20%20%20%20%20%20%20%20popup_88992bf82b0f4d96b64b470f86890249.setContent%28html_d4bb7c0b316b43ce9965259dd3f4bb60%29%3B%0A%20%20%20%20%20%20%20%20%0A%0A%20%20%20%20%20%20%20%20circle_marker_ba996562e7da4befa73d008ac445d038.bindPopup%28popup_88992bf82b0f4d96b64b470f86890249%29%0A%20%20%20%20%20%20%20%20%3B%0A%0A%20%20%20%20%20%20%20%20%0A%20%20%20%20%0A%20%20%20%20%0A%20%20%20%20%20%20%20%20%20%20%20%20var%20circle_marker_4f33d965968249dca3e59902ee20e9d7%20%3D%20L.circleMarker%28%0A%20%20%20%20%20%20%20%20%20%20%20%20%20%20%20%20%5B40.775929849884875%2C%20-73.94711784471826%5D%2C%0A%20%20%20%20%20%20%20%20%20%20%20%20%20%20%20%20%7B%22bubblingMouseEvents%22%3A%20true%2C%20%22color%22%3A%20%22blue%22%2C%20%22dashArray%22%3A%20null%2C%20%22dashOffset%22%3A%20null%2C%20%22fill%22%3A%20true%2C%20%22fillColor%22%3A%20%22%233186cc%22%2C%20%22fillOpacity%22%3A%200.7%2C%20%22fillRule%22%3A%20%22evenodd%22%2C%20%22lineCap%22%3A%20%22round%22%2C%20%22lineJoin%22%3A%20%22round%22%2C%20%22opacity%22%3A%201.0%2C%20%22radius%22%3A%205%2C%20%22stroke%22%3A%20true%2C%20%22weight%22%3A%203%7D%0A%20%20%20%20%20%20%20%20%20%20%20%20%29.addTo%28map_da402c8c143c4c8d8a2810a77806f651%29%3B%0A%20%20%20%20%20%20%20%20%0A%20%20%20%20%0A%20%20%20%20%20%20%20%20var%20popup_bf27ca15898344ba9199ab4e8b24a05a%20%3D%20L.popup%28%7B%22maxWidth%22%3A%20%22100%25%22%7D%29%3B%0A%0A%20%20%20%20%20%20%20%20%0A%20%20%20%20%20%20%20%20%20%20%20%20var%20html_8f5e4073d7164f2fb6f973d72ace0850%20%3D%20%24%28%60%3Cdiv%20id%3D%22html_8f5e4073d7164f2fb6f973d72ace0850%22%20style%3D%22width%3A%20100.0%25%3B%20height%3A%20100.0%25%3B%22%3EYorkville%2C%20Manhattan%3C/div%3E%60%29%5B0%5D%3B%0A%20%20%20%20%20%20%20%20%20%20%20%20popup_bf27ca15898344ba9199ab4e8b24a05a.setContent%28html_8f5e4073d7164f2fb6f973d72ace0850%29%3B%0A%20%20%20%20%20%20%20%20%0A%0A%20%20%20%20%20%20%20%20circle_marker_4f33d965968249dca3e59902ee20e9d7.bindPopup%28popup_bf27ca15898344ba9199ab4e8b24a05a%29%0A%20%20%20%20%20%20%20%20%3B%0A%0A%20%20%20%20%20%20%20%20%0A%20%20%20%20%0A%20%20%20%20%0A%20%20%20%20%20%20%20%20%20%20%20%20var%20circle_marker_2e6f67090f3e4b03a605f14713506fcc%20%3D%20L.circleMarker%28%0A%20%20%20%20%20%20%20%20%20%20%20%20%20%20%20%20%5B40.76811265828733%2C%20-73.9588596881376%5D%2C%0A%20%20%20%20%20%20%20%20%20%20%20%20%20%20%20%20%7B%22bubblingMouseEvents%22%3A%20true%2C%20%22color%22%3A%20%22blue%22%2C%20%22dashArray%22%3A%20null%2C%20%22dashOffset%22%3A%20null%2C%20%22fill%22%3A%20true%2C%20%22fillColor%22%3A%20%22%233186cc%22%2C%20%22fillOpacity%22%3A%200.7%2C%20%22fillRule%22%3A%20%22evenodd%22%2C%20%22lineCap%22%3A%20%22round%22%2C%20%22lineJoin%22%3A%20%22round%22%2C%20%22opacity%22%3A%201.0%2C%20%22radius%22%3A%205%2C%20%22stroke%22%3A%20true%2C%20%22weight%22%3A%203%7D%0A%20%20%20%20%20%20%20%20%20%20%20%20%29.addTo%28map_da402c8c143c4c8d8a2810a77806f651%29%3B%0A%20%20%20%20%20%20%20%20%0A%20%20%20%20%0A%20%20%20%20%20%20%20%20var%20popup_1362d1b179264980ab62a6b9fd63b391%20%3D%20L.popup%28%7B%22maxWidth%22%3A%20%22100%25%22%7D%29%3B%0A%0A%20%20%20%20%20%20%20%20%0A%20%20%20%20%20%20%20%20%20%20%20%20var%20html_db7c61ba90324282bace514bf51c2883%20%3D%20%24%28%60%3Cdiv%20id%3D%22html_db7c61ba90324282bace514bf51c2883%22%20style%3D%22width%3A%20100.0%25%3B%20height%3A%20100.0%25%3B%22%3ELenox%20Hill%2C%20Manhattan%3C/div%3E%60%29%5B0%5D%3B%0A%20%20%20%20%20%20%20%20%20%20%20%20popup_1362d1b179264980ab62a6b9fd63b391.setContent%28html_db7c61ba90324282bace514bf51c2883%29%3B%0A%20%20%20%20%20%20%20%20%0A%0A%20%20%20%20%20%20%20%20circle_marker_2e6f67090f3e4b03a605f14713506fcc.bindPopup%28popup_1362d1b179264980ab62a6b9fd63b391%29%0A%20%20%20%20%20%20%20%20%3B%0A%0A%20%20%20%20%20%20%20%20%0A%20%20%20%20%0A%20%20%20%20%0A%20%20%20%20%20%20%20%20%20%20%20%20var%20circle_marker_cd0db225e2354b1a8d4a68151c609e84%20%3D%20L.circleMarker%28%0A%20%20%20%20%20%20%20%20%20%20%20%20%20%20%20%20%5B40.76215960576283%2C%20-73.94916769227953%5D%2C%0A%20%20%20%20%20%20%20%20%20%20%20%20%20%20%20%20%7B%22bubblingMouseEvents%22%3A%20true%2C%20%22color%22%3A%20%22blue%22%2C%20%22dashArray%22%3A%20null%2C%20%22dashOffset%22%3A%20null%2C%20%22fill%22%3A%20true%2C%20%22fillColor%22%3A%20%22%233186cc%22%2C%20%22fillOpacity%22%3A%200.7%2C%20%22fillRule%22%3A%20%22evenodd%22%2C%20%22lineCap%22%3A%20%22round%22%2C%20%22lineJoin%22%3A%20%22round%22%2C%20%22opacity%22%3A%201.0%2C%20%22radius%22%3A%205%2C%20%22stroke%22%3A%20true%2C%20%22weight%22%3A%203%7D%0A%20%20%20%20%20%20%20%20%20%20%20%20%29.addTo%28map_da402c8c143c4c8d8a2810a77806f651%29%3B%0A%20%20%20%20%20%20%20%20%0A%20%20%20%20%0A%20%20%20%20%20%20%20%20var%20popup_05892b379cf044ca819738f22c5d6272%20%3D%20L.popup%28%7B%22maxWidth%22%3A%20%22100%25%22%7D%29%3B%0A%0A%20%20%20%20%20%20%20%20%0A%20%20%20%20%20%20%20%20%20%20%20%20var%20html_743b11583f96466bad3e914bf0dc8403%20%3D%20%24%28%60%3Cdiv%20id%3D%22html_743b11583f96466bad3e914bf0dc8403%22%20style%3D%22width%3A%20100.0%25%3B%20height%3A%20100.0%25%3B%22%3ERoosevelt%20Island%2C%20Manhattan%3C/div%3E%60%29%5B0%5D%3B%0A%20%20%20%20%20%20%20%20%20%20%20%20popup_05892b379cf044ca819738f22c5d6272.setContent%28html_743b11583f96466bad3e914bf0dc8403%29%3B%0A%20%20%20%20%20%20%20%20%0A%0A%20%20%20%20%20%20%20%20circle_marker_cd0db225e2354b1a8d4a68151c609e84.bindPopup%28popup_05892b379cf044ca819738f22c5d6272%29%0A%20%20%20%20%20%20%20%20%3B%0A%0A%20%20%20%20%20%20%20%20%0A%20%20%20%20%0A%20%20%20%20%0A%20%20%20%20%20%20%20%20%20%20%20%20var%20circle_marker_49c3b1fe26574368b5a3ba05a5badc09%20%3D%20L.circleMarker%28%0A%20%20%20%20%20%20%20%20%20%20%20%20%20%20%20%20%5B40.787657998534854%2C%20-73.97705923630603%5D%2C%0A%20%20%20%20%20%20%20%20%20%20%20%20%20%20%20%20%7B%22bubblingMouseEvents%22%3A%20true%2C%20%22color%22%3A%20%22blue%22%2C%20%22dashArray%22%3A%20null%2C%20%22dashOffset%22%3A%20null%2C%20%22fill%22%3A%20true%2C%20%22fillColor%22%3A%20%22%233186cc%22%2C%20%22fillOpacity%22%3A%200.7%2C%20%22fillRule%22%3A%20%22evenodd%22%2C%20%22lineCap%22%3A%20%22round%22%2C%20%22lineJoin%22%3A%20%22round%22%2C%20%22opacity%22%3A%201.0%2C%20%22radius%22%3A%205%2C%20%22stroke%22%3A%20true%2C%20%22weight%22%3A%203%7D%0A%20%20%20%20%20%20%20%20%20%20%20%20%29.addTo%28map_da402c8c143c4c8d8a2810a77806f651%29%3B%0A%20%20%20%20%20%20%20%20%0A%20%20%20%20%0A%20%20%20%20%20%20%20%20var%20popup_472d7a45d0b24077a57992d7e0bfa950%20%3D%20L.popup%28%7B%22maxWidth%22%3A%20%22100%25%22%7D%29%3B%0A%0A%20%20%20%20%20%20%20%20%0A%20%20%20%20%20%20%20%20%20%20%20%20var%20html_cdcc3126abb0477fa16599ac66fbc52a%20%3D%20%24%28%60%3Cdiv%20id%3D%22html_cdcc3126abb0477fa16599ac66fbc52a%22%20style%3D%22width%3A%20100.0%25%3B%20height%3A%20100.0%25%3B%22%3EUpper%20West%20Side%2C%20Manhattan%3C/div%3E%60%29%5B0%5D%3B%0A%20%20%20%20%20%20%20%20%20%20%20%20popup_472d7a45d0b24077a57992d7e0bfa950.setContent%28html_cdcc3126abb0477fa16599ac66fbc52a%29%3B%0A%20%20%20%20%20%20%20%20%0A%0A%20%20%20%20%20%20%20%20circle_marker_49c3b1fe26574368b5a3ba05a5badc09.bindPopup%28popup_472d7a45d0b24077a57992d7e0bfa950%29%0A%20%20%20%20%20%20%20%20%3B%0A%0A%20%20%20%20%20%20%20%20%0A%20%20%20%20%0A%20%20%20%20%0A%20%20%20%20%20%20%20%20%20%20%20%20var%20circle_marker_6b25443209c4461baeb03d3d247c00ab%20%3D%20L.circleMarker%28%0A%20%20%20%20%20%20%20%20%20%20%20%20%20%20%20%20%5B40.77352888942166%2C%20-73.98533777001262%5D%2C%0A%20%20%20%20%20%20%20%20%20%20%20%20%20%20%20%20%7B%22bubblingMouseEvents%22%3A%20true%2C%20%22color%22%3A%20%22blue%22%2C%20%22dashArray%22%3A%20null%2C%20%22dashOffset%22%3A%20null%2C%20%22fill%22%3A%20true%2C%20%22fillColor%22%3A%20%22%233186cc%22%2C%20%22fillOpacity%22%3A%200.7%2C%20%22fillRule%22%3A%20%22evenodd%22%2C%20%22lineCap%22%3A%20%22round%22%2C%20%22lineJoin%22%3A%20%22round%22%2C%20%22opacity%22%3A%201.0%2C%20%22radius%22%3A%205%2C%20%22stroke%22%3A%20true%2C%20%22weight%22%3A%203%7D%0A%20%20%20%20%20%20%20%20%20%20%20%20%29.addTo%28map_da402c8c143c4c8d8a2810a77806f651%29%3B%0A%20%20%20%20%20%20%20%20%0A%20%20%20%20%0A%20%20%20%20%20%20%20%20var%20popup_31760f062574465caa14196ffcd5abbe%20%3D%20L.popup%28%7B%22maxWidth%22%3A%20%22100%25%22%7D%29%3B%0A%0A%20%20%20%20%20%20%20%20%0A%20%20%20%20%20%20%20%20%20%20%20%20var%20html_a4392120d88a4a90877d9e5076325275%20%3D%20%24%28%60%3Cdiv%20id%3D%22html_a4392120d88a4a90877d9e5076325275%22%20style%3D%22width%3A%20100.0%25%3B%20height%3A%20100.0%25%3B%22%3ELincoln%20Square%2C%20Manhattan%3C/div%3E%60%29%5B0%5D%3B%0A%20%20%20%20%20%20%20%20%20%20%20%20popup_31760f062574465caa14196ffcd5abbe.setContent%28html_a4392120d88a4a90877d9e5076325275%29%3B%0A%20%20%20%20%20%20%20%20%0A%0A%20%20%20%20%20%20%20%20circle_marker_6b25443209c4461baeb03d3d247c00ab.bindPopup%28popup_31760f062574465caa14196ffcd5abbe%29%0A%20%20%20%20%20%20%20%20%3B%0A%0A%20%20%20%20%20%20%20%20%0A%20%20%20%20%0A%20%20%20%20%0A%20%20%20%20%20%20%20%20%20%20%20%20var%20circle_marker_d4886f85dd9349d79a11ca8b217665d0%20%3D%20L.circleMarker%28%0A%20%20%20%20%20%20%20%20%20%20%20%20%20%20%20%20%5B40.75910089146212%2C%20-73.99611936309479%5D%2C%0A%20%20%20%20%20%20%20%20%20%20%20%20%20%20%20%20%7B%22bubblingMouseEvents%22%3A%20true%2C%20%22color%22%3A%20%22blue%22%2C%20%22dashArray%22%3A%20null%2C%20%22dashOffset%22%3A%20null%2C%20%22fill%22%3A%20true%2C%20%22fillColor%22%3A%20%22%233186cc%22%2C%20%22fillOpacity%22%3A%200.7%2C%20%22fillRule%22%3A%20%22evenodd%22%2C%20%22lineCap%22%3A%20%22round%22%2C%20%22lineJoin%22%3A%20%22round%22%2C%20%22opacity%22%3A%201.0%2C%20%22radius%22%3A%205%2C%20%22stroke%22%3A%20true%2C%20%22weight%22%3A%203%7D%0A%20%20%20%20%20%20%20%20%20%20%20%20%29.addTo%28map_da402c8c143c4c8d8a2810a77806f651%29%3B%0A%20%20%20%20%20%20%20%20%0A%20%20%20%20%0A%20%20%20%20%20%20%20%20var%20popup_4fb791ad6daf43bc864fdae6526dd18c%20%3D%20L.popup%28%7B%22maxWidth%22%3A%20%22100%25%22%7D%29%3B%0A%0A%20%20%20%20%20%20%20%20%0A%20%20%20%20%20%20%20%20%20%20%20%20var%20html_81dafe95c4aa4f9e827e4c7035f48f81%20%3D%20%24%28%60%3Cdiv%20id%3D%22html_81dafe95c4aa4f9e827e4c7035f48f81%22%20style%3D%22width%3A%20100.0%25%3B%20height%3A%20100.0%25%3B%22%3EClinton%2C%20Manhattan%3C/div%3E%60%29%5B0%5D%3B%0A%20%20%20%20%20%20%20%20%20%20%20%20popup_4fb791ad6daf43bc864fdae6526dd18c.setContent%28html_81dafe95c4aa4f9e827e4c7035f48f81%29%3B%0A%20%20%20%20%20%20%20%20%0A%0A%20%20%20%20%20%20%20%20circle_marker_d4886f85dd9349d79a11ca8b217665d0.bindPopup%28popup_4fb791ad6daf43bc864fdae6526dd18c%29%0A%20%20%20%20%20%20%20%20%3B%0A%0A%20%20%20%20%20%20%20%20%0A%20%20%20%20%0A%20%20%20%20%0A%20%20%20%20%20%20%20%20%20%20%20%20var%20circle_marker_6224df3cc80a45d382854abbab5dff0e%20%3D%20L.circleMarker%28%0A%20%20%20%20%20%20%20%20%20%20%20%20%20%20%20%20%5B40.75469110270623%2C%20-73.98166882730304%5D%2C%0A%20%20%20%20%20%20%20%20%20%20%20%20%20%20%20%20%7B%22bubblingMouseEvents%22%3A%20true%2C%20%22color%22%3A%20%22blue%22%2C%20%22dashArray%22%3A%20null%2C%20%22dashOffset%22%3A%20null%2C%20%22fill%22%3A%20true%2C%20%22fillColor%22%3A%20%22%233186cc%22%2C%20%22fillOpacity%22%3A%200.7%2C%20%22fillRule%22%3A%20%22evenodd%22%2C%20%22lineCap%22%3A%20%22round%22%2C%20%22lineJoin%22%3A%20%22round%22%2C%20%22opacity%22%3A%201.0%2C%20%22radius%22%3A%205%2C%20%22stroke%22%3A%20true%2C%20%22weight%22%3A%203%7D%0A%20%20%20%20%20%20%20%20%20%20%20%20%29.addTo%28map_da402c8c143c4c8d8a2810a77806f651%29%3B%0A%20%20%20%20%20%20%20%20%0A%20%20%20%20%0A%20%20%20%20%20%20%20%20var%20popup_31408cdf595f4673a69919e6b8c89d05%20%3D%20L.popup%28%7B%22maxWidth%22%3A%20%22100%25%22%7D%29%3B%0A%0A%20%20%20%20%20%20%20%20%0A%20%20%20%20%20%20%20%20%20%20%20%20var%20html_797f1b321b9f45698b475bc3a7ac1be5%20%3D%20%24%28%60%3Cdiv%20id%3D%22html_797f1b321b9f45698b475bc3a7ac1be5%22%20style%3D%22width%3A%20100.0%25%3B%20height%3A%20100.0%25%3B%22%3EMidtown%2C%20Manhattan%3C/div%3E%60%29%5B0%5D%3B%0A%20%20%20%20%20%20%20%20%20%20%20%20popup_31408cdf595f4673a69919e6b8c89d05.setContent%28html_797f1b321b9f45698b475bc3a7ac1be5%29%3B%0A%20%20%20%20%20%20%20%20%0A%0A%20%20%20%20%20%20%20%20circle_marker_6224df3cc80a45d382854abbab5dff0e.bindPopup%28popup_31408cdf595f4673a69919e6b8c89d05%29%0A%20%20%20%20%20%20%20%20%3B%0A%0A%20%20%20%20%20%20%20%20%0A%20%20%20%20%0A%20%20%20%20%0A%20%20%20%20%20%20%20%20%20%20%20%20var%20circle_marker_ccf11d7a34ac48a4b5eb8469dabc05c4%20%3D%20L.circleMarker%28%0A%20%20%20%20%20%20%20%20%20%20%20%20%20%20%20%20%5B40.748303077252174%2C%20-73.97833207924127%5D%2C%0A%20%20%20%20%20%20%20%20%20%20%20%20%20%20%20%20%7B%22bubblingMouseEvents%22%3A%20true%2C%20%22color%22%3A%20%22blue%22%2C%20%22dashArray%22%3A%20null%2C%20%22dashOffset%22%3A%20null%2C%20%22fill%22%3A%20true%2C%20%22fillColor%22%3A%20%22%233186cc%22%2C%20%22fillOpacity%22%3A%200.7%2C%20%22fillRule%22%3A%20%22evenodd%22%2C%20%22lineCap%22%3A%20%22round%22%2C%20%22lineJoin%22%3A%20%22round%22%2C%20%22opacity%22%3A%201.0%2C%20%22radius%22%3A%205%2C%20%22stroke%22%3A%20true%2C%20%22weight%22%3A%203%7D%0A%20%20%20%20%20%20%20%20%20%20%20%20%29.addTo%28map_da402c8c143c4c8d8a2810a77806f651%29%3B%0A%20%20%20%20%20%20%20%20%0A%20%20%20%20%0A%20%20%20%20%20%20%20%20var%20popup_30d1fa19e5c6462cbc86843b28d3651c%20%3D%20L.popup%28%7B%22maxWidth%22%3A%20%22100%25%22%7D%29%3B%0A%0A%20%20%20%20%20%20%20%20%0A%20%20%20%20%20%20%20%20%20%20%20%20var%20html_397d16fdb7ce4984beb49015d01bdd85%20%3D%20%24%28%60%3Cdiv%20id%3D%22html_397d16fdb7ce4984beb49015d01bdd85%22%20style%3D%22width%3A%20100.0%25%3B%20height%3A%20100.0%25%3B%22%3EMurray%20Hill%2C%20Manhattan%3C/div%3E%60%29%5B0%5D%3B%0A%20%20%20%20%20%20%20%20%20%20%20%20popup_30d1fa19e5c6462cbc86843b28d3651c.setContent%28html_397d16fdb7ce4984beb49015d01bdd85%29%3B%0A%20%20%20%20%20%20%20%20%0A%0A%20%20%20%20%20%20%20%20circle_marker_ccf11d7a34ac48a4b5eb8469dabc05c4.bindPopup%28popup_30d1fa19e5c6462cbc86843b28d3651c%29%0A%20%20%20%20%20%20%20%20%3B%0A%0A%20%20%20%20%20%20%20%20%0A%20%20%20%20%0A%20%20%20%20%0A%20%20%20%20%20%20%20%20%20%20%20%20var%20circle_marker_d76d9a4a5242420fa49f6798a838277d%20%3D%20L.circleMarker%28%0A%20%20%20%20%20%20%20%20%20%20%20%20%20%20%20%20%5B40.744034706747975%2C%20-74.00311633472813%5D%2C%0A%20%20%20%20%20%20%20%20%20%20%20%20%20%20%20%20%7B%22bubblingMouseEvents%22%3A%20true%2C%20%22color%22%3A%20%22blue%22%2C%20%22dashArray%22%3A%20null%2C%20%22dashOffset%22%3A%20null%2C%20%22fill%22%3A%20true%2C%20%22fillColor%22%3A%20%22%233186cc%22%2C%20%22fillOpacity%22%3A%200.7%2C%20%22fillRule%22%3A%20%22evenodd%22%2C%20%22lineCap%22%3A%20%22round%22%2C%20%22lineJoin%22%3A%20%22round%22%2C%20%22opacity%22%3A%201.0%2C%20%22radius%22%3A%205%2C%20%22stroke%22%3A%20true%2C%20%22weight%22%3A%203%7D%0A%20%20%20%20%20%20%20%20%20%20%20%20%29.addTo%28map_da402c8c143c4c8d8a2810a77806f651%29%3B%0A%20%20%20%20%20%20%20%20%0A%20%20%20%20%0A%20%20%20%20%20%20%20%20var%20popup_5231005c28334cfcb11cd2d06be10306%20%3D%20L.popup%28%7B%22maxWidth%22%3A%20%22100%25%22%7D%29%3B%0A%0A%20%20%20%20%20%20%20%20%0A%20%20%20%20%20%20%20%20%20%20%20%20var%20html_d111a733a2a4455792153dc0032f7e7d%20%3D%20%24%28%60%3Cdiv%20id%3D%22html_d111a733a2a4455792153dc0032f7e7d%22%20style%3D%22width%3A%20100.0%25%3B%20height%3A%20100.0%25%3B%22%3EChelsea%2C%20Manhattan%3C/div%3E%60%29%5B0%5D%3B%0A%20%20%20%20%20%20%20%20%20%20%20%20popup_5231005c28334cfcb11cd2d06be10306.setContent%28html_d111a733a2a4455792153dc0032f7e7d%29%3B%0A%20%20%20%20%20%20%20%20%0A%0A%20%20%20%20%20%20%20%20circle_marker_d76d9a4a5242420fa49f6798a838277d.bindPopup%28popup_5231005c28334cfcb11cd2d06be10306%29%0A%20%20%20%20%20%20%20%20%3B%0A%0A%20%20%20%20%20%20%20%20%0A%20%20%20%20%0A%20%20%20%20%0A%20%20%20%20%20%20%20%20%20%20%20%20var%20circle_marker_c0c1beaa47664d5288439b8bc8900bc2%20%3D%20L.circleMarker%28%0A%20%20%20%20%20%20%20%20%20%20%20%20%20%20%20%20%5B40.72693288536128%2C%20-73.99991402945902%5D%2C%0A%20%20%20%20%20%20%20%20%20%20%20%20%20%20%20%20%7B%22bubblingMouseEvents%22%3A%20true%2C%20%22color%22%3A%20%22blue%22%2C%20%22dashArray%22%3A%20null%2C%20%22dashOffset%22%3A%20null%2C%20%22fill%22%3A%20true%2C%20%22fillColor%22%3A%20%22%233186cc%22%2C%20%22fillOpacity%22%3A%200.7%2C%20%22fillRule%22%3A%20%22evenodd%22%2C%20%22lineCap%22%3A%20%22round%22%2C%20%22lineJoin%22%3A%20%22round%22%2C%20%22opacity%22%3A%201.0%2C%20%22radius%22%3A%205%2C%20%22stroke%22%3A%20true%2C%20%22weight%22%3A%203%7D%0A%20%20%20%20%20%20%20%20%20%20%20%20%29.addTo%28map_da402c8c143c4c8d8a2810a77806f651%29%3B%0A%20%20%20%20%20%20%20%20%0A%20%20%20%20%0A%20%20%20%20%20%20%20%20var%20popup_96fac6d3cb5a4491861330ab5c43311e%20%3D%20L.popup%28%7B%22maxWidth%22%3A%20%22100%25%22%7D%29%3B%0A%0A%20%20%20%20%20%20%20%20%0A%20%20%20%20%20%20%20%20%20%20%20%20var%20html_d98308c482f441c4bdccb8d0c020e45b%20%3D%20%24%28%60%3Cdiv%20id%3D%22html_d98308c482f441c4bdccb8d0c020e45b%22%20style%3D%22width%3A%20100.0%25%3B%20height%3A%20100.0%25%3B%22%3EGreenwich%20Village%2C%20Manhattan%3C/div%3E%60%29%5B0%5D%3B%0A%20%20%20%20%20%20%20%20%20%20%20%20popup_96fac6d3cb5a4491861330ab5c43311e.setContent%28html_d98308c482f441c4bdccb8d0c020e45b%29%3B%0A%20%20%20%20%20%20%20%20%0A%0A%20%20%20%20%20%20%20%20circle_marker_c0c1beaa47664d5288439b8bc8900bc2.bindPopup%28popup_96fac6d3cb5a4491861330ab5c43311e%29%0A%20%20%20%20%20%20%20%20%3B%0A%0A%20%20%20%20%20%20%20%20%0A%20%20%20%20%0A%20%20%20%20%0A%20%20%20%20%20%20%20%20%20%20%20%20var%20circle_marker_92049e05cbc0417ab2507e1284d59341%20%3D%20L.circleMarker%28%0A%20%20%20%20%20%20%20%20%20%20%20%20%20%20%20%20%5B40.727846777270244%2C%20-73.98222616506416%5D%2C%0A%20%20%20%20%20%20%20%20%20%20%20%20%20%20%20%20%7B%22bubblingMouseEvents%22%3A%20true%2C%20%22color%22%3A%20%22blue%22%2C%20%22dashArray%22%3A%20null%2C%20%22dashOffset%22%3A%20null%2C%20%22fill%22%3A%20true%2C%20%22fillColor%22%3A%20%22%233186cc%22%2C%20%22fillOpacity%22%3A%200.7%2C%20%22fillRule%22%3A%20%22evenodd%22%2C%20%22lineCap%22%3A%20%22round%22%2C%20%22lineJoin%22%3A%20%22round%22%2C%20%22opacity%22%3A%201.0%2C%20%22radius%22%3A%205%2C%20%22stroke%22%3A%20true%2C%20%22weight%22%3A%203%7D%0A%20%20%20%20%20%20%20%20%20%20%20%20%29.addTo%28map_da402c8c143c4c8d8a2810a77806f651%29%3B%0A%20%20%20%20%20%20%20%20%0A%20%20%20%20%0A%20%20%20%20%20%20%20%20var%20popup_8a01b982356c43e09ff2caeb6ad11c47%20%3D%20L.popup%28%7B%22maxWidth%22%3A%20%22100%25%22%7D%29%3B%0A%0A%20%20%20%20%20%20%20%20%0A%20%20%20%20%20%20%20%20%20%20%20%20var%20html_3fa8bc2811fe48aeacb6eebd0f340eef%20%3D%20%24%28%60%3Cdiv%20id%3D%22html_3fa8bc2811fe48aeacb6eebd0f340eef%22%20style%3D%22width%3A%20100.0%25%3B%20height%3A%20100.0%25%3B%22%3EEast%20Village%2C%20Manhattan%3C/div%3E%60%29%5B0%5D%3B%0A%20%20%20%20%20%20%20%20%20%20%20%20popup_8a01b982356c43e09ff2caeb6ad11c47.setContent%28html_3fa8bc2811fe48aeacb6eebd0f340eef%29%3B%0A%20%20%20%20%20%20%20%20%0A%0A%20%20%20%20%20%20%20%20circle_marker_92049e05cbc0417ab2507e1284d59341.bindPopup%28popup_8a01b982356c43e09ff2caeb6ad11c47%29%0A%20%20%20%20%20%20%20%20%3B%0A%0A%20%20%20%20%20%20%20%20%0A%20%20%20%20%0A%20%20%20%20%0A%20%20%20%20%20%20%20%20%20%20%20%20var%20circle_marker_4fbbadcb76c247349094d6e268c6f90d%20%3D%20L.circleMarker%28%0A%20%20%20%20%20%20%20%20%20%20%20%20%20%20%20%20%5B40.71780674892765%2C%20-73.98089031999291%5D%2C%0A%20%20%20%20%20%20%20%20%20%20%20%20%20%20%20%20%7B%22bubblingMouseEvents%22%3A%20true%2C%20%22color%22%3A%20%22blue%22%2C%20%22dashArray%22%3A%20null%2C%20%22dashOffset%22%3A%20null%2C%20%22fill%22%3A%20true%2C%20%22fillColor%22%3A%20%22%233186cc%22%2C%20%22fillOpacity%22%3A%200.7%2C%20%22fillRule%22%3A%20%22evenodd%22%2C%20%22lineCap%22%3A%20%22round%22%2C%20%22lineJoin%22%3A%20%22round%22%2C%20%22opacity%22%3A%201.0%2C%20%22radius%22%3A%205%2C%20%22stroke%22%3A%20true%2C%20%22weight%22%3A%203%7D%0A%20%20%20%20%20%20%20%20%20%20%20%20%29.addTo%28map_da402c8c143c4c8d8a2810a77806f651%29%3B%0A%20%20%20%20%20%20%20%20%0A%20%20%20%20%0A%20%20%20%20%20%20%20%20var%20popup_6e45923d66bc401c85d9646daee22ccf%20%3D%20L.popup%28%7B%22maxWidth%22%3A%20%22100%25%22%7D%29%3B%0A%0A%20%20%20%20%20%20%20%20%0A%20%20%20%20%20%20%20%20%20%20%20%20var%20html_711c6f5dfaea4b1bae5f63467061832b%20%3D%20%24%28%60%3Cdiv%20id%3D%22html_711c6f5dfaea4b1bae5f63467061832b%22%20style%3D%22width%3A%20100.0%25%3B%20height%3A%20100.0%25%3B%22%3ELower%20East%20Side%2C%20Manhattan%3C/div%3E%60%29%5B0%5D%3B%0A%20%20%20%20%20%20%20%20%20%20%20%20popup_6e45923d66bc401c85d9646daee22ccf.setContent%28html_711c6f5dfaea4b1bae5f63467061832b%29%3B%0A%20%20%20%20%20%20%20%20%0A%0A%20%20%20%20%20%20%20%20circle_marker_4fbbadcb76c247349094d6e268c6f90d.bindPopup%28popup_6e45923d66bc401c85d9646daee22ccf%29%0A%20%20%20%20%20%20%20%20%3B%0A%0A%20%20%20%20%20%20%20%20%0A%20%20%20%20%0A%20%20%20%20%0A%20%20%20%20%20%20%20%20%20%20%20%20var%20circle_marker_3369e83e9ddd4d4883b4d120b13efa3b%20%3D%20L.circleMarker%28%0A%20%20%20%20%20%20%20%20%20%20%20%20%20%20%20%20%5B40.721521967443216%2C%20-74.01068328559087%5D%2C%0A%20%20%20%20%20%20%20%20%20%20%20%20%20%20%20%20%7B%22bubblingMouseEvents%22%3A%20true%2C%20%22color%22%3A%20%22blue%22%2C%20%22dashArray%22%3A%20null%2C%20%22dashOffset%22%3A%20null%2C%20%22fill%22%3A%20true%2C%20%22fillColor%22%3A%20%22%233186cc%22%2C%20%22fillOpacity%22%3A%200.7%2C%20%22fillRule%22%3A%20%22evenodd%22%2C%20%22lineCap%22%3A%20%22round%22%2C%20%22lineJoin%22%3A%20%22round%22%2C%20%22opacity%22%3A%201.0%2C%20%22radius%22%3A%205%2C%20%22stroke%22%3A%20true%2C%20%22weight%22%3A%203%7D%0A%20%20%20%20%20%20%20%20%20%20%20%20%29.addTo%28map_da402c8c143c4c8d8a2810a77806f651%29%3B%0A%20%20%20%20%20%20%20%20%0A%20%20%20%20%0A%20%20%20%20%20%20%20%20var%20popup_d3247a9caef64854b227890389ea08d7%20%3D%20L.popup%28%7B%22maxWidth%22%3A%20%22100%25%22%7D%29%3B%0A%0A%20%20%20%20%20%20%20%20%0A%20%20%20%20%20%20%20%20%20%20%20%20var%20html_6c66680240524a5a95d288a01b0a8777%20%3D%20%24%28%60%3Cdiv%20id%3D%22html_6c66680240524a5a95d288a01b0a8777%22%20style%3D%22width%3A%20100.0%25%3B%20height%3A%20100.0%25%3B%22%3ETribeca%2C%20Manhattan%3C/div%3E%60%29%5B0%5D%3B%0A%20%20%20%20%20%20%20%20%20%20%20%20popup_d3247a9caef64854b227890389ea08d7.setContent%28html_6c66680240524a5a95d288a01b0a8777%29%3B%0A%20%20%20%20%20%20%20%20%0A%0A%20%20%20%20%20%20%20%20circle_marker_3369e83e9ddd4d4883b4d120b13efa3b.bindPopup%28popup_d3247a9caef64854b227890389ea08d7%29%0A%20%20%20%20%20%20%20%20%3B%0A%0A%20%20%20%20%20%20%20%20%0A%20%20%20%20%0A%20%20%20%20%0A%20%20%20%20%20%20%20%20%20%20%20%20var%20circle_marker_2dc595a131914c7a86799b6779ade37b%20%3D%20L.circleMarker%28%0A%20%20%20%20%20%20%20%20%20%20%20%20%20%20%20%20%5B40.71932379395907%2C%20-73.99730467208073%5D%2C%0A%20%20%20%20%20%20%20%20%20%20%20%20%20%20%20%20%7B%22bubblingMouseEvents%22%3A%20true%2C%20%22color%22%3A%20%22blue%22%2C%20%22dashArray%22%3A%20null%2C%20%22dashOffset%22%3A%20null%2C%20%22fill%22%3A%20true%2C%20%22fillColor%22%3A%20%22%233186cc%22%2C%20%22fillOpacity%22%3A%200.7%2C%20%22fillRule%22%3A%20%22evenodd%22%2C%20%22lineCap%22%3A%20%22round%22%2C%20%22lineJoin%22%3A%20%22round%22%2C%20%22opacity%22%3A%201.0%2C%20%22radius%22%3A%205%2C%20%22stroke%22%3A%20true%2C%20%22weight%22%3A%203%7D%0A%20%20%20%20%20%20%20%20%20%20%20%20%29.addTo%28map_da402c8c143c4c8d8a2810a77806f651%29%3B%0A%20%20%20%20%20%20%20%20%0A%20%20%20%20%0A%20%20%20%20%20%20%20%20var%20popup_17164178f750471dbc4655294d824ce9%20%3D%20L.popup%28%7B%22maxWidth%22%3A%20%22100%25%22%7D%29%3B%0A%0A%20%20%20%20%20%20%20%20%0A%20%20%20%20%20%20%20%20%20%20%20%20var%20html_78c3936f4a6d4e40ac9d6b24732cb303%20%3D%20%24%28%60%3Cdiv%20id%3D%22html_78c3936f4a6d4e40ac9d6b24732cb303%22%20style%3D%22width%3A%20100.0%25%3B%20height%3A%20100.0%25%3B%22%3ELittle%20Italy%2C%20Manhattan%3C/div%3E%60%29%5B0%5D%3B%0A%20%20%20%20%20%20%20%20%20%20%20%20popup_17164178f750471dbc4655294d824ce9.setContent%28html_78c3936f4a6d4e40ac9d6b24732cb303%29%3B%0A%20%20%20%20%20%20%20%20%0A%0A%20%20%20%20%20%20%20%20circle_marker_2dc595a131914c7a86799b6779ade37b.bindPopup%28popup_17164178f750471dbc4655294d824ce9%29%0A%20%20%20%20%20%20%20%20%3B%0A%0A%20%20%20%20%20%20%20%20%0A%20%20%20%20%0A%20%20%20%20%0A%20%20%20%20%20%20%20%20%20%20%20%20var%20circle_marker_16e006c585764008aaaa532fc1f4b524%20%3D%20L.circleMarker%28%0A%20%20%20%20%20%20%20%20%20%20%20%20%20%20%20%20%5B40.72218384131794%2C%20-74.00065666959759%5D%2C%0A%20%20%20%20%20%20%20%20%20%20%20%20%20%20%20%20%7B%22bubblingMouseEvents%22%3A%20true%2C%20%22color%22%3A%20%22blue%22%2C%20%22dashArray%22%3A%20null%2C%20%22dashOffset%22%3A%20null%2C%20%22fill%22%3A%20true%2C%20%22fillColor%22%3A%20%22%233186cc%22%2C%20%22fillOpacity%22%3A%200.7%2C%20%22fillRule%22%3A%20%22evenodd%22%2C%20%22lineCap%22%3A%20%22round%22%2C%20%22lineJoin%22%3A%20%22round%22%2C%20%22opacity%22%3A%201.0%2C%20%22radius%22%3A%205%2C%20%22stroke%22%3A%20true%2C%20%22weight%22%3A%203%7D%0A%20%20%20%20%20%20%20%20%20%20%20%20%29.addTo%28map_da402c8c143c4c8d8a2810a77806f651%29%3B%0A%20%20%20%20%20%20%20%20%0A%20%20%20%20%0A%20%20%20%20%20%20%20%20var%20popup_87db5764eee848f286a071b2ab9db16d%20%3D%20L.popup%28%7B%22maxWidth%22%3A%20%22100%25%22%7D%29%3B%0A%0A%20%20%20%20%20%20%20%20%0A%20%20%20%20%20%20%20%20%20%20%20%20var%20html_7b7939d06d63471aaa8924cd3646643c%20%3D%20%24%28%60%3Cdiv%20id%3D%22html_7b7939d06d63471aaa8924cd3646643c%22%20style%3D%22width%3A%20100.0%25%3B%20height%3A%20100.0%25%3B%22%3ESoho%2C%20Manhattan%3C/div%3E%60%29%5B0%5D%3B%0A%20%20%20%20%20%20%20%20%20%20%20%20popup_87db5764eee848f286a071b2ab9db16d.setContent%28html_7b7939d06d63471aaa8924cd3646643c%29%3B%0A%20%20%20%20%20%20%20%20%0A%0A%20%20%20%20%20%20%20%20circle_marker_16e006c585764008aaaa532fc1f4b524.bindPopup%28popup_87db5764eee848f286a071b2ab9db16d%29%0A%20%20%20%20%20%20%20%20%3B%0A%0A%20%20%20%20%20%20%20%20%0A%20%20%20%20%0A%20%20%20%20%0A%20%20%20%20%20%20%20%20%20%20%20%20var%20circle_marker_6aea16ce877d4adea9659a6e96c81ddc%20%3D%20L.circleMarker%28%0A%20%20%20%20%20%20%20%20%20%20%20%20%20%20%20%20%5B40.73443393572434%2C%20-74.00617998126812%5D%2C%0A%20%20%20%20%20%20%20%20%20%20%20%20%20%20%20%20%7B%22bubblingMouseEvents%22%3A%20true%2C%20%22color%22%3A%20%22blue%22%2C%20%22dashArray%22%3A%20null%2C%20%22dashOffset%22%3A%20null%2C%20%22fill%22%3A%20true%2C%20%22fillColor%22%3A%20%22%233186cc%22%2C%20%22fillOpacity%22%3A%200.7%2C%20%22fillRule%22%3A%20%22evenodd%22%2C%20%22lineCap%22%3A%20%22round%22%2C%20%22lineJoin%22%3A%20%22round%22%2C%20%22opacity%22%3A%201.0%2C%20%22radius%22%3A%205%2C%20%22stroke%22%3A%20true%2C%20%22weight%22%3A%203%7D%0A%20%20%20%20%20%20%20%20%20%20%20%20%29.addTo%28map_da402c8c143c4c8d8a2810a77806f651%29%3B%0A%20%20%20%20%20%20%20%20%0A%20%20%20%20%0A%20%20%20%20%20%20%20%20var%20popup_6397e995ab2349baa42579ae5000fc65%20%3D%20L.popup%28%7B%22maxWidth%22%3A%20%22100%25%22%7D%29%3B%0A%0A%20%20%20%20%20%20%20%20%0A%20%20%20%20%20%20%20%20%20%20%20%20var%20html_95fdfe6c853c435fb53a4f5dc6ee2866%20%3D%20%24%28%60%3Cdiv%20id%3D%22html_95fdfe6c853c435fb53a4f5dc6ee2866%22%20style%3D%22width%3A%20100.0%25%3B%20height%3A%20100.0%25%3B%22%3EWest%20Village%2C%20Manhattan%3C/div%3E%60%29%5B0%5D%3B%0A%20%20%20%20%20%20%20%20%20%20%20%20popup_6397e995ab2349baa42579ae5000fc65.setContent%28html_95fdfe6c853c435fb53a4f5dc6ee2866%29%3B%0A%20%20%20%20%20%20%20%20%0A%0A%20%20%20%20%20%20%20%20circle_marker_6aea16ce877d4adea9659a6e96c81ddc.bindPopup%28popup_6397e995ab2349baa42579ae5000fc65%29%0A%20%20%20%20%20%20%20%20%3B%0A%0A%20%20%20%20%20%20%20%20%0A%20%20%20%20%0A%20%20%20%20%0A%20%20%20%20%20%20%20%20%20%20%20%20var%20circle_marker_d2b0e3e5b7944c50ad8b814bf5cb6278%20%3D%20L.circleMarker%28%0A%20%20%20%20%20%20%20%20%20%20%20%20%20%20%20%20%5B40.797307041702865%2C%20-73.96428617740655%5D%2C%0A%20%20%20%20%20%20%20%20%20%20%20%20%20%20%20%20%7B%22bubblingMouseEvents%22%3A%20true%2C%20%22color%22%3A%20%22blue%22%2C%20%22dashArray%22%3A%20null%2C%20%22dashOffset%22%3A%20null%2C%20%22fill%22%3A%20true%2C%20%22fillColor%22%3A%20%22%233186cc%22%2C%20%22fillOpacity%22%3A%200.7%2C%20%22fillRule%22%3A%20%22evenodd%22%2C%20%22lineCap%22%3A%20%22round%22%2C%20%22lineJoin%22%3A%20%22round%22%2C%20%22opacity%22%3A%201.0%2C%20%22radius%22%3A%205%2C%20%22stroke%22%3A%20true%2C%20%22weight%22%3A%203%7D%0A%20%20%20%20%20%20%20%20%20%20%20%20%29.addTo%28map_da402c8c143c4c8d8a2810a77806f651%29%3B%0A%20%20%20%20%20%20%20%20%0A%20%20%20%20%0A%20%20%20%20%20%20%20%20var%20popup_27114317e71245beaeffe3578a72615d%20%3D%20L.popup%28%7B%22maxWidth%22%3A%20%22100%25%22%7D%29%3B%0A%0A%20%20%20%20%20%20%20%20%0A%20%20%20%20%20%20%20%20%20%20%20%20var%20html_b10b476fbd8f4a7ea0aa25ed8b2f49c3%20%3D%20%24%28%60%3Cdiv%20id%3D%22html_b10b476fbd8f4a7ea0aa25ed8b2f49c3%22%20style%3D%22width%3A%20100.0%25%3B%20height%3A%20100.0%25%3B%22%3EManhattan%20Valley%2C%20Manhattan%3C/div%3E%60%29%5B0%5D%3B%0A%20%20%20%20%20%20%20%20%20%20%20%20popup_27114317e71245beaeffe3578a72615d.setContent%28html_b10b476fbd8f4a7ea0aa25ed8b2f49c3%29%3B%0A%20%20%20%20%20%20%20%20%0A%0A%20%20%20%20%20%20%20%20circle_marker_d2b0e3e5b7944c50ad8b814bf5cb6278.bindPopup%28popup_27114317e71245beaeffe3578a72615d%29%0A%20%20%20%20%20%20%20%20%3B%0A%0A%20%20%20%20%20%20%20%20%0A%20%20%20%20%0A%20%20%20%20%0A%20%20%20%20%20%20%20%20%20%20%20%20var%20circle_marker_67ad8b85f11644f3bb2c3e9d331493ff%20%3D%20L.circleMarker%28%0A%20%20%20%20%20%20%20%20%20%20%20%20%20%20%20%20%5B40.807999738165826%2C%20-73.96389627905332%5D%2C%0A%20%20%20%20%20%20%20%20%20%20%20%20%20%20%20%20%7B%22bubblingMouseEvents%22%3A%20true%2C%20%22color%22%3A%20%22blue%22%2C%20%22dashArray%22%3A%20null%2C%20%22dashOffset%22%3A%20null%2C%20%22fill%22%3A%20true%2C%20%22fillColor%22%3A%20%22%233186cc%22%2C%20%22fillOpacity%22%3A%200.7%2C%20%22fillRule%22%3A%20%22evenodd%22%2C%20%22lineCap%22%3A%20%22round%22%2C%20%22lineJoin%22%3A%20%22round%22%2C%20%22opacity%22%3A%201.0%2C%20%22radius%22%3A%205%2C%20%22stroke%22%3A%20true%2C%20%22weight%22%3A%203%7D%0A%20%20%20%20%20%20%20%20%20%20%20%20%29.addTo%28map_da402c8c143c4c8d8a2810a77806f651%29%3B%0A%20%20%20%20%20%20%20%20%0A%20%20%20%20%0A%20%20%20%20%20%20%20%20var%20popup_1809b5fb387847969fa4f859b432f37a%20%3D%20L.popup%28%7B%22maxWidth%22%3A%20%22100%25%22%7D%29%3B%0A%0A%20%20%20%20%20%20%20%20%0A%20%20%20%20%20%20%20%20%20%20%20%20var%20html_a4649c35f38b47598aab098e742103e6%20%3D%20%24%28%60%3Cdiv%20id%3D%22html_a4649c35f38b47598aab098e742103e6%22%20style%3D%22width%3A%20100.0%25%3B%20height%3A%20100.0%25%3B%22%3EMorningside%20Heights%2C%20Manhattan%3C/div%3E%60%29%5B0%5D%3B%0A%20%20%20%20%20%20%20%20%20%20%20%20popup_1809b5fb387847969fa4f859b432f37a.setContent%28html_a4649c35f38b47598aab098e742103e6%29%3B%0A%20%20%20%20%20%20%20%20%0A%0A%20%20%20%20%20%20%20%20circle_marker_67ad8b85f11644f3bb2c3e9d331493ff.bindPopup%28popup_1809b5fb387847969fa4f859b432f37a%29%0A%20%20%20%20%20%20%20%20%3B%0A%0A%20%20%20%20%20%20%20%20%0A%20%20%20%20%0A%20%20%20%20%0A%20%20%20%20%20%20%20%20%20%20%20%20var%20circle_marker_bff72c8f067f46ed888c4a1fcdd42c36%20%3D%20L.circleMarker%28%0A%20%20%20%20%20%20%20%20%20%20%20%20%20%20%20%20%5B40.737209832715%2C%20-73.98137594833541%5D%2C%0A%20%20%20%20%20%20%20%20%20%20%20%20%20%20%20%20%7B%22bubblingMouseEvents%22%3A%20true%2C%20%22color%22%3A%20%22blue%22%2C%20%22dashArray%22%3A%20null%2C%20%22dashOffset%22%3A%20null%2C%20%22fill%22%3A%20true%2C%20%22fillColor%22%3A%20%22%233186cc%22%2C%20%22fillOpacity%22%3A%200.7%2C%20%22fillRule%22%3A%20%22evenodd%22%2C%20%22lineCap%22%3A%20%22round%22%2C%20%22lineJoin%22%3A%20%22round%22%2C%20%22opacity%22%3A%201.0%2C%20%22radius%22%3A%205%2C%20%22stroke%22%3A%20true%2C%20%22weight%22%3A%203%7D%0A%20%20%20%20%20%20%20%20%20%20%20%20%29.addTo%28map_da402c8c143c4c8d8a2810a77806f651%29%3B%0A%20%20%20%20%20%20%20%20%0A%20%20%20%20%0A%20%20%20%20%20%20%20%20var%20popup_f034ed4dd22d47328b170e07bac462ab%20%3D%20L.popup%28%7B%22maxWidth%22%3A%20%22100%25%22%7D%29%3B%0A%0A%20%20%20%20%20%20%20%20%0A%20%20%20%20%20%20%20%20%20%20%20%20var%20html_2eb5fcea3a314c44a33583f8f0e99c4b%20%3D%20%24%28%60%3Cdiv%20id%3D%22html_2eb5fcea3a314c44a33583f8f0e99c4b%22%20style%3D%22width%3A%20100.0%25%3B%20height%3A%20100.0%25%3B%22%3EGramercy%2C%20Manhattan%3C/div%3E%60%29%5B0%5D%3B%0A%20%20%20%20%20%20%20%20%20%20%20%20popup_f034ed4dd22d47328b170e07bac462ab.setContent%28html_2eb5fcea3a314c44a33583f8f0e99c4b%29%3B%0A%20%20%20%20%20%20%20%20%0A%0A%20%20%20%20%20%20%20%20circle_marker_bff72c8f067f46ed888c4a1fcdd42c36.bindPopup%28popup_f034ed4dd22d47328b170e07bac462ab%29%0A%20%20%20%20%20%20%20%20%3B%0A%0A%20%20%20%20%20%20%20%20%0A%20%20%20%20%0A%20%20%20%20%0A%20%20%20%20%20%20%20%20%20%20%20%20var%20circle_marker_b64db87950d84ca58967688e42325d35%20%3D%20L.circleMarker%28%0A%20%20%20%20%20%20%20%20%20%20%20%20%20%20%20%20%5B40.71193198394565%2C%20-74.01686930508617%5D%2C%0A%20%20%20%20%20%20%20%20%20%20%20%20%20%20%20%20%7B%22bubblingMouseEvents%22%3A%20true%2C%20%22color%22%3A%20%22blue%22%2C%20%22dashArray%22%3A%20null%2C%20%22dashOffset%22%3A%20null%2C%20%22fill%22%3A%20true%2C%20%22fillColor%22%3A%20%22%233186cc%22%2C%20%22fillOpacity%22%3A%200.7%2C%20%22fillRule%22%3A%20%22evenodd%22%2C%20%22lineCap%22%3A%20%22round%22%2C%20%22lineJoin%22%3A%20%22round%22%2C%20%22opacity%22%3A%201.0%2C%20%22radius%22%3A%205%2C%20%22stroke%22%3A%20true%2C%20%22weight%22%3A%203%7D%0A%20%20%20%20%20%20%20%20%20%20%20%20%29.addTo%28map_da402c8c143c4c8d8a2810a77806f651%29%3B%0A%20%20%20%20%20%20%20%20%0A%20%20%20%20%0A%20%20%20%20%20%20%20%20var%20popup_743a1451b2c948dea5c8af39225dc90f%20%3D%20L.popup%28%7B%22maxWidth%22%3A%20%22100%25%22%7D%29%3B%0A%0A%20%20%20%20%20%20%20%20%0A%20%20%20%20%20%20%20%20%20%20%20%20var%20html_c606478c10d940edb3f9e21d24d09cf1%20%3D%20%24%28%60%3Cdiv%20id%3D%22html_c606478c10d940edb3f9e21d24d09cf1%22%20style%3D%22width%3A%20100.0%25%3B%20height%3A%20100.0%25%3B%22%3EBattery%20Park%20City%2C%20Manhattan%3C/div%3E%60%29%5B0%5D%3B%0A%20%20%20%20%20%20%20%20%20%20%20%20popup_743a1451b2c948dea5c8af39225dc90f.setContent%28html_c606478c10d940edb3f9e21d24d09cf1%29%3B%0A%20%20%20%20%20%20%20%20%0A%0A%20%20%20%20%20%20%20%20circle_marker_b64db87950d84ca58967688e42325d35.bindPopup%28popup_743a1451b2c948dea5c8af39225dc90f%29%0A%20%20%20%20%20%20%20%20%3B%0A%0A%20%20%20%20%20%20%20%20%0A%20%20%20%20%0A%20%20%20%20%0A%20%20%20%20%20%20%20%20%20%20%20%20var%20circle_marker_4b33e0eaf9144abebbcf7d018e186e16%20%3D%20L.circleMarker%28%0A%20%20%20%20%20%20%20%20%20%20%20%20%20%20%20%20%5B40.70710710727048%2C%20-74.0106654452127%5D%2C%0A%20%20%20%20%20%20%20%20%20%20%20%20%20%20%20%20%7B%22bubblingMouseEvents%22%3A%20true%2C%20%22color%22%3A%20%22blue%22%2C%20%22dashArray%22%3A%20null%2C%20%22dashOffset%22%3A%20null%2C%20%22fill%22%3A%20true%2C%20%22fillColor%22%3A%20%22%233186cc%22%2C%20%22fillOpacity%22%3A%200.7%2C%20%22fillRule%22%3A%20%22evenodd%22%2C%20%22lineCap%22%3A%20%22round%22%2C%20%22lineJoin%22%3A%20%22round%22%2C%20%22opacity%22%3A%201.0%2C%20%22radius%22%3A%205%2C%20%22stroke%22%3A%20true%2C%20%22weight%22%3A%203%7D%0A%20%20%20%20%20%20%20%20%20%20%20%20%29.addTo%28map_da402c8c143c4c8d8a2810a77806f651%29%3B%0A%20%20%20%20%20%20%20%20%0A%20%20%20%20%0A%20%20%20%20%20%20%20%20var%20popup_ae0913a3f38a4dbe92bb9fb083e56ccd%20%3D%20L.popup%28%7B%22maxWidth%22%3A%20%22100%25%22%7D%29%3B%0A%0A%20%20%20%20%20%20%20%20%0A%20%20%20%20%20%20%20%20%20%20%20%20var%20html_65c2936fbe0648c896fabef4cb71360f%20%3D%20%24%28%60%3Cdiv%20id%3D%22html_65c2936fbe0648c896fabef4cb71360f%22%20style%3D%22width%3A%20100.0%25%3B%20height%3A%20100.0%25%3B%22%3EFinancial%20District%2C%20Manhattan%3C/div%3E%60%29%5B0%5D%3B%0A%20%20%20%20%20%20%20%20%20%20%20%20popup_ae0913a3f38a4dbe92bb9fb083e56ccd.setContent%28html_65c2936fbe0648c896fabef4cb71360f%29%3B%0A%20%20%20%20%20%20%20%20%0A%0A%20%20%20%20%20%20%20%20circle_marker_4b33e0eaf9144abebbcf7d018e186e16.bindPopup%28popup_ae0913a3f38a4dbe92bb9fb083e56ccd%29%0A%20%20%20%20%20%20%20%20%3B%0A%0A%20%20%20%20%20%20%20%20%0A%20%20%20%20%0A%20%20%20%20%0A%20%20%20%20%20%20%20%20%20%20%20%20var%20circle_marker_800d3050984a419ea97f88eb534f9d51%20%3D%20L.circleMarker%28%0A%20%20%20%20%20%20%20%20%20%20%20%20%20%20%20%20%5B40.76850859335492%2C%20-73.91565374304234%5D%2C%0A%20%20%20%20%20%20%20%20%20%20%20%20%20%20%20%20%7B%22bubblingMouseEvents%22%3A%20true%2C%20%22color%22%3A%20%22blue%22%2C%20%22dashArray%22%3A%20null%2C%20%22dashOffset%22%3A%20null%2C%20%22fill%22%3A%20true%2C%20%22fillColor%22%3A%20%22%233186cc%22%2C%20%22fillOpacity%22%3A%200.7%2C%20%22fillRule%22%3A%20%22evenodd%22%2C%20%22lineCap%22%3A%20%22round%22%2C%20%22lineJoin%22%3A%20%22round%22%2C%20%22opacity%22%3A%201.0%2C%20%22radius%22%3A%205%2C%20%22stroke%22%3A%20true%2C%20%22weight%22%3A%203%7D%0A%20%20%20%20%20%20%20%20%20%20%20%20%29.addTo%28map_da402c8c143c4c8d8a2810a77806f651%29%3B%0A%20%20%20%20%20%20%20%20%0A%20%20%20%20%0A%20%20%20%20%20%20%20%20var%20popup_67da94e15678426d96a02608b8fbad15%20%3D%20L.popup%28%7B%22maxWidth%22%3A%20%22100%25%22%7D%29%3B%0A%0A%20%20%20%20%20%20%20%20%0A%20%20%20%20%20%20%20%20%20%20%20%20var%20html_c6a0a4771f814d13be671c12612b8aab%20%3D%20%24%28%60%3Cdiv%20id%3D%22html_c6a0a4771f814d13be671c12612b8aab%22%20style%3D%22width%3A%20100.0%25%3B%20height%3A%20100.0%25%3B%22%3EAstoria%2C%20Queens%3C/div%3E%60%29%5B0%5D%3B%0A%20%20%20%20%20%20%20%20%20%20%20%20popup_67da94e15678426d96a02608b8fbad15.setContent%28html_c6a0a4771f814d13be671c12612b8aab%29%3B%0A%20%20%20%20%20%20%20%20%0A%0A%20%20%20%20%20%20%20%20circle_marker_800d3050984a419ea97f88eb534f9d51.bindPopup%28popup_67da94e15678426d96a02608b8fbad15%29%0A%20%20%20%20%20%20%20%20%3B%0A%0A%20%20%20%20%20%20%20%20%0A%20%20%20%20%0A%20%20%20%20%0A%20%20%20%20%20%20%20%20%20%20%20%20var%20circle_marker_2d944d16cad04c9b9b3b045a542dd4e0%20%3D%20L.circleMarker%28%0A%20%20%20%20%20%20%20%20%20%20%20%20%20%20%20%20%5B40.74634908860222%2C%20-73.90184166838284%5D%2C%0A%20%20%20%20%20%20%20%20%20%20%20%20%20%20%20%20%7B%22bubblingMouseEvents%22%3A%20true%2C%20%22color%22%3A%20%22blue%22%2C%20%22dashArray%22%3A%20null%2C%20%22dashOffset%22%3A%20null%2C%20%22fill%22%3A%20true%2C%20%22fillColor%22%3A%20%22%233186cc%22%2C%20%22fillOpacity%22%3A%200.7%2C%20%22fillRule%22%3A%20%22evenodd%22%2C%20%22lineCap%22%3A%20%22round%22%2C%20%22lineJoin%22%3A%20%22round%22%2C%20%22opacity%22%3A%201.0%2C%20%22radius%22%3A%205%2C%20%22stroke%22%3A%20true%2C%20%22weight%22%3A%203%7D%0A%20%20%20%20%20%20%20%20%20%20%20%20%29.addTo%28map_da402c8c143c4c8d8a2810a77806f651%29%3B%0A%20%20%20%20%20%20%20%20%0A%20%20%20%20%0A%20%20%20%20%20%20%20%20var%20popup_7527b234c5394de296cec3c6476e77be%20%3D%20L.popup%28%7B%22maxWidth%22%3A%20%22100%25%22%7D%29%3B%0A%0A%20%20%20%20%20%20%20%20%0A%20%20%20%20%20%20%20%20%20%20%20%20var%20html_e0f506432f94411d826ae2557b6cfac1%20%3D%20%24%28%60%3Cdiv%20id%3D%22html_e0f506432f94411d826ae2557b6cfac1%22%20style%3D%22width%3A%20100.0%25%3B%20height%3A%20100.0%25%3B%22%3EWoodside%2C%20Queens%3C/div%3E%60%29%5B0%5D%3B%0A%20%20%20%20%20%20%20%20%20%20%20%20popup_7527b234c5394de296cec3c6476e77be.setContent%28html_e0f506432f94411d826ae2557b6cfac1%29%3B%0A%20%20%20%20%20%20%20%20%0A%0A%20%20%20%20%20%20%20%20circle_marker_2d944d16cad04c9b9b3b045a542dd4e0.bindPopup%28popup_7527b234c5394de296cec3c6476e77be%29%0A%20%20%20%20%20%20%20%20%3B%0A%0A%20%20%20%20%20%20%20%20%0A%20%20%20%20%0A%20%20%20%20%0A%20%20%20%20%20%20%20%20%20%20%20%20var%20circle_marker_31e20d1ba09548378b9046773cbc3a8a%20%3D%20L.circleMarker%28%0A%20%20%20%20%20%20%20%20%20%20%20%20%20%20%20%20%5B40.75198138007367%2C%20-73.88282109164365%5D%2C%0A%20%20%20%20%20%20%20%20%20%20%20%20%20%20%20%20%7B%22bubblingMouseEvents%22%3A%20true%2C%20%22color%22%3A%20%22blue%22%2C%20%22dashArray%22%3A%20null%2C%20%22dashOffset%22%3A%20null%2C%20%22fill%22%3A%20true%2C%20%22fillColor%22%3A%20%22%233186cc%22%2C%20%22fillOpacity%22%3A%200.7%2C%20%22fillRule%22%3A%20%22evenodd%22%2C%20%22lineCap%22%3A%20%22round%22%2C%20%22lineJoin%22%3A%20%22round%22%2C%20%22opacity%22%3A%201.0%2C%20%22radius%22%3A%205%2C%20%22stroke%22%3A%20true%2C%20%22weight%22%3A%203%7D%0A%20%20%20%20%20%20%20%20%20%20%20%20%29.addTo%28map_da402c8c143c4c8d8a2810a77806f651%29%3B%0A%20%20%20%20%20%20%20%20%0A%20%20%20%20%0A%20%20%20%20%20%20%20%20var%20popup_432ff87c875d418f85a3076b2820c9ca%20%3D%20L.popup%28%7B%22maxWidth%22%3A%20%22100%25%22%7D%29%3B%0A%0A%20%20%20%20%20%20%20%20%0A%20%20%20%20%20%20%20%20%20%20%20%20var%20html_77677f4632194f958591a58450387d1c%20%3D%20%24%28%60%3Cdiv%20id%3D%22html_77677f4632194f958591a58450387d1c%22%20style%3D%22width%3A%20100.0%25%3B%20height%3A%20100.0%25%3B%22%3EJackson%20Heights%2C%20Queens%3C/div%3E%60%29%5B0%5D%3B%0A%20%20%20%20%20%20%20%20%20%20%20%20popup_432ff87c875d418f85a3076b2820c9ca.setContent%28html_77677f4632194f958591a58450387d1c%29%3B%0A%20%20%20%20%20%20%20%20%0A%0A%20%20%20%20%20%20%20%20circle_marker_31e20d1ba09548378b9046773cbc3a8a.bindPopup%28popup_432ff87c875d418f85a3076b2820c9ca%29%0A%20%20%20%20%20%20%20%20%3B%0A%0A%20%20%20%20%20%20%20%20%0A%20%20%20%20%0A%20%20%20%20%0A%20%20%20%20%20%20%20%20%20%20%20%20var%20circle_marker_6b29712a8dd942f18c30b86e713144b0%20%3D%20L.circleMarker%28%0A%20%20%20%20%20%20%20%20%20%20%20%20%20%20%20%20%5B40.744048505122024%2C%20-73.88165622288388%5D%2C%0A%20%20%20%20%20%20%20%20%20%20%20%20%20%20%20%20%7B%22bubblingMouseEvents%22%3A%20true%2C%20%22color%22%3A%20%22blue%22%2C%20%22dashArray%22%3A%20null%2C%20%22dashOffset%22%3A%20null%2C%20%22fill%22%3A%20true%2C%20%22fillColor%22%3A%20%22%233186cc%22%2C%20%22fillOpacity%22%3A%200.7%2C%20%22fillRule%22%3A%20%22evenodd%22%2C%20%22lineCap%22%3A%20%22round%22%2C%20%22lineJoin%22%3A%20%22round%22%2C%20%22opacity%22%3A%201.0%2C%20%22radius%22%3A%205%2C%20%22stroke%22%3A%20true%2C%20%22weight%22%3A%203%7D%0A%20%20%20%20%20%20%20%20%20%20%20%20%29.addTo%28map_da402c8c143c4c8d8a2810a77806f651%29%3B%0A%20%20%20%20%20%20%20%20%0A%20%20%20%20%0A%20%20%20%20%20%20%20%20var%20popup_f4d6653315774964ac640ba4442b2d16%20%3D%20L.popup%28%7B%22maxWidth%22%3A%20%22100%25%22%7D%29%3B%0A%0A%20%20%20%20%20%20%20%20%0A%20%20%20%20%20%20%20%20%20%20%20%20var%20html_1d2f467d7f1d4a9c87a75146f6df1f65%20%3D%20%24%28%60%3Cdiv%20id%3D%22html_1d2f467d7f1d4a9c87a75146f6df1f65%22%20style%3D%22width%3A%20100.0%25%3B%20height%3A%20100.0%25%3B%22%3EElmhurst%2C%20Queens%3C/div%3E%60%29%5B0%5D%3B%0A%20%20%20%20%20%20%20%20%20%20%20%20popup_f4d6653315774964ac640ba4442b2d16.setContent%28html_1d2f467d7f1d4a9c87a75146f6df1f65%29%3B%0A%20%20%20%20%20%20%20%20%0A%0A%20%20%20%20%20%20%20%20circle_marker_6b29712a8dd942f18c30b86e713144b0.bindPopup%28popup_f4d6653315774964ac640ba4442b2d16%29%0A%20%20%20%20%20%20%20%20%3B%0A%0A%20%20%20%20%20%20%20%20%0A%20%20%20%20%0A%20%20%20%20%0A%20%20%20%20%20%20%20%20%20%20%20%20var%20circle_marker_b283cb485ba74a5bbab8b180dd2f184d%20%3D%20L.circleMarker%28%0A%20%20%20%20%20%20%20%20%20%20%20%20%20%20%20%20%5B40.65422527738487%2C%20-73.8381376460028%5D%2C%0A%20%20%20%20%20%20%20%20%20%20%20%20%20%20%20%20%7B%22bubblingMouseEvents%22%3A%20true%2C%20%22color%22%3A%20%22blue%22%2C%20%22dashArray%22%3A%20null%2C%20%22dashOffset%22%3A%20null%2C%20%22fill%22%3A%20true%2C%20%22fillColor%22%3A%20%22%233186cc%22%2C%20%22fillOpacity%22%3A%200.7%2C%20%22fillRule%22%3A%20%22evenodd%22%2C%20%22lineCap%22%3A%20%22round%22%2C%20%22lineJoin%22%3A%20%22round%22%2C%20%22opacity%22%3A%201.0%2C%20%22radius%22%3A%205%2C%20%22stroke%22%3A%20true%2C%20%22weight%22%3A%203%7D%0A%20%20%20%20%20%20%20%20%20%20%20%20%29.addTo%28map_da402c8c143c4c8d8a2810a77806f651%29%3B%0A%20%20%20%20%20%20%20%20%0A%20%20%20%20%0A%20%20%20%20%20%20%20%20var%20popup_95225e1801504d689fbd45ea36b65070%20%3D%20L.popup%28%7B%22maxWidth%22%3A%20%22100%25%22%7D%29%3B%0A%0A%20%20%20%20%20%20%20%20%0A%20%20%20%20%20%20%20%20%20%20%20%20var%20html_5ae33f0f483b4b3d95d7cc499f2e929b%20%3D%20%24%28%60%3Cdiv%20id%3D%22html_5ae33f0f483b4b3d95d7cc499f2e929b%22%20style%3D%22width%3A%20100.0%25%3B%20height%3A%20100.0%25%3B%22%3EHoward%20Beach%2C%20Queens%3C/div%3E%60%29%5B0%5D%3B%0A%20%20%20%20%20%20%20%20%20%20%20%20popup_95225e1801504d689fbd45ea36b65070.setContent%28html_5ae33f0f483b4b3d95d7cc499f2e929b%29%3B%0A%20%20%20%20%20%20%20%20%0A%0A%20%20%20%20%20%20%20%20circle_marker_b283cb485ba74a5bbab8b180dd2f184d.bindPopup%28popup_95225e1801504d689fbd45ea36b65070%29%0A%20%20%20%20%20%20%20%20%3B%0A%0A%20%20%20%20%20%20%20%20%0A%20%20%20%20%0A%20%20%20%20%0A%20%20%20%20%20%20%20%20%20%20%20%20var%20circle_marker_c24f5143e12f46c48baf19a54b540975%20%3D%20L.circleMarker%28%0A%20%20%20%20%20%20%20%20%20%20%20%20%20%20%20%20%5B40.74238175015667%2C%20-73.85682497345258%5D%2C%0A%20%20%20%20%20%20%20%20%20%20%20%20%20%20%20%20%7B%22bubblingMouseEvents%22%3A%20true%2C%20%22color%22%3A%20%22blue%22%2C%20%22dashArray%22%3A%20null%2C%20%22dashOffset%22%3A%20null%2C%20%22fill%22%3A%20true%2C%20%22fillColor%22%3A%20%22%233186cc%22%2C%20%22fillOpacity%22%3A%200.7%2C%20%22fillRule%22%3A%20%22evenodd%22%2C%20%22lineCap%22%3A%20%22round%22%2C%20%22lineJoin%22%3A%20%22round%22%2C%20%22opacity%22%3A%201.0%2C%20%22radius%22%3A%205%2C%20%22stroke%22%3A%20true%2C%20%22weight%22%3A%203%7D%0A%20%20%20%20%20%20%20%20%20%20%20%20%29.addTo%28map_da402c8c143c4c8d8a2810a77806f651%29%3B%0A%20%20%20%20%20%20%20%20%0A%20%20%20%20%0A%20%20%20%20%20%20%20%20var%20popup_c2703018f54a4d23bdc8106b93d24392%20%3D%20L.popup%28%7B%22maxWidth%22%3A%20%22100%25%22%7D%29%3B%0A%0A%20%20%20%20%20%20%20%20%0A%20%20%20%20%20%20%20%20%20%20%20%20var%20html_2242da7ee92b4bb9872665e6a31849a4%20%3D%20%24%28%60%3Cdiv%20id%3D%22html_2242da7ee92b4bb9872665e6a31849a4%22%20style%3D%22width%3A%20100.0%25%3B%20height%3A%20100.0%25%3B%22%3ECorona%2C%20Queens%3C/div%3E%60%29%5B0%5D%3B%0A%20%20%20%20%20%20%20%20%20%20%20%20popup_c2703018f54a4d23bdc8106b93d24392.setContent%28html_2242da7ee92b4bb9872665e6a31849a4%29%3B%0A%20%20%20%20%20%20%20%20%0A%0A%20%20%20%20%20%20%20%20circle_marker_c24f5143e12f46c48baf19a54b540975.bindPopup%28popup_c2703018f54a4d23bdc8106b93d24392%29%0A%20%20%20%20%20%20%20%20%3B%0A%0A%20%20%20%20%20%20%20%20%0A%20%20%20%20%0A%20%20%20%20%0A%20%20%20%20%20%20%20%20%20%20%20%20var%20circle_marker_6c597de2fb6d447db4340e612e89a60e%20%3D%20L.circleMarker%28%0A%20%20%20%20%20%20%20%20%20%20%20%20%20%20%20%20%5B40.72526378216503%2C%20-73.84447500788983%5D%2C%0A%20%20%20%20%20%20%20%20%20%20%20%20%20%20%20%20%7B%22bubblingMouseEvents%22%3A%20true%2C%20%22color%22%3A%20%22blue%22%2C%20%22dashArray%22%3A%20null%2C%20%22dashOffset%22%3A%20null%2C%20%22fill%22%3A%20true%2C%20%22fillColor%22%3A%20%22%233186cc%22%2C%20%22fillOpacity%22%3A%200.7%2C%20%22fillRule%22%3A%20%22evenodd%22%2C%20%22lineCap%22%3A%20%22round%22%2C%20%22lineJoin%22%3A%20%22round%22%2C%20%22opacity%22%3A%201.0%2C%20%22radius%22%3A%205%2C%20%22stroke%22%3A%20true%2C%20%22weight%22%3A%203%7D%0A%20%20%20%20%20%20%20%20%20%20%20%20%29.addTo%28map_da402c8c143c4c8d8a2810a77806f651%29%3B%0A%20%20%20%20%20%20%20%20%0A%20%20%20%20%0A%20%20%20%20%20%20%20%20var%20popup_0db66b20ce48489cbd91f8802edcb1b8%20%3D%20L.popup%28%7B%22maxWidth%22%3A%20%22100%25%22%7D%29%3B%0A%0A%20%20%20%20%20%20%20%20%0A%20%20%20%20%20%20%20%20%20%20%20%20var%20html_23873508760e42f1b15df1e4fa5b5781%20%3D%20%24%28%60%3Cdiv%20id%3D%22html_23873508760e42f1b15df1e4fa5b5781%22%20style%3D%22width%3A%20100.0%25%3B%20height%3A%20100.0%25%3B%22%3EForest%20Hills%2C%20Queens%3C/div%3E%60%29%5B0%5D%3B%0A%20%20%20%20%20%20%20%20%20%20%20%20popup_0db66b20ce48489cbd91f8802edcb1b8.setContent%28html_23873508760e42f1b15df1e4fa5b5781%29%3B%0A%20%20%20%20%20%20%20%20%0A%0A%20%20%20%20%20%20%20%20circle_marker_6c597de2fb6d447db4340e612e89a60e.bindPopup%28popup_0db66b20ce48489cbd91f8802edcb1b8%29%0A%20%20%20%20%20%20%20%20%3B%0A%0A%20%20%20%20%20%20%20%20%0A%20%20%20%20%0A%20%20%20%20%0A%20%20%20%20%20%20%20%20%20%20%20%20var%20circle_marker_12d8eafc9df04906bbcc9cb10e182179%20%3D%20L.circleMarker%28%0A%20%20%20%20%20%20%20%20%20%20%20%20%20%20%20%20%5B40.7051790354148%2C%20-73.82981905825703%5D%2C%0A%20%20%20%20%20%20%20%20%20%20%20%20%20%20%20%20%7B%22bubblingMouseEvents%22%3A%20true%2C%20%22color%22%3A%20%22blue%22%2C%20%22dashArray%22%3A%20null%2C%20%22dashOffset%22%3A%20null%2C%20%22fill%22%3A%20true%2C%20%22fillColor%22%3A%20%22%233186cc%22%2C%20%22fillOpacity%22%3A%200.7%2C%20%22fillRule%22%3A%20%22evenodd%22%2C%20%22lineCap%22%3A%20%22round%22%2C%20%22lineJoin%22%3A%20%22round%22%2C%20%22opacity%22%3A%201.0%2C%20%22radius%22%3A%205%2C%20%22stroke%22%3A%20true%2C%20%22weight%22%3A%203%7D%0A%20%20%20%20%20%20%20%20%20%20%20%20%29.addTo%28map_da402c8c143c4c8d8a2810a77806f651%29%3B%0A%20%20%20%20%20%20%20%20%0A%20%20%20%20%0A%20%20%20%20%20%20%20%20var%20popup_fc3715b694d14a678a9e25b8d4acc84d%20%3D%20L.popup%28%7B%22maxWidth%22%3A%20%22100%25%22%7D%29%3B%0A%0A%20%20%20%20%20%20%20%20%0A%20%20%20%20%20%20%20%20%20%20%20%20var%20html_b3d4ca30a1e84df49224656f0e38c61a%20%3D%20%24%28%60%3Cdiv%20id%3D%22html_b3d4ca30a1e84df49224656f0e38c61a%22%20style%3D%22width%3A%20100.0%25%3B%20height%3A%20100.0%25%3B%22%3EKew%20Gardens%2C%20Queens%3C/div%3E%60%29%5B0%5D%3B%0A%20%20%20%20%20%20%20%20%20%20%20%20popup_fc3715b694d14a678a9e25b8d4acc84d.setContent%28html_b3d4ca30a1e84df49224656f0e38c61a%29%3B%0A%20%20%20%20%20%20%20%20%0A%0A%20%20%20%20%20%20%20%20circle_marker_12d8eafc9df04906bbcc9cb10e182179.bindPopup%28popup_fc3715b694d14a678a9e25b8d4acc84d%29%0A%20%20%20%20%20%20%20%20%3B%0A%0A%20%20%20%20%20%20%20%20%0A%20%20%20%20%0A%20%20%20%20%0A%20%20%20%20%20%20%20%20%20%20%20%20var%20circle_marker_248f106587a14904bf0fe37da900820f%20%3D%20L.circleMarker%28%0A%20%20%20%20%20%20%20%20%20%20%20%20%20%20%20%20%5B40.69794731471763%2C%20-73.83183321446887%5D%2C%0A%20%20%20%20%20%20%20%20%20%20%20%20%20%20%20%20%7B%22bubblingMouseEvents%22%3A%20true%2C%20%22color%22%3A%20%22blue%22%2C%20%22dashArray%22%3A%20null%2C%20%22dashOffset%22%3A%20null%2C%20%22fill%22%3A%20true%2C%20%22fillColor%22%3A%20%22%233186cc%22%2C%20%22fillOpacity%22%3A%200.7%2C%20%22fillRule%22%3A%20%22evenodd%22%2C%20%22lineCap%22%3A%20%22round%22%2C%20%22lineJoin%22%3A%20%22round%22%2C%20%22opacity%22%3A%201.0%2C%20%22radius%22%3A%205%2C%20%22stroke%22%3A%20true%2C%20%22weight%22%3A%203%7D%0A%20%20%20%20%20%20%20%20%20%20%20%20%29.addTo%28map_da402c8c143c4c8d8a2810a77806f651%29%3B%0A%20%20%20%20%20%20%20%20%0A%20%20%20%20%0A%20%20%20%20%20%20%20%20var%20popup_a1d4175fd0c049d38755868502108da2%20%3D%20L.popup%28%7B%22maxWidth%22%3A%20%22100%25%22%7D%29%3B%0A%0A%20%20%20%20%20%20%20%20%0A%20%20%20%20%20%20%20%20%20%20%20%20var%20html_8402cac88e0d4404ab9a830e4b9105c3%20%3D%20%24%28%60%3Cdiv%20id%3D%22html_8402cac88e0d4404ab9a830e4b9105c3%22%20style%3D%22width%3A%20100.0%25%3B%20height%3A%20100.0%25%3B%22%3ERichmond%20Hill%2C%20Queens%3C/div%3E%60%29%5B0%5D%3B%0A%20%20%20%20%20%20%20%20%20%20%20%20popup_a1d4175fd0c049d38755868502108da2.setContent%28html_8402cac88e0d4404ab9a830e4b9105c3%29%3B%0A%20%20%20%20%20%20%20%20%0A%0A%20%20%20%20%20%20%20%20circle_marker_248f106587a14904bf0fe37da900820f.bindPopup%28popup_a1d4175fd0c049d38755868502108da2%29%0A%20%20%20%20%20%20%20%20%3B%0A%0A%20%20%20%20%20%20%20%20%0A%20%20%20%20%0A%20%20%20%20%0A%20%20%20%20%20%20%20%20%20%20%20%20var%20circle_marker_10dc8b1826e14765aeb2ad65628bae21%20%3D%20L.circleMarker%28%0A%20%20%20%20%20%20%20%20%20%20%20%20%20%20%20%20%5B40.76445419697846%2C%20-73.83177300329582%5D%2C%0A%20%20%20%20%20%20%20%20%20%20%20%20%20%20%20%20%7B%22bubblingMouseEvents%22%3A%20true%2C%20%22color%22%3A%20%22blue%22%2C%20%22dashArray%22%3A%20null%2C%20%22dashOffset%22%3A%20null%2C%20%22fill%22%3A%20true%2C%20%22fillColor%22%3A%20%22%233186cc%22%2C%20%22fillOpacity%22%3A%200.7%2C%20%22fillRule%22%3A%20%22evenodd%22%2C%20%22lineCap%22%3A%20%22round%22%2C%20%22lineJoin%22%3A%20%22round%22%2C%20%22opacity%22%3A%201.0%2C%20%22radius%22%3A%205%2C%20%22stroke%22%3A%20true%2C%20%22weight%22%3A%203%7D%0A%20%20%20%20%20%20%20%20%20%20%20%20%29.addTo%28map_da402c8c143c4c8d8a2810a77806f651%29%3B%0A%20%20%20%20%20%20%20%20%0A%20%20%20%20%0A%20%20%20%20%20%20%20%20var%20popup_0810cc54d8c84462ae17b87d2d6a2337%20%3D%20L.popup%28%7B%22maxWidth%22%3A%20%22100%25%22%7D%29%3B%0A%0A%20%20%20%20%20%20%20%20%0A%20%20%20%20%20%20%20%20%20%20%20%20var%20html_8f3f1485f8e0492c8d91bc90cdb9ece9%20%3D%20%24%28%60%3Cdiv%20id%3D%22html_8f3f1485f8e0492c8d91bc90cdb9ece9%22%20style%3D%22width%3A%20100.0%25%3B%20height%3A%20100.0%25%3B%22%3EFlushing%2C%20Queens%3C/div%3E%60%29%5B0%5D%3B%0A%20%20%20%20%20%20%20%20%20%20%20%20popup_0810cc54d8c84462ae17b87d2d6a2337.setContent%28html_8f3f1485f8e0492c8d91bc90cdb9ece9%29%3B%0A%20%20%20%20%20%20%20%20%0A%0A%20%20%20%20%20%20%20%20circle_marker_10dc8b1826e14765aeb2ad65628bae21.bindPopup%28popup_0810cc54d8c84462ae17b87d2d6a2337%29%0A%20%20%20%20%20%20%20%20%3B%0A%0A%20%20%20%20%20%20%20%20%0A%20%20%20%20%0A%20%20%20%20%0A%20%20%20%20%20%20%20%20%20%20%20%20var%20circle_marker_097e588b812d4d51a7fdb6ea028507ad%20%3D%20L.circleMarker%28%0A%20%20%20%20%20%20%20%20%20%20%20%20%20%20%20%20%5B40.75021734610528%2C%20-73.93920223915505%5D%2C%0A%20%20%20%20%20%20%20%20%20%20%20%20%20%20%20%20%7B%22bubblingMouseEvents%22%3A%20true%2C%20%22color%22%3A%20%22blue%22%2C%20%22dashArray%22%3A%20null%2C%20%22dashOffset%22%3A%20null%2C%20%22fill%22%3A%20true%2C%20%22fillColor%22%3A%20%22%233186cc%22%2C%20%22fillOpacity%22%3A%200.7%2C%20%22fillRule%22%3A%20%22evenodd%22%2C%20%22lineCap%22%3A%20%22round%22%2C%20%22lineJoin%22%3A%20%22round%22%2C%20%22opacity%22%3A%201.0%2C%20%22radius%22%3A%205%2C%20%22stroke%22%3A%20true%2C%20%22weight%22%3A%203%7D%0A%20%20%20%20%20%20%20%20%20%20%20%20%29.addTo%28map_da402c8c143c4c8d8a2810a77806f651%29%3B%0A%20%20%20%20%20%20%20%20%0A%20%20%20%20%0A%20%20%20%20%20%20%20%20var%20popup_b6afae44b90348cfb6f002302732c987%20%3D%20L.popup%28%7B%22maxWidth%22%3A%20%22100%25%22%7D%29%3B%0A%0A%20%20%20%20%20%20%20%20%0A%20%20%20%20%20%20%20%20%20%20%20%20var%20html_d86d0d0201c24c40a0c611bb31f5f5aa%20%3D%20%24%28%60%3Cdiv%20id%3D%22html_d86d0d0201c24c40a0c611bb31f5f5aa%22%20style%3D%22width%3A%20100.0%25%3B%20height%3A%20100.0%25%3B%22%3ELong%20Island%20City%2C%20Queens%3C/div%3E%60%29%5B0%5D%3B%0A%20%20%20%20%20%20%20%20%20%20%20%20popup_b6afae44b90348cfb6f002302732c987.setContent%28html_d86d0d0201c24c40a0c611bb31f5f5aa%29%3B%0A%20%20%20%20%20%20%20%20%0A%0A%20%20%20%20%20%20%20%20circle_marker_097e588b812d4d51a7fdb6ea028507ad.bindPopup%28popup_b6afae44b90348cfb6f002302732c987%29%0A%20%20%20%20%20%20%20%20%3B%0A%0A%20%20%20%20%20%20%20%20%0A%20%20%20%20%0A%20%20%20%20%0A%20%20%20%20%20%20%20%20%20%20%20%20var%20circle_marker_8ebe2a90ee624aea8ca1197569fdd829%20%3D%20L.circleMarker%28%0A%20%20%20%20%20%20%20%20%20%20%20%20%20%20%20%20%5B40.74017628351924%2C%20-73.92691617561577%5D%2C%0A%20%20%20%20%20%20%20%20%20%20%20%20%20%20%20%20%7B%22bubblingMouseEvents%22%3A%20true%2C%20%22color%22%3A%20%22blue%22%2C%20%22dashArray%22%3A%20null%2C%20%22dashOffset%22%3A%20null%2C%20%22fill%22%3A%20true%2C%20%22fillColor%22%3A%20%22%233186cc%22%2C%20%22fillOpacity%22%3A%200.7%2C%20%22fillRule%22%3A%20%22evenodd%22%2C%20%22lineCap%22%3A%20%22round%22%2C%20%22lineJoin%22%3A%20%22round%22%2C%20%22opacity%22%3A%201.0%2C%20%22radius%22%3A%205%2C%20%22stroke%22%3A%20true%2C%20%22weight%22%3A%203%7D%0A%20%20%20%20%20%20%20%20%20%20%20%20%29.addTo%28map_da402c8c143c4c8d8a2810a77806f651%29%3B%0A%20%20%20%20%20%20%20%20%0A%20%20%20%20%0A%20%20%20%20%20%20%20%20var%20popup_750cb2b3f42c4943812f30e1d1886455%20%3D%20L.popup%28%7B%22maxWidth%22%3A%20%22100%25%22%7D%29%3B%0A%0A%20%20%20%20%20%20%20%20%0A%20%20%20%20%20%20%20%20%20%20%20%20var%20html_39e55121022544759ce3720849324a03%20%3D%20%24%28%60%3Cdiv%20id%3D%22html_39e55121022544759ce3720849324a03%22%20style%3D%22width%3A%20100.0%25%3B%20height%3A%20100.0%25%3B%22%3ESunnyside%2C%20Queens%3C/div%3E%60%29%5B0%5D%3B%0A%20%20%20%20%20%20%20%20%20%20%20%20popup_750cb2b3f42c4943812f30e1d1886455.setContent%28html_39e55121022544759ce3720849324a03%29%3B%0A%20%20%20%20%20%20%20%20%0A%0A%20%20%20%20%20%20%20%20circle_marker_8ebe2a90ee624aea8ca1197569fdd829.bindPopup%28popup_750cb2b3f42c4943812f30e1d1886455%29%0A%20%20%20%20%20%20%20%20%3B%0A%0A%20%20%20%20%20%20%20%20%0A%20%20%20%20%0A%20%20%20%20%0A%20%20%20%20%20%20%20%20%20%20%20%20var%20circle_marker_402cfa5254144568bb3e0dd4aa7dd926%20%3D%20L.circleMarker%28%0A%20%20%20%20%20%20%20%20%20%20%20%20%20%20%20%20%5B40.76407323883091%2C%20-73.86704147658772%5D%2C%0A%20%20%20%20%20%20%20%20%20%20%20%20%20%20%20%20%7B%22bubblingMouseEvents%22%3A%20true%2C%20%22color%22%3A%20%22blue%22%2C%20%22dashArray%22%3A%20null%2C%20%22dashOffset%22%3A%20null%2C%20%22fill%22%3A%20true%2C%20%22fillColor%22%3A%20%22%233186cc%22%2C%20%22fillOpacity%22%3A%200.7%2C%20%22fillRule%22%3A%20%22evenodd%22%2C%20%22lineCap%22%3A%20%22round%22%2C%20%22lineJoin%22%3A%20%22round%22%2C%20%22opacity%22%3A%201.0%2C%20%22radius%22%3A%205%2C%20%22stroke%22%3A%20true%2C%20%22weight%22%3A%203%7D%0A%20%20%20%20%20%20%20%20%20%20%20%20%29.addTo%28map_da402c8c143c4c8d8a2810a77806f651%29%3B%0A%20%20%20%20%20%20%20%20%0A%20%20%20%20%0A%20%20%20%20%20%20%20%20var%20popup_cb484d4818e34460a742ec140ece7960%20%3D%20L.popup%28%7B%22maxWidth%22%3A%20%22100%25%22%7D%29%3B%0A%0A%20%20%20%20%20%20%20%20%0A%20%20%20%20%20%20%20%20%20%20%20%20var%20html_d49512ddad2b46698a109275600363d2%20%3D%20%24%28%60%3Cdiv%20id%3D%22html_d49512ddad2b46698a109275600363d2%22%20style%3D%22width%3A%20100.0%25%3B%20height%3A%20100.0%25%3B%22%3EEast%20Elmhurst%2C%20Queens%3C/div%3E%60%29%5B0%5D%3B%0A%20%20%20%20%20%20%20%20%20%20%20%20popup_cb484d4818e34460a742ec140ece7960.setContent%28html_d49512ddad2b46698a109275600363d2%29%3B%0A%20%20%20%20%20%20%20%20%0A%0A%20%20%20%20%20%20%20%20circle_marker_402cfa5254144568bb3e0dd4aa7dd926.bindPopup%28popup_cb484d4818e34460a742ec140ece7960%29%0A%20%20%20%20%20%20%20%20%3B%0A%0A%20%20%20%20%20%20%20%20%0A%20%20%20%20%0A%20%20%20%20%0A%20%20%20%20%20%20%20%20%20%20%20%20var%20circle_marker_1b032687ef6346c1a597548802f54794%20%3D%20L.circleMarker%28%0A%20%20%20%20%20%20%20%20%20%20%20%20%20%20%20%20%5B40.725427374093606%2C%20-73.89621713626859%5D%2C%0A%20%20%20%20%20%20%20%20%20%20%20%20%20%20%20%20%7B%22bubblingMouseEvents%22%3A%20true%2C%20%22color%22%3A%20%22blue%22%2C%20%22dashArray%22%3A%20null%2C%20%22dashOffset%22%3A%20null%2C%20%22fill%22%3A%20true%2C%20%22fillColor%22%3A%20%22%233186cc%22%2C%20%22fillOpacity%22%3A%200.7%2C%20%22fillRule%22%3A%20%22evenodd%22%2C%20%22lineCap%22%3A%20%22round%22%2C%20%22lineJoin%22%3A%20%22round%22%2C%20%22opacity%22%3A%201.0%2C%20%22radius%22%3A%205%2C%20%22stroke%22%3A%20true%2C%20%22weight%22%3A%203%7D%0A%20%20%20%20%20%20%20%20%20%20%20%20%29.addTo%28map_da402c8c143c4c8d8a2810a77806f651%29%3B%0A%20%20%20%20%20%20%20%20%0A%20%20%20%20%0A%20%20%20%20%20%20%20%20var%20popup_a5b96030b73c410998dd73cd2d3edfb8%20%3D%20L.popup%28%7B%22maxWidth%22%3A%20%22100%25%22%7D%29%3B%0A%0A%20%20%20%20%20%20%20%20%0A%20%20%20%20%20%20%20%20%20%20%20%20var%20html_a1fad30d863f4d95bbd65b18165e0dc7%20%3D%20%24%28%60%3Cdiv%20id%3D%22html_a1fad30d863f4d95bbd65b18165e0dc7%22%20style%3D%22width%3A%20100.0%25%3B%20height%3A%20100.0%25%3B%22%3EMaspeth%2C%20Queens%3C/div%3E%60%29%5B0%5D%3B%0A%20%20%20%20%20%20%20%20%20%20%20%20popup_a5b96030b73c410998dd73cd2d3edfb8.setContent%28html_a1fad30d863f4d95bbd65b18165e0dc7%29%3B%0A%20%20%20%20%20%20%20%20%0A%0A%20%20%20%20%20%20%20%20circle_marker_1b032687ef6346c1a597548802f54794.bindPopup%28popup_a5b96030b73c410998dd73cd2d3edfb8%29%0A%20%20%20%20%20%20%20%20%3B%0A%0A%20%20%20%20%20%20%20%20%0A%20%20%20%20%0A%20%20%20%20%0A%20%20%20%20%20%20%20%20%20%20%20%20var%20circle_marker_e841ab2d01a84f44ab4e97a9939bfdbc%20%3D%20L.circleMarker%28%0A%20%20%20%20%20%20%20%20%20%20%20%20%20%20%20%20%5B40.70832315613858%2C%20-73.90143517559589%5D%2C%0A%20%20%20%20%20%20%20%20%20%20%20%20%20%20%20%20%7B%22bubblingMouseEvents%22%3A%20true%2C%20%22color%22%3A%20%22blue%22%2C%20%22dashArray%22%3A%20null%2C%20%22dashOffset%22%3A%20null%2C%20%22fill%22%3A%20true%2C%20%22fillColor%22%3A%20%22%233186cc%22%2C%20%22fillOpacity%22%3A%200.7%2C%20%22fillRule%22%3A%20%22evenodd%22%2C%20%22lineCap%22%3A%20%22round%22%2C%20%22lineJoin%22%3A%20%22round%22%2C%20%22opacity%22%3A%201.0%2C%20%22radius%22%3A%205%2C%20%22stroke%22%3A%20true%2C%20%22weight%22%3A%203%7D%0A%20%20%20%20%20%20%20%20%20%20%20%20%29.addTo%28map_da402c8c143c4c8d8a2810a77806f651%29%3B%0A%20%20%20%20%20%20%20%20%0A%20%20%20%20%0A%20%20%20%20%20%20%20%20var%20popup_a7da6c1476514c9496eb7da44c07475a%20%3D%20L.popup%28%7B%22maxWidth%22%3A%20%22100%25%22%7D%29%3B%0A%0A%20%20%20%20%20%20%20%20%0A%20%20%20%20%20%20%20%20%20%20%20%20var%20html_6b134a34d12e43809257704727ca75b5%20%3D%20%24%28%60%3Cdiv%20id%3D%22html_6b134a34d12e43809257704727ca75b5%22%20style%3D%22width%3A%20100.0%25%3B%20height%3A%20100.0%25%3B%22%3ERidgewood%2C%20Queens%3C/div%3E%60%29%5B0%5D%3B%0A%20%20%20%20%20%20%20%20%20%20%20%20popup_a7da6c1476514c9496eb7da44c07475a.setContent%28html_6b134a34d12e43809257704727ca75b5%29%3B%0A%20%20%20%20%20%20%20%20%0A%0A%20%20%20%20%20%20%20%20circle_marker_e841ab2d01a84f44ab4e97a9939bfdbc.bindPopup%28popup_a7da6c1476514c9496eb7da44c07475a%29%0A%20%20%20%20%20%20%20%20%3B%0A%0A%20%20%20%20%20%20%20%20%0A%20%20%20%20%0A%20%20%20%20%0A%20%20%20%20%20%20%20%20%20%20%20%20var%20circle_marker_d0f92815ebe64037b215dfcade6a1e83%20%3D%20L.circleMarker%28%0A%20%20%20%20%20%20%20%20%20%20%20%20%20%20%20%20%5B40.70276242967838%2C%20-73.87074167435605%5D%2C%0A%20%20%20%20%20%20%20%20%20%20%20%20%20%20%20%20%7B%22bubblingMouseEvents%22%3A%20true%2C%20%22color%22%3A%20%22blue%22%2C%20%22dashArray%22%3A%20null%2C%20%22dashOffset%22%3A%20null%2C%20%22fill%22%3A%20true%2C%20%22fillColor%22%3A%20%22%233186cc%22%2C%20%22fillOpacity%22%3A%200.7%2C%20%22fillRule%22%3A%20%22evenodd%22%2C%20%22lineCap%22%3A%20%22round%22%2C%20%22lineJoin%22%3A%20%22round%22%2C%20%22opacity%22%3A%201.0%2C%20%22radius%22%3A%205%2C%20%22stroke%22%3A%20true%2C%20%22weight%22%3A%203%7D%0A%20%20%20%20%20%20%20%20%20%20%20%20%29.addTo%28map_da402c8c143c4c8d8a2810a77806f651%29%3B%0A%20%20%20%20%20%20%20%20%0A%20%20%20%20%0A%20%20%20%20%20%20%20%20var%20popup_aa2570b533a24f099f705bde807e0365%20%3D%20L.popup%28%7B%22maxWidth%22%3A%20%22100%25%22%7D%29%3B%0A%0A%20%20%20%20%20%20%20%20%0A%20%20%20%20%20%20%20%20%20%20%20%20var%20html_3630035413a44a529814e8cdb37dae2f%20%3D%20%24%28%60%3Cdiv%20id%3D%22html_3630035413a44a529814e8cdb37dae2f%22%20style%3D%22width%3A%20100.0%25%3B%20height%3A%20100.0%25%3B%22%3EGlendale%2C%20Queens%3C/div%3E%60%29%5B0%5D%3B%0A%20%20%20%20%20%20%20%20%20%20%20%20popup_aa2570b533a24f099f705bde807e0365.setContent%28html_3630035413a44a529814e8cdb37dae2f%29%3B%0A%20%20%20%20%20%20%20%20%0A%0A%20%20%20%20%20%20%20%20circle_marker_d0f92815ebe64037b215dfcade6a1e83.bindPopup%28popup_aa2570b533a24f099f705bde807e0365%29%0A%20%20%20%20%20%20%20%20%3B%0A%0A%20%20%20%20%20%20%20%20%0A%20%20%20%20%0A%20%20%20%20%0A%20%20%20%20%20%20%20%20%20%20%20%20var%20circle_marker_aaf94aa2836344caac6a593051b91503%20%3D%20L.circleMarker%28%0A%20%20%20%20%20%20%20%20%20%20%20%20%20%20%20%20%5B40.72897409480735%2C%20-73.8578268690537%5D%2C%0A%20%20%20%20%20%20%20%20%20%20%20%20%20%20%20%20%7B%22bubblingMouseEvents%22%3A%20true%2C%20%22color%22%3A%20%22blue%22%2C%20%22dashArray%22%3A%20null%2C%20%22dashOffset%22%3A%20null%2C%20%22fill%22%3A%20true%2C%20%22fillColor%22%3A%20%22%233186cc%22%2C%20%22fillOpacity%22%3A%200.7%2C%20%22fillRule%22%3A%20%22evenodd%22%2C%20%22lineCap%22%3A%20%22round%22%2C%20%22lineJoin%22%3A%20%22round%22%2C%20%22opacity%22%3A%201.0%2C%20%22radius%22%3A%205%2C%20%22stroke%22%3A%20true%2C%20%22weight%22%3A%203%7D%0A%20%20%20%20%20%20%20%20%20%20%20%20%29.addTo%28map_da402c8c143c4c8d8a2810a77806f651%29%3B%0A%20%20%20%20%20%20%20%20%0A%20%20%20%20%0A%20%20%20%20%20%20%20%20var%20popup_8b2f7055cc8944a0a1c889b1a7d3e0b9%20%3D%20L.popup%28%7B%22maxWidth%22%3A%20%22100%25%22%7D%29%3B%0A%0A%20%20%20%20%20%20%20%20%0A%20%20%20%20%20%20%20%20%20%20%20%20var%20html_602d853a59944d52a957277fb5d89d3a%20%3D%20%24%28%60%3Cdiv%20id%3D%22html_602d853a59944d52a957277fb5d89d3a%22%20style%3D%22width%3A%20100.0%25%3B%20height%3A%20100.0%25%3B%22%3ERego%20Park%2C%20Queens%3C/div%3E%60%29%5B0%5D%3B%0A%20%20%20%20%20%20%20%20%20%20%20%20popup_8b2f7055cc8944a0a1c889b1a7d3e0b9.setContent%28html_602d853a59944d52a957277fb5d89d3a%29%3B%0A%20%20%20%20%20%20%20%20%0A%0A%20%20%20%20%20%20%20%20circle_marker_aaf94aa2836344caac6a593051b91503.bindPopup%28popup_8b2f7055cc8944a0a1c889b1a7d3e0b9%29%0A%20%20%20%20%20%20%20%20%3B%0A%0A%20%20%20%20%20%20%20%20%0A%20%20%20%20%0A%20%20%20%20%0A%20%20%20%20%20%20%20%20%20%20%20%20var%20circle_marker_b20c236c93a44c2fbaee418cd2d9454d%20%3D%20L.circleMarker%28%0A%20%20%20%20%20%20%20%20%20%20%20%20%20%20%20%20%5B40.68988687915789%2C%20-73.8581104655432%5D%2C%0A%20%20%20%20%20%20%20%20%20%20%20%20%20%20%20%20%7B%22bubblingMouseEvents%22%3A%20true%2C%20%22color%22%3A%20%22blue%22%2C%20%22dashArray%22%3A%20null%2C%20%22dashOffset%22%3A%20null%2C%20%22fill%22%3A%20true%2C%20%22fillColor%22%3A%20%22%233186cc%22%2C%20%22fillOpacity%22%3A%200.7%2C%20%22fillRule%22%3A%20%22evenodd%22%2C%20%22lineCap%22%3A%20%22round%22%2C%20%22lineJoin%22%3A%20%22round%22%2C%20%22opacity%22%3A%201.0%2C%20%22radius%22%3A%205%2C%20%22stroke%22%3A%20true%2C%20%22weight%22%3A%203%7D%0A%20%20%20%20%20%20%20%20%20%20%20%20%29.addTo%28map_da402c8c143c4c8d8a2810a77806f651%29%3B%0A%20%20%20%20%20%20%20%20%0A%20%20%20%20%0A%20%20%20%20%20%20%20%20var%20popup_535783da44814aeab4affee6fcd25d34%20%3D%20L.popup%28%7B%22maxWidth%22%3A%20%22100%25%22%7D%29%3B%0A%0A%20%20%20%20%20%20%20%20%0A%20%20%20%20%20%20%20%20%20%20%20%20var%20html_dcd657ed7e074ce6b9b5c1303aa6285f%20%3D%20%24%28%60%3Cdiv%20id%3D%22html_dcd657ed7e074ce6b9b5c1303aa6285f%22%20style%3D%22width%3A%20100.0%25%3B%20height%3A%20100.0%25%3B%22%3EWoodhaven%2C%20Queens%3C/div%3E%60%29%5B0%5D%3B%0A%20%20%20%20%20%20%20%20%20%20%20%20popup_535783da44814aeab4affee6fcd25d34.setContent%28html_dcd657ed7e074ce6b9b5c1303aa6285f%29%3B%0A%20%20%20%20%20%20%20%20%0A%0A%20%20%20%20%20%20%20%20circle_marker_b20c236c93a44c2fbaee418cd2d9454d.bindPopup%28popup_535783da44814aeab4affee6fcd25d34%29%0A%20%20%20%20%20%20%20%20%3B%0A%0A%20%20%20%20%20%20%20%20%0A%20%20%20%20%0A%20%20%20%20%0A%20%20%20%20%20%20%20%20%20%20%20%20var%20circle_marker_5594f8b7cdb24ec8baacc7ea4b67b7fd%20%3D%20L.circleMarker%28%0A%20%20%20%20%20%20%20%20%20%20%20%20%20%20%20%20%5B40.680708468265415%2C%20-73.84320266173447%5D%2C%0A%20%20%20%20%20%20%20%20%20%20%20%20%20%20%20%20%7B%22bubblingMouseEvents%22%3A%20true%2C%20%22color%22%3A%20%22blue%22%2C%20%22dashArray%22%3A%20null%2C%20%22dashOffset%22%3A%20null%2C%20%22fill%22%3A%20true%2C%20%22fillColor%22%3A%20%22%233186cc%22%2C%20%22fillOpacity%22%3A%200.7%2C%20%22fillRule%22%3A%20%22evenodd%22%2C%20%22lineCap%22%3A%20%22round%22%2C%20%22lineJoin%22%3A%20%22round%22%2C%20%22opacity%22%3A%201.0%2C%20%22radius%22%3A%205%2C%20%22stroke%22%3A%20true%2C%20%22weight%22%3A%203%7D%0A%20%20%20%20%20%20%20%20%20%20%20%20%29.addTo%28map_da402c8c143c4c8d8a2810a77806f651%29%3B%0A%20%20%20%20%20%20%20%20%0A%20%20%20%20%0A%20%20%20%20%20%20%20%20var%20popup_17eea6c8d8564a578767c31dcf700a23%20%3D%20L.popup%28%7B%22maxWidth%22%3A%20%22100%25%22%7D%29%3B%0A%0A%20%20%20%20%20%20%20%20%0A%20%20%20%20%20%20%20%20%20%20%20%20var%20html_193bb7e5c1ab4114a3fcebe97da49a76%20%3D%20%24%28%60%3Cdiv%20id%3D%22html_193bb7e5c1ab4114a3fcebe97da49a76%22%20style%3D%22width%3A%20100.0%25%3B%20height%3A%20100.0%25%3B%22%3EOzone%20Park%2C%20Queens%3C/div%3E%60%29%5B0%5D%3B%0A%20%20%20%20%20%20%20%20%20%20%20%20popup_17eea6c8d8564a578767c31dcf700a23.setContent%28html_193bb7e5c1ab4114a3fcebe97da49a76%29%3B%0A%20%20%20%20%20%20%20%20%0A%0A%20%20%20%20%20%20%20%20circle_marker_5594f8b7cdb24ec8baacc7ea4b67b7fd.bindPopup%28popup_17eea6c8d8564a578767c31dcf700a23%29%0A%20%20%20%20%20%20%20%20%3B%0A%0A%20%20%20%20%20%20%20%20%0A%20%20%20%20%0A%20%20%20%20%0A%20%20%20%20%20%20%20%20%20%20%20%20var%20circle_marker_c32f079ecf134e3d9441a45bd9cc9bc7%20%3D%20L.circleMarker%28%0A%20%20%20%20%20%20%20%20%20%20%20%20%20%20%20%20%5B40.66854957767195%2C%20-73.80986478649041%5D%2C%0A%20%20%20%20%20%20%20%20%20%20%20%20%20%20%20%20%7B%22bubblingMouseEvents%22%3A%20true%2C%20%22color%22%3A%20%22blue%22%2C%20%22dashArray%22%3A%20null%2C%20%22dashOffset%22%3A%20null%2C%20%22fill%22%3A%20true%2C%20%22fillColor%22%3A%20%22%233186cc%22%2C%20%22fillOpacity%22%3A%200.7%2C%20%22fillRule%22%3A%20%22evenodd%22%2C%20%22lineCap%22%3A%20%22round%22%2C%20%22lineJoin%22%3A%20%22round%22%2C%20%22opacity%22%3A%201.0%2C%20%22radius%22%3A%205%2C%20%22stroke%22%3A%20true%2C%20%22weight%22%3A%203%7D%0A%20%20%20%20%20%20%20%20%20%20%20%20%29.addTo%28map_da402c8c143c4c8d8a2810a77806f651%29%3B%0A%20%20%20%20%20%20%20%20%0A%20%20%20%20%0A%20%20%20%20%20%20%20%20var%20popup_3cfe4d201c934e4f9fab53864dde838e%20%3D%20L.popup%28%7B%22maxWidth%22%3A%20%22100%25%22%7D%29%3B%0A%0A%20%20%20%20%20%20%20%20%0A%20%20%20%20%20%20%20%20%20%20%20%20var%20html_78307069158c4ef48333ef440a1d9a15%20%3D%20%24%28%60%3Cdiv%20id%3D%22html_78307069158c4ef48333ef440a1d9a15%22%20style%3D%22width%3A%20100.0%25%3B%20height%3A%20100.0%25%3B%22%3ESouth%20Ozone%20Park%2C%20Queens%3C/div%3E%60%29%5B0%5D%3B%0A%20%20%20%20%20%20%20%20%20%20%20%20popup_3cfe4d201c934e4f9fab53864dde838e.setContent%28html_78307069158c4ef48333ef440a1d9a15%29%3B%0A%20%20%20%20%20%20%20%20%0A%0A%20%20%20%20%20%20%20%20circle_marker_c32f079ecf134e3d9441a45bd9cc9bc7.bindPopup%28popup_3cfe4d201c934e4f9fab53864dde838e%29%0A%20%20%20%20%20%20%20%20%3B%0A%0A%20%20%20%20%20%20%20%20%0A%20%20%20%20%0A%20%20%20%20%0A%20%20%20%20%20%20%20%20%20%20%20%20var%20circle_marker_7177495a6ba24eb197dbbe5a9bee3a0c%20%3D%20L.circleMarker%28%0A%20%20%20%20%20%20%20%20%20%20%20%20%20%20%20%20%5B40.784902749260205%2C%20-73.84304528896125%5D%2C%0A%20%20%20%20%20%20%20%20%20%20%20%20%20%20%20%20%7B%22bubblingMouseEvents%22%3A%20true%2C%20%22color%22%3A%20%22blue%22%2C%20%22dashArray%22%3A%20null%2C%20%22dashOffset%22%3A%20null%2C%20%22fill%22%3A%20true%2C%20%22fillColor%22%3A%20%22%233186cc%22%2C%20%22fillOpacity%22%3A%200.7%2C%20%22fillRule%22%3A%20%22evenodd%22%2C%20%22lineCap%22%3A%20%22round%22%2C%20%22lineJoin%22%3A%20%22round%22%2C%20%22opacity%22%3A%201.0%2C%20%22radius%22%3A%205%2C%20%22stroke%22%3A%20true%2C%20%22weight%22%3A%203%7D%0A%20%20%20%20%20%20%20%20%20%20%20%20%29.addTo%28map_da402c8c143c4c8d8a2810a77806f651%29%3B%0A%20%20%20%20%20%20%20%20%0A%20%20%20%20%0A%20%20%20%20%20%20%20%20var%20popup_f0619ed3a0084f2a837365746fb36885%20%3D%20L.popup%28%7B%22maxWidth%22%3A%20%22100%25%22%7D%29%3B%0A%0A%20%20%20%20%20%20%20%20%0A%20%20%20%20%20%20%20%20%20%20%20%20var%20html_a7e1de16a8324203ac8b1f0a09ea2d7e%20%3D%20%24%28%60%3Cdiv%20id%3D%22html_a7e1de16a8324203ac8b1f0a09ea2d7e%22%20style%3D%22width%3A%20100.0%25%3B%20height%3A%20100.0%25%3B%22%3ECollege%20Point%2C%20Queens%3C/div%3E%60%29%5B0%5D%3B%0A%20%20%20%20%20%20%20%20%20%20%20%20popup_f0619ed3a0084f2a837365746fb36885.setContent%28html_a7e1de16a8324203ac8b1f0a09ea2d7e%29%3B%0A%20%20%20%20%20%20%20%20%0A%0A%20%20%20%20%20%20%20%20circle_marker_7177495a6ba24eb197dbbe5a9bee3a0c.bindPopup%28popup_f0619ed3a0084f2a837365746fb36885%29%0A%20%20%20%20%20%20%20%20%3B%0A%0A%20%20%20%20%20%20%20%20%0A%20%20%20%20%0A%20%20%20%20%0A%20%20%20%20%20%20%20%20%20%20%20%20var%20circle_marker_fd9db78d314e48448596d048d3dc3ca2%20%3D%20L.circleMarker%28%0A%20%20%20%20%20%20%20%20%20%20%20%20%20%20%20%20%5B40.78129076602694%2C%20-73.81420216610863%5D%2C%0A%20%20%20%20%20%20%20%20%20%20%20%20%20%20%20%20%7B%22bubblingMouseEvents%22%3A%20true%2C%20%22color%22%3A%20%22blue%22%2C%20%22dashArray%22%3A%20null%2C%20%22dashOffset%22%3A%20null%2C%20%22fill%22%3A%20true%2C%20%22fillColor%22%3A%20%22%233186cc%22%2C%20%22fillOpacity%22%3A%200.7%2C%20%22fillRule%22%3A%20%22evenodd%22%2C%20%22lineCap%22%3A%20%22round%22%2C%20%22lineJoin%22%3A%20%22round%22%2C%20%22opacity%22%3A%201.0%2C%20%22radius%22%3A%205%2C%20%22stroke%22%3A%20true%2C%20%22weight%22%3A%203%7D%0A%20%20%20%20%20%20%20%20%20%20%20%20%29.addTo%28map_da402c8c143c4c8d8a2810a77806f651%29%3B%0A%20%20%20%20%20%20%20%20%0A%20%20%20%20%0A%20%20%20%20%20%20%20%20var%20popup_d4835428146d4bb2affa8d56c52523e4%20%3D%20L.popup%28%7B%22maxWidth%22%3A%20%22100%25%22%7D%29%3B%0A%0A%20%20%20%20%20%20%20%20%0A%20%20%20%20%20%20%20%20%20%20%20%20var%20html_62c5f0c030ae495b92c3e0037f6443c2%20%3D%20%24%28%60%3Cdiv%20id%3D%22html_62c5f0c030ae495b92c3e0037f6443c2%22%20style%3D%22width%3A%20100.0%25%3B%20height%3A%20100.0%25%3B%22%3EWhitestone%2C%20Queens%3C/div%3E%60%29%5B0%5D%3B%0A%20%20%20%20%20%20%20%20%20%20%20%20popup_d4835428146d4bb2affa8d56c52523e4.setContent%28html_62c5f0c030ae495b92c3e0037f6443c2%29%3B%0A%20%20%20%20%20%20%20%20%0A%0A%20%20%20%20%20%20%20%20circle_marker_fd9db78d314e48448596d048d3dc3ca2.bindPopup%28popup_d4835428146d4bb2affa8d56c52523e4%29%0A%20%20%20%20%20%20%20%20%3B%0A%0A%20%20%20%20%20%20%20%20%0A%20%20%20%20%0A%20%20%20%20%0A%20%20%20%20%20%20%20%20%20%20%20%20var%20circle_marker_2c4de153a19f4d75803bd530d66579a4%20%3D%20L.circleMarker%28%0A%20%20%20%20%20%20%20%20%20%20%20%20%20%20%20%20%5B40.76604063281064%2C%20-73.7742736306867%5D%2C%0A%20%20%20%20%20%20%20%20%20%20%20%20%20%20%20%20%7B%22bubblingMouseEvents%22%3A%20true%2C%20%22color%22%3A%20%22blue%22%2C%20%22dashArray%22%3A%20null%2C%20%22dashOffset%22%3A%20null%2C%20%22fill%22%3A%20true%2C%20%22fillColor%22%3A%20%22%233186cc%22%2C%20%22fillOpacity%22%3A%200.7%2C%20%22fillRule%22%3A%20%22evenodd%22%2C%20%22lineCap%22%3A%20%22round%22%2C%20%22lineJoin%22%3A%20%22round%22%2C%20%22opacity%22%3A%201.0%2C%20%22radius%22%3A%205%2C%20%22stroke%22%3A%20true%2C%20%22weight%22%3A%203%7D%0A%20%20%20%20%20%20%20%20%20%20%20%20%29.addTo%28map_da402c8c143c4c8d8a2810a77806f651%29%3B%0A%20%20%20%20%20%20%20%20%0A%20%20%20%20%0A%20%20%20%20%20%20%20%20var%20popup_6c712f6e1c5f49d69073bd424bf074ee%20%3D%20L.popup%28%7B%22maxWidth%22%3A%20%22100%25%22%7D%29%3B%0A%0A%20%20%20%20%20%20%20%20%0A%20%20%20%20%20%20%20%20%20%20%20%20var%20html_59e6ce84131e4b0dbacee3b773e8bd22%20%3D%20%24%28%60%3Cdiv%20id%3D%22html_59e6ce84131e4b0dbacee3b773e8bd22%22%20style%3D%22width%3A%20100.0%25%3B%20height%3A%20100.0%25%3B%22%3EBayside%2C%20Queens%3C/div%3E%60%29%5B0%5D%3B%0A%20%20%20%20%20%20%20%20%20%20%20%20popup_6c712f6e1c5f49d69073bd424bf074ee.setContent%28html_59e6ce84131e4b0dbacee3b773e8bd22%29%3B%0A%20%20%20%20%20%20%20%20%0A%0A%20%20%20%20%20%20%20%20circle_marker_2c4de153a19f4d75803bd530d66579a4.bindPopup%28popup_6c712f6e1c5f49d69073bd424bf074ee%29%0A%20%20%20%20%20%20%20%20%3B%0A%0A%20%20%20%20%20%20%20%20%0A%20%20%20%20%0A%20%20%20%20%0A%20%20%20%20%20%20%20%20%20%20%20%20var%20circle_marker_0e7044cb4b1340d181f166b739109d84%20%3D%20L.circleMarker%28%0A%20%20%20%20%20%20%20%20%20%20%20%20%20%20%20%20%5B40.76172954903262%2C%20-73.79176243728061%5D%2C%0A%20%20%20%20%20%20%20%20%20%20%20%20%20%20%20%20%7B%22bubblingMouseEvents%22%3A%20true%2C%20%22color%22%3A%20%22blue%22%2C%20%22dashArray%22%3A%20null%2C%20%22dashOffset%22%3A%20null%2C%20%22fill%22%3A%20true%2C%20%22fillColor%22%3A%20%22%233186cc%22%2C%20%22fillOpacity%22%3A%200.7%2C%20%22fillRule%22%3A%20%22evenodd%22%2C%20%22lineCap%22%3A%20%22round%22%2C%20%22lineJoin%22%3A%20%22round%22%2C%20%22opacity%22%3A%201.0%2C%20%22radius%22%3A%205%2C%20%22stroke%22%3A%20true%2C%20%22weight%22%3A%203%7D%0A%20%20%20%20%20%20%20%20%20%20%20%20%29.addTo%28map_da402c8c143c4c8d8a2810a77806f651%29%3B%0A%20%20%20%20%20%20%20%20%0A%20%20%20%20%0A%20%20%20%20%20%20%20%20var%20popup_ff8113cbdc4a4bc79a88d48534158282%20%3D%20L.popup%28%7B%22maxWidth%22%3A%20%22100%25%22%7D%29%3B%0A%0A%20%20%20%20%20%20%20%20%0A%20%20%20%20%20%20%20%20%20%20%20%20var%20html_a423238cadde4a8fb2c38754bcbe07aa%20%3D%20%24%28%60%3Cdiv%20id%3D%22html_a423238cadde4a8fb2c38754bcbe07aa%22%20style%3D%22width%3A%20100.0%25%3B%20height%3A%20100.0%25%3B%22%3EAuburndale%2C%20Queens%3C/div%3E%60%29%5B0%5D%3B%0A%20%20%20%20%20%20%20%20%20%20%20%20popup_ff8113cbdc4a4bc79a88d48534158282.setContent%28html_a423238cadde4a8fb2c38754bcbe07aa%29%3B%0A%20%20%20%20%20%20%20%20%0A%0A%20%20%20%20%20%20%20%20circle_marker_0e7044cb4b1340d181f166b739109d84.bindPopup%28popup_ff8113cbdc4a4bc79a88d48534158282%29%0A%20%20%20%20%20%20%20%20%3B%0A%0A%20%20%20%20%20%20%20%20%0A%20%20%20%20%0A%20%20%20%20%0A%20%20%20%20%20%20%20%20%20%20%20%20var%20circle_marker_ea59c917c82549d183eacf610d8fa600%20%3D%20L.circleMarker%28%0A%20%20%20%20%20%20%20%20%20%20%20%20%20%20%20%20%5B40.7708261928267%2C%20-73.7388977558074%5D%2C%0A%20%20%20%20%20%20%20%20%20%20%20%20%20%20%20%20%7B%22bubblingMouseEvents%22%3A%20true%2C%20%22color%22%3A%20%22blue%22%2C%20%22dashArray%22%3A%20null%2C%20%22dashOffset%22%3A%20null%2C%20%22fill%22%3A%20true%2C%20%22fillColor%22%3A%20%22%233186cc%22%2C%20%22fillOpacity%22%3A%200.7%2C%20%22fillRule%22%3A%20%22evenodd%22%2C%20%22lineCap%22%3A%20%22round%22%2C%20%22lineJoin%22%3A%20%22round%22%2C%20%22opacity%22%3A%201.0%2C%20%22radius%22%3A%205%2C%20%22stroke%22%3A%20true%2C%20%22weight%22%3A%203%7D%0A%20%20%20%20%20%20%20%20%20%20%20%20%29.addTo%28map_da402c8c143c4c8d8a2810a77806f651%29%3B%0A%20%20%20%20%20%20%20%20%0A%20%20%20%20%0A%20%20%20%20%20%20%20%20var%20popup_5822aa4eec6448ecb6e23b6d8a30a3f4%20%3D%20L.popup%28%7B%22maxWidth%22%3A%20%22100%25%22%7D%29%3B%0A%0A%20%20%20%20%20%20%20%20%0A%20%20%20%20%20%20%20%20%20%20%20%20var%20html_553f280f53d047c393fe143b77afea1e%20%3D%20%24%28%60%3Cdiv%20id%3D%22html_553f280f53d047c393fe143b77afea1e%22%20style%3D%22width%3A%20100.0%25%3B%20height%3A%20100.0%25%3B%22%3ELittle%20Neck%2C%20Queens%3C/div%3E%60%29%5B0%5D%3B%0A%20%20%20%20%20%20%20%20%20%20%20%20popup_5822aa4eec6448ecb6e23b6d8a30a3f4.setContent%28html_553f280f53d047c393fe143b77afea1e%29%3B%0A%20%20%20%20%20%20%20%20%0A%0A%20%20%20%20%20%20%20%20circle_marker_ea59c917c82549d183eacf610d8fa600.bindPopup%28popup_5822aa4eec6448ecb6e23b6d8a30a3f4%29%0A%20%20%20%20%20%20%20%20%3B%0A%0A%20%20%20%20%20%20%20%20%0A%20%20%20%20%0A%20%20%20%20%0A%20%20%20%20%20%20%20%20%20%20%20%20var%20circle_marker_f9bc147d752c4b56b8226cdade9dbbe4%20%3D%20L.circleMarker%28%0A%20%20%20%20%20%20%20%20%20%20%20%20%20%20%20%20%5B40.76684609790763%2C%20-73.7424982072733%5D%2C%0A%20%20%20%20%20%20%20%20%20%20%20%20%20%20%20%20%7B%22bubblingMouseEvents%22%3A%20true%2C%20%22color%22%3A%20%22blue%22%2C%20%22dashArray%22%3A%20null%2C%20%22dashOffset%22%3A%20null%2C%20%22fill%22%3A%20true%2C%20%22fillColor%22%3A%20%22%233186cc%22%2C%20%22fillOpacity%22%3A%200.7%2C%20%22fillRule%22%3A%20%22evenodd%22%2C%20%22lineCap%22%3A%20%22round%22%2C%20%22lineJoin%22%3A%20%22round%22%2C%20%22opacity%22%3A%201.0%2C%20%22radius%22%3A%205%2C%20%22stroke%22%3A%20true%2C%20%22weight%22%3A%203%7D%0A%20%20%20%20%20%20%20%20%20%20%20%20%29.addTo%28map_da402c8c143c4c8d8a2810a77806f651%29%3B%0A%20%20%20%20%20%20%20%20%0A%20%20%20%20%0A%20%20%20%20%20%20%20%20var%20popup_5826ed2b2bd144b187f6bbbd361c520a%20%3D%20L.popup%28%7B%22maxWidth%22%3A%20%22100%25%22%7D%29%3B%0A%0A%20%20%20%20%20%20%20%20%0A%20%20%20%20%20%20%20%20%20%20%20%20var%20html_48621455e9324722a235f0fca33c7f64%20%3D%20%24%28%60%3Cdiv%20id%3D%22html_48621455e9324722a235f0fca33c7f64%22%20style%3D%22width%3A%20100.0%25%3B%20height%3A%20100.0%25%3B%22%3EDouglaston%2C%20Queens%3C/div%3E%60%29%5B0%5D%3B%0A%20%20%20%20%20%20%20%20%20%20%20%20popup_5826ed2b2bd144b187f6bbbd361c520a.setContent%28html_48621455e9324722a235f0fca33c7f64%29%3B%0A%20%20%20%20%20%20%20%20%0A%0A%20%20%20%20%20%20%20%20circle_marker_f9bc147d752c4b56b8226cdade9dbbe4.bindPopup%28popup_5826ed2b2bd144b187f6bbbd361c520a%29%0A%20%20%20%20%20%20%20%20%3B%0A%0A%20%20%20%20%20%20%20%20%0A%20%20%20%20%0A%20%20%20%20%0A%20%20%20%20%20%20%20%20%20%20%20%20var%20circle_marker_a2799d77d41744328913eee4d3b58640%20%3D%20L.circleMarker%28%0A%20%20%20%20%20%20%20%20%20%20%20%20%20%20%20%20%5B40.74944079974332%2C%20-73.71548118999145%5D%2C%0A%20%20%20%20%20%20%20%20%20%20%20%20%20%20%20%20%7B%22bubblingMouseEvents%22%3A%20true%2C%20%22color%22%3A%20%22blue%22%2C%20%22dashArray%22%3A%20null%2C%20%22dashOffset%22%3A%20null%2C%20%22fill%22%3A%20true%2C%20%22fillColor%22%3A%20%22%233186cc%22%2C%20%22fillOpacity%22%3A%200.7%2C%20%22fillRule%22%3A%20%22evenodd%22%2C%20%22lineCap%22%3A%20%22round%22%2C%20%22lineJoin%22%3A%20%22round%22%2C%20%22opacity%22%3A%201.0%2C%20%22radius%22%3A%205%2C%20%22stroke%22%3A%20true%2C%20%22weight%22%3A%203%7D%0A%20%20%20%20%20%20%20%20%20%20%20%20%29.addTo%28map_da402c8c143c4c8d8a2810a77806f651%29%3B%0A%20%20%20%20%20%20%20%20%0A%20%20%20%20%0A%20%20%20%20%20%20%20%20var%20popup_79f156c337084221a39c6089088da3ca%20%3D%20L.popup%28%7B%22maxWidth%22%3A%20%22100%25%22%7D%29%3B%0A%0A%20%20%20%20%20%20%20%20%0A%20%20%20%20%20%20%20%20%20%20%20%20var%20html_fbb64199dab54d24b319851409ea1294%20%3D%20%24%28%60%3Cdiv%20id%3D%22html_fbb64199dab54d24b319851409ea1294%22%20style%3D%22width%3A%20100.0%25%3B%20height%3A%20100.0%25%3B%22%3EGlen%20Oaks%2C%20Queens%3C/div%3E%60%29%5B0%5D%3B%0A%20%20%20%20%20%20%20%20%20%20%20%20popup_79f156c337084221a39c6089088da3ca.setContent%28html_fbb64199dab54d24b319851409ea1294%29%3B%0A%20%20%20%20%20%20%20%20%0A%0A%20%20%20%20%20%20%20%20circle_marker_a2799d77d41744328913eee4d3b58640.bindPopup%28popup_79f156c337084221a39c6089088da3ca%29%0A%20%20%20%20%20%20%20%20%3B%0A%0A%20%20%20%20%20%20%20%20%0A%20%20%20%20%0A%20%20%20%20%0A%20%20%20%20%20%20%20%20%20%20%20%20var%20circle_marker_6008b520e9de48eeb5c85a716c01b1a8%20%3D%20L.circleMarker%28%0A%20%20%20%20%20%20%20%20%20%20%20%20%20%20%20%20%5B40.72857318176675%2C%20-73.72012814826903%5D%2C%0A%20%20%20%20%20%20%20%20%20%20%20%20%20%20%20%20%7B%22bubblingMouseEvents%22%3A%20true%2C%20%22color%22%3A%20%22blue%22%2C%20%22dashArray%22%3A%20null%2C%20%22dashOffset%22%3A%20null%2C%20%22fill%22%3A%20true%2C%20%22fillColor%22%3A%20%22%233186cc%22%2C%20%22fillOpacity%22%3A%200.7%2C%20%22fillRule%22%3A%20%22evenodd%22%2C%20%22lineCap%22%3A%20%22round%22%2C%20%22lineJoin%22%3A%20%22round%22%2C%20%22opacity%22%3A%201.0%2C%20%22radius%22%3A%205%2C%20%22stroke%22%3A%20true%2C%20%22weight%22%3A%203%7D%0A%20%20%20%20%20%20%20%20%20%20%20%20%29.addTo%28map_da402c8c143c4c8d8a2810a77806f651%29%3B%0A%20%20%20%20%20%20%20%20%0A%20%20%20%20%0A%20%20%20%20%20%20%20%20var%20popup_b16c90c1e5c54003a3fdf85365feb439%20%3D%20L.popup%28%7B%22maxWidth%22%3A%20%22100%25%22%7D%29%3B%0A%0A%20%20%20%20%20%20%20%20%0A%20%20%20%20%20%20%20%20%20%20%20%20var%20html_ca96e8e275e642fd94fd6898afd980b0%20%3D%20%24%28%60%3Cdiv%20id%3D%22html_ca96e8e275e642fd94fd6898afd980b0%22%20style%3D%22width%3A%20100.0%25%3B%20height%3A%20100.0%25%3B%22%3EBellerose%2C%20Queens%3C/div%3E%60%29%5B0%5D%3B%0A%20%20%20%20%20%20%20%20%20%20%20%20popup_b16c90c1e5c54003a3fdf85365feb439.setContent%28html_ca96e8e275e642fd94fd6898afd980b0%29%3B%0A%20%20%20%20%20%20%20%20%0A%0A%20%20%20%20%20%20%20%20circle_marker_6008b520e9de48eeb5c85a716c01b1a8.bindPopup%28popup_b16c90c1e5c54003a3fdf85365feb439%29%0A%20%20%20%20%20%20%20%20%3B%0A%0A%20%20%20%20%20%20%20%20%0A%20%20%20%20%0A%20%20%20%20%0A%20%20%20%20%20%20%20%20%20%20%20%20var%20circle_marker_17900ec8bfca45a9a0bd205e35b0da6a%20%3D%20L.circleMarker%28%0A%20%20%20%20%20%20%20%20%20%20%20%20%20%20%20%20%5B40.722578244228046%2C%20-73.82087764933566%5D%2C%0A%20%20%20%20%20%20%20%20%20%20%20%20%20%20%20%20%7B%22bubblingMouseEvents%22%3A%20true%2C%20%22color%22%3A%20%22blue%22%2C%20%22dashArray%22%3A%20null%2C%20%22dashOffset%22%3A%20null%2C%20%22fill%22%3A%20true%2C%20%22fillColor%22%3A%20%22%233186cc%22%2C%20%22fillOpacity%22%3A%200.7%2C%20%22fillRule%22%3A%20%22evenodd%22%2C%20%22lineCap%22%3A%20%22round%22%2C%20%22lineJoin%22%3A%20%22round%22%2C%20%22opacity%22%3A%201.0%2C%20%22radius%22%3A%205%2C%20%22stroke%22%3A%20true%2C%20%22weight%22%3A%203%7D%0A%20%20%20%20%20%20%20%20%20%20%20%20%29.addTo%28map_da402c8c143c4c8d8a2810a77806f651%29%3B%0A%20%20%20%20%20%20%20%20%0A%20%20%20%20%0A%20%20%20%20%20%20%20%20var%20popup_ac88d0d22b414ac5b60a429ed3b53782%20%3D%20L.popup%28%7B%22maxWidth%22%3A%20%22100%25%22%7D%29%3B%0A%0A%20%20%20%20%20%20%20%20%0A%20%20%20%20%20%20%20%20%20%20%20%20var%20html_79e3928ea3314c6fbed54fe90f933fb7%20%3D%20%24%28%60%3Cdiv%20id%3D%22html_79e3928ea3314c6fbed54fe90f933fb7%22%20style%3D%22width%3A%20100.0%25%3B%20height%3A%20100.0%25%3B%22%3EKew%20Gardens%20Hills%2C%20Queens%3C/div%3E%60%29%5B0%5D%3B%0A%20%20%20%20%20%20%20%20%20%20%20%20popup_ac88d0d22b414ac5b60a429ed3b53782.setContent%28html_79e3928ea3314c6fbed54fe90f933fb7%29%3B%0A%20%20%20%20%20%20%20%20%0A%0A%20%20%20%20%20%20%20%20circle_marker_17900ec8bfca45a9a0bd205e35b0da6a.bindPopup%28popup_ac88d0d22b414ac5b60a429ed3b53782%29%0A%20%20%20%20%20%20%20%20%3B%0A%0A%20%20%20%20%20%20%20%20%0A%20%20%20%20%0A%20%20%20%20%0A%20%20%20%20%20%20%20%20%20%20%20%20var%20circle_marker_7d9c6b7af58d456c80cbe5e5c3e123a4%20%3D%20L.circleMarker%28%0A%20%20%20%20%20%20%20%20%20%20%20%20%20%20%20%20%5B40.7343944653313%2C%20-73.78271337003264%5D%2C%0A%20%20%20%20%20%20%20%20%20%20%20%20%20%20%20%20%7B%22bubblingMouseEvents%22%3A%20true%2C%20%22color%22%3A%20%22blue%22%2C%20%22dashArray%22%3A%20null%2C%20%22dashOffset%22%3A%20null%2C%20%22fill%22%3A%20true%2C%20%22fillColor%22%3A%20%22%233186cc%22%2C%20%22fillOpacity%22%3A%200.7%2C%20%22fillRule%22%3A%20%22evenodd%22%2C%20%22lineCap%22%3A%20%22round%22%2C%20%22lineJoin%22%3A%20%22round%22%2C%20%22opacity%22%3A%201.0%2C%20%22radius%22%3A%205%2C%20%22stroke%22%3A%20true%2C%20%22weight%22%3A%203%7D%0A%20%20%20%20%20%20%20%20%20%20%20%20%29.addTo%28map_da402c8c143c4c8d8a2810a77806f651%29%3B%0A%20%20%20%20%20%20%20%20%0A%20%20%20%20%0A%20%20%20%20%20%20%20%20var%20popup_b395a6b92ef44933ac9c07c5ad6b015f%20%3D%20L.popup%28%7B%22maxWidth%22%3A%20%22100%25%22%7D%29%3B%0A%0A%20%20%20%20%20%20%20%20%0A%20%20%20%20%20%20%20%20%20%20%20%20var%20html_facc725c733a4da8b087cb016d5264c0%20%3D%20%24%28%60%3Cdiv%20id%3D%22html_facc725c733a4da8b087cb016d5264c0%22%20style%3D%22width%3A%20100.0%25%3B%20height%3A%20100.0%25%3B%22%3EFresh%20Meadows%2C%20Queens%3C/div%3E%60%29%5B0%5D%3B%0A%20%20%20%20%20%20%20%20%20%20%20%20popup_b395a6b92ef44933ac9c07c5ad6b015f.setContent%28html_facc725c733a4da8b087cb016d5264c0%29%3B%0A%20%20%20%20%20%20%20%20%0A%0A%20%20%20%20%20%20%20%20circle_marker_7d9c6b7af58d456c80cbe5e5c3e123a4.bindPopup%28popup_b395a6b92ef44933ac9c07c5ad6b015f%29%0A%20%20%20%20%20%20%20%20%3B%0A%0A%20%20%20%20%20%20%20%20%0A%20%20%20%20%0A%20%20%20%20%0A%20%20%20%20%20%20%20%20%20%20%20%20var%20circle_marker_7dbff1509db147c1ae35bbca4995f23c%20%3D%20L.circleMarker%28%0A%20%20%20%20%20%20%20%20%20%20%20%20%20%20%20%20%5B40.71093547252271%2C%20-73.81174822458634%5D%2C%0A%20%20%20%20%20%20%20%20%20%20%20%20%20%20%20%20%7B%22bubblingMouseEvents%22%3A%20true%2C%20%22color%22%3A%20%22blue%22%2C%20%22dashArray%22%3A%20null%2C%20%22dashOffset%22%3A%20null%2C%20%22fill%22%3A%20true%2C%20%22fillColor%22%3A%20%22%233186cc%22%2C%20%22fillOpacity%22%3A%200.7%2C%20%22fillRule%22%3A%20%22evenodd%22%2C%20%22lineCap%22%3A%20%22round%22%2C%20%22lineJoin%22%3A%20%22round%22%2C%20%22opacity%22%3A%201.0%2C%20%22radius%22%3A%205%2C%20%22stroke%22%3A%20true%2C%20%22weight%22%3A%203%7D%0A%20%20%20%20%20%20%20%20%20%20%20%20%29.addTo%28map_da402c8c143c4c8d8a2810a77806f651%29%3B%0A%20%20%20%20%20%20%20%20%0A%20%20%20%20%0A%20%20%20%20%20%20%20%20var%20popup_151c48dbab7e42e580e9e108f3bf79e5%20%3D%20L.popup%28%7B%22maxWidth%22%3A%20%22100%25%22%7D%29%3B%0A%0A%20%20%20%20%20%20%20%20%0A%20%20%20%20%20%20%20%20%20%20%20%20var%20html_c0fe3ed099854f5bbc3dd915ada45d00%20%3D%20%24%28%60%3Cdiv%20id%3D%22html_c0fe3ed099854f5bbc3dd915ada45d00%22%20style%3D%22width%3A%20100.0%25%3B%20height%3A%20100.0%25%3B%22%3EBriarwood%2C%20Queens%3C/div%3E%60%29%5B0%5D%3B%0A%20%20%20%20%20%20%20%20%20%20%20%20popup_151c48dbab7e42e580e9e108f3bf79e5.setContent%28html_c0fe3ed099854f5bbc3dd915ada45d00%29%3B%0A%20%20%20%20%20%20%20%20%0A%0A%20%20%20%20%20%20%20%20circle_marker_7dbff1509db147c1ae35bbca4995f23c.bindPopup%28popup_151c48dbab7e42e580e9e108f3bf79e5%29%0A%20%20%20%20%20%20%20%20%3B%0A%0A%20%20%20%20%20%20%20%20%0A%20%20%20%20%0A%20%20%20%20%0A%20%20%20%20%20%20%20%20%20%20%20%20var%20circle_marker_d0c15c52325042759fd434dbcb5b26b9%20%3D%20L.circleMarker%28%0A%20%20%20%20%20%20%20%20%20%20%20%20%20%20%20%20%5B40.70465736068717%2C%20-73.79690165888289%5D%2C%0A%20%20%20%20%20%20%20%20%20%20%20%20%20%20%20%20%7B%22bubblingMouseEvents%22%3A%20true%2C%20%22color%22%3A%20%22blue%22%2C%20%22dashArray%22%3A%20null%2C%20%22dashOffset%22%3A%20null%2C%20%22fill%22%3A%20true%2C%20%22fillColor%22%3A%20%22%233186cc%22%2C%20%22fillOpacity%22%3A%200.7%2C%20%22fillRule%22%3A%20%22evenodd%22%2C%20%22lineCap%22%3A%20%22round%22%2C%20%22lineJoin%22%3A%20%22round%22%2C%20%22opacity%22%3A%201.0%2C%20%22radius%22%3A%205%2C%20%22stroke%22%3A%20true%2C%20%22weight%22%3A%203%7D%0A%20%20%20%20%20%20%20%20%20%20%20%20%29.addTo%28map_da402c8c143c4c8d8a2810a77806f651%29%3B%0A%20%20%20%20%20%20%20%20%0A%20%20%20%20%0A%20%20%20%20%20%20%20%20var%20popup_d0b6d92b96024753b60e7875aab8a05f%20%3D%20L.popup%28%7B%22maxWidth%22%3A%20%22100%25%22%7D%29%3B%0A%0A%20%20%20%20%20%20%20%20%0A%20%20%20%20%20%20%20%20%20%20%20%20var%20html_bd4f27ebee4d4b8199cbb675931dc4fc%20%3D%20%24%28%60%3Cdiv%20id%3D%22html_bd4f27ebee4d4b8199cbb675931dc4fc%22%20style%3D%22width%3A%20100.0%25%3B%20height%3A%20100.0%25%3B%22%3EJamaica%20Center%2C%20Queens%3C/div%3E%60%29%5B0%5D%3B%0A%20%20%20%20%20%20%20%20%20%20%20%20popup_d0b6d92b96024753b60e7875aab8a05f.setContent%28html_bd4f27ebee4d4b8199cbb675931dc4fc%29%3B%0A%20%20%20%20%20%20%20%20%0A%0A%20%20%20%20%20%20%20%20circle_marker_d0c15c52325042759fd434dbcb5b26b9.bindPopup%28popup_d0b6d92b96024753b60e7875aab8a05f%29%0A%20%20%20%20%20%20%20%20%3B%0A%0A%20%20%20%20%20%20%20%20%0A%20%20%20%20%0A%20%20%20%20%0A%20%20%20%20%20%20%20%20%20%20%20%20var%20circle_marker_bce1f302af1849e6ba4646021ba2d6a1%20%3D%20L.circleMarker%28%0A%20%20%20%20%20%20%20%20%20%20%20%20%20%20%20%20%5B40.74561857141855%2C%20-73.75494976234332%5D%2C%0A%20%20%20%20%20%20%20%20%20%20%20%20%20%20%20%20%7B%22bubblingMouseEvents%22%3A%20true%2C%20%22color%22%3A%20%22blue%22%2C%20%22dashArray%22%3A%20null%2C%20%22dashOffset%22%3A%20null%2C%20%22fill%22%3A%20true%2C%20%22fillColor%22%3A%20%22%233186cc%22%2C%20%22fillOpacity%22%3A%200.7%2C%20%22fillRule%22%3A%20%22evenodd%22%2C%20%22lineCap%22%3A%20%22round%22%2C%20%22lineJoin%22%3A%20%22round%22%2C%20%22opacity%22%3A%201.0%2C%20%22radius%22%3A%205%2C%20%22stroke%22%3A%20true%2C%20%22weight%22%3A%203%7D%0A%20%20%20%20%20%20%20%20%20%20%20%20%29.addTo%28map_da402c8c143c4c8d8a2810a77806f651%29%3B%0A%20%20%20%20%20%20%20%20%0A%20%20%20%20%0A%20%20%20%20%20%20%20%20var%20popup_4f120ce3a42846c4be221f2f107205e4%20%3D%20L.popup%28%7B%22maxWidth%22%3A%20%22100%25%22%7D%29%3B%0A%0A%20%20%20%20%20%20%20%20%0A%20%20%20%20%20%20%20%20%20%20%20%20var%20html_e3ef5c98bff84760b36e5589270f6476%20%3D%20%24%28%60%3Cdiv%20id%3D%22html_e3ef5c98bff84760b36e5589270f6476%22%20style%3D%22width%3A%20100.0%25%3B%20height%3A%20100.0%25%3B%22%3EOakland%20Gardens%2C%20Queens%3C/div%3E%60%29%5B0%5D%3B%0A%20%20%20%20%20%20%20%20%20%20%20%20popup_4f120ce3a42846c4be221f2f107205e4.setContent%28html_e3ef5c98bff84760b36e5589270f6476%29%3B%0A%20%20%20%20%20%20%20%20%0A%0A%20%20%20%20%20%20%20%20circle_marker_bce1f302af1849e6ba4646021ba2d6a1.bindPopup%28popup_4f120ce3a42846c4be221f2f107205e4%29%0A%20%20%20%20%20%20%20%20%3B%0A%0A%20%20%20%20%20%20%20%20%0A%20%20%20%20%0A%20%20%20%20%0A%20%20%20%20%20%20%20%20%20%20%20%20var%20circle_marker_027a950146a1449081717cfdca5ede46%20%3D%20L.circleMarker%28%0A%20%20%20%20%20%20%20%20%20%20%20%20%20%20%20%20%5B40.718893092167356%2C%20-73.73871484578424%5D%2C%0A%20%20%20%20%20%20%20%20%20%20%20%20%20%20%20%20%7B%22bubblingMouseEvents%22%3A%20true%2C%20%22color%22%3A%20%22blue%22%2C%20%22dashArray%22%3A%20null%2C%20%22dashOffset%22%3A%20null%2C%20%22fill%22%3A%20true%2C%20%22fillColor%22%3A%20%22%233186cc%22%2C%20%22fillOpacity%22%3A%200.7%2C%20%22fillRule%22%3A%20%22evenodd%22%2C%20%22lineCap%22%3A%20%22round%22%2C%20%22lineJoin%22%3A%20%22round%22%2C%20%22opacity%22%3A%201.0%2C%20%22radius%22%3A%205%2C%20%22stroke%22%3A%20true%2C%20%22weight%22%3A%203%7D%0A%20%20%20%20%20%20%20%20%20%20%20%20%29.addTo%28map_da402c8c143c4c8d8a2810a77806f651%29%3B%0A%20%20%20%20%20%20%20%20%0A%20%20%20%20%0A%20%20%20%20%20%20%20%20var%20popup_5db9287e59854d2da59df0a16c3e50c7%20%3D%20L.popup%28%7B%22maxWidth%22%3A%20%22100%25%22%7D%29%3B%0A%0A%20%20%20%20%20%20%20%20%0A%20%20%20%20%20%20%20%20%20%20%20%20var%20html_bd0dd7798a334fdfbc872233e354926b%20%3D%20%24%28%60%3Cdiv%20id%3D%22html_bd0dd7798a334fdfbc872233e354926b%22%20style%3D%22width%3A%20100.0%25%3B%20height%3A%20100.0%25%3B%22%3EQueens%20Village%2C%20Queens%3C/div%3E%60%29%5B0%5D%3B%0A%20%20%20%20%20%20%20%20%20%20%20%20popup_5db9287e59854d2da59df0a16c3e50c7.setContent%28html_bd0dd7798a334fdfbc872233e354926b%29%3B%0A%20%20%20%20%20%20%20%20%0A%0A%20%20%20%20%20%20%20%20circle_marker_027a950146a1449081717cfdca5ede46.bindPopup%28popup_5db9287e59854d2da59df0a16c3e50c7%29%0A%20%20%20%20%20%20%20%20%3B%0A%0A%20%20%20%20%20%20%20%20%0A%20%20%20%20%0A%20%20%20%20%0A%20%20%20%20%20%20%20%20%20%20%20%20var%20circle_marker_3962e81475bb47d8addd7de240134fb5%20%3D%20L.circleMarker%28%0A%20%20%20%20%20%20%20%20%20%20%20%20%20%20%20%20%5B40.71124344191904%2C%20-73.75925009335594%5D%2C%0A%20%20%20%20%20%20%20%20%20%20%20%20%20%20%20%20%7B%22bubblingMouseEvents%22%3A%20true%2C%20%22color%22%3A%20%22blue%22%2C%20%22dashArray%22%3A%20null%2C%20%22dashOffset%22%3A%20null%2C%20%22fill%22%3A%20true%2C%20%22fillColor%22%3A%20%22%233186cc%22%2C%20%22fillOpacity%22%3A%200.7%2C%20%22fillRule%22%3A%20%22evenodd%22%2C%20%22lineCap%22%3A%20%22round%22%2C%20%22lineJoin%22%3A%20%22round%22%2C%20%22opacity%22%3A%201.0%2C%20%22radius%22%3A%205%2C%20%22stroke%22%3A%20true%2C%20%22weight%22%3A%203%7D%0A%20%20%20%20%20%20%20%20%20%20%20%20%29.addTo%28map_da402c8c143c4c8d8a2810a77806f651%29%3B%0A%20%20%20%20%20%20%20%20%0A%20%20%20%20%0A%20%20%20%20%20%20%20%20var%20popup_2c2848b7e839467285ddae5445cf9190%20%3D%20L.popup%28%7B%22maxWidth%22%3A%20%22100%25%22%7D%29%3B%0A%0A%20%20%20%20%20%20%20%20%0A%20%20%20%20%20%20%20%20%20%20%20%20var%20html_7bb44d35dc194ebf87e6f0c6502ac377%20%3D%20%24%28%60%3Cdiv%20id%3D%22html_7bb44d35dc194ebf87e6f0c6502ac377%22%20style%3D%22width%3A%20100.0%25%3B%20height%3A%20100.0%25%3B%22%3EHollis%2C%20Queens%3C/div%3E%60%29%5B0%5D%3B%0A%20%20%20%20%20%20%20%20%20%20%20%20popup_2c2848b7e839467285ddae5445cf9190.setContent%28html_7bb44d35dc194ebf87e6f0c6502ac377%29%3B%0A%20%20%20%20%20%20%20%20%0A%0A%20%20%20%20%20%20%20%20circle_marker_3962e81475bb47d8addd7de240134fb5.bindPopup%28popup_2c2848b7e839467285ddae5445cf9190%29%0A%20%20%20%20%20%20%20%20%3B%0A%0A%20%20%20%20%20%20%20%20%0A%20%20%20%20%0A%20%20%20%20%0A%20%20%20%20%20%20%20%20%20%20%20%20var%20circle_marker_9433b61c443c4269a72d30fb0708074a%20%3D%20L.circleMarker%28%0A%20%20%20%20%20%20%20%20%20%20%20%20%20%20%20%20%5B40.696911253789885%2C%20-73.7904261313554%5D%2C%0A%20%20%20%20%20%20%20%20%20%20%20%20%20%20%20%20%7B%22bubblingMouseEvents%22%3A%20true%2C%20%22color%22%3A%20%22blue%22%2C%20%22dashArray%22%3A%20null%2C%20%22dashOffset%22%3A%20null%2C%20%22fill%22%3A%20true%2C%20%22fillColor%22%3A%20%22%233186cc%22%2C%20%22fillOpacity%22%3A%200.7%2C%20%22fillRule%22%3A%20%22evenodd%22%2C%20%22lineCap%22%3A%20%22round%22%2C%20%22lineJoin%22%3A%20%22round%22%2C%20%22opacity%22%3A%201.0%2C%20%22radius%22%3A%205%2C%20%22stroke%22%3A%20true%2C%20%22weight%22%3A%203%7D%0A%20%20%20%20%20%20%20%20%20%20%20%20%29.addTo%28map_da402c8c143c4c8d8a2810a77806f651%29%3B%0A%20%20%20%20%20%20%20%20%0A%20%20%20%20%0A%20%20%20%20%20%20%20%20var%20popup_40e023c076684d6cab1090faa62090bd%20%3D%20L.popup%28%7B%22maxWidth%22%3A%20%22100%25%22%7D%29%3B%0A%0A%20%20%20%20%20%20%20%20%0A%20%20%20%20%20%20%20%20%20%20%20%20var%20html_fe75314650e649b79889d7775b9f64c0%20%3D%20%24%28%60%3Cdiv%20id%3D%22html_fe75314650e649b79889d7775b9f64c0%22%20style%3D%22width%3A%20100.0%25%3B%20height%3A%20100.0%25%3B%22%3ESouth%20Jamaica%2C%20Queens%3C/div%3E%60%29%5B0%5D%3B%0A%20%20%20%20%20%20%20%20%20%20%20%20popup_40e023c076684d6cab1090faa62090bd.setContent%28html_fe75314650e649b79889d7775b9f64c0%29%3B%0A%20%20%20%20%20%20%20%20%0A%0A%20%20%20%20%20%20%20%20circle_marker_9433b61c443c4269a72d30fb0708074a.bindPopup%28popup_40e023c076684d6cab1090faa62090bd%29%0A%20%20%20%20%20%20%20%20%3B%0A%0A%20%20%20%20%20%20%20%20%0A%20%20%20%20%0A%20%20%20%20%0A%20%20%20%20%20%20%20%20%20%20%20%20var%20circle_marker_97cc48c085bd40c9abf184aa34fe0b0c%20%3D%20L.circleMarker%28%0A%20%20%20%20%20%20%20%20%20%20%20%20%20%20%20%20%5B40.69444538522359%2C%20-73.75867603727717%5D%2C%0A%20%20%20%20%20%20%20%20%20%20%20%20%20%20%20%20%7B%22bubblingMouseEvents%22%3A%20true%2C%20%22color%22%3A%20%22blue%22%2C%20%22dashArray%22%3A%20null%2C%20%22dashOffset%22%3A%20null%2C%20%22fill%22%3A%20true%2C%20%22fillColor%22%3A%20%22%233186cc%22%2C%20%22fillOpacity%22%3A%200.7%2C%20%22fillRule%22%3A%20%22evenodd%22%2C%20%22lineCap%22%3A%20%22round%22%2C%20%22lineJoin%22%3A%20%22round%22%2C%20%22opacity%22%3A%201.0%2C%20%22radius%22%3A%205%2C%20%22stroke%22%3A%20true%2C%20%22weight%22%3A%203%7D%0A%20%20%20%20%20%20%20%20%20%20%20%20%29.addTo%28map_da402c8c143c4c8d8a2810a77806f651%29%3B%0A%20%20%20%20%20%20%20%20%0A%20%20%20%20%0A%20%20%20%20%20%20%20%20var%20popup_11584ec6ebc640de997f865cf256e70c%20%3D%20L.popup%28%7B%22maxWidth%22%3A%20%22100%25%22%7D%29%3B%0A%0A%20%20%20%20%20%20%20%20%0A%20%20%20%20%20%20%20%20%20%20%20%20var%20html_2dca76a05afc458098752fc64047dfb1%20%3D%20%24%28%60%3Cdiv%20id%3D%22html_2dca76a05afc458098752fc64047dfb1%22%20style%3D%22width%3A%20100.0%25%3B%20height%3A%20100.0%25%3B%22%3ESt.%20Albans%2C%20Queens%3C/div%3E%60%29%5B0%5D%3B%0A%20%20%20%20%20%20%20%20%20%20%20%20popup_11584ec6ebc640de997f865cf256e70c.setContent%28html_2dca76a05afc458098752fc64047dfb1%29%3B%0A%20%20%20%20%20%20%20%20%0A%0A%20%20%20%20%20%20%20%20circle_marker_97cc48c085bd40c9abf184aa34fe0b0c.bindPopup%28popup_11584ec6ebc640de997f865cf256e70c%29%0A%20%20%20%20%20%20%20%20%3B%0A%0A%20%20%20%20%20%20%20%20%0A%20%20%20%20%0A%20%20%20%20%0A%20%20%20%20%20%20%20%20%20%20%20%20var%20circle_marker_891d8614a2a54428a5739f8f76054847%20%3D%20L.circleMarker%28%0A%20%20%20%20%20%20%20%20%20%20%20%20%20%20%20%20%5B40.67521139591733%2C%20-73.77258787620906%5D%2C%0A%20%20%20%20%20%20%20%20%20%20%20%20%20%20%20%20%7B%22bubblingMouseEvents%22%3A%20true%2C%20%22color%22%3A%20%22blue%22%2C%20%22dashArray%22%3A%20null%2C%20%22dashOffset%22%3A%20null%2C%20%22fill%22%3A%20true%2C%20%22fillColor%22%3A%20%22%233186cc%22%2C%20%22fillOpacity%22%3A%200.7%2C%20%22fillRule%22%3A%20%22evenodd%22%2C%20%22lineCap%22%3A%20%22round%22%2C%20%22lineJoin%22%3A%20%22round%22%2C%20%22opacity%22%3A%201.0%2C%20%22radius%22%3A%205%2C%20%22stroke%22%3A%20true%2C%20%22weight%22%3A%203%7D%0A%20%20%20%20%20%20%20%20%20%20%20%20%29.addTo%28map_da402c8c143c4c8d8a2810a77806f651%29%3B%0A%20%20%20%20%20%20%20%20%0A%20%20%20%20%0A%20%20%20%20%20%20%20%20var%20popup_4270d919c21f4b86ab08148c8cc16c63%20%3D%20L.popup%28%7B%22maxWidth%22%3A%20%22100%25%22%7D%29%3B%0A%0A%20%20%20%20%20%20%20%20%0A%20%20%20%20%20%20%20%20%20%20%20%20var%20html_1f4f58fe35674da8b716c6b5cd7a5b3b%20%3D%20%24%28%60%3Cdiv%20id%3D%22html_1f4f58fe35674da8b716c6b5cd7a5b3b%22%20style%3D%22width%3A%20100.0%25%3B%20height%3A%20100.0%25%3B%22%3ERochdale%2C%20Queens%3C/div%3E%60%29%5B0%5D%3B%0A%20%20%20%20%20%20%20%20%20%20%20%20popup_4270d919c21f4b86ab08148c8cc16c63.setContent%28html_1f4f58fe35674da8b716c6b5cd7a5b3b%29%3B%0A%20%20%20%20%20%20%20%20%0A%0A%20%20%20%20%20%20%20%20circle_marker_891d8614a2a54428a5739f8f76054847.bindPopup%28popup_4270d919c21f4b86ab08148c8cc16c63%29%0A%20%20%20%20%20%20%20%20%3B%0A%0A%20%20%20%20%20%20%20%20%0A%20%20%20%20%0A%20%20%20%20%0A%20%20%20%20%20%20%20%20%20%20%20%20var%20circle_marker_fbab81f11f78400ebe257a565c512890%20%3D%20L.circleMarker%28%0A%20%20%20%20%20%20%20%20%20%20%20%20%20%20%20%20%5B40.666230490368584%2C%20-73.76042092682287%5D%2C%0A%20%20%20%20%20%20%20%20%20%20%20%20%20%20%20%20%7B%22bubblingMouseEvents%22%3A%20true%2C%20%22color%22%3A%20%22blue%22%2C%20%22dashArray%22%3A%20null%2C%20%22dashOffset%22%3A%20null%2C%20%22fill%22%3A%20true%2C%20%22fillColor%22%3A%20%22%233186cc%22%2C%20%22fillOpacity%22%3A%200.7%2C%20%22fillRule%22%3A%20%22evenodd%22%2C%20%22lineCap%22%3A%20%22round%22%2C%20%22lineJoin%22%3A%20%22round%22%2C%20%22opacity%22%3A%201.0%2C%20%22radius%22%3A%205%2C%20%22stroke%22%3A%20true%2C%20%22weight%22%3A%203%7D%0A%20%20%20%20%20%20%20%20%20%20%20%20%29.addTo%28map_da402c8c143c4c8d8a2810a77806f651%29%3B%0A%20%20%20%20%20%20%20%20%0A%20%20%20%20%0A%20%20%20%20%20%20%20%20var%20popup_c114a7cae51343a59e8f3e81b699dc05%20%3D%20L.popup%28%7B%22maxWidth%22%3A%20%22100%25%22%7D%29%3B%0A%0A%20%20%20%20%20%20%20%20%0A%20%20%20%20%20%20%20%20%20%20%20%20var%20html_7e5d2cd8eb944ff3a3d532ec76421748%20%3D%20%24%28%60%3Cdiv%20id%3D%22html_7e5d2cd8eb944ff3a3d532ec76421748%22%20style%3D%22width%3A%20100.0%25%3B%20height%3A%20100.0%25%3B%22%3ESpringfield%20Gardens%2C%20Queens%3C/div%3E%60%29%5B0%5D%3B%0A%20%20%20%20%20%20%20%20%20%20%20%20popup_c114a7cae51343a59e8f3e81b699dc05.setContent%28html_7e5d2cd8eb944ff3a3d532ec76421748%29%3B%0A%20%20%20%20%20%20%20%20%0A%0A%20%20%20%20%20%20%20%20circle_marker_fbab81f11f78400ebe257a565c512890.bindPopup%28popup_c114a7cae51343a59e8f3e81b699dc05%29%0A%20%20%20%20%20%20%20%20%3B%0A%0A%20%20%20%20%20%20%20%20%0A%20%20%20%20%0A%20%20%20%20%0A%20%20%20%20%20%20%20%20%20%20%20%20var%20circle_marker_fd7741698d1549708c4fb4a5cc736e4b%20%3D%20L.circleMarker%28%0A%20%20%20%20%20%20%20%20%20%20%20%20%20%20%20%20%5B40.692774639160845%2C%20-73.73526873708026%5D%2C%0A%20%20%20%20%20%20%20%20%20%20%20%20%20%20%20%20%7B%22bubblingMouseEvents%22%3A%20true%2C%20%22color%22%3A%20%22blue%22%2C%20%22dashArray%22%3A%20null%2C%20%22dashOffset%22%3A%20null%2C%20%22fill%22%3A%20true%2C%20%22fillColor%22%3A%20%22%233186cc%22%2C%20%22fillOpacity%22%3A%200.7%2C%20%22fillRule%22%3A%20%22evenodd%22%2C%20%22lineCap%22%3A%20%22round%22%2C%20%22lineJoin%22%3A%20%22round%22%2C%20%22opacity%22%3A%201.0%2C%20%22radius%22%3A%205%2C%20%22stroke%22%3A%20true%2C%20%22weight%22%3A%203%7D%0A%20%20%20%20%20%20%20%20%20%20%20%20%29.addTo%28map_da402c8c143c4c8d8a2810a77806f651%29%3B%0A%20%20%20%20%20%20%20%20%0A%20%20%20%20%0A%20%20%20%20%20%20%20%20var%20popup_774ea8e8209047c7a79ffa38528a40b1%20%3D%20L.popup%28%7B%22maxWidth%22%3A%20%22100%25%22%7D%29%3B%0A%0A%20%20%20%20%20%20%20%20%0A%20%20%20%20%20%20%20%20%20%20%20%20var%20html_7cf62b77c2454450847210f5db8977af%20%3D%20%24%28%60%3Cdiv%20id%3D%22html_7cf62b77c2454450847210f5db8977af%22%20style%3D%22width%3A%20100.0%25%3B%20height%3A%20100.0%25%3B%22%3ECambria%20Heights%2C%20Queens%3C/div%3E%60%29%5B0%5D%3B%0A%20%20%20%20%20%20%20%20%20%20%20%20popup_774ea8e8209047c7a79ffa38528a40b1.setContent%28html_7cf62b77c2454450847210f5db8977af%29%3B%0A%20%20%20%20%20%20%20%20%0A%0A%20%20%20%20%20%20%20%20circle_marker_fd7741698d1549708c4fb4a5cc736e4b.bindPopup%28popup_774ea8e8209047c7a79ffa38528a40b1%29%0A%20%20%20%20%20%20%20%20%3B%0A%0A%20%20%20%20%20%20%20%20%0A%20%20%20%20%0A%20%20%20%20%0A%20%20%20%20%20%20%20%20%20%20%20%20var%20circle_marker_f8921015729c4358bc6a4d16138affea%20%3D%20L.circleMarker%28%0A%20%20%20%20%20%20%20%20%20%20%20%20%20%20%20%20%5B40.659816433428084%2C%20-73.73526079428278%5D%2C%0A%20%20%20%20%20%20%20%20%20%20%20%20%20%20%20%20%7B%22bubblingMouseEvents%22%3A%20true%2C%20%22color%22%3A%20%22blue%22%2C%20%22dashArray%22%3A%20null%2C%20%22dashOffset%22%3A%20null%2C%20%22fill%22%3A%20true%2C%20%22fillColor%22%3A%20%22%233186cc%22%2C%20%22fillOpacity%22%3A%200.7%2C%20%22fillRule%22%3A%20%22evenodd%22%2C%20%22lineCap%22%3A%20%22round%22%2C%20%22lineJoin%22%3A%20%22round%22%2C%20%22opacity%22%3A%201.0%2C%20%22radius%22%3A%205%2C%20%22stroke%22%3A%20true%2C%20%22weight%22%3A%203%7D%0A%20%20%20%20%20%20%20%20%20%20%20%20%29.addTo%28map_da402c8c143c4c8d8a2810a77806f651%29%3B%0A%20%20%20%20%20%20%20%20%0A%20%20%20%20%0A%20%20%20%20%20%20%20%20var%20popup_ec70fe8a76a54d18ac029e32decf17c2%20%3D%20L.popup%28%7B%22maxWidth%22%3A%20%22100%25%22%7D%29%3B%0A%0A%20%20%20%20%20%20%20%20%0A%20%20%20%20%20%20%20%20%20%20%20%20var%20html_dd869d54dff04aad86746bee1464392c%20%3D%20%24%28%60%3Cdiv%20id%3D%22html_dd869d54dff04aad86746bee1464392c%22%20style%3D%22width%3A%20100.0%25%3B%20height%3A%20100.0%25%3B%22%3ERosedale%2C%20Queens%3C/div%3E%60%29%5B0%5D%3B%0A%20%20%20%20%20%20%20%20%20%20%20%20popup_ec70fe8a76a54d18ac029e32decf17c2.setContent%28html_dd869d54dff04aad86746bee1464392c%29%3B%0A%20%20%20%20%20%20%20%20%0A%0A%20%20%20%20%20%20%20%20circle_marker_f8921015729c4358bc6a4d16138affea.bindPopup%28popup_ec70fe8a76a54d18ac029e32decf17c2%29%0A%20%20%20%20%20%20%20%20%3B%0A%0A%20%20%20%20%20%20%20%20%0A%20%20%20%20%0A%20%20%20%20%0A%20%20%20%20%20%20%20%20%20%20%20%20var%20circle_marker_8953133cf74b45d6b1a604ae3fb788fe%20%3D%20L.circleMarker%28%0A%20%20%20%20%20%20%20%20%20%20%20%20%20%20%20%20%5B40.603134432500894%2C%20-73.75497968043872%5D%2C%0A%20%20%20%20%20%20%20%20%20%20%20%20%20%20%20%20%7B%22bubblingMouseEvents%22%3A%20true%2C%20%22color%22%3A%20%22blue%22%2C%20%22dashArray%22%3A%20null%2C%20%22dashOffset%22%3A%20null%2C%20%22fill%22%3A%20true%2C%20%22fillColor%22%3A%20%22%233186cc%22%2C%20%22fillOpacity%22%3A%200.7%2C%20%22fillRule%22%3A%20%22evenodd%22%2C%20%22lineCap%22%3A%20%22round%22%2C%20%22lineJoin%22%3A%20%22round%22%2C%20%22opacity%22%3A%201.0%2C%20%22radius%22%3A%205%2C%20%22stroke%22%3A%20true%2C%20%22weight%22%3A%203%7D%0A%20%20%20%20%20%20%20%20%20%20%20%20%29.addTo%28map_da402c8c143c4c8d8a2810a77806f651%29%3B%0A%20%20%20%20%20%20%20%20%0A%20%20%20%20%0A%20%20%20%20%20%20%20%20var%20popup_9ac8ddfe70ec40c4a99c0e32b80de6d7%20%3D%20L.popup%28%7B%22maxWidth%22%3A%20%22100%25%22%7D%29%3B%0A%0A%20%20%20%20%20%20%20%20%0A%20%20%20%20%20%20%20%20%20%20%20%20var%20html_02926b4c8acb4fb28a6d8052768651fc%20%3D%20%24%28%60%3Cdiv%20id%3D%22html_02926b4c8acb4fb28a6d8052768651fc%22%20style%3D%22width%3A%20100.0%25%3B%20height%3A%20100.0%25%3B%22%3EFar%20Rockaway%2C%20Queens%3C/div%3E%60%29%5B0%5D%3B%0A%20%20%20%20%20%20%20%20%20%20%20%20popup_9ac8ddfe70ec40c4a99c0e32b80de6d7.setContent%28html_02926b4c8acb4fb28a6d8052768651fc%29%3B%0A%20%20%20%20%20%20%20%20%0A%0A%20%20%20%20%20%20%20%20circle_marker_8953133cf74b45d6b1a604ae3fb788fe.bindPopup%28popup_9ac8ddfe70ec40c4a99c0e32b80de6d7%29%0A%20%20%20%20%20%20%20%20%3B%0A%0A%20%20%20%20%20%20%20%20%0A%20%20%20%20%0A%20%20%20%20%0A%20%20%20%20%20%20%20%20%20%20%20%20var%20circle_marker_20674bba9b4048249af88add2e6fe69b%20%3D%20L.circleMarker%28%0A%20%20%20%20%20%20%20%20%20%20%20%20%20%20%20%20%5B40.60302658351238%2C%20-73.8200548911032%5D%2C%0A%20%20%20%20%20%20%20%20%20%20%20%20%20%20%20%20%7B%22bubblingMouseEvents%22%3A%20true%2C%20%22color%22%3A%20%22blue%22%2C%20%22dashArray%22%3A%20null%2C%20%22dashOffset%22%3A%20null%2C%20%22fill%22%3A%20true%2C%20%22fillColor%22%3A%20%22%233186cc%22%2C%20%22fillOpacity%22%3A%200.7%2C%20%22fillRule%22%3A%20%22evenodd%22%2C%20%22lineCap%22%3A%20%22round%22%2C%20%22lineJoin%22%3A%20%22round%22%2C%20%22opacity%22%3A%201.0%2C%20%22radius%22%3A%205%2C%20%22stroke%22%3A%20true%2C%20%22weight%22%3A%203%7D%0A%20%20%20%20%20%20%20%20%20%20%20%20%29.addTo%28map_da402c8c143c4c8d8a2810a77806f651%29%3B%0A%20%20%20%20%20%20%20%20%0A%20%20%20%20%0A%20%20%20%20%20%20%20%20var%20popup_1b50537992194406b98a6e6b28b580f0%20%3D%20L.popup%28%7B%22maxWidth%22%3A%20%22100%25%22%7D%29%3B%0A%0A%20%20%20%20%20%20%20%20%0A%20%20%20%20%20%20%20%20%20%20%20%20var%20html_e08c0c67bdc44168b5109e64e644af7c%20%3D%20%24%28%60%3Cdiv%20id%3D%22html_e08c0c67bdc44168b5109e64e644af7c%22%20style%3D%22width%3A%20100.0%25%3B%20height%3A%20100.0%25%3B%22%3EBroad%20Channel%2C%20Queens%3C/div%3E%60%29%5B0%5D%3B%0A%20%20%20%20%20%20%20%20%20%20%20%20popup_1b50537992194406b98a6e6b28b580f0.setContent%28html_e08c0c67bdc44168b5109e64e644af7c%29%3B%0A%20%20%20%20%20%20%20%20%0A%0A%20%20%20%20%20%20%20%20circle_marker_20674bba9b4048249af88add2e6fe69b.bindPopup%28popup_1b50537992194406b98a6e6b28b580f0%29%0A%20%20%20%20%20%20%20%20%3B%0A%0A%20%20%20%20%20%20%20%20%0A%20%20%20%20%0A%20%20%20%20%0A%20%20%20%20%20%20%20%20%20%20%20%20var%20circle_marker_4d218e674b4b44c8895d2b74421f87f9%20%3D%20L.circleMarker%28%0A%20%20%20%20%20%20%20%20%20%20%20%20%20%20%20%20%5B40.55740128845452%2C%20-73.92551196994168%5D%2C%0A%20%20%20%20%20%20%20%20%20%20%20%20%20%20%20%20%7B%22bubblingMouseEvents%22%3A%20true%2C%20%22color%22%3A%20%22blue%22%2C%20%22dashArray%22%3A%20null%2C%20%22dashOffset%22%3A%20null%2C%20%22fill%22%3A%20true%2C%20%22fillColor%22%3A%20%22%233186cc%22%2C%20%22fillOpacity%22%3A%200.7%2C%20%22fillRule%22%3A%20%22evenodd%22%2C%20%22lineCap%22%3A%20%22round%22%2C%20%22lineJoin%22%3A%20%22round%22%2C%20%22opacity%22%3A%201.0%2C%20%22radius%22%3A%205%2C%20%22stroke%22%3A%20true%2C%20%22weight%22%3A%203%7D%0A%20%20%20%20%20%20%20%20%20%20%20%20%29.addTo%28map_da402c8c143c4c8d8a2810a77806f651%29%3B%0A%20%20%20%20%20%20%20%20%0A%20%20%20%20%0A%20%20%20%20%20%20%20%20var%20popup_e5a69476304f44d6ae383dbd437beb93%20%3D%20L.popup%28%7B%22maxWidth%22%3A%20%22100%25%22%7D%29%3B%0A%0A%20%20%20%20%20%20%20%20%0A%20%20%20%20%20%20%20%20%20%20%20%20var%20html_5e9cd03d6aa741b196defaccad2ee979%20%3D%20%24%28%60%3Cdiv%20id%3D%22html_5e9cd03d6aa741b196defaccad2ee979%22%20style%3D%22width%3A%20100.0%25%3B%20height%3A%20100.0%25%3B%22%3EBreezy%20Point%2C%20Queens%3C/div%3E%60%29%5B0%5D%3B%0A%20%20%20%20%20%20%20%20%20%20%20%20popup_e5a69476304f44d6ae383dbd437beb93.setContent%28html_5e9cd03d6aa741b196defaccad2ee979%29%3B%0A%20%20%20%20%20%20%20%20%0A%0A%20%20%20%20%20%20%20%20circle_marker_4d218e674b4b44c8895d2b74421f87f9.bindPopup%28popup_e5a69476304f44d6ae383dbd437beb93%29%0A%20%20%20%20%20%20%20%20%3B%0A%0A%20%20%20%20%20%20%20%20%0A%20%20%20%20%0A%20%20%20%20%0A%20%20%20%20%20%20%20%20%20%20%20%20var%20circle_marker_ae2e9caf03d0446eb5080cfe06ced6f5%20%3D%20L.circleMarker%28%0A%20%20%20%20%20%20%20%20%20%20%20%20%20%20%20%20%5B40.775923015642896%2C%20-73.90228960391673%5D%2C%0A%20%20%20%20%20%20%20%20%20%20%20%20%20%20%20%20%7B%22bubblingMouseEvents%22%3A%20true%2C%20%22color%22%3A%20%22blue%22%2C%20%22dashArray%22%3A%20null%2C%20%22dashOffset%22%3A%20null%2C%20%22fill%22%3A%20true%2C%20%22fillColor%22%3A%20%22%233186cc%22%2C%20%22fillOpacity%22%3A%200.7%2C%20%22fillRule%22%3A%20%22evenodd%22%2C%20%22lineCap%22%3A%20%22round%22%2C%20%22lineJoin%22%3A%20%22round%22%2C%20%22opacity%22%3A%201.0%2C%20%22radius%22%3A%205%2C%20%22stroke%22%3A%20true%2C%20%22weight%22%3A%203%7D%0A%20%20%20%20%20%20%20%20%20%20%20%20%29.addTo%28map_da402c8c143c4c8d8a2810a77806f651%29%3B%0A%20%20%20%20%20%20%20%20%0A%20%20%20%20%0A%20%20%20%20%20%20%20%20var%20popup_c96c2afa7a2548bd8c8da69271408f2a%20%3D%20L.popup%28%7B%22maxWidth%22%3A%20%22100%25%22%7D%29%3B%0A%0A%20%20%20%20%20%20%20%20%0A%20%20%20%20%20%20%20%20%20%20%20%20var%20html_9963af7fd3f044e38b460921ec5e5079%20%3D%20%24%28%60%3Cdiv%20id%3D%22html_9963af7fd3f044e38b460921ec5e5079%22%20style%3D%22width%3A%20100.0%25%3B%20height%3A%20100.0%25%3B%22%3ESteinway%2C%20Queens%3C/div%3E%60%29%5B0%5D%3B%0A%20%20%20%20%20%20%20%20%20%20%20%20popup_c96c2afa7a2548bd8c8da69271408f2a.setContent%28html_9963af7fd3f044e38b460921ec5e5079%29%3B%0A%20%20%20%20%20%20%20%20%0A%0A%20%20%20%20%20%20%20%20circle_marker_ae2e9caf03d0446eb5080cfe06ced6f5.bindPopup%28popup_c96c2afa7a2548bd8c8da69271408f2a%29%0A%20%20%20%20%20%20%20%20%3B%0A%0A%20%20%20%20%20%20%20%20%0A%20%20%20%20%0A%20%20%20%20%0A%20%20%20%20%20%20%20%20%20%20%20%20var%20circle_marker_6e9a40c5074e4d32a0af34afe018fe28%20%3D%20L.circleMarker%28%0A%20%20%20%20%20%20%20%20%20%20%20%20%20%20%20%20%5B40.79278140360048%2C%20-73.80436451720988%5D%2C%0A%20%20%20%20%20%20%20%20%20%20%20%20%20%20%20%20%7B%22bubblingMouseEvents%22%3A%20true%2C%20%22color%22%3A%20%22blue%22%2C%20%22dashArray%22%3A%20null%2C%20%22dashOffset%22%3A%20null%2C%20%22fill%22%3A%20true%2C%20%22fillColor%22%3A%20%22%233186cc%22%2C%20%22fillOpacity%22%3A%200.7%2C%20%22fillRule%22%3A%20%22evenodd%22%2C%20%22lineCap%22%3A%20%22round%22%2C%20%22lineJoin%22%3A%20%22round%22%2C%20%22opacity%22%3A%201.0%2C%20%22radius%22%3A%205%2C%20%22stroke%22%3A%20true%2C%20%22weight%22%3A%203%7D%0A%20%20%20%20%20%20%20%20%20%20%20%20%29.addTo%28map_da402c8c143c4c8d8a2810a77806f651%29%3B%0A%20%20%20%20%20%20%20%20%0A%20%20%20%20%0A%20%20%20%20%20%20%20%20var%20popup_db01a07cc2434a5dab73faeb84e5d3ae%20%3D%20L.popup%28%7B%22maxWidth%22%3A%20%22100%25%22%7D%29%3B%0A%0A%20%20%20%20%20%20%20%20%0A%20%20%20%20%20%20%20%20%20%20%20%20var%20html_d8c9c0d967a2464989b73d4567f0070f%20%3D%20%24%28%60%3Cdiv%20id%3D%22html_d8c9c0d967a2464989b73d4567f0070f%22%20style%3D%22width%3A%20100.0%25%3B%20height%3A%20100.0%25%3B%22%3EBeechhurst%2C%20Queens%3C/div%3E%60%29%5B0%5D%3B%0A%20%20%20%20%20%20%20%20%20%20%20%20popup_db01a07cc2434a5dab73faeb84e5d3ae.setContent%28html_d8c9c0d967a2464989b73d4567f0070f%29%3B%0A%20%20%20%20%20%20%20%20%0A%0A%20%20%20%20%20%20%20%20circle_marker_6e9a40c5074e4d32a0af34afe018fe28.bindPopup%28popup_db01a07cc2434a5dab73faeb84e5d3ae%29%0A%20%20%20%20%20%20%20%20%3B%0A%0A%20%20%20%20%20%20%20%20%0A%20%20%20%20%0A%20%20%20%20%0A%20%20%20%20%20%20%20%20%20%20%20%20var%20circle_marker_1edb48f269c9410181dc72051b7ebf31%20%3D%20L.circleMarker%28%0A%20%20%20%20%20%20%20%20%20%20%20%20%20%20%20%20%5B40.782842806245554%2C%20-73.7768022262158%5D%2C%0A%20%20%20%20%20%20%20%20%20%20%20%20%20%20%20%20%7B%22bubblingMouseEvents%22%3A%20true%2C%20%22color%22%3A%20%22blue%22%2C%20%22dashArray%22%3A%20null%2C%20%22dashOffset%22%3A%20null%2C%20%22fill%22%3A%20true%2C%20%22fillColor%22%3A%20%22%233186cc%22%2C%20%22fillOpacity%22%3A%200.7%2C%20%22fillRule%22%3A%20%22evenodd%22%2C%20%22lineCap%22%3A%20%22round%22%2C%20%22lineJoin%22%3A%20%22round%22%2C%20%22opacity%22%3A%201.0%2C%20%22radius%22%3A%205%2C%20%22stroke%22%3A%20true%2C%20%22weight%22%3A%203%7D%0A%20%20%20%20%20%20%20%20%20%20%20%20%29.addTo%28map_da402c8c143c4c8d8a2810a77806f651%29%3B%0A%20%20%20%20%20%20%20%20%0A%20%20%20%20%0A%20%20%20%20%20%20%20%20var%20popup_a8804b576efe47fc8e8b979c1bf28110%20%3D%20L.popup%28%7B%22maxWidth%22%3A%20%22100%25%22%7D%29%3B%0A%0A%20%20%20%20%20%20%20%20%0A%20%20%20%20%20%20%20%20%20%20%20%20var%20html_749941ab996c4138b7fb9f7dea2eea15%20%3D%20%24%28%60%3Cdiv%20id%3D%22html_749941ab996c4138b7fb9f7dea2eea15%22%20style%3D%22width%3A%20100.0%25%3B%20height%3A%20100.0%25%3B%22%3EBay%20Terrace%2C%20Queens%3C/div%3E%60%29%5B0%5D%3B%0A%20%20%20%20%20%20%20%20%20%20%20%20popup_a8804b576efe47fc8e8b979c1bf28110.setContent%28html_749941ab996c4138b7fb9f7dea2eea15%29%3B%0A%20%20%20%20%20%20%20%20%0A%0A%20%20%20%20%20%20%20%20circle_marker_1edb48f269c9410181dc72051b7ebf31.bindPopup%28popup_a8804b576efe47fc8e8b979c1bf28110%29%0A%20%20%20%20%20%20%20%20%3B%0A%0A%20%20%20%20%20%20%20%20%0A%20%20%20%20%0A%20%20%20%20%0A%20%20%20%20%20%20%20%20%20%20%20%20var%20circle_marker_57c9fa7a6c2f49a3a1a89f7d571ae9c7%20%3D%20L.circleMarker%28%0A%20%20%20%20%20%20%20%20%20%20%20%20%20%20%20%20%5B40.595641807368494%2C%20-73.77613282391705%5D%2C%0A%20%20%20%20%20%20%20%20%20%20%20%20%20%20%20%20%7B%22bubblingMouseEvents%22%3A%20true%2C%20%22color%22%3A%20%22blue%22%2C%20%22dashArray%22%3A%20null%2C%20%22dashOffset%22%3A%20null%2C%20%22fill%22%3A%20true%2C%20%22fillColor%22%3A%20%22%233186cc%22%2C%20%22fillOpacity%22%3A%200.7%2C%20%22fillRule%22%3A%20%22evenodd%22%2C%20%22lineCap%22%3A%20%22round%22%2C%20%22lineJoin%22%3A%20%22round%22%2C%20%22opacity%22%3A%201.0%2C%20%22radius%22%3A%205%2C%20%22stroke%22%3A%20true%2C%20%22weight%22%3A%203%7D%0A%20%20%20%20%20%20%20%20%20%20%20%20%29.addTo%28map_da402c8c143c4c8d8a2810a77806f651%29%3B%0A%20%20%20%20%20%20%20%20%0A%20%20%20%20%0A%20%20%20%20%20%20%20%20var%20popup_2daea805a4ae4ab08dcb0d2a00eeade7%20%3D%20L.popup%28%7B%22maxWidth%22%3A%20%22100%25%22%7D%29%3B%0A%0A%20%20%20%20%20%20%20%20%0A%20%20%20%20%20%20%20%20%20%20%20%20var%20html_8b90e4e20bdf4058a1bcf2b13b3addf7%20%3D%20%24%28%60%3Cdiv%20id%3D%22html_8b90e4e20bdf4058a1bcf2b13b3addf7%22%20style%3D%22width%3A%20100.0%25%3B%20height%3A%20100.0%25%3B%22%3EEdgemere%2C%20Queens%3C/div%3E%60%29%5B0%5D%3B%0A%20%20%20%20%20%20%20%20%20%20%20%20popup_2daea805a4ae4ab08dcb0d2a00eeade7.setContent%28html_8b90e4e20bdf4058a1bcf2b13b3addf7%29%3B%0A%20%20%20%20%20%20%20%20%0A%0A%20%20%20%20%20%20%20%20circle_marker_57c9fa7a6c2f49a3a1a89f7d571ae9c7.bindPopup%28popup_2daea805a4ae4ab08dcb0d2a00eeade7%29%0A%20%20%20%20%20%20%20%20%3B%0A%0A%20%20%20%20%20%20%20%20%0A%20%20%20%20%0A%20%20%20%20%0A%20%20%20%20%20%20%20%20%20%20%20%20var%20circle_marker_90433f07e6134985a595e3745e1a1a33%20%3D%20L.circleMarker%28%0A%20%20%20%20%20%20%20%20%20%20%20%20%20%20%20%20%5B40.58914394372971%2C%20-73.79199233136943%5D%2C%0A%20%20%20%20%20%20%20%20%20%20%20%20%20%20%20%20%7B%22bubblingMouseEvents%22%3A%20true%2C%20%22color%22%3A%20%22blue%22%2C%20%22dashArray%22%3A%20null%2C%20%22dashOffset%22%3A%20null%2C%20%22fill%22%3A%20true%2C%20%22fillColor%22%3A%20%22%233186cc%22%2C%20%22fillOpacity%22%3A%200.7%2C%20%22fillRule%22%3A%20%22evenodd%22%2C%20%22lineCap%22%3A%20%22round%22%2C%20%22lineJoin%22%3A%20%22round%22%2C%20%22opacity%22%3A%201.0%2C%20%22radius%22%3A%205%2C%20%22stroke%22%3A%20true%2C%20%22weight%22%3A%203%7D%0A%20%20%20%20%20%20%20%20%20%20%20%20%29.addTo%28map_da402c8c143c4c8d8a2810a77806f651%29%3B%0A%20%20%20%20%20%20%20%20%0A%20%20%20%20%0A%20%20%20%20%20%20%20%20var%20popup_9892af71cf034ceebc2caee2c677cd3e%20%3D%20L.popup%28%7B%22maxWidth%22%3A%20%22100%25%22%7D%29%3B%0A%0A%20%20%20%20%20%20%20%20%0A%20%20%20%20%20%20%20%20%20%20%20%20var%20html_495e3f2626b14cc0a41728bba83f52c5%20%3D%20%24%28%60%3Cdiv%20id%3D%22html_495e3f2626b14cc0a41728bba83f52c5%22%20style%3D%22width%3A%20100.0%25%3B%20height%3A%20100.0%25%3B%22%3EArverne%2C%20Queens%3C/div%3E%60%29%5B0%5D%3B%0A%20%20%20%20%20%20%20%20%20%20%20%20popup_9892af71cf034ceebc2caee2c677cd3e.setContent%28html_495e3f2626b14cc0a41728bba83f52c5%29%3B%0A%20%20%20%20%20%20%20%20%0A%0A%20%20%20%20%20%20%20%20circle_marker_90433f07e6134985a595e3745e1a1a33.bindPopup%28popup_9892af71cf034ceebc2caee2c677cd3e%29%0A%20%20%20%20%20%20%20%20%3B%0A%0A%20%20%20%20%20%20%20%20%0A%20%20%20%20%0A%20%20%20%20%0A%20%20%20%20%20%20%20%20%20%20%20%20var%20circle_marker_73b8a1e5458246babdb5928e1d92086c%20%3D%20L.circleMarker%28%0A%20%20%20%20%20%20%20%20%20%20%20%20%20%20%20%20%5B40.582801696845586%2C%20-73.82236121088751%5D%2C%0A%20%20%20%20%20%20%20%20%20%20%20%20%20%20%20%20%7B%22bubblingMouseEvents%22%3A%20true%2C%20%22color%22%3A%20%22blue%22%2C%20%22dashArray%22%3A%20null%2C%20%22dashOffset%22%3A%20null%2C%20%22fill%22%3A%20true%2C%20%22fillColor%22%3A%20%22%233186cc%22%2C%20%22fillOpacity%22%3A%200.7%2C%20%22fillRule%22%3A%20%22evenodd%22%2C%20%22lineCap%22%3A%20%22round%22%2C%20%22lineJoin%22%3A%20%22round%22%2C%20%22opacity%22%3A%201.0%2C%20%22radius%22%3A%205%2C%20%22stroke%22%3A%20true%2C%20%22weight%22%3A%203%7D%0A%20%20%20%20%20%20%20%20%20%20%20%20%29.addTo%28map_da402c8c143c4c8d8a2810a77806f651%29%3B%0A%20%20%20%20%20%20%20%20%0A%20%20%20%20%0A%20%20%20%20%20%20%20%20var%20popup_c8364ab0fdd0494883bc1cbeaaecb827%20%3D%20L.popup%28%7B%22maxWidth%22%3A%20%22100%25%22%7D%29%3B%0A%0A%20%20%20%20%20%20%20%20%0A%20%20%20%20%20%20%20%20%20%20%20%20var%20html_53bea194f2db41ab87b8cae876c4a77d%20%3D%20%24%28%60%3Cdiv%20id%3D%22html_53bea194f2db41ab87b8cae876c4a77d%22%20style%3D%22width%3A%20100.0%25%3B%20height%3A%20100.0%25%3B%22%3ERockaway%20Beach%2C%20Queens%3C/div%3E%60%29%5B0%5D%3B%0A%20%20%20%20%20%20%20%20%20%20%20%20popup_c8364ab0fdd0494883bc1cbeaaecb827.setContent%28html_53bea194f2db41ab87b8cae876c4a77d%29%3B%0A%20%20%20%20%20%20%20%20%0A%0A%20%20%20%20%20%20%20%20circle_marker_73b8a1e5458246babdb5928e1d92086c.bindPopup%28popup_c8364ab0fdd0494883bc1cbeaaecb827%29%0A%20%20%20%20%20%20%20%20%3B%0A%0A%20%20%20%20%20%20%20%20%0A%20%20%20%20%0A%20%20%20%20%0A%20%20%20%20%20%20%20%20%20%20%20%20var%20circle_marker_46a1706ed80d49aab74766cc10cd8dbd%20%3D%20L.circleMarker%28%0A%20%20%20%20%20%20%20%20%20%20%20%20%20%20%20%20%5B40.572036730217015%2C%20-73.85754672410827%5D%2C%0A%20%20%20%20%20%20%20%20%20%20%20%20%20%20%20%20%7B%22bubblingMouseEvents%22%3A%20true%2C%20%22color%22%3A%20%22blue%22%2C%20%22dashArray%22%3A%20null%2C%20%22dashOffset%22%3A%20null%2C%20%22fill%22%3A%20true%2C%20%22fillColor%22%3A%20%22%233186cc%22%2C%20%22fillOpacity%22%3A%200.7%2C%20%22fillRule%22%3A%20%22evenodd%22%2C%20%22lineCap%22%3A%20%22round%22%2C%20%22lineJoin%22%3A%20%22round%22%2C%20%22opacity%22%3A%201.0%2C%20%22radius%22%3A%205%2C%20%22stroke%22%3A%20true%2C%20%22weight%22%3A%203%7D%0A%20%20%20%20%20%20%20%20%20%20%20%20%29.addTo%28map_da402c8c143c4c8d8a2810a77806f651%29%3B%0A%20%20%20%20%20%20%20%20%0A%20%20%20%20%0A%20%20%20%20%20%20%20%20var%20popup_f068458872244129968d39d3439b3fcf%20%3D%20L.popup%28%7B%22maxWidth%22%3A%20%22100%25%22%7D%29%3B%0A%0A%20%20%20%20%20%20%20%20%0A%20%20%20%20%20%20%20%20%20%20%20%20var%20html_c7821b3537e44a7080465b060f963696%20%3D%20%24%28%60%3Cdiv%20id%3D%22html_c7821b3537e44a7080465b060f963696%22%20style%3D%22width%3A%20100.0%25%3B%20height%3A%20100.0%25%3B%22%3ENeponsit%2C%20Queens%3C/div%3E%60%29%5B0%5D%3B%0A%20%20%20%20%20%20%20%20%20%20%20%20popup_f068458872244129968d39d3439b3fcf.setContent%28html_c7821b3537e44a7080465b060f963696%29%3B%0A%20%20%20%20%20%20%20%20%0A%0A%20%20%20%20%20%20%20%20circle_marker_46a1706ed80d49aab74766cc10cd8dbd.bindPopup%28popup_f068458872244129968d39d3439b3fcf%29%0A%20%20%20%20%20%20%20%20%3B%0A%0A%20%20%20%20%20%20%20%20%0A%20%20%20%20%0A%20%20%20%20%0A%20%20%20%20%20%20%20%20%20%20%20%20var%20circle_marker_3c709040733b4026a5df83a73cc2df5a%20%3D%20L.circleMarker%28%0A%20%20%20%20%20%20%20%20%20%20%20%20%20%20%20%20%5B40.764126122614066%2C%20-73.81276269135866%5D%2C%0A%20%20%20%20%20%20%20%20%20%20%20%20%20%20%20%20%7B%22bubblingMouseEvents%22%3A%20true%2C%20%22color%22%3A%20%22blue%22%2C%20%22dashArray%22%3A%20null%2C%20%22dashOffset%22%3A%20null%2C%20%22fill%22%3A%20true%2C%20%22fillColor%22%3A%20%22%233186cc%22%2C%20%22fillOpacity%22%3A%200.7%2C%20%22fillRule%22%3A%20%22evenodd%22%2C%20%22lineCap%22%3A%20%22round%22%2C%20%22lineJoin%22%3A%20%22round%22%2C%20%22opacity%22%3A%201.0%2C%20%22radius%22%3A%205%2C%20%22stroke%22%3A%20true%2C%20%22weight%22%3A%203%7D%0A%20%20%20%20%20%20%20%20%20%20%20%20%29.addTo%28map_da402c8c143c4c8d8a2810a77806f651%29%3B%0A%20%20%20%20%20%20%20%20%0A%20%20%20%20%0A%20%20%20%20%20%20%20%20var%20popup_44841a5615404dbcb65caeb5dd0a19de%20%3D%20L.popup%28%7B%22maxWidth%22%3A%20%22100%25%22%7D%29%3B%0A%0A%20%20%20%20%20%20%20%20%0A%20%20%20%20%20%20%20%20%20%20%20%20var%20html_0d7606c6fd9c47528866e61562605c47%20%3D%20%24%28%60%3Cdiv%20id%3D%22html_0d7606c6fd9c47528866e61562605c47%22%20style%3D%22width%3A%20100.0%25%3B%20height%3A%20100.0%25%3B%22%3EMurray%20Hill%2C%20Queens%3C/div%3E%60%29%5B0%5D%3B%0A%20%20%20%20%20%20%20%20%20%20%20%20popup_44841a5615404dbcb65caeb5dd0a19de.setContent%28html_0d7606c6fd9c47528866e61562605c47%29%3B%0A%20%20%20%20%20%20%20%20%0A%0A%20%20%20%20%20%20%20%20circle_marker_3c709040733b4026a5df83a73cc2df5a.bindPopup%28popup_44841a5615404dbcb65caeb5dd0a19de%29%0A%20%20%20%20%20%20%20%20%3B%0A%0A%20%20%20%20%20%20%20%20%0A%20%20%20%20%0A%20%20%20%20%0A%20%20%20%20%20%20%20%20%20%20%20%20var%20circle_marker_bf4fe8d213d24e33b898bcead7003ec6%20%3D%20L.circleMarker%28%0A%20%20%20%20%20%20%20%20%20%20%20%20%20%20%20%20%5B40.741378421945434%2C%20-73.70884705889246%5D%2C%0A%20%20%20%20%20%20%20%20%20%20%20%20%20%20%20%20%7B%22bubblingMouseEvents%22%3A%20true%2C%20%22color%22%3A%20%22blue%22%2C%20%22dashArray%22%3A%20null%2C%20%22dashOffset%22%3A%20null%2C%20%22fill%22%3A%20true%2C%20%22fillColor%22%3A%20%22%233186cc%22%2C%20%22fillOpacity%22%3A%200.7%2C%20%22fillRule%22%3A%20%22evenodd%22%2C%20%22lineCap%22%3A%20%22round%22%2C%20%22lineJoin%22%3A%20%22round%22%2C%20%22opacity%22%3A%201.0%2C%20%22radius%22%3A%205%2C%20%22stroke%22%3A%20true%2C%20%22weight%22%3A%203%7D%0A%20%20%20%20%20%20%20%20%20%20%20%20%29.addTo%28map_da402c8c143c4c8d8a2810a77806f651%29%3B%0A%20%20%20%20%20%20%20%20%0A%20%20%20%20%0A%20%20%20%20%20%20%20%20var%20popup_2e24aee0bdc94ae88e6b854be5422dab%20%3D%20L.popup%28%7B%22maxWidth%22%3A%20%22100%25%22%7D%29%3B%0A%0A%20%20%20%20%20%20%20%20%0A%20%20%20%20%20%20%20%20%20%20%20%20var%20html_c17e8991a34148cb993e9d71a1b31312%20%3D%20%24%28%60%3Cdiv%20id%3D%22html_c17e8991a34148cb993e9d71a1b31312%22%20style%3D%22width%3A%20100.0%25%3B%20height%3A%20100.0%25%3B%22%3EFloral%20Park%2C%20Queens%3C/div%3E%60%29%5B0%5D%3B%0A%20%20%20%20%20%20%20%20%20%20%20%20popup_2e24aee0bdc94ae88e6b854be5422dab.setContent%28html_c17e8991a34148cb993e9d71a1b31312%29%3B%0A%20%20%20%20%20%20%20%20%0A%0A%20%20%20%20%20%20%20%20circle_marker_bf4fe8d213d24e33b898bcead7003ec6.bindPopup%28popup_2e24aee0bdc94ae88e6b854be5422dab%29%0A%20%20%20%20%20%20%20%20%3B%0A%0A%20%20%20%20%20%20%20%20%0A%20%20%20%20%0A%20%20%20%20%0A%20%20%20%20%20%20%20%20%20%20%20%20var%20circle_marker_a1254196720d480e8d988b32203ed084%20%3D%20L.circleMarker%28%0A%20%20%20%20%20%20%20%20%20%20%20%20%20%20%20%20%5B40.7209572076444%2C%20-73.76714166714729%5D%2C%0A%20%20%20%20%20%20%20%20%20%20%20%20%20%20%20%20%7B%22bubblingMouseEvents%22%3A%20true%2C%20%22color%22%3A%20%22blue%22%2C%20%22dashArray%22%3A%20null%2C%20%22dashOffset%22%3A%20null%2C%20%22fill%22%3A%20true%2C%20%22fillColor%22%3A%20%22%233186cc%22%2C%20%22fillOpacity%22%3A%200.7%2C%20%22fillRule%22%3A%20%22evenodd%22%2C%20%22lineCap%22%3A%20%22round%22%2C%20%22lineJoin%22%3A%20%22round%22%2C%20%22opacity%22%3A%201.0%2C%20%22radius%22%3A%205%2C%20%22stroke%22%3A%20true%2C%20%22weight%22%3A%203%7D%0A%20%20%20%20%20%20%20%20%20%20%20%20%29.addTo%28map_da402c8c143c4c8d8a2810a77806f651%29%3B%0A%20%20%20%20%20%20%20%20%0A%20%20%20%20%0A%20%20%20%20%20%20%20%20var%20popup_4c746fdb0c0a4fbe9f99f963a6829a2f%20%3D%20L.popup%28%7B%22maxWidth%22%3A%20%22100%25%22%7D%29%3B%0A%0A%20%20%20%20%20%20%20%20%0A%20%20%20%20%20%20%20%20%20%20%20%20var%20html_3c8b2d5c6c5a4cf5bc2692215d6d45ee%20%3D%20%24%28%60%3Cdiv%20id%3D%22html_3c8b2d5c6c5a4cf5bc2692215d6d45ee%22%20style%3D%22width%3A%20100.0%25%3B%20height%3A%20100.0%25%3B%22%3EHolliswood%2C%20Queens%3C/div%3E%60%29%5B0%5D%3B%0A%20%20%20%20%20%20%20%20%20%20%20%20popup_4c746fdb0c0a4fbe9f99f963a6829a2f.setContent%28html_3c8b2d5c6c5a4cf5bc2692215d6d45ee%29%3B%0A%20%20%20%20%20%20%20%20%0A%0A%20%20%20%20%20%20%20%20circle_marker_a1254196720d480e8d988b32203ed084.bindPopup%28popup_4c746fdb0c0a4fbe9f99f963a6829a2f%29%0A%20%20%20%20%20%20%20%20%3B%0A%0A%20%20%20%20%20%20%20%20%0A%20%20%20%20%0A%20%20%20%20%0A%20%20%20%20%20%20%20%20%20%20%20%20var%20circle_marker_8f827330c5c446f889f6545355721a88%20%3D%20L.circleMarker%28%0A%20%20%20%20%20%20%20%20%20%20%20%20%20%20%20%20%5B40.71680483014613%2C%20-73.7872269693666%5D%2C%0A%20%20%20%20%20%20%20%20%20%20%20%20%20%20%20%20%7B%22bubblingMouseEvents%22%3A%20true%2C%20%22color%22%3A%20%22blue%22%2C%20%22dashArray%22%3A%20null%2C%20%22dashOffset%22%3A%20null%2C%20%22fill%22%3A%20true%2C%20%22fillColor%22%3A%20%22%233186cc%22%2C%20%22fillOpacity%22%3A%200.7%2C%20%22fillRule%22%3A%20%22evenodd%22%2C%20%22lineCap%22%3A%20%22round%22%2C%20%22lineJoin%22%3A%20%22round%22%2C%20%22opacity%22%3A%201.0%2C%20%22radius%22%3A%205%2C%20%22stroke%22%3A%20true%2C%20%22weight%22%3A%203%7D%0A%20%20%20%20%20%20%20%20%20%20%20%20%29.addTo%28map_da402c8c143c4c8d8a2810a77806f651%29%3B%0A%20%20%20%20%20%20%20%20%0A%20%20%20%20%0A%20%20%20%20%20%20%20%20var%20popup_e2d8af4b5de149c38a05cc98e95456ad%20%3D%20L.popup%28%7B%22maxWidth%22%3A%20%22100%25%22%7D%29%3B%0A%0A%20%20%20%20%20%20%20%20%0A%20%20%20%20%20%20%20%20%20%20%20%20var%20html_f801927e0db24bb4a4bde7aead9bc939%20%3D%20%24%28%60%3Cdiv%20id%3D%22html_f801927e0db24bb4a4bde7aead9bc939%22%20style%3D%22width%3A%20100.0%25%3B%20height%3A%20100.0%25%3B%22%3EJamaica%20Estates%2C%20Queens%3C/div%3E%60%29%5B0%5D%3B%0A%20%20%20%20%20%20%20%20%20%20%20%20popup_e2d8af4b5de149c38a05cc98e95456ad.setContent%28html_f801927e0db24bb4a4bde7aead9bc939%29%3B%0A%20%20%20%20%20%20%20%20%0A%0A%20%20%20%20%20%20%20%20circle_marker_8f827330c5c446f889f6545355721a88.bindPopup%28popup_e2d8af4b5de149c38a05cc98e95456ad%29%0A%20%20%20%20%20%20%20%20%3B%0A%0A%20%20%20%20%20%20%20%20%0A%20%20%20%20%0A%20%20%20%20%0A%20%20%20%20%20%20%20%20%20%20%20%20var%20circle_marker_32a9ae38b45b478aba2282f396e3e70f%20%3D%20L.circleMarker%28%0A%20%20%20%20%20%20%20%20%20%20%20%20%20%20%20%20%5B40.7445723092867%2C%20-73.82580915110559%5D%2C%0A%20%20%20%20%20%20%20%20%20%20%20%20%20%20%20%20%7B%22bubblingMouseEvents%22%3A%20true%2C%20%22color%22%3A%20%22blue%22%2C%20%22dashArray%22%3A%20null%2C%20%22dashOffset%22%3A%20null%2C%20%22fill%22%3A%20true%2C%20%22fillColor%22%3A%20%22%233186cc%22%2C%20%22fillOpacity%22%3A%200.7%2C%20%22fillRule%22%3A%20%22evenodd%22%2C%20%22lineCap%22%3A%20%22round%22%2C%20%22lineJoin%22%3A%20%22round%22%2C%20%22opacity%22%3A%201.0%2C%20%22radius%22%3A%205%2C%20%22stroke%22%3A%20true%2C%20%22weight%22%3A%203%7D%0A%20%20%20%20%20%20%20%20%20%20%20%20%29.addTo%28map_da402c8c143c4c8d8a2810a77806f651%29%3B%0A%20%20%20%20%20%20%20%20%0A%20%20%20%20%0A%20%20%20%20%20%20%20%20var%20popup_5bbcc84437f34f33b296027cb73124e5%20%3D%20L.popup%28%7B%22maxWidth%22%3A%20%22100%25%22%7D%29%3B%0A%0A%20%20%20%20%20%20%20%20%0A%20%20%20%20%20%20%20%20%20%20%20%20var%20html_677cdcf820ef426dae8c3b4fc2aa1ae7%20%3D%20%24%28%60%3Cdiv%20id%3D%22html_677cdcf820ef426dae8c3b4fc2aa1ae7%22%20style%3D%22width%3A%20100.0%25%3B%20height%3A%20100.0%25%3B%22%3EQueensboro%20Hill%2C%20Queens%3C/div%3E%60%29%5B0%5D%3B%0A%20%20%20%20%20%20%20%20%20%20%20%20popup_5bbcc84437f34f33b296027cb73124e5.setContent%28html_677cdcf820ef426dae8c3b4fc2aa1ae7%29%3B%0A%20%20%20%20%20%20%20%20%0A%0A%20%20%20%20%20%20%20%20circle_marker_32a9ae38b45b478aba2282f396e3e70f.bindPopup%28popup_5bbcc84437f34f33b296027cb73124e5%29%0A%20%20%20%20%20%20%20%20%3B%0A%0A%20%20%20%20%20%20%20%20%0A%20%20%20%20%0A%20%20%20%20%0A%20%20%20%20%20%20%20%20%20%20%20%20var%20circle_marker_c12b3627aa2f47729cbfbef57490345c%20%3D%20L.circleMarker%28%0A%20%20%20%20%20%20%20%20%20%20%20%20%20%20%20%20%5B40.723824901829204%2C%20-73.79760300912672%5D%2C%0A%20%20%20%20%20%20%20%20%20%20%20%20%20%20%20%20%7B%22bubblingMouseEvents%22%3A%20true%2C%20%22color%22%3A%20%22blue%22%2C%20%22dashArray%22%3A%20null%2C%20%22dashOffset%22%3A%20null%2C%20%22fill%22%3A%20true%2C%20%22fillColor%22%3A%20%22%233186cc%22%2C%20%22fillOpacity%22%3A%200.7%2C%20%22fillRule%22%3A%20%22evenodd%22%2C%20%22lineCap%22%3A%20%22round%22%2C%20%22lineJoin%22%3A%20%22round%22%2C%20%22opacity%22%3A%201.0%2C%20%22radius%22%3A%205%2C%20%22stroke%22%3A%20true%2C%20%22weight%22%3A%203%7D%0A%20%20%20%20%20%20%20%20%20%20%20%20%29.addTo%28map_da402c8c143c4c8d8a2810a77806f651%29%3B%0A%20%20%20%20%20%20%20%20%0A%20%20%20%20%0A%20%20%20%20%20%20%20%20var%20popup_b08760d811184956a15f7fcdb2cdee12%20%3D%20L.popup%28%7B%22maxWidth%22%3A%20%22100%25%22%7D%29%3B%0A%0A%20%20%20%20%20%20%20%20%0A%20%20%20%20%20%20%20%20%20%20%20%20var%20html_5f03d22d6c294cd9970ed09a4b33062c%20%3D%20%24%28%60%3Cdiv%20id%3D%22html_5f03d22d6c294cd9970ed09a4b33062c%22%20style%3D%22width%3A%20100.0%25%3B%20height%3A%20100.0%25%3B%22%3EHillcrest%2C%20Queens%3C/div%3E%60%29%5B0%5D%3B%0A%20%20%20%20%20%20%20%20%20%20%20%20popup_b08760d811184956a15f7fcdb2cdee12.setContent%28html_5f03d22d6c294cd9970ed09a4b33062c%29%3B%0A%20%20%20%20%20%20%20%20%0A%0A%20%20%20%20%20%20%20%20circle_marker_c12b3627aa2f47729cbfbef57490345c.bindPopup%28popup_b08760d811184956a15f7fcdb2cdee12%29%0A%20%20%20%20%20%20%20%20%3B%0A%0A%20%20%20%20%20%20%20%20%0A%20%20%20%20%0A%20%20%20%20%0A%20%20%20%20%20%20%20%20%20%20%20%20var%20circle_marker_4803206dba43485fb2085c3c996a1763%20%3D%20L.circleMarker%28%0A%20%20%20%20%20%20%20%20%20%20%20%20%20%20%20%20%5B40.761704526054146%2C%20-73.93157506072878%5D%2C%0A%20%20%20%20%20%20%20%20%20%20%20%20%20%20%20%20%7B%22bubblingMouseEvents%22%3A%20true%2C%20%22color%22%3A%20%22blue%22%2C%20%22dashArray%22%3A%20null%2C%20%22dashOffset%22%3A%20null%2C%20%22fill%22%3A%20true%2C%20%22fillColor%22%3A%20%22%233186cc%22%2C%20%22fillOpacity%22%3A%200.7%2C%20%22fillRule%22%3A%20%22evenodd%22%2C%20%22lineCap%22%3A%20%22round%22%2C%20%22lineJoin%22%3A%20%22round%22%2C%20%22opacity%22%3A%201.0%2C%20%22radius%22%3A%205%2C%20%22stroke%22%3A%20true%2C%20%22weight%22%3A%203%7D%0A%20%20%20%20%20%20%20%20%20%20%20%20%29.addTo%28map_da402c8c143c4c8d8a2810a77806f651%29%3B%0A%20%20%20%20%20%20%20%20%0A%20%20%20%20%0A%20%20%20%20%20%20%20%20var%20popup_1bd71168501c4ef7bd85cc2b98caa400%20%3D%20L.popup%28%7B%22maxWidth%22%3A%20%22100%25%22%7D%29%3B%0A%0A%20%20%20%20%20%20%20%20%0A%20%20%20%20%20%20%20%20%20%20%20%20var%20html_9502ac2f53ce4b1f99990dfd1a423ff2%20%3D%20%24%28%60%3Cdiv%20id%3D%22html_9502ac2f53ce4b1f99990dfd1a423ff2%22%20style%3D%22width%3A%20100.0%25%3B%20height%3A%20100.0%25%3B%22%3ERavenswood%2C%20Queens%3C/div%3E%60%29%5B0%5D%3B%0A%20%20%20%20%20%20%20%20%20%20%20%20popup_1bd71168501c4ef7bd85cc2b98caa400.setContent%28html_9502ac2f53ce4b1f99990dfd1a423ff2%29%3B%0A%20%20%20%20%20%20%20%20%0A%0A%20%20%20%20%20%20%20%20circle_marker_4803206dba43485fb2085c3c996a1763.bindPopup%28popup_1bd71168501c4ef7bd85cc2b98caa400%29%0A%20%20%20%20%20%20%20%20%3B%0A%0A%20%20%20%20%20%20%20%20%0A%20%20%20%20%0A%20%20%20%20%0A%20%20%20%20%20%20%20%20%20%20%20%20var%20circle_marker_6ebfe88fe96849988343e843c8f40268%20%3D%20L.circleMarker%28%0A%20%20%20%20%20%20%20%20%20%20%20%20%20%20%20%20%5B40.66391841925139%2C%20-73.84963782402441%5D%2C%0A%20%20%20%20%20%20%20%20%20%20%20%20%20%20%20%20%7B%22bubblingMouseEvents%22%3A%20true%2C%20%22color%22%3A%20%22blue%22%2C%20%22dashArray%22%3A%20null%2C%20%22dashOffset%22%3A%20null%2C%20%22fill%22%3A%20true%2C%20%22fillColor%22%3A%20%22%233186cc%22%2C%20%22fillOpacity%22%3A%200.7%2C%20%22fillRule%22%3A%20%22evenodd%22%2C%20%22lineCap%22%3A%20%22round%22%2C%20%22lineJoin%22%3A%20%22round%22%2C%20%22opacity%22%3A%201.0%2C%20%22radius%22%3A%205%2C%20%22stroke%22%3A%20true%2C%20%22weight%22%3A%203%7D%0A%20%20%20%20%20%20%20%20%20%20%20%20%29.addTo%28map_da402c8c143c4c8d8a2810a77806f651%29%3B%0A%20%20%20%20%20%20%20%20%0A%20%20%20%20%0A%20%20%20%20%20%20%20%20var%20popup_dab584b8035f40a6957f24e98456c771%20%3D%20L.popup%28%7B%22maxWidth%22%3A%20%22100%25%22%7D%29%3B%0A%0A%20%20%20%20%20%20%20%20%0A%20%20%20%20%20%20%20%20%20%20%20%20var%20html_928b544999674bab9950a5097d733689%20%3D%20%24%28%60%3Cdiv%20id%3D%22html_928b544999674bab9950a5097d733689%22%20style%3D%22width%3A%20100.0%25%3B%20height%3A%20100.0%25%3B%22%3ELindenwood%2C%20Queens%3C/div%3E%60%29%5B0%5D%3B%0A%20%20%20%20%20%20%20%20%20%20%20%20popup_dab584b8035f40a6957f24e98456c771.setContent%28html_928b544999674bab9950a5097d733689%29%3B%0A%20%20%20%20%20%20%20%20%0A%0A%20%20%20%20%20%20%20%20circle_marker_6ebfe88fe96849988343e843c8f40268.bindPopup%28popup_dab584b8035f40a6957f24e98456c771%29%0A%20%20%20%20%20%20%20%20%3B%0A%0A%20%20%20%20%20%20%20%20%0A%20%20%20%20%0A%20%20%20%20%0A%20%20%20%20%20%20%20%20%20%20%20%20var%20circle_marker_dcdd1b54a71b4db187af73f506f67474%20%3D%20L.circleMarker%28%0A%20%20%20%20%20%20%20%20%20%20%20%20%20%20%20%20%5B40.66788389660247%2C%20-73.74025607989822%5D%2C%0A%20%20%20%20%20%20%20%20%20%20%20%20%20%20%20%20%7B%22bubblingMouseEvents%22%3A%20true%2C%20%22color%22%3A%20%22blue%22%2C%20%22dashArray%22%3A%20null%2C%20%22dashOffset%22%3A%20null%2C%20%22fill%22%3A%20true%2C%20%22fillColor%22%3A%20%22%233186cc%22%2C%20%22fillOpacity%22%3A%200.7%2C%20%22fillRule%22%3A%20%22evenodd%22%2C%20%22lineCap%22%3A%20%22round%22%2C%20%22lineJoin%22%3A%20%22round%22%2C%20%22opacity%22%3A%201.0%2C%20%22radius%22%3A%205%2C%20%22stroke%22%3A%20true%2C%20%22weight%22%3A%203%7D%0A%20%20%20%20%20%20%20%20%20%20%20%20%29.addTo%28map_da402c8c143c4c8d8a2810a77806f651%29%3B%0A%20%20%20%20%20%20%20%20%0A%20%20%20%20%0A%20%20%20%20%20%20%20%20var%20popup_7ba3971e1d4a47a3b17529c28c43e856%20%3D%20L.popup%28%7B%22maxWidth%22%3A%20%22100%25%22%7D%29%3B%0A%0A%20%20%20%20%20%20%20%20%0A%20%20%20%20%20%20%20%20%20%20%20%20var%20html_9c3bfd4c5e7541ebb118513e1c29aa65%20%3D%20%24%28%60%3Cdiv%20id%3D%22html_9c3bfd4c5e7541ebb118513e1c29aa65%22%20style%3D%22width%3A%20100.0%25%3B%20height%3A%20100.0%25%3B%22%3ELaurelton%2C%20Queens%3C/div%3E%60%29%5B0%5D%3B%0A%20%20%20%20%20%20%20%20%20%20%20%20popup_7ba3971e1d4a47a3b17529c28c43e856.setContent%28html_9c3bfd4c5e7541ebb118513e1c29aa65%29%3B%0A%20%20%20%20%20%20%20%20%0A%0A%20%20%20%20%20%20%20%20circle_marker_dcdd1b54a71b4db187af73f506f67474.bindPopup%28popup_7ba3971e1d4a47a3b17529c28c43e856%29%0A%20%20%20%20%20%20%20%20%3B%0A%0A%20%20%20%20%20%20%20%20%0A%20%20%20%20%0A%20%20%20%20%0A%20%20%20%20%20%20%20%20%20%20%20%20var%20circle_marker_2fda68f1746b4616bbfa9b0b0f18fba3%20%3D%20L.circleMarker%28%0A%20%20%20%20%20%20%20%20%20%20%20%20%20%20%20%20%5B40.736074570830795%2C%20-73.8625247141374%5D%2C%0A%20%20%20%20%20%20%20%20%20%20%20%20%20%20%20%20%7B%22bubblingMouseEvents%22%3A%20true%2C%20%22color%22%3A%20%22blue%22%2C%20%22dashArray%22%3A%20null%2C%20%22dashOffset%22%3A%20null%2C%20%22fill%22%3A%20true%2C%20%22fillColor%22%3A%20%22%233186cc%22%2C%20%22fillOpacity%22%3A%200.7%2C%20%22fillRule%22%3A%20%22evenodd%22%2C%20%22lineCap%22%3A%20%22round%22%2C%20%22lineJoin%22%3A%20%22round%22%2C%20%22opacity%22%3A%201.0%2C%20%22radius%22%3A%205%2C%20%22stroke%22%3A%20true%2C%20%22weight%22%3A%203%7D%0A%20%20%20%20%20%20%20%20%20%20%20%20%29.addTo%28map_da402c8c143c4c8d8a2810a77806f651%29%3B%0A%20%20%20%20%20%20%20%20%0A%20%20%20%20%0A%20%20%20%20%20%20%20%20var%20popup_9b9c62395ed949aaacfd00fb657f4615%20%3D%20L.popup%28%7B%22maxWidth%22%3A%20%22100%25%22%7D%29%3B%0A%0A%20%20%20%20%20%20%20%20%0A%20%20%20%20%20%20%20%20%20%20%20%20var%20html_67a45725ad704242a01e2b8a7a4907e1%20%3D%20%24%28%60%3Cdiv%20id%3D%22html_67a45725ad704242a01e2b8a7a4907e1%22%20style%3D%22width%3A%20100.0%25%3B%20height%3A%20100.0%25%3B%22%3ELefrak%20City%2C%20Queens%3C/div%3E%60%29%5B0%5D%3B%0A%20%20%20%20%20%20%20%20%20%20%20%20popup_9b9c62395ed949aaacfd00fb657f4615.setContent%28html_67a45725ad704242a01e2b8a7a4907e1%29%3B%0A%20%20%20%20%20%20%20%20%0A%0A%20%20%20%20%20%20%20%20circle_marker_2fda68f1746b4616bbfa9b0b0f18fba3.bindPopup%28popup_9b9c62395ed949aaacfd00fb657f4615%29%0A%20%20%20%20%20%20%20%20%3B%0A%0A%20%20%20%20%20%20%20%20%0A%20%20%20%20%0A%20%20%20%20%0A%20%20%20%20%20%20%20%20%20%20%20%20var%20circle_marker_e76060cfa43c4c7498ff8ce58fe1b41c%20%3D%20L.circleMarker%28%0A%20%20%20%20%20%20%20%20%20%20%20%20%20%20%20%20%5B40.57615556543109%2C%20-73.8540175039252%5D%2C%0A%20%20%20%20%20%20%20%20%20%20%20%20%20%20%20%20%7B%22bubblingMouseEvents%22%3A%20true%2C%20%22color%22%3A%20%22blue%22%2C%20%22dashArray%22%3A%20null%2C%20%22dashOffset%22%3A%20null%2C%20%22fill%22%3A%20true%2C%20%22fillColor%22%3A%20%22%233186cc%22%2C%20%22fillOpacity%22%3A%200.7%2C%20%22fillRule%22%3A%20%22evenodd%22%2C%20%22lineCap%22%3A%20%22round%22%2C%20%22lineJoin%22%3A%20%22round%22%2C%20%22opacity%22%3A%201.0%2C%20%22radius%22%3A%205%2C%20%22stroke%22%3A%20true%2C%20%22weight%22%3A%203%7D%0A%20%20%20%20%20%20%20%20%20%20%20%20%29.addTo%28map_da402c8c143c4c8d8a2810a77806f651%29%3B%0A%20%20%20%20%20%20%20%20%0A%20%20%20%20%0A%20%20%20%20%20%20%20%20var%20popup_17eece534fa24c35a58d72c60571d446%20%3D%20L.popup%28%7B%22maxWidth%22%3A%20%22100%25%22%7D%29%3B%0A%0A%20%20%20%20%20%20%20%20%0A%20%20%20%20%20%20%20%20%20%20%20%20var%20html_5cf5bbbccbc34c4aa9918f1e94ec16ed%20%3D%20%24%28%60%3Cdiv%20id%3D%22html_5cf5bbbccbc34c4aa9918f1e94ec16ed%22%20style%3D%22width%3A%20100.0%25%3B%20height%3A%20100.0%25%3B%22%3EBelle%20Harbor%2C%20Queens%3C/div%3E%60%29%5B0%5D%3B%0A%20%20%20%20%20%20%20%20%20%20%20%20popup_17eece534fa24c35a58d72c60571d446.setContent%28html_5cf5bbbccbc34c4aa9918f1e94ec16ed%29%3B%0A%20%20%20%20%20%20%20%20%0A%0A%20%20%20%20%20%20%20%20circle_marker_e76060cfa43c4c7498ff8ce58fe1b41c.bindPopup%28popup_17eece534fa24c35a58d72c60571d446%29%0A%20%20%20%20%20%20%20%20%3B%0A%0A%20%20%20%20%20%20%20%20%0A%20%20%20%20%0A%20%20%20%20%0A%20%20%20%20%20%20%20%20%20%20%20%20var%20circle_marker_db22b9b3e5124b02a3cd1367537486cb%20%3D%20L.circleMarker%28%0A%20%20%20%20%20%20%20%20%20%20%20%20%20%20%20%20%5B40.58034295646131%2C%20-73.84153370226186%5D%2C%0A%20%20%20%20%20%20%20%20%20%20%20%20%20%20%20%20%7B%22bubblingMouseEvents%22%3A%20true%2C%20%22color%22%3A%20%22blue%22%2C%20%22dashArray%22%3A%20null%2C%20%22dashOffset%22%3A%20null%2C%20%22fill%22%3A%20true%2C%20%22fillColor%22%3A%20%22%233186cc%22%2C%20%22fillOpacity%22%3A%200.7%2C%20%22fillRule%22%3A%20%22evenodd%22%2C%20%22lineCap%22%3A%20%22round%22%2C%20%22lineJoin%22%3A%20%22round%22%2C%20%22opacity%22%3A%201.0%2C%20%22radius%22%3A%205%2C%20%22stroke%22%3A%20true%2C%20%22weight%22%3A%203%7D%0A%20%20%20%20%20%20%20%20%20%20%20%20%29.addTo%28map_da402c8c143c4c8d8a2810a77806f651%29%3B%0A%20%20%20%20%20%20%20%20%0A%20%20%20%20%0A%20%20%20%20%20%20%20%20var%20popup_0ed43f3c27614adb9373d19f9d58d02f%20%3D%20L.popup%28%7B%22maxWidth%22%3A%20%22100%25%22%7D%29%3B%0A%0A%20%20%20%20%20%20%20%20%0A%20%20%20%20%20%20%20%20%20%20%20%20var%20html_205683f018854c01a20f498e1c8a671a%20%3D%20%24%28%60%3Cdiv%20id%3D%22html_205683f018854c01a20f498e1c8a671a%22%20style%3D%22width%3A%20100.0%25%3B%20height%3A%20100.0%25%3B%22%3ERockaway%20Park%2C%20Queens%3C/div%3E%60%29%5B0%5D%3B%0A%20%20%20%20%20%20%20%20%20%20%20%20popup_0ed43f3c27614adb9373d19f9d58d02f.setContent%28html_205683f018854c01a20f498e1c8a671a%29%3B%0A%20%20%20%20%20%20%20%20%0A%0A%20%20%20%20%20%20%20%20circle_marker_db22b9b3e5124b02a3cd1367537486cb.bindPopup%28popup_0ed43f3c27614adb9373d19f9d58d02f%29%0A%20%20%20%20%20%20%20%20%3B%0A%0A%20%20%20%20%20%20%20%20%0A%20%20%20%20%0A%20%20%20%20%0A%20%20%20%20%20%20%20%20%20%20%20%20var%20circle_marker_b3478852dae44adeabe9695cf95e4e4e%20%3D%20L.circleMarker%28%0A%20%20%20%20%20%20%20%20%20%20%20%20%20%20%20%20%5B40.59771061565768%2C%20-73.79664750844047%5D%2C%0A%20%20%20%20%20%20%20%20%20%20%20%20%20%20%20%20%7B%22bubblingMouseEvents%22%3A%20true%2C%20%22color%22%3A%20%22blue%22%2C%20%22dashArray%22%3A%20null%2C%20%22dashOffset%22%3A%20null%2C%20%22fill%22%3A%20true%2C%20%22fillColor%22%3A%20%22%233186cc%22%2C%20%22fillOpacity%22%3A%200.7%2C%20%22fillRule%22%3A%20%22evenodd%22%2C%20%22lineCap%22%3A%20%22round%22%2C%20%22lineJoin%22%3A%20%22round%22%2C%20%22opacity%22%3A%201.0%2C%20%22radius%22%3A%205%2C%20%22stroke%22%3A%20true%2C%20%22weight%22%3A%203%7D%0A%20%20%20%20%20%20%20%20%20%20%20%20%29.addTo%28map_da402c8c143c4c8d8a2810a77806f651%29%3B%0A%20%20%20%20%20%20%20%20%0A%20%20%20%20%0A%20%20%20%20%20%20%20%20var%20popup_4722c3a0dd724cfba927ace9c37b1e4f%20%3D%20L.popup%28%7B%22maxWidth%22%3A%20%22100%25%22%7D%29%3B%0A%0A%20%20%20%20%20%20%20%20%0A%20%20%20%20%20%20%20%20%20%20%20%20var%20html_5eb8b3327a174399bf9814a38b150032%20%3D%20%24%28%60%3Cdiv%20id%3D%22html_5eb8b3327a174399bf9814a38b150032%22%20style%3D%22width%3A%20100.0%25%3B%20height%3A%20100.0%25%3B%22%3ESomerville%2C%20Queens%3C/div%3E%60%29%5B0%5D%3B%0A%20%20%20%20%20%20%20%20%20%20%20%20popup_4722c3a0dd724cfba927ace9c37b1e4f.setContent%28html_5eb8b3327a174399bf9814a38b150032%29%3B%0A%20%20%20%20%20%20%20%20%0A%0A%20%20%20%20%20%20%20%20circle_marker_b3478852dae44adeabe9695cf95e4e4e.bindPopup%28popup_4722c3a0dd724cfba927ace9c37b1e4f%29%0A%20%20%20%20%20%20%20%20%3B%0A%0A%20%20%20%20%20%20%20%20%0A%20%20%20%20%0A%20%20%20%20%0A%20%20%20%20%20%20%20%20%20%20%20%20var%20circle_marker_39e6093f528d444287d532af25b2b8dd%20%3D%20L.circleMarker%28%0A%20%20%20%20%20%20%20%20%20%20%20%20%20%20%20%20%5B40.66000322733613%2C%20-73.75175310731153%5D%2C%0A%20%20%20%20%20%20%20%20%20%20%20%20%20%20%20%20%7B%22bubblingMouseEvents%22%3A%20true%2C%20%22color%22%3A%20%22blue%22%2C%20%22dashArray%22%3A%20null%2C%20%22dashOffset%22%3A%20null%2C%20%22fill%22%3A%20true%2C%20%22fillColor%22%3A%20%22%233186cc%22%2C%20%22fillOpacity%22%3A%200.7%2C%20%22fillRule%22%3A%20%22evenodd%22%2C%20%22lineCap%22%3A%20%22round%22%2C%20%22lineJoin%22%3A%20%22round%22%2C%20%22opacity%22%3A%201.0%2C%20%22radius%22%3A%205%2C%20%22stroke%22%3A%20true%2C%20%22weight%22%3A%203%7D%0A%20%20%20%20%20%20%20%20%20%20%20%20%29.addTo%28map_da402c8c143c4c8d8a2810a77806f651%29%3B%0A%20%20%20%20%20%20%20%20%0A%20%20%20%20%0A%20%20%20%20%20%20%20%20var%20popup_3d9c77fa70e04f298cfb39a902b07515%20%3D%20L.popup%28%7B%22maxWidth%22%3A%20%22100%25%22%7D%29%3B%0A%0A%20%20%20%20%20%20%20%20%0A%20%20%20%20%20%20%20%20%20%20%20%20var%20html_841cea16708c428688bae53a57a07a68%20%3D%20%24%28%60%3Cdiv%20id%3D%22html_841cea16708c428688bae53a57a07a68%22%20style%3D%22width%3A%20100.0%25%3B%20height%3A%20100.0%25%3B%22%3EBrookville%2C%20Queens%3C/div%3E%60%29%5B0%5D%3B%0A%20%20%20%20%20%20%20%20%20%20%20%20popup_3d9c77fa70e04f298cfb39a902b07515.setContent%28html_841cea16708c428688bae53a57a07a68%29%3B%0A%20%20%20%20%20%20%20%20%0A%0A%20%20%20%20%20%20%20%20circle_marker_39e6093f528d444287d532af25b2b8dd.bindPopup%28popup_3d9c77fa70e04f298cfb39a902b07515%29%0A%20%20%20%20%20%20%20%20%3B%0A%0A%20%20%20%20%20%20%20%20%0A%20%20%20%20%0A%20%20%20%20%0A%20%20%20%20%20%20%20%20%20%20%20%20var%20circle_marker_7caccaace2c8476a9e16e36eed409873%20%3D%20L.circleMarker%28%0A%20%20%20%20%20%20%20%20%20%20%20%20%20%20%20%20%5B40.73301404027834%2C%20-73.73889198912481%5D%2C%0A%20%20%20%20%20%20%20%20%20%20%20%20%20%20%20%20%7B%22bubblingMouseEvents%22%3A%20true%2C%20%22color%22%3A%20%22blue%22%2C%20%22dashArray%22%3A%20null%2C%20%22dashOffset%22%3A%20null%2C%20%22fill%22%3A%20true%2C%20%22fillColor%22%3A%20%22%233186cc%22%2C%20%22fillOpacity%22%3A%200.7%2C%20%22fillRule%22%3A%20%22evenodd%22%2C%20%22lineCap%22%3A%20%22round%22%2C%20%22lineJoin%22%3A%20%22round%22%2C%20%22opacity%22%3A%201.0%2C%20%22radius%22%3A%205%2C%20%22stroke%22%3A%20true%2C%20%22weight%22%3A%203%7D%0A%20%20%20%20%20%20%20%20%20%20%20%20%29.addTo%28map_da402c8c143c4c8d8a2810a77806f651%29%3B%0A%20%20%20%20%20%20%20%20%0A%20%20%20%20%0A%20%20%20%20%20%20%20%20var%20popup_8fb28c90886740209a6f5d3166579574%20%3D%20L.popup%28%7B%22maxWidth%22%3A%20%22100%25%22%7D%29%3B%0A%0A%20%20%20%20%20%20%20%20%0A%20%20%20%20%20%20%20%20%20%20%20%20var%20html_2215428c307343258d7d74db3f895e68%20%3D%20%24%28%60%3Cdiv%20id%3D%22html_2215428c307343258d7d74db3f895e68%22%20style%3D%22width%3A%20100.0%25%3B%20height%3A%20100.0%25%3B%22%3EBellaire%2C%20Queens%3C/div%3E%60%29%5B0%5D%3B%0A%20%20%20%20%20%20%20%20%20%20%20%20popup_8fb28c90886740209a6f5d3166579574.setContent%28html_2215428c307343258d7d74db3f895e68%29%3B%0A%20%20%20%20%20%20%20%20%0A%0A%20%20%20%20%20%20%20%20circle_marker_7caccaace2c8476a9e16e36eed409873.bindPopup%28popup_8fb28c90886740209a6f5d3166579574%29%0A%20%20%20%20%20%20%20%20%3B%0A%0A%20%20%20%20%20%20%20%20%0A%20%20%20%20%0A%20%20%20%20%0A%20%20%20%20%20%20%20%20%20%20%20%20var%20circle_marker_416b3fad949c4c2ab9c2f2b32380a03c%20%3D%20L.circleMarker%28%0A%20%20%20%20%20%20%20%20%20%20%20%20%20%20%20%20%5B40.7540709990489%2C%20-73.85751790676447%5D%2C%0A%20%20%20%20%20%20%20%20%20%20%20%20%20%20%20%20%7B%22bubblingMouseEvents%22%3A%20true%2C%20%22color%22%3A%20%22blue%22%2C%20%22dashArray%22%3A%20null%2C%20%22dashOffset%22%3A%20null%2C%20%22fill%22%3A%20true%2C%20%22fillColor%22%3A%20%22%233186cc%22%2C%20%22fillOpacity%22%3A%200.7%2C%20%22fillRule%22%3A%20%22evenodd%22%2C%20%22lineCap%22%3A%20%22round%22%2C%20%22lineJoin%22%3A%20%22round%22%2C%20%22opacity%22%3A%201.0%2C%20%22radius%22%3A%205%2C%20%22stroke%22%3A%20true%2C%20%22weight%22%3A%203%7D%0A%20%20%20%20%20%20%20%20%20%20%20%20%29.addTo%28map_da402c8c143c4c8d8a2810a77806f651%29%3B%0A%20%20%20%20%20%20%20%20%0A%20%20%20%20%0A%20%20%20%20%20%20%20%20var%20popup_0d3d9e0656874d24a25639f619f47b43%20%3D%20L.popup%28%7B%22maxWidth%22%3A%20%22100%25%22%7D%29%3B%0A%0A%20%20%20%20%20%20%20%20%0A%20%20%20%20%20%20%20%20%20%20%20%20var%20html_6c2d56cc6c11493fb588ff51229b33be%20%3D%20%24%28%60%3Cdiv%20id%3D%22html_6c2d56cc6c11493fb588ff51229b33be%22%20style%3D%22width%3A%20100.0%25%3B%20height%3A%20100.0%25%3B%22%3ENorth%20Corona%2C%20Queens%3C/div%3E%60%29%5B0%5D%3B%0A%20%20%20%20%20%20%20%20%20%20%20%20popup_0d3d9e0656874d24a25639f619f47b43.setContent%28html_6c2d56cc6c11493fb588ff51229b33be%29%3B%0A%20%20%20%20%20%20%20%20%0A%0A%20%20%20%20%20%20%20%20circle_marker_416b3fad949c4c2ab9c2f2b32380a03c.bindPopup%28popup_0d3d9e0656874d24a25639f619f47b43%29%0A%20%20%20%20%20%20%20%20%3B%0A%0A%20%20%20%20%20%20%20%20%0A%20%20%20%20%0A%20%20%20%20%0A%20%20%20%20%20%20%20%20%20%20%20%20var%20circle_marker_085925aa000248f9a42f51d3c10aaff2%20%3D%20L.circleMarker%28%0A%20%20%20%20%20%20%20%20%20%20%20%20%20%20%20%20%5B40.7146110815117%2C%20-73.8410221123401%5D%2C%0A%20%20%20%20%20%20%20%20%20%20%20%20%20%20%20%20%7B%22bubblingMouseEvents%22%3A%20true%2C%20%22color%22%3A%20%22blue%22%2C%20%22dashArray%22%3A%20null%2C%20%22dashOffset%22%3A%20null%2C%20%22fill%22%3A%20true%2C%20%22fillColor%22%3A%20%22%233186cc%22%2C%20%22fillOpacity%22%3A%200.7%2C%20%22fillRule%22%3A%20%22evenodd%22%2C%20%22lineCap%22%3A%20%22round%22%2C%20%22lineJoin%22%3A%20%22round%22%2C%20%22opacity%22%3A%201.0%2C%20%22radius%22%3A%205%2C%20%22stroke%22%3A%20true%2C%20%22weight%22%3A%203%7D%0A%20%20%20%20%20%20%20%20%20%20%20%20%29.addTo%28map_da402c8c143c4c8d8a2810a77806f651%29%3B%0A%20%20%20%20%20%20%20%20%0A%20%20%20%20%0A%20%20%20%20%20%20%20%20var%20popup_d6c6add505744a08be8f02633a4280b1%20%3D%20L.popup%28%7B%22maxWidth%22%3A%20%22100%25%22%7D%29%3B%0A%0A%20%20%20%20%20%20%20%20%0A%20%20%20%20%20%20%20%20%20%20%20%20var%20html_6c29ea558bf6499aa64f539795064672%20%3D%20%24%28%60%3Cdiv%20id%3D%22html_6c29ea558bf6499aa64f539795064672%22%20style%3D%22width%3A%20100.0%25%3B%20height%3A%20100.0%25%3B%22%3EForest%20Hills%20Gardens%2C%20Queens%3C/div%3E%60%29%5B0%5D%3B%0A%20%20%20%20%20%20%20%20%20%20%20%20popup_d6c6add505744a08be8f02633a4280b1.setContent%28html_6c29ea558bf6499aa64f539795064672%29%3B%0A%20%20%20%20%20%20%20%20%0A%0A%20%20%20%20%20%20%20%20circle_marker_085925aa000248f9a42f51d3c10aaff2.bindPopup%28popup_d6c6add505744a08be8f02633a4280b1%29%0A%20%20%20%20%20%20%20%20%3B%0A%0A%20%20%20%20%20%20%20%20%0A%20%20%20%20%0A%20%20%20%20%0A%20%20%20%20%20%20%20%20%20%20%20%20var%20circle_marker_78763945f1e04a029afa582cc0f67111%20%3D%20L.circleMarker%28%0A%20%20%20%20%20%20%20%20%20%20%20%20%20%20%20%20%5B40.6449815710044%2C%20-74.07935312512797%5D%2C%0A%20%20%20%20%20%20%20%20%20%20%20%20%20%20%20%20%7B%22bubblingMouseEvents%22%3A%20true%2C%20%22color%22%3A%20%22blue%22%2C%20%22dashArray%22%3A%20null%2C%20%22dashOffset%22%3A%20null%2C%20%22fill%22%3A%20true%2C%20%22fillColor%22%3A%20%22%233186cc%22%2C%20%22fillOpacity%22%3A%200.7%2C%20%22fillRule%22%3A%20%22evenodd%22%2C%20%22lineCap%22%3A%20%22round%22%2C%20%22lineJoin%22%3A%20%22round%22%2C%20%22opacity%22%3A%201.0%2C%20%22radius%22%3A%205%2C%20%22stroke%22%3A%20true%2C%20%22weight%22%3A%203%7D%0A%20%20%20%20%20%20%20%20%20%20%20%20%29.addTo%28map_da402c8c143c4c8d8a2810a77806f651%29%3B%0A%20%20%20%20%20%20%20%20%0A%20%20%20%20%0A%20%20%20%20%20%20%20%20var%20popup_9b7107e3f1064b9db8d9619e1027c742%20%3D%20L.popup%28%7B%22maxWidth%22%3A%20%22100%25%22%7D%29%3B%0A%0A%20%20%20%20%20%20%20%20%0A%20%20%20%20%20%20%20%20%20%20%20%20var%20html_61e1fc0e43f7409c912b36976d0d41c8%20%3D%20%24%28%60%3Cdiv%20id%3D%22html_61e1fc0e43f7409c912b36976d0d41c8%22%20style%3D%22width%3A%20100.0%25%3B%20height%3A%20100.0%25%3B%22%3ESt.%20George%2C%20Staten%20Island%3C/div%3E%60%29%5B0%5D%3B%0A%20%20%20%20%20%20%20%20%20%20%20%20popup_9b7107e3f1064b9db8d9619e1027c742.setContent%28html_61e1fc0e43f7409c912b36976d0d41c8%29%3B%0A%20%20%20%20%20%20%20%20%0A%0A%20%20%20%20%20%20%20%20circle_marker_78763945f1e04a029afa582cc0f67111.bindPopup%28popup_9b7107e3f1064b9db8d9619e1027c742%29%0A%20%20%20%20%20%20%20%20%3B%0A%0A%20%20%20%20%20%20%20%20%0A%20%20%20%20%0A%20%20%20%20%0A%20%20%20%20%20%20%20%20%20%20%20%20var%20circle_marker_8f1fc18565fe4dd98ea9b53ccefd98ae%20%3D%20L.circleMarker%28%0A%20%20%20%20%20%20%20%20%20%20%20%20%20%20%20%20%5B40.64061455913511%2C%20-74.08701650516625%5D%2C%0A%20%20%20%20%20%20%20%20%20%20%20%20%20%20%20%20%7B%22bubblingMouseEvents%22%3A%20true%2C%20%22color%22%3A%20%22blue%22%2C%20%22dashArray%22%3A%20null%2C%20%22dashOffset%22%3A%20null%2C%20%22fill%22%3A%20true%2C%20%22fillColor%22%3A%20%22%233186cc%22%2C%20%22fillOpacity%22%3A%200.7%2C%20%22fillRule%22%3A%20%22evenodd%22%2C%20%22lineCap%22%3A%20%22round%22%2C%20%22lineJoin%22%3A%20%22round%22%2C%20%22opacity%22%3A%201.0%2C%20%22radius%22%3A%205%2C%20%22stroke%22%3A%20true%2C%20%22weight%22%3A%203%7D%0A%20%20%20%20%20%20%20%20%20%20%20%20%29.addTo%28map_da402c8c143c4c8d8a2810a77806f651%29%3B%0A%20%20%20%20%20%20%20%20%0A%20%20%20%20%0A%20%20%20%20%20%20%20%20var%20popup_0d1c2ffaab5c410d92ff905da47393c6%20%3D%20L.popup%28%7B%22maxWidth%22%3A%20%22100%25%22%7D%29%3B%0A%0A%20%20%20%20%20%20%20%20%0A%20%20%20%20%20%20%20%20%20%20%20%20var%20html_e836996e3cf144649a695aa0fbac595f%20%3D%20%24%28%60%3Cdiv%20id%3D%22html_e836996e3cf144649a695aa0fbac595f%22%20style%3D%22width%3A%20100.0%25%3B%20height%3A%20100.0%25%3B%22%3ENew%20Brighton%2C%20Staten%20Island%3C/div%3E%60%29%5B0%5D%3B%0A%20%20%20%20%20%20%20%20%20%20%20%20popup_0d1c2ffaab5c410d92ff905da47393c6.setContent%28html_e836996e3cf144649a695aa0fbac595f%29%3B%0A%20%20%20%20%20%20%20%20%0A%0A%20%20%20%20%20%20%20%20circle_marker_8f1fc18565fe4dd98ea9b53ccefd98ae.bindPopup%28popup_0d1c2ffaab5c410d92ff905da47393c6%29%0A%20%20%20%20%20%20%20%20%3B%0A%0A%20%20%20%20%20%20%20%20%0A%20%20%20%20%0A%20%20%20%20%0A%20%20%20%20%20%20%20%20%20%20%20%20var%20circle_marker_bd20fd540f444a9d85f9d54d49f0b72a%20%3D%20L.circleMarker%28%0A%20%20%20%20%20%20%20%20%20%20%20%20%20%20%20%20%5B40.62692762538176%2C%20-74.07790192660066%5D%2C%0A%20%20%20%20%20%20%20%20%20%20%20%20%20%20%20%20%7B%22bubblingMouseEvents%22%3A%20true%2C%20%22color%22%3A%20%22blue%22%2C%20%22dashArray%22%3A%20null%2C%20%22dashOffset%22%3A%20null%2C%20%22fill%22%3A%20true%2C%20%22fillColor%22%3A%20%22%233186cc%22%2C%20%22fillOpacity%22%3A%200.7%2C%20%22fillRule%22%3A%20%22evenodd%22%2C%20%22lineCap%22%3A%20%22round%22%2C%20%22lineJoin%22%3A%20%22round%22%2C%20%22opacity%22%3A%201.0%2C%20%22radius%22%3A%205%2C%20%22stroke%22%3A%20true%2C%20%22weight%22%3A%203%7D%0A%20%20%20%20%20%20%20%20%20%20%20%20%29.addTo%28map_da402c8c143c4c8d8a2810a77806f651%29%3B%0A%20%20%20%20%20%20%20%20%0A%20%20%20%20%0A%20%20%20%20%20%20%20%20var%20popup_f5f6efb80e4046acac649ce8e8866f52%20%3D%20L.popup%28%7B%22maxWidth%22%3A%20%22100%25%22%7D%29%3B%0A%0A%20%20%20%20%20%20%20%20%0A%20%20%20%20%20%20%20%20%20%20%20%20var%20html_ffbaae979c99495685d21029d95ca996%20%3D%20%24%28%60%3Cdiv%20id%3D%22html_ffbaae979c99495685d21029d95ca996%22%20style%3D%22width%3A%20100.0%25%3B%20height%3A%20100.0%25%3B%22%3EStapleton%2C%20Staten%20Island%3C/div%3E%60%29%5B0%5D%3B%0A%20%20%20%20%20%20%20%20%20%20%20%20popup_f5f6efb80e4046acac649ce8e8866f52.setContent%28html_ffbaae979c99495685d21029d95ca996%29%3B%0A%20%20%20%20%20%20%20%20%0A%0A%20%20%20%20%20%20%20%20circle_marker_bd20fd540f444a9d85f9d54d49f0b72a.bindPopup%28popup_f5f6efb80e4046acac649ce8e8866f52%29%0A%20%20%20%20%20%20%20%20%3B%0A%0A%20%20%20%20%20%20%20%20%0A%20%20%20%20%0A%20%20%20%20%0A%20%20%20%20%20%20%20%20%20%20%20%20var%20circle_marker_ead07a9516d04969bd75a466d2a4c7f3%20%3D%20L.circleMarker%28%0A%20%20%20%20%20%20%20%20%20%20%20%20%20%20%20%20%5B40.61530494652761%2C%20-74.06980526716141%5D%2C%0A%20%20%20%20%20%20%20%20%20%20%20%20%20%20%20%20%7B%22bubblingMouseEvents%22%3A%20true%2C%20%22color%22%3A%20%22blue%22%2C%20%22dashArray%22%3A%20null%2C%20%22dashOffset%22%3A%20null%2C%20%22fill%22%3A%20true%2C%20%22fillColor%22%3A%20%22%233186cc%22%2C%20%22fillOpacity%22%3A%200.7%2C%20%22fillRule%22%3A%20%22evenodd%22%2C%20%22lineCap%22%3A%20%22round%22%2C%20%22lineJoin%22%3A%20%22round%22%2C%20%22opacity%22%3A%201.0%2C%20%22radius%22%3A%205%2C%20%22stroke%22%3A%20true%2C%20%22weight%22%3A%203%7D%0A%20%20%20%20%20%20%20%20%20%20%20%20%29.addTo%28map_da402c8c143c4c8d8a2810a77806f651%29%3B%0A%20%20%20%20%20%20%20%20%0A%20%20%20%20%0A%20%20%20%20%20%20%20%20var%20popup_e587733c31054395adb5ef51f914ad2c%20%3D%20L.popup%28%7B%22maxWidth%22%3A%20%22100%25%22%7D%29%3B%0A%0A%20%20%20%20%20%20%20%20%0A%20%20%20%20%20%20%20%20%20%20%20%20var%20html_f9beaf3de0cb4e7abce635d9be1ba294%20%3D%20%24%28%60%3Cdiv%20id%3D%22html_f9beaf3de0cb4e7abce635d9be1ba294%22%20style%3D%22width%3A%20100.0%25%3B%20height%3A%20100.0%25%3B%22%3ERosebank%2C%20Staten%20Island%3C/div%3E%60%29%5B0%5D%3B%0A%20%20%20%20%20%20%20%20%20%20%20%20popup_e587733c31054395adb5ef51f914ad2c.setContent%28html_f9beaf3de0cb4e7abce635d9be1ba294%29%3B%0A%20%20%20%20%20%20%20%20%0A%0A%20%20%20%20%20%20%20%20circle_marker_ead07a9516d04969bd75a466d2a4c7f3.bindPopup%28popup_e587733c31054395adb5ef51f914ad2c%29%0A%20%20%20%20%20%20%20%20%3B%0A%0A%20%20%20%20%20%20%20%20%0A%20%20%20%20%0A%20%20%20%20%0A%20%20%20%20%20%20%20%20%20%20%20%20var%20circle_marker_16786aaaab1c4470b2f49f20bfa2e898%20%3D%20L.circleMarker%28%0A%20%20%20%20%20%20%20%20%20%20%20%20%20%20%20%20%5B40.63187892654607%2C%20-74.1071817826561%5D%2C%0A%20%20%20%20%20%20%20%20%20%20%20%20%20%20%20%20%7B%22bubblingMouseEvents%22%3A%20true%2C%20%22color%22%3A%20%22blue%22%2C%20%22dashArray%22%3A%20null%2C%20%22dashOffset%22%3A%20null%2C%20%22fill%22%3A%20true%2C%20%22fillColor%22%3A%20%22%233186cc%22%2C%20%22fillOpacity%22%3A%200.7%2C%20%22fillRule%22%3A%20%22evenodd%22%2C%20%22lineCap%22%3A%20%22round%22%2C%20%22lineJoin%22%3A%20%22round%22%2C%20%22opacity%22%3A%201.0%2C%20%22radius%22%3A%205%2C%20%22stroke%22%3A%20true%2C%20%22weight%22%3A%203%7D%0A%20%20%20%20%20%20%20%20%20%20%20%20%29.addTo%28map_da402c8c143c4c8d8a2810a77806f651%29%3B%0A%20%20%20%20%20%20%20%20%0A%20%20%20%20%0A%20%20%20%20%20%20%20%20var%20popup_fa641d41978749bb9a4345910039e14e%20%3D%20L.popup%28%7B%22maxWidth%22%3A%20%22100%25%22%7D%29%3B%0A%0A%20%20%20%20%20%20%20%20%0A%20%20%20%20%20%20%20%20%20%20%20%20var%20html_604ddf0a1ed94850bf763b31e015bf24%20%3D%20%24%28%60%3Cdiv%20id%3D%22html_604ddf0a1ed94850bf763b31e015bf24%22%20style%3D%22width%3A%20100.0%25%3B%20height%3A%20100.0%25%3B%22%3EWest%20Brighton%2C%20Staten%20Island%3C/div%3E%60%29%5B0%5D%3B%0A%20%20%20%20%20%20%20%20%20%20%20%20popup_fa641d41978749bb9a4345910039e14e.setContent%28html_604ddf0a1ed94850bf763b31e015bf24%29%3B%0A%20%20%20%20%20%20%20%20%0A%0A%20%20%20%20%20%20%20%20circle_marker_16786aaaab1c4470b2f49f20bfa2e898.bindPopup%28popup_fa641d41978749bb9a4345910039e14e%29%0A%20%20%20%20%20%20%20%20%3B%0A%0A%20%20%20%20%20%20%20%20%0A%20%20%20%20%0A%20%20%20%20%0A%20%20%20%20%20%20%20%20%20%20%20%20var%20circle_marker_955cf0f3665743e1ba3716f070819cab%20%3D%20L.circleMarker%28%0A%20%20%20%20%20%20%20%20%20%20%20%20%20%20%20%20%5B40.624184791313006%2C%20-74.08724819983729%5D%2C%0A%20%20%20%20%20%20%20%20%20%20%20%20%20%20%20%20%7B%22bubblingMouseEvents%22%3A%20true%2C%20%22color%22%3A%20%22blue%22%2C%20%22dashArray%22%3A%20null%2C%20%22dashOffset%22%3A%20null%2C%20%22fill%22%3A%20true%2C%20%22fillColor%22%3A%20%22%233186cc%22%2C%20%22fillOpacity%22%3A%200.7%2C%20%22fillRule%22%3A%20%22evenodd%22%2C%20%22lineCap%22%3A%20%22round%22%2C%20%22lineJoin%22%3A%20%22round%22%2C%20%22opacity%22%3A%201.0%2C%20%22radius%22%3A%205%2C%20%22stroke%22%3A%20true%2C%20%22weight%22%3A%203%7D%0A%20%20%20%20%20%20%20%20%20%20%20%20%29.addTo%28map_da402c8c143c4c8d8a2810a77806f651%29%3B%0A%20%20%20%20%20%20%20%20%0A%20%20%20%20%0A%20%20%20%20%20%20%20%20var%20popup_67630715bc0049f2a69fcd6bcf160e81%20%3D%20L.popup%28%7B%22maxWidth%22%3A%20%22100%25%22%7D%29%3B%0A%0A%20%20%20%20%20%20%20%20%0A%20%20%20%20%20%20%20%20%20%20%20%20var%20html_07c5fc5d932945088e3b3cd4e694b742%20%3D%20%24%28%60%3Cdiv%20id%3D%22html_07c5fc5d932945088e3b3cd4e694b742%22%20style%3D%22width%3A%20100.0%25%3B%20height%3A%20100.0%25%3B%22%3EGrymes%20Hill%2C%20Staten%20Island%3C/div%3E%60%29%5B0%5D%3B%0A%20%20%20%20%20%20%20%20%20%20%20%20popup_67630715bc0049f2a69fcd6bcf160e81.setContent%28html_07c5fc5d932945088e3b3cd4e694b742%29%3B%0A%20%20%20%20%20%20%20%20%0A%0A%20%20%20%20%20%20%20%20circle_marker_955cf0f3665743e1ba3716f070819cab.bindPopup%28popup_67630715bc0049f2a69fcd6bcf160e81%29%0A%20%20%20%20%20%20%20%20%3B%0A%0A%20%20%20%20%20%20%20%20%0A%20%20%20%20%0A%20%20%20%20%0A%20%20%20%20%20%20%20%20%20%20%20%20var%20circle_marker_5d36890d3b6b4b57b17985f3af1784dd%20%3D%20L.circleMarker%28%0A%20%20%20%20%20%20%20%20%20%20%20%20%20%20%20%20%5B40.59706851814673%2C%20-74.1113288180088%5D%2C%0A%20%20%20%20%20%20%20%20%20%20%20%20%20%20%20%20%7B%22bubblingMouseEvents%22%3A%20true%2C%20%22color%22%3A%20%22blue%22%2C%20%22dashArray%22%3A%20null%2C%20%22dashOffset%22%3A%20null%2C%20%22fill%22%3A%20true%2C%20%22fillColor%22%3A%20%22%233186cc%22%2C%20%22fillOpacity%22%3A%200.7%2C%20%22fillRule%22%3A%20%22evenodd%22%2C%20%22lineCap%22%3A%20%22round%22%2C%20%22lineJoin%22%3A%20%22round%22%2C%20%22opacity%22%3A%201.0%2C%20%22radius%22%3A%205%2C%20%22stroke%22%3A%20true%2C%20%22weight%22%3A%203%7D%0A%20%20%20%20%20%20%20%20%20%20%20%20%29.addTo%28map_da402c8c143c4c8d8a2810a77806f651%29%3B%0A%20%20%20%20%20%20%20%20%0A%20%20%20%20%0A%20%20%20%20%20%20%20%20var%20popup_03617d9bb40047fbb473844adc2d272f%20%3D%20L.popup%28%7B%22maxWidth%22%3A%20%22100%25%22%7D%29%3B%0A%0A%20%20%20%20%20%20%20%20%0A%20%20%20%20%20%20%20%20%20%20%20%20var%20html_8d95888ae79e4b4c9c6f2e3604749089%20%3D%20%24%28%60%3Cdiv%20id%3D%22html_8d95888ae79e4b4c9c6f2e3604749089%22%20style%3D%22width%3A%20100.0%25%3B%20height%3A%20100.0%25%3B%22%3ETodt%20Hill%2C%20Staten%20Island%3C/div%3E%60%29%5B0%5D%3B%0A%20%20%20%20%20%20%20%20%20%20%20%20popup_03617d9bb40047fbb473844adc2d272f.setContent%28html_8d95888ae79e4b4c9c6f2e3604749089%29%3B%0A%20%20%20%20%20%20%20%20%0A%0A%20%20%20%20%20%20%20%20circle_marker_5d36890d3b6b4b57b17985f3af1784dd.bindPopup%28popup_03617d9bb40047fbb473844adc2d272f%29%0A%20%20%20%20%20%20%20%20%3B%0A%0A%20%20%20%20%20%20%20%20%0A%20%20%20%20%0A%20%20%20%20%0A%20%20%20%20%20%20%20%20%20%20%20%20var%20circle_marker_ac1a6a94e59d4db0b5330cafbfff03b0%20%3D%20L.circleMarker%28%0A%20%20%20%20%20%20%20%20%20%20%20%20%20%20%20%20%5B40.58024741350956%2C%20-74.0795529253982%5D%2C%0A%20%20%20%20%20%20%20%20%20%20%20%20%20%20%20%20%7B%22bubblingMouseEvents%22%3A%20true%2C%20%22color%22%3A%20%22blue%22%2C%20%22dashArray%22%3A%20null%2C%20%22dashOffset%22%3A%20null%2C%20%22fill%22%3A%20true%2C%20%22fillColor%22%3A%20%22%233186cc%22%2C%20%22fillOpacity%22%3A%200.7%2C%20%22fillRule%22%3A%20%22evenodd%22%2C%20%22lineCap%22%3A%20%22round%22%2C%20%22lineJoin%22%3A%20%22round%22%2C%20%22opacity%22%3A%201.0%2C%20%22radius%22%3A%205%2C%20%22stroke%22%3A%20true%2C%20%22weight%22%3A%203%7D%0A%20%20%20%20%20%20%20%20%20%20%20%20%29.addTo%28map_da402c8c143c4c8d8a2810a77806f651%29%3B%0A%20%20%20%20%20%20%20%20%0A%20%20%20%20%0A%20%20%20%20%20%20%20%20var%20popup_9a746ed4a89845cfabe1dc5359f64df8%20%3D%20L.popup%28%7B%22maxWidth%22%3A%20%22100%25%22%7D%29%3B%0A%0A%20%20%20%20%20%20%20%20%0A%20%20%20%20%20%20%20%20%20%20%20%20var%20html_9c4f10227d924f1ca7033390aba6b23b%20%3D%20%24%28%60%3Cdiv%20id%3D%22html_9c4f10227d924f1ca7033390aba6b23b%22%20style%3D%22width%3A%20100.0%25%3B%20height%3A%20100.0%25%3B%22%3ESouth%20Beach%2C%20Staten%20Island%3C/div%3E%60%29%5B0%5D%3B%0A%20%20%20%20%20%20%20%20%20%20%20%20popup_9a746ed4a89845cfabe1dc5359f64df8.setContent%28html_9c4f10227d924f1ca7033390aba6b23b%29%3B%0A%20%20%20%20%20%20%20%20%0A%0A%20%20%20%20%20%20%20%20circle_marker_ac1a6a94e59d4db0b5330cafbfff03b0.bindPopup%28popup_9a746ed4a89845cfabe1dc5359f64df8%29%0A%20%20%20%20%20%20%20%20%3B%0A%0A%20%20%20%20%20%20%20%20%0A%20%20%20%20%0A%20%20%20%20%0A%20%20%20%20%20%20%20%20%20%20%20%20var%20circle_marker_a5a0bf8a0c894bc99291542def298791%20%3D%20L.circleMarker%28%0A%20%20%20%20%20%20%20%20%20%20%20%20%20%20%20%20%5B40.63366930554365%2C%20-74.12943426797008%5D%2C%0A%20%20%20%20%20%20%20%20%20%20%20%20%20%20%20%20%7B%22bubblingMouseEvents%22%3A%20true%2C%20%22color%22%3A%20%22blue%22%2C%20%22dashArray%22%3A%20null%2C%20%22dashOffset%22%3A%20null%2C%20%22fill%22%3A%20true%2C%20%22fillColor%22%3A%20%22%233186cc%22%2C%20%22fillOpacity%22%3A%200.7%2C%20%22fillRule%22%3A%20%22evenodd%22%2C%20%22lineCap%22%3A%20%22round%22%2C%20%22lineJoin%22%3A%20%22round%22%2C%20%22opacity%22%3A%201.0%2C%20%22radius%22%3A%205%2C%20%22stroke%22%3A%20true%2C%20%22weight%22%3A%203%7D%0A%20%20%20%20%20%20%20%20%20%20%20%20%29.addTo%28map_da402c8c143c4c8d8a2810a77806f651%29%3B%0A%20%20%20%20%20%20%20%20%0A%20%20%20%20%0A%20%20%20%20%20%20%20%20var%20popup_138f6364979f4ff8a2562de91fed1c92%20%3D%20L.popup%28%7B%22maxWidth%22%3A%20%22100%25%22%7D%29%3B%0A%0A%20%20%20%20%20%20%20%20%0A%20%20%20%20%20%20%20%20%20%20%20%20var%20html_9344f68e399a4fdcbf5a468da0507449%20%3D%20%24%28%60%3Cdiv%20id%3D%22html_9344f68e399a4fdcbf5a468da0507449%22%20style%3D%22width%3A%20100.0%25%3B%20height%3A%20100.0%25%3B%22%3EPort%20Richmond%2C%20Staten%20Island%3C/div%3E%60%29%5B0%5D%3B%0A%20%20%20%20%20%20%20%20%20%20%20%20popup_138f6364979f4ff8a2562de91fed1c92.setContent%28html_9344f68e399a4fdcbf5a468da0507449%29%3B%0A%20%20%20%20%20%20%20%20%0A%0A%20%20%20%20%20%20%20%20circle_marker_a5a0bf8a0c894bc99291542def298791.bindPopup%28popup_138f6364979f4ff8a2562de91fed1c92%29%0A%20%20%20%20%20%20%20%20%3B%0A%0A%20%20%20%20%20%20%20%20%0A%20%20%20%20%0A%20%20%20%20%0A%20%20%20%20%20%20%20%20%20%20%20%20var%20circle_marker_662b82cf008a42678156731ba9c3a824%20%3D%20L.circleMarker%28%0A%20%20%20%20%20%20%20%20%20%20%20%20%20%20%20%20%5B40.632546390481124%2C%20-74.15008537046981%5D%2C%0A%20%20%20%20%20%20%20%20%20%20%20%20%20%20%20%20%7B%22bubblingMouseEvents%22%3A%20true%2C%20%22color%22%3A%20%22blue%22%2C%20%22dashArray%22%3A%20null%2C%20%22dashOffset%22%3A%20null%2C%20%22fill%22%3A%20true%2C%20%22fillColor%22%3A%20%22%233186cc%22%2C%20%22fillOpacity%22%3A%200.7%2C%20%22fillRule%22%3A%20%22evenodd%22%2C%20%22lineCap%22%3A%20%22round%22%2C%20%22lineJoin%22%3A%20%22round%22%2C%20%22opacity%22%3A%201.0%2C%20%22radius%22%3A%205%2C%20%22stroke%22%3A%20true%2C%20%22weight%22%3A%203%7D%0A%20%20%20%20%20%20%20%20%20%20%20%20%29.addTo%28map_da402c8c143c4c8d8a2810a77806f651%29%3B%0A%20%20%20%20%20%20%20%20%0A%20%20%20%20%0A%20%20%20%20%20%20%20%20var%20popup_585bd0304b104df391f054d0619fa26d%20%3D%20L.popup%28%7B%22maxWidth%22%3A%20%22100%25%22%7D%29%3B%0A%0A%20%20%20%20%20%20%20%20%0A%20%20%20%20%20%20%20%20%20%20%20%20var%20html_07c8900e93bd40be812b9c1c070ae2c7%20%3D%20%24%28%60%3Cdiv%20id%3D%22html_07c8900e93bd40be812b9c1c070ae2c7%22%20style%3D%22width%3A%20100.0%25%3B%20height%3A%20100.0%25%3B%22%3EMariner%26%2339%3Bs%20Harbor%2C%20Staten%20Island%3C/div%3E%60%29%5B0%5D%3B%0A%20%20%20%20%20%20%20%20%20%20%20%20popup_585bd0304b104df391f054d0619fa26d.setContent%28html_07c8900e93bd40be812b9c1c070ae2c7%29%3B%0A%20%20%20%20%20%20%20%20%0A%0A%20%20%20%20%20%20%20%20circle_marker_662b82cf008a42678156731ba9c3a824.bindPopup%28popup_585bd0304b104df391f054d0619fa26d%29%0A%20%20%20%20%20%20%20%20%3B%0A%0A%20%20%20%20%20%20%20%20%0A%20%20%20%20%0A%20%20%20%20%0A%20%20%20%20%20%20%20%20%20%20%20%20var%20circle_marker_d5efa1f6a0a546258ccb06ac2818ffd8%20%3D%20L.circleMarker%28%0A%20%20%20%20%20%20%20%20%20%20%20%20%20%20%20%20%5B40.63968297845542%2C%20-74.17464532993542%5D%2C%0A%20%20%20%20%20%20%20%20%20%20%20%20%20%20%20%20%7B%22bubblingMouseEvents%22%3A%20true%2C%20%22color%22%3A%20%22blue%22%2C%20%22dashArray%22%3A%20null%2C%20%22dashOffset%22%3A%20null%2C%20%22fill%22%3A%20true%2C%20%22fillColor%22%3A%20%22%233186cc%22%2C%20%22fillOpacity%22%3A%200.7%2C%20%22fillRule%22%3A%20%22evenodd%22%2C%20%22lineCap%22%3A%20%22round%22%2C%20%22lineJoin%22%3A%20%22round%22%2C%20%22opacity%22%3A%201.0%2C%20%22radius%22%3A%205%2C%20%22stroke%22%3A%20true%2C%20%22weight%22%3A%203%7D%0A%20%20%20%20%20%20%20%20%20%20%20%20%29.addTo%28map_da402c8c143c4c8d8a2810a77806f651%29%3B%0A%20%20%20%20%20%20%20%20%0A%20%20%20%20%0A%20%20%20%20%20%20%20%20var%20popup_53773ce39dde481fb3b4dbc082c6769e%20%3D%20L.popup%28%7B%22maxWidth%22%3A%20%22100%25%22%7D%29%3B%0A%0A%20%20%20%20%20%20%20%20%0A%20%20%20%20%20%20%20%20%20%20%20%20var%20html_4d776acc203f4abc98a840ca9d5c0add%20%3D%20%24%28%60%3Cdiv%20id%3D%22html_4d776acc203f4abc98a840ca9d5c0add%22%20style%3D%22width%3A%20100.0%25%3B%20height%3A%20100.0%25%3B%22%3EPort%20Ivory%2C%20Staten%20Island%3C/div%3E%60%29%5B0%5D%3B%0A%20%20%20%20%20%20%20%20%20%20%20%20popup_53773ce39dde481fb3b4dbc082c6769e.setContent%28html_4d776acc203f4abc98a840ca9d5c0add%29%3B%0A%20%20%20%20%20%20%20%20%0A%0A%20%20%20%20%20%20%20%20circle_marker_d5efa1f6a0a546258ccb06ac2818ffd8.bindPopup%28popup_53773ce39dde481fb3b4dbc082c6769e%29%0A%20%20%20%20%20%20%20%20%3B%0A%0A%20%20%20%20%20%20%20%20%0A%20%20%20%20%0A%20%20%20%20%0A%20%20%20%20%20%20%20%20%20%20%20%20var%20circle_marker_9eca04dd561448bba81c37ab671dae04%20%3D%20L.circleMarker%28%0A%20%20%20%20%20%20%20%20%20%20%20%20%20%20%20%20%5B40.61333593766742%2C%20-74.11918058534842%5D%2C%0A%20%20%20%20%20%20%20%20%20%20%20%20%20%20%20%20%7B%22bubblingMouseEvents%22%3A%20true%2C%20%22color%22%3A%20%22blue%22%2C%20%22dashArray%22%3A%20null%2C%20%22dashOffset%22%3A%20null%2C%20%22fill%22%3A%20true%2C%20%22fillColor%22%3A%20%22%233186cc%22%2C%20%22fillOpacity%22%3A%200.7%2C%20%22fillRule%22%3A%20%22evenodd%22%2C%20%22lineCap%22%3A%20%22round%22%2C%20%22lineJoin%22%3A%20%22round%22%2C%20%22opacity%22%3A%201.0%2C%20%22radius%22%3A%205%2C%20%22stroke%22%3A%20true%2C%20%22weight%22%3A%203%7D%0A%20%20%20%20%20%20%20%20%20%20%20%20%29.addTo%28map_da402c8c143c4c8d8a2810a77806f651%29%3B%0A%20%20%20%20%20%20%20%20%0A%20%20%20%20%0A%20%20%20%20%20%20%20%20var%20popup_0527b4a8d26444efac40595d5b79ea2d%20%3D%20L.popup%28%7B%22maxWidth%22%3A%20%22100%25%22%7D%29%3B%0A%0A%20%20%20%20%20%20%20%20%0A%20%20%20%20%20%20%20%20%20%20%20%20var%20html_765775da0e934b7ab38a8b151c65d616%20%3D%20%24%28%60%3Cdiv%20id%3D%22html_765775da0e934b7ab38a8b151c65d616%22%20style%3D%22width%3A%20100.0%25%3B%20height%3A%20100.0%25%3B%22%3ECastleton%20Corners%2C%20Staten%20Island%3C/div%3E%60%29%5B0%5D%3B%0A%20%20%20%20%20%20%20%20%20%20%20%20popup_0527b4a8d26444efac40595d5b79ea2d.setContent%28html_765775da0e934b7ab38a8b151c65d616%29%3B%0A%20%20%20%20%20%20%20%20%0A%0A%20%20%20%20%20%20%20%20circle_marker_9eca04dd561448bba81c37ab671dae04.bindPopup%28popup_0527b4a8d26444efac40595d5b79ea2d%29%0A%20%20%20%20%20%20%20%20%3B%0A%0A%20%20%20%20%20%20%20%20%0A%20%20%20%20%0A%20%20%20%20%0A%20%20%20%20%20%20%20%20%20%20%20%20var%20circle_marker_fddfea77c41e4e308e9ed44a0168cd38%20%3D%20L.circleMarker%28%0A%20%20%20%20%20%20%20%20%20%20%20%20%20%20%20%20%5B40.594252379161695%2C%20-74.16496031329827%5D%2C%0A%20%20%20%20%20%20%20%20%20%20%20%20%20%20%20%20%7B%22bubblingMouseEvents%22%3A%20true%2C%20%22color%22%3A%20%22blue%22%2C%20%22dashArray%22%3A%20null%2C%20%22dashOffset%22%3A%20null%2C%20%22fill%22%3A%20true%2C%20%22fillColor%22%3A%20%22%233186cc%22%2C%20%22fillOpacity%22%3A%200.7%2C%20%22fillRule%22%3A%20%22evenodd%22%2C%20%22lineCap%22%3A%20%22round%22%2C%20%22lineJoin%22%3A%20%22round%22%2C%20%22opacity%22%3A%201.0%2C%20%22radius%22%3A%205%2C%20%22stroke%22%3A%20true%2C%20%22weight%22%3A%203%7D%0A%20%20%20%20%20%20%20%20%20%20%20%20%29.addTo%28map_da402c8c143c4c8d8a2810a77806f651%29%3B%0A%20%20%20%20%20%20%20%20%0A%20%20%20%20%0A%20%20%20%20%20%20%20%20var%20popup_bd1e414068e0458a97e543dc676f7b5f%20%3D%20L.popup%28%7B%22maxWidth%22%3A%20%22100%25%22%7D%29%3B%0A%0A%20%20%20%20%20%20%20%20%0A%20%20%20%20%20%20%20%20%20%20%20%20var%20html_f1fbe5807ef747c980bdf9e610f08249%20%3D%20%24%28%60%3Cdiv%20id%3D%22html_f1fbe5807ef747c980bdf9e610f08249%22%20style%3D%22width%3A%20100.0%25%3B%20height%3A%20100.0%25%3B%22%3ENew%20Springville%2C%20Staten%20Island%3C/div%3E%60%29%5B0%5D%3B%0A%20%20%20%20%20%20%20%20%20%20%20%20popup_bd1e414068e0458a97e543dc676f7b5f.setContent%28html_f1fbe5807ef747c980bdf9e610f08249%29%3B%0A%20%20%20%20%20%20%20%20%0A%0A%20%20%20%20%20%20%20%20circle_marker_fddfea77c41e4e308e9ed44a0168cd38.bindPopup%28popup_bd1e414068e0458a97e543dc676f7b5f%29%0A%20%20%20%20%20%20%20%20%3B%0A%0A%20%20%20%20%20%20%20%20%0A%20%20%20%20%0A%20%20%20%20%0A%20%20%20%20%20%20%20%20%20%20%20%20var%20circle_marker_5090532b4dcd49559583eb7f05e2f02e%20%3D%20L.circleMarker%28%0A%20%20%20%20%20%20%20%20%20%20%20%20%20%20%20%20%5B40.58631375103281%2C%20-74.19073717538116%5D%2C%0A%20%20%20%20%20%20%20%20%20%20%20%20%20%20%20%20%7B%22bubblingMouseEvents%22%3A%20true%2C%20%22color%22%3A%20%22blue%22%2C%20%22dashArray%22%3A%20null%2C%20%22dashOffset%22%3A%20null%2C%20%22fill%22%3A%20true%2C%20%22fillColor%22%3A%20%22%233186cc%22%2C%20%22fillOpacity%22%3A%200.7%2C%20%22fillRule%22%3A%20%22evenodd%22%2C%20%22lineCap%22%3A%20%22round%22%2C%20%22lineJoin%22%3A%20%22round%22%2C%20%22opacity%22%3A%201.0%2C%20%22radius%22%3A%205%2C%20%22stroke%22%3A%20true%2C%20%22weight%22%3A%203%7D%0A%20%20%20%20%20%20%20%20%20%20%20%20%29.addTo%28map_da402c8c143c4c8d8a2810a77806f651%29%3B%0A%20%20%20%20%20%20%20%20%0A%20%20%20%20%0A%20%20%20%20%20%20%20%20var%20popup_3499a694dc38481fbbf5932ac0a958bf%20%3D%20L.popup%28%7B%22maxWidth%22%3A%20%22100%25%22%7D%29%3B%0A%0A%20%20%20%20%20%20%20%20%0A%20%20%20%20%20%20%20%20%20%20%20%20var%20html_2ec594bbfd4d4271aaac8948bf023581%20%3D%20%24%28%60%3Cdiv%20id%3D%22html_2ec594bbfd4d4271aaac8948bf023581%22%20style%3D%22width%3A%20100.0%25%3B%20height%3A%20100.0%25%3B%22%3ETravis%2C%20Staten%20Island%3C/div%3E%60%29%5B0%5D%3B%0A%20%20%20%20%20%20%20%20%20%20%20%20popup_3499a694dc38481fbbf5932ac0a958bf.setContent%28html_2ec594bbfd4d4271aaac8948bf023581%29%3B%0A%20%20%20%20%20%20%20%20%0A%0A%20%20%20%20%20%20%20%20circle_marker_5090532b4dcd49559583eb7f05e2f02e.bindPopup%28popup_3499a694dc38481fbbf5932ac0a958bf%29%0A%20%20%20%20%20%20%20%20%3B%0A%0A%20%20%20%20%20%20%20%20%0A%20%20%20%20%0A%20%20%20%20%0A%20%20%20%20%20%20%20%20%20%20%20%20var%20circle_marker_30043013969a49b884bac8691eb1b458%20%3D%20L.circleMarker%28%0A%20%20%20%20%20%20%20%20%20%20%20%20%20%20%20%20%5B40.57257231820632%2C%20-74.1164794360638%5D%2C%0A%20%20%20%20%20%20%20%20%20%20%20%20%20%20%20%20%7B%22bubblingMouseEvents%22%3A%20true%2C%20%22color%22%3A%20%22blue%22%2C%20%22dashArray%22%3A%20null%2C%20%22dashOffset%22%3A%20null%2C%20%22fill%22%3A%20true%2C%20%22fillColor%22%3A%20%22%233186cc%22%2C%20%22fillOpacity%22%3A%200.7%2C%20%22fillRule%22%3A%20%22evenodd%22%2C%20%22lineCap%22%3A%20%22round%22%2C%20%22lineJoin%22%3A%20%22round%22%2C%20%22opacity%22%3A%201.0%2C%20%22radius%22%3A%205%2C%20%22stroke%22%3A%20true%2C%20%22weight%22%3A%203%7D%0A%20%20%20%20%20%20%20%20%20%20%20%20%29.addTo%28map_da402c8c143c4c8d8a2810a77806f651%29%3B%0A%20%20%20%20%20%20%20%20%0A%20%20%20%20%0A%20%20%20%20%20%20%20%20var%20popup_9a0c091969fd485fbe1a413f4fd9e4ea%20%3D%20L.popup%28%7B%22maxWidth%22%3A%20%22100%25%22%7D%29%3B%0A%0A%20%20%20%20%20%20%20%20%0A%20%20%20%20%20%20%20%20%20%20%20%20var%20html_c794fb24048b401ea33bdb5b62febc40%20%3D%20%24%28%60%3Cdiv%20id%3D%22html_c794fb24048b401ea33bdb5b62febc40%22%20style%3D%22width%3A%20100.0%25%3B%20height%3A%20100.0%25%3B%22%3ENew%20Dorp%2C%20Staten%20Island%3C/div%3E%60%29%5B0%5D%3B%0A%20%20%20%20%20%20%20%20%20%20%20%20popup_9a0c091969fd485fbe1a413f4fd9e4ea.setContent%28html_c794fb24048b401ea33bdb5b62febc40%29%3B%0A%20%20%20%20%20%20%20%20%0A%0A%20%20%20%20%20%20%20%20circle_marker_30043013969a49b884bac8691eb1b458.bindPopup%28popup_9a0c091969fd485fbe1a413f4fd9e4ea%29%0A%20%20%20%20%20%20%20%20%3B%0A%0A%20%20%20%20%20%20%20%20%0A%20%20%20%20%0A%20%20%20%20%0A%20%20%20%20%20%20%20%20%20%20%20%20var%20circle_marker_5aec61bc2ef545cc83949d99aeb657ca%20%3D%20L.circleMarker%28%0A%20%20%20%20%20%20%20%20%20%20%20%20%20%20%20%20%5B40.5584622432888%2C%20-74.12156593771896%5D%2C%0A%20%20%20%20%20%20%20%20%20%20%20%20%20%20%20%20%7B%22bubblingMouseEvents%22%3A%20true%2C%20%22color%22%3A%20%22blue%22%2C%20%22dashArray%22%3A%20null%2C%20%22dashOffset%22%3A%20null%2C%20%22fill%22%3A%20true%2C%20%22fillColor%22%3A%20%22%233186cc%22%2C%20%22fillOpacity%22%3A%200.7%2C%20%22fillRule%22%3A%20%22evenodd%22%2C%20%22lineCap%22%3A%20%22round%22%2C%20%22lineJoin%22%3A%20%22round%22%2C%20%22opacity%22%3A%201.0%2C%20%22radius%22%3A%205%2C%20%22stroke%22%3A%20true%2C%20%22weight%22%3A%203%7D%0A%20%20%20%20%20%20%20%20%20%20%20%20%29.addTo%28map_da402c8c143c4c8d8a2810a77806f651%29%3B%0A%20%20%20%20%20%20%20%20%0A%20%20%20%20%0A%20%20%20%20%20%20%20%20var%20popup_8a670520f83a4d419737c36024ec38fa%20%3D%20L.popup%28%7B%22maxWidth%22%3A%20%22100%25%22%7D%29%3B%0A%0A%20%20%20%20%20%20%20%20%0A%20%20%20%20%20%20%20%20%20%20%20%20var%20html_e1565cd409104aa7943e09b8dfd99a4d%20%3D%20%24%28%60%3Cdiv%20id%3D%22html_e1565cd409104aa7943e09b8dfd99a4d%22%20style%3D%22width%3A%20100.0%25%3B%20height%3A%20100.0%25%3B%22%3EOakwood%2C%20Staten%20Island%3C/div%3E%60%29%5B0%5D%3B%0A%20%20%20%20%20%20%20%20%20%20%20%20popup_8a670520f83a4d419737c36024ec38fa.setContent%28html_e1565cd409104aa7943e09b8dfd99a4d%29%3B%0A%20%20%20%20%20%20%20%20%0A%0A%20%20%20%20%20%20%20%20circle_marker_5aec61bc2ef545cc83949d99aeb657ca.bindPopup%28popup_8a670520f83a4d419737c36024ec38fa%29%0A%20%20%20%20%20%20%20%20%3B%0A%0A%20%20%20%20%20%20%20%20%0A%20%20%20%20%0A%20%20%20%20%0A%20%20%20%20%20%20%20%20%20%20%20%20var%20circle_marker_fc35d688f8ab4278a17e7bac30f3a72e%20%3D%20L.circleMarker%28%0A%20%20%20%20%20%20%20%20%20%20%20%20%20%20%20%20%5B40.549480228713605%2C%20-74.14932381490992%5D%2C%0A%20%20%20%20%20%20%20%20%20%20%20%20%20%20%20%20%7B%22bubblingMouseEvents%22%3A%20true%2C%20%22color%22%3A%20%22blue%22%2C%20%22dashArray%22%3A%20null%2C%20%22dashOffset%22%3A%20null%2C%20%22fill%22%3A%20true%2C%20%22fillColor%22%3A%20%22%233186cc%22%2C%20%22fillOpacity%22%3A%200.7%2C%20%22fillRule%22%3A%20%22evenodd%22%2C%20%22lineCap%22%3A%20%22round%22%2C%20%22lineJoin%22%3A%20%22round%22%2C%20%22opacity%22%3A%201.0%2C%20%22radius%22%3A%205%2C%20%22stroke%22%3A%20true%2C%20%22weight%22%3A%203%7D%0A%20%20%20%20%20%20%20%20%20%20%20%20%29.addTo%28map_da402c8c143c4c8d8a2810a77806f651%29%3B%0A%20%20%20%20%20%20%20%20%0A%20%20%20%20%0A%20%20%20%20%20%20%20%20var%20popup_847465c1d2524b2caf4162f61ef46bd4%20%3D%20L.popup%28%7B%22maxWidth%22%3A%20%22100%25%22%7D%29%3B%0A%0A%20%20%20%20%20%20%20%20%0A%20%20%20%20%20%20%20%20%20%20%20%20var%20html_69879419378a48f6be451510fca4bbf5%20%3D%20%24%28%60%3Cdiv%20id%3D%22html_69879419378a48f6be451510fca4bbf5%22%20style%3D%22width%3A%20100.0%25%3B%20height%3A%20100.0%25%3B%22%3EGreat%20Kills%2C%20Staten%20Island%3C/div%3E%60%29%5B0%5D%3B%0A%20%20%20%20%20%20%20%20%20%20%20%20popup_847465c1d2524b2caf4162f61ef46bd4.setContent%28html_69879419378a48f6be451510fca4bbf5%29%3B%0A%20%20%20%20%20%20%20%20%0A%0A%20%20%20%20%20%20%20%20circle_marker_fc35d688f8ab4278a17e7bac30f3a72e.bindPopup%28popup_847465c1d2524b2caf4162f61ef46bd4%29%0A%20%20%20%20%20%20%20%20%3B%0A%0A%20%20%20%20%20%20%20%20%0A%20%20%20%20%0A%20%20%20%20%0A%20%20%20%20%20%20%20%20%20%20%20%20var%20circle_marker_db7fe713263247a5add6ba24f738d88b%20%3D%20L.circleMarker%28%0A%20%20%20%20%20%20%20%20%20%20%20%20%20%20%20%20%5B40.542230747450745%2C%20-74.1643308041936%5D%2C%0A%20%20%20%20%20%20%20%20%20%20%20%20%20%20%20%20%7B%22bubblingMouseEvents%22%3A%20true%2C%20%22color%22%3A%20%22blue%22%2C%20%22dashArray%22%3A%20null%2C%20%22dashOffset%22%3A%20null%2C%20%22fill%22%3A%20true%2C%20%22fillColor%22%3A%20%22%233186cc%22%2C%20%22fillOpacity%22%3A%200.7%2C%20%22fillRule%22%3A%20%22evenodd%22%2C%20%22lineCap%22%3A%20%22round%22%2C%20%22lineJoin%22%3A%20%22round%22%2C%20%22opacity%22%3A%201.0%2C%20%22radius%22%3A%205%2C%20%22stroke%22%3A%20true%2C%20%22weight%22%3A%203%7D%0A%20%20%20%20%20%20%20%20%20%20%20%20%29.addTo%28map_da402c8c143c4c8d8a2810a77806f651%29%3B%0A%20%20%20%20%20%20%20%20%0A%20%20%20%20%0A%20%20%20%20%20%20%20%20var%20popup_c0d69942690e4512bcd87be5514dac89%20%3D%20L.popup%28%7B%22maxWidth%22%3A%20%22100%25%22%7D%29%3B%0A%0A%20%20%20%20%20%20%20%20%0A%20%20%20%20%20%20%20%20%20%20%20%20var%20html_67384f18ca814ab4a7bf4e2bde45b2f7%20%3D%20%24%28%60%3Cdiv%20id%3D%22html_67384f18ca814ab4a7bf4e2bde45b2f7%22%20style%3D%22width%3A%20100.0%25%3B%20height%3A%20100.0%25%3B%22%3EEltingville%2C%20Staten%20Island%3C/div%3E%60%29%5B0%5D%3B%0A%20%20%20%20%20%20%20%20%20%20%20%20popup_c0d69942690e4512bcd87be5514dac89.setContent%28html_67384f18ca814ab4a7bf4e2bde45b2f7%29%3B%0A%20%20%20%20%20%20%20%20%0A%0A%20%20%20%20%20%20%20%20circle_marker_db7fe713263247a5add6ba24f738d88b.bindPopup%28popup_c0d69942690e4512bcd87be5514dac89%29%0A%20%20%20%20%20%20%20%20%3B%0A%0A%20%20%20%20%20%20%20%20%0A%20%20%20%20%0A%20%20%20%20%0A%20%20%20%20%20%20%20%20%20%20%20%20var%20circle_marker_96c93e20c1d346b987bda038decf9a7e%20%3D%20L.circleMarker%28%0A%20%20%20%20%20%20%20%20%20%20%20%20%20%20%20%20%5B40.53811417474507%2C%20-74.17854866165878%5D%2C%0A%20%20%20%20%20%20%20%20%20%20%20%20%20%20%20%20%7B%22bubblingMouseEvents%22%3A%20true%2C%20%22color%22%3A%20%22blue%22%2C%20%22dashArray%22%3A%20null%2C%20%22dashOffset%22%3A%20null%2C%20%22fill%22%3A%20true%2C%20%22fillColor%22%3A%20%22%233186cc%22%2C%20%22fillOpacity%22%3A%200.7%2C%20%22fillRule%22%3A%20%22evenodd%22%2C%20%22lineCap%22%3A%20%22round%22%2C%20%22lineJoin%22%3A%20%22round%22%2C%20%22opacity%22%3A%201.0%2C%20%22radius%22%3A%205%2C%20%22stroke%22%3A%20true%2C%20%22weight%22%3A%203%7D%0A%20%20%20%20%20%20%20%20%20%20%20%20%29.addTo%28map_da402c8c143c4c8d8a2810a77806f651%29%3B%0A%20%20%20%20%20%20%20%20%0A%20%20%20%20%0A%20%20%20%20%20%20%20%20var%20popup_1100a23de8394b21b8b36433f46033ec%20%3D%20L.popup%28%7B%22maxWidth%22%3A%20%22100%25%22%7D%29%3B%0A%0A%20%20%20%20%20%20%20%20%0A%20%20%20%20%20%20%20%20%20%20%20%20var%20html_664c402ef7274c60bff0e4fb1e9d15dd%20%3D%20%24%28%60%3Cdiv%20id%3D%22html_664c402ef7274c60bff0e4fb1e9d15dd%22%20style%3D%22width%3A%20100.0%25%3B%20height%3A%20100.0%25%3B%22%3EAnnadale%2C%20Staten%20Island%3C/div%3E%60%29%5B0%5D%3B%0A%20%20%20%20%20%20%20%20%20%20%20%20popup_1100a23de8394b21b8b36433f46033ec.setContent%28html_664c402ef7274c60bff0e4fb1e9d15dd%29%3B%0A%20%20%20%20%20%20%20%20%0A%0A%20%20%20%20%20%20%20%20circle_marker_96c93e20c1d346b987bda038decf9a7e.bindPopup%28popup_1100a23de8394b21b8b36433f46033ec%29%0A%20%20%20%20%20%20%20%20%3B%0A%0A%20%20%20%20%20%20%20%20%0A%20%20%20%20%0A%20%20%20%20%0A%20%20%20%20%20%20%20%20%20%20%20%20var%20circle_marker_b89ed7ab30f947099e3ec6df092e1ce0%20%3D%20L.circleMarker%28%0A%20%20%20%20%20%20%20%20%20%20%20%20%20%20%20%20%5B40.541967622888755%2C%20-74.20524582480326%5D%2C%0A%20%20%20%20%20%20%20%20%20%20%20%20%20%20%20%20%7B%22bubblingMouseEvents%22%3A%20true%2C%20%22color%22%3A%20%22blue%22%2C%20%22dashArray%22%3A%20null%2C%20%22dashOffset%22%3A%20null%2C%20%22fill%22%3A%20true%2C%20%22fillColor%22%3A%20%22%233186cc%22%2C%20%22fillOpacity%22%3A%200.7%2C%20%22fillRule%22%3A%20%22evenodd%22%2C%20%22lineCap%22%3A%20%22round%22%2C%20%22lineJoin%22%3A%20%22round%22%2C%20%22opacity%22%3A%201.0%2C%20%22radius%22%3A%205%2C%20%22stroke%22%3A%20true%2C%20%22weight%22%3A%203%7D%0A%20%20%20%20%20%20%20%20%20%20%20%20%29.addTo%28map_da402c8c143c4c8d8a2810a77806f651%29%3B%0A%20%20%20%20%20%20%20%20%0A%20%20%20%20%0A%20%20%20%20%20%20%20%20var%20popup_f7bd3f3454c64f4d930ba252e08b51b2%20%3D%20L.popup%28%7B%22maxWidth%22%3A%20%22100%25%22%7D%29%3B%0A%0A%20%20%20%20%20%20%20%20%0A%20%20%20%20%20%20%20%20%20%20%20%20var%20html_7f8c184088bc4b7bbce282fa57415369%20%3D%20%24%28%60%3Cdiv%20id%3D%22html_7f8c184088bc4b7bbce282fa57415369%22%20style%3D%22width%3A%20100.0%25%3B%20height%3A%20100.0%25%3B%22%3EWoodrow%2C%20Staten%20Island%3C/div%3E%60%29%5B0%5D%3B%0A%20%20%20%20%20%20%20%20%20%20%20%20popup_f7bd3f3454c64f4d930ba252e08b51b2.setContent%28html_7f8c184088bc4b7bbce282fa57415369%29%3B%0A%20%20%20%20%20%20%20%20%0A%0A%20%20%20%20%20%20%20%20circle_marker_b89ed7ab30f947099e3ec6df092e1ce0.bindPopup%28popup_f7bd3f3454c64f4d930ba252e08b51b2%29%0A%20%20%20%20%20%20%20%20%3B%0A%0A%20%20%20%20%20%20%20%20%0A%20%20%20%20%0A%20%20%20%20%0A%20%20%20%20%20%20%20%20%20%20%20%20var%20circle_marker_2efacb7e225140c6946143f548553727%20%3D%20L.circleMarker%28%0A%20%20%20%20%20%20%20%20%20%20%20%20%20%20%20%20%5B40.50533376115642%2C%20-74.24656934235283%5D%2C%0A%20%20%20%20%20%20%20%20%20%20%20%20%20%20%20%20%7B%22bubblingMouseEvents%22%3A%20true%2C%20%22color%22%3A%20%22blue%22%2C%20%22dashArray%22%3A%20null%2C%20%22dashOffset%22%3A%20null%2C%20%22fill%22%3A%20true%2C%20%22fillColor%22%3A%20%22%233186cc%22%2C%20%22fillOpacity%22%3A%200.7%2C%20%22fillRule%22%3A%20%22evenodd%22%2C%20%22lineCap%22%3A%20%22round%22%2C%20%22lineJoin%22%3A%20%22round%22%2C%20%22opacity%22%3A%201.0%2C%20%22radius%22%3A%205%2C%20%22stroke%22%3A%20true%2C%20%22weight%22%3A%203%7D%0A%20%20%20%20%20%20%20%20%20%20%20%20%29.addTo%28map_da402c8c143c4c8d8a2810a77806f651%29%3B%0A%20%20%20%20%20%20%20%20%0A%20%20%20%20%0A%20%20%20%20%20%20%20%20var%20popup_d4a3af0557d04dd9b5b74422d3b1a6f5%20%3D%20L.popup%28%7B%22maxWidth%22%3A%20%22100%25%22%7D%29%3B%0A%0A%20%20%20%20%20%20%20%20%0A%20%20%20%20%20%20%20%20%20%20%20%20var%20html_4c24790f7a664c2a8b0dd98e2f0566ca%20%3D%20%24%28%60%3Cdiv%20id%3D%22html_4c24790f7a664c2a8b0dd98e2f0566ca%22%20style%3D%22width%3A%20100.0%25%3B%20height%3A%20100.0%25%3B%22%3ETottenville%2C%20Staten%20Island%3C/div%3E%60%29%5B0%5D%3B%0A%20%20%20%20%20%20%20%20%20%20%20%20popup_d4a3af0557d04dd9b5b74422d3b1a6f5.setContent%28html_4c24790f7a664c2a8b0dd98e2f0566ca%29%3B%0A%20%20%20%20%20%20%20%20%0A%0A%20%20%20%20%20%20%20%20circle_marker_2efacb7e225140c6946143f548553727.bindPopup%28popup_d4a3af0557d04dd9b5b74422d3b1a6f5%29%0A%20%20%20%20%20%20%20%20%3B%0A%0A%20%20%20%20%20%20%20%20%0A%20%20%20%20%0A%20%20%20%20%0A%20%20%20%20%20%20%20%20%20%20%20%20var%20circle_marker_661833cc025b46e9a4c41996f0086256%20%3D%20L.circleMarker%28%0A%20%20%20%20%20%20%20%20%20%20%20%20%20%20%20%20%5B40.637316067110326%2C%20-74.08055351790115%5D%2C%0A%20%20%20%20%20%20%20%20%20%20%20%20%20%20%20%20%7B%22bubblingMouseEvents%22%3A%20true%2C%20%22color%22%3A%20%22blue%22%2C%20%22dashArray%22%3A%20null%2C%20%22dashOffset%22%3A%20null%2C%20%22fill%22%3A%20true%2C%20%22fillColor%22%3A%20%22%233186cc%22%2C%20%22fillOpacity%22%3A%200.7%2C%20%22fillRule%22%3A%20%22evenodd%22%2C%20%22lineCap%22%3A%20%22round%22%2C%20%22lineJoin%22%3A%20%22round%22%2C%20%22opacity%22%3A%201.0%2C%20%22radius%22%3A%205%2C%20%22stroke%22%3A%20true%2C%20%22weight%22%3A%203%7D%0A%20%20%20%20%20%20%20%20%20%20%20%20%29.addTo%28map_da402c8c143c4c8d8a2810a77806f651%29%3B%0A%20%20%20%20%20%20%20%20%0A%20%20%20%20%0A%20%20%20%20%20%20%20%20var%20popup_35ff57a9bb05479492f5314ad01c2220%20%3D%20L.popup%28%7B%22maxWidth%22%3A%20%22100%25%22%7D%29%3B%0A%0A%20%20%20%20%20%20%20%20%0A%20%20%20%20%20%20%20%20%20%20%20%20var%20html_5dd8867f0cc743e1a8ccb1659d8db626%20%3D%20%24%28%60%3Cdiv%20id%3D%22html_5dd8867f0cc743e1a8ccb1659d8db626%22%20style%3D%22width%3A%20100.0%25%3B%20height%3A%20100.0%25%3B%22%3ETompkinsville%2C%20Staten%20Island%3C/div%3E%60%29%5B0%5D%3B%0A%20%20%20%20%20%20%20%20%20%20%20%20popup_35ff57a9bb05479492f5314ad01c2220.setContent%28html_5dd8867f0cc743e1a8ccb1659d8db626%29%3B%0A%20%20%20%20%20%20%20%20%0A%0A%20%20%20%20%20%20%20%20circle_marker_661833cc025b46e9a4c41996f0086256.bindPopup%28popup_35ff57a9bb05479492f5314ad01c2220%29%0A%20%20%20%20%20%20%20%20%3B%0A%0A%20%20%20%20%20%20%20%20%0A%20%20%20%20%0A%20%20%20%20%0A%20%20%20%20%20%20%20%20%20%20%20%20var%20circle_marker_13fe205416a842ad9713e6718d9251ac%20%3D%20L.circleMarker%28%0A%20%20%20%20%20%20%20%20%20%20%20%20%20%20%20%20%5B40.61919310792676%2C%20-74.09629029235458%5D%2C%0A%20%20%20%20%20%20%20%20%20%20%20%20%20%20%20%20%7B%22bubblingMouseEvents%22%3A%20true%2C%20%22color%22%3A%20%22blue%22%2C%20%22dashArray%22%3A%20null%2C%20%22dashOffset%22%3A%20null%2C%20%22fill%22%3A%20true%2C%20%22fillColor%22%3A%20%22%233186cc%22%2C%20%22fillOpacity%22%3A%200.7%2C%20%22fillRule%22%3A%20%22evenodd%22%2C%20%22lineCap%22%3A%20%22round%22%2C%20%22lineJoin%22%3A%20%22round%22%2C%20%22opacity%22%3A%201.0%2C%20%22radius%22%3A%205%2C%20%22stroke%22%3A%20true%2C%20%22weight%22%3A%203%7D%0A%20%20%20%20%20%20%20%20%20%20%20%20%29.addTo%28map_da402c8c143c4c8d8a2810a77806f651%29%3B%0A%20%20%20%20%20%20%20%20%0A%20%20%20%20%0A%20%20%20%20%20%20%20%20var%20popup_41fefdef57d640f590a9f014e7fa5af9%20%3D%20L.popup%28%7B%22maxWidth%22%3A%20%22100%25%22%7D%29%3B%0A%0A%20%20%20%20%20%20%20%20%0A%20%20%20%20%20%20%20%20%20%20%20%20var%20html_ffa60903824d4e61bd110c8ab4237f54%20%3D%20%24%28%60%3Cdiv%20id%3D%22html_ffa60903824d4e61bd110c8ab4237f54%22%20style%3D%22width%3A%20100.0%25%3B%20height%3A%20100.0%25%3B%22%3ESilver%20Lake%2C%20Staten%20Island%3C/div%3E%60%29%5B0%5D%3B%0A%20%20%20%20%20%20%20%20%20%20%20%20popup_41fefdef57d640f590a9f014e7fa5af9.setContent%28html_ffa60903824d4e61bd110c8ab4237f54%29%3B%0A%20%20%20%20%20%20%20%20%0A%0A%20%20%20%20%20%20%20%20circle_marker_13fe205416a842ad9713e6718d9251ac.bindPopup%28popup_41fefdef57d640f590a9f014e7fa5af9%29%0A%20%20%20%20%20%20%20%20%3B%0A%0A%20%20%20%20%20%20%20%20%0A%20%20%20%20%0A%20%20%20%20%0A%20%20%20%20%20%20%20%20%20%20%20%20var%20circle_marker_4f5cd97fc1744d0fbfea18d31575d899%20%3D%20L.circleMarker%28%0A%20%20%20%20%20%20%20%20%20%20%20%20%20%20%20%20%5B40.61276015756489%2C%20-74.0971255217853%5D%2C%0A%20%20%20%20%20%20%20%20%20%20%20%20%20%20%20%20%7B%22bubblingMouseEvents%22%3A%20true%2C%20%22color%22%3A%20%22blue%22%2C%20%22dashArray%22%3A%20null%2C%20%22dashOffset%22%3A%20null%2C%20%22fill%22%3A%20true%2C%20%22fillColor%22%3A%20%22%233186cc%22%2C%20%22fillOpacity%22%3A%200.7%2C%20%22fillRule%22%3A%20%22evenodd%22%2C%20%22lineCap%22%3A%20%22round%22%2C%20%22lineJoin%22%3A%20%22round%22%2C%20%22opacity%22%3A%201.0%2C%20%22radius%22%3A%205%2C%20%22stroke%22%3A%20true%2C%20%22weight%22%3A%203%7D%0A%20%20%20%20%20%20%20%20%20%20%20%20%29.addTo%28map_da402c8c143c4c8d8a2810a77806f651%29%3B%0A%20%20%20%20%20%20%20%20%0A%20%20%20%20%0A%20%20%20%20%20%20%20%20var%20popup_621fbddb9f574fbbb687652234a6d53a%20%3D%20L.popup%28%7B%22maxWidth%22%3A%20%22100%25%22%7D%29%3B%0A%0A%20%20%20%20%20%20%20%20%0A%20%20%20%20%20%20%20%20%20%20%20%20var%20html_53f76290d183434b9b9fd9dd0788c5ea%20%3D%20%24%28%60%3Cdiv%20id%3D%22html_53f76290d183434b9b9fd9dd0788c5ea%22%20style%3D%22width%3A%20100.0%25%3B%20height%3A%20100.0%25%3B%22%3ESunnyside%2C%20Staten%20Island%3C/div%3E%60%29%5B0%5D%3B%0A%20%20%20%20%20%20%20%20%20%20%20%20popup_621fbddb9f574fbbb687652234a6d53a.setContent%28html_53f76290d183434b9b9fd9dd0788c5ea%29%3B%0A%20%20%20%20%20%20%20%20%0A%0A%20%20%20%20%20%20%20%20circle_marker_4f5cd97fc1744d0fbfea18d31575d899.bindPopup%28popup_621fbddb9f574fbbb687652234a6d53a%29%0A%20%20%20%20%20%20%20%20%3B%0A%0A%20%20%20%20%20%20%20%20%0A%20%20%20%20%0A%20%20%20%20%0A%20%20%20%20%20%20%20%20%20%20%20%20var%20circle_marker_db930d86eddc4a96bed38921ad442574%20%3D%20L.circleMarker%28%0A%20%20%20%20%20%20%20%20%20%20%20%20%20%20%20%20%5B40.643675183340974%2C%20-73.96101312466779%5D%2C%0A%20%20%20%20%20%20%20%20%20%20%20%20%20%20%20%20%7B%22bubblingMouseEvents%22%3A%20true%2C%20%22color%22%3A%20%22blue%22%2C%20%22dashArray%22%3A%20null%2C%20%22dashOffset%22%3A%20null%2C%20%22fill%22%3A%20true%2C%20%22fillColor%22%3A%20%22%233186cc%22%2C%20%22fillOpacity%22%3A%200.7%2C%20%22fillRule%22%3A%20%22evenodd%22%2C%20%22lineCap%22%3A%20%22round%22%2C%20%22lineJoin%22%3A%20%22round%22%2C%20%22opacity%22%3A%201.0%2C%20%22radius%22%3A%205%2C%20%22stroke%22%3A%20true%2C%20%22weight%22%3A%203%7D%0A%20%20%20%20%20%20%20%20%20%20%20%20%29.addTo%28map_da402c8c143c4c8d8a2810a77806f651%29%3B%0A%20%20%20%20%20%20%20%20%0A%20%20%20%20%0A%20%20%20%20%20%20%20%20var%20popup_49d3e8a6e1b84a2daf73020fd3272640%20%3D%20L.popup%28%7B%22maxWidth%22%3A%20%22100%25%22%7D%29%3B%0A%0A%20%20%20%20%20%20%20%20%0A%20%20%20%20%20%20%20%20%20%20%20%20var%20html_67b231d100bc473081bf755a068da242%20%3D%20%24%28%60%3Cdiv%20id%3D%22html_67b231d100bc473081bf755a068da242%22%20style%3D%22width%3A%20100.0%25%3B%20height%3A%20100.0%25%3B%22%3EDitmas%20Park%2C%20Brooklyn%3C/div%3E%60%29%5B0%5D%3B%0A%20%20%20%20%20%20%20%20%20%20%20%20popup_49d3e8a6e1b84a2daf73020fd3272640.setContent%28html_67b231d100bc473081bf755a068da242%29%3B%0A%20%20%20%20%20%20%20%20%0A%0A%20%20%20%20%20%20%20%20circle_marker_db930d86eddc4a96bed38921ad442574.bindPopup%28popup_49d3e8a6e1b84a2daf73020fd3272640%29%0A%20%20%20%20%20%20%20%20%3B%0A%0A%20%20%20%20%20%20%20%20%0A%20%20%20%20%0A%20%20%20%20%0A%20%20%20%20%20%20%20%20%20%20%20%20var%20circle_marker_17e6fe1b841345d7ba4e4d8e28f72f44%20%3D%20L.circleMarker%28%0A%20%20%20%20%20%20%20%20%20%20%20%20%20%20%20%20%5B40.66094656188111%2C%20-73.93718680559314%5D%2C%0A%20%20%20%20%20%20%20%20%20%20%20%20%20%20%20%20%7B%22bubblingMouseEvents%22%3A%20true%2C%20%22color%22%3A%20%22blue%22%2C%20%22dashArray%22%3A%20null%2C%20%22dashOffset%22%3A%20null%2C%20%22fill%22%3A%20true%2C%20%22fillColor%22%3A%20%22%233186cc%22%2C%20%22fillOpacity%22%3A%200.7%2C%20%22fillRule%22%3A%20%22evenodd%22%2C%20%22lineCap%22%3A%20%22round%22%2C%20%22lineJoin%22%3A%20%22round%22%2C%20%22opacity%22%3A%201.0%2C%20%22radius%22%3A%205%2C%20%22stroke%22%3A%20true%2C%20%22weight%22%3A%203%7D%0A%20%20%20%20%20%20%20%20%20%20%20%20%29.addTo%28map_da402c8c143c4c8d8a2810a77806f651%29%3B%0A%20%20%20%20%20%20%20%20%0A%20%20%20%20%0A%20%20%20%20%20%20%20%20var%20popup_35ce98bc7dc343bb887188b9c86bab54%20%3D%20L.popup%28%7B%22maxWidth%22%3A%20%22100%25%22%7D%29%3B%0A%0A%20%20%20%20%20%20%20%20%0A%20%20%20%20%20%20%20%20%20%20%20%20var%20html_c9f15cde94f64b55be3a0cfad25c882d%20%3D%20%24%28%60%3Cdiv%20id%3D%22html_c9f15cde94f64b55be3a0cfad25c882d%22%20style%3D%22width%3A%20100.0%25%3B%20height%3A%20100.0%25%3B%22%3EWingate%2C%20Brooklyn%3C/div%3E%60%29%5B0%5D%3B%0A%20%20%20%20%20%20%20%20%20%20%20%20popup_35ce98bc7dc343bb887188b9c86bab54.setContent%28html_c9f15cde94f64b55be3a0cfad25c882d%29%3B%0A%20%20%20%20%20%20%20%20%0A%0A%20%20%20%20%20%20%20%20circle_marker_17e6fe1b841345d7ba4e4d8e28f72f44.bindPopup%28popup_35ce98bc7dc343bb887188b9c86bab54%29%0A%20%20%20%20%20%20%20%20%3B%0A%0A%20%20%20%20%20%20%20%20%0A%20%20%20%20%0A%20%20%20%20%0A%20%20%20%20%20%20%20%20%20%20%20%20var%20circle_marker_dafff809a12848e194c122f7f4ff24cb%20%3D%20L.circleMarker%28%0A%20%20%20%20%20%20%20%20%20%20%20%20%20%20%20%20%5B40.655572313280764%2C%20-73.92688212616955%5D%2C%0A%20%20%20%20%20%20%20%20%20%20%20%20%20%20%20%20%7B%22bubblingMouseEvents%22%3A%20true%2C%20%22color%22%3A%20%22blue%22%2C%20%22dashArray%22%3A%20null%2C%20%22dashOffset%22%3A%20null%2C%20%22fill%22%3A%20true%2C%20%22fillColor%22%3A%20%22%233186cc%22%2C%20%22fillOpacity%22%3A%200.7%2C%20%22fillRule%22%3A%20%22evenodd%22%2C%20%22lineCap%22%3A%20%22round%22%2C%20%22lineJoin%22%3A%20%22round%22%2C%20%22opacity%22%3A%201.0%2C%20%22radius%22%3A%205%2C%20%22stroke%22%3A%20true%2C%20%22weight%22%3A%203%7D%0A%20%20%20%20%20%20%20%20%20%20%20%20%29.addTo%28map_da402c8c143c4c8d8a2810a77806f651%29%3B%0A%20%20%20%20%20%20%20%20%0A%20%20%20%20%0A%20%20%20%20%20%20%20%20var%20popup_4ae8f868d5b1432c9a3a6b35d89c4880%20%3D%20L.popup%28%7B%22maxWidth%22%3A%20%22100%25%22%7D%29%3B%0A%0A%20%20%20%20%20%20%20%20%0A%20%20%20%20%20%20%20%20%20%20%20%20var%20html_3aa7dee3854344a6be613b896d97cea7%20%3D%20%24%28%60%3Cdiv%20id%3D%22html_3aa7dee3854344a6be613b896d97cea7%22%20style%3D%22width%3A%20100.0%25%3B%20height%3A%20100.0%25%3B%22%3ERugby%2C%20Brooklyn%3C/div%3E%60%29%5B0%5D%3B%0A%20%20%20%20%20%20%20%20%20%20%20%20popup_4ae8f868d5b1432c9a3a6b35d89c4880.setContent%28html_3aa7dee3854344a6be613b896d97cea7%29%3B%0A%20%20%20%20%20%20%20%20%0A%0A%20%20%20%20%20%20%20%20circle_marker_dafff809a12848e194c122f7f4ff24cb.bindPopup%28popup_4ae8f868d5b1432c9a3a6b35d89c4880%29%0A%20%20%20%20%20%20%20%20%3B%0A%0A%20%20%20%20%20%20%20%20%0A%20%20%20%20%0A%20%20%20%20%0A%20%20%20%20%20%20%20%20%20%20%20%20var%20circle_marker_981ca81334b3470d804c3e79b3c47273%20%3D%20L.circleMarker%28%0A%20%20%20%20%20%20%20%20%20%20%20%20%20%20%20%20%5B40.60919044434558%2C%20-74.08015734936296%5D%2C%0A%20%20%20%20%20%20%20%20%20%20%20%20%20%20%20%20%7B%22bubblingMouseEvents%22%3A%20true%2C%20%22color%22%3A%20%22blue%22%2C%20%22dashArray%22%3A%20null%2C%20%22dashOffset%22%3A%20null%2C%20%22fill%22%3A%20true%2C%20%22fillColor%22%3A%20%22%233186cc%22%2C%20%22fillOpacity%22%3A%200.7%2C%20%22fillRule%22%3A%20%22evenodd%22%2C%20%22lineCap%22%3A%20%22round%22%2C%20%22lineJoin%22%3A%20%22round%22%2C%20%22opacity%22%3A%201.0%2C%20%22radius%22%3A%205%2C%20%22stroke%22%3A%20true%2C%20%22weight%22%3A%203%7D%0A%20%20%20%20%20%20%20%20%20%20%20%20%29.addTo%28map_da402c8c143c4c8d8a2810a77806f651%29%3B%0A%20%20%20%20%20%20%20%20%0A%20%20%20%20%0A%20%20%20%20%20%20%20%20var%20popup_4a19172e39534db58966e0c8a01f9e28%20%3D%20L.popup%28%7B%22maxWidth%22%3A%20%22100%25%22%7D%29%3B%0A%0A%20%20%20%20%20%20%20%20%0A%20%20%20%20%20%20%20%20%20%20%20%20var%20html_54367155cbb14f16bc66067cf91b3e91%20%3D%20%24%28%60%3Cdiv%20id%3D%22html_54367155cbb14f16bc66067cf91b3e91%22%20style%3D%22width%3A%20100.0%25%3B%20height%3A%20100.0%25%3B%22%3EPark%20Hill%2C%20Staten%20Island%3C/div%3E%60%29%5B0%5D%3B%0A%20%20%20%20%20%20%20%20%20%20%20%20popup_4a19172e39534db58966e0c8a01f9e28.setContent%28html_54367155cbb14f16bc66067cf91b3e91%29%3B%0A%20%20%20%20%20%20%20%20%0A%0A%20%20%20%20%20%20%20%20circle_marker_981ca81334b3470d804c3e79b3c47273.bindPopup%28popup_4a19172e39534db58966e0c8a01f9e28%29%0A%20%20%20%20%20%20%20%20%3B%0A%0A%20%20%20%20%20%20%20%20%0A%20%20%20%20%0A%20%20%20%20%0A%20%20%20%20%20%20%20%20%20%20%20%20var%20circle_marker_d20488b4dba84fcaa40b9cc46e7415ac%20%3D%20L.circleMarker%28%0A%20%20%20%20%20%20%20%20%20%20%20%20%20%20%20%20%5B40.62109047275409%2C%20-74.13304143951704%5D%2C%0A%20%20%20%20%20%20%20%20%20%20%20%20%20%20%20%20%7B%22bubblingMouseEvents%22%3A%20true%2C%20%22color%22%3A%20%22blue%22%2C%20%22dashArray%22%3A%20null%2C%20%22dashOffset%22%3A%20null%2C%20%22fill%22%3A%20true%2C%20%22fillColor%22%3A%20%22%233186cc%22%2C%20%22fillOpacity%22%3A%200.7%2C%20%22fillRule%22%3A%20%22evenodd%22%2C%20%22lineCap%22%3A%20%22round%22%2C%20%22lineJoin%22%3A%20%22round%22%2C%20%22opacity%22%3A%201.0%2C%20%22radius%22%3A%205%2C%20%22stroke%22%3A%20true%2C%20%22weight%22%3A%203%7D%0A%20%20%20%20%20%20%20%20%20%20%20%20%29.addTo%28map_da402c8c143c4c8d8a2810a77806f651%29%3B%0A%20%20%20%20%20%20%20%20%0A%20%20%20%20%0A%20%20%20%20%20%20%20%20var%20popup_85b529caa15b453994617c0d99dc34f5%20%3D%20L.popup%28%7B%22maxWidth%22%3A%20%22100%25%22%7D%29%3B%0A%0A%20%20%20%20%20%20%20%20%0A%20%20%20%20%20%20%20%20%20%20%20%20var%20html_3a5d4d90afc547739d1f184fedf670aa%20%3D%20%24%28%60%3Cdiv%20id%3D%22html_3a5d4d90afc547739d1f184fedf670aa%22%20style%3D%22width%3A%20100.0%25%3B%20height%3A%20100.0%25%3B%22%3EWesterleigh%2C%20Staten%20Island%3C/div%3E%60%29%5B0%5D%3B%0A%20%20%20%20%20%20%20%20%20%20%20%20popup_85b529caa15b453994617c0d99dc34f5.setContent%28html_3a5d4d90afc547739d1f184fedf670aa%29%3B%0A%20%20%20%20%20%20%20%20%0A%0A%20%20%20%20%20%20%20%20circle_marker_d20488b4dba84fcaa40b9cc46e7415ac.bindPopup%28popup_85b529caa15b453994617c0d99dc34f5%29%0A%20%20%20%20%20%20%20%20%3B%0A%0A%20%20%20%20%20%20%20%20%0A%20%20%20%20%0A%20%20%20%20%0A%20%20%20%20%20%20%20%20%20%20%20%20var%20circle_marker_9cf433b3b7a74d71b3a0df4d7b501d8e%20%3D%20L.circleMarker%28%0A%20%20%20%20%20%20%20%20%20%20%20%20%20%20%20%20%5B40.620171512231884%2C%20-74.15315246387762%5D%2C%0A%20%20%20%20%20%20%20%20%20%20%20%20%20%20%20%20%7B%22bubblingMouseEvents%22%3A%20true%2C%20%22color%22%3A%20%22blue%22%2C%20%22dashArray%22%3A%20null%2C%20%22dashOffset%22%3A%20null%2C%20%22fill%22%3A%20true%2C%20%22fillColor%22%3A%20%22%233186cc%22%2C%20%22fillOpacity%22%3A%200.7%2C%20%22fillRule%22%3A%20%22evenodd%22%2C%20%22lineCap%22%3A%20%22round%22%2C%20%22lineJoin%22%3A%20%22round%22%2C%20%22opacity%22%3A%201.0%2C%20%22radius%22%3A%205%2C%20%22stroke%22%3A%20true%2C%20%22weight%22%3A%203%7D%0A%20%20%20%20%20%20%20%20%20%20%20%20%29.addTo%28map_da402c8c143c4c8d8a2810a77806f651%29%3B%0A%20%20%20%20%20%20%20%20%0A%20%20%20%20%0A%20%20%20%20%20%20%20%20var%20popup_9cb334ff64ad47e9823b94df100b450d%20%3D%20L.popup%28%7B%22maxWidth%22%3A%20%22100%25%22%7D%29%3B%0A%0A%20%20%20%20%20%20%20%20%0A%20%20%20%20%20%20%20%20%20%20%20%20var%20html_77604d5aa2ba48d3b363903cefc53a79%20%3D%20%24%28%60%3Cdiv%20id%3D%22html_77604d5aa2ba48d3b363903cefc53a79%22%20style%3D%22width%3A%20100.0%25%3B%20height%3A%20100.0%25%3B%22%3EGraniteville%2C%20Staten%20Island%3C/div%3E%60%29%5B0%5D%3B%0A%20%20%20%20%20%20%20%20%20%20%20%20popup_9cb334ff64ad47e9823b94df100b450d.setContent%28html_77604d5aa2ba48d3b363903cefc53a79%29%3B%0A%20%20%20%20%20%20%20%20%0A%0A%20%20%20%20%20%20%20%20circle_marker_9cf433b3b7a74d71b3a0df4d7b501d8e.bindPopup%28popup_9cb334ff64ad47e9823b94df100b450d%29%0A%20%20%20%20%20%20%20%20%3B%0A%0A%20%20%20%20%20%20%20%20%0A%20%20%20%20%0A%20%20%20%20%0A%20%20%20%20%20%20%20%20%20%20%20%20var%20circle_marker_9a6d8352f41b42109aa3c2366024753b%20%3D%20L.circleMarker%28%0A%20%20%20%20%20%20%20%20%20%20%20%20%20%20%20%20%5B40.63532509911492%2C%20-74.16510420241124%5D%2C%0A%20%20%20%20%20%20%20%20%20%20%20%20%20%20%20%20%7B%22bubblingMouseEvents%22%3A%20true%2C%20%22color%22%3A%20%22blue%22%2C%20%22dashArray%22%3A%20null%2C%20%22dashOffset%22%3A%20null%2C%20%22fill%22%3A%20true%2C%20%22fillColor%22%3A%20%22%233186cc%22%2C%20%22fillOpacity%22%3A%200.7%2C%20%22fillRule%22%3A%20%22evenodd%22%2C%20%22lineCap%22%3A%20%22round%22%2C%20%22lineJoin%22%3A%20%22round%22%2C%20%22opacity%22%3A%201.0%2C%20%22radius%22%3A%205%2C%20%22stroke%22%3A%20true%2C%20%22weight%22%3A%203%7D%0A%20%20%20%20%20%20%20%20%20%20%20%20%29.addTo%28map_da402c8c143c4c8d8a2810a77806f651%29%3B%0A%20%20%20%20%20%20%20%20%0A%20%20%20%20%0A%20%20%20%20%20%20%20%20var%20popup_b3efff7abd7f44878103313072f5983c%20%3D%20L.popup%28%7B%22maxWidth%22%3A%20%22100%25%22%7D%29%3B%0A%0A%20%20%20%20%20%20%20%20%0A%20%20%20%20%20%20%20%20%20%20%20%20var%20html_b753d9b472a049e599e5a6804fd22678%20%3D%20%24%28%60%3Cdiv%20id%3D%22html_b753d9b472a049e599e5a6804fd22678%22%20style%3D%22width%3A%20100.0%25%3B%20height%3A%20100.0%25%3B%22%3EArlington%2C%20Staten%20Island%3C/div%3E%60%29%5B0%5D%3B%0A%20%20%20%20%20%20%20%20%20%20%20%20popup_b3efff7abd7f44878103313072f5983c.setContent%28html_b753d9b472a049e599e5a6804fd22678%29%3B%0A%20%20%20%20%20%20%20%20%0A%0A%20%20%20%20%20%20%20%20circle_marker_9a6d8352f41b42109aa3c2366024753b.bindPopup%28popup_b3efff7abd7f44878103313072f5983c%29%0A%20%20%20%20%20%20%20%20%3B%0A%0A%20%20%20%20%20%20%20%20%0A%20%20%20%20%0A%20%20%20%20%0A%20%20%20%20%20%20%20%20%20%20%20%20var%20circle_marker_75526a16dcbb4321bbd7a544965954a0%20%3D%20L.circleMarker%28%0A%20%20%20%20%20%20%20%20%20%20%20%20%20%20%20%20%5B40.596312571276734%2C%20-74.06712363225574%5D%2C%0A%20%20%20%20%20%20%20%20%20%20%20%20%20%20%20%20%7B%22bubblingMouseEvents%22%3A%20true%2C%20%22color%22%3A%20%22blue%22%2C%20%22dashArray%22%3A%20null%2C%20%22dashOffset%22%3A%20null%2C%20%22fill%22%3A%20true%2C%20%22fillColor%22%3A%20%22%233186cc%22%2C%20%22fillOpacity%22%3A%200.7%2C%20%22fillRule%22%3A%20%22evenodd%22%2C%20%22lineCap%22%3A%20%22round%22%2C%20%22lineJoin%22%3A%20%22round%22%2C%20%22opacity%22%3A%201.0%2C%20%22radius%22%3A%205%2C%20%22stroke%22%3A%20true%2C%20%22weight%22%3A%203%7D%0A%20%20%20%20%20%20%20%20%20%20%20%20%29.addTo%28map_da402c8c143c4c8d8a2810a77806f651%29%3B%0A%20%20%20%20%20%20%20%20%0A%20%20%20%20%0A%20%20%20%20%20%20%20%20var%20popup_fa3326f0201e477a9be3180ecc3a0d3a%20%3D%20L.popup%28%7B%22maxWidth%22%3A%20%22100%25%22%7D%29%3B%0A%0A%20%20%20%20%20%20%20%20%0A%20%20%20%20%20%20%20%20%20%20%20%20var%20html_e7e61b205757403eaa05b96c066a0c71%20%3D%20%24%28%60%3Cdiv%20id%3D%22html_e7e61b205757403eaa05b96c066a0c71%22%20style%3D%22width%3A%20100.0%25%3B%20height%3A%20100.0%25%3B%22%3EArrochar%2C%20Staten%20Island%3C/div%3E%60%29%5B0%5D%3B%0A%20%20%20%20%20%20%20%20%20%20%20%20popup_fa3326f0201e477a9be3180ecc3a0d3a.setContent%28html_e7e61b205757403eaa05b96c066a0c71%29%3B%0A%20%20%20%20%20%20%20%20%0A%0A%20%20%20%20%20%20%20%20circle_marker_75526a16dcbb4321bbd7a544965954a0.bindPopup%28popup_fa3326f0201e477a9be3180ecc3a0d3a%29%0A%20%20%20%20%20%20%20%20%3B%0A%0A%20%20%20%20%20%20%20%20%0A%20%20%20%20%0A%20%20%20%20%0A%20%20%20%20%20%20%20%20%20%20%20%20var%20circle_marker_425a194cce354180b6af547db4d64b2d%20%3D%20L.circleMarker%28%0A%20%20%20%20%20%20%20%20%20%20%20%20%20%20%20%20%5B40.59826835959991%2C%20-74.0766743627905%5D%2C%0A%20%20%20%20%20%20%20%20%20%20%20%20%20%20%20%20%7B%22bubblingMouseEvents%22%3A%20true%2C%20%22color%22%3A%20%22blue%22%2C%20%22dashArray%22%3A%20null%2C%20%22dashOffset%22%3A%20null%2C%20%22fill%22%3A%20true%2C%20%22fillColor%22%3A%20%22%233186cc%22%2C%20%22fillOpacity%22%3A%200.7%2C%20%22fillRule%22%3A%20%22evenodd%22%2C%20%22lineCap%22%3A%20%22round%22%2C%20%22lineJoin%22%3A%20%22round%22%2C%20%22opacity%22%3A%201.0%2C%20%22radius%22%3A%205%2C%20%22stroke%22%3A%20true%2C%20%22weight%22%3A%203%7D%0A%20%20%20%20%20%20%20%20%20%20%20%20%29.addTo%28map_da402c8c143c4c8d8a2810a77806f651%29%3B%0A%20%20%20%20%20%20%20%20%0A%20%20%20%20%0A%20%20%20%20%20%20%20%20var%20popup_0625c46688ea4ad688a219e0a50c2fcb%20%3D%20L.popup%28%7B%22maxWidth%22%3A%20%22100%25%22%7D%29%3B%0A%0A%20%20%20%20%20%20%20%20%0A%20%20%20%20%20%20%20%20%20%20%20%20var%20html_8e9a00ca429b4d858890391fe4a4f1a2%20%3D%20%24%28%60%3Cdiv%20id%3D%22html_8e9a00ca429b4d858890391fe4a4f1a2%22%20style%3D%22width%3A%20100.0%25%3B%20height%3A%20100.0%25%3B%22%3EGrasmere%2C%20Staten%20Island%3C/div%3E%60%29%5B0%5D%3B%0A%20%20%20%20%20%20%20%20%20%20%20%20popup_0625c46688ea4ad688a219e0a50c2fcb.setContent%28html_8e9a00ca429b4d858890391fe4a4f1a2%29%3B%0A%20%20%20%20%20%20%20%20%0A%0A%20%20%20%20%20%20%20%20circle_marker_425a194cce354180b6af547db4d64b2d.bindPopup%28popup_0625c46688ea4ad688a219e0a50c2fcb%29%0A%20%20%20%20%20%20%20%20%3B%0A%0A%20%20%20%20%20%20%20%20%0A%20%20%20%20%0A%20%20%20%20%0A%20%20%20%20%20%20%20%20%20%20%20%20var%20circle_marker_9457aa61b5d342b7a2dd533665e567e6%20%3D%20L.circleMarker%28%0A%20%20%20%20%20%20%20%20%20%20%20%20%20%20%20%20%5B40.59632891379513%2C%20-74.08751118005578%5D%2C%0A%20%20%20%20%20%20%20%20%20%20%20%20%20%20%20%20%7B%22bubblingMouseEvents%22%3A%20true%2C%20%22color%22%3A%20%22blue%22%2C%20%22dashArray%22%3A%20null%2C%20%22dashOffset%22%3A%20null%2C%20%22fill%22%3A%20true%2C%20%22fillColor%22%3A%20%22%233186cc%22%2C%20%22fillOpacity%22%3A%200.7%2C%20%22fillRule%22%3A%20%22evenodd%22%2C%20%22lineCap%22%3A%20%22round%22%2C%20%22lineJoin%22%3A%20%22round%22%2C%20%22opacity%22%3A%201.0%2C%20%22radius%22%3A%205%2C%20%22stroke%22%3A%20true%2C%20%22weight%22%3A%203%7D%0A%20%20%20%20%20%20%20%20%20%20%20%20%29.addTo%28map_da402c8c143c4c8d8a2810a77806f651%29%3B%0A%20%20%20%20%20%20%20%20%0A%20%20%20%20%0A%20%20%20%20%20%20%20%20var%20popup_8ff46eda13824998bf5a50db8ec965cf%20%3D%20L.popup%28%7B%22maxWidth%22%3A%20%22100%25%22%7D%29%3B%0A%0A%20%20%20%20%20%20%20%20%0A%20%20%20%20%20%20%20%20%20%20%20%20var%20html_dc316025aa344b44ba04b4e8db853bf1%20%3D%20%24%28%60%3Cdiv%20id%3D%22html_dc316025aa344b44ba04b4e8db853bf1%22%20style%3D%22width%3A%20100.0%25%3B%20height%3A%20100.0%25%3B%22%3EOld%20Town%2C%20Staten%20Island%3C/div%3E%60%29%5B0%5D%3B%0A%20%20%20%20%20%20%20%20%20%20%20%20popup_8ff46eda13824998bf5a50db8ec965cf.setContent%28html_dc316025aa344b44ba04b4e8db853bf1%29%3B%0A%20%20%20%20%20%20%20%20%0A%0A%20%20%20%20%20%20%20%20circle_marker_9457aa61b5d342b7a2dd533665e567e6.bindPopup%28popup_8ff46eda13824998bf5a50db8ec965cf%29%0A%20%20%20%20%20%20%20%20%3B%0A%0A%20%20%20%20%20%20%20%20%0A%20%20%20%20%0A%20%20%20%20%0A%20%20%20%20%20%20%20%20%20%20%20%20var%20circle_marker_20f7ee048d0c4fe6bb6e5ee069f0ffcb%20%3D%20L.circleMarker%28%0A%20%20%20%20%20%20%20%20%20%20%20%20%20%20%20%20%5B40.588672948199275%2C%20-74.09639905312521%5D%2C%0A%20%20%20%20%20%20%20%20%20%20%20%20%20%20%20%20%7B%22bubblingMouseEvents%22%3A%20true%2C%20%22color%22%3A%20%22blue%22%2C%20%22dashArray%22%3A%20null%2C%20%22dashOffset%22%3A%20null%2C%20%22fill%22%3A%20true%2C%20%22fillColor%22%3A%20%22%233186cc%22%2C%20%22fillOpacity%22%3A%200.7%2C%20%22fillRule%22%3A%20%22evenodd%22%2C%20%22lineCap%22%3A%20%22round%22%2C%20%22lineJoin%22%3A%20%22round%22%2C%20%22opacity%22%3A%201.0%2C%20%22radius%22%3A%205%2C%20%22stroke%22%3A%20true%2C%20%22weight%22%3A%203%7D%0A%20%20%20%20%20%20%20%20%20%20%20%20%29.addTo%28map_da402c8c143c4c8d8a2810a77806f651%29%3B%0A%20%20%20%20%20%20%20%20%0A%20%20%20%20%0A%20%20%20%20%20%20%20%20var%20popup_9371695f729549b5b0fce2b60dd4d9cb%20%3D%20L.popup%28%7B%22maxWidth%22%3A%20%22100%25%22%7D%29%3B%0A%0A%20%20%20%20%20%20%20%20%0A%20%20%20%20%20%20%20%20%20%20%20%20var%20html_2a512310fd2f42beb483ed4d5b507d4e%20%3D%20%24%28%60%3Cdiv%20id%3D%22html_2a512310fd2f42beb483ed4d5b507d4e%22%20style%3D%22width%3A%20100.0%25%3B%20height%3A%20100.0%25%3B%22%3EDongan%20Hills%2C%20Staten%20Island%3C/div%3E%60%29%5B0%5D%3B%0A%20%20%20%20%20%20%20%20%20%20%20%20popup_9371695f729549b5b0fce2b60dd4d9cb.setContent%28html_2a512310fd2f42beb483ed4d5b507d4e%29%3B%0A%20%20%20%20%20%20%20%20%0A%0A%20%20%20%20%20%20%20%20circle_marker_20f7ee048d0c4fe6bb6e5ee069f0ffcb.bindPopup%28popup_9371695f729549b5b0fce2b60dd4d9cb%29%0A%20%20%20%20%20%20%20%20%3B%0A%0A%20%20%20%20%20%20%20%20%0A%20%20%20%20%0A%20%20%20%20%0A%20%20%20%20%20%20%20%20%20%20%20%20var%20circle_marker_a807f0a4357143159b3261f37eeaabf7%20%3D%20L.circleMarker%28%0A%20%20%20%20%20%20%20%20%20%20%20%20%20%20%20%20%5B40.57352690574283%2C%20-74.09348266303591%5D%2C%0A%20%20%20%20%20%20%20%20%20%20%20%20%20%20%20%20%7B%22bubblingMouseEvents%22%3A%20true%2C%20%22color%22%3A%20%22blue%22%2C%20%22dashArray%22%3A%20null%2C%20%22dashOffset%22%3A%20null%2C%20%22fill%22%3A%20true%2C%20%22fillColor%22%3A%20%22%233186cc%22%2C%20%22fillOpacity%22%3A%200.7%2C%20%22fillRule%22%3A%20%22evenodd%22%2C%20%22lineCap%22%3A%20%22round%22%2C%20%22lineJoin%22%3A%20%22round%22%2C%20%22opacity%22%3A%201.0%2C%20%22radius%22%3A%205%2C%20%22stroke%22%3A%20true%2C%20%22weight%22%3A%203%7D%0A%20%20%20%20%20%20%20%20%20%20%20%20%29.addTo%28map_da402c8c143c4c8d8a2810a77806f651%29%3B%0A%20%20%20%20%20%20%20%20%0A%20%20%20%20%0A%20%20%20%20%20%20%20%20var%20popup_3c9398dee36c4215abb86e16a5faf550%20%3D%20L.popup%28%7B%22maxWidth%22%3A%20%22100%25%22%7D%29%3B%0A%0A%20%20%20%20%20%20%20%20%0A%20%20%20%20%20%20%20%20%20%20%20%20var%20html_81cd572cef1c4c42b8552a485bf88514%20%3D%20%24%28%60%3Cdiv%20id%3D%22html_81cd572cef1c4c42b8552a485bf88514%22%20style%3D%22width%3A%20100.0%25%3B%20height%3A%20100.0%25%3B%22%3EMidland%20Beach%2C%20Staten%20Island%3C/div%3E%60%29%5B0%5D%3B%0A%20%20%20%20%20%20%20%20%20%20%20%20popup_3c9398dee36c4215abb86e16a5faf550.setContent%28html_81cd572cef1c4c42b8552a485bf88514%29%3B%0A%20%20%20%20%20%20%20%20%0A%0A%20%20%20%20%20%20%20%20circle_marker_a807f0a4357143159b3261f37eeaabf7.bindPopup%28popup_3c9398dee36c4215abb86e16a5faf550%29%0A%20%20%20%20%20%20%20%20%3B%0A%0A%20%20%20%20%20%20%20%20%0A%20%20%20%20%0A%20%20%20%20%0A%20%20%20%20%20%20%20%20%20%20%20%20var%20circle_marker_873dc6dcf09c41deba7d42738c93ffea%20%3D%20L.circleMarker%28%0A%20%20%20%20%20%20%20%20%20%20%20%20%20%20%20%20%5B40.57621558711788%2C%20-74.10585598545434%5D%2C%0A%20%20%20%20%20%20%20%20%20%20%20%20%20%20%20%20%7B%22bubblingMouseEvents%22%3A%20true%2C%20%22color%22%3A%20%22blue%22%2C%20%22dashArray%22%3A%20null%2C%20%22dashOffset%22%3A%20null%2C%20%22fill%22%3A%20true%2C%20%22fillColor%22%3A%20%22%233186cc%22%2C%20%22fillOpacity%22%3A%200.7%2C%20%22fillRule%22%3A%20%22evenodd%22%2C%20%22lineCap%22%3A%20%22round%22%2C%20%22lineJoin%22%3A%20%22round%22%2C%20%22opacity%22%3A%201.0%2C%20%22radius%22%3A%205%2C%20%22stroke%22%3A%20true%2C%20%22weight%22%3A%203%7D%0A%20%20%20%20%20%20%20%20%20%20%20%20%29.addTo%28map_da402c8c143c4c8d8a2810a77806f651%29%3B%0A%20%20%20%20%20%20%20%20%0A%20%20%20%20%0A%20%20%20%20%20%20%20%20var%20popup_568b00d5e702494eaaaaecd3602bd094%20%3D%20L.popup%28%7B%22maxWidth%22%3A%20%22100%25%22%7D%29%3B%0A%0A%20%20%20%20%20%20%20%20%0A%20%20%20%20%20%20%20%20%20%20%20%20var%20html_3ea9c74fc13948808dccb5f678c6241a%20%3D%20%24%28%60%3Cdiv%20id%3D%22html_3ea9c74fc13948808dccb5f678c6241a%22%20style%3D%22width%3A%20100.0%25%3B%20height%3A%20100.0%25%3B%22%3EGrant%20City%2C%20Staten%20Island%3C/div%3E%60%29%5B0%5D%3B%0A%20%20%20%20%20%20%20%20%20%20%20%20popup_568b00d5e702494eaaaaecd3602bd094.setContent%28html_3ea9c74fc13948808dccb5f678c6241a%29%3B%0A%20%20%20%20%20%20%20%20%0A%0A%20%20%20%20%20%20%20%20circle_marker_873dc6dcf09c41deba7d42738c93ffea.bindPopup%28popup_568b00d5e702494eaaaaecd3602bd094%29%0A%20%20%20%20%20%20%20%20%3B%0A%0A%20%20%20%20%20%20%20%20%0A%20%20%20%20%0A%20%20%20%20%0A%20%20%20%20%20%20%20%20%20%20%20%20var%20circle_marker_f7a6a181847140f3ab026627b9a4e35d%20%3D%20L.circleMarker%28%0A%20%20%20%20%20%20%20%20%20%20%20%20%20%20%20%20%5B40.56425549307335%2C%20-74.10432707469124%5D%2C%0A%20%20%20%20%20%20%20%20%20%20%20%20%20%20%20%20%7B%22bubblingMouseEvents%22%3A%20true%2C%20%22color%22%3A%20%22blue%22%2C%20%22dashArray%22%3A%20null%2C%20%22dashOffset%22%3A%20null%2C%20%22fill%22%3A%20true%2C%20%22fillColor%22%3A%20%22%233186cc%22%2C%20%22fillOpacity%22%3A%200.7%2C%20%22fillRule%22%3A%20%22evenodd%22%2C%20%22lineCap%22%3A%20%22round%22%2C%20%22lineJoin%22%3A%20%22round%22%2C%20%22opacity%22%3A%201.0%2C%20%22radius%22%3A%205%2C%20%22stroke%22%3A%20true%2C%20%22weight%22%3A%203%7D%0A%20%20%20%20%20%20%20%20%20%20%20%20%29.addTo%28map_da402c8c143c4c8d8a2810a77806f651%29%3B%0A%20%20%20%20%20%20%20%20%0A%20%20%20%20%0A%20%20%20%20%20%20%20%20var%20popup_bad2d7e5d43e4e8a87d5f969a7882d75%20%3D%20L.popup%28%7B%22maxWidth%22%3A%20%22100%25%22%7D%29%3B%0A%0A%20%20%20%20%20%20%20%20%0A%20%20%20%20%20%20%20%20%20%20%20%20var%20html_d9f584113c0f4dcba43f98ce591cf117%20%3D%20%24%28%60%3Cdiv%20id%3D%22html_d9f584113c0f4dcba43f98ce591cf117%22%20style%3D%22width%3A%20100.0%25%3B%20height%3A%20100.0%25%3B%22%3ENew%20Dorp%20Beach%2C%20Staten%20Island%3C/div%3E%60%29%5B0%5D%3B%0A%20%20%20%20%20%20%20%20%20%20%20%20popup_bad2d7e5d43e4e8a87d5f969a7882d75.setContent%28html_d9f584113c0f4dcba43f98ce591cf117%29%3B%0A%20%20%20%20%20%20%20%20%0A%0A%20%20%20%20%20%20%20%20circle_marker_f7a6a181847140f3ab026627b9a4e35d.bindPopup%28popup_bad2d7e5d43e4e8a87d5f969a7882d75%29%0A%20%20%20%20%20%20%20%20%3B%0A%0A%20%20%20%20%20%20%20%20%0A%20%20%20%20%0A%20%20%20%20%0A%20%20%20%20%20%20%20%20%20%20%20%20var%20circle_marker_f34ea2f954d74b1fa1ef42f3f8df0b7a%20%3D%20L.circleMarker%28%0A%20%20%20%20%20%20%20%20%20%20%20%20%20%20%20%20%5B40.55398800858462%2C%20-74.13916622175768%5D%2C%0A%20%20%20%20%20%20%20%20%20%20%20%20%20%20%20%20%7B%22bubblingMouseEvents%22%3A%20true%2C%20%22color%22%3A%20%22blue%22%2C%20%22dashArray%22%3A%20null%2C%20%22dashOffset%22%3A%20null%2C%20%22fill%22%3A%20true%2C%20%22fillColor%22%3A%20%22%233186cc%22%2C%20%22fillOpacity%22%3A%200.7%2C%20%22fillRule%22%3A%20%22evenodd%22%2C%20%22lineCap%22%3A%20%22round%22%2C%20%22lineJoin%22%3A%20%22round%22%2C%20%22opacity%22%3A%201.0%2C%20%22radius%22%3A%205%2C%20%22stroke%22%3A%20true%2C%20%22weight%22%3A%203%7D%0A%20%20%20%20%20%20%20%20%20%20%20%20%29.addTo%28map_da402c8c143c4c8d8a2810a77806f651%29%3B%0A%20%20%20%20%20%20%20%20%0A%20%20%20%20%0A%20%20%20%20%20%20%20%20var%20popup_89fd762084de44269acc87254e0e7ef1%20%3D%20L.popup%28%7B%22maxWidth%22%3A%20%22100%25%22%7D%29%3B%0A%0A%20%20%20%20%20%20%20%20%0A%20%20%20%20%20%20%20%20%20%20%20%20var%20html_05f0fa4860944a59b9f50cb1e32c35e5%20%3D%20%24%28%60%3Cdiv%20id%3D%22html_05f0fa4860944a59b9f50cb1e32c35e5%22%20style%3D%22width%3A%20100.0%25%3B%20height%3A%20100.0%25%3B%22%3EBay%20Terrace%2C%20Staten%20Island%3C/div%3E%60%29%5B0%5D%3B%0A%20%20%20%20%20%20%20%20%20%20%20%20popup_89fd762084de44269acc87254e0e7ef1.setContent%28html_05f0fa4860944a59b9f50cb1e32c35e5%29%3B%0A%20%20%20%20%20%20%20%20%0A%0A%20%20%20%20%20%20%20%20circle_marker_f34ea2f954d74b1fa1ef42f3f8df0b7a.bindPopup%28popup_89fd762084de44269acc87254e0e7ef1%29%0A%20%20%20%20%20%20%20%20%3B%0A%0A%20%20%20%20%20%20%20%20%0A%20%20%20%20%0A%20%20%20%20%0A%20%20%20%20%20%20%20%20%20%20%20%20var%20circle_marker_84b96656275546949a5168fbf1a435f5%20%3D%20L.circleMarker%28%0A%20%20%20%20%20%20%20%20%20%20%20%20%20%20%20%20%5B40.531911920489605%2C%20-74.19174105747814%5D%2C%0A%20%20%20%20%20%20%20%20%20%20%20%20%20%20%20%20%7B%22bubblingMouseEvents%22%3A%20true%2C%20%22color%22%3A%20%22blue%22%2C%20%22dashArray%22%3A%20null%2C%20%22dashOffset%22%3A%20null%2C%20%22fill%22%3A%20true%2C%20%22fillColor%22%3A%20%22%233186cc%22%2C%20%22fillOpacity%22%3A%200.7%2C%20%22fillRule%22%3A%20%22evenodd%22%2C%20%22lineCap%22%3A%20%22round%22%2C%20%22lineJoin%22%3A%20%22round%22%2C%20%22opacity%22%3A%201.0%2C%20%22radius%22%3A%205%2C%20%22stroke%22%3A%20true%2C%20%22weight%22%3A%203%7D%0A%20%20%20%20%20%20%20%20%20%20%20%20%29.addTo%28map_da402c8c143c4c8d8a2810a77806f651%29%3B%0A%20%20%20%20%20%20%20%20%0A%20%20%20%20%0A%20%20%20%20%20%20%20%20var%20popup_8021ed2dd1ab4d1e8b9c20bc889bb7c5%20%3D%20L.popup%28%7B%22maxWidth%22%3A%20%22100%25%22%7D%29%3B%0A%0A%20%20%20%20%20%20%20%20%0A%20%20%20%20%20%20%20%20%20%20%20%20var%20html_b9969b0868104444a194b018d1439065%20%3D%20%24%28%60%3Cdiv%20id%3D%22html_b9969b0868104444a194b018d1439065%22%20style%3D%22width%3A%20100.0%25%3B%20height%3A%20100.0%25%3B%22%3EHuguenot%2C%20Staten%20Island%3C/div%3E%60%29%5B0%5D%3B%0A%20%20%20%20%20%20%20%20%20%20%20%20popup_8021ed2dd1ab4d1e8b9c20bc889bb7c5.setContent%28html_b9969b0868104444a194b018d1439065%29%3B%0A%20%20%20%20%20%20%20%20%0A%0A%20%20%20%20%20%20%20%20circle_marker_84b96656275546949a5168fbf1a435f5.bindPopup%28popup_8021ed2dd1ab4d1e8b9c20bc889bb7c5%29%0A%20%20%20%20%20%20%20%20%3B%0A%0A%20%20%20%20%20%20%20%20%0A%20%20%20%20%0A%20%20%20%20%0A%20%20%20%20%20%20%20%20%20%20%20%20var%20circle_marker_43a50c75ceaf495ab4edd48eab85a186%20%3D%20L.circleMarker%28%0A%20%20%20%20%20%20%20%20%20%20%20%20%20%20%20%20%5B40.524699376118136%2C%20-74.21983106616777%5D%2C%0A%20%20%20%20%20%20%20%20%20%20%20%20%20%20%20%20%7B%22bubblingMouseEvents%22%3A%20true%2C%20%22color%22%3A%20%22blue%22%2C%20%22dashArray%22%3A%20null%2C%20%22dashOffset%22%3A%20null%2C%20%22fill%22%3A%20true%2C%20%22fillColor%22%3A%20%22%233186cc%22%2C%20%22fillOpacity%22%3A%200.7%2C%20%22fillRule%22%3A%20%22evenodd%22%2C%20%22lineCap%22%3A%20%22round%22%2C%20%22lineJoin%22%3A%20%22round%22%2C%20%22opacity%22%3A%201.0%2C%20%22radius%22%3A%205%2C%20%22stroke%22%3A%20true%2C%20%22weight%22%3A%203%7D%0A%20%20%20%20%20%20%20%20%20%20%20%20%29.addTo%28map_da402c8c143c4c8d8a2810a77806f651%29%3B%0A%20%20%20%20%20%20%20%20%0A%20%20%20%20%0A%20%20%20%20%20%20%20%20var%20popup_733b7aeb14fb47ff81bfb455dbbfbb5c%20%3D%20L.popup%28%7B%22maxWidth%22%3A%20%22100%25%22%7D%29%3B%0A%0A%20%20%20%20%20%20%20%20%0A%20%20%20%20%20%20%20%20%20%20%20%20var%20html_ee64e78397fd4c2bbc9b61d634d7efa1%20%3D%20%24%28%60%3Cdiv%20id%3D%22html_ee64e78397fd4c2bbc9b61d634d7efa1%22%20style%3D%22width%3A%20100.0%25%3B%20height%3A%20100.0%25%3B%22%3EPleasant%20Plains%2C%20Staten%20Island%3C/div%3E%60%29%5B0%5D%3B%0A%20%20%20%20%20%20%20%20%20%20%20%20popup_733b7aeb14fb47ff81bfb455dbbfbb5c.setContent%28html_ee64e78397fd4c2bbc9b61d634d7efa1%29%3B%0A%20%20%20%20%20%20%20%20%0A%0A%20%20%20%20%20%20%20%20circle_marker_43a50c75ceaf495ab4edd48eab85a186.bindPopup%28popup_733b7aeb14fb47ff81bfb455dbbfbb5c%29%0A%20%20%20%20%20%20%20%20%3B%0A%0A%20%20%20%20%20%20%20%20%0A%20%20%20%20%0A%20%20%20%20%0A%20%20%20%20%20%20%20%20%20%20%20%20var%20circle_marker_e5d570141cbd48dab9557d8cef5d9c22%20%3D%20L.circleMarker%28%0A%20%20%20%20%20%20%20%20%20%20%20%20%20%20%20%20%5B40.50608165346305%2C%20-74.22950350260027%5D%2C%0A%20%20%20%20%20%20%20%20%20%20%20%20%20%20%20%20%7B%22bubblingMouseEvents%22%3A%20true%2C%20%22color%22%3A%20%22blue%22%2C%20%22dashArray%22%3A%20null%2C%20%22dashOffset%22%3A%20null%2C%20%22fill%22%3A%20true%2C%20%22fillColor%22%3A%20%22%233186cc%22%2C%20%22fillOpacity%22%3A%200.7%2C%20%22fillRule%22%3A%20%22evenodd%22%2C%20%22lineCap%22%3A%20%22round%22%2C%20%22lineJoin%22%3A%20%22round%22%2C%20%22opacity%22%3A%201.0%2C%20%22radius%22%3A%205%2C%20%22stroke%22%3A%20true%2C%20%22weight%22%3A%203%7D%0A%20%20%20%20%20%20%20%20%20%20%20%20%29.addTo%28map_da402c8c143c4c8d8a2810a77806f651%29%3B%0A%20%20%20%20%20%20%20%20%0A%20%20%20%20%0A%20%20%20%20%20%20%20%20var%20popup_ec73881d2f454df584778fc0e2bca180%20%3D%20L.popup%28%7B%22maxWidth%22%3A%20%22100%25%22%7D%29%3B%0A%0A%20%20%20%20%20%20%20%20%0A%20%20%20%20%20%20%20%20%20%20%20%20var%20html_e4481630938047adab8c353f55539b6e%20%3D%20%24%28%60%3Cdiv%20id%3D%22html_e4481630938047adab8c353f55539b6e%22%20style%3D%22width%3A%20100.0%25%3B%20height%3A%20100.0%25%3B%22%3EButler%20Manor%2C%20Staten%20Island%3C/div%3E%60%29%5B0%5D%3B%0A%20%20%20%20%20%20%20%20%20%20%20%20popup_ec73881d2f454df584778fc0e2bca180.setContent%28html_e4481630938047adab8c353f55539b6e%29%3B%0A%20%20%20%20%20%20%20%20%0A%0A%20%20%20%20%20%20%20%20circle_marker_e5d570141cbd48dab9557d8cef5d9c22.bindPopup%28popup_ec73881d2f454df584778fc0e2bca180%29%0A%20%20%20%20%20%20%20%20%3B%0A%0A%20%20%20%20%20%20%20%20%0A%20%20%20%20%0A%20%20%20%20%0A%20%20%20%20%20%20%20%20%20%20%20%20var%20circle_marker_a52ccb608ab349b0bf0acc3570db8cb3%20%3D%20L.circleMarker%28%0A%20%20%20%20%20%20%20%20%20%20%20%20%20%20%20%20%5B40.53053148283314%2C%20-74.23215775896526%5D%2C%0A%20%20%20%20%20%20%20%20%20%20%20%20%20%20%20%20%7B%22bubblingMouseEvents%22%3A%20true%2C%20%22color%22%3A%20%22blue%22%2C%20%22dashArray%22%3A%20null%2C%20%22dashOffset%22%3A%20null%2C%20%22fill%22%3A%20true%2C%20%22fillColor%22%3A%20%22%233186cc%22%2C%20%22fillOpacity%22%3A%200.7%2C%20%22fillRule%22%3A%20%22evenodd%22%2C%20%22lineCap%22%3A%20%22round%22%2C%20%22lineJoin%22%3A%20%22round%22%2C%20%22opacity%22%3A%201.0%2C%20%22radius%22%3A%205%2C%20%22stroke%22%3A%20true%2C%20%22weight%22%3A%203%7D%0A%20%20%20%20%20%20%20%20%20%20%20%20%29.addTo%28map_da402c8c143c4c8d8a2810a77806f651%29%3B%0A%20%20%20%20%20%20%20%20%0A%20%20%20%20%0A%20%20%20%20%20%20%20%20var%20popup_30ce2d9765224c0589f566e2a2cdb113%20%3D%20L.popup%28%7B%22maxWidth%22%3A%20%22100%25%22%7D%29%3B%0A%0A%20%20%20%20%20%20%20%20%0A%20%20%20%20%20%20%20%20%20%20%20%20var%20html_d111ac5607444a949ebe084b13b3b1b2%20%3D%20%24%28%60%3Cdiv%20id%3D%22html_d111ac5607444a949ebe084b13b3b1b2%22%20style%3D%22width%3A%20100.0%25%3B%20height%3A%20100.0%25%3B%22%3ECharleston%2C%20Staten%20Island%3C/div%3E%60%29%5B0%5D%3B%0A%20%20%20%20%20%20%20%20%20%20%20%20popup_30ce2d9765224c0589f566e2a2cdb113.setContent%28html_d111ac5607444a949ebe084b13b3b1b2%29%3B%0A%20%20%20%20%20%20%20%20%0A%0A%20%20%20%20%20%20%20%20circle_marker_a52ccb608ab349b0bf0acc3570db8cb3.bindPopup%28popup_30ce2d9765224c0589f566e2a2cdb113%29%0A%20%20%20%20%20%20%20%20%3B%0A%0A%20%20%20%20%20%20%20%20%0A%20%20%20%20%0A%20%20%20%20%0A%20%20%20%20%20%20%20%20%20%20%20%20var%20circle_marker_f4a20c5790c449ddbda405372880ba6c%20%3D%20L.circleMarker%28%0A%20%20%20%20%20%20%20%20%20%20%20%20%20%20%20%20%5B40.54940400650072%2C%20-74.21572851113952%5D%2C%0A%20%20%20%20%20%20%20%20%20%20%20%20%20%20%20%20%7B%22bubblingMouseEvents%22%3A%20true%2C%20%22color%22%3A%20%22blue%22%2C%20%22dashArray%22%3A%20null%2C%20%22dashOffset%22%3A%20null%2C%20%22fill%22%3A%20true%2C%20%22fillColor%22%3A%20%22%233186cc%22%2C%20%22fillOpacity%22%3A%200.7%2C%20%22fillRule%22%3A%20%22evenodd%22%2C%20%22lineCap%22%3A%20%22round%22%2C%20%22lineJoin%22%3A%20%22round%22%2C%20%22opacity%22%3A%201.0%2C%20%22radius%22%3A%205%2C%20%22stroke%22%3A%20true%2C%20%22weight%22%3A%203%7D%0A%20%20%20%20%20%20%20%20%20%20%20%20%29.addTo%28map_da402c8c143c4c8d8a2810a77806f651%29%3B%0A%20%20%20%20%20%20%20%20%0A%20%20%20%20%0A%20%20%20%20%20%20%20%20var%20popup_99b1ed8482b845dda92998bde73ab260%20%3D%20L.popup%28%7B%22maxWidth%22%3A%20%22100%25%22%7D%29%3B%0A%0A%20%20%20%20%20%20%20%20%0A%20%20%20%20%20%20%20%20%20%20%20%20var%20html_5418585d50bf4e69aadd2068c3bbf55a%20%3D%20%24%28%60%3Cdiv%20id%3D%22html_5418585d50bf4e69aadd2068c3bbf55a%22%20style%3D%22width%3A%20100.0%25%3B%20height%3A%20100.0%25%3B%22%3ERossville%2C%20Staten%20Island%3C/div%3E%60%29%5B0%5D%3B%0A%20%20%20%20%20%20%20%20%20%20%20%20popup_99b1ed8482b845dda92998bde73ab260.setContent%28html_5418585d50bf4e69aadd2068c3bbf55a%29%3B%0A%20%20%20%20%20%20%20%20%0A%0A%20%20%20%20%20%20%20%20circle_marker_f4a20c5790c449ddbda405372880ba6c.bindPopup%28popup_99b1ed8482b845dda92998bde73ab260%29%0A%20%20%20%20%20%20%20%20%3B%0A%0A%20%20%20%20%20%20%20%20%0A%20%20%20%20%0A%20%20%20%20%0A%20%20%20%20%20%20%20%20%20%20%20%20var%20circle_marker_57e96b42d1bc4869a284e191ad91fcbf%20%3D%20L.circleMarker%28%0A%20%20%20%20%20%20%20%20%20%20%20%20%20%20%20%20%5B40.54928582278321%2C%20-74.18588674583893%5D%2C%0A%20%20%20%20%20%20%20%20%20%20%20%20%20%20%20%20%7B%22bubblingMouseEvents%22%3A%20true%2C%20%22color%22%3A%20%22blue%22%2C%20%22dashArray%22%3A%20null%2C%20%22dashOffset%22%3A%20null%2C%20%22fill%22%3A%20true%2C%20%22fillColor%22%3A%20%22%233186cc%22%2C%20%22fillOpacity%22%3A%200.7%2C%20%22fillRule%22%3A%20%22evenodd%22%2C%20%22lineCap%22%3A%20%22round%22%2C%20%22lineJoin%22%3A%20%22round%22%2C%20%22opacity%22%3A%201.0%2C%20%22radius%22%3A%205%2C%20%22stroke%22%3A%20true%2C%20%22weight%22%3A%203%7D%0A%20%20%20%20%20%20%20%20%20%20%20%20%29.addTo%28map_da402c8c143c4c8d8a2810a77806f651%29%3B%0A%20%20%20%20%20%20%20%20%0A%20%20%20%20%0A%20%20%20%20%20%20%20%20var%20popup_15a345b5039d4283afdec78df3613106%20%3D%20L.popup%28%7B%22maxWidth%22%3A%20%22100%25%22%7D%29%3B%0A%0A%20%20%20%20%20%20%20%20%0A%20%20%20%20%20%20%20%20%20%20%20%20var%20html_92ea643bedf34f429fd5657cce5fc8de%20%3D%20%24%28%60%3Cdiv%20id%3D%22html_92ea643bedf34f429fd5657cce5fc8de%22%20style%3D%22width%3A%20100.0%25%3B%20height%3A%20100.0%25%3B%22%3EArden%20Heights%2C%20Staten%20Island%3C/div%3E%60%29%5B0%5D%3B%0A%20%20%20%20%20%20%20%20%20%20%20%20popup_15a345b5039d4283afdec78df3613106.setContent%28html_92ea643bedf34f429fd5657cce5fc8de%29%3B%0A%20%20%20%20%20%20%20%20%0A%0A%20%20%20%20%20%20%20%20circle_marker_57e96b42d1bc4869a284e191ad91fcbf.bindPopup%28popup_15a345b5039d4283afdec78df3613106%29%0A%20%20%20%20%20%20%20%20%3B%0A%0A%20%20%20%20%20%20%20%20%0A%20%20%20%20%0A%20%20%20%20%0A%20%20%20%20%20%20%20%20%20%20%20%20var%20circle_marker_9645f2c578604a3d871989552faf4f81%20%3D%20L.circleMarker%28%0A%20%20%20%20%20%20%20%20%20%20%20%20%20%20%20%20%5B40.555295236173194%2C%20-74.17079414786092%5D%2C%0A%20%20%20%20%20%20%20%20%20%20%20%20%20%20%20%20%7B%22bubblingMouseEvents%22%3A%20true%2C%20%22color%22%3A%20%22blue%22%2C%20%22dashArray%22%3A%20null%2C%20%22dashOffset%22%3A%20null%2C%20%22fill%22%3A%20true%2C%20%22fillColor%22%3A%20%22%233186cc%22%2C%20%22fillOpacity%22%3A%200.7%2C%20%22fillRule%22%3A%20%22evenodd%22%2C%20%22lineCap%22%3A%20%22round%22%2C%20%22lineJoin%22%3A%20%22round%22%2C%20%22opacity%22%3A%201.0%2C%20%22radius%22%3A%205%2C%20%22stroke%22%3A%20true%2C%20%22weight%22%3A%203%7D%0A%20%20%20%20%20%20%20%20%20%20%20%20%29.addTo%28map_da402c8c143c4c8d8a2810a77806f651%29%3B%0A%20%20%20%20%20%20%20%20%0A%20%20%20%20%0A%20%20%20%20%20%20%20%20var%20popup_51f6a9ea819d4d6284d6e8be6e57c485%20%3D%20L.popup%28%7B%22maxWidth%22%3A%20%22100%25%22%7D%29%3B%0A%0A%20%20%20%20%20%20%20%20%0A%20%20%20%20%20%20%20%20%20%20%20%20var%20html_a0af8328a67d4964afe476ea33cba0ad%20%3D%20%24%28%60%3Cdiv%20id%3D%22html_a0af8328a67d4964afe476ea33cba0ad%22%20style%3D%22width%3A%20100.0%25%3B%20height%3A%20100.0%25%3B%22%3EGreenridge%2C%20Staten%20Island%3C/div%3E%60%29%5B0%5D%3B%0A%20%20%20%20%20%20%20%20%20%20%20%20popup_51f6a9ea819d4d6284d6e8be6e57c485.setContent%28html_a0af8328a67d4964afe476ea33cba0ad%29%3B%0A%20%20%20%20%20%20%20%20%0A%0A%20%20%20%20%20%20%20%20circle_marker_9645f2c578604a3d871989552faf4f81.bindPopup%28popup_51f6a9ea819d4d6284d6e8be6e57c485%29%0A%20%20%20%20%20%20%20%20%3B%0A%0A%20%20%20%20%20%20%20%20%0A%20%20%20%20%0A%20%20%20%20%0A%20%20%20%20%20%20%20%20%20%20%20%20var%20circle_marker_5cd022c655d34ef680eb0dfb8e51ae2a%20%3D%20L.circleMarker%28%0A%20%20%20%20%20%20%20%20%20%20%20%20%20%20%20%20%5B40.58913894875281%2C%20-74.15902208156601%5D%2C%0A%20%20%20%20%20%20%20%20%20%20%20%20%20%20%20%20%7B%22bubblingMouseEvents%22%3A%20true%2C%20%22color%22%3A%20%22blue%22%2C%20%22dashArray%22%3A%20null%2C%20%22dashOffset%22%3A%20null%2C%20%22fill%22%3A%20true%2C%20%22fillColor%22%3A%20%22%233186cc%22%2C%20%22fillOpacity%22%3A%200.7%2C%20%22fillRule%22%3A%20%22evenodd%22%2C%20%22lineCap%22%3A%20%22round%22%2C%20%22lineJoin%22%3A%20%22round%22%2C%20%22opacity%22%3A%201.0%2C%20%22radius%22%3A%205%2C%20%22stroke%22%3A%20true%2C%20%22weight%22%3A%203%7D%0A%20%20%20%20%20%20%20%20%20%20%20%20%29.addTo%28map_da402c8c143c4c8d8a2810a77806f651%29%3B%0A%20%20%20%20%20%20%20%20%0A%20%20%20%20%0A%20%20%20%20%20%20%20%20var%20popup_cd3e37afc72b4684ad3c1ffcc1d7fcde%20%3D%20L.popup%28%7B%22maxWidth%22%3A%20%22100%25%22%7D%29%3B%0A%0A%20%20%20%20%20%20%20%20%0A%20%20%20%20%20%20%20%20%20%20%20%20var%20html_e6fe6735e3424ba0a88540a54ee81028%20%3D%20%24%28%60%3Cdiv%20id%3D%22html_e6fe6735e3424ba0a88540a54ee81028%22%20style%3D%22width%3A%20100.0%25%3B%20height%3A%20100.0%25%3B%22%3EHeartland%20Village%2C%20Staten%20Island%3C/div%3E%60%29%5B0%5D%3B%0A%20%20%20%20%20%20%20%20%20%20%20%20popup_cd3e37afc72b4684ad3c1ffcc1d7fcde.setContent%28html_e6fe6735e3424ba0a88540a54ee81028%29%3B%0A%20%20%20%20%20%20%20%20%0A%0A%20%20%20%20%20%20%20%20circle_marker_5cd022c655d34ef680eb0dfb8e51ae2a.bindPopup%28popup_cd3e37afc72b4684ad3c1ffcc1d7fcde%29%0A%20%20%20%20%20%20%20%20%3B%0A%0A%20%20%20%20%20%20%20%20%0A%20%20%20%20%0A%20%20%20%20%0A%20%20%20%20%20%20%20%20%20%20%20%20var%20circle_marker_3a9cc3c64a664a9db02690e1a7e1a4ec%20%3D%20L.circleMarker%28%0A%20%20%20%20%20%20%20%20%20%20%20%20%20%20%20%20%5B40.59472602746295%2C%20-74.1895604551969%5D%2C%0A%20%20%20%20%20%20%20%20%20%20%20%20%20%20%20%20%7B%22bubblingMouseEvents%22%3A%20true%2C%20%22color%22%3A%20%22blue%22%2C%20%22dashArray%22%3A%20null%2C%20%22dashOffset%22%3A%20null%2C%20%22fill%22%3A%20true%2C%20%22fillColor%22%3A%20%22%233186cc%22%2C%20%22fillOpacity%22%3A%200.7%2C%20%22fillRule%22%3A%20%22evenodd%22%2C%20%22lineCap%22%3A%20%22round%22%2C%20%22lineJoin%22%3A%20%22round%22%2C%20%22opacity%22%3A%201.0%2C%20%22radius%22%3A%205%2C%20%22stroke%22%3A%20true%2C%20%22weight%22%3A%203%7D%0A%20%20%20%20%20%20%20%20%20%20%20%20%29.addTo%28map_da402c8c143c4c8d8a2810a77806f651%29%3B%0A%20%20%20%20%20%20%20%20%0A%20%20%20%20%0A%20%20%20%20%20%20%20%20var%20popup_5cb9c5d27f134e629e44f05116c8b130%20%3D%20L.popup%28%7B%22maxWidth%22%3A%20%22100%25%22%7D%29%3B%0A%0A%20%20%20%20%20%20%20%20%0A%20%20%20%20%20%20%20%20%20%20%20%20var%20html_abf1c5f2d9274a42829109e2708a4d57%20%3D%20%24%28%60%3Cdiv%20id%3D%22html_abf1c5f2d9274a42829109e2708a4d57%22%20style%3D%22width%3A%20100.0%25%3B%20height%3A%20100.0%25%3B%22%3EChelsea%2C%20Staten%20Island%3C/div%3E%60%29%5B0%5D%3B%0A%20%20%20%20%20%20%20%20%20%20%20%20popup_5cb9c5d27f134e629e44f05116c8b130.setContent%28html_abf1c5f2d9274a42829109e2708a4d57%29%3B%0A%20%20%20%20%20%20%20%20%0A%0A%20%20%20%20%20%20%20%20circle_marker_3a9cc3c64a664a9db02690e1a7e1a4ec.bindPopup%28popup_5cb9c5d27f134e629e44f05116c8b130%29%0A%20%20%20%20%20%20%20%20%3B%0A%0A%20%20%20%20%20%20%20%20%0A%20%20%20%20%0A%20%20%20%20%0A%20%20%20%20%20%20%20%20%20%20%20%20var%20circle_marker_0f3221724474446392197b765eff6e8b%20%3D%20L.circleMarker%28%0A%20%20%20%20%20%20%20%20%20%20%20%20%20%20%20%20%5B40.60577868452358%2C%20-74.18725638381567%5D%2C%0A%20%20%20%20%20%20%20%20%20%20%20%20%20%20%20%20%7B%22bubblingMouseEvents%22%3A%20true%2C%20%22color%22%3A%20%22blue%22%2C%20%22dashArray%22%3A%20null%2C%20%22dashOffset%22%3A%20null%2C%20%22fill%22%3A%20true%2C%20%22fillColor%22%3A%20%22%233186cc%22%2C%20%22fillOpacity%22%3A%200.7%2C%20%22fillRule%22%3A%20%22evenodd%22%2C%20%22lineCap%22%3A%20%22round%22%2C%20%22lineJoin%22%3A%20%22round%22%2C%20%22opacity%22%3A%201.0%2C%20%22radius%22%3A%205%2C%20%22stroke%22%3A%20true%2C%20%22weight%22%3A%203%7D%0A%20%20%20%20%20%20%20%20%20%20%20%20%29.addTo%28map_da402c8c143c4c8d8a2810a77806f651%29%3B%0A%20%20%20%20%20%20%20%20%0A%20%20%20%20%0A%20%20%20%20%20%20%20%20var%20popup_4041dc7319cf4966982c6f48c52d00e8%20%3D%20L.popup%28%7B%22maxWidth%22%3A%20%22100%25%22%7D%29%3B%0A%0A%20%20%20%20%20%20%20%20%0A%20%20%20%20%20%20%20%20%20%20%20%20var%20html_1070cf1af7a5488596a7956b164559c6%20%3D%20%24%28%60%3Cdiv%20id%3D%22html_1070cf1af7a5488596a7956b164559c6%22%20style%3D%22width%3A%20100.0%25%3B%20height%3A%20100.0%25%3B%22%3EBloomfield%2C%20Staten%20Island%3C/div%3E%60%29%5B0%5D%3B%0A%20%20%20%20%20%20%20%20%20%20%20%20popup_4041dc7319cf4966982c6f48c52d00e8.setContent%28html_1070cf1af7a5488596a7956b164559c6%29%3B%0A%20%20%20%20%20%20%20%20%0A%0A%20%20%20%20%20%20%20%20circle_marker_0f3221724474446392197b765eff6e8b.bindPopup%28popup_4041dc7319cf4966982c6f48c52d00e8%29%0A%20%20%20%20%20%20%20%20%3B%0A%0A%20%20%20%20%20%20%20%20%0A%20%20%20%20%0A%20%20%20%20%0A%20%20%20%20%20%20%20%20%20%20%20%20var%20circle_marker_40b0309beb224e489bce8389a92c5257%20%3D%20L.circleMarker%28%0A%20%20%20%20%20%20%20%20%20%20%20%20%20%20%20%20%5B40.6095918004203%2C%20-74.15940948657122%5D%2C%0A%20%20%20%20%20%20%20%20%20%20%20%20%20%20%20%20%7B%22bubblingMouseEvents%22%3A%20true%2C%20%22color%22%3A%20%22blue%22%2C%20%22dashArray%22%3A%20null%2C%20%22dashOffset%22%3A%20null%2C%20%22fill%22%3A%20true%2C%20%22fillColor%22%3A%20%22%233186cc%22%2C%20%22fillOpacity%22%3A%200.7%2C%20%22fillRule%22%3A%20%22evenodd%22%2C%20%22lineCap%22%3A%20%22round%22%2C%20%22lineJoin%22%3A%20%22round%22%2C%20%22opacity%22%3A%201.0%2C%20%22radius%22%3A%205%2C%20%22stroke%22%3A%20true%2C%20%22weight%22%3A%203%7D%0A%20%20%20%20%20%20%20%20%20%20%20%20%29.addTo%28map_da402c8c143c4c8d8a2810a77806f651%29%3B%0A%20%20%20%20%20%20%20%20%0A%20%20%20%20%0A%20%20%20%20%20%20%20%20var%20popup_1736d894083541f7b06107db4a5f35f0%20%3D%20L.popup%28%7B%22maxWidth%22%3A%20%22100%25%22%7D%29%3B%0A%0A%20%20%20%20%20%20%20%20%0A%20%20%20%20%20%20%20%20%20%20%20%20var%20html_e339e630c3c846f180fbebd477494c21%20%3D%20%24%28%60%3Cdiv%20id%3D%22html_e339e630c3c846f180fbebd477494c21%22%20style%3D%22width%3A%20100.0%25%3B%20height%3A%20100.0%25%3B%22%3EBulls%20Head%2C%20Staten%20Island%3C/div%3E%60%29%5B0%5D%3B%0A%20%20%20%20%20%20%20%20%20%20%20%20popup_1736d894083541f7b06107db4a5f35f0.setContent%28html_e339e630c3c846f180fbebd477494c21%29%3B%0A%20%20%20%20%20%20%20%20%0A%0A%20%20%20%20%20%20%20%20circle_marker_40b0309beb224e489bce8389a92c5257.bindPopup%28popup_1736d894083541f7b06107db4a5f35f0%29%0A%20%20%20%20%20%20%20%20%3B%0A%0A%20%20%20%20%20%20%20%20%0A%20%20%20%20%0A%20%20%20%20%0A%20%20%20%20%20%20%20%20%20%20%20%20var%20circle_marker_1c79730d42de41308a6d1ce1b2ef7f46%20%3D%20L.circleMarker%28%0A%20%20%20%20%20%20%20%20%20%20%20%20%20%20%20%20%5B40.7826825671257%2C%20-73.95325646837112%5D%2C%0A%20%20%20%20%20%20%20%20%20%20%20%20%20%20%20%20%7B%22bubblingMouseEvents%22%3A%20true%2C%20%22color%22%3A%20%22blue%22%2C%20%22dashArray%22%3A%20null%2C%20%22dashOffset%22%3A%20null%2C%20%22fill%22%3A%20true%2C%20%22fillColor%22%3A%20%22%233186cc%22%2C%20%22fillOpacity%22%3A%200.7%2C%20%22fillRule%22%3A%20%22evenodd%22%2C%20%22lineCap%22%3A%20%22round%22%2C%20%22lineJoin%22%3A%20%22round%22%2C%20%22opacity%22%3A%201.0%2C%20%22radius%22%3A%205%2C%20%22stroke%22%3A%20true%2C%20%22weight%22%3A%203%7D%0A%20%20%20%20%20%20%20%20%20%20%20%20%29.addTo%28map_da402c8c143c4c8d8a2810a77806f651%29%3B%0A%20%20%20%20%20%20%20%20%0A%20%20%20%20%0A%20%20%20%20%20%20%20%20var%20popup_a98498c4d3ff49ecb20321762fb8e477%20%3D%20L.popup%28%7B%22maxWidth%22%3A%20%22100%25%22%7D%29%3B%0A%0A%20%20%20%20%20%20%20%20%0A%20%20%20%20%20%20%20%20%20%20%20%20var%20html_077419c4659e4e6fb125e5854703f833%20%3D%20%24%28%60%3Cdiv%20id%3D%22html_077419c4659e4e6fb125e5854703f833%22%20style%3D%22width%3A%20100.0%25%3B%20height%3A%20100.0%25%3B%22%3ECarnegie%20Hill%2C%20Manhattan%3C/div%3E%60%29%5B0%5D%3B%0A%20%20%20%20%20%20%20%20%20%20%20%20popup_a98498c4d3ff49ecb20321762fb8e477.setContent%28html_077419c4659e4e6fb125e5854703f833%29%3B%0A%20%20%20%20%20%20%20%20%0A%0A%20%20%20%20%20%20%20%20circle_marker_1c79730d42de41308a6d1ce1b2ef7f46.bindPopup%28popup_a98498c4d3ff49ecb20321762fb8e477%29%0A%20%20%20%20%20%20%20%20%3B%0A%0A%20%20%20%20%20%20%20%20%0A%20%20%20%20%0A%20%20%20%20%0A%20%20%20%20%20%20%20%20%20%20%20%20var%20circle_marker_27b51c0bb61e413391a8c57209ff20e1%20%3D%20L.circleMarker%28%0A%20%20%20%20%20%20%20%20%20%20%20%20%20%20%20%20%5B40.72325901885768%2C%20-73.98843368023597%5D%2C%0A%20%20%20%20%20%20%20%20%20%20%20%20%20%20%20%20%7B%22bubblingMouseEvents%22%3A%20true%2C%20%22color%22%3A%20%22blue%22%2C%20%22dashArray%22%3A%20null%2C%20%22dashOffset%22%3A%20null%2C%20%22fill%22%3A%20true%2C%20%22fillColor%22%3A%20%22%233186cc%22%2C%20%22fillOpacity%22%3A%200.7%2C%20%22fillRule%22%3A%20%22evenodd%22%2C%20%22lineCap%22%3A%20%22round%22%2C%20%22lineJoin%22%3A%20%22round%22%2C%20%22opacity%22%3A%201.0%2C%20%22radius%22%3A%205%2C%20%22stroke%22%3A%20true%2C%20%22weight%22%3A%203%7D%0A%20%20%20%20%20%20%20%20%20%20%20%20%29.addTo%28map_da402c8c143c4c8d8a2810a77806f651%29%3B%0A%20%20%20%20%20%20%20%20%0A%20%20%20%20%0A%20%20%20%20%20%20%20%20var%20popup_d12803674f6749f6b29fadec665aab8f%20%3D%20L.popup%28%7B%22maxWidth%22%3A%20%22100%25%22%7D%29%3B%0A%0A%20%20%20%20%20%20%20%20%0A%20%20%20%20%20%20%20%20%20%20%20%20var%20html_87acf65f42cc4a90b2312665a1294186%20%3D%20%24%28%60%3Cdiv%20id%3D%22html_87acf65f42cc4a90b2312665a1294186%22%20style%3D%22width%3A%20100.0%25%3B%20height%3A%20100.0%25%3B%22%3ENoho%2C%20Manhattan%3C/div%3E%60%29%5B0%5D%3B%0A%20%20%20%20%20%20%20%20%20%20%20%20popup_d12803674f6749f6b29fadec665aab8f.setContent%28html_87acf65f42cc4a90b2312665a1294186%29%3B%0A%20%20%20%20%20%20%20%20%0A%0A%20%20%20%20%20%20%20%20circle_marker_27b51c0bb61e413391a8c57209ff20e1.bindPopup%28popup_d12803674f6749f6b29fadec665aab8f%29%0A%20%20%20%20%20%20%20%20%3B%0A%0A%20%20%20%20%20%20%20%20%0A%20%20%20%20%0A%20%20%20%20%0A%20%20%20%20%20%20%20%20%20%20%20%20var%20circle_marker_24dbe6d5a4034e9cbaa6f9271eaed360%20%3D%20L.circleMarker%28%0A%20%20%20%20%20%20%20%20%20%20%20%20%20%20%20%20%5B40.71522892046282%2C%20-74.00541529873355%5D%2C%0A%20%20%20%20%20%20%20%20%20%20%20%20%20%20%20%20%7B%22bubblingMouseEvents%22%3A%20true%2C%20%22color%22%3A%20%22blue%22%2C%20%22dashArray%22%3A%20null%2C%20%22dashOffset%22%3A%20null%2C%20%22fill%22%3A%20true%2C%20%22fillColor%22%3A%20%22%233186cc%22%2C%20%22fillOpacity%22%3A%200.7%2C%20%22fillRule%22%3A%20%22evenodd%22%2C%20%22lineCap%22%3A%20%22round%22%2C%20%22lineJoin%22%3A%20%22round%22%2C%20%22opacity%22%3A%201.0%2C%20%22radius%22%3A%205%2C%20%22stroke%22%3A%20true%2C%20%22weight%22%3A%203%7D%0A%20%20%20%20%20%20%20%20%20%20%20%20%29.addTo%28map_da402c8c143c4c8d8a2810a77806f651%29%3B%0A%20%20%20%20%20%20%20%20%0A%20%20%20%20%0A%20%20%20%20%20%20%20%20var%20popup_08d3379e941e4761abd14d81b100cf67%20%3D%20L.popup%28%7B%22maxWidth%22%3A%20%22100%25%22%7D%29%3B%0A%0A%20%20%20%20%20%20%20%20%0A%20%20%20%20%20%20%20%20%20%20%20%20var%20html_c831389f176e46509b0f48429df77be8%20%3D%20%24%28%60%3Cdiv%20id%3D%22html_c831389f176e46509b0f48429df77be8%22%20style%3D%22width%3A%20100.0%25%3B%20height%3A%20100.0%25%3B%22%3ECivic%20Center%2C%20Manhattan%3C/div%3E%60%29%5B0%5D%3B%0A%20%20%20%20%20%20%20%20%20%20%20%20popup_08d3379e941e4761abd14d81b100cf67.setContent%28html_c831389f176e46509b0f48429df77be8%29%3B%0A%20%20%20%20%20%20%20%20%0A%0A%20%20%20%20%20%20%20%20circle_marker_24dbe6d5a4034e9cbaa6f9271eaed360.bindPopup%28popup_08d3379e941e4761abd14d81b100cf67%29%0A%20%20%20%20%20%20%20%20%3B%0A%0A%20%20%20%20%20%20%20%20%0A%20%20%20%20%0A%20%20%20%20%0A%20%20%20%20%20%20%20%20%20%20%20%20var%20circle_marker_99076b46746d4f1b9e223cb72ffdbc33%20%3D%20L.circleMarker%28%0A%20%20%20%20%20%20%20%20%20%20%20%20%20%20%20%20%5B40.7485096643122%2C%20-73.98871313285247%5D%2C%0A%20%20%20%20%20%20%20%20%20%20%20%20%20%20%20%20%7B%22bubblingMouseEvents%22%3A%20true%2C%20%22color%22%3A%20%22blue%22%2C%20%22dashArray%22%3A%20null%2C%20%22dashOffset%22%3A%20null%2C%20%22fill%22%3A%20true%2C%20%22fillColor%22%3A%20%22%233186cc%22%2C%20%22fillOpacity%22%3A%200.7%2C%20%22fillRule%22%3A%20%22evenodd%22%2C%20%22lineCap%22%3A%20%22round%22%2C%20%22lineJoin%22%3A%20%22round%22%2C%20%22opacity%22%3A%201.0%2C%20%22radius%22%3A%205%2C%20%22stroke%22%3A%20true%2C%20%22weight%22%3A%203%7D%0A%20%20%20%20%20%20%20%20%20%20%20%20%29.addTo%28map_da402c8c143c4c8d8a2810a77806f651%29%3B%0A%20%20%20%20%20%20%20%20%0A%20%20%20%20%0A%20%20%20%20%20%20%20%20var%20popup_4499577ff52d4096b17603790bc95808%20%3D%20L.popup%28%7B%22maxWidth%22%3A%20%22100%25%22%7D%29%3B%0A%0A%20%20%20%20%20%20%20%20%0A%20%20%20%20%20%20%20%20%20%20%20%20var%20html_6e3c13af0c04411b80e6f0a6176b1613%20%3D%20%24%28%60%3Cdiv%20id%3D%22html_6e3c13af0c04411b80e6f0a6176b1613%22%20style%3D%22width%3A%20100.0%25%3B%20height%3A%20100.0%25%3B%22%3EMidtown%20South%2C%20Manhattan%3C/div%3E%60%29%5B0%5D%3B%0A%20%20%20%20%20%20%20%20%20%20%20%20popup_4499577ff52d4096b17603790bc95808.setContent%28html_6e3c13af0c04411b80e6f0a6176b1613%29%3B%0A%20%20%20%20%20%20%20%20%0A%0A%20%20%20%20%20%20%20%20circle_marker_99076b46746d4f1b9e223cb72ffdbc33.bindPopup%28popup_4499577ff52d4096b17603790bc95808%29%0A%20%20%20%20%20%20%20%20%3B%0A%0A%20%20%20%20%20%20%20%20%0A%20%20%20%20%0A%20%20%20%20%0A%20%20%20%20%20%20%20%20%20%20%20%20var%20circle_marker_23b06154efca47e1b5335f108025b81f%20%3D%20L.circleMarker%28%0A%20%20%20%20%20%20%20%20%20%20%20%20%20%20%20%20%5B40.56960594275505%2C%20-74.1340572986257%5D%2C%0A%20%20%20%20%20%20%20%20%20%20%20%20%20%20%20%20%7B%22bubblingMouseEvents%22%3A%20true%2C%20%22color%22%3A%20%22blue%22%2C%20%22dashArray%22%3A%20null%2C%20%22dashOffset%22%3A%20null%2C%20%22fill%22%3A%20true%2C%20%22fillColor%22%3A%20%22%233186cc%22%2C%20%22fillOpacity%22%3A%200.7%2C%20%22fillRule%22%3A%20%22evenodd%22%2C%20%22lineCap%22%3A%20%22round%22%2C%20%22lineJoin%22%3A%20%22round%22%2C%20%22opacity%22%3A%201.0%2C%20%22radius%22%3A%205%2C%20%22stroke%22%3A%20true%2C%20%22weight%22%3A%203%7D%0A%20%20%20%20%20%20%20%20%20%20%20%20%29.addTo%28map_da402c8c143c4c8d8a2810a77806f651%29%3B%0A%20%20%20%20%20%20%20%20%0A%20%20%20%20%0A%20%20%20%20%20%20%20%20var%20popup_cdd93640fc054757b3b50b09ec6ea2f4%20%3D%20L.popup%28%7B%22maxWidth%22%3A%20%22100%25%22%7D%29%3B%0A%0A%20%20%20%20%20%20%20%20%0A%20%20%20%20%20%20%20%20%20%20%20%20var%20html_8d7e182f452949658692b735e4d06c17%20%3D%20%24%28%60%3Cdiv%20id%3D%22html_8d7e182f452949658692b735e4d06c17%22%20style%3D%22width%3A%20100.0%25%3B%20height%3A%20100.0%25%3B%22%3ERichmond%20Town%2C%20Staten%20Island%3C/div%3E%60%29%5B0%5D%3B%0A%20%20%20%20%20%20%20%20%20%20%20%20popup_cdd93640fc054757b3b50b09ec6ea2f4.setContent%28html_8d7e182f452949658692b735e4d06c17%29%3B%0A%20%20%20%20%20%20%20%20%0A%0A%20%20%20%20%20%20%20%20circle_marker_23b06154efca47e1b5335f108025b81f.bindPopup%28popup_cdd93640fc054757b3b50b09ec6ea2f4%29%0A%20%20%20%20%20%20%20%20%3B%0A%0A%20%20%20%20%20%20%20%20%0A%20%20%20%20%0A%20%20%20%20%0A%20%20%20%20%20%20%20%20%20%20%20%20var%20circle_marker_404c376cbff844198f129e28fb5eb9b0%20%3D%20L.circleMarker%28%0A%20%20%20%20%20%20%20%20%20%20%20%20%20%20%20%20%5B40.60971934079284%2C%20-74.06667766061771%5D%2C%0A%20%20%20%20%20%20%20%20%20%20%20%20%20%20%20%20%7B%22bubblingMouseEvents%22%3A%20true%2C%20%22color%22%3A%20%22blue%22%2C%20%22dashArray%22%3A%20null%2C%20%22dashOffset%22%3A%20null%2C%20%22fill%22%3A%20true%2C%20%22fillColor%22%3A%20%22%233186cc%22%2C%20%22fillOpacity%22%3A%200.7%2C%20%22fillRule%22%3A%20%22evenodd%22%2C%20%22lineCap%22%3A%20%22round%22%2C%20%22lineJoin%22%3A%20%22round%22%2C%20%22opacity%22%3A%201.0%2C%20%22radius%22%3A%205%2C%20%22stroke%22%3A%20true%2C%20%22weight%22%3A%203%7D%0A%20%20%20%20%20%20%20%20%20%20%20%20%29.addTo%28map_da402c8c143c4c8d8a2810a77806f651%29%3B%0A%20%20%20%20%20%20%20%20%0A%20%20%20%20%0A%20%20%20%20%20%20%20%20var%20popup_e78197419522441987c6b99a19433568%20%3D%20L.popup%28%7B%22maxWidth%22%3A%20%22100%25%22%7D%29%3B%0A%0A%20%20%20%20%20%20%20%20%0A%20%20%20%20%20%20%20%20%20%20%20%20var%20html_5a518fbf9d2142ad865e4422d3aef87c%20%3D%20%24%28%60%3Cdiv%20id%3D%22html_5a518fbf9d2142ad865e4422d3aef87c%22%20style%3D%22width%3A%20100.0%25%3B%20height%3A%20100.0%25%3B%22%3EShore%20Acres%2C%20Staten%20Island%3C/div%3E%60%29%5B0%5D%3B%0A%20%20%20%20%20%20%20%20%20%20%20%20popup_e78197419522441987c6b99a19433568.setContent%28html_5a518fbf9d2142ad865e4422d3aef87c%29%3B%0A%20%20%20%20%20%20%20%20%0A%0A%20%20%20%20%20%20%20%20circle_marker_404c376cbff844198f129e28fb5eb9b0.bindPopup%28popup_e78197419522441987c6b99a19433568%29%0A%20%20%20%20%20%20%20%20%3B%0A%0A%20%20%20%20%20%20%20%20%0A%20%20%20%20%0A%20%20%20%20%0A%20%20%20%20%20%20%20%20%20%20%20%20var%20circle_marker_bd48c002e744493fae881742d69228d6%20%3D%20L.circleMarker%28%0A%20%20%20%20%20%20%20%20%20%20%20%20%20%20%20%20%5B40.61917845202843%2C%20-74.072642445484%5D%2C%0A%20%20%20%20%20%20%20%20%20%20%20%20%20%20%20%20%7B%22bubblingMouseEvents%22%3A%20true%2C%20%22color%22%3A%20%22blue%22%2C%20%22dashArray%22%3A%20null%2C%20%22dashOffset%22%3A%20null%2C%20%22fill%22%3A%20true%2C%20%22fillColor%22%3A%20%22%233186cc%22%2C%20%22fillOpacity%22%3A%200.7%2C%20%22fillRule%22%3A%20%22evenodd%22%2C%20%22lineCap%22%3A%20%22round%22%2C%20%22lineJoin%22%3A%20%22round%22%2C%20%22opacity%22%3A%201.0%2C%20%22radius%22%3A%205%2C%20%22stroke%22%3A%20true%2C%20%22weight%22%3A%203%7D%0A%20%20%20%20%20%20%20%20%20%20%20%20%29.addTo%28map_da402c8c143c4c8d8a2810a77806f651%29%3B%0A%20%20%20%20%20%20%20%20%0A%20%20%20%20%0A%20%20%20%20%20%20%20%20var%20popup_34463a56d7ba45cbaea119230c0f486d%20%3D%20L.popup%28%7B%22maxWidth%22%3A%20%22100%25%22%7D%29%3B%0A%0A%20%20%20%20%20%20%20%20%0A%20%20%20%20%20%20%20%20%20%20%20%20var%20html_8986a566aaa1466abbe3e749fc2a7b12%20%3D%20%24%28%60%3Cdiv%20id%3D%22html_8986a566aaa1466abbe3e749fc2a7b12%22%20style%3D%22width%3A%20100.0%25%3B%20height%3A%20100.0%25%3B%22%3EClifton%2C%20Staten%20Island%3C/div%3E%60%29%5B0%5D%3B%0A%20%20%20%20%20%20%20%20%20%20%20%20popup_34463a56d7ba45cbaea119230c0f486d.setContent%28html_8986a566aaa1466abbe3e749fc2a7b12%29%3B%0A%20%20%20%20%20%20%20%20%0A%0A%20%20%20%20%20%20%20%20circle_marker_bd48c002e744493fae881742d69228d6.bindPopup%28popup_34463a56d7ba45cbaea119230c0f486d%29%0A%20%20%20%20%20%20%20%20%3B%0A%0A%20%20%20%20%20%20%20%20%0A%20%20%20%20%0A%20%20%20%20%0A%20%20%20%20%20%20%20%20%20%20%20%20var%20circle_marker_fa75cc75ee48451cae37dd2dc571463b%20%3D%20L.circleMarker%28%0A%20%20%20%20%20%20%20%20%20%20%20%20%20%20%20%20%5B40.6044731896879%2C%20-74.08402364740358%5D%2C%0A%20%20%20%20%20%20%20%20%20%20%20%20%20%20%20%20%7B%22bubblingMouseEvents%22%3A%20true%2C%20%22color%22%3A%20%22blue%22%2C%20%22dashArray%22%3A%20null%2C%20%22dashOffset%22%3A%20null%2C%20%22fill%22%3A%20true%2C%20%22fillColor%22%3A%20%22%233186cc%22%2C%20%22fillOpacity%22%3A%200.7%2C%20%22fillRule%22%3A%20%22evenodd%22%2C%20%22lineCap%22%3A%20%22round%22%2C%20%22lineJoin%22%3A%20%22round%22%2C%20%22opacity%22%3A%201.0%2C%20%22radius%22%3A%205%2C%20%22stroke%22%3A%20true%2C%20%22weight%22%3A%203%7D%0A%20%20%20%20%20%20%20%20%20%20%20%20%29.addTo%28map_da402c8c143c4c8d8a2810a77806f651%29%3B%0A%20%20%20%20%20%20%20%20%0A%20%20%20%20%0A%20%20%20%20%20%20%20%20var%20popup_7cfef7f97c1948a39ce9515c6fc00bcb%20%3D%20L.popup%28%7B%22maxWidth%22%3A%20%22100%25%22%7D%29%3B%0A%0A%20%20%20%20%20%20%20%20%0A%20%20%20%20%20%20%20%20%20%20%20%20var%20html_768cd98d28d14a169299f40dae5ee886%20%3D%20%24%28%60%3Cdiv%20id%3D%22html_768cd98d28d14a169299f40dae5ee886%22%20style%3D%22width%3A%20100.0%25%3B%20height%3A%20100.0%25%3B%22%3EConcord%2C%20Staten%20Island%3C/div%3E%60%29%5B0%5D%3B%0A%20%20%20%20%20%20%20%20%20%20%20%20popup_7cfef7f97c1948a39ce9515c6fc00bcb.setContent%28html_768cd98d28d14a169299f40dae5ee886%29%3B%0A%20%20%20%20%20%20%20%20%0A%0A%20%20%20%20%20%20%20%20circle_marker_fa75cc75ee48451cae37dd2dc571463b.bindPopup%28popup_7cfef7f97c1948a39ce9515c6fc00bcb%29%0A%20%20%20%20%20%20%20%20%3B%0A%0A%20%20%20%20%20%20%20%20%0A%20%20%20%20%0A%20%20%20%20%0A%20%20%20%20%20%20%20%20%20%20%20%20var%20circle_marker_a3706caab54e479287d9f5216a11fd82%20%3D%20L.circleMarker%28%0A%20%20%20%20%20%20%20%20%20%20%20%20%20%20%20%20%5B40.606794394801%2C%20-74.09776206972522%5D%2C%0A%20%20%20%20%20%20%20%20%20%20%20%20%20%20%20%20%7B%22bubblingMouseEvents%22%3A%20true%2C%20%22color%22%3A%20%22blue%22%2C%20%22dashArray%22%3A%20null%2C%20%22dashOffset%22%3A%20null%2C%20%22fill%22%3A%20true%2C%20%22fillColor%22%3A%20%22%233186cc%22%2C%20%22fillOpacity%22%3A%200.7%2C%20%22fillRule%22%3A%20%22evenodd%22%2C%20%22lineCap%22%3A%20%22round%22%2C%20%22lineJoin%22%3A%20%22round%22%2C%20%22opacity%22%3A%201.0%2C%20%22radius%22%3A%205%2C%20%22stroke%22%3A%20true%2C%20%22weight%22%3A%203%7D%0A%20%20%20%20%20%20%20%20%20%20%20%20%29.addTo%28map_da402c8c143c4c8d8a2810a77806f651%29%3B%0A%20%20%20%20%20%20%20%20%0A%20%20%20%20%0A%20%20%20%20%20%20%20%20var%20popup_e1198e858f5844478d6814611cd2b3db%20%3D%20L.popup%28%7B%22maxWidth%22%3A%20%22100%25%22%7D%29%3B%0A%0A%20%20%20%20%20%20%20%20%0A%20%20%20%20%20%20%20%20%20%20%20%20var%20html_283de04f272f46fa8a064eb5d74d5d8d%20%3D%20%24%28%60%3Cdiv%20id%3D%22html_283de04f272f46fa8a064eb5d74d5d8d%22%20style%3D%22width%3A%20100.0%25%3B%20height%3A%20100.0%25%3B%22%3EEmerson%20Hill%2C%20Staten%20Island%3C/div%3E%60%29%5B0%5D%3B%0A%20%20%20%20%20%20%20%20%20%20%20%20popup_e1198e858f5844478d6814611cd2b3db.setContent%28html_283de04f272f46fa8a064eb5d74d5d8d%29%3B%0A%20%20%20%20%20%20%20%20%0A%0A%20%20%20%20%20%20%20%20circle_marker_a3706caab54e479287d9f5216a11fd82.bindPopup%28popup_e1198e858f5844478d6814611cd2b3db%29%0A%20%20%20%20%20%20%20%20%3B%0A%0A%20%20%20%20%20%20%20%20%0A%20%20%20%20%0A%20%20%20%20%0A%20%20%20%20%20%20%20%20%20%20%20%20var%20circle_marker_33ee3b695eff413fbaa9f08fea03fe2a%20%3D%20L.circleMarker%28%0A%20%20%20%20%20%20%20%20%20%20%20%20%20%20%20%20%5B40.63563000681151%2C%20-74.09805062373887%5D%2C%0A%20%20%20%20%20%20%20%20%20%20%20%20%20%20%20%20%7B%22bubblingMouseEvents%22%3A%20true%2C%20%22color%22%3A%20%22blue%22%2C%20%22dashArray%22%3A%20null%2C%20%22dashOffset%22%3A%20null%2C%20%22fill%22%3A%20true%2C%20%22fillColor%22%3A%20%22%233186cc%22%2C%20%22fillOpacity%22%3A%200.7%2C%20%22fillRule%22%3A%20%22evenodd%22%2C%20%22lineCap%22%3A%20%22round%22%2C%20%22lineJoin%22%3A%20%22round%22%2C%20%22opacity%22%3A%201.0%2C%20%22radius%22%3A%205%2C%20%22stroke%22%3A%20true%2C%20%22weight%22%3A%203%7D%0A%20%20%20%20%20%20%20%20%20%20%20%20%29.addTo%28map_da402c8c143c4c8d8a2810a77806f651%29%3B%0A%20%20%20%20%20%20%20%20%0A%20%20%20%20%0A%20%20%20%20%20%20%20%20var%20popup_a4f818f5ba0e4890916433d1c54bb3f0%20%3D%20L.popup%28%7B%22maxWidth%22%3A%20%22100%25%22%7D%29%3B%0A%0A%20%20%20%20%20%20%20%20%0A%20%20%20%20%20%20%20%20%20%20%20%20var%20html_0d02a2528f9a44378e9c1d310ff65abb%20%3D%20%24%28%60%3Cdiv%20id%3D%22html_0d02a2528f9a44378e9c1d310ff65abb%22%20style%3D%22width%3A%20100.0%25%3B%20height%3A%20100.0%25%3B%22%3ERandall%20Manor%2C%20Staten%20Island%3C/div%3E%60%29%5B0%5D%3B%0A%20%20%20%20%20%20%20%20%20%20%20%20popup_a4f818f5ba0e4890916433d1c54bb3f0.setContent%28html_0d02a2528f9a44378e9c1d310ff65abb%29%3B%0A%20%20%20%20%20%20%20%20%0A%0A%20%20%20%20%20%20%20%20circle_marker_33ee3b695eff413fbaa9f08fea03fe2a.bindPopup%28popup_a4f818f5ba0e4890916433d1c54bb3f0%29%0A%20%20%20%20%20%20%20%20%3B%0A%0A%20%20%20%20%20%20%20%20%0A%20%20%20%20%0A%20%20%20%20%0A%20%20%20%20%20%20%20%20%20%20%20%20var%20circle_marker_d2f834a10db64f788eacb7f8caa0d0b2%20%3D%20L.circleMarker%28%0A%20%20%20%20%20%20%20%20%20%20%20%20%20%20%20%20%5B40.63843283794795%2C%20-74.18622331749823%5D%2C%0A%20%20%20%20%20%20%20%20%20%20%20%20%20%20%20%20%7B%22bubblingMouseEvents%22%3A%20true%2C%20%22color%22%3A%20%22blue%22%2C%20%22dashArray%22%3A%20null%2C%20%22dashOffset%22%3A%20null%2C%20%22fill%22%3A%20true%2C%20%22fillColor%22%3A%20%22%233186cc%22%2C%20%22fillOpacity%22%3A%200.7%2C%20%22fillRule%22%3A%20%22evenodd%22%2C%20%22lineCap%22%3A%20%22round%22%2C%20%22lineJoin%22%3A%20%22round%22%2C%20%22opacity%22%3A%201.0%2C%20%22radius%22%3A%205%2C%20%22stroke%22%3A%20true%2C%20%22weight%22%3A%203%7D%0A%20%20%20%20%20%20%20%20%20%20%20%20%29.addTo%28map_da402c8c143c4c8d8a2810a77806f651%29%3B%0A%20%20%20%20%20%20%20%20%0A%20%20%20%20%0A%20%20%20%20%20%20%20%20var%20popup_bc040e5e93aa4b8a8ade8bacc2b641fc%20%3D%20L.popup%28%7B%22maxWidth%22%3A%20%22100%25%22%7D%29%3B%0A%0A%20%20%20%20%20%20%20%20%0A%20%20%20%20%20%20%20%20%20%20%20%20var%20html_59bebd2599eb41cb9a8678281ae53c79%20%3D%20%24%28%60%3Cdiv%20id%3D%22html_59bebd2599eb41cb9a8678281ae53c79%22%20style%3D%22width%3A%20100.0%25%3B%20height%3A%20100.0%25%3B%22%3EHowland%20Hook%2C%20Staten%20Island%3C/div%3E%60%29%5B0%5D%3B%0A%20%20%20%20%20%20%20%20%20%20%20%20popup_bc040e5e93aa4b8a8ade8bacc2b641fc.setContent%28html_59bebd2599eb41cb9a8678281ae53c79%29%3B%0A%20%20%20%20%20%20%20%20%0A%0A%20%20%20%20%20%20%20%20circle_marker_d2f834a10db64f788eacb7f8caa0d0b2.bindPopup%28popup_bc040e5e93aa4b8a8ade8bacc2b641fc%29%0A%20%20%20%20%20%20%20%20%3B%0A%0A%20%20%20%20%20%20%20%20%0A%20%20%20%20%0A%20%20%20%20%0A%20%20%20%20%20%20%20%20%20%20%20%20var%20circle_marker_45b660faf3b5409a91228369652ec12a%20%3D%20L.circleMarker%28%0A%20%20%20%20%20%20%20%20%20%20%20%20%20%20%20%20%5B40.630146741193826%2C%20-74.1418167896889%5D%2C%0A%20%20%20%20%20%20%20%20%20%20%20%20%20%20%20%20%7B%22bubblingMouseEvents%22%3A%20true%2C%20%22color%22%3A%20%22blue%22%2C%20%22dashArray%22%3A%20null%2C%20%22dashOffset%22%3A%20null%2C%20%22fill%22%3A%20true%2C%20%22fillColor%22%3A%20%22%233186cc%22%2C%20%22fillOpacity%22%3A%200.7%2C%20%22fillRule%22%3A%20%22evenodd%22%2C%20%22lineCap%22%3A%20%22round%22%2C%20%22lineJoin%22%3A%20%22round%22%2C%20%22opacity%22%3A%201.0%2C%20%22radius%22%3A%205%2C%20%22stroke%22%3A%20true%2C%20%22weight%22%3A%203%7D%0A%20%20%20%20%20%20%20%20%20%20%20%20%29.addTo%28map_da402c8c143c4c8d8a2810a77806f651%29%3B%0A%20%20%20%20%20%20%20%20%0A%20%20%20%20%0A%20%20%20%20%20%20%20%20var%20popup_8b5d0f4e50f54dfa9fbbb979d93135f1%20%3D%20L.popup%28%7B%22maxWidth%22%3A%20%22100%25%22%7D%29%3B%0A%0A%20%20%20%20%20%20%20%20%0A%20%20%20%20%20%20%20%20%20%20%20%20var%20html_b504a66aa4ce47afb2e354099dd5e830%20%3D%20%24%28%60%3Cdiv%20id%3D%22html_b504a66aa4ce47afb2e354099dd5e830%22%20style%3D%22width%3A%20100.0%25%3B%20height%3A%20100.0%25%3B%22%3EElm%20Park%2C%20Staten%20Island%3C/div%3E%60%29%5B0%5D%3B%0A%20%20%20%20%20%20%20%20%20%20%20%20popup_8b5d0f4e50f54dfa9fbbb979d93135f1.setContent%28html_b504a66aa4ce47afb2e354099dd5e830%29%3B%0A%20%20%20%20%20%20%20%20%0A%0A%20%20%20%20%20%20%20%20circle_marker_45b660faf3b5409a91228369652ec12a.bindPopup%28popup_8b5d0f4e50f54dfa9fbbb979d93135f1%29%0A%20%20%20%20%20%20%20%20%3B%0A%0A%20%20%20%20%20%20%20%20%0A%20%20%20%20%0A%20%20%20%20%0A%20%20%20%20%20%20%20%20%20%20%20%20var%20circle_marker_fe5223a14d454b78b7494be2ff330f7c%20%3D%20L.circleMarker%28%0A%20%20%20%20%20%20%20%20%20%20%20%20%20%20%20%20%5B40.652117451793494%2C%20-73.91665331978048%5D%2C%0A%20%20%20%20%20%20%20%20%20%20%20%20%20%20%20%20%7B%22bubblingMouseEvents%22%3A%20true%2C%20%22color%22%3A%20%22blue%22%2C%20%22dashArray%22%3A%20null%2C%20%22dashOffset%22%3A%20null%2C%20%22fill%22%3A%20true%2C%20%22fillColor%22%3A%20%22%233186cc%22%2C%20%22fillOpacity%22%3A%200.7%2C%20%22fillRule%22%3A%20%22evenodd%22%2C%20%22lineCap%22%3A%20%22round%22%2C%20%22lineJoin%22%3A%20%22round%22%2C%20%22opacity%22%3A%201.0%2C%20%22radius%22%3A%205%2C%20%22stroke%22%3A%20true%2C%20%22weight%22%3A%203%7D%0A%20%20%20%20%20%20%20%20%20%20%20%20%29.addTo%28map_da402c8c143c4c8d8a2810a77806f651%29%3B%0A%20%20%20%20%20%20%20%20%0A%20%20%20%20%0A%20%20%20%20%20%20%20%20var%20popup_fa64ad23d0ec4df0a5a4266eb82fdcfc%20%3D%20L.popup%28%7B%22maxWidth%22%3A%20%22100%25%22%7D%29%3B%0A%0A%20%20%20%20%20%20%20%20%0A%20%20%20%20%20%20%20%20%20%20%20%20var%20html_da911260e4f14f5aa3eecc0183a986c8%20%3D%20%24%28%60%3Cdiv%20id%3D%22html_da911260e4f14f5aa3eecc0183a986c8%22%20style%3D%22width%3A%20100.0%25%3B%20height%3A%20100.0%25%3B%22%3ERemsen%20Village%2C%20Brooklyn%3C/div%3E%60%29%5B0%5D%3B%0A%20%20%20%20%20%20%20%20%20%20%20%20popup_fa64ad23d0ec4df0a5a4266eb82fdcfc.setContent%28html_da911260e4f14f5aa3eecc0183a986c8%29%3B%0A%20%20%20%20%20%20%20%20%0A%0A%20%20%20%20%20%20%20%20circle_marker_fe5223a14d454b78b7494be2ff330f7c.bindPopup%28popup_fa64ad23d0ec4df0a5a4266eb82fdcfc%29%0A%20%20%20%20%20%20%20%20%3B%0A%0A%20%20%20%20%20%20%20%20%0A%20%20%20%20%0A%20%20%20%20%0A%20%20%20%20%20%20%20%20%20%20%20%20var%20circle_marker_d9f2149043d74ceca5d9da75122f35e8%20%3D%20L.circleMarker%28%0A%20%20%20%20%20%20%20%20%20%20%20%20%20%20%20%20%5B40.6627442796966%2C%20-73.88511776379292%5D%2C%0A%20%20%20%20%20%20%20%20%20%20%20%20%20%20%20%20%7B%22bubblingMouseEvents%22%3A%20true%2C%20%22color%22%3A%20%22blue%22%2C%20%22dashArray%22%3A%20null%2C%20%22dashOffset%22%3A%20null%2C%20%22fill%22%3A%20true%2C%20%22fillColor%22%3A%20%22%233186cc%22%2C%20%22fillOpacity%22%3A%200.7%2C%20%22fillRule%22%3A%20%22evenodd%22%2C%20%22lineCap%22%3A%20%22round%22%2C%20%22lineJoin%22%3A%20%22round%22%2C%20%22opacity%22%3A%201.0%2C%20%22radius%22%3A%205%2C%20%22stroke%22%3A%20true%2C%20%22weight%22%3A%203%7D%0A%20%20%20%20%20%20%20%20%20%20%20%20%29.addTo%28map_da402c8c143c4c8d8a2810a77806f651%29%3B%0A%20%20%20%20%20%20%20%20%0A%20%20%20%20%0A%20%20%20%20%20%20%20%20var%20popup_1d4446f50f4c45aca27ac2cf0ab2d7c4%20%3D%20L.popup%28%7B%22maxWidth%22%3A%20%22100%25%22%7D%29%3B%0A%0A%20%20%20%20%20%20%20%20%0A%20%20%20%20%20%20%20%20%20%20%20%20var%20html_1abc7d2968fa4792a5a3d97fe4095712%20%3D%20%24%28%60%3Cdiv%20id%3D%22html_1abc7d2968fa4792a5a3d97fe4095712%22%20style%3D%22width%3A%20100.0%25%3B%20height%3A%20100.0%25%3B%22%3ENew%20Lots%2C%20Brooklyn%3C/div%3E%60%29%5B0%5D%3B%0A%20%20%20%20%20%20%20%20%20%20%20%20popup_1d4446f50f4c45aca27ac2cf0ab2d7c4.setContent%28html_1abc7d2968fa4792a5a3d97fe4095712%29%3B%0A%20%20%20%20%20%20%20%20%0A%0A%20%20%20%20%20%20%20%20circle_marker_d9f2149043d74ceca5d9da75122f35e8.bindPopup%28popup_1d4446f50f4c45aca27ac2cf0ab2d7c4%29%0A%20%20%20%20%20%20%20%20%3B%0A%0A%20%20%20%20%20%20%20%20%0A%20%20%20%20%0A%20%20%20%20%0A%20%20%20%20%20%20%20%20%20%20%20%20var%20circle_marker_3d984f73c09a4858b44a1698af63706f%20%3D%20L.circleMarker%28%0A%20%20%20%20%20%20%20%20%20%20%20%20%20%20%20%20%5B40.63131755039667%2C%20-73.90233474295836%5D%2C%0A%20%20%20%20%20%20%20%20%20%20%20%20%20%20%20%20%7B%22bubblingMouseEvents%22%3A%20true%2C%20%22color%22%3A%20%22blue%22%2C%20%22dashArray%22%3A%20null%2C%20%22dashOffset%22%3A%20null%2C%20%22fill%22%3A%20true%2C%20%22fillColor%22%3A%20%22%233186cc%22%2C%20%22fillOpacity%22%3A%200.7%2C%20%22fillRule%22%3A%20%22evenodd%22%2C%20%22lineCap%22%3A%20%22round%22%2C%20%22lineJoin%22%3A%20%22round%22%2C%20%22opacity%22%3A%201.0%2C%20%22radius%22%3A%205%2C%20%22stroke%22%3A%20true%2C%20%22weight%22%3A%203%7D%0A%20%20%20%20%20%20%20%20%20%20%20%20%29.addTo%28map_da402c8c143c4c8d8a2810a77806f651%29%3B%0A%20%20%20%20%20%20%20%20%0A%20%20%20%20%0A%20%20%20%20%20%20%20%20var%20popup_b88f3272f3c94fe3be0faf271d659d4f%20%3D%20L.popup%28%7B%22maxWidth%22%3A%20%22100%25%22%7D%29%3B%0A%0A%20%20%20%20%20%20%20%20%0A%20%20%20%20%20%20%20%20%20%20%20%20var%20html_38ac4030f71342fbb0a902ff83a93525%20%3D%20%24%28%60%3Cdiv%20id%3D%22html_38ac4030f71342fbb0a902ff83a93525%22%20style%3D%22width%3A%20100.0%25%3B%20height%3A%20100.0%25%3B%22%3EPaerdegat%20Basin%2C%20Brooklyn%3C/div%3E%60%29%5B0%5D%3B%0A%20%20%20%20%20%20%20%20%20%20%20%20popup_b88f3272f3c94fe3be0faf271d659d4f.setContent%28html_38ac4030f71342fbb0a902ff83a93525%29%3B%0A%20%20%20%20%20%20%20%20%0A%0A%20%20%20%20%20%20%20%20circle_marker_3d984f73c09a4858b44a1698af63706f.bindPopup%28popup_b88f3272f3c94fe3be0faf271d659d4f%29%0A%20%20%20%20%20%20%20%20%3B%0A%0A%20%20%20%20%20%20%20%20%0A%20%20%20%20%0A%20%20%20%20%0A%20%20%20%20%20%20%20%20%20%20%20%20var%20circle_marker_6c1d130ea6324d9686cbc5963eacd7dc%20%3D%20L.circleMarker%28%0A%20%20%20%20%20%20%20%20%20%20%20%20%20%20%20%20%5B40.61597423962336%2C%20-73.91515391550404%5D%2C%0A%20%20%20%20%20%20%20%20%20%20%20%20%20%20%20%20%7B%22bubblingMouseEvents%22%3A%20true%2C%20%22color%22%3A%20%22blue%22%2C%20%22dashArray%22%3A%20null%2C%20%22dashOffset%22%3A%20null%2C%20%22fill%22%3A%20true%2C%20%22fillColor%22%3A%20%22%233186cc%22%2C%20%22fillOpacity%22%3A%200.7%2C%20%22fillRule%22%3A%20%22evenodd%22%2C%20%22lineCap%22%3A%20%22round%22%2C%20%22lineJoin%22%3A%20%22round%22%2C%20%22opacity%22%3A%201.0%2C%20%22radius%22%3A%205%2C%20%22stroke%22%3A%20true%2C%20%22weight%22%3A%203%7D%0A%20%20%20%20%20%20%20%20%20%20%20%20%29.addTo%28map_da402c8c143c4c8d8a2810a77806f651%29%3B%0A%20%20%20%20%20%20%20%20%0A%20%20%20%20%0A%20%20%20%20%20%20%20%20var%20popup_86a195dd294c41759e1b1e42e5c25799%20%3D%20L.popup%28%7B%22maxWidth%22%3A%20%22100%25%22%7D%29%3B%0A%0A%20%20%20%20%20%20%20%20%0A%20%20%20%20%20%20%20%20%20%20%20%20var%20html_f0a941f3f9eb495a96fa3c3faa468a08%20%3D%20%24%28%60%3Cdiv%20id%3D%22html_f0a941f3f9eb495a96fa3c3faa468a08%22%20style%3D%22width%3A%20100.0%25%3B%20height%3A%20100.0%25%3B%22%3EMill%20Basin%2C%20Brooklyn%3C/div%3E%60%29%5B0%5D%3B%0A%20%20%20%20%20%20%20%20%20%20%20%20popup_86a195dd294c41759e1b1e42e5c25799.setContent%28html_f0a941f3f9eb495a96fa3c3faa468a08%29%3B%0A%20%20%20%20%20%20%20%20%0A%0A%20%20%20%20%20%20%20%20circle_marker_6c1d130ea6324d9686cbc5963eacd7dc.bindPopup%28popup_86a195dd294c41759e1b1e42e5c25799%29%0A%20%20%20%20%20%20%20%20%3B%0A%0A%20%20%20%20%20%20%20%20%0A%20%20%20%20%0A%20%20%20%20%0A%20%20%20%20%20%20%20%20%20%20%20%20var%20circle_marker_2235c0c4b372490cbb018445e7b3af64%20%3D%20L.circleMarker%28%0A%20%20%20%20%20%20%20%20%20%20%20%20%20%20%20%20%5B40.71145964370482%2C%20-73.79646462081593%5D%2C%0A%20%20%20%20%20%20%20%20%20%20%20%20%20%20%20%20%7B%22bubblingMouseEvents%22%3A%20true%2C%20%22color%22%3A%20%22blue%22%2C%20%22dashArray%22%3A%20null%2C%20%22dashOffset%22%3A%20null%2C%20%22fill%22%3A%20true%2C%20%22fillColor%22%3A%20%22%233186cc%22%2C%20%22fillOpacity%22%3A%200.7%2C%20%22fillRule%22%3A%20%22evenodd%22%2C%20%22lineCap%22%3A%20%22round%22%2C%20%22lineJoin%22%3A%20%22round%22%2C%20%22opacity%22%3A%201.0%2C%20%22radius%22%3A%205%2C%20%22stroke%22%3A%20true%2C%20%22weight%22%3A%203%7D%0A%20%20%20%20%20%20%20%20%20%20%20%20%29.addTo%28map_da402c8c143c4c8d8a2810a77806f651%29%3B%0A%20%20%20%20%20%20%20%20%0A%20%20%20%20%0A%20%20%20%20%20%20%20%20var%20popup_cb40165250b94d40b1723ad8047b2698%20%3D%20L.popup%28%7B%22maxWidth%22%3A%20%22100%25%22%7D%29%3B%0A%0A%20%20%20%20%20%20%20%20%0A%20%20%20%20%20%20%20%20%20%20%20%20var%20html_087be358eb044696aa6e873e6a696026%20%3D%20%24%28%60%3Cdiv%20id%3D%22html_087be358eb044696aa6e873e6a696026%22%20style%3D%22width%3A%20100.0%25%3B%20height%3A%20100.0%25%3B%22%3EJamaica%20Hills%2C%20Queens%3C/div%3E%60%29%5B0%5D%3B%0A%20%20%20%20%20%20%20%20%20%20%20%20popup_cb40165250b94d40b1723ad8047b2698.setContent%28html_087be358eb044696aa6e873e6a696026%29%3B%0A%20%20%20%20%20%20%20%20%0A%0A%20%20%20%20%20%20%20%20circle_marker_2235c0c4b372490cbb018445e7b3af64.bindPopup%28popup_cb40165250b94d40b1723ad8047b2698%29%0A%20%20%20%20%20%20%20%20%3B%0A%0A%20%20%20%20%20%20%20%20%0A%20%20%20%20%0A%20%20%20%20%0A%20%20%20%20%20%20%20%20%20%20%20%20var%20circle_marker_1c2a7d0e145f42c3ba8dcee7fcd3fc7a%20%3D%20L.circleMarker%28%0A%20%20%20%20%20%20%20%20%20%20%20%20%20%20%20%20%5B40.73350025429757%2C%20-73.79671678028349%5D%2C%0A%20%20%20%20%20%20%20%20%20%20%20%20%20%20%20%20%7B%22bubblingMouseEvents%22%3A%20true%2C%20%22color%22%3A%20%22blue%22%2C%20%22dashArray%22%3A%20null%2C%20%22dashOffset%22%3A%20null%2C%20%22fill%22%3A%20true%2C%20%22fillColor%22%3A%20%22%233186cc%22%2C%20%22fillOpacity%22%3A%200.7%2C%20%22fillRule%22%3A%20%22evenodd%22%2C%20%22lineCap%22%3A%20%22round%22%2C%20%22lineJoin%22%3A%20%22round%22%2C%20%22opacity%22%3A%201.0%2C%20%22radius%22%3A%205%2C%20%22stroke%22%3A%20true%2C%20%22weight%22%3A%203%7D%0A%20%20%20%20%20%20%20%20%20%20%20%20%29.addTo%28map_da402c8c143c4c8d8a2810a77806f651%29%3B%0A%20%20%20%20%20%20%20%20%0A%20%20%20%20%0A%20%20%20%20%20%20%20%20var%20popup_98f2737ec3ac445d98e04efb3370db15%20%3D%20L.popup%28%7B%22maxWidth%22%3A%20%22100%25%22%7D%29%3B%0A%0A%20%20%20%20%20%20%20%20%0A%20%20%20%20%20%20%20%20%20%20%20%20var%20html_a6bbd2ff91284588ac4b55dd0e252ae7%20%3D%20%24%28%60%3Cdiv%20id%3D%22html_a6bbd2ff91284588ac4b55dd0e252ae7%22%20style%3D%22width%3A%20100.0%25%3B%20height%3A%20100.0%25%3B%22%3EUtopia%2C%20Queens%3C/div%3E%60%29%5B0%5D%3B%0A%20%20%20%20%20%20%20%20%20%20%20%20popup_98f2737ec3ac445d98e04efb3370db15.setContent%28html_a6bbd2ff91284588ac4b55dd0e252ae7%29%3B%0A%20%20%20%20%20%20%20%20%0A%0A%20%20%20%20%20%20%20%20circle_marker_1c2a7d0e145f42c3ba8dcee7fcd3fc7a.bindPopup%28popup_98f2737ec3ac445d98e04efb3370db15%29%0A%20%20%20%20%20%20%20%20%3B%0A%0A%20%20%20%20%20%20%20%20%0A%20%20%20%20%0A%20%20%20%20%0A%20%20%20%20%20%20%20%20%20%20%20%20var%20circle_marker_ebe99e730f944ff99eee57e0bf031ced%20%3D%20L.circleMarker%28%0A%20%20%20%20%20%20%20%20%20%20%20%20%20%20%20%20%5B40.73493618075478%2C%20-73.80486120040537%5D%2C%0A%20%20%20%20%20%20%20%20%20%20%20%20%20%20%20%20%7B%22bubblingMouseEvents%22%3A%20true%2C%20%22color%22%3A%20%22blue%22%2C%20%22dashArray%22%3A%20null%2C%20%22dashOffset%22%3A%20null%2C%20%22fill%22%3A%20true%2C%20%22fillColor%22%3A%20%22%233186cc%22%2C%20%22fillOpacity%22%3A%200.7%2C%20%22fillRule%22%3A%20%22evenodd%22%2C%20%22lineCap%22%3A%20%22round%22%2C%20%22lineJoin%22%3A%20%22round%22%2C%20%22opacity%22%3A%201.0%2C%20%22radius%22%3A%205%2C%20%22stroke%22%3A%20true%2C%20%22weight%22%3A%203%7D%0A%20%20%20%20%20%20%20%20%20%20%20%20%29.addTo%28map_da402c8c143c4c8d8a2810a77806f651%29%3B%0A%20%20%20%20%20%20%20%20%0A%20%20%20%20%0A%20%20%20%20%20%20%20%20var%20popup_20eaaaebb7b84b91b00b585fa9331b97%20%3D%20L.popup%28%7B%22maxWidth%22%3A%20%22100%25%22%7D%29%3B%0A%0A%20%20%20%20%20%20%20%20%0A%20%20%20%20%20%20%20%20%20%20%20%20var%20html_2476f5c608b2451fb0167210f38001c4%20%3D%20%24%28%60%3Cdiv%20id%3D%22html_2476f5c608b2451fb0167210f38001c4%22%20style%3D%22width%3A%20100.0%25%3B%20height%3A%20100.0%25%3B%22%3EPomonok%2C%20Queens%3C/div%3E%60%29%5B0%5D%3B%0A%20%20%20%20%20%20%20%20%20%20%20%20popup_20eaaaebb7b84b91b00b585fa9331b97.setContent%28html_2476f5c608b2451fb0167210f38001c4%29%3B%0A%20%20%20%20%20%20%20%20%0A%0A%20%20%20%20%20%20%20%20circle_marker_ebe99e730f944ff99eee57e0bf031ced.bindPopup%28popup_20eaaaebb7b84b91b00b585fa9331b97%29%0A%20%20%20%20%20%20%20%20%3B%0A%0A%20%20%20%20%20%20%20%20%0A%20%20%20%20%0A%20%20%20%20%0A%20%20%20%20%20%20%20%20%20%20%20%20var%20circle_marker_38b525c38d654f04a1a2bdae67874b7d%20%3D%20L.circleMarker%28%0A%20%20%20%20%20%20%20%20%20%20%20%20%20%20%20%20%5B40.7703173929982%2C%20-73.89467996270574%5D%2C%0A%20%20%20%20%20%20%20%20%20%20%20%20%20%20%20%20%7B%22bubblingMouseEvents%22%3A%20true%2C%20%22color%22%3A%20%22blue%22%2C%20%22dashArray%22%3A%20null%2C%20%22dashOffset%22%3A%20null%2C%20%22fill%22%3A%20true%2C%20%22fillColor%22%3A%20%22%233186cc%22%2C%20%22fillOpacity%22%3A%200.7%2C%20%22fillRule%22%3A%20%22evenodd%22%2C%20%22lineCap%22%3A%20%22round%22%2C%20%22lineJoin%22%3A%20%22round%22%2C%20%22opacity%22%3A%201.0%2C%20%22radius%22%3A%205%2C%20%22stroke%22%3A%20true%2C%20%22weight%22%3A%203%7D%0A%20%20%20%20%20%20%20%20%20%20%20%20%29.addTo%28map_da402c8c143c4c8d8a2810a77806f651%29%3B%0A%20%20%20%20%20%20%20%20%0A%20%20%20%20%0A%20%20%20%20%20%20%20%20var%20popup_eaefb1eb2f6544b88bc6ca9c454bb21b%20%3D%20L.popup%28%7B%22maxWidth%22%3A%20%22100%25%22%7D%29%3B%0A%0A%20%20%20%20%20%20%20%20%0A%20%20%20%20%20%20%20%20%20%20%20%20var%20html_5ff159f90c1b4e72b319cc7c74c8953d%20%3D%20%24%28%60%3Cdiv%20id%3D%22html_5ff159f90c1b4e72b319cc7c74c8953d%22%20style%3D%22width%3A%20100.0%25%3B%20height%3A%20100.0%25%3B%22%3EAstoria%20Heights%2C%20Queens%3C/div%3E%60%29%5B0%5D%3B%0A%20%20%20%20%20%20%20%20%20%20%20%20popup_eaefb1eb2f6544b88bc6ca9c454bb21b.setContent%28html_5ff159f90c1b4e72b319cc7c74c8953d%29%3B%0A%20%20%20%20%20%20%20%20%0A%0A%20%20%20%20%20%20%20%20circle_marker_38b525c38d654f04a1a2bdae67874b7d.bindPopup%28popup_eaefb1eb2f6544b88bc6ca9c454bb21b%29%0A%20%20%20%20%20%20%20%20%3B%0A%0A%20%20%20%20%20%20%20%20%0A%20%20%20%20%0A%20%20%20%20%0A%20%20%20%20%20%20%20%20%20%20%20%20var%20circle_marker_88880f390c33457180e9b7c47d6d75e4%20%3D%20L.circleMarker%28%0A%20%20%20%20%20%20%20%20%20%20%20%20%20%20%20%20%5B40.83142834161548%2C%20-73.90119903387667%5D%2C%0A%20%20%20%20%20%20%20%20%20%20%20%20%20%20%20%20%7B%22bubblingMouseEvents%22%3A%20true%2C%20%22color%22%3A%20%22blue%22%2C%20%22dashArray%22%3A%20null%2C%20%22dashOffset%22%3A%20null%2C%20%22fill%22%3A%20true%2C%20%22fillColor%22%3A%20%22%233186cc%22%2C%20%22fillOpacity%22%3A%200.7%2C%20%22fillRule%22%3A%20%22evenodd%22%2C%20%22lineCap%22%3A%20%22round%22%2C%20%22lineJoin%22%3A%20%22round%22%2C%20%22opacity%22%3A%201.0%2C%20%22radius%22%3A%205%2C%20%22stroke%22%3A%20true%2C%20%22weight%22%3A%203%7D%0A%20%20%20%20%20%20%20%20%20%20%20%20%29.addTo%28map_da402c8c143c4c8d8a2810a77806f651%29%3B%0A%20%20%20%20%20%20%20%20%0A%20%20%20%20%0A%20%20%20%20%20%20%20%20var%20popup_8dd6dc0ec6e248029332e70c841003a5%20%3D%20L.popup%28%7B%22maxWidth%22%3A%20%22100%25%22%7D%29%3B%0A%0A%20%20%20%20%20%20%20%20%0A%20%20%20%20%20%20%20%20%20%20%20%20var%20html_9361179f2a2840279e95ca39af41a4c4%20%3D%20%24%28%60%3Cdiv%20id%3D%22html_9361179f2a2840279e95ca39af41a4c4%22%20style%3D%22width%3A%20100.0%25%3B%20height%3A%20100.0%25%3B%22%3EClaremont%20Village%2C%20Bronx%3C/div%3E%60%29%5B0%5D%3B%0A%20%20%20%20%20%20%20%20%20%20%20%20popup_8dd6dc0ec6e248029332e70c841003a5.setContent%28html_9361179f2a2840279e95ca39af41a4c4%29%3B%0A%20%20%20%20%20%20%20%20%0A%0A%20%20%20%20%20%20%20%20circle_marker_88880f390c33457180e9b7c47d6d75e4.bindPopup%28popup_8dd6dc0ec6e248029332e70c841003a5%29%0A%20%20%20%20%20%20%20%20%3B%0A%0A%20%20%20%20%20%20%20%20%0A%20%20%20%20%0A%20%20%20%20%0A%20%20%20%20%20%20%20%20%20%20%20%20var%20circle_marker_647a5539c8ca43fe9e0b4a8fe8a74990%20%3D%20L.circleMarker%28%0A%20%20%20%20%20%20%20%20%20%20%20%20%20%20%20%20%5B40.824780490842905%2C%20-73.91584652759009%5D%2C%0A%20%20%20%20%20%20%20%20%20%20%20%20%20%20%20%20%7B%22bubblingMouseEvents%22%3A%20true%2C%20%22color%22%3A%20%22blue%22%2C%20%22dashArray%22%3A%20null%2C%20%22dashOffset%22%3A%20null%2C%20%22fill%22%3A%20true%2C%20%22fillColor%22%3A%20%22%233186cc%22%2C%20%22fillOpacity%22%3A%200.7%2C%20%22fillRule%22%3A%20%22evenodd%22%2C%20%22lineCap%22%3A%20%22round%22%2C%20%22lineJoin%22%3A%20%22round%22%2C%20%22opacity%22%3A%201.0%2C%20%22radius%22%3A%205%2C%20%22stroke%22%3A%20true%2C%20%22weight%22%3A%203%7D%0A%20%20%20%20%20%20%20%20%20%20%20%20%29.addTo%28map_da402c8c143c4c8d8a2810a77806f651%29%3B%0A%20%20%20%20%20%20%20%20%0A%20%20%20%20%0A%20%20%20%20%20%20%20%20var%20popup_f42545595af1446986efe10c5afb1fec%20%3D%20L.popup%28%7B%22maxWidth%22%3A%20%22100%25%22%7D%29%3B%0A%0A%20%20%20%20%20%20%20%20%0A%20%20%20%20%20%20%20%20%20%20%20%20var%20html_1e0d2a00e7044419beb6597de0017e9e%20%3D%20%24%28%60%3Cdiv%20id%3D%22html_1e0d2a00e7044419beb6597de0017e9e%22%20style%3D%22width%3A%20100.0%25%3B%20height%3A%20100.0%25%3B%22%3EConcourse%20Village%2C%20Bronx%3C/div%3E%60%29%5B0%5D%3B%0A%20%20%20%20%20%20%20%20%20%20%20%20popup_f42545595af1446986efe10c5afb1fec.setContent%28html_1e0d2a00e7044419beb6597de0017e9e%29%3B%0A%20%20%20%20%20%20%20%20%0A%0A%20%20%20%20%20%20%20%20circle_marker_647a5539c8ca43fe9e0b4a8fe8a74990.bindPopup%28popup_f42545595af1446986efe10c5afb1fec%29%0A%20%20%20%20%20%20%20%20%3B%0A%0A%20%20%20%20%20%20%20%20%0A%20%20%20%20%0A%20%20%20%20%0A%20%20%20%20%20%20%20%20%20%20%20%20var%20circle_marker_264fd9da17eb4c7480301c4e2236939a%20%3D%20L.circleMarker%28%0A%20%20%20%20%20%20%20%20%20%20%20%20%20%20%20%20%5B40.84382617671654%2C%20-73.91655551964419%5D%2C%0A%20%20%20%20%20%20%20%20%20%20%20%20%20%20%20%20%7B%22bubblingMouseEvents%22%3A%20true%2C%20%22color%22%3A%20%22blue%22%2C%20%22dashArray%22%3A%20null%2C%20%22dashOffset%22%3A%20null%2C%20%22fill%22%3A%20true%2C%20%22fillColor%22%3A%20%22%233186cc%22%2C%20%22fillOpacity%22%3A%200.7%2C%20%22fillRule%22%3A%20%22evenodd%22%2C%20%22lineCap%22%3A%20%22round%22%2C%20%22lineJoin%22%3A%20%22round%22%2C%20%22opacity%22%3A%201.0%2C%20%22radius%22%3A%205%2C%20%22stroke%22%3A%20true%2C%20%22weight%22%3A%203%7D%0A%20%20%20%20%20%20%20%20%20%20%20%20%29.addTo%28map_da402c8c143c4c8d8a2810a77806f651%29%3B%0A%20%20%20%20%20%20%20%20%0A%20%20%20%20%0A%20%20%20%20%20%20%20%20var%20popup_e4659a54c40740acbc94afd947f770b7%20%3D%20L.popup%28%7B%22maxWidth%22%3A%20%22100%25%22%7D%29%3B%0A%0A%20%20%20%20%20%20%20%20%0A%20%20%20%20%20%20%20%20%20%20%20%20var%20html_cd548bbaf5e34b22bcc975bf55406496%20%3D%20%24%28%60%3Cdiv%20id%3D%22html_cd548bbaf5e34b22bcc975bf55406496%22%20style%3D%22width%3A%20100.0%25%3B%20height%3A%20100.0%25%3B%22%3EMount%20Eden%2C%20Bronx%3C/div%3E%60%29%5B0%5D%3B%0A%20%20%20%20%20%20%20%20%20%20%20%20popup_e4659a54c40740acbc94afd947f770b7.setContent%28html_cd548bbaf5e34b22bcc975bf55406496%29%3B%0A%20%20%20%20%20%20%20%20%0A%0A%20%20%20%20%20%20%20%20circle_marker_264fd9da17eb4c7480301c4e2236939a.bindPopup%28popup_e4659a54c40740acbc94afd947f770b7%29%0A%20%20%20%20%20%20%20%20%3B%0A%0A%20%20%20%20%20%20%20%20%0A%20%20%20%20%0A%20%20%20%20%0A%20%20%20%20%20%20%20%20%20%20%20%20var%20circle_marker_1d24b10c4d3b45078aa9b78043de5269%20%3D%20L.circleMarker%28%0A%20%20%20%20%20%20%20%20%20%20%20%20%20%20%20%20%5B40.84884160724665%2C%20-73.90829930881988%5D%2C%0A%20%20%20%20%20%20%20%20%20%20%20%20%20%20%20%20%7B%22bubblingMouseEvents%22%3A%20true%2C%20%22color%22%3A%20%22blue%22%2C%20%22dashArray%22%3A%20null%2C%20%22dashOffset%22%3A%20null%2C%20%22fill%22%3A%20true%2C%20%22fillColor%22%3A%20%22%233186cc%22%2C%20%22fillOpacity%22%3A%200.7%2C%20%22fillRule%22%3A%20%22evenodd%22%2C%20%22lineCap%22%3A%20%22round%22%2C%20%22lineJoin%22%3A%20%22round%22%2C%20%22opacity%22%3A%201.0%2C%20%22radius%22%3A%205%2C%20%22stroke%22%3A%20true%2C%20%22weight%22%3A%203%7D%0A%20%20%20%20%20%20%20%20%20%20%20%20%29.addTo%28map_da402c8c143c4c8d8a2810a77806f651%29%3B%0A%20%20%20%20%20%20%20%20%0A%20%20%20%20%0A%20%20%20%20%20%20%20%20var%20popup_2ab07a2458c2449bb869636f0d974124%20%3D%20L.popup%28%7B%22maxWidth%22%3A%20%22100%25%22%7D%29%3B%0A%0A%20%20%20%20%20%20%20%20%0A%20%20%20%20%20%20%20%20%20%20%20%20var%20html_6ed73579cf474926a701b8d04eede47d%20%3D%20%24%28%60%3Cdiv%20id%3D%22html_6ed73579cf474926a701b8d04eede47d%22%20style%3D%22width%3A%20100.0%25%3B%20height%3A%20100.0%25%3B%22%3EMount%20Hope%2C%20Bronx%3C/div%3E%60%29%5B0%5D%3B%0A%20%20%20%20%20%20%20%20%20%20%20%20popup_2ab07a2458c2449bb869636f0d974124.setContent%28html_6ed73579cf474926a701b8d04eede47d%29%3B%0A%20%20%20%20%20%20%20%20%0A%0A%20%20%20%20%20%20%20%20circle_marker_1d24b10c4d3b45078aa9b78043de5269.bindPopup%28popup_2ab07a2458c2449bb869636f0d974124%29%0A%20%20%20%20%20%20%20%20%3B%0A%0A%20%20%20%20%20%20%20%20%0A%20%20%20%20%0A%20%20%20%20%0A%20%20%20%20%20%20%20%20%20%20%20%20var%20circle_marker_09665073310a4d9a8fd89451e54e85de%20%3D%20L.circleMarker%28%0A%20%20%20%20%20%20%20%20%20%20%20%20%20%20%20%20%5B40.76028033131374%2C%20-73.96355614094303%5D%2C%0A%20%20%20%20%20%20%20%20%20%20%20%20%20%20%20%20%7B%22bubblingMouseEvents%22%3A%20true%2C%20%22color%22%3A%20%22blue%22%2C%20%22dashArray%22%3A%20null%2C%20%22dashOffset%22%3A%20null%2C%20%22fill%22%3A%20true%2C%20%22fillColor%22%3A%20%22%233186cc%22%2C%20%22fillOpacity%22%3A%200.7%2C%20%22fillRule%22%3A%20%22evenodd%22%2C%20%22lineCap%22%3A%20%22round%22%2C%20%22lineJoin%22%3A%20%22round%22%2C%20%22opacity%22%3A%201.0%2C%20%22radius%22%3A%205%2C%20%22stroke%22%3A%20true%2C%20%22weight%22%3A%203%7D%0A%20%20%20%20%20%20%20%20%20%20%20%20%29.addTo%28map_da402c8c143c4c8d8a2810a77806f651%29%3B%0A%20%20%20%20%20%20%20%20%0A%20%20%20%20%0A%20%20%20%20%20%20%20%20var%20popup_94d2b54d7e7043ee8eed5125f933b482%20%3D%20L.popup%28%7B%22maxWidth%22%3A%20%22100%25%22%7D%29%3B%0A%0A%20%20%20%20%20%20%20%20%0A%20%20%20%20%20%20%20%20%20%20%20%20var%20html_196349539d824e57b02d76c029661099%20%3D%20%24%28%60%3Cdiv%20id%3D%22html_196349539d824e57b02d76c029661099%22%20style%3D%22width%3A%20100.0%25%3B%20height%3A%20100.0%25%3B%22%3ESutton%20Place%2C%20Manhattan%3C/div%3E%60%29%5B0%5D%3B%0A%20%20%20%20%20%20%20%20%20%20%20%20popup_94d2b54d7e7043ee8eed5125f933b482.setContent%28html_196349539d824e57b02d76c029661099%29%3B%0A%20%20%20%20%20%20%20%20%0A%0A%20%20%20%20%20%20%20%20circle_marker_09665073310a4d9a8fd89451e54e85de.bindPopup%28popup_94d2b54d7e7043ee8eed5125f933b482%29%0A%20%20%20%20%20%20%20%20%3B%0A%0A%20%20%20%20%20%20%20%20%0A%20%20%20%20%0A%20%20%20%20%0A%20%20%20%20%20%20%20%20%20%20%20%20var%20circle_marker_c42b303dae434896a91c7980b1cdd816%20%3D%20L.circleMarker%28%0A%20%20%20%20%20%20%20%20%20%20%20%20%20%20%20%20%5B40.743414090073536%2C%20-73.95386782130745%5D%2C%0A%20%20%20%20%20%20%20%20%20%20%20%20%20%20%20%20%7B%22bubblingMouseEvents%22%3A%20true%2C%20%22color%22%3A%20%22blue%22%2C%20%22dashArray%22%3A%20null%2C%20%22dashOffset%22%3A%20null%2C%20%22fill%22%3A%20true%2C%20%22fillColor%22%3A%20%22%233186cc%22%2C%20%22fillOpacity%22%3A%200.7%2C%20%22fillRule%22%3A%20%22evenodd%22%2C%20%22lineCap%22%3A%20%22round%22%2C%20%22lineJoin%22%3A%20%22round%22%2C%20%22opacity%22%3A%201.0%2C%20%22radius%22%3A%205%2C%20%22stroke%22%3A%20true%2C%20%22weight%22%3A%203%7D%0A%20%20%20%20%20%20%20%20%20%20%20%20%29.addTo%28map_da402c8c143c4c8d8a2810a77806f651%29%3B%0A%20%20%20%20%20%20%20%20%0A%20%20%20%20%0A%20%20%20%20%20%20%20%20var%20popup_3c89a472f14d41a7a814dc87bb3b5031%20%3D%20L.popup%28%7B%22maxWidth%22%3A%20%22100%25%22%7D%29%3B%0A%0A%20%20%20%20%20%20%20%20%0A%20%20%20%20%20%20%20%20%20%20%20%20var%20html_0bf1b6497d0648bc8298afdcb97cab94%20%3D%20%24%28%60%3Cdiv%20id%3D%22html_0bf1b6497d0648bc8298afdcb97cab94%22%20style%3D%22width%3A%20100.0%25%3B%20height%3A%20100.0%25%3B%22%3EHunters%20Point%2C%20Queens%3C/div%3E%60%29%5B0%5D%3B%0A%20%20%20%20%20%20%20%20%20%20%20%20popup_3c89a472f14d41a7a814dc87bb3b5031.setContent%28html_0bf1b6497d0648bc8298afdcb97cab94%29%3B%0A%20%20%20%20%20%20%20%20%0A%0A%20%20%20%20%20%20%20%20circle_marker_c42b303dae434896a91c7980b1cdd816.bindPopup%28popup_3c89a472f14d41a7a814dc87bb3b5031%29%0A%20%20%20%20%20%20%20%20%3B%0A%0A%20%20%20%20%20%20%20%20%0A%20%20%20%20%0A%20%20%20%20%0A%20%20%20%20%20%20%20%20%20%20%20%20var%20circle_marker_1bfe5fea96904448be117df314110037%20%3D%20L.circleMarker%28%0A%20%20%20%20%20%20%20%20%20%20%20%20%20%20%20%20%5B40.75204236950722%2C%20-73.96770824581834%5D%2C%0A%20%20%20%20%20%20%20%20%20%20%20%20%20%20%20%20%7B%22bubblingMouseEvents%22%3A%20true%2C%20%22color%22%3A%20%22blue%22%2C%20%22dashArray%22%3A%20null%2C%20%22dashOffset%22%3A%20null%2C%20%22fill%22%3A%20true%2C%20%22fillColor%22%3A%20%22%233186cc%22%2C%20%22fillOpacity%22%3A%200.7%2C%20%22fillRule%22%3A%20%22evenodd%22%2C%20%22lineCap%22%3A%20%22round%22%2C%20%22lineJoin%22%3A%20%22round%22%2C%20%22opacity%22%3A%201.0%2C%20%22radius%22%3A%205%2C%20%22stroke%22%3A%20true%2C%20%22weight%22%3A%203%7D%0A%20%20%20%20%20%20%20%20%20%20%20%20%29.addTo%28map_da402c8c143c4c8d8a2810a77806f651%29%3B%0A%20%20%20%20%20%20%20%20%0A%20%20%20%20%0A%20%20%20%20%20%20%20%20var%20popup_ae1a5331b93b4ed38fca4807e2cfaa51%20%3D%20L.popup%28%7B%22maxWidth%22%3A%20%22100%25%22%7D%29%3B%0A%0A%20%20%20%20%20%20%20%20%0A%20%20%20%20%20%20%20%20%20%20%20%20var%20html_886ebe940350483f90bea92a1069f20d%20%3D%20%24%28%60%3Cdiv%20id%3D%22html_886ebe940350483f90bea92a1069f20d%22%20style%3D%22width%3A%20100.0%25%3B%20height%3A%20100.0%25%3B%22%3ETurtle%20Bay%2C%20Manhattan%3C/div%3E%60%29%5B0%5D%3B%0A%20%20%20%20%20%20%20%20%20%20%20%20popup_ae1a5331b93b4ed38fca4807e2cfaa51.setContent%28html_886ebe940350483f90bea92a1069f20d%29%3B%0A%20%20%20%20%20%20%20%20%0A%0A%20%20%20%20%20%20%20%20circle_marker_1bfe5fea96904448be117df314110037.bindPopup%28popup_ae1a5331b93b4ed38fca4807e2cfaa51%29%0A%20%20%20%20%20%20%20%20%3B%0A%0A%20%20%20%20%20%20%20%20%0A%20%20%20%20%0A%20%20%20%20%0A%20%20%20%20%20%20%20%20%20%20%20%20var%20circle_marker_1b88988d75e24af29430cdcf76a46bff%20%3D%20L.circleMarker%28%0A%20%20%20%20%20%20%20%20%20%20%20%20%20%20%20%20%5B40.746917410740195%2C%20-73.97121928722265%5D%2C%0A%20%20%20%20%20%20%20%20%20%20%20%20%20%20%20%20%7B%22bubblingMouseEvents%22%3A%20true%2C%20%22color%22%3A%20%22blue%22%2C%20%22dashArray%22%3A%20null%2C%20%22dashOffset%22%3A%20null%2C%20%22fill%22%3A%20true%2C%20%22fillColor%22%3A%20%22%233186cc%22%2C%20%22fillOpacity%22%3A%200.7%2C%20%22fillRule%22%3A%20%22evenodd%22%2C%20%22lineCap%22%3A%20%22round%22%2C%20%22lineJoin%22%3A%20%22round%22%2C%20%22opacity%22%3A%201.0%2C%20%22radius%22%3A%205%2C%20%22stroke%22%3A%20true%2C%20%22weight%22%3A%203%7D%0A%20%20%20%20%20%20%20%20%20%20%20%20%29.addTo%28map_da402c8c143c4c8d8a2810a77806f651%29%3B%0A%20%20%20%20%20%20%20%20%0A%20%20%20%20%0A%20%20%20%20%20%20%20%20var%20popup_a11012828cc3465a90acd1ee792d924c%20%3D%20L.popup%28%7B%22maxWidth%22%3A%20%22100%25%22%7D%29%3B%0A%0A%20%20%20%20%20%20%20%20%0A%20%20%20%20%20%20%20%20%20%20%20%20var%20html_5a5b9dc839664fe584f262b627c67705%20%3D%20%24%28%60%3Cdiv%20id%3D%22html_5a5b9dc839664fe584f262b627c67705%22%20style%3D%22width%3A%20100.0%25%3B%20height%3A%20100.0%25%3B%22%3ETudor%20City%2C%20Manhattan%3C/div%3E%60%29%5B0%5D%3B%0A%20%20%20%20%20%20%20%20%20%20%20%20popup_a11012828cc3465a90acd1ee792d924c.setContent%28html_5a5b9dc839664fe584f262b627c67705%29%3B%0A%20%20%20%20%20%20%20%20%0A%0A%20%20%20%20%20%20%20%20circle_marker_1b88988d75e24af29430cdcf76a46bff.bindPopup%28popup_a11012828cc3465a90acd1ee792d924c%29%0A%20%20%20%20%20%20%20%20%3B%0A%0A%20%20%20%20%20%20%20%20%0A%20%20%20%20%0A%20%20%20%20%0A%20%20%20%20%20%20%20%20%20%20%20%20var%20circle_marker_b3e62c2976924370a63091824e4408d2%20%3D%20L.circleMarker%28%0A%20%20%20%20%20%20%20%20%20%20%20%20%20%20%20%20%5B40.73099955477061%2C%20-73.97405170469203%5D%2C%0A%20%20%20%20%20%20%20%20%20%20%20%20%20%20%20%20%7B%22bubblingMouseEvents%22%3A%20true%2C%20%22color%22%3A%20%22blue%22%2C%20%22dashArray%22%3A%20null%2C%20%22dashOffset%22%3A%20null%2C%20%22fill%22%3A%20true%2C%20%22fillColor%22%3A%20%22%233186cc%22%2C%20%22fillOpacity%22%3A%200.7%2C%20%22fillRule%22%3A%20%22evenodd%22%2C%20%22lineCap%22%3A%20%22round%22%2C%20%22lineJoin%22%3A%20%22round%22%2C%20%22opacity%22%3A%201.0%2C%20%22radius%22%3A%205%2C%20%22stroke%22%3A%20true%2C%20%22weight%22%3A%203%7D%0A%20%20%20%20%20%20%20%20%20%20%20%20%29.addTo%28map_da402c8c143c4c8d8a2810a77806f651%29%3B%0A%20%20%20%20%20%20%20%20%0A%20%20%20%20%0A%20%20%20%20%20%20%20%20var%20popup_7e24005d65834fbaaa8c8ededefae113%20%3D%20L.popup%28%7B%22maxWidth%22%3A%20%22100%25%22%7D%29%3B%0A%0A%20%20%20%20%20%20%20%20%0A%20%20%20%20%20%20%20%20%20%20%20%20var%20html_946d6365f8e545f89beed4d40ce5d56f%20%3D%20%24%28%60%3Cdiv%20id%3D%22html_946d6365f8e545f89beed4d40ce5d56f%22%20style%3D%22width%3A%20100.0%25%3B%20height%3A%20100.0%25%3B%22%3EStuyvesant%20Town%2C%20Manhattan%3C/div%3E%60%29%5B0%5D%3B%0A%20%20%20%20%20%20%20%20%20%20%20%20popup_7e24005d65834fbaaa8c8ededefae113.setContent%28html_946d6365f8e545f89beed4d40ce5d56f%29%3B%0A%20%20%20%20%20%20%20%20%0A%0A%20%20%20%20%20%20%20%20circle_marker_b3e62c2976924370a63091824e4408d2.bindPopup%28popup_7e24005d65834fbaaa8c8ededefae113%29%0A%20%20%20%20%20%20%20%20%3B%0A%0A%20%20%20%20%20%20%20%20%0A%20%20%20%20%0A%20%20%20%20%0A%20%20%20%20%20%20%20%20%20%20%20%20var%20circle_marker_3edea7eb4e894af7b800e779c33b4e7d%20%3D%20L.circleMarker%28%0A%20%20%20%20%20%20%20%20%20%20%20%20%20%20%20%20%5B40.739673047638426%2C%20-73.9909471052826%5D%2C%0A%20%20%20%20%20%20%20%20%20%20%20%20%20%20%20%20%7B%22bubblingMouseEvents%22%3A%20true%2C%20%22color%22%3A%20%22blue%22%2C%20%22dashArray%22%3A%20null%2C%20%22dashOffset%22%3A%20null%2C%20%22fill%22%3A%20true%2C%20%22fillColor%22%3A%20%22%233186cc%22%2C%20%22fillOpacity%22%3A%200.7%2C%20%22fillRule%22%3A%20%22evenodd%22%2C%20%22lineCap%22%3A%20%22round%22%2C%20%22lineJoin%22%3A%20%22round%22%2C%20%22opacity%22%3A%201.0%2C%20%22radius%22%3A%205%2C%20%22stroke%22%3A%20true%2C%20%22weight%22%3A%203%7D%0A%20%20%20%20%20%20%20%20%20%20%20%20%29.addTo%28map_da402c8c143c4c8d8a2810a77806f651%29%3B%0A%20%20%20%20%20%20%20%20%0A%20%20%20%20%0A%20%20%20%20%20%20%20%20var%20popup_455ebe53d0a14c75a7b957dc20d79d70%20%3D%20L.popup%28%7B%22maxWidth%22%3A%20%22100%25%22%7D%29%3B%0A%0A%20%20%20%20%20%20%20%20%0A%20%20%20%20%20%20%20%20%20%20%20%20var%20html_332062d931014542848efa7ce0cb2e8b%20%3D%20%24%28%60%3Cdiv%20id%3D%22html_332062d931014542848efa7ce0cb2e8b%22%20style%3D%22width%3A%20100.0%25%3B%20height%3A%20100.0%25%3B%22%3EFlatiron%2C%20Manhattan%3C/div%3E%60%29%5B0%5D%3B%0A%20%20%20%20%20%20%20%20%20%20%20%20popup_455ebe53d0a14c75a7b957dc20d79d70.setContent%28html_332062d931014542848efa7ce0cb2e8b%29%3B%0A%20%20%20%20%20%20%20%20%0A%0A%20%20%20%20%20%20%20%20circle_marker_3edea7eb4e894af7b800e779c33b4e7d.bindPopup%28popup_455ebe53d0a14c75a7b957dc20d79d70%29%0A%20%20%20%20%20%20%20%20%3B%0A%0A%20%20%20%20%20%20%20%20%0A%20%20%20%20%0A%20%20%20%20%0A%20%20%20%20%20%20%20%20%20%20%20%20var%20circle_marker_470fe41c998e4bca9a7b7dc0b6d0a3af%20%3D%20L.circleMarker%28%0A%20%20%20%20%20%20%20%20%20%20%20%20%20%20%20%20%5B40.74565180608076%2C%20-73.91819286431682%5D%2C%0A%20%20%20%20%20%20%20%20%20%20%20%20%20%20%20%20%7B%22bubblingMouseEvents%22%3A%20true%2C%20%22color%22%3A%20%22blue%22%2C%20%22dashArray%22%3A%20null%2C%20%22dashOffset%22%3A%20null%2C%20%22fill%22%3A%20true%2C%20%22fillColor%22%3A%20%22%233186cc%22%2C%20%22fillOpacity%22%3A%200.7%2C%20%22fillRule%22%3A%20%22evenodd%22%2C%20%22lineCap%22%3A%20%22round%22%2C%20%22lineJoin%22%3A%20%22round%22%2C%20%22opacity%22%3A%201.0%2C%20%22radius%22%3A%205%2C%20%22stroke%22%3A%20true%2C%20%22weight%22%3A%203%7D%0A%20%20%20%20%20%20%20%20%20%20%20%20%29.addTo%28map_da402c8c143c4c8d8a2810a77806f651%29%3B%0A%20%20%20%20%20%20%20%20%0A%20%20%20%20%0A%20%20%20%20%20%20%20%20var%20popup_524ed95bb41b417580f2264411274190%20%3D%20L.popup%28%7B%22maxWidth%22%3A%20%22100%25%22%7D%29%3B%0A%0A%20%20%20%20%20%20%20%20%0A%20%20%20%20%20%20%20%20%20%20%20%20var%20html_b33b9348b6ac481ba9b8a7e73265b3ca%20%3D%20%24%28%60%3Cdiv%20id%3D%22html_b33b9348b6ac481ba9b8a7e73265b3ca%22%20style%3D%22width%3A%20100.0%25%3B%20height%3A%20100.0%25%3B%22%3ESunnyside%20Gardens%2C%20Queens%3C/div%3E%60%29%5B0%5D%3B%0A%20%20%20%20%20%20%20%20%20%20%20%20popup_524ed95bb41b417580f2264411274190.setContent%28html_b33b9348b6ac481ba9b8a7e73265b3ca%29%3B%0A%20%20%20%20%20%20%20%20%0A%0A%20%20%20%20%20%20%20%20circle_marker_470fe41c998e4bca9a7b7dc0b6d0a3af.bindPopup%28popup_524ed95bb41b417580f2264411274190%29%0A%20%20%20%20%20%20%20%20%3B%0A%0A%20%20%20%20%20%20%20%20%0A%20%20%20%20%0A%20%20%20%20%0A%20%20%20%20%20%20%20%20%20%20%20%20var%20circle_marker_d1bbf5406e1d4ce7bd585e5b181ec26c%20%3D%20L.circleMarker%28%0A%20%20%20%20%20%20%20%20%20%20%20%20%20%20%20%20%5B40.73725071694497%2C%20-73.93244235260178%5D%2C%0A%20%20%20%20%20%20%20%20%20%20%20%20%20%20%20%20%7B%22bubblingMouseEvents%22%3A%20true%2C%20%22color%22%3A%20%22blue%22%2C%20%22dashArray%22%3A%20null%2C%20%22dashOffset%22%3A%20null%2C%20%22fill%22%3A%20true%2C%20%22fillColor%22%3A%20%22%233186cc%22%2C%20%22fillOpacity%22%3A%200.7%2C%20%22fillRule%22%3A%20%22evenodd%22%2C%20%22lineCap%22%3A%20%22round%22%2C%20%22lineJoin%22%3A%20%22round%22%2C%20%22opacity%22%3A%201.0%2C%20%22radius%22%3A%205%2C%20%22stroke%22%3A%20true%2C%20%22weight%22%3A%203%7D%0A%20%20%20%20%20%20%20%20%20%20%20%20%29.addTo%28map_da402c8c143c4c8d8a2810a77806f651%29%3B%0A%20%20%20%20%20%20%20%20%0A%20%20%20%20%0A%20%20%20%20%20%20%20%20var%20popup_7b1d6091613c45db966d486bfb9feefb%20%3D%20L.popup%28%7B%22maxWidth%22%3A%20%22100%25%22%7D%29%3B%0A%0A%20%20%20%20%20%20%20%20%0A%20%20%20%20%20%20%20%20%20%20%20%20var%20html_89c6c82236184ae3a89e513af55fbaf2%20%3D%20%24%28%60%3Cdiv%20id%3D%22html_89c6c82236184ae3a89e513af55fbaf2%22%20style%3D%22width%3A%20100.0%25%3B%20height%3A%20100.0%25%3B%22%3EBlissville%2C%20Queens%3C/div%3E%60%29%5B0%5D%3B%0A%20%20%20%20%20%20%20%20%20%20%20%20popup_7b1d6091613c45db966d486bfb9feefb.setContent%28html_89c6c82236184ae3a89e513af55fbaf2%29%3B%0A%20%20%20%20%20%20%20%20%0A%0A%20%20%20%20%20%20%20%20circle_marker_d1bbf5406e1d4ce7bd585e5b181ec26c.bindPopup%28popup_7b1d6091613c45db966d486bfb9feefb%29%0A%20%20%20%20%20%20%20%20%3B%0A%0A%20%20%20%20%20%20%20%20%0A%20%20%20%20%0A%20%20%20%20%0A%20%20%20%20%20%20%20%20%20%20%20%20var%20circle_marker_d528c36730c94194802f0e136cc87bd4%20%3D%20L.circleMarker%28%0A%20%20%20%20%20%20%20%20%20%20%20%20%20%20%20%20%5B40.70328109093014%2C%20-73.99550751888415%5D%2C%0A%20%20%20%20%20%20%20%20%20%20%20%20%20%20%20%20%7B%22bubblingMouseEvents%22%3A%20true%2C%20%22color%22%3A%20%22blue%22%2C%20%22dashArray%22%3A%20null%2C%20%22dashOffset%22%3A%20null%2C%20%22fill%22%3A%20true%2C%20%22fillColor%22%3A%20%22%233186cc%22%2C%20%22fillOpacity%22%3A%200.7%2C%20%22fillRule%22%3A%20%22evenodd%22%2C%20%22lineCap%22%3A%20%22round%22%2C%20%22lineJoin%22%3A%20%22round%22%2C%20%22opacity%22%3A%201.0%2C%20%22radius%22%3A%205%2C%20%22stroke%22%3A%20true%2C%20%22weight%22%3A%203%7D%0A%20%20%20%20%20%20%20%20%20%20%20%20%29.addTo%28map_da402c8c143c4c8d8a2810a77806f651%29%3B%0A%20%20%20%20%20%20%20%20%0A%20%20%20%20%0A%20%20%20%20%20%20%20%20var%20popup_b8dad152f2304c7ab2b84e9398864572%20%3D%20L.popup%28%7B%22maxWidth%22%3A%20%22100%25%22%7D%29%3B%0A%0A%20%20%20%20%20%20%20%20%0A%20%20%20%20%20%20%20%20%20%20%20%20var%20html_13a38081959c4263b8ab145d1cb32832%20%3D%20%24%28%60%3Cdiv%20id%3D%22html_13a38081959c4263b8ab145d1cb32832%22%20style%3D%22width%3A%20100.0%25%3B%20height%3A%20100.0%25%3B%22%3EFulton%20Ferry%2C%20Brooklyn%3C/div%3E%60%29%5B0%5D%3B%0A%20%20%20%20%20%20%20%20%20%20%20%20popup_b8dad152f2304c7ab2b84e9398864572.setContent%28html_13a38081959c4263b8ab145d1cb32832%29%3B%0A%20%20%20%20%20%20%20%20%0A%0A%20%20%20%20%20%20%20%20circle_marker_d528c36730c94194802f0e136cc87bd4.bindPopup%28popup_b8dad152f2304c7ab2b84e9398864572%29%0A%20%20%20%20%20%20%20%20%3B%0A%0A%20%20%20%20%20%20%20%20%0A%20%20%20%20%0A%20%20%20%20%0A%20%20%20%20%20%20%20%20%20%20%20%20var%20circle_marker_cc3990323bba4c89a9537e5d8386bfc5%20%3D%20L.circleMarker%28%0A%20%20%20%20%20%20%20%20%20%20%20%20%20%20%20%20%5B40.70332149882874%2C%20-73.98111603592393%5D%2C%0A%20%20%20%20%20%20%20%20%20%20%20%20%20%20%20%20%7B%22bubblingMouseEvents%22%3A%20true%2C%20%22color%22%3A%20%22blue%22%2C%20%22dashArray%22%3A%20null%2C%20%22dashOffset%22%3A%20null%2C%20%22fill%22%3A%20true%2C%20%22fillColor%22%3A%20%22%233186cc%22%2C%20%22fillOpacity%22%3A%200.7%2C%20%22fillRule%22%3A%20%22evenodd%22%2C%20%22lineCap%22%3A%20%22round%22%2C%20%22lineJoin%22%3A%20%22round%22%2C%20%22opacity%22%3A%201.0%2C%20%22radius%22%3A%205%2C%20%22stroke%22%3A%20true%2C%20%22weight%22%3A%203%7D%0A%20%20%20%20%20%20%20%20%20%20%20%20%29.addTo%28map_da402c8c143c4c8d8a2810a77806f651%29%3B%0A%20%20%20%20%20%20%20%20%0A%20%20%20%20%0A%20%20%20%20%20%20%20%20var%20popup_4b39fe78f7624da6bf8f3dcac0ab334b%20%3D%20L.popup%28%7B%22maxWidth%22%3A%20%22100%25%22%7D%29%3B%0A%0A%20%20%20%20%20%20%20%20%0A%20%20%20%20%20%20%20%20%20%20%20%20var%20html_3b98826f4d7f4f0baa34d1659a99835d%20%3D%20%24%28%60%3Cdiv%20id%3D%22html_3b98826f4d7f4f0baa34d1659a99835d%22%20style%3D%22width%3A%20100.0%25%3B%20height%3A%20100.0%25%3B%22%3EVinegar%20Hill%2C%20Brooklyn%3C/div%3E%60%29%5B0%5D%3B%0A%20%20%20%20%20%20%20%20%20%20%20%20popup_4b39fe78f7624da6bf8f3dcac0ab334b.setContent%28html_3b98826f4d7f4f0baa34d1659a99835d%29%3B%0A%20%20%20%20%20%20%20%20%0A%0A%20%20%20%20%20%20%20%20circle_marker_cc3990323bba4c89a9537e5d8386bfc5.bindPopup%28popup_4b39fe78f7624da6bf8f3dcac0ab334b%29%0A%20%20%20%20%20%20%20%20%3B%0A%0A%20%20%20%20%20%20%20%20%0A%20%20%20%20%0A%20%20%20%20%0A%20%20%20%20%20%20%20%20%20%20%20%20var%20circle_marker_67350fa9e9a34b679d401ac4f1329714%20%3D%20L.circleMarker%28%0A%20%20%20%20%20%20%20%20%20%20%20%20%20%20%20%20%5B40.67503986503237%2C%20-73.93053108817338%5D%2C%0A%20%20%20%20%20%20%20%20%20%20%20%20%20%20%20%20%7B%22bubblingMouseEvents%22%3A%20true%2C%20%22color%22%3A%20%22blue%22%2C%20%22dashArray%22%3A%20null%2C%20%22dashOffset%22%3A%20null%2C%20%22fill%22%3A%20true%2C%20%22fillColor%22%3A%20%22%233186cc%22%2C%20%22fillOpacity%22%3A%200.7%2C%20%22fillRule%22%3A%20%22evenodd%22%2C%20%22lineCap%22%3A%20%22round%22%2C%20%22lineJoin%22%3A%20%22round%22%2C%20%22opacity%22%3A%201.0%2C%20%22radius%22%3A%205%2C%20%22stroke%22%3A%20true%2C%20%22weight%22%3A%203%7D%0A%20%20%20%20%20%20%20%20%20%20%20%20%29.addTo%28map_da402c8c143c4c8d8a2810a77806f651%29%3B%0A%20%20%20%20%20%20%20%20%0A%20%20%20%20%0A%20%20%20%20%20%20%20%20var%20popup_03a9735cff1749e2a935b4f526b7a179%20%3D%20L.popup%28%7B%22maxWidth%22%3A%20%22100%25%22%7D%29%3B%0A%0A%20%20%20%20%20%20%20%20%0A%20%20%20%20%20%20%20%20%20%20%20%20var%20html_e85293e6da394d23b1dfa57408b6c216%20%3D%20%24%28%60%3Cdiv%20id%3D%22html_e85293e6da394d23b1dfa57408b6c216%22%20style%3D%22width%3A%20100.0%25%3B%20height%3A%20100.0%25%3B%22%3EWeeksville%2C%20Brooklyn%3C/div%3E%60%29%5B0%5D%3B%0A%20%20%20%20%20%20%20%20%20%20%20%20popup_03a9735cff1749e2a935b4f526b7a179.setContent%28html_e85293e6da394d23b1dfa57408b6c216%29%3B%0A%20%20%20%20%20%20%20%20%0A%0A%20%20%20%20%20%20%20%20circle_marker_67350fa9e9a34b679d401ac4f1329714.bindPopup%28popup_03a9735cff1749e2a935b4f526b7a179%29%0A%20%20%20%20%20%20%20%20%3B%0A%0A%20%20%20%20%20%20%20%20%0A%20%20%20%20%0A%20%20%20%20%0A%20%20%20%20%20%20%20%20%20%20%20%20var%20circle_marker_332a26afaaee4248b0b5f10098906a7e%20%3D%20L.circleMarker%28%0A%20%20%20%20%20%20%20%20%20%20%20%20%20%20%20%20%5B40.67786104769531%2C%20-73.90331684852599%5D%2C%0A%20%20%20%20%20%20%20%20%20%20%20%20%20%20%20%20%7B%22bubblingMouseEvents%22%3A%20true%2C%20%22color%22%3A%20%22blue%22%2C%20%22dashArray%22%3A%20null%2C%20%22dashOffset%22%3A%20null%2C%20%22fill%22%3A%20true%2C%20%22fillColor%22%3A%20%22%233186cc%22%2C%20%22fillOpacity%22%3A%200.7%2C%20%22fillRule%22%3A%20%22evenodd%22%2C%20%22lineCap%22%3A%20%22round%22%2C%20%22lineJoin%22%3A%20%22round%22%2C%20%22opacity%22%3A%201.0%2C%20%22radius%22%3A%205%2C%20%22stroke%22%3A%20true%2C%20%22weight%22%3A%203%7D%0A%20%20%20%20%20%20%20%20%20%20%20%20%29.addTo%28map_da402c8c143c4c8d8a2810a77806f651%29%3B%0A%20%20%20%20%20%20%20%20%0A%20%20%20%20%0A%20%20%20%20%20%20%20%20var%20popup_54725d639b674322a85933e6475ccaa1%20%3D%20L.popup%28%7B%22maxWidth%22%3A%20%22100%25%22%7D%29%3B%0A%0A%20%20%20%20%20%20%20%20%0A%20%20%20%20%20%20%20%20%20%20%20%20var%20html_54f95ce40d954e94b24da179a409bd3b%20%3D%20%24%28%60%3Cdiv%20id%3D%22html_54f95ce40d954e94b24da179a409bd3b%22%20style%3D%22width%3A%20100.0%25%3B%20height%3A%20100.0%25%3B%22%3EBroadway%20Junction%2C%20Brooklyn%3C/div%3E%60%29%5B0%5D%3B%0A%20%20%20%20%20%20%20%20%20%20%20%20popup_54725d639b674322a85933e6475ccaa1.setContent%28html_54f95ce40d954e94b24da179a409bd3b%29%3B%0A%20%20%20%20%20%20%20%20%0A%0A%20%20%20%20%20%20%20%20circle_marker_332a26afaaee4248b0b5f10098906a7e.bindPopup%28popup_54725d639b674322a85933e6475ccaa1%29%0A%20%20%20%20%20%20%20%20%3B%0A%0A%20%20%20%20%20%20%20%20%0A%20%20%20%20%0A%20%20%20%20%0A%20%20%20%20%20%20%20%20%20%20%20%20var%20circle_marker_91fdf0ad2bb94bed8177b1908d7d99c2%20%3D%20L.circleMarker%28%0A%20%20%20%20%20%20%20%20%20%20%20%20%20%20%20%20%5B40.70317632822692%2C%20-73.9887528074504%5D%2C%0A%20%20%20%20%20%20%20%20%20%20%20%20%20%20%20%20%7B%22bubblingMouseEvents%22%3A%20true%2C%20%22color%22%3A%20%22blue%22%2C%20%22dashArray%22%3A%20null%2C%20%22dashOffset%22%3A%20null%2C%20%22fill%22%3A%20true%2C%20%22fillColor%22%3A%20%22%233186cc%22%2C%20%22fillOpacity%22%3A%200.7%2C%20%22fillRule%22%3A%20%22evenodd%22%2C%20%22lineCap%22%3A%20%22round%22%2C%20%22lineJoin%22%3A%20%22round%22%2C%20%22opacity%22%3A%201.0%2C%20%22radius%22%3A%205%2C%20%22stroke%22%3A%20true%2C%20%22weight%22%3A%203%7D%0A%20%20%20%20%20%20%20%20%20%20%20%20%29.addTo%28map_da402c8c143c4c8d8a2810a77806f651%29%3B%0A%20%20%20%20%20%20%20%20%0A%20%20%20%20%0A%20%20%20%20%20%20%20%20var%20popup_ea5f503124a54421820ac5060d44e65d%20%3D%20L.popup%28%7B%22maxWidth%22%3A%20%22100%25%22%7D%29%3B%0A%0A%20%20%20%20%20%20%20%20%0A%20%20%20%20%20%20%20%20%20%20%20%20var%20html_585619a49fac4010974519d6f0c4ecbd%20%3D%20%24%28%60%3Cdiv%20id%3D%22html_585619a49fac4010974519d6f0c4ecbd%22%20style%3D%22width%3A%20100.0%25%3B%20height%3A%20100.0%25%3B%22%3EDumbo%2C%20Brooklyn%3C/div%3E%60%29%5B0%5D%3B%0A%20%20%20%20%20%20%20%20%20%20%20%20popup_ea5f503124a54421820ac5060d44e65d.setContent%28html_585619a49fac4010974519d6f0c4ecbd%29%3B%0A%20%20%20%20%20%20%20%20%0A%0A%20%20%20%20%20%20%20%20circle_marker_91fdf0ad2bb94bed8177b1908d7d99c2.bindPopup%28popup_ea5f503124a54421820ac5060d44e65d%29%0A%20%20%20%20%20%20%20%20%3B%0A%0A%20%20%20%20%20%20%20%20%0A%20%20%20%20%0A%20%20%20%20%0A%20%20%20%20%20%20%20%20%20%20%20%20var%20circle_marker_35a54324ef8e4e9498b8f5db62538c15%20%3D%20L.circleMarker%28%0A%20%20%20%20%20%20%20%20%20%20%20%20%20%20%20%20%5B40.60180957631444%2C%20-74.12059399718001%5D%2C%0A%20%20%20%20%20%20%20%20%20%20%20%20%20%20%20%20%7B%22bubblingMouseEvents%22%3A%20true%2C%20%22color%22%3A%20%22blue%22%2C%20%22dashArray%22%3A%20null%2C%20%22dashOffset%22%3A%20null%2C%20%22fill%22%3A%20true%2C%20%22fillColor%22%3A%20%22%233186cc%22%2C%20%22fillOpacity%22%3A%200.7%2C%20%22fillRule%22%3A%20%22evenodd%22%2C%20%22lineCap%22%3A%20%22round%22%2C%20%22lineJoin%22%3A%20%22round%22%2C%20%22opacity%22%3A%201.0%2C%20%22radius%22%3A%205%2C%20%22stroke%22%3A%20true%2C%20%22weight%22%3A%203%7D%0A%20%20%20%20%20%20%20%20%20%20%20%20%29.addTo%28map_da402c8c143c4c8d8a2810a77806f651%29%3B%0A%20%20%20%20%20%20%20%20%0A%20%20%20%20%0A%20%20%20%20%20%20%20%20var%20popup_a5768e61d94241d8899de5b821fccf78%20%3D%20L.popup%28%7B%22maxWidth%22%3A%20%22100%25%22%7D%29%3B%0A%0A%20%20%20%20%20%20%20%20%0A%20%20%20%20%20%20%20%20%20%20%20%20var%20html_1b472986bd504c4bb07a0a9b207d2140%20%3D%20%24%28%60%3Cdiv%20id%3D%22html_1b472986bd504c4bb07a0a9b207d2140%22%20style%3D%22width%3A%20100.0%25%3B%20height%3A%20100.0%25%3B%22%3EManor%20Heights%2C%20Staten%20Island%3C/div%3E%60%29%5B0%5D%3B%0A%20%20%20%20%20%20%20%20%20%20%20%20popup_a5768e61d94241d8899de5b821fccf78.setContent%28html_1b472986bd504c4bb07a0a9b207d2140%29%3B%0A%20%20%20%20%20%20%20%20%0A%0A%20%20%20%20%20%20%20%20circle_marker_35a54324ef8e4e9498b8f5db62538c15.bindPopup%28popup_a5768e61d94241d8899de5b821fccf78%29%0A%20%20%20%20%20%20%20%20%3B%0A%0A%20%20%20%20%20%20%20%20%0A%20%20%20%20%0A%20%20%20%20%0A%20%20%20%20%20%20%20%20%20%20%20%20var%20circle_marker_59631995f80d447f89d0e89387fb6b91%20%3D%20L.circleMarker%28%0A%20%20%20%20%20%20%20%20%20%20%20%20%20%20%20%20%5B40.60370692627371%2C%20-74.13208447484298%5D%2C%0A%20%20%20%20%20%20%20%20%20%20%20%20%20%20%20%20%7B%22bubblingMouseEvents%22%3A%20true%2C%20%22color%22%3A%20%22blue%22%2C%20%22dashArray%22%3A%20null%2C%20%22dashOffset%22%3A%20null%2C%20%22fill%22%3A%20true%2C%20%22fillColor%22%3A%20%22%233186cc%22%2C%20%22fillOpacity%22%3A%200.7%2C%20%22fillRule%22%3A%20%22evenodd%22%2C%20%22lineCap%22%3A%20%22round%22%2C%20%22lineJoin%22%3A%20%22round%22%2C%20%22opacity%22%3A%201.0%2C%20%22radius%22%3A%205%2C%20%22stroke%22%3A%20true%2C%20%22weight%22%3A%203%7D%0A%20%20%20%20%20%20%20%20%20%20%20%20%29.addTo%28map_da402c8c143c4c8d8a2810a77806f651%29%3B%0A%20%20%20%20%20%20%20%20%0A%20%20%20%20%0A%20%20%20%20%20%20%20%20var%20popup_fcbe9c63c9e149939fb9e08919cd6747%20%3D%20L.popup%28%7B%22maxWidth%22%3A%20%22100%25%22%7D%29%3B%0A%0A%20%20%20%20%20%20%20%20%0A%20%20%20%20%20%20%20%20%20%20%20%20var%20html_1fe2afcd27e3492c8ccc81c8b94ebdaf%20%3D%20%24%28%60%3Cdiv%20id%3D%22html_1fe2afcd27e3492c8ccc81c8b94ebdaf%22%20style%3D%22width%3A%20100.0%25%3B%20height%3A%20100.0%25%3B%22%3EWillowbrook%2C%20Staten%20Island%3C/div%3E%60%29%5B0%5D%3B%0A%20%20%20%20%20%20%20%20%20%20%20%20popup_fcbe9c63c9e149939fb9e08919cd6747.setContent%28html_1fe2afcd27e3492c8ccc81c8b94ebdaf%29%3B%0A%20%20%20%20%20%20%20%20%0A%0A%20%20%20%20%20%20%20%20circle_marker_59631995f80d447f89d0e89387fb6b91.bindPopup%28popup_fcbe9c63c9e149939fb9e08919cd6747%29%0A%20%20%20%20%20%20%20%20%3B%0A%0A%20%20%20%20%20%20%20%20%0A%20%20%20%20%0A%20%20%20%20%0A%20%20%20%20%20%20%20%20%20%20%20%20var%20circle_marker_8b87fe1e3a2b48bd824a8a6860092f47%20%3D%20L.circleMarker%28%0A%20%20%20%20%20%20%20%20%20%20%20%20%20%20%20%20%5B40.541139922091766%2C%20-74.21776636068567%5D%2C%0A%20%20%20%20%20%20%20%20%20%20%20%20%20%20%20%20%7B%22bubblingMouseEvents%22%3A%20true%2C%20%22color%22%3A%20%22blue%22%2C%20%22dashArray%22%3A%20null%2C%20%22dashOffset%22%3A%20null%2C%20%22fill%22%3A%20true%2C%20%22fillColor%22%3A%20%22%233186cc%22%2C%20%22fillOpacity%22%3A%200.7%2C%20%22fillRule%22%3A%20%22evenodd%22%2C%20%22lineCap%22%3A%20%22round%22%2C%20%22lineJoin%22%3A%20%22round%22%2C%20%22opacity%22%3A%201.0%2C%20%22radius%22%3A%205%2C%20%22stroke%22%3A%20true%2C%20%22weight%22%3A%203%7D%0A%20%20%20%20%20%20%20%20%20%20%20%20%29.addTo%28map_da402c8c143c4c8d8a2810a77806f651%29%3B%0A%20%20%20%20%20%20%20%20%0A%20%20%20%20%0A%20%20%20%20%20%20%20%20var%20popup_43d9b1135807439a80801d02d504d804%20%3D%20L.popup%28%7B%22maxWidth%22%3A%20%22100%25%22%7D%29%3B%0A%0A%20%20%20%20%20%20%20%20%0A%20%20%20%20%20%20%20%20%20%20%20%20var%20html_7954097c41bb4bee905c1f734db499a9%20%3D%20%24%28%60%3Cdiv%20id%3D%22html_7954097c41bb4bee905c1f734db499a9%22%20style%3D%22width%3A%20100.0%25%3B%20height%3A%20100.0%25%3B%22%3ESandy%20Ground%2C%20Staten%20Island%3C/div%3E%60%29%5B0%5D%3B%0A%20%20%20%20%20%20%20%20%20%20%20%20popup_43d9b1135807439a80801d02d504d804.setContent%28html_7954097c41bb4bee905c1f734db499a9%29%3B%0A%20%20%20%20%20%20%20%20%0A%0A%20%20%20%20%20%20%20%20circle_marker_8b87fe1e3a2b48bd824a8a6860092f47.bindPopup%28popup_43d9b1135807439a80801d02d504d804%29%0A%20%20%20%20%20%20%20%20%3B%0A%0A%20%20%20%20%20%20%20%20%0A%20%20%20%20%0A%20%20%20%20%0A%20%20%20%20%20%20%20%20%20%20%20%20var%20circle_marker_d35aa1b7f3b84d4f9f4d8af60ca30485%20%3D%20L.circleMarker%28%0A%20%20%20%20%20%20%20%20%20%20%20%20%20%20%20%20%5B40.579118742961214%2C%20-74.12727240604946%5D%2C%0A%20%20%20%20%20%20%20%20%20%20%20%20%20%20%20%20%7B%22bubblingMouseEvents%22%3A%20true%2C%20%22color%22%3A%20%22blue%22%2C%20%22dashArray%22%3A%20null%2C%20%22dashOffset%22%3A%20null%2C%20%22fill%22%3A%20true%2C%20%22fillColor%22%3A%20%22%233186cc%22%2C%20%22fillOpacity%22%3A%200.7%2C%20%22fillRule%22%3A%20%22evenodd%22%2C%20%22lineCap%22%3A%20%22round%22%2C%20%22lineJoin%22%3A%20%22round%22%2C%20%22opacity%22%3A%201.0%2C%20%22radius%22%3A%205%2C%20%22stroke%22%3A%20true%2C%20%22weight%22%3A%203%7D%0A%20%20%20%20%20%20%20%20%20%20%20%20%29.addTo%28map_da402c8c143c4c8d8a2810a77806f651%29%3B%0A%20%20%20%20%20%20%20%20%0A%20%20%20%20%0A%20%20%20%20%20%20%20%20var%20popup_a2d6f662cf884bc6804711332c5da8ff%20%3D%20L.popup%28%7B%22maxWidth%22%3A%20%22100%25%22%7D%29%3B%0A%0A%20%20%20%20%20%20%20%20%0A%20%20%20%20%20%20%20%20%20%20%20%20var%20html_6474aa454d934293a7161b7466f8d7b9%20%3D%20%24%28%60%3Cdiv%20id%3D%22html_6474aa454d934293a7161b7466f8d7b9%22%20style%3D%22width%3A%20100.0%25%3B%20height%3A%20100.0%25%3B%22%3EEgbertville%2C%20Staten%20Island%3C/div%3E%60%29%5B0%5D%3B%0A%20%20%20%20%20%20%20%20%20%20%20%20popup_a2d6f662cf884bc6804711332c5da8ff.setContent%28html_6474aa454d934293a7161b7466f8d7b9%29%3B%0A%20%20%20%20%20%20%20%20%0A%0A%20%20%20%20%20%20%20%20circle_marker_d35aa1b7f3b84d4f9f4d8af60ca30485.bindPopup%28popup_a2d6f662cf884bc6804711332c5da8ff%29%0A%20%20%20%20%20%20%20%20%3B%0A%0A%20%20%20%20%20%20%20%20%0A%20%20%20%20%0A%20%20%20%20%0A%20%20%20%20%20%20%20%20%20%20%20%20var%20circle_marker_6827da632131497187c33e15d13f7404%20%3D%20L.circleMarker%28%0A%20%20%20%20%20%20%20%20%20%20%20%20%20%20%20%20%5B40.56737588957032%2C%20-73.89213760232822%5D%2C%0A%20%20%20%20%20%20%20%20%20%20%20%20%20%20%20%20%7B%22bubblingMouseEvents%22%3A%20true%2C%20%22color%22%3A%20%22blue%22%2C%20%22dashArray%22%3A%20null%2C%20%22dashOffset%22%3A%20null%2C%20%22fill%22%3A%20true%2C%20%22fillColor%22%3A%20%22%233186cc%22%2C%20%22fillOpacity%22%3A%200.7%2C%20%22fillRule%22%3A%20%22evenodd%22%2C%20%22lineCap%22%3A%20%22round%22%2C%20%22lineJoin%22%3A%20%22round%22%2C%20%22opacity%22%3A%201.0%2C%20%22radius%22%3A%205%2C%20%22stroke%22%3A%20true%2C%20%22weight%22%3A%203%7D%0A%20%20%20%20%20%20%20%20%20%20%20%20%29.addTo%28map_da402c8c143c4c8d8a2810a77806f651%29%3B%0A%20%20%20%20%20%20%20%20%0A%20%20%20%20%0A%20%20%20%20%20%20%20%20var%20popup_581b163caa614f6a924f37b124e6428b%20%3D%20L.popup%28%7B%22maxWidth%22%3A%20%22100%25%22%7D%29%3B%0A%0A%20%20%20%20%20%20%20%20%0A%20%20%20%20%20%20%20%20%20%20%20%20var%20html_80f36db8f13e43caaef12aab16ea2e70%20%3D%20%24%28%60%3Cdiv%20id%3D%22html_80f36db8f13e43caaef12aab16ea2e70%22%20style%3D%22width%3A%20100.0%25%3B%20height%3A%20100.0%25%3B%22%3ERoxbury%2C%20Queens%3C/div%3E%60%29%5B0%5D%3B%0A%20%20%20%20%20%20%20%20%20%20%20%20popup_581b163caa614f6a924f37b124e6428b.setContent%28html_80f36db8f13e43caaef12aab16ea2e70%29%3B%0A%20%20%20%20%20%20%20%20%0A%0A%20%20%20%20%20%20%20%20circle_marker_6827da632131497187c33e15d13f7404.bindPopup%28popup_581b163caa614f6a924f37b124e6428b%29%0A%20%20%20%20%20%20%20%20%3B%0A%0A%20%20%20%20%20%20%20%20%0A%20%20%20%20%0A%20%20%20%20%0A%20%20%20%20%20%20%20%20%20%20%20%20var%20circle_marker_9deeb3a99c1c47c2a035d332c27229a6%20%3D%20L.circleMarker%28%0A%20%20%20%20%20%20%20%20%20%20%20%20%20%20%20%20%5B40.598525095137255%2C%20-73.95918459428702%5D%2C%0A%20%20%20%20%20%20%20%20%20%20%20%20%20%20%20%20%7B%22bubblingMouseEvents%22%3A%20true%2C%20%22color%22%3A%20%22blue%22%2C%20%22dashArray%22%3A%20null%2C%20%22dashOffset%22%3A%20null%2C%20%22fill%22%3A%20true%2C%20%22fillColor%22%3A%20%22%233186cc%22%2C%20%22fillOpacity%22%3A%200.7%2C%20%22fillRule%22%3A%20%22evenodd%22%2C%20%22lineCap%22%3A%20%22round%22%2C%20%22lineJoin%22%3A%20%22round%22%2C%20%22opacity%22%3A%201.0%2C%20%22radius%22%3A%205%2C%20%22stroke%22%3A%20true%2C%20%22weight%22%3A%203%7D%0A%20%20%20%20%20%20%20%20%20%20%20%20%29.addTo%28map_da402c8c143c4c8d8a2810a77806f651%29%3B%0A%20%20%20%20%20%20%20%20%0A%20%20%20%20%0A%20%20%20%20%20%20%20%20var%20popup_4bb120d9f06541a5acb2269a788373c2%20%3D%20L.popup%28%7B%22maxWidth%22%3A%20%22100%25%22%7D%29%3B%0A%0A%20%20%20%20%20%20%20%20%0A%20%20%20%20%20%20%20%20%20%20%20%20var%20html_357dca5b693a4814b7e002bbdcfd8aae%20%3D%20%24%28%60%3Cdiv%20id%3D%22html_357dca5b693a4814b7e002bbdcfd8aae%22%20style%3D%22width%3A%20100.0%25%3B%20height%3A%20100.0%25%3B%22%3EHomecrest%2C%20Brooklyn%3C/div%3E%60%29%5B0%5D%3B%0A%20%20%20%20%20%20%20%20%20%20%20%20popup_4bb120d9f06541a5acb2269a788373c2.setContent%28html_357dca5b693a4814b7e002bbdcfd8aae%29%3B%0A%20%20%20%20%20%20%20%20%0A%0A%20%20%20%20%20%20%20%20circle_marker_9deeb3a99c1c47c2a035d332c27229a6.bindPopup%28popup_4bb120d9f06541a5acb2269a788373c2%29%0A%20%20%20%20%20%20%20%20%3B%0A%0A%20%20%20%20%20%20%20%20%0A%20%20%20%20%0A%20%20%20%20%0A%20%20%20%20%20%20%20%20%20%20%20%20var%20circle_marker_ee29c06d125c4a91b7885343edd5c11c%20%3D%20L.circleMarker%28%0A%20%20%20%20%20%20%20%20%20%20%20%20%20%20%20%20%5B40.716414511158185%2C%20-73.88114319200604%5D%2C%0A%20%20%20%20%20%20%20%20%20%20%20%20%20%20%20%20%7B%22bubblingMouseEvents%22%3A%20true%2C%20%22color%22%3A%20%22blue%22%2C%20%22dashArray%22%3A%20null%2C%20%22dashOffset%22%3A%20null%2C%20%22fill%22%3A%20true%2C%20%22fillColor%22%3A%20%22%233186cc%22%2C%20%22fillOpacity%22%3A%200.7%2C%20%22fillRule%22%3A%20%22evenodd%22%2C%20%22lineCap%22%3A%20%22round%22%2C%20%22lineJoin%22%3A%20%22round%22%2C%20%22opacity%22%3A%201.0%2C%20%22radius%22%3A%205%2C%20%22stroke%22%3A%20true%2C%20%22weight%22%3A%203%7D%0A%20%20%20%20%20%20%20%20%20%20%20%20%29.addTo%28map_da402c8c143c4c8d8a2810a77806f651%29%3B%0A%20%20%20%20%20%20%20%20%0A%20%20%20%20%0A%20%20%20%20%20%20%20%20var%20popup_b0cc24cabf7a47c99a966dea795aea48%20%3D%20L.popup%28%7B%22maxWidth%22%3A%20%22100%25%22%7D%29%3B%0A%0A%20%20%20%20%20%20%20%20%0A%20%20%20%20%20%20%20%20%20%20%20%20var%20html_2595bbd4bdd54bbbb09dd82486e80d35%20%3D%20%24%28%60%3Cdiv%20id%3D%22html_2595bbd4bdd54bbbb09dd82486e80d35%22%20style%3D%22width%3A%20100.0%25%3B%20height%3A%20100.0%25%3B%22%3EMiddle%20Village%2C%20Queens%3C/div%3E%60%29%5B0%5D%3B%0A%20%20%20%20%20%20%20%20%20%20%20%20popup_b0cc24cabf7a47c99a966dea795aea48.setContent%28html_2595bbd4bdd54bbbb09dd82486e80d35%29%3B%0A%20%20%20%20%20%20%20%20%0A%0A%20%20%20%20%20%20%20%20circle_marker_ee29c06d125c4a91b7885343edd5c11c.bindPopup%28popup_b0cc24cabf7a47c99a966dea795aea48%29%0A%20%20%20%20%20%20%20%20%3B%0A%0A%20%20%20%20%20%20%20%20%0A%20%20%20%20%0A%20%20%20%20%0A%20%20%20%20%20%20%20%20%20%20%20%20var%20circle_marker_3a040afaddf14ca5a5085eb9429d82b5%20%3D%20L.circleMarker%28%0A%20%20%20%20%20%20%20%20%20%20%20%20%20%20%20%20%5B40.52626406734812%2C%20-74.20152556457658%5D%2C%0A%20%20%20%20%20%20%20%20%20%20%20%20%20%20%20%20%7B%22bubblingMouseEvents%22%3A%20true%2C%20%22color%22%3A%20%22blue%22%2C%20%22dashArray%22%3A%20null%2C%20%22dashOffset%22%3A%20null%2C%20%22fill%22%3A%20true%2C%20%22fillColor%22%3A%20%22%233186cc%22%2C%20%22fillOpacity%22%3A%200.7%2C%20%22fillRule%22%3A%20%22evenodd%22%2C%20%22lineCap%22%3A%20%22round%22%2C%20%22lineJoin%22%3A%20%22round%22%2C%20%22opacity%22%3A%201.0%2C%20%22radius%22%3A%205%2C%20%22stroke%22%3A%20true%2C%20%22weight%22%3A%203%7D%0A%20%20%20%20%20%20%20%20%20%20%20%20%29.addTo%28map_da402c8c143c4c8d8a2810a77806f651%29%3B%0A%20%20%20%20%20%20%20%20%0A%20%20%20%20%0A%20%20%20%20%20%20%20%20var%20popup_0e9e18fe834e4d1bb853adf183afe153%20%3D%20L.popup%28%7B%22maxWidth%22%3A%20%22100%25%22%7D%29%3B%0A%0A%20%20%20%20%20%20%20%20%0A%20%20%20%20%20%20%20%20%20%20%20%20var%20html_37d546d82660450eb582f8e69149ced2%20%3D%20%24%28%60%3Cdiv%20id%3D%22html_37d546d82660450eb582f8e69149ced2%22%20style%3D%22width%3A%20100.0%25%3B%20height%3A%20100.0%25%3B%22%3EPrince%26%2339%3Bs%20Bay%2C%20Staten%20Island%3C/div%3E%60%29%5B0%5D%3B%0A%20%20%20%20%20%20%20%20%20%20%20%20popup_0e9e18fe834e4d1bb853adf183afe153.setContent%28html_37d546d82660450eb582f8e69149ced2%29%3B%0A%20%20%20%20%20%20%20%20%0A%0A%20%20%20%20%20%20%20%20circle_marker_3a040afaddf14ca5a5085eb9429d82b5.bindPopup%28popup_0e9e18fe834e4d1bb853adf183afe153%29%0A%20%20%20%20%20%20%20%20%3B%0A%0A%20%20%20%20%20%20%20%20%0A%20%20%20%20%0A%20%20%20%20%0A%20%20%20%20%20%20%20%20%20%20%20%20var%20circle_marker_ea4b2c1d86e54e439a2e95dac1b8e902%20%3D%20L.circleMarker%28%0A%20%20%20%20%20%20%20%20%20%20%20%20%20%20%20%20%5B40.57650629379489%2C%20-74.13792663771568%5D%2C%0A%20%20%20%20%20%20%20%20%20%20%20%20%20%20%20%20%7B%22bubblingMouseEvents%22%3A%20true%2C%20%22color%22%3A%20%22blue%22%2C%20%22dashArray%22%3A%20null%2C%20%22dashOffset%22%3A%20null%2C%20%22fill%22%3A%20true%2C%20%22fillColor%22%3A%20%22%233186cc%22%2C%20%22fillOpacity%22%3A%200.7%2C%20%22fillRule%22%3A%20%22evenodd%22%2C%20%22lineCap%22%3A%20%22round%22%2C%20%22lineJoin%22%3A%20%22round%22%2C%20%22opacity%22%3A%201.0%2C%20%22radius%22%3A%205%2C%20%22stroke%22%3A%20true%2C%20%22weight%22%3A%203%7D%0A%20%20%20%20%20%20%20%20%20%20%20%20%29.addTo%28map_da402c8c143c4c8d8a2810a77806f651%29%3B%0A%20%20%20%20%20%20%20%20%0A%20%20%20%20%0A%20%20%20%20%20%20%20%20var%20popup_82ecf9c87c0f4bafa215362fb323cd26%20%3D%20L.popup%28%7B%22maxWidth%22%3A%20%22100%25%22%7D%29%3B%0A%0A%20%20%20%20%20%20%20%20%0A%20%20%20%20%20%20%20%20%20%20%20%20var%20html_5c8d13296670426bb4b309c825100cf3%20%3D%20%24%28%60%3Cdiv%20id%3D%22html_5c8d13296670426bb4b309c825100cf3%22%20style%3D%22width%3A%20100.0%25%3B%20height%3A%20100.0%25%3B%22%3ELighthouse%20Hill%2C%20Staten%20Island%3C/div%3E%60%29%5B0%5D%3B%0A%20%20%20%20%20%20%20%20%20%20%20%20popup_82ecf9c87c0f4bafa215362fb323cd26.setContent%28html_5c8d13296670426bb4b309c825100cf3%29%3B%0A%20%20%20%20%20%20%20%20%0A%0A%20%20%20%20%20%20%20%20circle_marker_ea4b2c1d86e54e439a2e95dac1b8e902.bindPopup%28popup_82ecf9c87c0f4bafa215362fb323cd26%29%0A%20%20%20%20%20%20%20%20%3B%0A%0A%20%20%20%20%20%20%20%20%0A%20%20%20%20%0A%20%20%20%20%0A%20%20%20%20%20%20%20%20%20%20%20%20var%20circle_marker_7e98e70f2820452aa387153bc5af406f%20%3D%20L.circleMarker%28%0A%20%20%20%20%20%20%20%20%20%20%20%20%20%20%20%20%5B40.51954145748909%2C%20-74.22957080626941%5D%2C%0A%20%20%20%20%20%20%20%20%20%20%20%20%20%20%20%20%7B%22bubblingMouseEvents%22%3A%20true%2C%20%22color%22%3A%20%22blue%22%2C%20%22dashArray%22%3A%20null%2C%20%22dashOffset%22%3A%20null%2C%20%22fill%22%3A%20true%2C%20%22fillColor%22%3A%20%22%233186cc%22%2C%20%22fillOpacity%22%3A%200.7%2C%20%22fillRule%22%3A%20%22evenodd%22%2C%20%22lineCap%22%3A%20%22round%22%2C%20%22lineJoin%22%3A%20%22round%22%2C%20%22opacity%22%3A%201.0%2C%20%22radius%22%3A%205%2C%20%22stroke%22%3A%20true%2C%20%22weight%22%3A%203%7D%0A%20%20%20%20%20%20%20%20%20%20%20%20%29.addTo%28map_da402c8c143c4c8d8a2810a77806f651%29%3B%0A%20%20%20%20%20%20%20%20%0A%20%20%20%20%0A%20%20%20%20%20%20%20%20var%20popup_21696ddcc00b47dc8b8026ad93204101%20%3D%20L.popup%28%7B%22maxWidth%22%3A%20%22100%25%22%7D%29%3B%0A%0A%20%20%20%20%20%20%20%20%0A%20%20%20%20%20%20%20%20%20%20%20%20var%20html_23bed5adc0a14e92b204f0b473b65c03%20%3D%20%24%28%60%3Cdiv%20id%3D%22html_23bed5adc0a14e92b204f0b473b65c03%22%20style%3D%22width%3A%20100.0%25%3B%20height%3A%20100.0%25%3B%22%3ERichmond%20Valley%2C%20Staten%20Island%3C/div%3E%60%29%5B0%5D%3B%0A%20%20%20%20%20%20%20%20%20%20%20%20popup_21696ddcc00b47dc8b8026ad93204101.setContent%28html_23bed5adc0a14e92b204f0b473b65c03%29%3B%0A%20%20%20%20%20%20%20%20%0A%0A%20%20%20%20%20%20%20%20circle_marker_7e98e70f2820452aa387153bc5af406f.bindPopup%28popup_21696ddcc00b47dc8b8026ad93204101%29%0A%20%20%20%20%20%20%20%20%3B%0A%0A%20%20%20%20%20%20%20%20%0A%20%20%20%20%0A%20%20%20%20%0A%20%20%20%20%20%20%20%20%20%20%20%20var%20circle_marker_fc9fcded2b714e3293718c3c2b5d3c24%20%3D%20L.circleMarker%28%0A%20%20%20%20%20%20%20%20%20%20%20%20%20%20%20%20%5B40.79060155670148%2C%20-73.82667757138641%5D%2C%0A%20%20%20%20%20%20%20%20%20%20%20%20%20%20%20%20%7B%22bubblingMouseEvents%22%3A%20true%2C%20%22color%22%3A%20%22blue%22%2C%20%22dashArray%22%3A%20null%2C%20%22dashOffset%22%3A%20null%2C%20%22fill%22%3A%20true%2C%20%22fillColor%22%3A%20%22%233186cc%22%2C%20%22fillOpacity%22%3A%200.7%2C%20%22fillRule%22%3A%20%22evenodd%22%2C%20%22lineCap%22%3A%20%22round%22%2C%20%22lineJoin%22%3A%20%22round%22%2C%20%22opacity%22%3A%201.0%2C%20%22radius%22%3A%205%2C%20%22stroke%22%3A%20true%2C%20%22weight%22%3A%203%7D%0A%20%20%20%20%20%20%20%20%20%20%20%20%29.addTo%28map_da402c8c143c4c8d8a2810a77806f651%29%3B%0A%20%20%20%20%20%20%20%20%0A%20%20%20%20%0A%20%20%20%20%20%20%20%20var%20popup_228e1596eb8442f2a3795e1298e68d46%20%3D%20L.popup%28%7B%22maxWidth%22%3A%20%22100%25%22%7D%29%3B%0A%0A%20%20%20%20%20%20%20%20%0A%20%20%20%20%20%20%20%20%20%20%20%20var%20html_1632bda344fb4ac498ef8795ade3acf5%20%3D%20%24%28%60%3Cdiv%20id%3D%22html_1632bda344fb4ac498ef8795ade3acf5%22%20style%3D%22width%3A%20100.0%25%3B%20height%3A%20100.0%25%3B%22%3EMalba%2C%20Queens%3C/div%3E%60%29%5B0%5D%3B%0A%20%20%20%20%20%20%20%20%20%20%20%20popup_228e1596eb8442f2a3795e1298e68d46.setContent%28html_1632bda344fb4ac498ef8795ade3acf5%29%3B%0A%20%20%20%20%20%20%20%20%0A%0A%20%20%20%20%20%20%20%20circle_marker_fc9fcded2b714e3293718c3c2b5d3c24.bindPopup%28popup_228e1596eb8442f2a3795e1298e68d46%29%0A%20%20%20%20%20%20%20%20%3B%0A%0A%20%20%20%20%20%20%20%20%0A%20%20%20%20%0A%20%20%20%20%0A%20%20%20%20%20%20%20%20%20%20%20%20var%20circle_marker_db3617c68ca8482fb9a009a8a295eb0d%20%3D%20L.circleMarker%28%0A%20%20%20%20%20%20%20%20%20%20%20%20%20%20%20%20%5B40.6819989345173%2C%20-73.890345709872%5D%2C%0A%20%20%20%20%20%20%20%20%20%20%20%20%20%20%20%20%7B%22bubblingMouseEvents%22%3A%20true%2C%20%22color%22%3A%20%22blue%22%2C%20%22dashArray%22%3A%20null%2C%20%22dashOffset%22%3A%20null%2C%20%22fill%22%3A%20true%2C%20%22fillColor%22%3A%20%22%233186cc%22%2C%20%22fillOpacity%22%3A%200.7%2C%20%22fillRule%22%3A%20%22evenodd%22%2C%20%22lineCap%22%3A%20%22round%22%2C%20%22lineJoin%22%3A%20%22round%22%2C%20%22opacity%22%3A%201.0%2C%20%22radius%22%3A%205%2C%20%22stroke%22%3A%20true%2C%20%22weight%22%3A%203%7D%0A%20%20%20%20%20%20%20%20%20%20%20%20%29.addTo%28map_da402c8c143c4c8d8a2810a77806f651%29%3B%0A%20%20%20%20%20%20%20%20%0A%20%20%20%20%0A%20%20%20%20%20%20%20%20var%20popup_68bb1b1075214c3d9236786920cf59a4%20%3D%20L.popup%28%7B%22maxWidth%22%3A%20%22100%25%22%7D%29%3B%0A%0A%20%20%20%20%20%20%20%20%0A%20%20%20%20%20%20%20%20%20%20%20%20var%20html_d09cbc31ebe04029900d6e98cb84dbb4%20%3D%20%24%28%60%3Cdiv%20id%3D%22html_d09cbc31ebe04029900d6e98cb84dbb4%22%20style%3D%22width%3A%20100.0%25%3B%20height%3A%20100.0%25%3B%22%3EHighland%20Park%2C%20Brooklyn%3C/div%3E%60%29%5B0%5D%3B%0A%20%20%20%20%20%20%20%20%20%20%20%20popup_68bb1b1075214c3d9236786920cf59a4.setContent%28html_d09cbc31ebe04029900d6e98cb84dbb4%29%3B%0A%20%20%20%20%20%20%20%20%0A%0A%20%20%20%20%20%20%20%20circle_marker_db3617c68ca8482fb9a009a8a295eb0d.bindPopup%28popup_68bb1b1075214c3d9236786920cf59a4%29%0A%20%20%20%20%20%20%20%20%3B%0A%0A%20%20%20%20%20%20%20%20%0A%20%20%20%20%0A%20%20%20%20%0A%20%20%20%20%20%20%20%20%20%20%20%20var%20circle_marker_c0f9a47c4b4a4737925c5c68ae7633c7%20%3D%20L.circleMarker%28%0A%20%20%20%20%20%20%20%20%20%20%20%20%20%20%20%20%5B40.60937770113766%2C%20-73.94841515328893%5D%2C%0A%20%20%20%20%20%20%20%20%20%20%20%20%20%20%20%20%7B%22bubblingMouseEvents%22%3A%20true%2C%20%22color%22%3A%20%22blue%22%2C%20%22dashArray%22%3A%20null%2C%20%22dashOffset%22%3A%20null%2C%20%22fill%22%3A%20true%2C%20%22fillColor%22%3A%20%22%233186cc%22%2C%20%22fillOpacity%22%3A%200.7%2C%20%22fillRule%22%3A%20%22evenodd%22%2C%20%22lineCap%22%3A%20%22round%22%2C%20%22lineJoin%22%3A%20%22round%22%2C%20%22opacity%22%3A%201.0%2C%20%22radius%22%3A%205%2C%20%22stroke%22%3A%20true%2C%20%22weight%22%3A%203%7D%0A%20%20%20%20%20%20%20%20%20%20%20%20%29.addTo%28map_da402c8c143c4c8d8a2810a77806f651%29%3B%0A%20%20%20%20%20%20%20%20%0A%20%20%20%20%0A%20%20%20%20%20%20%20%20var%20popup_4da56c84bd704ef984f9aa53733b52eb%20%3D%20L.popup%28%7B%22maxWidth%22%3A%20%22100%25%22%7D%29%3B%0A%0A%20%20%20%20%20%20%20%20%0A%20%20%20%20%20%20%20%20%20%20%20%20var%20html_d0890a254bd2437cad709c5da88276f0%20%3D%20%24%28%60%3Cdiv%20id%3D%22html_d0890a254bd2437cad709c5da88276f0%22%20style%3D%22width%3A%20100.0%25%3B%20height%3A%20100.0%25%3B%22%3EMadison%2C%20Brooklyn%3C/div%3E%60%29%5B0%5D%3B%0A%20%20%20%20%20%20%20%20%20%20%20%20popup_4da56c84bd704ef984f9aa53733b52eb.setContent%28html_d0890a254bd2437cad709c5da88276f0%29%3B%0A%20%20%20%20%20%20%20%20%0A%0A%20%20%20%20%20%20%20%20circle_marker_c0f9a47c4b4a4737925c5c68ae7633c7.bindPopup%28popup_4da56c84bd704ef984f9aa53733b52eb%29%0A%20%20%20%20%20%20%20%20%3B%0A%0A%20%20%20%20%20%20%20%20%0A%20%20%20%20%0A%20%20%20%20%0A%20%20%20%20%20%20%20%20%20%20%20%20var%20circle_marker_7e99ee88b41e42b7a335432a90bad0c3%20%3D%20L.circleMarker%28%0A%20%20%20%20%20%20%20%20%20%20%20%20%20%20%20%20%5B40.85272297633017%2C%20-73.86172577555115%5D%2C%0A%20%20%20%20%20%20%20%20%20%20%20%20%20%20%20%20%7B%22bubblingMouseEvents%22%3A%20true%2C%20%22color%22%3A%20%22blue%22%2C%20%22dashArray%22%3A%20null%2C%20%22dashOffset%22%3A%20null%2C%20%22fill%22%3A%20true%2C%20%22fillColor%22%3A%20%22%233186cc%22%2C%20%22fillOpacity%22%3A%200.7%2C%20%22fillRule%22%3A%20%22evenodd%22%2C%20%22lineCap%22%3A%20%22round%22%2C%20%22lineJoin%22%3A%20%22round%22%2C%20%22opacity%22%3A%201.0%2C%20%22radius%22%3A%205%2C%20%22stroke%22%3A%20true%2C%20%22weight%22%3A%203%7D%0A%20%20%20%20%20%20%20%20%20%20%20%20%29.addTo%28map_da402c8c143c4c8d8a2810a77806f651%29%3B%0A%20%20%20%20%20%20%20%20%0A%20%20%20%20%0A%20%20%20%20%20%20%20%20var%20popup_bad4a86662c34fd6b77d7ac8254939ca%20%3D%20L.popup%28%7B%22maxWidth%22%3A%20%22100%25%22%7D%29%3B%0A%0A%20%20%20%20%20%20%20%20%0A%20%20%20%20%20%20%20%20%20%20%20%20var%20html_a7602cbc8739438ebd457b6b9db98eae%20%3D%20%24%28%60%3Cdiv%20id%3D%22html_a7602cbc8739438ebd457b6b9db98eae%22%20style%3D%22width%3A%20100.0%25%3B%20height%3A%20100.0%25%3B%22%3EBronxdale%2C%20Bronx%3C/div%3E%60%29%5B0%5D%3B%0A%20%20%20%20%20%20%20%20%20%20%20%20popup_bad4a86662c34fd6b77d7ac8254939ca.setContent%28html_a7602cbc8739438ebd457b6b9db98eae%29%3B%0A%20%20%20%20%20%20%20%20%0A%0A%20%20%20%20%20%20%20%20circle_marker_7e99ee88b41e42b7a335432a90bad0c3.bindPopup%28popup_bad4a86662c34fd6b77d7ac8254939ca%29%0A%20%20%20%20%20%20%20%20%3B%0A%0A%20%20%20%20%20%20%20%20%0A%20%20%20%20%0A%20%20%20%20%0A%20%20%20%20%20%20%20%20%20%20%20%20var%20circle_marker_bd59e07f40ce4ee283862bd28258d28c%20%3D%20L.circleMarker%28%0A%20%20%20%20%20%20%20%20%20%20%20%20%20%20%20%20%5B40.86578787802982%2C%20-73.85931863221647%5D%2C%0A%20%20%20%20%20%20%20%20%20%20%20%20%20%20%20%20%7B%22bubblingMouseEvents%22%3A%20true%2C%20%22color%22%3A%20%22blue%22%2C%20%22dashArray%22%3A%20null%2C%20%22dashOffset%22%3A%20null%2C%20%22fill%22%3A%20true%2C%20%22fillColor%22%3A%20%22%233186cc%22%2C%20%22fillOpacity%22%3A%200.7%2C%20%22fillRule%22%3A%20%22evenodd%22%2C%20%22lineCap%22%3A%20%22round%22%2C%20%22lineJoin%22%3A%20%22round%22%2C%20%22opacity%22%3A%201.0%2C%20%22radius%22%3A%205%2C%20%22stroke%22%3A%20true%2C%20%22weight%22%3A%203%7D%0A%20%20%20%20%20%20%20%20%20%20%20%20%29.addTo%28map_da402c8c143c4c8d8a2810a77806f651%29%3B%0A%20%20%20%20%20%20%20%20%0A%20%20%20%20%0A%20%20%20%20%20%20%20%20var%20popup_a72a577a177b41daa0894ec019746f64%20%3D%20L.popup%28%7B%22maxWidth%22%3A%20%22100%25%22%7D%29%3B%0A%0A%20%20%20%20%20%20%20%20%0A%20%20%20%20%20%20%20%20%20%20%20%20var%20html_0c51c1cd438f403eab1aa415df7757cb%20%3D%20%24%28%60%3Cdiv%20id%3D%22html_0c51c1cd438f403eab1aa415df7757cb%22%20style%3D%22width%3A%20100.0%25%3B%20height%3A%20100.0%25%3B%22%3EAllerton%2C%20Bronx%3C/div%3E%60%29%5B0%5D%3B%0A%20%20%20%20%20%20%20%20%20%20%20%20popup_a72a577a177b41daa0894ec019746f64.setContent%28html_0c51c1cd438f403eab1aa415df7757cb%29%3B%0A%20%20%20%20%20%20%20%20%0A%0A%20%20%20%20%20%20%20%20circle_marker_bd59e07f40ce4ee283862bd28258d28c.bindPopup%28popup_a72a577a177b41daa0894ec019746f64%29%0A%20%20%20%20%20%20%20%20%3B%0A%0A%20%20%20%20%20%20%20%20%0A%20%20%20%20%0A%20%20%20%20%0A%20%20%20%20%20%20%20%20%20%20%20%20var%20circle_marker_293d6044362346659c425b717d1a62e0%20%3D%20L.circleMarker%28%0A%20%20%20%20%20%20%20%20%20%20%20%20%20%20%20%20%5B40.8703923914147%2C%20-73.90152264513144%5D%2C%0A%20%20%20%20%20%20%20%20%20%20%20%20%20%20%20%20%7B%22bubblingMouseEvents%22%3A%20true%2C%20%22color%22%3A%20%22blue%22%2C%20%22dashArray%22%3A%20null%2C%20%22dashOffset%22%3A%20null%2C%20%22fill%22%3A%20true%2C%20%22fillColor%22%3A%20%22%233186cc%22%2C%20%22fillOpacity%22%3A%200.7%2C%20%22fillRule%22%3A%20%22evenodd%22%2C%20%22lineCap%22%3A%20%22round%22%2C%20%22lineJoin%22%3A%20%22round%22%2C%20%22opacity%22%3A%201.0%2C%20%22radius%22%3A%205%2C%20%22stroke%22%3A%20true%2C%20%22weight%22%3A%203%7D%0A%20%20%20%20%20%20%20%20%20%20%20%20%29.addTo%28map_da402c8c143c4c8d8a2810a77806f651%29%3B%0A%20%20%20%20%20%20%20%20%0A%20%20%20%20%0A%20%20%20%20%20%20%20%20var%20popup_a02e5cea75ae4ea48e642a3bd0fe8d16%20%3D%20L.popup%28%7B%22maxWidth%22%3A%20%22100%25%22%7D%29%3B%0A%0A%20%20%20%20%20%20%20%20%0A%20%20%20%20%20%20%20%20%20%20%20%20var%20html_358b0a793fca4d0aae1fc5c48a6028b5%20%3D%20%24%28%60%3Cdiv%20id%3D%22html_358b0a793fca4d0aae1fc5c48a6028b5%22%20style%3D%22width%3A%20100.0%25%3B%20height%3A%20100.0%25%3B%22%3EKingsbridge%20Heights%2C%20Bronx%3C/div%3E%60%29%5B0%5D%3B%0A%20%20%20%20%20%20%20%20%20%20%20%20popup_a02e5cea75ae4ea48e642a3bd0fe8d16.setContent%28html_358b0a793fca4d0aae1fc5c48a6028b5%29%3B%0A%20%20%20%20%20%20%20%20%0A%0A%20%20%20%20%20%20%20%20circle_marker_293d6044362346659c425b717d1a62e0.bindPopup%28popup_a02e5cea75ae4ea48e642a3bd0fe8d16%29%0A%20%20%20%20%20%20%20%20%3B%0A%0A%20%20%20%20%20%20%20%20%0A%20%20%20%20%0A%20%20%20%20%0A%20%20%20%20%20%20%20%20%20%20%20%20var%20circle_marker_9926de7e57e340d6a88c31b9d6cf277a%20%3D%20L.circleMarker%28%0A%20%20%20%20%20%20%20%20%20%20%20%20%20%20%20%20%5B40.64692606658579%2C%20-73.94817709920184%5D%2C%0A%20%20%20%20%20%20%20%20%20%20%20%20%20%20%20%20%7B%22bubblingMouseEvents%22%3A%20true%2C%20%22color%22%3A%20%22blue%22%2C%20%22dashArray%22%3A%20null%2C%20%22dashOffset%22%3A%20null%2C%20%22fill%22%3A%20true%2C%20%22fillColor%22%3A%20%22%233186cc%22%2C%20%22fillOpacity%22%3A%200.7%2C%20%22fillRule%22%3A%20%22evenodd%22%2C%20%22lineCap%22%3A%20%22round%22%2C%20%22lineJoin%22%3A%20%22round%22%2C%20%22opacity%22%3A%201.0%2C%20%22radius%22%3A%205%2C%20%22stroke%22%3A%20true%2C%20%22weight%22%3A%203%7D%0A%20%20%20%20%20%20%20%20%20%20%20%20%29.addTo%28map_da402c8c143c4c8d8a2810a77806f651%29%3B%0A%20%20%20%20%20%20%20%20%0A%20%20%20%20%0A%20%20%20%20%20%20%20%20var%20popup_fad8d3ac081b46ad9a9c0dc0eddc05d1%20%3D%20L.popup%28%7B%22maxWidth%22%3A%20%22100%25%22%7D%29%3B%0A%0A%20%20%20%20%20%20%20%20%0A%20%20%20%20%20%20%20%20%20%20%20%20var%20html_ec71b9e75225448b9dbddeef8b811239%20%3D%20%24%28%60%3Cdiv%20id%3D%22html_ec71b9e75225448b9dbddeef8b811239%22%20style%3D%22width%3A%20100.0%25%3B%20height%3A%20100.0%25%3B%22%3EErasmus%2C%20Brooklyn%3C/div%3E%60%29%5B0%5D%3B%0A%20%20%20%20%20%20%20%20%20%20%20%20popup_fad8d3ac081b46ad9a9c0dc0eddc05d1.setContent%28html_ec71b9e75225448b9dbddeef8b811239%29%3B%0A%20%20%20%20%20%20%20%20%0A%0A%20%20%20%20%20%20%20%20circle_marker_9926de7e57e340d6a88c31b9d6cf277a.bindPopup%28popup_fad8d3ac081b46ad9a9c0dc0eddc05d1%29%0A%20%20%20%20%20%20%20%20%3B%0A%0A%20%20%20%20%20%20%20%20%0A%20%20%20%20%0A%20%20%20%20%0A%20%20%20%20%20%20%20%20%20%20%20%20var%20circle_marker_63650e649e004c08a97c944d72fb42de%20%3D%20L.circleMarker%28%0A%20%20%20%20%20%20%20%20%20%20%20%20%20%20%20%20%5B40.75665808227519%2C%20-74.00011136202637%5D%2C%0A%20%20%20%20%20%20%20%20%20%20%20%20%20%20%20%20%7B%22bubblingMouseEvents%22%3A%20true%2C%20%22color%22%3A%20%22blue%22%2C%20%22dashArray%22%3A%20null%2C%20%22dashOffset%22%3A%20null%2C%20%22fill%22%3A%20true%2C%20%22fillColor%22%3A%20%22%233186cc%22%2C%20%22fillOpacity%22%3A%200.7%2C%20%22fillRule%22%3A%20%22evenodd%22%2C%20%22lineCap%22%3A%20%22round%22%2C%20%22lineJoin%22%3A%20%22round%22%2C%20%22opacity%22%3A%201.0%2C%20%22radius%22%3A%205%2C%20%22stroke%22%3A%20true%2C%20%22weight%22%3A%203%7D%0A%20%20%20%20%20%20%20%20%20%20%20%20%29.addTo%28map_da402c8c143c4c8d8a2810a77806f651%29%3B%0A%20%20%20%20%20%20%20%20%0A%20%20%20%20%0A%20%20%20%20%20%20%20%20var%20popup_40691fc103c943848c3920921ce6cec8%20%3D%20L.popup%28%7B%22maxWidth%22%3A%20%22100%25%22%7D%29%3B%0A%0A%20%20%20%20%20%20%20%20%0A%20%20%20%20%20%20%20%20%20%20%20%20var%20html_4e9987a51a624e528d983959ef7747d6%20%3D%20%24%28%60%3Cdiv%20id%3D%22html_4e9987a51a624e528d983959ef7747d6%22%20style%3D%22width%3A%20100.0%25%3B%20height%3A%20100.0%25%3B%22%3EHudson%20Yards%2C%20Manhattan%3C/div%3E%60%29%5B0%5D%3B%0A%20%20%20%20%20%20%20%20%20%20%20%20popup_40691fc103c943848c3920921ce6cec8.setContent%28html_4e9987a51a624e528d983959ef7747d6%29%3B%0A%20%20%20%20%20%20%20%20%0A%0A%20%20%20%20%20%20%20%20circle_marker_63650e649e004c08a97c944d72fb42de.bindPopup%28popup_40691fc103c943848c3920921ce6cec8%29%0A%20%20%20%20%20%20%20%20%3B%0A%0A%20%20%20%20%20%20%20%20%0A%20%20%20%20%0A%20%20%20%20%0A%20%20%20%20%20%20%20%20%20%20%20%20var%20circle_marker_c14b9ee777cc4cecbd4baec301005d83%20%3D%20L.circleMarker%28%0A%20%20%20%20%20%20%20%20%20%20%20%20%20%20%20%20%5B40.58733774018741%2C%20-73.80553002968718%5D%2C%0A%20%20%20%20%20%20%20%20%20%20%20%20%20%20%20%20%7B%22bubblingMouseEvents%22%3A%20true%2C%20%22color%22%3A%20%22blue%22%2C%20%22dashArray%22%3A%20null%2C%20%22dashOffset%22%3A%20null%2C%20%22fill%22%3A%20true%2C%20%22fillColor%22%3A%20%22%233186cc%22%2C%20%22fillOpacity%22%3A%200.7%2C%20%22fillRule%22%3A%20%22evenodd%22%2C%20%22lineCap%22%3A%20%22round%22%2C%20%22lineJoin%22%3A%20%22round%22%2C%20%22opacity%22%3A%201.0%2C%20%22radius%22%3A%205%2C%20%22stroke%22%3A%20true%2C%20%22weight%22%3A%203%7D%0A%20%20%20%20%20%20%20%20%20%20%20%20%29.addTo%28map_da402c8c143c4c8d8a2810a77806f651%29%3B%0A%20%20%20%20%20%20%20%20%0A%20%20%20%20%0A%20%20%20%20%20%20%20%20var%20popup_1d42979e26a1479fbd516490ecdfa1d0%20%3D%20L.popup%28%7B%22maxWidth%22%3A%20%22100%25%22%7D%29%3B%0A%0A%20%20%20%20%20%20%20%20%0A%20%20%20%20%20%20%20%20%20%20%20%20var%20html_e39dac5f0edc4a7d95df8f5f425b5d79%20%3D%20%24%28%60%3Cdiv%20id%3D%22html_e39dac5f0edc4a7d95df8f5f425b5d79%22%20style%3D%22width%3A%20100.0%25%3B%20height%3A%20100.0%25%3B%22%3EHammels%2C%20Queens%3C/div%3E%60%29%5B0%5D%3B%0A%20%20%20%20%20%20%20%20%20%20%20%20popup_1d42979e26a1479fbd516490ecdfa1d0.setContent%28html_e39dac5f0edc4a7d95df8f5f425b5d79%29%3B%0A%20%20%20%20%20%20%20%20%0A%0A%20%20%20%20%20%20%20%20circle_marker_c14b9ee777cc4cecbd4baec301005d83.bindPopup%28popup_1d42979e26a1479fbd516490ecdfa1d0%29%0A%20%20%20%20%20%20%20%20%3B%0A%0A%20%20%20%20%20%20%20%20%0A%20%20%20%20%0A%20%20%20%20%0A%20%20%20%20%20%20%20%20%20%20%20%20var%20circle_marker_8b54c7f506d64733b2a1dba150953173%20%3D%20L.circleMarker%28%0A%20%20%20%20%20%20%20%20%20%20%20%20%20%20%20%20%5B40.611321691283834%2C%20-73.76596781445627%5D%2C%0A%20%20%20%20%20%20%20%20%20%20%20%20%20%20%20%20%7B%22bubblingMouseEvents%22%3A%20true%2C%20%22color%22%3A%20%22blue%22%2C%20%22dashArray%22%3A%20null%2C%20%22dashOffset%22%3A%20null%2C%20%22fill%22%3A%20true%2C%20%22fillColor%22%3A%20%22%233186cc%22%2C%20%22fillOpacity%22%3A%200.7%2C%20%22fillRule%22%3A%20%22evenodd%22%2C%20%22lineCap%22%3A%20%22round%22%2C%20%22lineJoin%22%3A%20%22round%22%2C%20%22opacity%22%3A%201.0%2C%20%22radius%22%3A%205%2C%20%22stroke%22%3A%20true%2C%20%22weight%22%3A%203%7D%0A%20%20%20%20%20%20%20%20%20%20%20%20%29.addTo%28map_da402c8c143c4c8d8a2810a77806f651%29%3B%0A%20%20%20%20%20%20%20%20%0A%20%20%20%20%0A%20%20%20%20%20%20%20%20var%20popup_d1dcec2eec294791a9605cca295737c0%20%3D%20L.popup%28%7B%22maxWidth%22%3A%20%22100%25%22%7D%29%3B%0A%0A%20%20%20%20%20%20%20%20%0A%20%20%20%20%20%20%20%20%20%20%20%20var%20html_90747992ac74432da5204f7e151990c4%20%3D%20%24%28%60%3Cdiv%20id%3D%22html_90747992ac74432da5204f7e151990c4%22%20style%3D%22width%3A%20100.0%25%3B%20height%3A%20100.0%25%3B%22%3EBayswater%2C%20Queens%3C/div%3E%60%29%5B0%5D%3B%0A%20%20%20%20%20%20%20%20%20%20%20%20popup_d1dcec2eec294791a9605cca295737c0.setContent%28html_90747992ac74432da5204f7e151990c4%29%3B%0A%20%20%20%20%20%20%20%20%0A%0A%20%20%20%20%20%20%20%20circle_marker_8b54c7f506d64733b2a1dba150953173.bindPopup%28popup_d1dcec2eec294791a9605cca295737c0%29%0A%20%20%20%20%20%20%20%20%3B%0A%0A%20%20%20%20%20%20%20%20%0A%20%20%20%20%0A%20%20%20%20%0A%20%20%20%20%20%20%20%20%20%20%20%20var%20circle_marker_63cf55c350934c06bba1e51cf202ef32%20%3D%20L.circleMarker%28%0A%20%20%20%20%20%20%20%20%20%20%20%20%20%20%20%20%5B40.756091297094706%2C%20-73.94563070334091%5D%2C%0A%20%20%20%20%20%20%20%20%20%20%20%20%20%20%20%20%7B%22bubblingMouseEvents%22%3A%20true%2C%20%22color%22%3A%20%22blue%22%2C%20%22dashArray%22%3A%20null%2C%20%22dashOffset%22%3A%20null%2C%20%22fill%22%3A%20true%2C%20%22fillColor%22%3A%20%22%233186cc%22%2C%20%22fillOpacity%22%3A%200.7%2C%20%22fillRule%22%3A%20%22evenodd%22%2C%20%22lineCap%22%3A%20%22round%22%2C%20%22lineJoin%22%3A%20%22round%22%2C%20%22opacity%22%3A%201.0%2C%20%22radius%22%3A%205%2C%20%22stroke%22%3A%20true%2C%20%22weight%22%3A%203%7D%0A%20%20%20%20%20%20%20%20%20%20%20%20%29.addTo%28map_da402c8c143c4c8d8a2810a77806f651%29%3B%0A%20%20%20%20%20%20%20%20%0A%20%20%20%20%0A%20%20%20%20%20%20%20%20var%20popup_12cc60f3553a498785670d378fbbe4ea%20%3D%20L.popup%28%7B%22maxWidth%22%3A%20%22100%25%22%7D%29%3B%0A%0A%20%20%20%20%20%20%20%20%0A%20%20%20%20%20%20%20%20%20%20%20%20var%20html_b94939049d94418cb580f3014f065ef6%20%3D%20%24%28%60%3Cdiv%20id%3D%22html_b94939049d94418cb580f3014f065ef6%22%20style%3D%22width%3A%20100.0%25%3B%20height%3A%20100.0%25%3B%22%3EQueensbridge%2C%20Queens%3C/div%3E%60%29%5B0%5D%3B%0A%20%20%20%20%20%20%20%20%20%20%20%20popup_12cc60f3553a498785670d378fbbe4ea.setContent%28html_b94939049d94418cb580f3014f065ef6%29%3B%0A%20%20%20%20%20%20%20%20%0A%0A%20%20%20%20%20%20%20%20circle_marker_63cf55c350934c06bba1e51cf202ef32.bindPopup%28popup_12cc60f3553a498785670d378fbbe4ea%29%0A%20%20%20%20%20%20%20%20%3B%0A%0A%20%20%20%20%20%20%20%20%0A%20%20%20%20%0A%20%20%20%20%0A%20%20%20%20%20%20%20%20%20%20%20%20var%20circle_marker_be241c42c0dd485ea3d70feccc785fdc%20%3D%20L.circleMarker%28%0A%20%20%20%20%20%20%20%20%20%20%20%20%20%20%20%20%5B40.61731079252983%2C%20-74.08173992211962%5D%2C%0A%20%20%20%20%20%20%20%20%20%20%20%20%20%20%20%20%7B%22bubblingMouseEvents%22%3A%20true%2C%20%22color%22%3A%20%22blue%22%2C%20%22dashArray%22%3A%20null%2C%20%22dashOffset%22%3A%20null%2C%20%22fill%22%3A%20true%2C%20%22fillColor%22%3A%20%22%233186cc%22%2C%20%22fillOpacity%22%3A%200.7%2C%20%22fillRule%22%3A%20%22evenodd%22%2C%20%22lineCap%22%3A%20%22round%22%2C%20%22lineJoin%22%3A%20%22round%22%2C%20%22opacity%22%3A%201.0%2C%20%22radius%22%3A%205%2C%20%22stroke%22%3A%20true%2C%20%22weight%22%3A%203%7D%0A%20%20%20%20%20%20%20%20%20%20%20%20%29.addTo%28map_da402c8c143c4c8d8a2810a77806f651%29%3B%0A%20%20%20%20%20%20%20%20%0A%20%20%20%20%0A%20%20%20%20%20%20%20%20var%20popup_94bc81d2102343d18907fe70c27fffd6%20%3D%20L.popup%28%7B%22maxWidth%22%3A%20%22100%25%22%7D%29%3B%0A%0A%20%20%20%20%20%20%20%20%0A%20%20%20%20%20%20%20%20%20%20%20%20var%20html_e41b0446454141e0931941beb557ae56%20%3D%20%24%28%60%3Cdiv%20id%3D%22html_e41b0446454141e0931941beb557ae56%22%20style%3D%22width%3A%20100.0%25%3B%20height%3A%20100.0%25%3B%22%3EFox%20Hills%2C%20Staten%20Island%3C/div%3E%60%29%5B0%5D%3B%0A%20%20%20%20%20%20%20%20%20%20%20%20popup_94bc81d2102343d18907fe70c27fffd6.setContent%28html_e41b0446454141e0931941beb557ae56%29%3B%0A%20%20%20%20%20%20%20%20%0A%0A%20%20%20%20%20%20%20%20circle_marker_be241c42c0dd485ea3d70feccc785fdc.bindPopup%28popup_94bc81d2102343d18907fe70c27fffd6%29%0A%20%20%20%20%20%20%20%20%3B%0A%0A%20%20%20%20%20%20%20%20%0A%20%20%20%20%0A%3C/script%3E onload=\"this.contentDocument.open();this.contentDocument.write(    decodeURIComponent(this.getAttribute('data-html')));this.contentDocument.close();\" allowfullscreen webkitallowfullscreen mozallowfullscreen></iframe></div></div>"
      ],
      "text/plain": [
       "<folium.folium.Map at 0x7f9ce0aa3640>"
      ]
     },
     "execution_count": 23,
     "metadata": {},
     "output_type": "execute_result"
    }
   ],
   "source": [
    "\n",
    "\n",
    "#create a map\n",
    "map_newyork = folium.Map(location=[latitude, longitude], zoom_start=10)\n",
    "\n",
    "# add markers to map\n",
    "for lat, lng, borough, neighborhood in zip(df['latitude'], df['longitude'], df['borough'], df['neighborhood']):\n",
    "    label = '{}, {}'.format(neighborhood, borough)\n",
    "    label = folium.Popup(label, parse_html=True)\n",
    "    folium.CircleMarker(\n",
    "        [lat, lng],\n",
    "        radius=5,\n",
    "        popup=label,\n",
    "        color='blue',\n",
    "        fill=True,\n",
    "        fill_color='#3186cc',\n",
    "        fill_opacity=0.7,\n",
    "        parse_html=False).add_to(map_newyork) \n",
    "\n",
    "map_newyork"
   ]
  },
  {
   "cell_type": "markdown",
   "metadata": {},
   "source": [
    "### Task\n",
    "Use different data sources and APIs to collect information about the neigborhoods that can be used for segmentation."
   ]
  },
  {
   "cell_type": "code",
   "execution_count": 25,
   "metadata": {},
   "outputs": [],
   "source": [
    "CLIENT_ID = 'VAWDSOTBXMAKX3B14VIBJDHCD4WRTJBW2FX1I2LIJ0QC1HBK' # your Foursquare ID\n",
    "CLIENT_SECRET = 'EOVBS3UXICVFAC3OWRNL23B20WJBYHOSXL5OGFUVXPHOK5YL' # your Foursquare Secret\n",
    "VERSION = '20180605' # Foursquare API version\n"
   ]
  },
  {
   "cell_type": "code",
   "execution_count": 34,
   "metadata": {},
   "outputs": [],
   "source": [
    "url = 'https://api.foursquare.com/v2/venues/categories?&client_id={}&client_secret={}&v={}'.format(\n",
    "    CLIENT_ID, \n",
    "    CLIENT_SECRET,\n",
    "    VERSION)\n",
    "category_results = requests.get(url).json()"
   ]
  },
  {
   "cell_type": "code",
   "execution_count": 36,
   "metadata": {},
   "outputs": [],
   "source": [
    "# category_results"
   ]
  },
  {
   "cell_type": "code",
   "execution_count": 37,
   "metadata": {},
   "outputs": [
    {
     "name": "stdout",
     "output_type": "stream",
     "text": [
      "id 24\n",
      "name 20\n",
      "pluralName 20\n",
      "shortName 20\n",
      "icon 98\n",
      "categories 16373\n"
     ]
    }
   ],
   "source": [
    "for key, value in category_results['response']['categories'][0].items():\n",
    "    print(key, len(str(value)))"
   ]
  },
  {
   "cell_type": "code",
   "execution_count": 38,
   "metadata": {},
   "outputs": [],
   "source": [
    "category_list = category_results['response']['categories']\n"
   ]
  },
  {
   "cell_type": "code",
   "execution_count": 39,
   "metadata": {},
   "outputs": [
    {
     "data": {
      "text/plain": [
       "10"
      ]
     },
     "execution_count": 39,
     "metadata": {},
     "output_type": "execute_result"
    }
   ],
   "source": [
    "len(category_list)\n"
   ]
  },
  {
   "cell_type": "code",
   "execution_count": 40,
   "metadata": {},
   "outputs": [
    {
     "name": "stdout",
     "output_type": "stream",
     "text": [
      "4d4b7104d754a06370d81259 Arts & Entertainment\n",
      "4d4b7105d754a06372d81259 College & University\n",
      "4d4b7105d754a06373d81259 Event\n",
      "4d4b7105d754a06374d81259 Food\n",
      "4d4b7105d754a06376d81259 Nightlife Spot\n",
      "4d4b7105d754a06377d81259 Outdoors & Recreation\n",
      "4d4b7105d754a06375d81259 Professional & Other Places\n",
      "4e67e38e036454776db1fb3a Residence\n",
      "4d4b7105d754a06378d81259 Shop & Service\n",
      "4d4b7105d754a06379d81259 Travel & Transport\n"
     ]
    }
   ],
   "source": [
    "for data in category_list:\n",
    "    print(data['id'], data['name'])"
   ]
  },
  {
   "cell_type": "code",
   "execution_count": 41,
   "metadata": {},
   "outputs": [],
   "source": [
    "# function to flatten a 'parent_id' category, returns all categories if checkParentID = False\n",
    "def flatten_Hierarchy(category_list, checkParentID, category_dict, parent_id = ''):\n",
    "    for data in category_list:\n",
    "        \n",
    "        if checkParentID == True and data['id'] == parent_id:\n",
    "            category_dict[data['id']] = data['name']\n",
    "            flatten_Hierarchy(category_list = data['categories'], checkParentID = False, category_dict = category_dict)\n",
    "        \n",
    "        elif checkParentID == False:\n",
    "            category_dict[data['id']] = data['name']\n",
    "            if len(data['categories']) != 0:\n",
    "                flatten_Hierarchy(category_list = data['categories'], checkParentID = False, category_dict = category_dict)\n",
    "    \n",
    "    return category_dict"
   ]
  },
  {
   "cell_type": "code",
   "execution_count": 42,
   "metadata": {},
   "outputs": [],
   "source": [
    "# this function takes the parent ID and returns 'name' and 'id' of all the sub-categories\n",
    "category_dict = flatten_Hierarchy(category_list, checkParentID=True, category_dict = {}, parent_id = '4d4b7105d754a06374d81259')"
   ]
  },
  {
   "cell_type": "code",
   "execution_count": 44,
   "metadata": {},
   "outputs": [
    {
     "name": "stdout",
     "output_type": "stream",
     "text": [
      "Latitude and longitude values of Wakefield are 40.89470517661, -73.84720052054902.\n"
     ]
    }
   ],
   "source": [
    "neighborhood_latitude = df.loc[0, 'latitude'] # neighborhood latitude value\n",
    "neighborhood_longitude = df.loc[0, 'longitude'] # neighborhood longitude value\n",
    "\n",
    "neighborhood_name = df.loc[0, 'neighborhood'] # neighborhood name\n",
    "\n",
    "print('Latitude and longitude values of {} are {}, {}.'.format(neighborhood_name, \n",
    "                                                               neighborhood_latitude, \n",
    "                                                               neighborhood_longitude))"
   ]
  },
  {
   "cell_type": "code",
   "execution_count": 82,
   "metadata": {},
   "outputs": [
    {
     "data": {
      "text/plain": [
       "'https://api.foursquare.com/v3/places/search?&ll=40.89470517661,-73.84720052054902&radius=500&categoryId=4d4b7105d754a06374d81259&limit=1'"
      ]
     },
     "execution_count": 82,
     "metadata": {},
     "output_type": "execute_result"
    }
   ],
   "source": [
    "limit = 1 # limit of number of venues returned by Foursquare API\n",
    "radius = 500 # define radius\n",
    "categoryId = '4d4b7105d754a06374d81259' # category ID for \"Food\"\n",
    "\n",
    "# create URL\n",
    "api_key = os.environ[\"FOURSQUARE_API_KEY\"]\n",
    "headers = {\"Accept\": \"application/json\"}\n",
    "# Add key with our API KEY\n",
    "headers['Authorization'] = api_key\n",
    "url = 'https://api.foursquare.com/v3/places/search?&ll={},{}&radius={}&categoryId={}&limit={}'.format(\n",
    "    neighborhood_latitude, \n",
    "    neighborhood_longitude, \n",
    "    radius,\n",
    "    categoryId,\n",
    "    limit)\n",
    "url # display URL"
   ]
  },
  {
   "cell_type": "code",
   "execution_count": 83,
   "metadata": {},
   "outputs": [],
   "source": [
    "results = requests.get(url, headers=headers).json()\n"
   ]
  },
  {
   "cell_type": "code",
   "execution_count": 84,
   "metadata": {},
   "outputs": [
    {
     "data": {
      "application/json": {
       "context": {
        "geo_bounds": {
         "circle": {
          "center": {
           "latitude": 40.89470517661,
           "longitude": -73.84720052054902
          },
          "radius": 500
         }
        }
       },
       "results": [
        {
         "categories": [
          {
           "icon": {
            "prefix": "https://ss3.4sqi.net/img/categories_v2/food/icecream_",
            "suffix": ".png"
           },
           "id": 13046,
           "name": "Ice Cream Parlor"
          },
          {
           "icon": {
            "prefix": "https://ss3.4sqi.net/img/categories_v2/food/caribbean_",
            "suffix": ".png"
           },
           "id": 13097,
           "name": "Caribbean Restaurant"
          },
          {
           "icon": {
            "prefix": "https://ss3.4sqi.net/img/categories_v2/food/italian_",
            "suffix": ".png"
           },
           "id": 13236,
           "name": "Italian Restaurant"
          }
         ],
         "chains": [],
         "distance": 127,
         "fsq_id": "4c537892fd2ea593cb077a28",
         "geocodes": {
          "main": {
           "latitude": 40.893585,
           "longitude": -73.843692
          },
          "roof": {
           "latitude": 40.893585,
           "longitude": -73.843692
          }
         },
         "location": {
          "address": "4120 Baychester Ave",
          "country": "US",
          "cross_street": "Edenwald & Bussing Ave",
          "dma": "New York",
          "formatted_address": "4120 Baychester Ave (Edenwald & Bussing Ave), Bronx, NY 10466",
          "locality": "Bronx",
          "neighborhood": [
           "Edenwald"
          ],
          "postcode": "10466",
          "region": "NY"
         },
         "name": "Lollipops Gelato",
         "related_places": {},
         "timezone": "America/New_York"
        }
       ]
      },
      "text/plain": [
       "<IPython.core.display.JSON object>"
      ]
     },
     "execution_count": 84,
     "metadata": {
      "application/json": {
       "expanded": false,
       "root": "root"
      }
     },
     "output_type": "execute_result"
    }
   ],
   "source": [
    "JSON(results)"
   ]
  },
  {
   "cell_type": "code",
   "execution_count": 184,
   "metadata": {
    "tags": []
   },
   "outputs": [
    {
     "data": {
      "text/plain": [
       "{'fsq_id': '4c537892fd2ea593cb077a28',\n",
       " 'categories': [{'id': 13046,\n",
       "   'name': 'Ice Cream Parlor',\n",
       "   'icon': {'prefix': 'https://ss3.4sqi.net/img/categories_v2/food/icecream_',\n",
       "    'suffix': '.png'}},\n",
       "  {'id': 13097,\n",
       "   'name': 'Caribbean Restaurant',\n",
       "   'icon': {'prefix': 'https://ss3.4sqi.net/img/categories_v2/food/caribbean_',\n",
       "    'suffix': '.png'}},\n",
       "  {'id': 13236,\n",
       "   'name': 'Italian Restaurant',\n",
       "   'icon': {'prefix': 'https://ss3.4sqi.net/img/categories_v2/food/italian_',\n",
       "    'suffix': '.png'}}],\n",
       " 'chains': [],\n",
       " 'distance': 127,\n",
       " 'geocodes': {'main': {'latitude': 40.893585, 'longitude': -73.843692},\n",
       "  'roof': {'latitude': 40.893585, 'longitude': -73.843692}},\n",
       " 'location': {'address': '4120 Baychester Ave',\n",
       "  'country': 'US',\n",
       "  'cross_street': 'Edenwald & Bussing Ave',\n",
       "  'dma': 'New York',\n",
       "  'formatted_address': '4120 Baychester Ave (Edenwald & Bussing Ave), Bronx, NY 10466',\n",
       "  'locality': 'Bronx',\n",
       "  'neighborhood': ['Edenwald'],\n",
       "  'postcode': '10466',\n",
       "  'region': 'NY'},\n",
       " 'name': 'Lollipops Gelato',\n",
       " 'related_places': {},\n",
       " 'timezone': 'America/New_York'}"
      ]
     },
     "execution_count": 184,
     "metadata": {},
     "output_type": "execute_result"
    }
   ],
   "source": [
    "results['results'][0]"
   ]
  },
  {
   "cell_type": "code",
   "execution_count": 85,
   "metadata": {},
   "outputs": [],
   "source": [
    "categoryId_list = []\n",
    "for key, value in category_dict.items():\n",
    "    categoryId_list.append(key)\n",
    "categoryId = ','.join(categoryId_list)"
   ]
  },
  {
   "cell_type": "code",
   "execution_count": 100,
   "metadata": {},
   "outputs": [
    {
     "data": {
      "text/plain": [
       "Index(['borough', 'neighborhood', 'latitude', 'longitude'], dtype='object')"
      ]
     },
     "execution_count": 100,
     "metadata": {},
     "output_type": "execute_result"
    }
   ],
   "source": [
    "df.columns"
   ]
  },
  {
   "cell_type": "code",
   "execution_count": 161,
   "metadata": {},
   "outputs": [],
   "source": [
    "def getNearbyFood(names, latitudes, longitudes, radius=1000, LIMIT=500):\n",
    "    not_found = 0\n",
    "    print('***Start ', end='')\n",
    "    venues_list=[]\n",
    "    for name, lat, lng in zip(names, latitudes, longitudes):\n",
    "        print(' .', end='')\n",
    "            \n",
    "        # create the API request URL\n",
    "        api_key = os.environ[\"FOURSQUARE_API_KEY\"]\n",
    "        headers = {\"Accept\": \"application/json\"}\n",
    "        # Add key with our API KEY\n",
    "        headers['Authorization'] = api_key\n",
    "        url = 'https://api.foursquare.com/v3/places/search?&ll={},{}&radius={}&categoryId={}&limit={}'.format(\n",
    "        lat, \n",
    "        lng, \n",
    "        radius,\n",
    "        \"4d4b7105d754a06374d81259\",\n",
    "        limit)\n",
    "         # display URL\n",
    "        \n",
    "            \n",
    "        try:\n",
    "            # make the GET request\n",
    "            results = requests.get(url, headers=headers).json()['results'][0]\n",
    "            \n",
    "            # return only relevant information for each nearby venue\n",
    "            # for name in results:\n",
    "            #     venues_list.append([(\n",
    "            #                     name,\n",
    "            #                    lat,\n",
    "            #                    lng,\n",
    "            #                     results['name'], \n",
    "            #                     results['geocodes']['main']['latitude'], \n",
    "            #                     results['geocodes']['main']['longitude'],  \n",
    "            #                     results['categories'][0]['name']) \n",
    "                                \n",
    "        except:\n",
    "            not_found += 1\n",
    "\n",
    "\n",
    "    # nearby_venues = pd.DataFrame([item for venue_list in venues_list for item in venue_list])\n",
    "    # nearby_venues.columns = ['Neighborhood', \n",
    "    #               'Neighborhood Latitude', \n",
    "    #               'Neighborhood Longitude', \n",
    "    #               'Venue', \n",
    "    #               'Venue Latitude', \n",
    "    #               'Venue Longitude', \n",
    "    #               'Venue Category']\n",
    "    print(\"\\nDone*** with {} venues with incompelete information.\".format(not_found))\n",
    "    return(results)"
   ]
  },
  {
   "cell_type": "code",
   "execution_count": 162,
   "metadata": {},
   "outputs": [
    {
     "name": "stdout",
     "output_type": "stream",
     "text": [
      "***Start  .\n",
      "Done*** with 0 venues with incompelete information.\n"
     ]
    }
   ],
   "source": [
    " nyc_venues = getNearbyFood(names=df['neighborhood'][:1],\n",
    "                                        latitudes=df['latitude'][:1],\n",
    "                                        longitudes=df['longitude'][:1]\n",
    "                                       )"
   ]
  },
  {
   "cell_type": "code",
   "execution_count": 164,
   "metadata": {},
   "outputs": [],
   "source": [
    "test = [{'id': '4c783cef3badb1f7e4244b54',\n",
    "  'name': 'Carvel Ice Cream',\n",
    "  'location': {'address': '1006 E 233rd St',\n",
    "   'lat': 40.890486685759605,\n",
    "   'lng': -73.84856772568665,\n",
    "   'labeledLatLngs': [{'label': 'display',\n",
    "     'lat': 40.890486685759605,\n",
    "     'lng': -73.84856772568665}],\n",
    "   'distance': 483,\n",
    "   'postalCode': '10466',\n",
    "   'cc': 'US',\n",
    "   'city': 'Bronx',\n",
    "   'state': 'NY',\n",
    "   'country': 'United States',\n",
    "   'formattedAddress': ['1006 E 233rd St',\n",
    "    'Bronx, NY 10466',\n",
    "    'United States']},\n",
    "  'categories': [{'id': '4bf58dd8d48988d1c9941735',\n",
    "    'name': 'Ice Cream Shop',\n",
    "    'pluralName': 'Ice Cream Shops',\n",
    "    'shortName': 'Ice Cream',\n",
    "    'icon': {'prefix': 'https://ss3.4sqi.net/img/categories_v2/food/icecream_',\n",
    "     'suffix': '.png'},\n",
    "    'primary': True}],\n",
    "  'referralId': 'v-1571641530',\n",
    "  'hasPerk': False}]"
   ]
  },
  {
   "cell_type": "code",
   "execution_count": 169,
   "metadata": {},
   "outputs": [
    {
     "data": {
      "application/json": [
       {
        "categories": [
         {
          "icon": {
           "prefix": "https://ss3.4sqi.net/img/categories_v2/food/icecream_",
           "suffix": ".png"
          },
          "id": "4bf58dd8d48988d1c9941735",
          "name": "Ice Cream Shop",
          "pluralName": "Ice Cream Shops",
          "primary": true,
          "shortName": "Ice Cream"
         }
        ],
        "hasPerk": false,
        "id": "4c783cef3badb1f7e4244b54",
        "location": {
         "address": "1006 E 233rd St",
         "cc": "US",
         "city": "Bronx",
         "country": "United States",
         "distance": 483,
         "formattedAddress": [
          "1006 E 233rd St",
          "Bronx, NY 10466",
          "United States"
         ],
         "labeledLatLngs": [
          {
           "label": "display",
           "lat": 40.890486685759605,
           "lng": -73.84856772568665
          }
         ],
         "lat": 40.890486685759605,
         "lng": -73.84856772568665,
         "postalCode": "10466",
         "state": "NY"
        },
        "name": "Carvel Ice Cream",
        "referralId": "v-1571641530"
       }
      ],
      "text/plain": [
       "<IPython.core.display.JSON object>"
      ]
     },
     "execution_count": 169,
     "metadata": {
      "application/json": {
       "expanded": false,
       "root": "root"
      }
     },
     "output_type": "execute_result"
    }
   ],
   "source": [
    "JSON(test)"
   ]
  },
  {
   "cell_type": "code",
   "execution_count": 167,
   "metadata": {},
   "outputs": [],
   "source": [
    "venues=[]\n",
    "\n",
    "venues.append([(v['name'], \n",
    "                v['location']['lat'], \n",
    "                v['location']['lng'],  \n",
    "                v['categories'][0]['name']) for v in test])"
   ]
  },
  {
   "cell_type": "code",
   "execution_count": 168,
   "metadata": {},
   "outputs": [
    {
     "data": {
      "text/plain": [
       "[[('Carvel Ice Cream',\n",
       "   40.890486685759605,\n",
       "   -73.84856772568665,\n",
       "   'Ice Cream Shop')]]"
      ]
     },
     "execution_count": 168,
     "metadata": {},
     "output_type": "execute_result"
    }
   ],
   "source": [
    "venues"
   ]
  },
  {
   "cell_type": "code",
   "execution_count": 174,
   "metadata": {},
   "outputs": [
    {
     "name": "stdout",
     "output_type": "stream",
     "text": [
      "fsq_id\n",
      "categories\n",
      "chains\n",
      "distance\n",
      "geocodes\n",
      "location\n",
      "name\n",
      "related_places\n",
      "timezone\n"
     ]
    }
   ],
   "source": [
    "for i in nyc_venues:\n",
    "    print(i)"
   ]
  },
  {
   "cell_type": "code",
   "execution_count": 189,
   "metadata": {},
   "outputs": [
    {
     "ename": "TypeError",
     "evalue": "string indices must be integers",
     "output_type": "error",
     "traceback": [
      "\u001b[0;31m---------------------------------------------------------------------------\u001b[0m",
      "\u001b[0;31mTypeError\u001b[0m                                 Traceback (most recent call last)",
      "Input \u001b[0;32mIn [189]\u001b[0m, in \u001b[0;36m<module>\u001b[0;34m\u001b[0m\n\u001b[1;32m      1\u001b[0m venues_list\u001b[38;5;241m=\u001b[39m[]\n\u001b[0;32m----> 2\u001b[0m venues_list\u001b[38;5;241m.\u001b[39mappend([(df[\u001b[38;5;124m'\u001b[39m\u001b[38;5;124mneighborhood\u001b[39m\u001b[38;5;124m'\u001b[39m][:\u001b[38;5;241m1\u001b[39m],df[\u001b[38;5;124m'\u001b[39m\u001b[38;5;124mlatitude\u001b[39m\u001b[38;5;124m'\u001b[39m][:\u001b[38;5;241m1\u001b[39m],df[\u001b[38;5;124m'\u001b[39m\u001b[38;5;124mlongitude\u001b[39m\u001b[38;5;124m'\u001b[39m][:\u001b[38;5;241m1\u001b[39m],\n\u001b[1;32m      3\u001b[0m                                 v[\u001b[38;5;241m0\u001b[39m], \n\u001b[1;32m      4\u001b[0m                                v[\u001b[38;5;124m'\u001b[39m\u001b[38;5;124mgeocodes\u001b[39m\u001b[38;5;124m'\u001b[39m][\u001b[38;5;124m'\u001b[39m\u001b[38;5;124mmain\u001b[39m\u001b[38;5;124m'\u001b[39m][\u001b[38;5;124m'\u001b[39m\u001b[38;5;124mlatitude\u001b[39m\u001b[38;5;124m'\u001b[39m], \n\u001b[1;32m      5\u001b[0m                                 v[\u001b[38;5;124m'\u001b[39m\u001b[38;5;124mgeocodes\u001b[39m\u001b[38;5;124m'\u001b[39m][\u001b[38;5;124m'\u001b[39m\u001b[38;5;124mmain\u001b[39m\u001b[38;5;124m'\u001b[39m][\u001b[38;5;124m'\u001b[39m\u001b[38;5;124mlongitude\u001b[39m\u001b[38;5;124m'\u001b[39m],  \n\u001b[1;32m      6\u001b[0m                                 v[\u001b[38;5;124m'\u001b[39m\u001b[38;5;124mcategories\u001b[39m\u001b[38;5;124m'\u001b[39m][\u001b[38;5;241m0\u001b[39m][\u001b[38;5;124m'\u001b[39m\u001b[38;5;124mname\u001b[39m\u001b[38;5;124m'\u001b[39m]) \n\u001b[1;32m      7\u001b[0m                      \u001b[38;5;28;01mfor\u001b[39;00m v \u001b[38;5;129;01min\u001b[39;00m nyc_venues])\n",
      "Input \u001b[0;32mIn [189]\u001b[0m, in \u001b[0;36m<listcomp>\u001b[0;34m(.0)\u001b[0m\n\u001b[1;32m      1\u001b[0m venues_list\u001b[38;5;241m=\u001b[39m[]\n\u001b[1;32m      2\u001b[0m venues_list\u001b[38;5;241m.\u001b[39mappend([(df[\u001b[38;5;124m'\u001b[39m\u001b[38;5;124mneighborhood\u001b[39m\u001b[38;5;124m'\u001b[39m][:\u001b[38;5;241m1\u001b[39m],df[\u001b[38;5;124m'\u001b[39m\u001b[38;5;124mlatitude\u001b[39m\u001b[38;5;124m'\u001b[39m][:\u001b[38;5;241m1\u001b[39m],df[\u001b[38;5;124m'\u001b[39m\u001b[38;5;124mlongitude\u001b[39m\u001b[38;5;124m'\u001b[39m][:\u001b[38;5;241m1\u001b[39m],\n\u001b[1;32m      3\u001b[0m                                 v[\u001b[38;5;241m0\u001b[39m], \n\u001b[0;32m----> 4\u001b[0m                                \u001b[43mv\u001b[49m\u001b[43m[\u001b[49m\u001b[38;5;124;43m'\u001b[39;49m\u001b[38;5;124;43mgeocodes\u001b[39;49m\u001b[38;5;124;43m'\u001b[39;49m\u001b[43m]\u001b[49m[\u001b[38;5;124m'\u001b[39m\u001b[38;5;124mmain\u001b[39m\u001b[38;5;124m'\u001b[39m][\u001b[38;5;124m'\u001b[39m\u001b[38;5;124mlatitude\u001b[39m\u001b[38;5;124m'\u001b[39m], \n\u001b[1;32m      5\u001b[0m                                 v[\u001b[38;5;124m'\u001b[39m\u001b[38;5;124mgeocodes\u001b[39m\u001b[38;5;124m'\u001b[39m][\u001b[38;5;124m'\u001b[39m\u001b[38;5;124mmain\u001b[39m\u001b[38;5;124m'\u001b[39m][\u001b[38;5;124m'\u001b[39m\u001b[38;5;124mlongitude\u001b[39m\u001b[38;5;124m'\u001b[39m],  \n\u001b[1;32m      6\u001b[0m                                 v[\u001b[38;5;124m'\u001b[39m\u001b[38;5;124mcategories\u001b[39m\u001b[38;5;124m'\u001b[39m][\u001b[38;5;241m0\u001b[39m][\u001b[38;5;124m'\u001b[39m\u001b[38;5;124mname\u001b[39m\u001b[38;5;124m'\u001b[39m]) \n\u001b[1;32m      7\u001b[0m                      \u001b[38;5;28;01mfor\u001b[39;00m v \u001b[38;5;129;01min\u001b[39;00m nyc_venues])\n",
      "\u001b[0;31mTypeError\u001b[0m: string indices must be integers"
     ]
    }
   ],
   "source": [
    "venues_list=[]\n",
    "venues_list.append([(df['neighborhood'][:1],df['latitude'][:1],df['longitude'][:1],\n",
    "                                v[0], \n",
    "                     #           v['geocodes']['main']['latitude'], \n",
    "                     #            v['geocodes']['main']['longitude'],  \n",
    "                     #            v['categories'][0]['name']) \n",
    "                     # for v in nyc_venues])\n",
    "                                "
   ]
  },
  {
   "cell_type": "code",
   "execution_count": 188,
   "metadata": {},
   "outputs": [
    {
     "data": {
      "text/plain": [
       "[[(0    Wakefield\n",
       "   Name: neighborhood, dtype: object,\n",
       "   0    40.894705\n",
       "   Name: latitude, dtype: float64,\n",
       "   0   -73.847201\n",
       "   Name: longitude, dtype: float64,\n",
       "   'f'),\n",
       "  (0    Wakefield\n",
       "   Name: neighborhood, dtype: object,\n",
       "   0    40.894705\n",
       "   Name: latitude, dtype: float64,\n",
       "   0   -73.847201\n",
       "   Name: longitude, dtype: float64,\n",
       "   'c'),\n",
       "  (0    Wakefield\n",
       "   Name: neighborhood, dtype: object,\n",
       "   0    40.894705\n",
       "   Name: latitude, dtype: float64,\n",
       "   0   -73.847201\n",
       "   Name: longitude, dtype: float64,\n",
       "   'c'),\n",
       "  (0    Wakefield\n",
       "   Name: neighborhood, dtype: object,\n",
       "   0    40.894705\n",
       "   Name: latitude, dtype: float64,\n",
       "   0   -73.847201\n",
       "   Name: longitude, dtype: float64,\n",
       "   'd'),\n",
       "  (0    Wakefield\n",
       "   Name: neighborhood, dtype: object,\n",
       "   0    40.894705\n",
       "   Name: latitude, dtype: float64,\n",
       "   0   -73.847201\n",
       "   Name: longitude, dtype: float64,\n",
       "   'g'),\n",
       "  (0    Wakefield\n",
       "   Name: neighborhood, dtype: object,\n",
       "   0    40.894705\n",
       "   Name: latitude, dtype: float64,\n",
       "   0   -73.847201\n",
       "   Name: longitude, dtype: float64,\n",
       "   'l'),\n",
       "  (0    Wakefield\n",
       "   Name: neighborhood, dtype: object,\n",
       "   0    40.894705\n",
       "   Name: latitude, dtype: float64,\n",
       "   0   -73.847201\n",
       "   Name: longitude, dtype: float64,\n",
       "   'n'),\n",
       "  (0    Wakefield\n",
       "   Name: neighborhood, dtype: object,\n",
       "   0    40.894705\n",
       "   Name: latitude, dtype: float64,\n",
       "   0   -73.847201\n",
       "   Name: longitude, dtype: float64,\n",
       "   'r'),\n",
       "  (0    Wakefield\n",
       "   Name: neighborhood, dtype: object,\n",
       "   0    40.894705\n",
       "   Name: latitude, dtype: float64,\n",
       "   0   -73.847201\n",
       "   Name: longitude, dtype: float64,\n",
       "   't')]]"
      ]
     },
     "execution_count": 188,
     "metadata": {},
     "output_type": "execute_result"
    }
   ],
   "source": [
    "venues_list"
   ]
  },
  {
   "cell_type": "code",
   "execution_count": 171,
   "metadata": {},
   "outputs": [
    {
     "data": {
      "text/plain": [
       "[[(0    Wakefield\n",
       "   Name: neighborhood, dtype: object,\n",
       "   0    40.894705\n",
       "   Name: latitude, dtype: float64,\n",
       "   0   -73.847201\n",
       "   Name: longitude, dtype: float64,\n",
       "   'Lollipops Gelato',\n",
       "   40.893585,\n",
       "   -73.843692,\n",
       "   'Ice Cream Parlor'),\n",
       "  (0    Wakefield\n",
       "   Name: neighborhood, dtype: object,\n",
       "   0    40.894705\n",
       "   Name: latitude, dtype: float64,\n",
       "   0   -73.847201\n",
       "   Name: longitude, dtype: float64,\n",
       "   'Lollipops Gelato',\n",
       "   40.893585,\n",
       "   -73.843692,\n",
       "   'Ice Cream Parlor'),\n",
       "  (0    Wakefield\n",
       "   Name: neighborhood, dtype: object,\n",
       "   0    40.894705\n",
       "   Name: latitude, dtype: float64,\n",
       "   0   -73.847201\n",
       "   Name: longitude, dtype: float64,\n",
       "   'Lollipops Gelato',\n",
       "   40.893585,\n",
       "   -73.843692,\n",
       "   'Ice Cream Parlor'),\n",
       "  (0    Wakefield\n",
       "   Name: neighborhood, dtype: object,\n",
       "   0    40.894705\n",
       "   Name: latitude, dtype: float64,\n",
       "   0   -73.847201\n",
       "   Name: longitude, dtype: float64,\n",
       "   'Lollipops Gelato',\n",
       "   40.893585,\n",
       "   -73.843692,\n",
       "   'Ice Cream Parlor'),\n",
       "  (0    Wakefield\n",
       "   Name: neighborhood, dtype: object,\n",
       "   0    40.894705\n",
       "   Name: latitude, dtype: float64,\n",
       "   0   -73.847201\n",
       "   Name: longitude, dtype: float64,\n",
       "   'Lollipops Gelato',\n",
       "   40.893585,\n",
       "   -73.843692,\n",
       "   'Ice Cream Parlor'),\n",
       "  (0    Wakefield\n",
       "   Name: neighborhood, dtype: object,\n",
       "   0    40.894705\n",
       "   Name: latitude, dtype: float64,\n",
       "   0   -73.847201\n",
       "   Name: longitude, dtype: float64,\n",
       "   'Lollipops Gelato',\n",
       "   40.893585,\n",
       "   -73.843692,\n",
       "   'Ice Cream Parlor'),\n",
       "  (0    Wakefield\n",
       "   Name: neighborhood, dtype: object,\n",
       "   0    40.894705\n",
       "   Name: latitude, dtype: float64,\n",
       "   0   -73.847201\n",
       "   Name: longitude, dtype: float64,\n",
       "   'Lollipops Gelato',\n",
       "   40.893585,\n",
       "   -73.843692,\n",
       "   'Ice Cream Parlor'),\n",
       "  (0    Wakefield\n",
       "   Name: neighborhood, dtype: object,\n",
       "   0    40.894705\n",
       "   Name: latitude, dtype: float64,\n",
       "   0   -73.847201\n",
       "   Name: longitude, dtype: float64,\n",
       "   'Lollipops Gelato',\n",
       "   40.893585,\n",
       "   -73.843692,\n",
       "   'Ice Cream Parlor'),\n",
       "  (0    Wakefield\n",
       "   Name: neighborhood, dtype: object,\n",
       "   0    40.894705\n",
       "   Name: latitude, dtype: float64,\n",
       "   0   -73.847201\n",
       "   Name: longitude, dtype: float64,\n",
       "   'Lollipops Gelato',\n",
       "   40.893585,\n",
       "   -73.843692,\n",
       "   'Ice Cream Parlor')]]"
      ]
     },
     "execution_count": 171,
     "metadata": {},
     "output_type": "execute_result"
    }
   ],
   "source": [
    "venues_list"
   ]
  },
  {
   "cell_type": "code",
   "execution_count": 92,
   "metadata": {},
   "outputs": [
    {
     "name": "stdout",
     "output_type": "stream",
     "text": [
      "***Start  . . . . . . . . . . . . . . . . . . . . . . . . . . . . . . . . . . . . . . . . . . . . . . . . . . . . . . . . . . . . . . . . . . . . . . . . . . . . . . . . . . . . . . . . . . . . . . . . . . . . . . . . . . . . . . . . . . . . . . . . . . . . . . . . . . . . . . . . . . . . . . . . . . . . . . . . . . . . . . . . . . . . . . . . . . . . . . . . . . . . . . . . . . . . . . . . . . . . . . . . . . . . . . . . . . . . . . . . . . . . . . . . . . . . . . . . . . . . . . . . . . . . . . . . . . . . . . . . . . . . . . . . . . . . . . . . . . . . . . . . . . . . . . . . . . . . . . . . . . . . . . . . . ."
     ]
    },
    {
     "ename": "ValueError",
     "evalue": "Length mismatch: Expected axis has 0 elements, new values have 7 elements",
     "output_type": "error",
     "traceback": [
      "\u001b[0;31m---------------------------------------------------------------------------\u001b[0m",
      "\u001b[0;31mValueError\u001b[0m                                Traceback (most recent call last)",
      "Input \u001b[0;32mIn [92]\u001b[0m, in \u001b[0;36m<module>\u001b[0;34m\u001b[0m\n\u001b[0;32m----> 1\u001b[0m nyc_venues \u001b[38;5;241m=\u001b[39m \u001b[43mgetNearbyFood\u001b[49m\u001b[43m(\u001b[49m\u001b[43mnames\u001b[49m\u001b[38;5;241;43m=\u001b[39;49m\u001b[43mdf\u001b[49m\u001b[43m[\u001b[49m\u001b[38;5;124;43m'\u001b[39;49m\u001b[38;5;124;43mneighborhood\u001b[39;49m\u001b[38;5;124;43m'\u001b[39;49m\u001b[43m]\u001b[49m\u001b[43m,\u001b[49m\n\u001b[1;32m      2\u001b[0m \u001b[43m                                       \u001b[49m\u001b[43mlatitudes\u001b[49m\u001b[38;5;241;43m=\u001b[39;49m\u001b[43mdf\u001b[49m\u001b[43m[\u001b[49m\u001b[38;5;124;43m'\u001b[39;49m\u001b[38;5;124;43mlatitude\u001b[39;49m\u001b[38;5;124;43m'\u001b[39;49m\u001b[43m]\u001b[49m\u001b[43m,\u001b[49m\n\u001b[1;32m      3\u001b[0m \u001b[43m                                       \u001b[49m\u001b[43mlongitudes\u001b[49m\u001b[38;5;241;43m=\u001b[39;49m\u001b[43mdf\u001b[49m\u001b[43m[\u001b[49m\u001b[38;5;124;43m'\u001b[39;49m\u001b[38;5;124;43mlongitude\u001b[39;49m\u001b[38;5;124;43m'\u001b[39;49m\u001b[43m]\u001b[49m\n\u001b[1;32m      4\u001b[0m \u001b[43m                                      \u001b[49m\u001b[43m)\u001b[49m\n",
      "Input \u001b[0;32mIn [87]\u001b[0m, in \u001b[0;36mgetNearbyFood\u001b[0;34m(names, latitudes, longitudes, radius, LIMIT)\u001b[0m\n\u001b[1;32m     36\u001b[0m         not_found \u001b[38;5;241m+\u001b[39m\u001b[38;5;241m=\u001b[39m \u001b[38;5;241m1\u001b[39m\n\u001b[1;32m     39\u001b[0m nearby_venues \u001b[38;5;241m=\u001b[39m pd\u001b[38;5;241m.\u001b[39mDataFrame([item \u001b[38;5;28;01mfor\u001b[39;00m venue_list \u001b[38;5;129;01min\u001b[39;00m venues_list \u001b[38;5;28;01mfor\u001b[39;00m item \u001b[38;5;129;01min\u001b[39;00m venue_list])\n\u001b[0;32m---> 40\u001b[0m nearby_venues\u001b[38;5;241m.\u001b[39mcolumns \u001b[38;5;241m=\u001b[39m [\u001b[38;5;124m'\u001b[39m\u001b[38;5;124mNeighborhood\u001b[39m\u001b[38;5;124m'\u001b[39m, \n\u001b[1;32m     41\u001b[0m               \u001b[38;5;124m'\u001b[39m\u001b[38;5;124mNeighborhood Latitude\u001b[39m\u001b[38;5;124m'\u001b[39m, \n\u001b[1;32m     42\u001b[0m               \u001b[38;5;124m'\u001b[39m\u001b[38;5;124mNeighborhood Longitude\u001b[39m\u001b[38;5;124m'\u001b[39m, \n\u001b[1;32m     43\u001b[0m               \u001b[38;5;124m'\u001b[39m\u001b[38;5;124mVenue\u001b[39m\u001b[38;5;124m'\u001b[39m, \n\u001b[1;32m     44\u001b[0m               \u001b[38;5;124m'\u001b[39m\u001b[38;5;124mVenue Latitude\u001b[39m\u001b[38;5;124m'\u001b[39m, \n\u001b[1;32m     45\u001b[0m               \u001b[38;5;124m'\u001b[39m\u001b[38;5;124mVenue Longitude\u001b[39m\u001b[38;5;124m'\u001b[39m, \n\u001b[1;32m     46\u001b[0m               \u001b[38;5;124m'\u001b[39m\u001b[38;5;124mVenue Category\u001b[39m\u001b[38;5;124m'\u001b[39m]\n\u001b[1;32m     47\u001b[0m \u001b[38;5;28mprint\u001b[39m(\u001b[38;5;124m\"\u001b[39m\u001b[38;5;130;01m\\n\u001b[39;00m\u001b[38;5;124mDone*** with \u001b[39m\u001b[38;5;132;01m{}\u001b[39;00m\u001b[38;5;124m venues with incompelete information.\u001b[39m\u001b[38;5;124m\"\u001b[39m\u001b[38;5;241m.\u001b[39mformat(not_found))\n\u001b[1;32m     48\u001b[0m \u001b[38;5;28;01mreturn\u001b[39;00m(nearby_venues)\n",
      "File \u001b[0;32m/usr/local/Caskroom/miniforge/base/envs/lhl/lib/python3.8/site-packages/pandas/core/generic.py:5596\u001b[0m, in \u001b[0;36mNDFrame.__setattr__\u001b[0;34m(self, name, value)\u001b[0m\n\u001b[1;32m   5594\u001b[0m \u001b[38;5;28;01mtry\u001b[39;00m:\n\u001b[1;32m   5595\u001b[0m     \u001b[38;5;28mobject\u001b[39m\u001b[38;5;241m.\u001b[39m\u001b[38;5;21m__getattribute__\u001b[39m(\u001b[38;5;28mself\u001b[39m, name)\n\u001b[0;32m-> 5596\u001b[0m     \u001b[38;5;28;01mreturn\u001b[39;00m \u001b[38;5;28;43mobject\u001b[39;49m\u001b[38;5;241;43m.\u001b[39;49m\u001b[38;5;21;43m__setattr__\u001b[39;49m\u001b[43m(\u001b[49m\u001b[38;5;28;43mself\u001b[39;49m\u001b[43m,\u001b[49m\u001b[43m \u001b[49m\u001b[43mname\u001b[49m\u001b[43m,\u001b[49m\u001b[43m \u001b[49m\u001b[43mvalue\u001b[49m\u001b[43m)\u001b[49m\n\u001b[1;32m   5597\u001b[0m \u001b[38;5;28;01mexcept\u001b[39;00m \u001b[38;5;167;01mAttributeError\u001b[39;00m:\n\u001b[1;32m   5598\u001b[0m     \u001b[38;5;28;01mpass\u001b[39;00m\n",
      "File \u001b[0;32m/usr/local/Caskroom/miniforge/base/envs/lhl/lib/python3.8/site-packages/pandas/_libs/properties.pyx:70\u001b[0m, in \u001b[0;36mpandas._libs.properties.AxisProperty.__set__\u001b[0;34m()\u001b[0m\n",
      "File \u001b[0;32m/usr/local/Caskroom/miniforge/base/envs/lhl/lib/python3.8/site-packages/pandas/core/generic.py:769\u001b[0m, in \u001b[0;36mNDFrame._set_axis\u001b[0;34m(self, axis, labels)\u001b[0m\n\u001b[1;32m    767\u001b[0m \u001b[38;5;28;01mdef\u001b[39;00m \u001b[38;5;21m_set_axis\u001b[39m(\u001b[38;5;28mself\u001b[39m, axis: \u001b[38;5;28mint\u001b[39m, labels: Index) \u001b[38;5;241m-\u001b[39m\u001b[38;5;241m>\u001b[39m \u001b[38;5;28;01mNone\u001b[39;00m:\n\u001b[1;32m    768\u001b[0m     labels \u001b[38;5;241m=\u001b[39m ensure_index(labels)\n\u001b[0;32m--> 769\u001b[0m     \u001b[38;5;28;43mself\u001b[39;49m\u001b[38;5;241;43m.\u001b[39;49m\u001b[43m_mgr\u001b[49m\u001b[38;5;241;43m.\u001b[39;49m\u001b[43mset_axis\u001b[49m\u001b[43m(\u001b[49m\u001b[43maxis\u001b[49m\u001b[43m,\u001b[49m\u001b[43m \u001b[49m\u001b[43mlabels\u001b[49m\u001b[43m)\u001b[49m\n\u001b[1;32m    770\u001b[0m     \u001b[38;5;28mself\u001b[39m\u001b[38;5;241m.\u001b[39m_clear_item_cache()\n",
      "File \u001b[0;32m/usr/local/Caskroom/miniforge/base/envs/lhl/lib/python3.8/site-packages/pandas/core/internals/managers.py:214\u001b[0m, in \u001b[0;36mBaseBlockManager.set_axis\u001b[0;34m(self, axis, new_labels)\u001b[0m\n\u001b[1;32m    212\u001b[0m \u001b[38;5;28;01mdef\u001b[39;00m \u001b[38;5;21mset_axis\u001b[39m(\u001b[38;5;28mself\u001b[39m, axis: \u001b[38;5;28mint\u001b[39m, new_labels: Index) \u001b[38;5;241m-\u001b[39m\u001b[38;5;241m>\u001b[39m \u001b[38;5;28;01mNone\u001b[39;00m:\n\u001b[1;32m    213\u001b[0m     \u001b[38;5;66;03m# Caller is responsible for ensuring we have an Index object.\u001b[39;00m\n\u001b[0;32m--> 214\u001b[0m     \u001b[38;5;28;43mself\u001b[39;49m\u001b[38;5;241;43m.\u001b[39;49m\u001b[43m_validate_set_axis\u001b[49m\u001b[43m(\u001b[49m\u001b[43maxis\u001b[49m\u001b[43m,\u001b[49m\u001b[43m \u001b[49m\u001b[43mnew_labels\u001b[49m\u001b[43m)\u001b[49m\n\u001b[1;32m    215\u001b[0m     \u001b[38;5;28mself\u001b[39m\u001b[38;5;241m.\u001b[39maxes[axis] \u001b[38;5;241m=\u001b[39m new_labels\n",
      "File \u001b[0;32m/usr/local/Caskroom/miniforge/base/envs/lhl/lib/python3.8/site-packages/pandas/core/internals/base.py:69\u001b[0m, in \u001b[0;36mDataManager._validate_set_axis\u001b[0;34m(self, axis, new_labels)\u001b[0m\n\u001b[1;32m     66\u001b[0m     \u001b[38;5;28;01mpass\u001b[39;00m\n\u001b[1;32m     68\u001b[0m \u001b[38;5;28;01melif\u001b[39;00m new_len \u001b[38;5;241m!=\u001b[39m old_len:\n\u001b[0;32m---> 69\u001b[0m     \u001b[38;5;28;01mraise\u001b[39;00m \u001b[38;5;167;01mValueError\u001b[39;00m(\n\u001b[1;32m     70\u001b[0m         \u001b[38;5;124mf\u001b[39m\u001b[38;5;124m\"\u001b[39m\u001b[38;5;124mLength mismatch: Expected axis has \u001b[39m\u001b[38;5;132;01m{\u001b[39;00mold_len\u001b[38;5;132;01m}\u001b[39;00m\u001b[38;5;124m elements, new \u001b[39m\u001b[38;5;124m\"\u001b[39m\n\u001b[1;32m     71\u001b[0m         \u001b[38;5;124mf\u001b[39m\u001b[38;5;124m\"\u001b[39m\u001b[38;5;124mvalues have \u001b[39m\u001b[38;5;132;01m{\u001b[39;00mnew_len\u001b[38;5;132;01m}\u001b[39;00m\u001b[38;5;124m elements\u001b[39m\u001b[38;5;124m\"\u001b[39m\n\u001b[1;32m     72\u001b[0m     )\n",
      "\u001b[0;31mValueError\u001b[0m: Length mismatch: Expected axis has 0 elements, new values have 7 elements"
     ]
    }
   ],
   "source": [
    " nyc_venues = getNearbyFood(names=df['neighborhood'],\n",
    "                                        latitudes=df['latitude'],\n",
    "                                        longitudes=df['longitude']\n",
    "                                       )"
   ]
  },
  {
   "cell_type": "code",
   "execution_count": 90,
   "metadata": {},
   "outputs": [
    {
     "name": "stdout",
     "output_type": "stream",
     "text": [
      "***Start  . . . . . . . . . . . . . . . . . . . . . . . . . . . . . . . . . . . . . . . . . . . . . . . . . . . . . . . . . . . . . . . . . . . . . . . . . . . . . . . . . . . . . . . . . . . . . . . . . . . . . . . . . . . . . . . . . . . . . . . . . . . . . . . . . . . . . . . . . . . . . . . . . . . . . . . . . . . . . . . . . . . . . . . . . . . . . . . . . . . . . . . . . . . . . . . . . . . . . . . . . . . . . . . . . . . . . . . . . . . . . . . . . . . . . . . . . . . . . . . . . . . . . . . . . . . . . . . . . . . . . . . . . . . . . . . . . . . . . . . . . . . . . . . . . . . . . . . . . . . . . . . . . ."
     ]
    },
    {
     "ename": "ValueError",
     "evalue": "Length mismatch: Expected axis has 0 elements, new values have 7 elements",
     "output_type": "error",
     "traceback": [
      "\u001b[0;31m---------------------------------------------------------------------------\u001b[0m",
      "\u001b[0;31mFileNotFoundError\u001b[0m                         Traceback (most recent call last)",
      "Input \u001b[0;32mIn [90]\u001b[0m, in \u001b[0;36m<module>\u001b[0;34m\u001b[0m\n\u001b[1;32m      2\u001b[0m \u001b[38;5;28;01mtry\u001b[39;00m:\n\u001b[0;32m----> 3\u001b[0m     \u001b[38;5;28;01mwith\u001b[39;00m \u001b[38;5;28;43mopen\u001b[39;49m\u001b[43m(\u001b[49m\u001b[38;5;124;43m'\u001b[39;49m\u001b[38;5;124;43mnyc_food_venues.pkl\u001b[39;49m\u001b[38;5;124;43m'\u001b[39;49m\u001b[43m,\u001b[49m\u001b[43m \u001b[49m\u001b[38;5;124;43m'\u001b[39;49m\u001b[38;5;124;43mrb\u001b[39;49m\u001b[38;5;124;43m'\u001b[39;49m\u001b[43m)\u001b[49m \u001b[38;5;28;01mas\u001b[39;00m f:\n\u001b[1;32m      4\u001b[0m         nyc_venues \u001b[38;5;241m=\u001b[39m pickle\u001b[38;5;241m.\u001b[39mload(f)\n",
      "\u001b[0;31mFileNotFoundError\u001b[0m: [Errno 2] No such file or directory: 'nyc_food_venues.pkl'",
      "\nDuring handling of the above exception, another exception occurred:\n",
      "\u001b[0;31mValueError\u001b[0m                                Traceback (most recent call last)",
      "Input \u001b[0;32mIn [90]\u001b[0m, in \u001b[0;36m<module>\u001b[0;34m\u001b[0m\n\u001b[1;32m      5\u001b[0m     \u001b[38;5;28mprint\u001b[39m(\u001b[38;5;124m\"\u001b[39m\u001b[38;5;124m---Dataframe Existed and Deserialized---\u001b[39m\u001b[38;5;124m\"\u001b[39m)\n\u001b[1;32m      6\u001b[0m \u001b[38;5;28;01mexcept\u001b[39;00m:\n\u001b[0;32m----> 7\u001b[0m     nyc_venues \u001b[38;5;241m=\u001b[39m \u001b[43mgetNearbyFood\u001b[49m\u001b[43m(\u001b[49m\u001b[43mnames\u001b[49m\u001b[38;5;241;43m=\u001b[39;49m\u001b[43mdf\u001b[49m\u001b[43m[\u001b[49m\u001b[38;5;124;43m'\u001b[39;49m\u001b[38;5;124;43mneighborhood\u001b[39;49m\u001b[38;5;124;43m'\u001b[39;49m\u001b[43m]\u001b[49m\u001b[43m,\u001b[49m\n\u001b[1;32m      8\u001b[0m \u001b[43m                                        \u001b[49m\u001b[43mlatitudes\u001b[49m\u001b[38;5;241;43m=\u001b[39;49m\u001b[43mdf\u001b[49m\u001b[43m[\u001b[49m\u001b[38;5;124;43m'\u001b[39;49m\u001b[38;5;124;43mlatitude\u001b[39;49m\u001b[38;5;124;43m'\u001b[39;49m\u001b[43m]\u001b[49m\u001b[43m,\u001b[49m\n\u001b[1;32m      9\u001b[0m \u001b[43m                                        \u001b[49m\u001b[43mlongitudes\u001b[49m\u001b[38;5;241;43m=\u001b[39;49m\u001b[43mdf\u001b[49m\u001b[43m[\u001b[49m\u001b[38;5;124;43m'\u001b[39;49m\u001b[38;5;124;43mlongitude\u001b[39;49m\u001b[38;5;124;43m'\u001b[39;49m\u001b[43m]\u001b[49m\n\u001b[1;32m     10\u001b[0m \u001b[43m                                       \u001b[49m\u001b[43m)\u001b[49m\n\u001b[1;32m     11\u001b[0m     \u001b[38;5;28;01mwith\u001b[39;00m \u001b[38;5;28mopen\u001b[39m(\u001b[38;5;124m'\u001b[39m\u001b[38;5;124mnyc_food_venues.pkl\u001b[39m\u001b[38;5;124m'\u001b[39m, \u001b[38;5;124m'\u001b[39m\u001b[38;5;124mwb\u001b[39m\u001b[38;5;124m'\u001b[39m) \u001b[38;5;28;01mas\u001b[39;00m f:\n\u001b[1;32m     12\u001b[0m         pickle\u001b[38;5;241m.\u001b[39mdump(nyc_venues, f)\n",
      "Input \u001b[0;32mIn [87]\u001b[0m, in \u001b[0;36mgetNearbyFood\u001b[0;34m(names, latitudes, longitudes, radius, LIMIT)\u001b[0m\n\u001b[1;32m     36\u001b[0m         not_found \u001b[38;5;241m+\u001b[39m\u001b[38;5;241m=\u001b[39m \u001b[38;5;241m1\u001b[39m\n\u001b[1;32m     39\u001b[0m nearby_venues \u001b[38;5;241m=\u001b[39m pd\u001b[38;5;241m.\u001b[39mDataFrame([item \u001b[38;5;28;01mfor\u001b[39;00m venue_list \u001b[38;5;129;01min\u001b[39;00m venues_list \u001b[38;5;28;01mfor\u001b[39;00m item \u001b[38;5;129;01min\u001b[39;00m venue_list])\n\u001b[0;32m---> 40\u001b[0m nearby_venues\u001b[38;5;241m.\u001b[39mcolumns \u001b[38;5;241m=\u001b[39m [\u001b[38;5;124m'\u001b[39m\u001b[38;5;124mNeighborhood\u001b[39m\u001b[38;5;124m'\u001b[39m, \n\u001b[1;32m     41\u001b[0m               \u001b[38;5;124m'\u001b[39m\u001b[38;5;124mNeighborhood Latitude\u001b[39m\u001b[38;5;124m'\u001b[39m, \n\u001b[1;32m     42\u001b[0m               \u001b[38;5;124m'\u001b[39m\u001b[38;5;124mNeighborhood Longitude\u001b[39m\u001b[38;5;124m'\u001b[39m, \n\u001b[1;32m     43\u001b[0m               \u001b[38;5;124m'\u001b[39m\u001b[38;5;124mVenue\u001b[39m\u001b[38;5;124m'\u001b[39m, \n\u001b[1;32m     44\u001b[0m               \u001b[38;5;124m'\u001b[39m\u001b[38;5;124mVenue Latitude\u001b[39m\u001b[38;5;124m'\u001b[39m, \n\u001b[1;32m     45\u001b[0m               \u001b[38;5;124m'\u001b[39m\u001b[38;5;124mVenue Longitude\u001b[39m\u001b[38;5;124m'\u001b[39m, \n\u001b[1;32m     46\u001b[0m               \u001b[38;5;124m'\u001b[39m\u001b[38;5;124mVenue Category\u001b[39m\u001b[38;5;124m'\u001b[39m]\n\u001b[1;32m     47\u001b[0m \u001b[38;5;28mprint\u001b[39m(\u001b[38;5;124m\"\u001b[39m\u001b[38;5;130;01m\\n\u001b[39;00m\u001b[38;5;124mDone*** with \u001b[39m\u001b[38;5;132;01m{}\u001b[39;00m\u001b[38;5;124m venues with incompelete information.\u001b[39m\u001b[38;5;124m\"\u001b[39m\u001b[38;5;241m.\u001b[39mformat(not_found))\n\u001b[1;32m     48\u001b[0m \u001b[38;5;28;01mreturn\u001b[39;00m(nearby_venues)\n",
      "File \u001b[0;32m/usr/local/Caskroom/miniforge/base/envs/lhl/lib/python3.8/site-packages/pandas/core/generic.py:5596\u001b[0m, in \u001b[0;36mNDFrame.__setattr__\u001b[0;34m(self, name, value)\u001b[0m\n\u001b[1;32m   5594\u001b[0m \u001b[38;5;28;01mtry\u001b[39;00m:\n\u001b[1;32m   5595\u001b[0m     \u001b[38;5;28mobject\u001b[39m\u001b[38;5;241m.\u001b[39m\u001b[38;5;21m__getattribute__\u001b[39m(\u001b[38;5;28mself\u001b[39m, name)\n\u001b[0;32m-> 5596\u001b[0m     \u001b[38;5;28;01mreturn\u001b[39;00m \u001b[38;5;28;43mobject\u001b[39;49m\u001b[38;5;241;43m.\u001b[39;49m\u001b[38;5;21;43m__setattr__\u001b[39;49m\u001b[43m(\u001b[49m\u001b[38;5;28;43mself\u001b[39;49m\u001b[43m,\u001b[49m\u001b[43m \u001b[49m\u001b[43mname\u001b[49m\u001b[43m,\u001b[49m\u001b[43m \u001b[49m\u001b[43mvalue\u001b[49m\u001b[43m)\u001b[49m\n\u001b[1;32m   5597\u001b[0m \u001b[38;5;28;01mexcept\u001b[39;00m \u001b[38;5;167;01mAttributeError\u001b[39;00m:\n\u001b[1;32m   5598\u001b[0m     \u001b[38;5;28;01mpass\u001b[39;00m\n",
      "File \u001b[0;32m/usr/local/Caskroom/miniforge/base/envs/lhl/lib/python3.8/site-packages/pandas/_libs/properties.pyx:70\u001b[0m, in \u001b[0;36mpandas._libs.properties.AxisProperty.__set__\u001b[0;34m()\u001b[0m\n",
      "File \u001b[0;32m/usr/local/Caskroom/miniforge/base/envs/lhl/lib/python3.8/site-packages/pandas/core/generic.py:769\u001b[0m, in \u001b[0;36mNDFrame._set_axis\u001b[0;34m(self, axis, labels)\u001b[0m\n\u001b[1;32m    767\u001b[0m \u001b[38;5;28;01mdef\u001b[39;00m \u001b[38;5;21m_set_axis\u001b[39m(\u001b[38;5;28mself\u001b[39m, axis: \u001b[38;5;28mint\u001b[39m, labels: Index) \u001b[38;5;241m-\u001b[39m\u001b[38;5;241m>\u001b[39m \u001b[38;5;28;01mNone\u001b[39;00m:\n\u001b[1;32m    768\u001b[0m     labels \u001b[38;5;241m=\u001b[39m ensure_index(labels)\n\u001b[0;32m--> 769\u001b[0m     \u001b[38;5;28;43mself\u001b[39;49m\u001b[38;5;241;43m.\u001b[39;49m\u001b[43m_mgr\u001b[49m\u001b[38;5;241;43m.\u001b[39;49m\u001b[43mset_axis\u001b[49m\u001b[43m(\u001b[49m\u001b[43maxis\u001b[49m\u001b[43m,\u001b[49m\u001b[43m \u001b[49m\u001b[43mlabels\u001b[49m\u001b[43m)\u001b[49m\n\u001b[1;32m    770\u001b[0m     \u001b[38;5;28mself\u001b[39m\u001b[38;5;241m.\u001b[39m_clear_item_cache()\n",
      "File \u001b[0;32m/usr/local/Caskroom/miniforge/base/envs/lhl/lib/python3.8/site-packages/pandas/core/internals/managers.py:214\u001b[0m, in \u001b[0;36mBaseBlockManager.set_axis\u001b[0;34m(self, axis, new_labels)\u001b[0m\n\u001b[1;32m    212\u001b[0m \u001b[38;5;28;01mdef\u001b[39;00m \u001b[38;5;21mset_axis\u001b[39m(\u001b[38;5;28mself\u001b[39m, axis: \u001b[38;5;28mint\u001b[39m, new_labels: Index) \u001b[38;5;241m-\u001b[39m\u001b[38;5;241m>\u001b[39m \u001b[38;5;28;01mNone\u001b[39;00m:\n\u001b[1;32m    213\u001b[0m     \u001b[38;5;66;03m# Caller is responsible for ensuring we have an Index object.\u001b[39;00m\n\u001b[0;32m--> 214\u001b[0m     \u001b[38;5;28;43mself\u001b[39;49m\u001b[38;5;241;43m.\u001b[39;49m\u001b[43m_validate_set_axis\u001b[49m\u001b[43m(\u001b[49m\u001b[43maxis\u001b[49m\u001b[43m,\u001b[49m\u001b[43m \u001b[49m\u001b[43mnew_labels\u001b[49m\u001b[43m)\u001b[49m\n\u001b[1;32m    215\u001b[0m     \u001b[38;5;28mself\u001b[39m\u001b[38;5;241m.\u001b[39maxes[axis] \u001b[38;5;241m=\u001b[39m new_labels\n",
      "File \u001b[0;32m/usr/local/Caskroom/miniforge/base/envs/lhl/lib/python3.8/site-packages/pandas/core/internals/base.py:69\u001b[0m, in \u001b[0;36mDataManager._validate_set_axis\u001b[0;34m(self, axis, new_labels)\u001b[0m\n\u001b[1;32m     66\u001b[0m     \u001b[38;5;28;01mpass\u001b[39;00m\n\u001b[1;32m     68\u001b[0m \u001b[38;5;28;01melif\u001b[39;00m new_len \u001b[38;5;241m!=\u001b[39m old_len:\n\u001b[0;32m---> 69\u001b[0m     \u001b[38;5;28;01mraise\u001b[39;00m \u001b[38;5;167;01mValueError\u001b[39;00m(\n\u001b[1;32m     70\u001b[0m         \u001b[38;5;124mf\u001b[39m\u001b[38;5;124m\"\u001b[39m\u001b[38;5;124mLength mismatch: Expected axis has \u001b[39m\u001b[38;5;132;01m{\u001b[39;00mold_len\u001b[38;5;132;01m}\u001b[39;00m\u001b[38;5;124m elements, new \u001b[39m\u001b[38;5;124m\"\u001b[39m\n\u001b[1;32m     71\u001b[0m         \u001b[38;5;124mf\u001b[39m\u001b[38;5;124m\"\u001b[39m\u001b[38;5;124mvalues have \u001b[39m\u001b[38;5;132;01m{\u001b[39;00mnew_len\u001b[38;5;132;01m}\u001b[39;00m\u001b[38;5;124m elements\u001b[39m\u001b[38;5;124m\"\u001b[39m\n\u001b[1;32m     72\u001b[0m     )\n",
      "\u001b[0;31mValueError\u001b[0m: Length mismatch: Expected axis has 0 elements, new values have 7 elements"
     ]
    }
   ],
   "source": [
    "import pickle # to serialize and deserialize a Python object structure\n",
    "try:\n",
    "    with open('nyc_food_venues.pkl', 'rb') as f:\n",
    "        nyc_venues = pickle.load(f)\n",
    "    print(\"---Dataframe Existed and Deserialized---\")\n",
    "except:\n",
    "    nyc_venues = getNearbyFood(names=df['neighborhood'],\n",
    "                                        latitudes=df['latitude'],\n",
    "                                        longitudes=df['longitude']\n",
    "                                       )\n",
    "    with open('nyc_food_venues.pkl', 'wb') as f:\n",
    "        pickle.dump(nyc_venues, f)\n",
    "    print(\"---Dataframe Created and Serialized---\")"
   ]
  },
  {
   "cell_type": "markdown",
   "metadata": {},
   "source": [
    "### Task\n",
    "\n",
    "Visualize the neigborhoods in the graph."
   ]
  },
  {
   "cell_type": "code",
   "execution_count": 91,
   "metadata": {},
   "outputs": [
    {
     "ename": "NameError",
     "evalue": "name 'nyc_venues' is not defined",
     "output_type": "error",
     "traceback": [
      "\u001b[0;31m---------------------------------------------------------------------------\u001b[0m",
      "\u001b[0;31mNameError\u001b[0m                                 Traceback (most recent call last)",
      "Input \u001b[0;32mIn [91]\u001b[0m, in \u001b[0;36m<module>\u001b[0;34m\u001b[0m\n\u001b[0;32m----> 1\u001b[0m \u001b[38;5;28mprint\u001b[39m(\u001b[43mnyc_venues\u001b[49m\u001b[38;5;241m.\u001b[39mshape)\n",
      "\u001b[0;31mNameError\u001b[0m: name 'nyc_venues' is not defined"
     ]
    }
   ],
   "source": [
    "print(nyc_venues.shape)"
   ]
  },
  {
   "cell_type": "code",
   "execution_count": null,
   "metadata": {},
   "outputs": [],
   "source": []
  },
  {
   "cell_type": "code",
   "execution_count": null,
   "metadata": {},
   "outputs": [],
   "source": []
  },
  {
   "cell_type": "code",
   "execution_count": null,
   "metadata": {},
   "outputs": [],
   "source": []
  }
 ],
 "metadata": {
  "kernelspec": {
   "display_name": "lhl",
   "language": "python",
   "name": "lhl"
  },
  "language_info": {
   "codemirror_mode": {
    "name": "ipython",
    "version": 3
   },
   "file_extension": ".py",
   "mimetype": "text/x-python",
   "name": "python",
   "nbconvert_exporter": "python",
   "pygments_lexer": "ipython3",
   "version": "3.8.12"
  }
 },
 "nbformat": 4,
 "nbformat_minor": 4
}
